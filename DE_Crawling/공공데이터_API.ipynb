{
 "cells": [
  {
   "cell_type": "markdown",
   "id": "8719d2eb-73fb-46e3-b4be-172199540b45",
   "metadata": {},
   "source": [
    "# **공공데이터 API**"
   ]
  },
  {
   "cell_type": "markdown",
   "id": "254a78a8-d700-491b-a77b-f929b171f7fb",
   "metadata": {},
   "source": [
    "## **💊 국립 중앙 의료원 전국 약국정보 조회 서비스**\n",
    "- 제공 사이트 : https://www.data.go.kr/data/15082972/fileData.do\n",
    "- 연결 url : http://apis.data.go.kr/B552657/ErmctInsttInfoInqireService/getParmacyListInfoInqire"
   ]
  },
  {
   "cell_type": "code",
   "execution_count": 1,
   "id": "dfa6625d-7930-4a9a-a349-19fc64881d84",
   "metadata": {},
   "outputs": [],
   "source": [
    "# 패키지 임포트\n",
    "from urllib.parse import quote\n",
    "import requests\n",
    "from bs4 import BeautifulSoup\n",
    "import pandas as pd"
   ]
  },
  {
   "cell_type": "code",
   "execution_count": 2,
   "id": "eeefa0cb-91fb-402d-9d9b-27e359c40651",
   "metadata": {},
   "outputs": [],
   "source": [
    "# 인증 정보 \n",
    "endpoint = 'http://apis.data.go.kr/B552657/ErmctInsttInfoInqireService/getParmacyListInfoInqire'\n",
    "servicekey = 'A%2FLibLzqJYxdVmaSOkiV1tEpAtMh%2BIdGZ2xguIeyP6y%2F2A2I1sePtrX8CTQTalhHj4V2SO%2F2nhAEXmMypKTBmQ%3D%3D'"
   ]
  },
  {
   "cell_type": "markdown",
   "id": "6c7ceb26-9510-4ebb-af55-8555f86e3ec4",
   "metadata": {
    "jp-MarkdownHeadingCollapsed": true
   },
   "source": [
    "### **🔸'서울특별시 강남구'에 있는 '삼성약국'을 조회해보자**"
   ]
  },
  {
   "cell_type": "code",
   "execution_count": 3,
   "id": "1b886635-2e33-4ce5-b309-7291147fcf84",
   "metadata": {},
   "outputs": [],
   "source": [
    "# 변수명과 파라미터명 매칭시켜서 파라미터 값 설명\n",
    "Q0 = quote('서울특별시') # 광역시도\n",
    "Q1 = quote('강남구') # 시군구\n",
    "QT = '1' # 약국 영업 요일\n",
    "QN = quote('삼성약국') # 검색하고자 하는 약국의 이름\n",
    "ORD = 'NAME' # 정렬기준\n",
    "numOfRows = '10' # 추출 데이터 목록 건수 "
   ]
  },
  {
   "cell_type": "code",
   "execution_count": 4,
   "id": "c4f92dbd-3e70-49d1-b54d-39f14c848e76",
   "metadata": {},
   "outputs": [
    {
     "data": {
      "text/plain": [
       "'?servicekey=A%2FLibLzqJYxdVmaSOkiV1tEpAtMh%2BIdGZ2xguIeyP6y%2F2A2I1sePtrX8CTQTalhHj4V2SO%2F2nhAEXmMypKTBmQ%3D%3D&QT=1&QN=%EC%82%BC%EC%84%B1%EC%95%BD%EA%B5%AD&Q0=%EC%84%9C%EC%9A%B8%ED%8A%B9%EB%B3%84%EC%8B%9C&Q1=%EA%B0%95%EB%82%A8%EA%B5%AC&ORD=NAME&numOfRows=10'"
      ]
     },
     "execution_count": 4,
     "metadata": {},
     "output_type": "execute_result"
    }
   ],
   "source": [
    "# 파라미터 생성\n",
    "paramset = '?servicekey='+servicekey + \\\n",
    "            '&QT='+QT + \\\n",
    "            '&QN='+QN + \\\n",
    "            '&Q0='+Q0 + \\\n",
    "            '&Q1='+Q1 + \\\n",
    "            '&ORD='+ORD + '&numOfRows='+numOfRows\n",
    "paramset"
   ]
  },
  {
   "cell_type": "code",
   "execution_count": 5,
   "id": "41a0bef5-deab-4ef6-944a-7e2f72089307",
   "metadata": {},
   "outputs": [
    {
     "data": {
      "text/plain": [
       "'http://apis.data.go.kr/B552657/ErmctInsttInfoInqireService/getParmacyListInfoInqire?servicekey=A%2FLibLzqJYxdVmaSOkiV1tEpAtMh%2BIdGZ2xguIeyP6y%2F2A2I1sePtrX8CTQTalhHj4V2SO%2F2nhAEXmMypKTBmQ%3D%3D&QT=1&QN=%EC%82%BC%EC%84%B1%EC%95%BD%EA%B5%AD&Q0=%EC%84%9C%EC%9A%B8%ED%8A%B9%EB%B3%84%EC%8B%9C&Q1=%EA%B0%95%EB%82%A8%EA%B5%AC&ORD=NAME&numOfRows=10'"
      ]
     },
     "execution_count": 5,
     "metadata": {},
     "output_type": "execute_result"
    }
   ],
   "source": [
    "# paramset과 endpoint 붙혀서 URL 생성\n",
    "url = endpoint + paramset\n",
    "url"
   ]
  },
  {
   "cell_type": "code",
   "execution_count": 6,
   "id": "77811a1d-0f49-4cef-b025-150288f1ddf9",
   "metadata": {},
   "outputs": [
    {
     "name": "stderr",
     "output_type": "stream",
     "text": [
      "/Users/euijinlee/.pyenv/versions/3.10.10/lib/python3.10/site-packages/bs4/builder/__init__.py:545: XMLParsedAsHTMLWarning: It looks like you're parsing an XML document using an HTML parser. If this really is an HTML document (maybe it's XHTML?), you can ignore or filter this warning. If it's XML, you should know that using an XML parser will be more reliable. To parse this document as XML, make sure you have the lxml package installed, and pass the keyword argument `features=\"xml\"` into the BeautifulSoup constructor.\n",
      "  warnings.warn(\n"
     ]
    },
    {
     "data": {
      "text/plain": [
       "<?xml version=\"1.0\" encoding=\"UTF-8\" standalone=\"yes\"?><response><header><resultcode>00</resultcode><resultmsg>NORMAL SERVICE.</resultmsg></header><body><items><item><dutyaddr>서울특별시 강남구 일원로 53 (일원동) </dutyaddr><dutymapimg>소림빌딩 1층</dutymapimg><dutyname>E-삼성약국</dutyname><dutytel1>02-3412-1254</dutytel1><dutytime1c>1900</dutytime1c><dutytime1s>0900</dutytime1s><dutytime2c>1900</dutytime2c><dutytime2s>0900</dutytime2s><dutytime3c>1900</dutytime3c><dutytime3s>0900</dutytime3s><dutytime4c>1900</dutytime4c><dutytime4s>0900</dutytime4s><dutytime5c>1900</dutytime5c><dutytime5s>0900</dutytime5s><dutytime6c>1300</dutytime6c><dutytime6s>0900</dutytime6s><hpid>C1104799</hpid><postcdn1>063</postcdn1><postcdn2>43 </postcdn2><rnum>1</rnum><wgs84lat>37.48926299528938</wgs84lat><wgs84lon>127.08181088280385</wgs84lon></item><item><dutyaddr>서울특별시 강남구 일원로 45, 대훈빌딩 1층 (일원동)</dutyaddr><dutymapimg>대청역 4번출구에서 423m</dutymapimg><dutyname>무지개삼성약국</dutyname><dutytel1>02-2226-5467</dutytel1><dutytime1c>1900</dutytime1c><dutytime1s>0900</dutytime1s><dutytime2c>1900</dutytime2c><dutytime2s>0900</dutytime2s><dutytime3c>1900</dutytime3c><dutytime3s>0900</dutytime3s><dutytime4c>1900</dutytime4c><dutytime4s>0900</dutytime4s><dutytime5c>1900</dutytime5c><dutytime5s>0900</dutytime5s><dutytime6c>1300</dutytime6c><dutytime6s>0900</dutytime6s><hpid>C1109561</hpid><postcdn1>063</postcdn1><postcdn2>43 </postcdn2><rnum>2</rnum><wgs84lat>37.489904628125</wgs84lat><wgs84lon>127.08151340546</wgs84lon></item><item><dutyaddr>서울특별시 강남구 광평로19길 10, 101호 (수서동, 까치마을아파트상가)</dutyaddr><dutymapimg>삼성의료원10번출근처/까치마을아파트상가 101호</dutymapimg><dutyname>삼성약국</dutyname><dutytel1>02-451-7281</dutytel1><dutytime1c>2030</dutytime1c><dutytime1s>0900</dutytime1s><dutytime2c>2030</dutytime2c><dutytime2s>0900</dutytime2s><dutytime3c>2030</dutytime3c><dutytime3s>0900</dutytime3s><dutytime4c>2030</dutytime4c><dutytime4s>0900</dutytime4s><dutytime5c>2030</dutytime5c><dutytime5s>0900</dutytime5s><dutytime6c>2030</dutytime6c><dutytime6s>0900</dutytime6s><hpid>C1101446</hpid><postcdn1>063</postcdn1><postcdn2>54 </postcdn2><rnum>3</rnum><wgs84lat>37.485485349127</wgs84lat><wgs84lon>127.086601738647</wgs84lon></item><item><dutyaddr>서울특별시 강남구 일원로 53, 1층 (일원동, 소림빌딩)</dutyaddr><dutyname>이삼성약국</dutyname><dutytel1>02-3412-1254</dutytel1><dutytime1c>1900</dutytime1c><dutytime1s>0900</dutytime1s><dutytime2c>1900</dutytime2c><dutytime2s>0900</dutytime2s><dutytime3c>1900</dutytime3c><dutytime3s>0900</dutytime3s><dutytime4c>1900</dutytime4c><dutytime4s>0900</dutytime4s><dutytime5c>1900</dutytime5c><dutytime5s>0900</dutytime5s><dutytime6c>1300</dutytime6c><dutytime6s>0900</dutytime6s><hpid>C1109216</hpid><postcdn1>063</postcdn1><postcdn2>43 </postcdn2><rnum>4</rnum><wgs84lat>37.4892626357407</wgs84lat><wgs84lon>127.081809638604</wgs84lon></item></items><numofrows>10</numofrows><pageno>1</pageno><totalcount>4</totalcount></body></response>"
      ]
     },
     "execution_count": 6,
     "metadata": {},
     "output_type": "execute_result"
    }
   ],
   "source": [
    "# URL 요청 및 bs4 객체 생성\n",
    "result = requests.get(url)\n",
    "bs_obj = BeautifulSoup(result.content, 'html.parser')\n",
    "bs_obj"
   ]
  },
  {
   "cell_type": "code",
   "execution_count": 7,
   "id": "26951da0-e5e8-4335-9cd9-59b00216f6c9",
   "metadata": {},
   "outputs": [
    {
     "name": "stdout",
     "output_type": "stream",
     "text": [
      "서울특별시 강남구 삼성약국 갯수:  4\n",
      "첫번째 삼성약국의 이름:  E-삼성약국\n"
     ]
    }
   ],
   "source": [
    "# 'item' 으로 분리되어 있는 것을 확인 \n",
    "print('서울특별시 강남구 삼성약국 갯수: ', len(bs_obj.findAll('item')))\n",
    "print('첫번째 삼성약국의 이름: ', bs_obj.findAll('item')[0].dutyname.text)"
   ]
  },
  {
   "cell_type": "markdown",
   "id": "f7b4e9cb-ceb4-4e09-b81f-27c980ea27f2",
   "metadata": {
    "jp-MarkdownHeadingCollapsed": true
   },
   "source": [
    "### **🔸'서울특별시'에 있는 '삼성약국'을 조회해보자**"
   ]
  },
  {
   "cell_type": "code",
   "execution_count": 8,
   "id": "5350a021-7d8d-4a1c-9080-de4336be5fe6",
   "metadata": {},
   "outputs": [],
   "source": [
    "# 변수명과 파라미터명 매칭시켜서 파라미터 값 설명\n",
    "Q0 = quote('서울특별시') # 광역시도\n",
    "Q1 = quote('강남구') # 시군구\n",
    "QT = '1' # 약국 영업 요일\n",
    "QN = quote('삼성약국') # 검색하고자 하는 약국의 이름\n",
    "ORD = 'NAME' # 정렬기준\n",
    "numOfRows = '6000' # 추출 데이터 목록 건수 "
   ]
  },
  {
   "cell_type": "code",
   "execution_count": 9,
   "id": "658bd64e-240a-4f30-add7-471fa0069355",
   "metadata": {},
   "outputs": [
    {
     "data": {
      "text/plain": [
       "'?servicekey=A%2FLibLzqJYxdVmaSOkiV1tEpAtMh%2BIdGZ2xguIeyP6y%2F2A2I1sePtrX8CTQTalhHj4V2SO%2F2nhAEXmMypKTBmQ%3D%3D&QN=%EC%82%BC%EC%84%B1%EC%95%BD%EA%B5%AD&Q0=%EC%84%9C%EC%9A%B8%ED%8A%B9%EB%B3%84%EC%8B%9C&ORD=NAME&numOfRows=6000'"
      ]
     },
     "execution_count": 9,
     "metadata": {},
     "output_type": "execute_result"
    }
   ],
   "source": [
    "# 파라미터 생성\n",
    "paramset = '?servicekey='+servicekey + \\\n",
    "            '&QN='+QN + \\\n",
    "            '&Q0='+Q0 + \\\n",
    "            '&ORD='+ORD + '&numOfRows='+numOfRows\n",
    "paramset"
   ]
  },
  {
   "cell_type": "code",
   "execution_count": 10,
   "id": "cb4dd7ca-1fc2-4b48-b23a-eb5300c1cb59",
   "metadata": {},
   "outputs": [],
   "source": [
    "# paramset과 endpoint 붙혀서 URL 생성\n",
    "url = endpoint + paramset"
   ]
  },
  {
   "cell_type": "code",
   "execution_count": 11,
   "id": "79e61ae4-4309-469c-b005-818e1f2a94d8",
   "metadata": {},
   "outputs": [],
   "source": [
    "# URL 요청 및 bs4 객체 생성\n",
    "result = requests.get(url)\n",
    "bs_obj = BeautifulSoup(result.content, 'html.parser')"
   ]
  },
  {
   "cell_type": "code",
   "execution_count": 12,
   "id": "0fd6e017-bbc0-4388-87bc-a118adfcc7a3",
   "metadata": {},
   "outputs": [
    {
     "name": "stdout",
     "output_type": "stream",
     "text": [
      "서울특별시 삼성약국 갯수:  17\n"
     ]
    }
   ],
   "source": [
    "# 'item' 으로 분리되어 있는 것을 확인 \n",
    "res_fin = bs_obj.find_all('item')\n",
    "print('서울특별시 삼성약국 갯수: ', len(res_fin))"
   ]
  },
  {
   "cell_type": "markdown",
   "id": "bc8cf131-e99a-4020-a56e-bfb6936c9e15",
   "metadata": {
    "jp-MarkdownHeadingCollapsed": true
   },
   "source": [
    "### **🔸서울시의 '모든 약국' 정보를 추출해보자**"
   ]
  },
  {
   "cell_type": "code",
   "execution_count": 13,
   "id": "6add579e-fe30-4570-886b-649f4e5e3b18",
   "metadata": {},
   "outputs": [
    {
     "data": {
      "text/plain": [
       "'?servicekey=A%2FLibLzqJYxdVmaSOkiV1tEpAtMh%2BIdGZ2xguIeyP6y%2F2A2I1sePtrX8CTQTalhHj4V2SO%2F2nhAEXmMypKTBmQ%3D%3D&Q0=%EC%84%9C%EC%9A%B8%ED%8A%B9%EB%B3%84%EC%8B%9C&ORD=NAME&numOfRows=6000'"
      ]
     },
     "execution_count": 13,
     "metadata": {},
     "output_type": "execute_result"
    }
   ],
   "source": [
    "# 파라미터 생성\n",
    "paramset = '?servicekey='+servicekey + \\\n",
    "            '&Q0='+Q0 + \\\n",
    "            '&ORD='+ORD + '&numOfRows='+numOfRows\n",
    "paramset"
   ]
  },
  {
   "cell_type": "code",
   "execution_count": 14,
   "id": "86c83665-64db-44a1-b2e5-b7bf9f1b35c6",
   "metadata": {},
   "outputs": [],
   "source": [
    "# paramset과 endpoint 붙혀서 URL 생성\n",
    "url = endpoint + paramset"
   ]
  },
  {
   "cell_type": "code",
   "execution_count": 15,
   "id": "3b1ec014-59d4-4680-8d1e-15f2e3bfb2e8",
   "metadata": {},
   "outputs": [],
   "source": [
    "# URL 요청 및 bs4 객체 생성\n",
    "result = requests.get(url)\n",
    "bs_obj = BeautifulSoup(result.content, 'html.parser')"
   ]
  },
  {
   "cell_type": "code",
   "execution_count": 16,
   "id": "f18b24b2-fcbb-4c52-89da-dc708d36e0a0",
   "metadata": {},
   "outputs": [
    {
     "name": "stdout",
     "output_type": "stream",
     "text": [
      "서울시의 모든 약국 갯수:  5407\n"
     ]
    }
   ],
   "source": [
    "# 'item' 으로 분리되어 있는 것을 확인 \n",
    "res_fin = bs_obj.find_all('item')\n",
    "print('서울시의 모든 약국 갯수: ', len(res_fin))"
   ]
  },
  {
   "cell_type": "code",
   "execution_count": 17,
   "id": "e442b493-2c2a-45c5-85d6-40f5fa3f2073",
   "metadata": {},
   "outputs": [],
   "source": [
    "# name - [item.dutyname.text for item in res_fin]\n",
    "# address - [item.dutyaddr.text for item in res_fin]\n",
    "# tel - [item.dutytel1.text for item in res_fin]"
   ]
  },
  {
   "cell_type": "code",
   "execution_count": 18,
   "id": "2edebe7f-cd0e-4e11-80b9-32c9ccf3a4fe",
   "metadata": {},
   "outputs": [
    {
     "data": {
      "text/html": [
       "<div>\n",
       "<style scoped>\n",
       "    .dataframe tbody tr th:only-of-type {\n",
       "        vertical-align: middle;\n",
       "    }\n",
       "\n",
       "    .dataframe tbody tr th {\n",
       "        vertical-align: top;\n",
       "    }\n",
       "\n",
       "    .dataframe thead th {\n",
       "        text-align: right;\n",
       "    }\n",
       "</style>\n",
       "<table border=\"1\" class=\"dataframe\">\n",
       "  <thead>\n",
       "    <tr style=\"text-align: right;\">\n",
       "      <th></th>\n",
       "      <th>약국명</th>\n",
       "      <th>주소</th>\n",
       "      <th>전화번호</th>\n",
       "    </tr>\n",
       "  </thead>\n",
       "  <tbody>\n",
       "    <tr>\n",
       "      <th>5402</th>\n",
       "      <td>힐스테이트솔약국</td>\n",
       "      <td>서울특별시 강서구 강서로 242, 상가동 1층 151호 (화곡동, 강서힐스테이트)</td>\n",
       "      <td>02-2695-6121</td>\n",
       "    </tr>\n",
       "    <tr>\n",
       "      <th>5403</th>\n",
       "      <td>힘찬약국</td>\n",
       "      <td>서울특별시 도봉구 삼양로 580-4, 1층 101호 (쌍문동, 노스브릭)</td>\n",
       "      <td>02-996-9114</td>\n",
       "    </tr>\n",
       "    <tr>\n",
       "      <th>5404</th>\n",
       "      <td>힘찬약국</td>\n",
       "      <td>서울특별시 중구 장충단로13길 7, 401호 (을지로6가, 을호빌딩)</td>\n",
       "      <td>02-2279-7588</td>\n",
       "    </tr>\n",
       "    <tr>\n",
       "      <th>5405</th>\n",
       "      <td>힘찬약국</td>\n",
       "      <td>서울특별시 광진구 뚝섬로 631-1, 1층 (자양동)</td>\n",
       "      <td>02-454-1221</td>\n",
       "    </tr>\n",
       "    <tr>\n",
       "      <th>5406</th>\n",
       "      <td>힘챤약국</td>\n",
       "      <td>서울특별시 성북구 보국문로 16-1</td>\n",
       "      <td>02-942-2088</td>\n",
       "    </tr>\n",
       "  </tbody>\n",
       "</table>\n",
       "</div>"
      ],
      "text/plain": [
       "           약국명                                             주소          전화번호\n",
       "5402  힐스테이트솔약국  서울특별시 강서구 강서로 242, 상가동 1층 151호 (화곡동, 강서힐스테이트)  02-2695-6121\n",
       "5403      힘찬약국       서울특별시 도봉구 삼양로 580-4, 1층 101호 (쌍문동, 노스브릭)   02-996-9114\n",
       "5404      힘찬약국         서울특별시 중구 장충단로13길 7, 401호 (을지로6가, 을호빌딩)  02-2279-7588\n",
       "5405      힘찬약국                  서울특별시 광진구 뚝섬로 631-1, 1층 (자양동)   02-454-1221\n",
       "5406      힘챤약국                            서울특별시 성북구 보국문로 16-1   02-942-2088"
      ]
     },
     "execution_count": 18,
     "metadata": {},
     "output_type": "execute_result"
    }
   ],
   "source": [
    "# 서울시의 약국정보 data df로 저장\n",
    "name = [item.dutyname.text for item in res_fin]\n",
    "addr = [item.dutyaddr.text for item in res_fin]\n",
    "tel = [item.dutytel1.text for item in res_fin]\n",
    "\n",
    "df_fin = pd.DataFrame({'약국명':name, '주소':addr, '전화번호':tel})\n",
    "df_fin.tail()"
   ]
  },
  {
   "cell_type": "code",
   "execution_count": 19,
   "id": "b1b40555-9f8d-4f63-935f-7044a9837ef1",
   "metadata": {},
   "outputs": [],
   "source": [
    "# 저장\n",
    "df_fin.to_csv('./crawl_data/서울시_약국정보.csv')"
   ]
  },
  {
   "cell_type": "markdown",
   "id": "0f6e7c92-b97f-4e51-8685-c7e9dc6e0730",
   "metadata": {
    "jp-MarkdownHeadingCollapsed": true
   },
   "source": [
    "### **🔸서울시의 약국 중 '월요일 야간'에 운영하는 약국 정보를 추출해보자**\n",
    "- '야간'의 기준 : 오후 9시 이후"
   ]
  },
  {
   "cell_type": "code",
   "execution_count": 20,
   "id": "f3795690-a408-482e-8e3e-fffa99643e50",
   "metadata": {},
   "outputs": [
    {
     "data": {
      "text/plain": [
       "False"
      ]
     },
     "execution_count": 20,
     "metadata": {},
     "output_type": "execute_result"
    }
   ],
   "source": [
    "# 첫번째 약국에 대해 시간정보 확인해보기 \n",
    "# res_fin[0] => dutytime1c, dutytime1s, dutytime2c, dutytime2s ..\n",
    "# dutytime*c = close\n",
    "# dutytime*s = start \n",
    "# * = 1,2,3,4,5,6 = 월,화,수,목,금,토 로 추정\n",
    "\n",
    "# 월요일 영업 종료시간이 21:00분 이후인지 확인\n",
    "# 월요일 종료 시간 태그 = <dutytime1c>\n",
    "int(res_fin[0].dutytime1c.text) > 2100"
   ]
  },
  {
   "cell_type": "code",
   "execution_count": 21,
   "id": "f1906313-ebfb-421d-84b1-fb5e6b02c3dd",
   "metadata": {},
   "outputs": [],
   "source": [
    "name = []\n",
    "adr = []\n",
    "tel = []\n",
    "cl_time = []\n",
    "count = 0\n",
    "\n",
    "for item in res_fin :\n",
    "    tmp_time = item.find('dutytime1c')\n",
    "    # 월요일 휴무인 약국은 태그가 없을 수 있음\n",
    "    if tmp_time != None :\n",
    "        c_time = int(tmp_time.text)\n",
    "        if c_time > 2100 :\n",
    "            count = count + 1\n",
    "            name.append(item.find('dutyname').text)\n",
    "            adr.append(item.find('dutyaddr').text)\n",
    "            tel.append(item.find('dutytel1').text)\n",
    "            cl_time.append(c_time)"
   ]
  },
  {
   "cell_type": "code",
   "execution_count": 22,
   "id": "f53f1fb4-1de0-4e86-82ae-9eae01548c9e",
   "metadata": {},
   "outputs": [
    {
     "name": "stdout",
     "output_type": "stream",
     "text": [
      "월요일 야간영업 약국 갯수:  752\n",
      "모든 데이터가 맞게 들어왔는지 확인:  752 752 752 752\n"
     ]
    }
   ],
   "source": [
    "print('월요일 야간영업 약국 갯수: ', count)\n",
    "print('모든 데이터가 맞게 들어왔는지 확인: ', len(name), len(adr), len(tel), len(cl_time))"
   ]
  },
  {
   "cell_type": "code",
   "execution_count": 23,
   "id": "ae7dd502-e73e-48f9-8f4b-01b966278339",
   "metadata": {},
   "outputs": [
    {
     "data": {
      "text/html": [
       "<div>\n",
       "<style scoped>\n",
       "    .dataframe tbody tr th:only-of-type {\n",
       "        vertical-align: middle;\n",
       "    }\n",
       "\n",
       "    .dataframe tbody tr th {\n",
       "        vertical-align: top;\n",
       "    }\n",
       "\n",
       "    .dataframe thead th {\n",
       "        text-align: right;\n",
       "    }\n",
       "</style>\n",
       "<table border=\"1\" class=\"dataframe\">\n",
       "  <thead>\n",
       "    <tr style=\"text-align: right;\">\n",
       "      <th></th>\n",
       "      <th>약국명</th>\n",
       "      <th>주소</th>\n",
       "      <th>전화번호</th>\n",
       "      <th>영업종료시간</th>\n",
       "    </tr>\n",
       "  </thead>\n",
       "  <tbody>\n",
       "    <tr>\n",
       "      <th>0</th>\n",
       "      <td>365강남역약국</td>\n",
       "      <td>서울특별시 강남구 강남대로 지하396, 강남역 103-104호 (역삼동)</td>\n",
       "      <td>02-554-5628</td>\n",
       "      <td>2300</td>\n",
       "    </tr>\n",
       "    <tr>\n",
       "      <th>1</th>\n",
       "      <td>365그랜드약국</td>\n",
       "      <td>서울특별시 금천구 시흥대로62길 29, 1층 (시흥동)</td>\n",
       "      <td>02-896-1223</td>\n",
       "      <td>2130</td>\n",
       "    </tr>\n",
       "    <tr>\n",
       "      <th>2</th>\n",
       "      <td>365마트약국</td>\n",
       "      <td>서울특별시 영등포구 영중로 125, 롯데마트 1층 (영등포동8가)</td>\n",
       "      <td>02-2633-4865</td>\n",
       "      <td>2200</td>\n",
       "    </tr>\n",
       "    <tr>\n",
       "      <th>3</th>\n",
       "      <td>365서초메트로약국</td>\n",
       "      <td>서울특별시 서초구 서초대로 지하233, 서초역 지하1층 106호 (서초동)</td>\n",
       "      <td>050-713-3435</td>\n",
       "      <td>2200</td>\n",
       "    </tr>\n",
       "    <tr>\n",
       "      <th>4</th>\n",
       "      <td>365약국</td>\n",
       "      <td>서울특별시 중랑구 면목로 지하407, 면목역 지하1층 108호 (면목동)</td>\n",
       "      <td>02-2208-0365</td>\n",
       "      <td>2230</td>\n",
       "    </tr>\n",
       "    <tr>\n",
       "      <th>...</th>\n",
       "      <td>...</td>\n",
       "      <td>...</td>\n",
       "      <td>...</td>\n",
       "      <td>...</td>\n",
       "    </tr>\n",
       "    <tr>\n",
       "      <th>747</th>\n",
       "      <td>휴베이스하이약국</td>\n",
       "      <td>서울특별시 중구 명동9가길 14, 메트로호텔 1층 (을지로2가)</td>\n",
       "      <td>070-7778-8275</td>\n",
       "      <td>2200</td>\n",
       "    </tr>\n",
       "    <tr>\n",
       "      <th>748</th>\n",
       "      <td>휴베이스하이약국</td>\n",
       "      <td>서울특별시 중구 명동9가길 14, 메트로호텔 1층 (을지로2가)</td>\n",
       "      <td>070-7798-8275</td>\n",
       "      <td>2200</td>\n",
       "    </tr>\n",
       "    <tr>\n",
       "      <th>749</th>\n",
       "      <td>흥명약국</td>\n",
       "      <td>서울특별시 동대문구 고산자로30길 56 (용두동)</td>\n",
       "      <td>02-963-0617</td>\n",
       "      <td>2300</td>\n",
       "    </tr>\n",
       "    <tr>\n",
       "      <th>750</th>\n",
       "      <td>희망약국</td>\n",
       "      <td>서울특별시 관악구 쑥고개로 53, 1층 (봉천동)</td>\n",
       "      <td>02-874-9488</td>\n",
       "      <td>2130</td>\n",
       "    </tr>\n",
       "    <tr>\n",
       "      <th>751</th>\n",
       "      <td>희망약국</td>\n",
       "      <td>서울특별시 노원구 동일로230가길 15, 103호 (상계동, 우방아파트상가)</td>\n",
       "      <td>02-939-9831</td>\n",
       "      <td>2200</td>\n",
       "    </tr>\n",
       "  </tbody>\n",
       "</table>\n",
       "<p>752 rows × 4 columns</p>\n",
       "</div>"
      ],
      "text/plain": [
       "            약국명                                          주소           전화번호  \\\n",
       "0      365강남역약국    서울특별시 강남구 강남대로 지하396, 강남역 103-104호 (역삼동)    02-554-5628   \n",
       "1      365그랜드약국              서울특별시 금천구 시흥대로62길 29, 1층 (시흥동)    02-896-1223   \n",
       "2       365마트약국        서울특별시 영등포구 영중로 125, 롯데마트 1층 (영등포동8가)   02-2633-4865   \n",
       "3    365서초메트로약국   서울특별시 서초구 서초대로 지하233, 서초역 지하1층 106호 (서초동)   050-713-3435   \n",
       "4         365약국    서울특별시 중랑구 면목로 지하407, 면목역 지하1층 108호 (면목동)   02-2208-0365   \n",
       "..          ...                                         ...            ...   \n",
       "747    휴베이스하이약국         서울특별시 중구 명동9가길 14, 메트로호텔 1층 (을지로2가)  070-7778-8275   \n",
       "748    휴베이스하이약국         서울특별시 중구 명동9가길 14, 메트로호텔 1층 (을지로2가)  070-7798-8275   \n",
       "749        흥명약국                 서울특별시 동대문구 고산자로30길 56 (용두동)    02-963-0617   \n",
       "750        희망약국                 서울특별시 관악구 쑥고개로 53, 1층 (봉천동)    02-874-9488   \n",
       "751        희망약국  서울특별시 노원구 동일로230가길 15, 103호 (상계동, 우방아파트상가)    02-939-9831   \n",
       "\n",
       "     영업종료시간  \n",
       "0      2300  \n",
       "1      2130  \n",
       "2      2200  \n",
       "3      2200  \n",
       "4      2230  \n",
       "..      ...  \n",
       "747    2200  \n",
       "748    2200  \n",
       "749    2300  \n",
       "750    2130  \n",
       "751    2200  \n",
       "\n",
       "[752 rows x 4 columns]"
      ]
     },
     "execution_count": 23,
     "metadata": {},
     "output_type": "execute_result"
    }
   ],
   "source": [
    "df_mon_night = pd.DataFrame({'약국명':name, '주소':adr, '전화번호':tel, '영업종료시간':cl_time})\n",
    "df_mon_night"
   ]
  },
  {
   "cell_type": "code",
   "execution_count": 24,
   "id": "885722eb-f2e2-48fa-94f7-bafab264c947",
   "metadata": {},
   "outputs": [],
   "source": [
    "# 저장\n",
    "df_mon_night.to_csv('./crawl_data/서울시_월요일심야영업_약국정보.csv')"
   ]
  },
  {
   "cell_type": "markdown",
   "id": "818b4e19-cd51-4d58-b760-208f44cd9a4b",
   "metadata": {
    "jp-MarkdownHeadingCollapsed": true
   },
   "source": [
    "### **🔸서울시의 약국 중 토요일 and/or 일요일에 운영하는 약국 정보를 추출해보자**\n",
    "- 약국명, 주소, 전화번호, 토요일영업여부, 일요일영업여부, 토요일종료시간, 일요일종료시간\n",
    "- 토요일/일요일 영업 여부값 : Y/N"
   ]
  },
  {
   "cell_type": "code",
   "execution_count": 25,
   "id": "1ea82842-a7c5-4170-8be5-0a64bc512460",
   "metadata": {},
   "outputs": [
    {
     "data": {
      "text/plain": [
       "'?servicekey=A%2FLibLzqJYxdVmaSOkiV1tEpAtMh%2BIdGZ2xguIeyP6y%2F2A2I1sePtrX8CTQTalhHj4V2SO%2F2nhAEXmMypKTBmQ%3D%3D&Q0=%EC%84%9C%EC%9A%B8%ED%8A%B9%EB%B3%84%EC%8B%9C&ORD=NAME&numOfRows=6000'"
      ]
     },
     "execution_count": 25,
     "metadata": {},
     "output_type": "execute_result"
    }
   ],
   "source": [
    "# 파라미터 생성\n",
    "paramset = '?servicekey='+servicekey + \\\n",
    "            '&Q0='+Q0 + \\\n",
    "            '&ORD='+ORD + '&numOfRows='+numOfRows\n",
    "paramset"
   ]
  },
  {
   "cell_type": "code",
   "execution_count": 26,
   "id": "696bc087-9b51-4bee-9123-6fc1d38d1e96",
   "metadata": {},
   "outputs": [],
   "source": [
    "# paramset과 endpoint 붙혀서 URL 생성\n",
    "url = endpoint + paramset"
   ]
  },
  {
   "cell_type": "code",
   "execution_count": 27,
   "id": "4b705257-cf9d-4771-93b0-44acc4663c3c",
   "metadata": {},
   "outputs": [
    {
     "name": "stderr",
     "output_type": "stream",
     "text": [
      "/Users/euijinlee/.pyenv/versions/3.10.10/lib/python3.10/site-packages/bs4/builder/__init__.py:545: XMLParsedAsHTMLWarning: It looks like you're parsing an XML document using an HTML parser. If this really is an HTML document (maybe it's XHTML?), you can ignore or filter this warning. If it's XML, you should know that using an XML parser will be more reliable. To parse this document as XML, make sure you have the lxml package installed, and pass the keyword argument `features=\"xml\"` into the BeautifulSoup constructor.\n",
      "  warnings.warn(\n"
     ]
    }
   ],
   "source": [
    "# URL 요청 및 bs4 객체 생성\n",
    "result = requests.get(url)\n",
    "bs_obj = BeautifulSoup(result.content, 'html.parser')"
   ]
  },
  {
   "cell_type": "code",
   "execution_count": 28,
   "id": "8f46166a-6bcf-4961-8a37-7e886d56b9af",
   "metadata": {},
   "outputs": [
    {
     "name": "stdout",
     "output_type": "stream",
     "text": [
      "서울시의 모든 약국 갯수:  5407\n"
     ]
    }
   ],
   "source": [
    "# 'item' 으로 분리되어 있는 것을 확인 \n",
    "res_fin = bs_obj.find_all('item')\n",
    "print('서울시의 모든 약국 갯수: ', len(res_fin))"
   ]
  },
  {
   "cell_type": "code",
   "execution_count": 29,
   "id": "d5b901fe-8db3-485b-8293-bcec141b6cae",
   "metadata": {},
   "outputs": [
    {
     "data": {
      "text/plain": [
       "<item><dutyaddr>서울특별시 강남구 헌릉로571길 7, 강남레체 1층 101호 (세곡동)</dutyaddr><dutyname>100세건강약국</dutyname><dutytel1>02-445-1460</dutytel1><dutytime1c>2000</dutytime1c><dutytime1s>0900</dutytime1s><dutytime2c>2000</dutytime2c><dutytime2s>0900</dutytime2s><dutytime3c>2000</dutytime3c><dutytime3s>0900</dutytime3s><dutytime4c>2000</dutytime4c><dutytime4s>0900</dutytime4s><dutytime5c>2000</dutytime5c><dutytime5s>0900</dutytime5s><dutytime6c>1900</dutytime6c><dutytime6s>0900</dutytime6s><hpid>C1109587</hpid><postcdn1>063</postcdn1><postcdn2>76 </postcdn2><rnum>1</rnum><wgs84lat>37.4660448664795</wgs84lat><wgs84lon>127.101366881801</wgs84lon></item>"
      ]
     },
     "execution_count": 29,
     "metadata": {},
     "output_type": "execute_result"
    }
   ],
   "source": [
    "# res_fin[0]을 예시로 코드 만들어보기 \n",
    "res_fin[0]"
   ]
  },
  {
   "cell_type": "code",
   "execution_count": 30,
   "id": "10ba6561-7e28-4a3b-a109-77af80963302",
   "metadata": {},
   "outputs": [
    {
     "name": "stdout",
     "output_type": "stream",
     "text": [
      "Y\n",
      "1900\n",
      "N\n"
     ]
    }
   ],
   "source": [
    "# res_fin[0]을 예시로 코드 만들어보기 \n",
    "# dutytime*c = close\n",
    "# dutytime*s = start \n",
    "# * = 1,2,3,4,5,6 = 월,화,수,목,금,토 로 추정\n",
    "\n",
    "# 약국명 확인 코드\n",
    "res_fin[0].find('dutyname').text\n",
    "# 주소 확인 코드\n",
    "res_fin[0].find('dutyaddr').text\n",
    "# 전화번호 확인 코드\n",
    "res_fin[0].find('dutytel1').text\n",
    "\n",
    "# 토요일 영업 하는지 여부 확인 코드 # dutytime6\n",
    "if (res_fin[0].find('dutytime6s') == None) == False:\n",
    "    print('Y')\n",
    "    # 토요일 종료시간 확인 코드\n",
    "    print(res_fin[0].find('dutytime6c').text)\n",
    "else:\n",
    "    print('N')\n",
    "\n",
    "# 일요일 영업 하는지 여부 확인 코드\n",
    "if (res_fin[0].find('dutytime7s') == None) == False:\n",
    "    print('Y')\n",
    "    # 일요일 종료시간 확인 코드\n",
    "    print(res_fin[0].find('dutytime7c').text)\n",
    "else:\n",
    "    print('N')\n"
   ]
  },
  {
   "cell_type": "code",
   "execution_count": 31,
   "id": "0e6cf583-65d9-42cc-a192-c3a9d124881b",
   "metadata": {},
   "outputs": [],
   "source": [
    "# 약국명, 주소, 전화번호, 토요일영업여부, 일요일영업여부, 토요일종료시간, 일요일종료시간\n",
    "# 모든 data에 적용 \n",
    "name = []\n",
    "adr = []\n",
    "tel = []\n",
    "open_sat = []\n",
    "ctime_sat = []\n",
    "open_sun = []\n",
    "ctime_sun = []\n",
    "count = 0\n",
    "\n",
    "for item in res_fin :\n",
    "    name.append(item.find('dutyname').text)\n",
    "    adr.append(item.find('dutyaddr').text)\n",
    "    tel.append(item.find('dutytel1').text)\n",
    "\n",
    "    # 토요일 영업 하는지 여부 확인 코드 # dutytime6\n",
    "    if (item.find('dutytime6s') == None) == False:\n",
    "        open_sat.append('Y')\n",
    "        # 토요일 종료시간 확인 코드\n",
    "        ctime_sat.append(item.find('dutytime6c').text)\n",
    "    else:\n",
    "        open_sat.append('N')\n",
    "        ctime_sat.append('N')\n",
    "\n",
    "    # 일요일 영업 하는지 여부 확인 코드\n",
    "    if (item.find('dutytime7s') == None) == False:\n",
    "        open_sun.append('Y')\n",
    "        # 일요일 종료시간 확인 코드\n",
    "        ctime_sun.append(item.find('dutytime7c').text)\n",
    "    else:\n",
    "        open_sun.append('N')\n",
    "        ctime_sun.append('N')\n",
    "        \n",
    "    count = count + 1"
   ]
  },
  {
   "cell_type": "code",
   "execution_count": 32,
   "id": "84fa2bca-9917-4154-9c2e-766d5e7ec76f",
   "metadata": {},
   "outputs": [
    {
     "name": "stdout",
     "output_type": "stream",
     "text": [
      "서울시 약국 갯수:  5407\n",
      "모든 데이터가 맞게 들어왔는지 확인:  5407 5407 5407\n",
      "토요일 영업 약국 갯수가 서로 맞는지 확인:  221 221\n",
      "일요일 영업 약국 갯수가 서로 맞는지 확인:  4102 4102\n"
     ]
    }
   ],
   "source": [
    "print('서울시 약국 갯수: ', count)\n",
    "print('모든 데이터가 맞게 들어왔는지 확인: ', len(name), len(adr), len(tel))\n",
    "print('토요일 영업 약국 갯수가 서로 맞는지 확인: ', open_sat.count('N'), ctime_sat.count('N'))\n",
    "print('일요일 영업 약국 갯수가 서로 맞는지 확인: ', open_sun.count('N'), ctime_sun.count('N'))"
   ]
  },
  {
   "cell_type": "code",
   "execution_count": 33,
   "id": "17490e6d-7607-46c4-bc1e-d69bed3b34fa",
   "metadata": {},
   "outputs": [
    {
     "data": {
      "text/html": [
       "<div>\n",
       "<style scoped>\n",
       "    .dataframe tbody tr th:only-of-type {\n",
       "        vertical-align: middle;\n",
       "    }\n",
       "\n",
       "    .dataframe tbody tr th {\n",
       "        vertical-align: top;\n",
       "    }\n",
       "\n",
       "    .dataframe thead th {\n",
       "        text-align: right;\n",
       "    }\n",
       "</style>\n",
       "<table border=\"1\" class=\"dataframe\">\n",
       "  <thead>\n",
       "    <tr style=\"text-align: right;\">\n",
       "      <th></th>\n",
       "      <th>약국명</th>\n",
       "      <th>주소</th>\n",
       "      <th>전화번호</th>\n",
       "      <th>토요일영업여부</th>\n",
       "      <th>토요일종료시간</th>\n",
       "      <th>일요일영업여부</th>\n",
       "      <th>일요일종료시간</th>\n",
       "    </tr>\n",
       "  </thead>\n",
       "  <tbody>\n",
       "    <tr>\n",
       "      <th>5402</th>\n",
       "      <td>힐스테이트솔약국</td>\n",
       "      <td>서울특별시 강서구 강서로 242, 상가동 1층 151호 (화곡동, 강서힐스테이트)</td>\n",
       "      <td>02-2695-6121</td>\n",
       "      <td>Y</td>\n",
       "      <td>1500</td>\n",
       "      <td>Y</td>\n",
       "      <td>1400</td>\n",
       "    </tr>\n",
       "    <tr>\n",
       "      <th>5403</th>\n",
       "      <td>힘찬약국</td>\n",
       "      <td>서울특별시 도봉구 삼양로 580-4, 1층 101호 (쌍문동, 노스브릭)</td>\n",
       "      <td>02-996-9114</td>\n",
       "      <td>Y</td>\n",
       "      <td>1800</td>\n",
       "      <td>Y</td>\n",
       "      <td>1800</td>\n",
       "    </tr>\n",
       "    <tr>\n",
       "      <th>5404</th>\n",
       "      <td>힘찬약국</td>\n",
       "      <td>서울특별시 중구 장충단로13길 7, 401호 (을지로6가, 을호빌딩)</td>\n",
       "      <td>02-2279-7588</td>\n",
       "      <td>Y</td>\n",
       "      <td>1600</td>\n",
       "      <td>N</td>\n",
       "      <td>N</td>\n",
       "    </tr>\n",
       "    <tr>\n",
       "      <th>5405</th>\n",
       "      <td>힘찬약국</td>\n",
       "      <td>서울특별시 광진구 뚝섬로 631-1, 1층 (자양동)</td>\n",
       "      <td>02-454-1221</td>\n",
       "      <td>Y</td>\n",
       "      <td>1500</td>\n",
       "      <td>N</td>\n",
       "      <td>N</td>\n",
       "    </tr>\n",
       "    <tr>\n",
       "      <th>5406</th>\n",
       "      <td>힘챤약국</td>\n",
       "      <td>서울특별시 성북구 보국문로 16-1</td>\n",
       "      <td>02-942-2088</td>\n",
       "      <td>Y</td>\n",
       "      <td>1400</td>\n",
       "      <td>N</td>\n",
       "      <td>N</td>\n",
       "    </tr>\n",
       "  </tbody>\n",
       "</table>\n",
       "</div>"
      ],
      "text/plain": [
       "           약국명                                             주소          전화번호  \\\n",
       "5402  힐스테이트솔약국  서울특별시 강서구 강서로 242, 상가동 1층 151호 (화곡동, 강서힐스테이트)  02-2695-6121   \n",
       "5403      힘찬약국       서울특별시 도봉구 삼양로 580-4, 1층 101호 (쌍문동, 노스브릭)   02-996-9114   \n",
       "5404      힘찬약국         서울특별시 중구 장충단로13길 7, 401호 (을지로6가, 을호빌딩)  02-2279-7588   \n",
       "5405      힘찬약국                  서울특별시 광진구 뚝섬로 631-1, 1층 (자양동)   02-454-1221   \n",
       "5406      힘챤약국                            서울특별시 성북구 보국문로 16-1   02-942-2088   \n",
       "\n",
       "     토요일영업여부 토요일종료시간 일요일영업여부 일요일종료시간  \n",
       "5402       Y    1500       Y    1400  \n",
       "5403       Y    1800       Y    1800  \n",
       "5404       Y    1600       N       N  \n",
       "5405       Y    1500       N       N  \n",
       "5406       Y    1400       N       N  "
      ]
     },
     "execution_count": 33,
     "metadata": {},
     "output_type": "execute_result"
    }
   ],
   "source": [
    "# df로 저장 \n",
    "df_satsun = pd.DataFrame({'약국명':name, '주소':adr, '전화번호':tel, '토요일영업여부':open_sat, \n",
    "                          '토요일종료시간':ctime_sat, '일요일영업여부':open_sun, '일요일종료시간':ctime_sun})\n",
    "df_satsun.tail()"
   ]
  },
  {
   "cell_type": "code",
   "execution_count": 34,
   "id": "994bacd2-4f3b-4c77-a729-f1ee3f48940a",
   "metadata": {},
   "outputs": [],
   "source": [
    "# 저장\n",
    "df_satsun.to_csv('./crawl_data/서울시_주말영업약국.csv')"
   ]
  },
  {
   "cell_type": "markdown",
   "id": "76052908-49e8-4a54-8930-f958ba17bfed",
   "metadata": {},
   "source": [
    "### **🔸서울시 각 구별로 약국의 수를 비교하는 막대그래프**"
   ]
  },
  {
   "cell_type": "code",
   "execution_count": 35,
   "id": "8ff5d25c-73d1-478e-804d-b4b579c159af",
   "metadata": {},
   "outputs": [
    {
     "data": {
      "text/html": [
       "<div>\n",
       "<style scoped>\n",
       "    .dataframe tbody tr th:only-of-type {\n",
       "        vertical-align: middle;\n",
       "    }\n",
       "\n",
       "    .dataframe tbody tr th {\n",
       "        vertical-align: top;\n",
       "    }\n",
       "\n",
       "    .dataframe thead th {\n",
       "        text-align: right;\n",
       "    }\n",
       "</style>\n",
       "<table border=\"1\" class=\"dataframe\">\n",
       "  <thead>\n",
       "    <tr style=\"text-align: right;\">\n",
       "      <th></th>\n",
       "      <th>약국명</th>\n",
       "      <th>주소</th>\n",
       "      <th>전화번호</th>\n",
       "      <th>토요일영업여부</th>\n",
       "      <th>토요일종료시간</th>\n",
       "      <th>일요일영업여부</th>\n",
       "      <th>일요일종료시간</th>\n",
       "    </tr>\n",
       "  </thead>\n",
       "  <tbody>\n",
       "    <tr>\n",
       "      <th>5402</th>\n",
       "      <td>힐스테이트솔약국</td>\n",
       "      <td>서울특별시 강서구 강서로 242, 상가동 1층 151호 (화곡동, 강서힐스테이트)</td>\n",
       "      <td>02-2695-6121</td>\n",
       "      <td>Y</td>\n",
       "      <td>1500</td>\n",
       "      <td>Y</td>\n",
       "      <td>1400</td>\n",
       "    </tr>\n",
       "    <tr>\n",
       "      <th>5403</th>\n",
       "      <td>힘찬약국</td>\n",
       "      <td>서울특별시 도봉구 삼양로 580-4, 1층 101호 (쌍문동, 노스브릭)</td>\n",
       "      <td>02-996-9114</td>\n",
       "      <td>Y</td>\n",
       "      <td>1800</td>\n",
       "      <td>Y</td>\n",
       "      <td>1800</td>\n",
       "    </tr>\n",
       "    <tr>\n",
       "      <th>5404</th>\n",
       "      <td>힘찬약국</td>\n",
       "      <td>서울특별시 중구 장충단로13길 7, 401호 (을지로6가, 을호빌딩)</td>\n",
       "      <td>02-2279-7588</td>\n",
       "      <td>Y</td>\n",
       "      <td>1600</td>\n",
       "      <td>N</td>\n",
       "      <td>N</td>\n",
       "    </tr>\n",
       "    <tr>\n",
       "      <th>5405</th>\n",
       "      <td>힘찬약국</td>\n",
       "      <td>서울특별시 광진구 뚝섬로 631-1, 1층 (자양동)</td>\n",
       "      <td>02-454-1221</td>\n",
       "      <td>Y</td>\n",
       "      <td>1500</td>\n",
       "      <td>N</td>\n",
       "      <td>N</td>\n",
       "    </tr>\n",
       "    <tr>\n",
       "      <th>5406</th>\n",
       "      <td>힘챤약국</td>\n",
       "      <td>서울특별시 성북구 보국문로 16-1</td>\n",
       "      <td>02-942-2088</td>\n",
       "      <td>Y</td>\n",
       "      <td>1400</td>\n",
       "      <td>N</td>\n",
       "      <td>N</td>\n",
       "    </tr>\n",
       "  </tbody>\n",
       "</table>\n",
       "</div>"
      ],
      "text/plain": [
       "           약국명                                             주소          전화번호  \\\n",
       "5402  힐스테이트솔약국  서울특별시 강서구 강서로 242, 상가동 1층 151호 (화곡동, 강서힐스테이트)  02-2695-6121   \n",
       "5403      힘찬약국       서울특별시 도봉구 삼양로 580-4, 1층 101호 (쌍문동, 노스브릭)   02-996-9114   \n",
       "5404      힘찬약국         서울특별시 중구 장충단로13길 7, 401호 (을지로6가, 을호빌딩)  02-2279-7588   \n",
       "5405      힘찬약국                  서울특별시 광진구 뚝섬로 631-1, 1층 (자양동)   02-454-1221   \n",
       "5406      힘챤약국                            서울특별시 성북구 보국문로 16-1   02-942-2088   \n",
       "\n",
       "     토요일영업여부 토요일종료시간 일요일영업여부 일요일종료시간  \n",
       "5402       Y    1500       Y    1400  \n",
       "5403       Y    1800       Y    1800  \n",
       "5404       Y    1600       N       N  \n",
       "5405       Y    1500       N       N  \n",
       "5406       Y    1400       N       N  "
      ]
     },
     "execution_count": 35,
     "metadata": {},
     "output_type": "execute_result"
    }
   ],
   "source": [
    "seoul_phar = df_satsun.copy()\n",
    "seoul_phar.tail()"
   ]
  },
  {
   "cell_type": "code",
   "execution_count": 36,
   "id": "ea488c56-dbf2-4bf8-9747-1ccf09b055fa",
   "metadata": {},
   "outputs": [
    {
     "data": {
      "text/plain": [
       "0        [서울특별시, 강남구, 헌릉로571길, 7,, 강남레체, 1층, 101호, (세곡동)]\n",
       "1                        [서울특별시, 영등포구, 양평로, 24,, (당산동6가)]\n",
       "2            [서울특별시, 중구, 서소문로, 116,, 유원빌딩, 1304호, (서소문동)]\n",
       "3         [서울특별시, 중구, 명동길, 74,, 카톨릭회관, 신관, B113호, (명동2가)]\n",
       "4                           [서울특별시, 관악구, 남부순환로, 1832, 1층]\n",
       "                              ...                        \n",
       "5402    [서울특별시, 강서구, 강서로, 242,, 상가동, 1층, 151호, (화곡동,, ...\n",
       "5403    [서울특별시, 도봉구, 삼양로, 580-4,, 1층, 101호, (쌍문동,, 노스브릭)]\n",
       "5404       [서울특별시, 중구, 장충단로13길, 7,, 401호, (을지로6가,, 을호빌딩)]\n",
       "5405                 [서울특별시, 광진구, 뚝섬로, 631-1,, 1층, (자양동)]\n",
       "5406                             [서울특별시, 성북구, 보국문로, 16-1]\n",
       "Name: 주소, Length: 5407, dtype: object"
      ]
     },
     "execution_count": 36,
     "metadata": {},
     "output_type": "execute_result"
    }
   ],
   "source": [
    "gu_tmp = seoul_phar['주소'].str.split(' ')\n",
    "gu_tmp"
   ]
  },
  {
   "cell_type": "code",
   "execution_count": 37,
   "id": "ace5dba8-b343-4932-ab40-187f56bf54bf",
   "metadata": {},
   "outputs": [],
   "source": [
    "gu = []\n",
    "for idx in gu_tmp.index:\n",
    "    try:\n",
    "        a=gu_tmp[idx][1]\n",
    "        gu.append(a)\n",
    "    except:\n",
    "        pass"
   ]
  },
  {
   "cell_type": "code",
   "execution_count": 38,
   "id": "6acc086d-51d3-4de1-bb27-4c0863524c0a",
   "metadata": {},
   "outputs": [
    {
     "data": {
      "text/plain": [
       "0        강남구\n",
       "1       영등포구\n",
       "2         중구\n",
       "3         중구\n",
       "4        관악구\n",
       "        ... \n",
       "5402     강서구\n",
       "5403     도봉구\n",
       "5404      중구\n",
       "5405     광진구\n",
       "5406     성북구\n",
       "Length: 5407, dtype: object"
      ]
     },
     "execution_count": 38,
     "metadata": {},
     "output_type": "execute_result"
    }
   ],
   "source": [
    "gu_phar = pd.Series(gu)\n",
    "gu_phar"
   ]
  },
  {
   "cell_type": "code",
   "execution_count": 39,
   "id": "3e55d82a-822a-4e56-9986-1828092b5647",
   "metadata": {},
   "outputs": [
    {
     "data": {
      "text/html": [
       "<div>\n",
       "<style scoped>\n",
       "    .dataframe tbody tr th:only-of-type {\n",
       "        vertical-align: middle;\n",
       "    }\n",
       "\n",
       "    .dataframe tbody tr th {\n",
       "        vertical-align: top;\n",
       "    }\n",
       "\n",
       "    .dataframe thead th {\n",
       "        text-align: right;\n",
       "    }\n",
       "</style>\n",
       "<table border=\"1\" class=\"dataframe\">\n",
       "  <thead>\n",
       "    <tr style=\"text-align: right;\">\n",
       "      <th></th>\n",
       "      <th>약국명</th>\n",
       "      <th>주소</th>\n",
       "      <th>전화번호</th>\n",
       "      <th>토요일영업여부</th>\n",
       "      <th>토요일종료시간</th>\n",
       "      <th>일요일영업여부</th>\n",
       "      <th>일요일종료시간</th>\n",
       "      <th>구</th>\n",
       "    </tr>\n",
       "  </thead>\n",
       "  <tbody>\n",
       "    <tr>\n",
       "      <th>5397</th>\n",
       "      <td>희영온누리약국</td>\n",
       "      <td>서울특별시 강남구 봉은사로 471 (삼성동)</td>\n",
       "      <td>02-547-1950</td>\n",
       "      <td>Y</td>\n",
       "      <td>1500</td>\n",
       "      <td>Y</td>\n",
       "      <td>1300</td>\n",
       "      <td>강남구</td>\n",
       "    </tr>\n",
       "    <tr>\n",
       "      <th>5398</th>\n",
       "      <td>희정약국</td>\n",
       "      <td>서울특별시 도봉구 마들로 859-19  (도봉동, 도봉한신아파트)</td>\n",
       "      <td>02-956-3300</td>\n",
       "      <td>Y</td>\n",
       "      <td>1300</td>\n",
       "      <td>N</td>\n",
       "      <td>N</td>\n",
       "      <td>도봉구</td>\n",
       "    </tr>\n",
       "    <tr>\n",
       "      <th>5399</th>\n",
       "      <td>힐링약국</td>\n",
       "      <td>서울특별시 종로구 종로5길 13, 삼공빌딩 지하1층 (청진동)</td>\n",
       "      <td>02-723-6593</td>\n",
       "      <td>Y</td>\n",
       "      <td>1500</td>\n",
       "      <td>N</td>\n",
       "      <td>N</td>\n",
       "      <td>종로구</td>\n",
       "    </tr>\n",
       "    <tr>\n",
       "      <th>5400</th>\n",
       "      <td>힐링약국</td>\n",
       "      <td>서울특별시 용산구 신흥로 53, 1층 (용산동2가)</td>\n",
       "      <td>02-797-1175</td>\n",
       "      <td>Y</td>\n",
       "      <td>1300</td>\n",
       "      <td>N</td>\n",
       "      <td>N</td>\n",
       "      <td>용산구</td>\n",
       "    </tr>\n",
       "    <tr>\n",
       "      <th>5401</th>\n",
       "      <td>힐링약국</td>\n",
       "      <td>서울특별시 송파구 오금로36길 4-17 (가락동)</td>\n",
       "      <td>02-407-9933</td>\n",
       "      <td>Y</td>\n",
       "      <td>1330</td>\n",
       "      <td>N</td>\n",
       "      <td>N</td>\n",
       "      <td>송파구</td>\n",
       "    </tr>\n",
       "    <tr>\n",
       "      <th>5402</th>\n",
       "      <td>힐스테이트솔약국</td>\n",
       "      <td>서울특별시 강서구 강서로 242, 상가동 1층 151호 (화곡동, 강서힐스테이트)</td>\n",
       "      <td>02-2695-6121</td>\n",
       "      <td>Y</td>\n",
       "      <td>1500</td>\n",
       "      <td>Y</td>\n",
       "      <td>1400</td>\n",
       "      <td>강서구</td>\n",
       "    </tr>\n",
       "    <tr>\n",
       "      <th>5403</th>\n",
       "      <td>힘찬약국</td>\n",
       "      <td>서울특별시 도봉구 삼양로 580-4, 1층 101호 (쌍문동, 노스브릭)</td>\n",
       "      <td>02-996-9114</td>\n",
       "      <td>Y</td>\n",
       "      <td>1800</td>\n",
       "      <td>Y</td>\n",
       "      <td>1800</td>\n",
       "      <td>도봉구</td>\n",
       "    </tr>\n",
       "    <tr>\n",
       "      <th>5404</th>\n",
       "      <td>힘찬약국</td>\n",
       "      <td>서울특별시 중구 장충단로13길 7, 401호 (을지로6가, 을호빌딩)</td>\n",
       "      <td>02-2279-7588</td>\n",
       "      <td>Y</td>\n",
       "      <td>1600</td>\n",
       "      <td>N</td>\n",
       "      <td>N</td>\n",
       "      <td>중구</td>\n",
       "    </tr>\n",
       "    <tr>\n",
       "      <th>5405</th>\n",
       "      <td>힘찬약국</td>\n",
       "      <td>서울특별시 광진구 뚝섬로 631-1, 1층 (자양동)</td>\n",
       "      <td>02-454-1221</td>\n",
       "      <td>Y</td>\n",
       "      <td>1500</td>\n",
       "      <td>N</td>\n",
       "      <td>N</td>\n",
       "      <td>광진구</td>\n",
       "    </tr>\n",
       "    <tr>\n",
       "      <th>5406</th>\n",
       "      <td>힘챤약국</td>\n",
       "      <td>서울특별시 성북구 보국문로 16-1</td>\n",
       "      <td>02-942-2088</td>\n",
       "      <td>Y</td>\n",
       "      <td>1400</td>\n",
       "      <td>N</td>\n",
       "      <td>N</td>\n",
       "      <td>성북구</td>\n",
       "    </tr>\n",
       "  </tbody>\n",
       "</table>\n",
       "</div>"
      ],
      "text/plain": [
       "           약국명                                             주소          전화번호  \\\n",
       "5397   희영온누리약국                      서울특별시 강남구 봉은사로 471 (삼성동)    02-547-1950   \n",
       "5398      희정약국           서울특별시 도봉구 마들로 859-19  (도봉동, 도봉한신아파트)   02-956-3300   \n",
       "5399      힐링약국             서울특별시 종로구 종로5길 13, 삼공빌딩 지하1층 (청진동)   02-723-6593   \n",
       "5400      힐링약국                   서울특별시 용산구 신흥로 53, 1층 (용산동2가)   02-797-1175   \n",
       "5401      힐링약국                   서울특별시 송파구 오금로36길 4-17 (가락동)    02-407-9933   \n",
       "5402  힐스테이트솔약국  서울특별시 강서구 강서로 242, 상가동 1층 151호 (화곡동, 강서힐스테이트)  02-2695-6121   \n",
       "5403      힘찬약국       서울특별시 도봉구 삼양로 580-4, 1층 101호 (쌍문동, 노스브릭)   02-996-9114   \n",
       "5404      힘찬약국         서울특별시 중구 장충단로13길 7, 401호 (을지로6가, 을호빌딩)  02-2279-7588   \n",
       "5405      힘찬약국                  서울특별시 광진구 뚝섬로 631-1, 1층 (자양동)   02-454-1221   \n",
       "5406      힘챤약국                            서울특별시 성북구 보국문로 16-1   02-942-2088   \n",
       "\n",
       "     토요일영업여부 토요일종료시간 일요일영업여부 일요일종료시간    구  \n",
       "5397       Y    1500       Y    1300  강남구  \n",
       "5398       Y    1300       N       N  도봉구  \n",
       "5399       Y    1500       N       N  종로구  \n",
       "5400       Y    1300       N       N  용산구  \n",
       "5401       Y    1330       N       N  송파구  \n",
       "5402       Y    1500       Y    1400  강서구  \n",
       "5403       Y    1800       Y    1800  도봉구  \n",
       "5404       Y    1600       N       N   중구  \n",
       "5405       Y    1500       N       N  광진구  \n",
       "5406       Y    1400       N       N  성북구  "
      ]
     },
     "execution_count": 39,
     "metadata": {},
     "output_type": "execute_result"
    }
   ],
   "source": [
    "seoul_phar['구'] = gu_phar\n",
    "seoul_phar.tail(10)"
   ]
  },
  {
   "cell_type": "code",
   "execution_count": 40,
   "id": "12fce88e-1994-49f6-a2ef-0435209754ae",
   "metadata": {},
   "outputs": [],
   "source": [
    "# 패키지 임포트\n",
    "import matplotlib.pyplot as plt\n",
    "%matplotlib inline \n",
    "import seaborn as sns\n",
    "\n",
    "# 한글 문제\n",
    "# matplotlit의 기본 폰트에서 한글 지원되지 않기 때문에\n",
    "# matplotlib의 폰트 변경 필요\n",
    "import platform\n",
    "\n",
    "from matplotlib import font_manager, rc\n",
    "plt.rcParams['axes.unicode_minus'] = False\n",
    "\n",
    "if platform.system() == 'Darwin':  # 맥OS \n",
    "    rc('font', family='AppleGothic')\n",
    "elif platform.system() == 'Windows':  # 윈도우\n",
    "    path = \"c:/Windows/Fonts/malgun.ttf\"\n",
    "    font_name = font_manager.FontProperties(fname=path).get_name()\n",
    "    rc('font', family=font_name)\n",
    "else:\n",
    "    print('Unknown system...  sorry~~~')"
   ]
  },
  {
   "cell_type": "code",
   "execution_count": 41,
   "id": "d0a1a5c4-b42a-4590-a9ac-0a375954e08e",
   "metadata": {},
   "outputs": [
    {
     "data": {
      "text/html": [
       "<div>\n",
       "<style scoped>\n",
       "    .dataframe tbody tr th:only-of-type {\n",
       "        vertical-align: middle;\n",
       "    }\n",
       "\n",
       "    .dataframe tbody tr th {\n",
       "        vertical-align: top;\n",
       "    }\n",
       "\n",
       "    .dataframe thead th {\n",
       "        text-align: right;\n",
       "    }\n",
       "</style>\n",
       "<table border=\"1\" class=\"dataframe\">\n",
       "  <thead>\n",
       "    <tr style=\"text-align: right;\">\n",
       "      <th></th>\n",
       "      <th>구</th>\n",
       "      <th>약국의 수</th>\n",
       "    </tr>\n",
       "  </thead>\n",
       "  <tbody>\n",
       "    <tr>\n",
       "      <th>0</th>\n",
       "      <td>강남구</td>\n",
       "      <td>510</td>\n",
       "    </tr>\n",
       "    <tr>\n",
       "      <th>1</th>\n",
       "      <td>강동구</td>\n",
       "      <td>256</td>\n",
       "    </tr>\n",
       "    <tr>\n",
       "      <th>2</th>\n",
       "      <td>강북구</td>\n",
       "      <td>168</td>\n",
       "    </tr>\n",
       "    <tr>\n",
       "      <th>3</th>\n",
       "      <td>강서구</td>\n",
       "      <td>264</td>\n",
       "    </tr>\n",
       "    <tr>\n",
       "      <th>4</th>\n",
       "      <td>관악구</td>\n",
       "      <td>240</td>\n",
       "    </tr>\n",
       "    <tr>\n",
       "      <th>5</th>\n",
       "      <td>광진구</td>\n",
       "      <td>178</td>\n",
       "    </tr>\n",
       "    <tr>\n",
       "      <th>6</th>\n",
       "      <td>구로구</td>\n",
       "      <td>191</td>\n",
       "    </tr>\n",
       "    <tr>\n",
       "      <th>7</th>\n",
       "      <td>금천구</td>\n",
       "      <td>135</td>\n",
       "    </tr>\n",
       "    <tr>\n",
       "      <th>8</th>\n",
       "      <td>노원구</td>\n",
       "      <td>236</td>\n",
       "    </tr>\n",
       "    <tr>\n",
       "      <th>9</th>\n",
       "      <td>도봉구</td>\n",
       "      <td>120</td>\n",
       "    </tr>\n",
       "    <tr>\n",
       "      <th>10</th>\n",
       "      <td>동대문구</td>\n",
       "      <td>215</td>\n",
       "    </tr>\n",
       "    <tr>\n",
       "      <th>11</th>\n",
       "      <td>동작구</td>\n",
       "      <td>192</td>\n",
       "    </tr>\n",
       "    <tr>\n",
       "      <th>12</th>\n",
       "      <td>마포구</td>\n",
       "      <td>199</td>\n",
       "    </tr>\n",
       "    <tr>\n",
       "      <th>13</th>\n",
       "      <td>서대문구</td>\n",
       "      <td>162</td>\n",
       "    </tr>\n",
       "    <tr>\n",
       "      <th>14</th>\n",
       "      <td>서초구</td>\n",
       "      <td>281</td>\n",
       "    </tr>\n",
       "    <tr>\n",
       "      <th>15</th>\n",
       "      <td>성동구</td>\n",
       "      <td>147</td>\n",
       "    </tr>\n",
       "    <tr>\n",
       "      <th>16</th>\n",
       "      <td>성북구</td>\n",
       "      <td>196</td>\n",
       "    </tr>\n",
       "    <tr>\n",
       "      <th>17</th>\n",
       "      <td>송파구</td>\n",
       "      <td>386</td>\n",
       "    </tr>\n",
       "    <tr>\n",
       "      <th>18</th>\n",
       "      <td>양천구</td>\n",
       "      <td>186</td>\n",
       "    </tr>\n",
       "    <tr>\n",
       "      <th>19</th>\n",
       "      <td>영등포구</td>\n",
       "      <td>264</td>\n",
       "    </tr>\n",
       "    <tr>\n",
       "      <th>20</th>\n",
       "      <td>용산구</td>\n",
       "      <td>118</td>\n",
       "    </tr>\n",
       "    <tr>\n",
       "      <th>21</th>\n",
       "      <td>은평구</td>\n",
       "      <td>226</td>\n",
       "    </tr>\n",
       "    <tr>\n",
       "      <th>22</th>\n",
       "      <td>종로구</td>\n",
       "      <td>187</td>\n",
       "    </tr>\n",
       "    <tr>\n",
       "      <th>23</th>\n",
       "      <td>중구</td>\n",
       "      <td>172</td>\n",
       "    </tr>\n",
       "    <tr>\n",
       "      <th>24</th>\n",
       "      <td>중랑구</td>\n",
       "      <td>178</td>\n",
       "    </tr>\n",
       "  </tbody>\n",
       "</table>\n",
       "</div>"
      ],
      "text/plain": [
       "       구  약국의 수\n",
       "0    강남구    510\n",
       "1    강동구    256\n",
       "2    강북구    168\n",
       "3    강서구    264\n",
       "4    관악구    240\n",
       "5    광진구    178\n",
       "6    구로구    191\n",
       "7    금천구    135\n",
       "8    노원구    236\n",
       "9    도봉구    120\n",
       "10  동대문구    215\n",
       "11   동작구    192\n",
       "12   마포구    199\n",
       "13  서대문구    162\n",
       "14   서초구    281\n",
       "15   성동구    147\n",
       "16   성북구    196\n",
       "17   송파구    386\n",
       "18   양천구    186\n",
       "19  영등포구    264\n",
       "20   용산구    118\n",
       "21   은평구    226\n",
       "22   종로구    187\n",
       "23    중구    172\n",
       "24   중랑구    178"
      ]
     },
     "execution_count": 41,
     "metadata": {},
     "output_type": "execute_result"
    }
   ],
   "source": [
    "gu_counts = seoul_phar.groupby('구')['구'].value_counts()\n",
    "gu_df = pd.DataFrame(gu_counts).reset_index()\n",
    "gu_df['약국의 수'] = gu_df['count']\n",
    "gu_df.drop(columns='count', inplace=True)\n",
    "gu_df"
   ]
  },
  {
   "cell_type": "code",
   "execution_count": 42,
   "id": "11870c18-b1d5-466e-ba96-c67267a0939f",
   "metadata": {},
   "outputs": [
    {
     "data": {
      "image/png": "[encoded data removed]",
      "text/plain": [
       "<Figure size 640x480 with 1 Axes>"
      ]
     },
     "metadata": {},
     "output_type": "display_data"
    }
   ],
   "source": [
    "# bar graph\n",
    "colors = sns.color_palette('hls', len(gu_df))\n",
    "gu_df.plot(kind='bar', title='서울시 구별 약국의 수 비교', x='구', y='약국의 수', color=colors)\n",
    "plt.show()"
   ]
  },
  {
   "cell_type": "code",
   "execution_count": 48,
   "id": "b38509d4-ee80-49bd-be12-7ed5007d3201",
   "metadata": {},
   "outputs": [
    {
     "data": {
      "text/plain": [
       "Text(0.5, 1.0, '서울시 구별 약국 수')"
      ]
     },
     "execution_count": 48,
     "metadata": {},
     "output_type": "execute_result"
    },
    {
     "data": {
      "image/png": "[encoded data removed]",
      "text/plain": [
       "<Figure size 640x480 with 1 Axes>"
      ]
     },
     "metadata": {},
     "output_type": "display_data"
    }
   ],
   "source": [
    "# 더 간단한 방법 \n",
    "tmp = []\n",
    "for v in df_fin['주소'].values :\n",
    "    tmp.append(v.split(' ')[1])\n",
    "pd.Series(tmp).value_counts().plot(kind='bar')\n",
    "plt.title('서울시 구별 약국 수')"
   ]
  }
 ],
 "metadata": {
  "kernelspec": {
   "display_name": "Python 3 (ipykernel)",
   "language": "python",
   "name": "python3"
  },
  "language_info": {
   "codemirror_mode": {
    "name": "ipython",
    "version": 3
   },
   "file_extension": ".py",
   "mimetype": "text/x-python",
   "name": "python",
   "nbconvert_exporter": "python",
   "pygments_lexer": "ipython3",
   "version": "3.10.10"
  }
 },
 "nbformat": 4,
 "nbformat_minor": 5
}
