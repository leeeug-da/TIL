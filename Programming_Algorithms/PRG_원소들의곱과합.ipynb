{
 "cells": [
  {
   "cell_type": "markdown",
   "id": "6809b779",
   "metadata": {},
   "source": [
    "## 프로그래머스\n",
    "### 원소들의 곱과 합\n",
    "\n",
    "#### 문제 설명\n",
    "정수가 담긴 리스트 num_list가 주어질 때, 모든 원소들의 곱이 모든 원소들의 합의 제곱보다 작으면 1을 크면 0을 return하도록 solution 함수를 완성해주세요.\n",
    "\n",
    "#### 제한사항\n",
    "- 2 ≤ num_list의 길이 ≤ 10\n",
    "- 1 ≤ num_list의 원소 ≤ 9\n",
    "\n",
    "#### 입출력 예\n",
    "|num_list|\tresult|\n",
    "|---|---|\n",
    "|[3, 4, 5, 2, 1]|\t1|\n",
    "|[5, 7, 8, 3]|\t0|\n",
    "\n",
    "#### 입출력 예 설명\n",
    "**입출력 예 #1**\n",
    "- 모든 원소의 곱은 120, 합의 제곱은 225이므로 1을 return합니다.\n",
    "\n",
    "**입출력 예 #2**\n",
    "- 모든 원소의 곱은 840, 합의 제곱은 529이므로 0을 return합니다."
   ]
  },
  {
   "cell_type": "code",
   "execution_count": 14,
   "id": "a7480e92",
   "metadata": {},
   "outputs": [],
   "source": [
    "def solution(num_list):\n",
    "    answer = 0\n",
    "    sum_answer = 0\n",
    "    mul_answer = 1\n",
    "\n",
    "    for n in num_list:\n",
    "        sum_answer += n\n",
    "        mul_answer *= n\n",
    "    \n",
    "    answer = 1 if (sum_answer**2) > mul_answer else 0\n",
    "    return answer"
   ]
  },
  {
   "cell_type": "code",
   "execution_count": 17,
   "id": "db55e474",
   "metadata": {},
   "outputs": [
    {
     "data": {
      "text/plain": [
       "1"
      ]
     },
     "execution_count": 17,
     "metadata": {},
     "output_type": "execute_result"
    }
   ],
   "source": [
    "# 테스트\n",
    "\n",
    "num_list = [3, 4, 5, 2, 1]\n",
    "\n",
    "solution(num_list)"
   ]
  },
  {
   "cell_type": "code",
   "execution_count": 18,
   "id": "5fbb7601",
   "metadata": {},
   "outputs": [
    {
     "data": {
      "text/plain": [
       "0"
      ]
     },
     "execution_count": 18,
     "metadata": {},
     "output_type": "execute_result"
    }
   ],
   "source": [
    "# 테스트\n",
    "\n",
    "num_list = [5, 7, 8, 3]\n",
    "\n",
    "solution(num_list)"
   ]
  }
 ],
 "metadata": {
  "kernelspec": {
   "display_name": "Python 3 (ipykernel)",
   "language": "python",
   "name": "python3"
  },
  "language_info": {
   "codemirror_mode": {
    "name": "ipython",
    "version": 3
   },
   "file_extension": ".py",
   "mimetype": "text/x-python",
   "name": "python",
   "nbconvert_exporter": "python",
   "pygments_lexer": "ipython3",
   "version": "3.11.5"
  }
 },
 "nbformat": 4,
 "nbformat_minor": 5
}
