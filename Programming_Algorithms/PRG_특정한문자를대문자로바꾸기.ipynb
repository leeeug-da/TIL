{
 "cells": [
  {
   "cell_type": "markdown",
   "id": "6809b779",
   "metadata": {},
   "source": [
    "## 프로그래머스\n",
    "### 특정한 문자를 대문자로 바꾸기\n",
    "\n",
    "#### 문제 설명\n",
    "영소문자로 이루어진 문자열 my_string과 영소문자 1글자로 이루어진 문자열 alp가 매개변수로 주어질 때, my_string에서 alp에 해당하는 모든 글자를 대문자로 바꾼 문자열을 return 하는 solution 함수를 작성해 주세요.\n",
    "\n",
    "#### 제한사항\n",
    "- 1 ≤ my_string의 길이 ≤ 1,000\n",
    "\n",
    "#### 입출력 예\n",
    "|my_string|\talp|\tresult|\n",
    "|---|---|---|\n",
    "|\"programmers\"|\t\"p\"|\t\"Programmers\"|\n",
    "|\"lowercase\"|\t\"x\"|\t\"lowercase\"|\n",
    "\n",
    "#### 입출력 예 설명\n",
    "**입출력 예 #1**\n",
    "- 예제 1번의 my_string은 \"programmers\"이고 alp가 \"p\"이므로 my_string에 모든 p를 대문자인 P로 바꾼 문자열 \"Programmers\"를 return 합니다.\n",
    "\n",
    "\n",
    "**입출력 예 #2**\n",
    "- 예제 2번의 alp는 \"x\"이고 my_string에 x는 없습니다. 따라서 \"lowercase\"를 return 합니다."
   ]
  },
  {
   "cell_type": "code",
   "execution_count": 8,
   "id": "4cda6754",
   "metadata": {},
   "outputs": [],
   "source": [
    "def solution(my_string, alp):\n",
    "    answer = my_string.replace(alp, alp.upper())\n",
    "    return answer"
   ]
  },
  {
   "cell_type": "code",
   "execution_count": 9,
   "id": "bde912b0",
   "metadata": {},
   "outputs": [
    {
     "data": {
      "text/plain": [
       "'Programmers'"
      ]
     },
     "execution_count": 9,
     "metadata": {},
     "output_type": "execute_result"
    }
   ],
   "source": [
    "# 테스트\n",
    "\n",
    "my_string = \"programmers\"\n",
    "alp = \"p\"\n",
    "\n",
    "solution(my_string, alp)"
   ]
  },
  {
   "cell_type": "code",
   "execution_count": 10,
   "id": "470431e7",
   "metadata": {},
   "outputs": [
    {
     "data": {
      "text/plain": [
       "'lowercase'"
      ]
     },
     "execution_count": 10,
     "metadata": {},
     "output_type": "execute_result"
    }
   ],
   "source": [
    "# 테스트\n",
    "\n",
    "my_string = \"lowercase\"\n",
    "alp = \"x\"\n",
    "\n",
    "solution(my_string, alp)"
   ]
  }
 ],
 "metadata": {
  "kernelspec": {
   "display_name": "Python 3 (ipykernel)",
   "language": "python",
   "name": "python3"
  },
  "language_info": {
   "codemirror_mode": {
    "name": "ipython",
    "version": 3
   },
   "file_extension": ".py",
   "mimetype": "text/x-python",
   "name": "python",
   "nbconvert_exporter": "python",
   "pygments_lexer": "ipython3",
   "version": "3.11.5"
  }
 },
 "nbformat": 4,
 "nbformat_minor": 5
}
