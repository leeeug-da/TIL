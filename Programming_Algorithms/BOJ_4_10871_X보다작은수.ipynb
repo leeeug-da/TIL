{
 "cells": [
  {
   "cell_type": "markdown",
   "metadata": {},
   "source": [
    "# **BOJ 단계별로 풀어보기** \n",
    "## **📌 4단계 | 10871번 | X보다 작은 수**\n",
    "#### **✔️ 문제**\n",
    "정수 N개로 이루어진 수열 A와 정수 X가 주어진다. 이때, A에서 X보다 작은 수를 모두 출력하는 프로그램을 작성하시오.\n",
    "#### **✔️ 입력**\n",
    "첫째 줄에 N과 X가 주어진다. (1 ≤ N, X ≤ 10,000)\n",
    "\n",
    "둘째 줄에 수열 A를 이루는 정수 N개가 주어진다. 주어지는 정수는 모두 1보다 크거나 같고, 10,000보다 작거나 같은 정수이다.\n",
    "#### **✔️ 출력**\n",
    "X보다 작은 수를 입력받은 순서대로 공백으로 구분해 출력한다. X보다 작은 수는 적어도 하나 존재한다.\n",
    "#### **✔️ 예제 입력 1**\n",
    "10 5 <br/>\n",
    "1 10 4 9 2 3 8 5 7 6 <br/>\n",
    "#### **✔️ 예제 출력 1**\n",
    "1 4 2 3"
   ]
  },
  {
   "cell_type": "code",
   "execution_count": 10,
   "metadata": {},
   "outputs": [
    {
     "name": "stdout",
     "output_type": "stream",
     "text": [
      "10 5\n",
      "1 10 4 9 2 3 8 5 7 6\n",
      "1 4 2 3 "
     ]
    }
   ],
   "source": [
    "N, X = map(int, input().split())\n",
    "A = list(map(int, input().split()))\n",
    "\n",
    "for a in A:\n",
    "    if a < X:\n",
    "        print(a, end=\" \")"
   ]
  }
 ],
 "metadata": {
  "kernelspec": {
   "display_name": "Python 3 (ipykernel)",
   "language": "python",
   "name": "python3"
  },
  "language_info": {
   "codemirror_mode": {
    "name": "ipython",
    "version": 3
   },
   "file_extension": ".py",
   "mimetype": "text/x-python",
   "name": "python",
   "nbconvert_exporter": "python",
   "pygments_lexer": "ipython3",
   "version": "3.11.5"
  }
 },
 "nbformat": 4,
 "nbformat_minor": 4
}
