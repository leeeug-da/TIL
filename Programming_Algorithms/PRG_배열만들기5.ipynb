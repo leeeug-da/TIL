{
 "cells": [
  {
   "cell_type": "markdown",
   "id": "6809b779",
   "metadata": {},
   "source": [
    "## 프로그래머스\n",
    "### 배열 만들기 5\n",
    "\n",
    "#### 문제 설명\n",
    "문자열 배열 intStrs와 정수 k, s, l가 주어집니다. intStrs의 원소는 숫자로 이루어져 있습니다.\n",
    "\n",
    "배열 intStrs의 각 원소마다 s번 인덱스에서 시작하는 길이 l짜리 부분 문자열을 잘라내 정수로 변환합니다. 이때 변환한 정수값이 k보다 큰 값들을 담은 배열을 return 하는 solution 함수를 완성해 주세요.\n",
    "\n",
    "\n",
    "\n",
    "#### 제한사항\n",
    "- 0 ≤ s < 100\n",
    "- 1 ≤ l ≤ 8\n",
    "- 10l - 1 ≤ k < 10l\n",
    "- 1 ≤ intStrs의 길이 ≤ 10,000\n",
    "    - s + l ≤ intStrs의 원소의 길이 ≤ 120\n",
    "\n",
    "#### 입출력 예\n",
    "|intStrs|\tk|\ts|\tl|\tresult|\n",
    "|---|---|---|---|---|\n",
    "|[\"0123456789\",\"9876543210\",\"9999999999999\"]|\t50000|\t5|\t5|\t[56789, 99999]|"
   ]
  },
  {
   "cell_type": "code",
   "execution_count": 4,
   "id": "4cda6754",
   "metadata": {},
   "outputs": [],
   "source": [
    "def solution(intStrs, k, s, l):\n",
    "    answer = []\n",
    "    for i in intStrs:\n",
    "        x = int(i[s:s+l])\n",
    "\n",
    "        if x > k:\n",
    "            answer.append(x)\n",
    "    return answer"
   ]
  },
  {
   "cell_type": "code",
   "execution_count": 5,
   "id": "470431e7",
   "metadata": {},
   "outputs": [
    {
     "data": {
      "text/plain": [
       "[56789, 99999]"
      ]
     },
     "execution_count": 5,
     "metadata": {},
     "output_type": "execute_result"
    }
   ],
   "source": [
    "# 테스트\n",
    "\n",
    "intStrs = [\"0123456789\",\"9876543210\",\"9999999999999\"]\n",
    "k = 50000\n",
    "s = 5\n",
    "l = 5\n",
    "\n",
    "solution(intStrs, k, s, l)"
   ]
  }
 ],
 "metadata": {
  "kernelspec": {
   "display_name": "Python 3 (ipykernel)",
   "language": "python",
   "name": "python3"
  },
  "language_info": {
   "codemirror_mode": {
    "name": "ipython",
    "version": 3
   },
   "file_extension": ".py",
   "mimetype": "text/x-python",
   "name": "python",
   "nbconvert_exporter": "python",
   "pygments_lexer": "ipython3",
   "version": "3.11.5"
  }
 },
 "nbformat": 4,
 "nbformat_minor": 5
}
