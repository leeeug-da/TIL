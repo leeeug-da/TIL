{
 "cells": [
  {
   "cell_type": "markdown",
   "id": "6809b779",
   "metadata": {},
   "source": [
    "## 프로그래머스\n",
    "### 배열 만들기 4\n",
    "\n",
    "#### 문제 설명\n",
    "정수 배열 arr가 주어집니다. arr를 이용해 새로운 배열 stk를 만드려고 합니다.\n",
    "\n",
    "변수 i를 만들어 초기값을 0으로 설정한 후 i가 arr의 길이보다 작으면 다음 작업을 반복합니다.\n",
    "\n",
    "- 만약 stk가 빈 배열이라면 arr[i]를 stk에 추가하고 i에 1을 더합니다.\n",
    "- stk에 원소가 있고, stk의 마지막 원소가 arr[i]보다 작으면 arr[i]를 stk의 뒤에 추가하고 i에 1을 더합니다.\n",
    "- stk에 원소가 있는데 stk의 마지막 원소가 arr[i]보다 크거나 같으면 stk의 마지막 원소를 stk에서 제거합니다.\n",
    "\n",
    "위 작업을 마친 후 만들어진 stk를 return 하는 solution 함수를 완성해 주세요.\n",
    "\n",
    "#### 제한사항\n",
    "- 1 ≤ arr의 길이 ≤ 100,000\n",
    "    - 1 ≤ arr의 원소 ≤ 100,000\n",
    "\n",
    "#### 입출력 예\n",
    "|arr|\tresult|\n",
    "|---|---|\n",
    "|[1, 4, 2, 5, 3]|\t[1, 2, 3]|\n",
    "\n",
    "#### 입출력 예 설명\n",
    "**입출력 예 #1**\n",
    "- 각 작업을 마친 후에 배열의 변화를 나타내면 다음 표와 같습니다.\n",
    "\n",
    "|i|\tarr[i]|\tstk|\n",
    "|---|---|---|\n",
    "|0|\t1|\t[]|\n",
    "|1|\t4|\t[1]|\n",
    "|2|\t2|\t[1, 4]|\n",
    "|2|\t2|\t[1]|\n",
    "|3|\t5|\t[1, 2]|\n",
    "|4|\t3|\t[1, 2, 5]|\n",
    "|4|\t3|\t[1, 2]|\n",
    "|-|\t-|\t[1, 2, 3]|\n",
    "\n",
    "- 따라서 [1, 2, 3]을 return 합니다."
   ]
  },
  {
   "cell_type": "code",
   "execution_count": 11,
   "id": "4cda6754",
   "metadata": {},
   "outputs": [],
   "source": [
    "def solution(arr):\n",
    "    stk = []\n",
    "    i = 0\n",
    "    \n",
    "    while i < len(arr):\n",
    "        if not stk:\n",
    "            stk.append(arr[i])\n",
    "            i += 1\n",
    "        elif stk[-1] < arr[i]:\n",
    "            stk.append(arr[i])\n",
    "            i += 1\n",
    "        else:\n",
    "            stk.pop()\n",
    "    return stk"
   ]
  },
  {
   "cell_type": "code",
   "execution_count": 12,
   "id": "470431e7",
   "metadata": {},
   "outputs": [
    {
     "data": {
      "text/plain": [
       "[1, 2, 3]"
      ]
     },
     "execution_count": 12,
     "metadata": {},
     "output_type": "execute_result"
    }
   ],
   "source": [
    "# 테스트\n",
    "\n",
    "arr = [1, 4, 2, 5, 3]\n",
    "\n",
    "solution(arr)"
   ]
  }
 ],
 "metadata": {
  "kernelspec": {
   "display_name": "Python 3 (ipykernel)",
   "language": "python",
   "name": "python3"
  },
  "language_info": {
   "codemirror_mode": {
    "name": "ipython",
    "version": 3
   },
   "file_extension": ".py",
   "mimetype": "text/x-python",
   "name": "python",
   "nbconvert_exporter": "python",
   "pygments_lexer": "ipython3",
   "version": "3.11.5"
  }
 },
 "nbformat": 4,
 "nbformat_minor": 5
}
