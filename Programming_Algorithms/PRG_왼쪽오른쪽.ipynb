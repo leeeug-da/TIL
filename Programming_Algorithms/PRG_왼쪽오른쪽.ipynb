{
 "cells": [
  {
   "cell_type": "markdown",
   "id": "6809b779",
   "metadata": {},
   "source": [
    "## 프로그래머스\n",
    "### 왼쪽 오른쪽\n",
    "\n",
    "#### 문제 설명\n",
    "문자열 리스트 str_list에는 \"u\", \"d\", \"l\", \"r\" 네 개의 문자열이 여러 개 저장되어 있습니다. str_list에서 \"l\"과 \"r\" 중 먼저 나오는 문자열이 \"l\"이라면 해당 문자열을 기준으로 왼쪽에 있는 문자열들을 순서대로 담은 리스트를, 먼저 나오는 문자열이 \"r\"이라면 해당 문자열을 기준으로 오른쪽에 있는 문자열들을 순서대로 담은 리스트를 return하도록 solution 함수를 완성해주세요. \"l\"이나 \"r\"이 없다면 빈 리스트를 return합니다.\n",
    "\n",
    "#### 제한사항\n",
    "- 1 ≤ str_list의 길이 ≤ 20\n",
    "- str_list는 \"u\", \"d\", \"l\", \"r\" 네 개의 문자열로 이루어져 있습니다.\n",
    "\n",
    "#### 입출력 예\n",
    "|str_list|\tresult|\n",
    "|---|---|\n",
    "|[\"u\", \"u\", \"l\", \"r\"]|\t[\"u\", \"u\"]|\n",
    "|[\"l\"]|\t[]|\n",
    "\n",
    "#### 입출력 예 설명\n",
    "**입출력 예 #1**\n",
    "- \"r\"보다 \"l\"이 먼저 나왔기 때문에 \"l\"의 왼쪽에 있는 문자열들을 담은 리스트인 [\"u\", \"u\"]를 return합니다.\n",
    "\n",
    "**입출력 예 #2**\n",
    "- \"l\"의 왼쪽에 문자열이 없기 때문에 빈 리스트를 return합니다."
   ]
  },
  {
   "cell_type": "code",
   "execution_count": 8,
   "id": "4cda6754",
   "metadata": {},
   "outputs": [],
   "source": [
    "def solution(str_list):\n",
    "    answer = []\n",
    "    for i in range(len(str_list)):\n",
    "        if str_list[i] == \"l\":\n",
    "            answer = str_list[:i]\n",
    "            break\n",
    "        elif str_list[i] == \"r\":\n",
    "            answer = str_list[i+1:]\n",
    "            break\n",
    "    return answer"
   ]
  },
  {
   "cell_type": "code",
   "execution_count": 6,
   "id": "470431e7",
   "metadata": {
    "scrolled": true
   },
   "outputs": [
    {
     "data": {
      "text/plain": [
       "['u', 'u']"
      ]
     },
     "execution_count": 6,
     "metadata": {},
     "output_type": "execute_result"
    }
   ],
   "source": [
    "# 테스트\n",
    "\n",
    "str_list = [\"u\", \"u\", \"l\", \"r\"]\n",
    "\n",
    "solution(str_list)"
   ]
  },
  {
   "cell_type": "code",
   "execution_count": 7,
   "id": "411aed09",
   "metadata": {},
   "outputs": [
    {
     "data": {
      "text/plain": [
       "[]"
      ]
     },
     "execution_count": 7,
     "metadata": {},
     "output_type": "execute_result"
    }
   ],
   "source": [
    "# 테스트\n",
    "\n",
    "str_list = [\"l\"]\n",
    "\n",
    "solution(str_list)"
   ]
  }
 ],
 "metadata": {
  "kernelspec": {
   "display_name": "Python 3 (ipykernel)",
   "language": "python",
   "name": "python3"
  },
  "language_info": {
   "codemirror_mode": {
    "name": "ipython",
    "version": 3
   },
   "file_extension": ".py",
   "mimetype": "text/x-python",
   "name": "python",
   "nbconvert_exporter": "python",
   "pygments_lexer": "ipython3",
   "version": "3.11.5"
  }
 },
 "nbformat": 4,
 "nbformat_minor": 5
}
