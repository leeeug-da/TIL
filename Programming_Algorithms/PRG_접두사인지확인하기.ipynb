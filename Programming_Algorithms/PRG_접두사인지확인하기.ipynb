{
 "cells": [
  {
   "cell_type": "markdown",
   "id": "6809b779",
   "metadata": {},
   "source": [
    "## 프로그래머스\n",
    "### 접두사인지 확인하기\n",
    "\n",
    "#### 문제 설명\n",
    "어떤 문자열에 대해서 접두사는 특정 인덱스까지의 문자열을 의미합니다. 예를 들어, \"banana\"의 모든 접두사는 \"b\", \"ba\", \"ban\", \"bana\", \"banan\", \"banana\"입니다.\n",
    "문자열 my_string과 is_prefix가 주어질 때, is_prefix가 my_string의 접두사라면 1을, 아니면 0을 return 하는 solution 함수를 작성해 주세요.\n",
    "\n",
    "#### 제한사항\n",
    "- 1 ≤ my_string의 길이 ≤ 100\n",
    "- 1 ≤ is_prefix의 길이 ≤ 100\n",
    "- my_string과 is_prefix는 영소문자로만 이루어져 있습니다.\n",
    "\n",
    "#### 입출력 예\n",
    "|my_string|\tis_prefix|\tresult|\n",
    "|---|---|---|\n",
    "|\"banana\"|\t\"ban\"|\t1|\n",
    "|\"banana\"|\t\"nan\"|\t0|\n",
    "|\"banana\"|\t\"abcd\"|\t0|\n",
    "|\"banana\"|\t\"bananan\"|\t0|\n",
    "\n",
    "\n",
    "#### 입출력 예 설명\n",
    "**입출력 예 #1**\n",
    "- 예제 1번에서 is_prefix가 my_string의 접두사이기 때문에 1을 return 합니다.\n",
    "\n",
    "**입출력 예 #2**\n",
    "- 예제 2번에서 is_prefix가 my_string의 접두사가 아니기 때문에 0을 return 합니다."
   ]
  },
  {
   "cell_type": "code",
   "execution_count": 5,
   "id": "9336a93a",
   "metadata": {},
   "outputs": [],
   "source": [
    "def solution(my_string, is_prefix):\n",
    "    answer = 0\n",
    "    prefix = []\n",
    "    for i in range(1, len(my_string)+1):\n",
    "        prefix.append(my_string[:i])\n",
    "    if is_prefix in prefix:\n",
    "        answer += 1\n",
    "    return answer"
   ]
  },
  {
   "cell_type": "code",
   "execution_count": 6,
   "id": "b2e2fdcc",
   "metadata": {},
   "outputs": [
    {
     "data": {
      "text/plain": [
       "1"
      ]
     },
     "execution_count": 6,
     "metadata": {},
     "output_type": "execute_result"
    }
   ],
   "source": [
    "# 테스트\n",
    "\n",
    "my_string = \"banana\"\n",
    "is_prefix = \"ban\"\n",
    "\n",
    "solution(my_string, is_prefix)"
   ]
  },
  {
   "cell_type": "code",
   "execution_count": 7,
   "id": "470431e7",
   "metadata": {},
   "outputs": [
    {
     "data": {
      "text/plain": [
       "0"
      ]
     },
     "execution_count": 7,
     "metadata": {},
     "output_type": "execute_result"
    }
   ],
   "source": [
    "# 테스트\n",
    "\n",
    "my_string = \"banana\"\n",
    "is_prefix = \"nan\"\n",
    "\n",
    "solution(my_string, is_prefix)"
   ]
  }
 ],
 "metadata": {
  "kernelspec": {
   "display_name": "Python 3 (ipykernel)",
   "language": "python",
   "name": "python3"
  },
  "language_info": {
   "codemirror_mode": {
    "name": "ipython",
    "version": 3
   },
   "file_extension": ".py",
   "mimetype": "text/x-python",
   "name": "python",
   "nbconvert_exporter": "python",
   "pygments_lexer": "ipython3",
   "version": "3.11.5"
  }
 },
 "nbformat": 4,
 "nbformat_minor": 5
}
