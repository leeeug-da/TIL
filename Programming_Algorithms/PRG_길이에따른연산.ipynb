{
 "cells": [
  {
   "cell_type": "markdown",
   "id": "6809b779",
   "metadata": {},
   "source": [
    "## 프로그래머스\n",
    "### 길이에 따른 연산\n",
    "\n",
    "#### 문제 설명\n",
    "정수가 담긴 리스트 num_list가 주어질 때, 리스트의 길이가 11 이상이면 리스트에 있는 모든 원소의 합을 10 이하이면 모든 원소의 곱을 return하도록 solution 함수를 완성해주세요.\n",
    "\n",
    "#### 제한사항\n",
    "- 2 ≤ num_list의 길이 ≤ 20\n",
    "- 1 ≤ num_list의 원소 ≤ 9\n",
    "- num_list의 원소를 모두 곱했을 때 2,147,483,647를 넘는 입력은 주어지지 않습니다.\n",
    "\n",
    "#### 입출력 예\n",
    "|num_list|\tresult|\n",
    "|---|---|\n",
    "|[3, 4, 5, 2, 5, 4, 6, 7, 3, 7, 2, 2, 1]|\t51|\n",
    "|[2, 3, 4, 5]|120|\t\n",
    "\n",
    "#### 입출력 예 설명\n",
    "**입출력 예 #1**\n",
    "- 리스트의 길이가 13이므로 모든 원소의 합인 51을 return합니다.\n",
    "\n",
    "**입출력 예 #2**\n",
    "- 리스트의 길이가 4이므로 모든 원소의 곱인 120을 return합니다."
   ]
  },
  {
   "cell_type": "code",
   "execution_count": 2,
   "id": "4cda6754",
   "metadata": {},
   "outputs": [],
   "source": [
    "def solution(num_list):\n",
    "    if len(num_list) >= 11:\n",
    "        return sum(num_list)\n",
    "    else:\n",
    "        answer = 1\n",
    "        for num in num_list:\n",
    "            answer *= num\n",
    "    return answer"
   ]
  },
  {
   "cell_type": "code",
   "execution_count": 3,
   "id": "470431e7",
   "metadata": {},
   "outputs": [
    {
     "data": {
      "text/plain": [
       "51"
      ]
     },
     "execution_count": 3,
     "metadata": {},
     "output_type": "execute_result"
    }
   ],
   "source": [
    "# 테스트\n",
    "\n",
    "num_list = [3, 4, 5, 2, 5, 4, 6, 7, 3, 7, 2, 2, 1]\n",
    "\n",
    "solution(num_list)"
   ]
  },
  {
   "cell_type": "code",
   "execution_count": 4,
   "id": "411aed09",
   "metadata": {},
   "outputs": [
    {
     "data": {
      "text/plain": [
       "120"
      ]
     },
     "execution_count": 4,
     "metadata": {},
     "output_type": "execute_result"
    }
   ],
   "source": [
    "# 테스트\n",
    "\n",
    "num_list = [2, 3, 4, 5]\n",
    "\n",
    "solution(num_list)"
   ]
  }
 ],
 "metadata": {
  "kernelspec": {
   "display_name": "Python 3 (ipykernel)",
   "language": "python",
   "name": "python3"
  },
  "language_info": {
   "codemirror_mode": {
    "name": "ipython",
    "version": 3
   },
   "file_extension": ".py",
   "mimetype": "text/x-python",
   "name": "python",
   "nbconvert_exporter": "python",
   "pygments_lexer": "ipython3",
   "version": "3.11.5"
  }
 },
 "nbformat": 4,
 "nbformat_minor": 5
}
