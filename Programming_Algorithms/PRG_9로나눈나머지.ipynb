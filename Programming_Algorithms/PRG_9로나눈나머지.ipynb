{
 "cells": [
  {
   "cell_type": "markdown",
   "id": "6809b779",
   "metadata": {},
   "source": [
    "## 프로그래머스\n",
    "### 9로 나눈 나머지\n",
    "\n",
    "#### 문제 설명\n",
    "음이 아닌 정수를 9로 나눈 나머지는 그 정수의 각 자리 숫자의 합을 9로 나눈 나머지와 같은 것이 알려져 있습니다.\n",
    "이 사실을 이용하여 음이 아닌 정수가 문자열 number로 주어질 때, 이 정수를 9로 나눈 나머지를 return 하는 solution 함수를 작성해주세요.\n",
    "\n",
    "#### 제한사항\n",
    "- 1 ≤ number의 길이 ≤ 100,000\n",
    "- number의 원소는 숫자로만 이루어져 있습니다.\n",
    "- number는 정수 0이 아니라면 숫자 '0'으로 시작하지 않습니다.\n",
    "\n",
    "\n",
    "#### 입출력 예\n",
    "|number\t|result|\n",
    "|---|---|\n",
    "|\"123\"|\t6|\n",
    "|\"78720646226947352489\"|\t2|\n",
    "\n",
    "#### 입출력 예 설명\n",
    "**입출력 예 #1**\n",
    "- 예제 1번의 number는 123으로 각 자리 숫자의 합은 6입니다. 6을 9로 나눈 나머지는 6이고, 실제로 123 = 9 × 13 + 6입니다. 따라서 6을 return 합니다.\n",
    "\n",
    "**입출력 예 #2**\n",
    "- 예제 2번의 number는 78720646226947352489으로 각자리 숫자의 합은 101입니다. 101을 9로 나눈 나머지는 2이고, 실제로 78720646226947352489 = 9 × 8746738469660816943 + 2입니다. 따라서 2를 return 합니다."
   ]
  },
  {
   "cell_type": "code",
   "execution_count": 1,
   "id": "4cda6754",
   "metadata": {},
   "outputs": [],
   "source": [
    "def solution(number):\n",
    "    return sum(int(i) for i in number) % 9"
   ]
  },
  {
   "cell_type": "code",
   "execution_count": 2,
   "id": "470431e7",
   "metadata": {},
   "outputs": [
    {
     "data": {
      "text/plain": [
       "6"
      ]
     },
     "execution_count": 2,
     "metadata": {},
     "output_type": "execute_result"
    }
   ],
   "source": [
    "# 테스트\n",
    "\n",
    "number = \"123\"\n",
    "\n",
    "solution(number)"
   ]
  },
  {
   "cell_type": "code",
   "execution_count": 3,
   "id": "411aed09",
   "metadata": {},
   "outputs": [
    {
     "data": {
      "text/plain": [
       "2"
      ]
     },
     "execution_count": 3,
     "metadata": {},
     "output_type": "execute_result"
    }
   ],
   "source": [
    "# 테스트\n",
    "\n",
    "number = \"78720646226947352489\"\n",
    "\n",
    "solution(number)"
   ]
  }
 ],
 "metadata": {
  "kernelspec": {
   "display_name": "Python 3 (ipykernel)",
   "language": "python",
   "name": "python3"
  },
  "language_info": {
   "codemirror_mode": {
    "name": "ipython",
    "version": 3
   },
   "file_extension": ".py",
   "mimetype": "text/x-python",
   "name": "python",
   "nbconvert_exporter": "python",
   "pygments_lexer": "ipython3",
   "version": "3.11.5"
  }
 },
 "nbformat": 4,
 "nbformat_minor": 5
}
