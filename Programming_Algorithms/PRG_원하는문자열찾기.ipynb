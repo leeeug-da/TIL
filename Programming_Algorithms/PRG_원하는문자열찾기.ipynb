{
 "cells": [
  {
   "cell_type": "markdown",
   "id": "6809b779",
   "metadata": {},
   "source": [
    "## 프로그래머스\n",
    "### 원하는 문자열 찾기\n",
    "\n",
    "#### 문제 설명\n",
    "알파벳으로 이루어진 문자열 myString과 pat이 주어집니다. myString의 연속된 부분 문자열 중 pat이 존재하면 1을 그렇지 않으면 0을 return 하는 solution 함수를 완성해 주세요.\n",
    "\n",
    "단, 알파벳 대문자와 소문자는 구분하지 않습니다.\n",
    "\n",
    "#### 제한사항\n",
    "- 1 ≤ myString의 길이 ≤ 100,000\n",
    "- 1 ≤ pat의 길이 ≤ 300\n",
    "    - myString과 pat은 모두 알파벳으로 이루어진 문자열입니다.\n",
    "\n",
    "#### 입출력 예\n",
    "|myString|\tpat|\treturn|\n",
    "|---|---|---|\n",
    "|\"AbCdEfG\"|\t\"aBc\"|\t1|\n",
    "|\"aaAA\"|\t\"aaaaa\"|\t0|\n",
    "\n",
    "#### 입출력 예 설명\n",
    "**입출력 예 #1**\n",
    "- \"AbCdEfG\"의 0~2번 인덱스의 문자열은 \"AbC\"이며, 이는 pat인 \"aBc\"와 같습니다. 따라서 1을 return 합니다.\n",
    "\n",
    "**입출력 예 #2**\n",
    "- myString의 길이가 pat보다 더 짧기 때문에 myString의 부분 문자열 중 pat와 같은 문자열이 있을 수 없습니다. 따라서 0을 return 합니다."
   ]
  },
  {
   "cell_type": "code",
   "execution_count": 14,
   "id": "4cda6754",
   "metadata": {},
   "outputs": [],
   "source": [
    "def solution(myString, pat):\n",
    "    if pat.lower() in myString.lower():\n",
    "        return 1\n",
    "    else:\n",
    "        return 0"
   ]
  },
  {
   "cell_type": "code",
   "execution_count": 15,
   "id": "470431e7",
   "metadata": {},
   "outputs": [
    {
     "data": {
      "text/plain": [
       "1"
      ]
     },
     "execution_count": 15,
     "metadata": {},
     "output_type": "execute_result"
    }
   ],
   "source": [
    "# 테스트\n",
    "\n",
    "myString = \"AbCdEfG\"\n",
    "pat = \"aBc\"\n",
    "\n",
    "solution(myString, pat)"
   ]
  },
  {
   "cell_type": "code",
   "execution_count": 16,
   "id": "411aed09",
   "metadata": {},
   "outputs": [
    {
     "data": {
      "text/plain": [
       "0"
      ]
     },
     "execution_count": 16,
     "metadata": {},
     "output_type": "execute_result"
    }
   ],
   "source": [
    "# 테스트\n",
    "\n",
    "myString = \"aaAA\"\n",
    "pat = \"aaaaa\"\n",
    "\n",
    "solution(myString, pat)"
   ]
  }
 ],
 "metadata": {
  "kernelspec": {
   "display_name": "Python 3 (ipykernel)",
   "language": "python",
   "name": "python3"
  },
  "language_info": {
   "codemirror_mode": {
    "name": "ipython",
    "version": 3
   },
   "file_extension": ".py",
   "mimetype": "text/x-python",
   "name": "python",
   "nbconvert_exporter": "python",
   "pygments_lexer": "ipython3",
   "version": "3.11.5"
  }
 },
 "nbformat": 4,
 "nbformat_minor": 5
}
