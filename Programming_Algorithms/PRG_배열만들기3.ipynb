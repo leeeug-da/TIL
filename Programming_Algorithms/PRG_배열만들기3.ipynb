{
 "cells": [
  {
   "cell_type": "markdown",
   "id": "6809b779",
   "metadata": {},
   "source": [
    "## 프로그래머스\n",
    "### 배열 만들기 3\n",
    "\n",
    "#### 문제 설명\n",
    "정수 배열 arr와 2개의 구간이 담긴 배열 intervals가 주어집니다.\n",
    "\n",
    "intervals는 항상 [[a1, b1], [a2, b2]]의 꼴로 주어지며 각 구간은 닫힌 구간입니다. 닫힌 구간은 양 끝값과 그 사이의 값을 모두 포함하는 구간을 의미합니다.\n",
    "\n",
    "이때 배열 arr의 첫 번째 구간에 해당하는 배열과 두 번째 구간에 해당하는 배열을 앞뒤로 붙여 새로운 배열을 만들어 return 하는 solution 함수를 완성해 주세요.\n",
    "\n",
    "#### 제한사항\n",
    "- 1 ≤ arr의 길이 ≤ 100,000\n",
    "    - 1 ≤ arr의 원소 < 100\n",
    "- 1 ≤ a1 ≤ b1 < arr의 길이\n",
    "- 1 ≤ a2 ≤ b2 < arr의 길이\n",
    "\n",
    "\n",
    "#### 입출력 예\n",
    "|arr|\tintervals|\tresult|\n",
    "|---|---|---|\n",
    "|[1, 2, 3, 4, 5]|\t[[1, 3], [0, 4]]|\t[2, 3, 4, 1, 2, 3, 4, 5]|\n",
    "\n",
    "#### 입출력 예 설명\n",
    "**입출력 예 #1**\n",
    "- 첫 번째 구간에 해당하는 배열은 [2, 3, 4] 입니다.\n",
    "- 두 번째 구간에 해당하는 배열은 [1, 2, 3, 4, 5] 입니다.\n",
    "- 따라서 이 두 배열을 앞뒤로 붙인 배열인 [2, 3, 4, 1, 2, 3, 4, 5]를 return 합니다."
   ]
  },
  {
   "cell_type": "code",
   "execution_count": 23,
   "id": "42e432a7",
   "metadata": {},
   "outputs": [],
   "source": [
    "def solution(arr, intervals):\n",
    "    pre = [arr[x:y+1] for x, y in intervals]\n",
    "    answer = [items for sublist in pre for items in sublist]\n",
    "    return answer"
   ]
  },
  {
   "cell_type": "code",
   "execution_count": 24,
   "id": "470431e7",
   "metadata": {},
   "outputs": [
    {
     "data": {
      "text/plain": [
       "[2, 3, 4, 1, 2, 3, 4, 5]"
      ]
     },
     "execution_count": 24,
     "metadata": {},
     "output_type": "execute_result"
    }
   ],
   "source": [
    "# 테스트\n",
    "\n",
    "arr = [1, 2, 3, 4, 5]\n",
    "intervals = [[1,3],[0,4]]\n",
    "\n",
    "solution(arr, intervals)"
   ]
  }
 ],
 "metadata": {
  "kernelspec": {
   "display_name": "Python 3 (ipykernel)",
   "language": "python",
   "name": "python3"
  },
  "language_info": {
   "codemirror_mode": {
    "name": "ipython",
    "version": 3
   },
   "file_extension": ".py",
   "mimetype": "text/x-python",
   "name": "python",
   "nbconvert_exporter": "python",
   "pygments_lexer": "ipython3",
   "version": "3.11.5"
  }
 },
 "nbformat": 4,
 "nbformat_minor": 5
}
