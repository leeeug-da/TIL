{
 "cells": [
  {
   "cell_type": "markdown",
   "id": "6809b779",
   "metadata": {},
   "source": [
    "## 프로그래머스\n",
    "### 간단한 논리 연산\n",
    "\n",
    "#### 문제 설명\n",
    "boolean 변수 x1, x2, x3, x4가 매개변수로 주어질 때, 다음의 식의 true/false를 return 하는 solution 함수를 작성해 주세요.\n",
    "\n",
    "- (x1 ∨ x2) ∧ (x3 ∨ x4)\n",
    "\n",
    "#### 입출력 예\n",
    "|x1|\tx2|\tx3|\tx4|\tresult|\n",
    "|---|---|---|---|---|\n",
    "|false|\ttrue|\ttrue|\ttrue|\ttrue|\n",
    "|true|\tfalse|\tfalse|\tfalse|\tfalse|\n",
    "\n",
    "#### 입출력 예 설명\n",
    "**입출력 예 #1**\n",
    "- 예제 1번의 x1, x2, x3, x4로 식을 계산하면 다음과 같습니다.\n",
    "\n",
    "    (x1 ∨ x2) ∧ (x3 ∨ x4) ≡ (F ∨ T) ∧ (T ∨ T) ≡ T ∧ T ≡ T\n",
    "\n",
    "    따라서 true를 return 합니다.\n",
    "\n",
    "**입출력 예 #2**\n",
    "- 예제 2번의 x1, x2, x3, x4로 식을 계산하면 다음과 같습니다.\n",
    "\n",
    "    (x1 ∨ x2) ∧ (x3 ∨ x4) ≡ (T ∨ F) ∧ (F ∨ F) ≡ T ∧ F ≡ F\n",
    "\n",
    "    따라서 false를 return 합니다."
   ]
  },
  {
   "cell_type": "code",
   "execution_count": 1,
   "id": "4cda6754",
   "metadata": {},
   "outputs": [],
   "source": [
    "# ∨ = OR\n",
    "# ∧ = AND\n",
    "\n",
    "def solution(x1, x2, x3, x4):\n",
    "    answer = (x1 or x2) and (x3 or x4)\n",
    "    return answer"
   ]
  },
  {
   "cell_type": "code",
   "execution_count": 4,
   "id": "470431e7",
   "metadata": {},
   "outputs": [
    {
     "data": {
      "text/plain": [
       "True"
      ]
     },
     "execution_count": 4,
     "metadata": {},
     "output_type": "execute_result"
    }
   ],
   "source": [
    "# 테스트\n",
    "\n",
    "x1 = False\n",
    "x2 = True\n",
    "x3 = True\n",
    "x4 = True\n",
    "\n",
    "solution(x1, x2, x3, x4)"
   ]
  },
  {
   "cell_type": "code",
   "execution_count": 5,
   "id": "35433fe4",
   "metadata": {},
   "outputs": [
    {
     "data": {
      "text/plain": [
       "False"
      ]
     },
     "execution_count": 5,
     "metadata": {},
     "output_type": "execute_result"
    }
   ],
   "source": [
    "# 테스트\n",
    "\n",
    "x1 = True\n",
    "x2 = False\n",
    "x3 = False\n",
    "x4 = False\n",
    "\n",
    "solution(x1, x2, x3, x4)"
   ]
  }
 ],
 "metadata": {
  "kernelspec": {
   "display_name": "Python 3 (ipykernel)",
   "language": "python",
   "name": "python3"
  },
  "language_info": {
   "codemirror_mode": {
    "name": "ipython",
    "version": 3
   },
   "file_extension": ".py",
   "mimetype": "text/x-python",
   "name": "python",
   "nbconvert_exporter": "python",
   "pygments_lexer": "ipython3",
   "version": "3.11.5"
  }
 },
 "nbformat": 4,
 "nbformat_minor": 5
}
