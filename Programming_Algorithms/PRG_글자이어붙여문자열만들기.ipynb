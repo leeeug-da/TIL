{
 "cells": [
  {
   "cell_type": "markdown",
   "id": "6809b779",
   "metadata": {},
   "source": [
    "## 프로그래머스\n",
    "### 글자 이어 붙여 문자열 만들기\n",
    "\n",
    "#### 문제 설명\n",
    "문자열 my_string과 정수 배열 index_list가 매개변수로 주어집니다. my_string의 index_list의 원소들에 해당하는 인덱스의 글자들을 순서대로 이어 붙인 문자열을 return 하는 solution 함수를 작성해 주세요.\n",
    "\n",
    "\n",
    "#### 제한사항\n",
    "- 1 ≤ my_string의 길이 ≤ 1,000\n",
    "- my_string의 원소는 영소문자로 이루어져 있습니다.\n",
    "- 1 ≤ index_list의 길이 ≤ 1,000\n",
    "- 0 ≤ index_list의 원소 < my_string의 길이\n",
    "\n",
    "#### 입출력 예\n",
    "|my_string|\tindex_list|\tresult|\n",
    "|---|---|---|\n",
    "|\"cvsgiorszzzmrpaqpe\"|\t[16, 6, 5, 3, 12, 14, 11, 11, 17, 12, 7]|\t\"programmers\"|\n",
    "|\"zpiaz\"|\t[1, 2, 0, 0, 3]|\t\"pizza\"|\n",
    "\n",
    "#### 입출력 예 설명\n",
    "**입출력 예 #1**\n",
    "- 예제 1번의 my_string에서 인덱스 3, 5, 6, 11, 12, 14, 16, 17에 해당하는 글자는 각각 g, o, r, m, r, a, p, e이므로 my_string에서 index_list에 들어있는 원소에 해당하는 인덱스의 글자들은 각각 순서대로 p, r, o, g, r, a, m, m, e, r, s입니다. 따라서 \"programmers\"를 return 합니다.\n",
    "\n",
    "**입출력 예 #2**\n",
    "- 예제 2번의 my_string에서 인덱스 0, 1, 2, 3에 해당하는 글자는 각각 z, p, i, a이므로 my_string에서 index_list에 들어있는 원소에 해당하는 인덱스의 글자들은 각각 순서대로 p, i, z, z, a입니다. 따라서 \"pizza\"를 return 합니다."
   ]
  },
  {
   "cell_type": "code",
   "execution_count": 1,
   "id": "4cda6754",
   "metadata": {},
   "outputs": [],
   "source": [
    "def solution(my_string, index_list):\n",
    "    answer = ''\n",
    "    for i in index_list:\n",
    "        answer += my_string[i]\n",
    "    return answer"
   ]
  },
  {
   "cell_type": "code",
   "execution_count": 2,
   "id": "470431e7",
   "metadata": {},
   "outputs": [
    {
     "data": {
      "text/plain": [
       "'programmers'"
      ]
     },
     "execution_count": 2,
     "metadata": {},
     "output_type": "execute_result"
    }
   ],
   "source": [
    "# 테스트\n",
    "\n",
    "my_string = \"cvsgiorszzzmrpaqpe\"\n",
    "index_list = [16, 6, 5, 3, 12, 14, 11, 11, 17, 12, 7]\n",
    "\n",
    "solution(my_string, index_list)"
   ]
  },
  {
   "cell_type": "code",
   "execution_count": 4,
   "id": "411aed09",
   "metadata": {},
   "outputs": [
    {
     "data": {
      "text/plain": [
       "'pizza'"
      ]
     },
     "execution_count": 4,
     "metadata": {},
     "output_type": "execute_result"
    }
   ],
   "source": [
    "# 테스트\n",
    "\n",
    "my_string = \"zpiaz\"\n",
    "index_list = [1, 2, 0, 0, 3]\n",
    "\n",
    "solution(my_string, index_list)"
   ]
  }
 ],
 "metadata": {
  "kernelspec": {
   "display_name": "Python 3 (ipykernel)",
   "language": "python",
   "name": "python3"
  },
  "language_info": {
   "codemirror_mode": {
    "name": "ipython",
    "version": 3
   },
   "file_extension": ".py",
   "mimetype": "text/x-python",
   "name": "python",
   "nbconvert_exporter": "python",
   "pygments_lexer": "ipython3",
   "version": "3.11.5"
  }
 },
 "nbformat": 4,
 "nbformat_minor": 5
}
