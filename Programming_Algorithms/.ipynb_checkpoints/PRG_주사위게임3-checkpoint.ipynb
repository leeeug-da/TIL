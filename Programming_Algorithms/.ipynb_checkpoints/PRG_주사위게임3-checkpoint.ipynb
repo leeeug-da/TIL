{
 "cells": [
  {
   "cell_type": "markdown",
   "id": "6809b779",
   "metadata": {},
   "source": [
    "## 프로그래머스\n",
    "### 주사위 게임 3\n",
    "\n",
    "#### 문제 설명\n",
    "1부터 6까지 숫자가 적힌 주사위가 네 개 있습니다. 네 주사위를 굴렸을 때 나온 숫자에 따라 다음과 같은 점수를 얻습니다.\n",
    "\n",
    "- 네 주사위에서 나온 숫자가 모두 p로 같다면 1111 × p점을 얻습니다.\n",
    "- 세 주사위에서 나온 숫자가 p로 같고 나머지 다른 주사위에서 나온 숫자가 q(p ≠ q)라면 (10 × p + q)2 점을 얻습니다.\n",
    "- 주사위가 두 개씩 같은 값이 나오고, 나온 숫자를 각각 p, q(p ≠ q)라고 한다면 (p + q) × |p - q|점을 얻습니다.\n",
    "- 어느 두 주사위에서 나온 숫자가 p로 같고 나머지 두 주사위에서 나온 숫자가 각각 p와 다른 q, r(q ≠ r)이라면 q × r점을 얻습니다.\n",
    "- 네 주사위에 적힌 숫자가 모두 다르다면 나온 숫자 중 가장 작은 숫자 만큼의 점수를 얻습니다.\n",
    "\n",
    "네 주사위를 굴렸을 때 나온 숫자가 정수 매개변수 a, b, c, d로 주어질 때, 얻는 점수를 return 하는 solution 함수를 작성해 주세요.\n",
    "\n",
    "#### 제한사항\n",
    "- a, b, c, d는 1 이상 6 이하의 정수입니다.\n",
    "\n",
    "#### 입출력 예\n",
    "|a|\tb|\tc|\td|\tresult|\n",
    "|---|---|---|---|---|\n",
    "|2|\t2\t|2\t|2\t|2222|\n",
    "|4\t|1\t|4\t|4\t|1681|\n",
    "|6\t|3\t|3\t|6\t|27|\n",
    "|2\t|5\t|2\t|6\t|30|\n",
    "|6\t|4\t|2\t|5\t|2|\n",
    "\n",
    "\n",
    "#### 입출력 예 설명\n",
    "**입출력 예 #1**\n",
    "- 예제 1번에서 네 주사위 숫자가 모두 2로 같으므로 1111 × 2 = 2222점을 얻습니다. 따라서 2222를 return 합니다.\n",
    "\n",
    "**입출력 예 #2**\n",
    "- 예제 2번에서 세 주사위에서 나온 숫자가 4로 같고 나머지 다른 주사위에서 나온 숫자가 1이므로 (10 × 4 + 1)2 = 412 = 1681점을 얻습니다. 따라서 1681을 return 합니다.\n",
    "\n",
    "**입출력 예 #3**\n",
    "- 예제 3번에서 a, d는 6으로, b, c는 3으로 각각 같으므로 (6 + 3) × |6 - 3| = 9 × 3 = 27점을 얻습니다. 따라서 27을 return 합니다.\n",
    "\n",
    "**입출력 예 #4**\n",
    "- 예제 4번에서 두 주사위에서 2가 나오고 나머지 다른 두 주사위에서 각각 5, 6이 나왔으므로 5 × 6 = 30점을 얻습니다. 따라서 30을 return 합니다.\n",
    "\n",
    "**입출력 예 #5**\n",
    "- 예제 5번에서 네 주사위 숫자가 모두 다르고 나온 숫자 중 가장 작은 숫자가 2이므로 2점을 얻습니다. 따라서 2를 return 합니다."
   ]
  },
  {
   "cell_type": "code",
   "execution_count": 1,
   "id": "4cda6754",
   "metadata": {},
   "outputs": [],
   "source": [
    "from collections import Counter\n",
    "\n",
    "def solution(a, b, c, d):\n",
    "    dice = [a, b, c, d]\n",
    "    answer = 0\n",
    "    \n",
    "    count = Counter(dice)\n",
    "    \n",
    "    if 4 in count.values():\n",
    "        p = [num for num, cnt in count.items() if cnt == 4][0]\n",
    "        answer = 1111 * p\n",
    "    \n",
    "    elif 3 in count.values() and 1 in count.values():\n",
    "        p = [num for num, cnt in count.items() if cnt == 3][0]\n",
    "        q = [num for num, cnt in count.items() if cnt == 1][0]\n",
    "        answer = (10 * p + q) ** 2\n",
    "    \n",
    "    elif list(count.values()) == [2, 2]:\n",
    "        p, q = [num for num, cnt in count.items() if cnt == 2]\n",
    "        answer = (p + q) * abs(p - q)\n",
    "    \n",
    "    elif 2 in count.values() and 1 in count.values():\n",
    "        p = [num for num, cnt in count.items() if cnt == 2][0]\n",
    "        q, r = [num for num, cnt in count.items() if cnt == 1]\n",
    "        answer = q * r\n",
    "        \n",
    "    else:\n",
    "        answer = min(dice)\n",
    "            \n",
    "    return answer"
   ]
  },
  {
   "cell_type": "code",
   "execution_count": 2,
   "id": "470431e7",
   "metadata": {},
   "outputs": [
    {
     "data": {
      "text/plain": [
       "2222"
      ]
     },
     "execution_count": 2,
     "metadata": {},
     "output_type": "execute_result"
    }
   ],
   "source": [
    "# 테스트 1\n",
    "\n",
    "a = 2\n",
    "b = 2\n",
    "c = 2\n",
    "d = 2\n",
    "\n",
    "solution(a, b, c, d)"
   ]
  },
  {
   "cell_type": "code",
   "execution_count": 3,
   "id": "411aed09",
   "metadata": {},
   "outputs": [
    {
     "data": {
      "text/plain": [
       "1681"
      ]
     },
     "execution_count": 3,
     "metadata": {},
     "output_type": "execute_result"
    }
   ],
   "source": [
    "# 테스트 2\n",
    "\n",
    "a = 4\n",
    "b = 1\n",
    "c = 4\n",
    "d = 4\n",
    "\n",
    "solution(a, b, c, d)"
   ]
  },
  {
   "cell_type": "code",
   "execution_count": 4,
   "id": "0ef559f5",
   "metadata": {},
   "outputs": [
    {
     "data": {
      "text/plain": [
       "27"
      ]
     },
     "execution_count": 4,
     "metadata": {},
     "output_type": "execute_result"
    }
   ],
   "source": [
    "# 테스트 3\n",
    "\n",
    "a = 6\n",
    "b = 3\n",
    "c = 3\n",
    "d = 6\n",
    "\n",
    "solution(a, b, c, d)"
   ]
  },
  {
   "cell_type": "code",
   "execution_count": 5,
   "id": "c7de7ac9",
   "metadata": {},
   "outputs": [
    {
     "data": {
      "text/plain": [
       "30"
      ]
     },
     "execution_count": 5,
     "metadata": {},
     "output_type": "execute_result"
    }
   ],
   "source": [
    "# 테스트 4\n",
    "\n",
    "a = 2\n",
    "b = 5\n",
    "c = 2\n",
    "d = 6\n",
    "\n",
    "solution(a, b, c, d)"
   ]
  },
  {
   "cell_type": "code",
   "execution_count": 6,
   "id": "344905cf",
   "metadata": {},
   "outputs": [
    {
     "data": {
      "text/plain": [
       "2"
      ]
     },
     "execution_count": 6,
     "metadata": {},
     "output_type": "execute_result"
    }
   ],
   "source": [
    "# 테스트 5\n",
    "\n",
    "a = 6\n",
    "b = 4\n",
    "c = 2\n",
    "d = 5\n",
    "\n",
    "solution(a, b, c, d)"
   ]
  }
 ],
 "metadata": {
  "kernelspec": {
   "display_name": "Python 3 (ipykernel)",
   "language": "python",
   "name": "python3"
  },
  "language_info": {
   "codemirror_mode": {
    "name": "ipython",
    "version": 3
   },
   "file_extension": ".py",
   "mimetype": "text/x-python",
   "name": "python",
   "nbconvert_exporter": "python",
   "pygments_lexer": "ipython3",
   "version": "3.11.5"
  }
 },
 "nbformat": 4,
 "nbformat_minor": 5
}
