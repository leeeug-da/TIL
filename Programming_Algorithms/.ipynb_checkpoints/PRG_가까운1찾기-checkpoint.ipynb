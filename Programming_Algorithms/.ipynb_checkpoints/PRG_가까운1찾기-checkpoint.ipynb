{
 "cells": [
  {
   "cell_type": "markdown",
   "id": "6809b779",
   "metadata": {},
   "source": [
    "## 프로그래머스\n",
    "### 가까운 1 찾기\n",
    "\n",
    "#### 문제 설명\n",
    "정수 배열 arr가 주어집니다. 이때 arr의 원소는 1 또는 0입니다. 정수 idx가 주어졌을 때, idx보다 크면서 배열의 값이 1인 가장 작은 인덱스를 찾아서 반환하는 solution 함수를 완성해 주세요.\n",
    "\n",
    "단, 만약 그러한 인덱스가 없다면 -1을 반환합니다.\n",
    "\n",
    "#### 제한사항\n",
    "- 3 ≤ arr의 길이 ≤ 100'000\n",
    "    - arr의 원소는 전부 1 또는 0입니다.\n",
    "\n",
    "#### 입출력 예\n",
    "|arr|\tidx|\tresult|\n",
    "|---|---|---|\n",
    "|[0, 0, 0, 1]|\t1|\t3|\n",
    "|[1, 0, 0, 1, 0, 0]|\t4|\t-1|\n",
    "|[1, 1, 1, 1, 0]|\t3|\t3|\n",
    "\n",
    "#### 입출력 예 설명\n",
    "**입출력 예 #1**\n",
    "- 1보다 크면서 원소가 1인 가장 작은 인덱스는 3입니다. 따라서 3을 return 합니다.\n",
    "\n",
    "**입출력 예 #2**\n",
    "- 4번 인덱스 이후에 1은 등장하지 않습니다. 따라서 -1을 return 합니다."
   ]
  },
  {
   "cell_type": "code",
   "execution_count": 26,
   "id": "b06013cf",
   "metadata": {},
   "outputs": [],
   "source": [
    "def solution(arr, idx):\n",
    "    for i in range(idx, len(arr)):\n",
    "        if arr[i] == 1:\n",
    "            return i\n",
    "    return -1"
   ]
  },
  {
   "cell_type": "code",
   "execution_count": 27,
   "id": "98d1e725",
   "metadata": {},
   "outputs": [
    {
     "data": {
      "text/plain": [
       "3"
      ]
     },
     "execution_count": 27,
     "metadata": {},
     "output_type": "execute_result"
    }
   ],
   "source": [
    "# 테스트 \n",
    "\n",
    "arr = [0, 0, 0, 1]\n",
    "idx = 1\n",
    "\n",
    "solution(arr, idx)"
   ]
  },
  {
   "cell_type": "code",
   "execution_count": 28,
   "id": "4cda6754",
   "metadata": {},
   "outputs": [
    {
     "data": {
      "text/plain": [
       "-1"
      ]
     },
     "execution_count": 28,
     "metadata": {},
     "output_type": "execute_result"
    }
   ],
   "source": [
    "# 테스트\n",
    "\n",
    "arr = [1, 0, 0, 1, 0, 0]\n",
    "idx = 4\n",
    "\n",
    "solution(arr, idx)"
   ]
  },
  {
   "cell_type": "code",
   "execution_count": 29,
   "id": "1f1c4c5f",
   "metadata": {},
   "outputs": [
    {
     "data": {
      "text/plain": [
       "3"
      ]
     },
     "execution_count": 29,
     "metadata": {},
     "output_type": "execute_result"
    }
   ],
   "source": [
    "# 테스트\n",
    "\n",
    "arr = [1, 1, 1, 1, 0]\n",
    "idx = 3\n",
    "\n",
    "solution(arr, idx)"
   ]
  }
 ],
 "metadata": {
  "kernelspec": {
   "display_name": "Python 3 (ipykernel)",
   "language": "python",
   "name": "python3"
  },
  "language_info": {
   "codemirror_mode": {
    "name": "ipython",
    "version": 3
   },
   "file_extension": ".py",
   "mimetype": "text/x-python",
   "name": "python",
   "nbconvert_exporter": "python",
   "pygments_lexer": "ipython3",
   "version": "3.11.5"
  }
 },
 "nbformat": 4,
 "nbformat_minor": 5
}
