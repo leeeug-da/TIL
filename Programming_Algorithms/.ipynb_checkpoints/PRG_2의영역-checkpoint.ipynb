{
 "cells": [
  {
   "cell_type": "markdown",
   "id": "6809b779",
   "metadata": {},
   "source": [
    "## 프로그래머스\n",
    "### 2의 영역\n",
    "\n",
    "#### 문제 설명\n",
    "정수 배열 arr가 주어집니다. 배열 안의 2가 모두 포함된 가장 작은 연속된 부분 배열을 return 하는 solution 함수를 완성해 주세요.\n",
    "\n",
    "단, arr에 2가 없는 경우 [-1]을 return 합니다.\n",
    "\n",
    "#### 제한사항\n",
    "- 1 ≤ arr의 길이 ≤ 100,000\n",
    "    - 1 ≤ arr의 원소 ≤ 10\n",
    "\n",
    "#### 입출력 예\n",
    "|arr|\tresult|\n",
    "|---|---|\n",
    "|[1, 2, 1, 4, 5, 2, 9]|\t[2, 1, 4, 5, 2]|\n",
    "|[1, 2, 1]|\t[2]|\n",
    "|[1, 1, 1]|\t[-1]|\n",
    "|[1, 2, 1, 2, 1, 10, 2, 1]|\t[2, 1, 2, 1, 10, 2]|\n",
    "\n",
    "#### 입출력 예 설명\n",
    "**입출력 예 #1**\n",
    "- 2가 있는 인덱스는 1번, 5번 인덱스뿐이므로 1번부터 5번 인덱스까지의 부분 배열인 [2, 1, 4, 5, 2]를 return 합니다.\n",
    "\n",
    "**입출력 예 #2**\n",
    "- 2가 한 개뿐이므로 [2]를 return 합니다."
   ]
  },
  {
   "cell_type": "code",
   "execution_count": 38,
   "id": "4cda6754",
   "metadata": {},
   "outputs": [],
   "source": [
    "def solution(arr):\n",
    "    if 2 not in arr:\n",
    "        return [-1]\n",
    "    return arr[arr.index(2) : len(arr) - arr[::-1].index(2)]"
   ]
  },
  {
   "cell_type": "code",
   "execution_count": 34,
   "id": "470431e7",
   "metadata": {},
   "outputs": [
    {
     "data": {
      "text/plain": [
       "[2, 1, 4, 5, 2]"
      ]
     },
     "execution_count": 34,
     "metadata": {},
     "output_type": "execute_result"
    }
   ],
   "source": [
    "# 테스트\n",
    "\n",
    "arr = [1, 2, 1, 4, 5, 2, 9]\n",
    "\n",
    "solution(arr)"
   ]
  },
  {
   "cell_type": "code",
   "execution_count": 35,
   "id": "411aed09",
   "metadata": {},
   "outputs": [
    {
     "data": {
      "text/plain": [
       "[2]"
      ]
     },
     "execution_count": 35,
     "metadata": {},
     "output_type": "execute_result"
    }
   ],
   "source": [
    "# 테스트\n",
    "\n",
    "arr = [1, 2, 1]\n",
    "\n",
    "solution(arr)"
   ]
  },
  {
   "cell_type": "code",
   "execution_count": 36,
   "id": "019f1e5b",
   "metadata": {},
   "outputs": [
    {
     "data": {
      "text/plain": [
       "[-1]"
      ]
     },
     "execution_count": 36,
     "metadata": {},
     "output_type": "execute_result"
    }
   ],
   "source": [
    "# 테스트\n",
    "\n",
    "arr = [1, 1, 1]\n",
    "\n",
    "solution(arr)"
   ]
  },
  {
   "cell_type": "code",
   "execution_count": 37,
   "id": "be8b97b3",
   "metadata": {},
   "outputs": [
    {
     "data": {
      "text/plain": [
       "[2, 1, 2, 1, 10, 2]"
      ]
     },
     "execution_count": 37,
     "metadata": {},
     "output_type": "execute_result"
    }
   ],
   "source": [
    "# 테스트\n",
    "\n",
    "arr = [1, 2, 1, 2, 1, 10, 2, 1]\n",
    "\n",
    "solution(arr)"
   ]
  }
 ],
 "metadata": {
  "kernelspec": {
   "display_name": "Python 3 (ipykernel)",
   "language": "python",
   "name": "python3"
  },
  "language_info": {
   "codemirror_mode": {
    "name": "ipython",
    "version": 3
   },
   "file_extension": ".py",
   "mimetype": "text/x-python",
   "name": "python",
   "nbconvert_exporter": "python",
   "pygments_lexer": "ipython3",
   "version": "3.11.5"
  }
 },
 "nbformat": 4,
 "nbformat_minor": 5
}
