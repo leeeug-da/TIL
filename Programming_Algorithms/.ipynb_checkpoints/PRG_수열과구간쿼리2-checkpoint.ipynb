{
 "cells": [
  {
   "cell_type": "markdown",
   "id": "6809b779",
   "metadata": {},
   "source": [
    "## 프로그래머스\n",
    "### 수열과 구간 쿼리 2\n",
    "\n",
    "#### 문제 설명\n",
    "정수 배열 arr와 2차원 정수 배열 queries이 주어집니다. queries의 원소는 각각 하나의 query를 나타내며, [s, e, k] 꼴입니다.\n",
    "\n",
    "각 query마다 순서대로 s ≤ i ≤ e인 모든 i에 대해 k보다 크면서 가장 작은 arr[i]를 찾습니다.\n",
    "\n",
    "각 쿼리의 순서에 맞게 답을 저장한 배열을 반환하는 solution 함수를 완성해 주세요.\n",
    "단, 특정 쿼리의 답이 존재하지 않으면 -1을 저장합니다.\n",
    "\n",
    "#### 제한사항\n",
    "- 1 ≤ arr의 길이 ≤ 1,000\n",
    "    - 0 ≤ arr의 원소 ≤ 1,000,000\n",
    "- 1 ≤ queries의 길이 ≤ 1,000\n",
    "    - 0 ≤ s ≤ e < arr의 길이\n",
    "    - 0 ≤ k ≤ 1,000,000\n",
    "\n",
    "#### 입출력 예\n",
    "|arr|\tqueries|\tresult|\n",
    "|---|---|---|\n",
    "|[0, 1, 2, 4, 3]|\t[[0, 4, 2],[0, 3, 2],[0, 2, 2]]|\t[3, 4, -1]|\n",
    "\n",
    "#### 입출력 예 설명\n",
    "**입출력 예 #1**\n",
    "- 첫 번째 쿼리의 범위에는 0, 1, 2, 4, 3이 있으며 이 중 2보다 크면서 가장 작은 값은 3입니다.\n",
    "- 두 번째 쿼리의 범위에는 0, 1, 2, 4가 있으며 이 중 2보다 크면서 가장 작은 값은 4입니다.\n",
    "- 세 번째 쿼리의 범위에는 0, 1, 2가 있으며 여기에는 2보다 큰 값이 없습니다.\n",
    "- 따라서 [3, 4, -1]을 return 합니다."
   ]
  },
  {
   "cell_type": "code",
   "execution_count": 8,
   "id": "6b53725a",
   "metadata": {},
   "outputs": [],
   "source": [
    "def solution(arr, queries):\n",
    "    answer = []\n",
    "    for s, e, k in queries:\n",
    "        # s부터 e까지 범위 내에서 k보다 큰 모든 원소를 찾는다.\n",
    "        tmp = []\n",
    "        for val in arr[s:e+1]:\n",
    "            if val > k:\n",
    "                tmp.append(val)\n",
    "        # k보다 큰 원소가 하나라도 있으면 그 중 최소값을, 없으면 -1을 저장\n",
    "        if tmp:\n",
    "            answer.append(min(tmp))\n",
    "        else:\n",
    "            answer.append(-1)\n",
    "    return answer"
   ]
  },
  {
   "cell_type": "code",
   "execution_count": 9,
   "id": "0a6a2e4e",
   "metadata": {},
   "outputs": [
    {
     "data": {
      "text/plain": [
       "[3, 4, -1]"
      ]
     },
     "execution_count": 9,
     "metadata": {},
     "output_type": "execute_result"
    }
   ],
   "source": [
    "# 테스트\n",
    "\n",
    "arr = [0, 1, 2, 4, 3]\n",
    "queries = [[0, 4, 2],[0, 3, 2],[0, 2, 2]]\n",
    "\n",
    "solution(arr, queries)"
   ]
  }
 ],
 "metadata": {
  "kernelspec": {
   "display_name": "Python 3 (ipykernel)",
   "language": "python",
   "name": "python3"
  },
  "language_info": {
   "codemirror_mode": {
    "name": "ipython",
    "version": 3
   },
   "file_extension": ".py",
   "mimetype": "text/x-python",
   "name": "python",
   "nbconvert_exporter": "python",
   "pygments_lexer": "ipython3",
   "version": "3.11.5"
  }
 },
 "nbformat": 4,
 "nbformat_minor": 5
}
