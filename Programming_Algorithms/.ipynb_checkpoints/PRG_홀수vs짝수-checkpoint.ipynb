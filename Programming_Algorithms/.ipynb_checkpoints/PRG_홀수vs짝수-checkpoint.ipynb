{
 "cells": [
  {
   "cell_type": "markdown",
   "id": "6809b779",
   "metadata": {},
   "source": [
    "## 프로그래머스\n",
    "### 홀수 vs 짝수\n",
    "\n",
    "#### 문제 설명\n",
    "정수 리스트 num_list가 주어집니다. 가장 첫 번째 원소를 1번 원소라고 할 때, 홀수 번째 원소들의 합과 짝수 번째 원소들의 합 중 큰 값을 return 하도록 solution 함수를 완성해주세요. 두 값이 같을 경우 그 값을 return합니다.\n",
    "\n",
    "#### 제한사항\n",
    "- 5 ≤ num_list의 길이 ≤ 50\n",
    "- -9 ≤ num_list의 원소 ≤ 9\n",
    "\n",
    "#### 입출력 예\n",
    "|num_list|\tresult|\n",
    "|---|---|\n",
    "|[4, 2, 6, 1, 7, 6]|\t17|\n",
    "|[-1, 2, 5, 6, 3]|\t8|\n",
    "\n",
    "#### 입출력 예 설명\n",
    "**입출력 예 #1**\n",
    "- 홀수 번째 원소들의 합은 4 + 6 + 7 = 17, 짝수 번째 원소들의 합은 2 + 1 + 6 = 9 이므로 17을 return합니다.\n",
    "\n",
    "\n",
    "**입출력 예 #2**\n",
    "- 홀수 번째 원소들의 합은 -1 + 5 + 3 = 7, 짝수 번째 원소들의 합은 2 + 6 = 8 이므로 8을 return합니다."
   ]
  },
  {
   "cell_type": "code",
   "execution_count": 15,
   "id": "b374ed19",
   "metadata": {},
   "outputs": [],
   "source": [
    "def solution(num_list):\n",
    "    even = 0\n",
    "    odd = 0\n",
    "    for i in range(1, len(num_list)+1):\n",
    "        if i % 2 == 0:\n",
    "            even += num_list[i-1]\n",
    "        else:\n",
    "            odd += num_list[i-1]\n",
    "    return max(even, odd)"
   ]
  },
  {
   "cell_type": "code",
   "execution_count": 19,
   "id": "afd48bf3",
   "metadata": {},
   "outputs": [],
   "source": [
    "def solution(num_list):\n",
    "    return max(sum(num_list[::2]), sum(num_list[1::2]))"
   ]
  },
  {
   "cell_type": "code",
   "execution_count": 20,
   "id": "470431e7",
   "metadata": {},
   "outputs": [
    {
     "data": {
      "text/plain": [
       "17"
      ]
     },
     "execution_count": 20,
     "metadata": {},
     "output_type": "execute_result"
    }
   ],
   "source": [
    "# 테스트\n",
    "\n",
    "num_list = [4, 2, 6, 1, 7, 6]\n",
    "\n",
    "solution(num_list)"
   ]
  },
  {
   "cell_type": "code",
   "execution_count": 21,
   "id": "411aed09",
   "metadata": {},
   "outputs": [
    {
     "data": {
      "text/plain": [
       "8"
      ]
     },
     "execution_count": 21,
     "metadata": {},
     "output_type": "execute_result"
    }
   ],
   "source": [
    "# 테스트\n",
    "\n",
    "num_list = [-1, 2, 5, 6, 3]\n",
    "\n",
    "solution(num_list)"
   ]
  }
 ],
 "metadata": {
  "kernelspec": {
   "display_name": "Python 3 (ipykernel)",
   "language": "python",
   "name": "python3"
  },
  "language_info": {
   "codemirror_mode": {
    "name": "ipython",
    "version": 3
   },
   "file_extension": ".py",
   "mimetype": "text/x-python",
   "name": "python",
   "nbconvert_exporter": "python",
   "pygments_lexer": "ipython3",
   "version": "3.11.5"
  }
 },
 "nbformat": 4,
 "nbformat_minor": 5
}
