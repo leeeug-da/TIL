{
 "cells": [
  {
   "cell_type": "markdown",
   "id": "6809b779",
   "metadata": {},
   "source": [
    "## 프로그래머스\n",
    "### 접미사 배열\n",
    "\n",
    "#### 문제 설명\n",
    "어떤 문자열에 대해서 접미사는 특정 인덱스부터 시작하는 문자열을 의미합니다. 예를 들어, \"banana\"의 모든 접미사는 \"banana\", \"anana\", \"nana\", \"ana\", \"na\", \"a\"입니다.\n",
    "문자열 my_string이 매개변수로 주어질 때, my_string의 모든 접미사를 사전순으로 정렬한 문자열 배열을 return 하는 solution 함수를 작성해 주세요.\n",
    "\n",
    "#### 제한사항\n",
    "- my_string은 알파벳 소문자로만 이루어져 있습니다.\n",
    "- 1 ≤ my_string의 길이 ≤ 100\n",
    "\n",
    "#### 입출력 예\n",
    "|my_string|\tresult|\n",
    "|---|---|\n",
    "|\"banana\"|\t[\"a\", \"ana\", \"anana\", \"banana\", \"na\", \"nana\"]|\n",
    "|\"programmers\"|\t[\"ammers\", \"ers\", \"grammers\", \"mers\", \"mmers\", \"ogrammers\", \"programmers\", \"rammers\", \"rogrammers\", \"rs\", \"s\"]|\n",
    "\n",
    "#### 입출력 예 설명\n",
    "**입출력 예 #1**\n",
    "- 예제 1번의 my_string는 \"banana\"로 모든 접미사는 문제의 설명과 같습니다. 이를 사전순으로 정렬하면 \"a\", \"ana\", \"anana\", \"banana\", \"na\", \"nana\"이므로 [\"a\", \"ana\", \"anana\", \"banana\", \"na\", \"nana\"]를 return 합니다.\n",
    "\n",
    "**입출력 예 #2**\n",
    "- 예제 2번의 my_string는 \"programmers\"이고 모든 접미사는 \"programmers\", \"rogrammers\", \"ogrammers\", \"grammers\", \"rammers\", \"ammers\", \"mmers\", \"mers\", \"ers\", \"rs\", \"s\"입니다. 이를 사전순으로 정렬한 문자열 배열 [\"ammers\", \"ers\", \"grammers\", \"mers\", \"mmers\", \"ogrammers\", \"programmers\", \"rammers\", \"rogrammers\", \"rs\", \"s\"]를 return 합니다."
   ]
  },
  {
   "cell_type": "code",
   "execution_count": 16,
   "id": "4cda6754",
   "metadata": {},
   "outputs": [],
   "source": [
    "def solution(my_string):\n",
    "    answer = []\n",
    "    for i in range(len(my_string)):\n",
    "        answer.append(my_string[-i:])\n",
    "    return sorted(answer)"
   ]
  },
  {
   "cell_type": "code",
   "execution_count": 17,
   "id": "470431e7",
   "metadata": {},
   "outputs": [
    {
     "data": {
      "text/plain": [
       "['a', 'ana', 'anana', 'banana', 'na', 'nana']"
      ]
     },
     "execution_count": 17,
     "metadata": {},
     "output_type": "execute_result"
    }
   ],
   "source": [
    "# 테스트\n",
    "\n",
    "my_string = \"banana\"\n",
    "\n",
    "solution(my_string)"
   ]
  },
  {
   "cell_type": "code",
   "execution_count": 18,
   "id": "411aed09",
   "metadata": {},
   "outputs": [
    {
     "data": {
      "text/plain": [
       "['ammers',\n",
       " 'ers',\n",
       " 'grammers',\n",
       " 'mers',\n",
       " 'mmers',\n",
       " 'ogrammers',\n",
       " 'programmers',\n",
       " 'rammers',\n",
       " 'rogrammers',\n",
       " 'rs',\n",
       " 's']"
      ]
     },
     "execution_count": 18,
     "metadata": {},
     "output_type": "execute_result"
    }
   ],
   "source": [
    "# 테스트\n",
    "\n",
    "my_string = \"programmers\"\n",
    "\n",
    "solution(my_string)"
   ]
  }
 ],
 "metadata": {
  "kernelspec": {
   "display_name": "Python 3 (ipykernel)",
   "language": "python",
   "name": "python3"
  },
  "language_info": {
   "codemirror_mode": {
    "name": "ipython",
    "version": 3
   },
   "file_extension": ".py",
   "mimetype": "text/x-python",
   "name": "python",
   "nbconvert_exporter": "python",
   "pygments_lexer": "ipython3",
   "version": "3.11.5"
  }
 },
 "nbformat": 4,
 "nbformat_minor": 5
}
