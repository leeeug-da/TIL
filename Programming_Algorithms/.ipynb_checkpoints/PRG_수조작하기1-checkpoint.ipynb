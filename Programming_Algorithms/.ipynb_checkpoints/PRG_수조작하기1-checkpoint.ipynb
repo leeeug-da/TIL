{
 "cells": [
  {
   "cell_type": "markdown",
   "id": "6809b779",
   "metadata": {},
   "source": [
    "## 프로그래머스\n",
    "### 수 조작하기 1\n",
    "\n",
    "#### 문제 설명\n",
    "정수 n과 문자열 control이 주어집니다. control은 \"w\", \"a\", \"s\", \"d\"의 4개의 문자로 이루어져 있으며, control의 앞에서부터 순서대로 문자에 따라 n의 값을 바꿉니다.\n",
    "\n",
    "- \"w\" : n이 1 커집니다.\n",
    "- \"s\" : n이 1 작아집니다.\n",
    "- \"d\" : n이 10 커집니다.\n",
    "- \"a\" : n이 10 작아집니다.\n",
    "\n",
    "위 규칙에 따라 n을 바꿨을 때 가장 마지막에 나오는 n의 값을 return 하는 solution 함수를 완성해 주세요.\n",
    "\n",
    "#### 제한사항\n",
    "- -100,000 ≤ n ≤ 100,000\n",
    "- 1 ≤ control의 길이 ≤ 100,000\n",
    "    - control은 알파벳 소문자 \"w\", \"a\", \"s\", \"d\"로 이루어진 문자열입니다.\n",
    "\n",
    "#### 입출력 예\n",
    "|n|\tcontrol|\tresult|\n",
    "|---|---|---|\n",
    "|0|\t\"wsdawsdassw\"|\t-1|\n",
    "\n",
    "#### 입출력 예 설명\n",
    "**입출력 예 #1**\n",
    "- 수 n은 control에 따라 다음과 같은 순서로 변하게 됩니다.\n",
    "- 0 → 1 → 0 → 10 → 0 → 1 → 0 → 10 → 0 → -1 → -2 → -1\n",
    "- 따라서 -1을 return 합니다."
   ]
  },
  {
   "cell_type": "code",
   "execution_count": 1,
   "id": "4cda6754",
   "metadata": {},
   "outputs": [],
   "source": [
    "def solution(n, control):\n",
    "    answer = n\n",
    "    for x in control:\n",
    "        if x == 'w':\n",
    "            answer += 1\n",
    "        elif x == 's':\n",
    "            answer -= 1\n",
    "        elif x == 'd':\n",
    "            answer += 10\n",
    "        else:\n",
    "            answer -= 10\n",
    "    return answer"
   ]
  },
  {
   "cell_type": "code",
   "execution_count": 2,
   "id": "470431e7",
   "metadata": {},
   "outputs": [
    {
     "data": {
      "text/plain": [
       "-1"
      ]
     },
     "execution_count": 2,
     "metadata": {},
     "output_type": "execute_result"
    }
   ],
   "source": [
    "# 테스트\n",
    "\n",
    "n = 0\n",
    "control = \"wsdawsdassw\"\n",
    "\n",
    "solution(n, control)"
   ]
  }
 ],
 "metadata": {
  "kernelspec": {
   "display_name": "Python 3 (ipykernel)",
   "language": "python",
   "name": "python3"
  },
  "language_info": {
   "codemirror_mode": {
    "name": "ipython",
    "version": 3
   },
   "file_extension": ".py",
   "mimetype": "text/x-python",
   "name": "python",
   "nbconvert_exporter": "python",
   "pygments_lexer": "ipython3",
   "version": "3.11.5"
  }
 },
 "nbformat": 4,
 "nbformat_minor": 5
}
