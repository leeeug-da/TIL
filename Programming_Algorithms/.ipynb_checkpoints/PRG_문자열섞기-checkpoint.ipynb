{
 "cells": [
  {
   "cell_type": "markdown",
   "id": "6809b779",
   "metadata": {},
   "source": [
    "## 프로그래머스\n",
    "### 문자열 섞기\n",
    "\n",
    "#### 문제 설명\n",
    "길이가 같은 두 문자열 str1과 str2가 주어집니다.\n",
    "\n",
    "두 문자열의 각 문자가 앞에서부터 서로 번갈아가면서 한 번씩 등장하는 문자열을 만들어 return 하는 solution 함수를 완성해 주세요.\n",
    "\n",
    "#### 제한사항\n",
    "- 1 ≤ str1의 길이 = str2의 길이 ≤ 10\n",
    "- str1과 str2는 알파벳 소문자로 이루어진 문자열입니다.\n",
    "\n",
    "#### 입출력 예\n",
    "|str1|\tstr2|\tresult|\n",
    "|---|---|---|\n",
    "|\"aaaaa\"|\t\"bbbbb\"|\t\"ababababab\"|"
   ]
  },
  {
   "cell_type": "code",
   "execution_count": 1,
   "id": "4cda6754",
   "metadata": {},
   "outputs": [],
   "source": [
    "def solution(str1, str2):\n",
    "    answer = ''\n",
    "    for i in range(len(str1)):\n",
    "        answer += str1[i] + str2[i]\n",
    "    return answer"
   ]
  },
  {
   "cell_type": "code",
   "execution_count": 2,
   "id": "470431e7",
   "metadata": {},
   "outputs": [
    {
     "data": {
      "text/plain": [
       "'ababababab'"
      ]
     },
     "execution_count": 2,
     "metadata": {},
     "output_type": "execute_result"
    }
   ],
   "source": [
    "# 테스트\n",
    "\n",
    "str1 = 'aaaaa'\n",
    "str2 = 'bbbbb'\n",
    "\n",
    "solution(str1, str2)"
   ]
  }
 ],
 "metadata": {
  "kernelspec": {
   "display_name": "Python 3 (ipykernel)",
   "language": "python",
   "name": "python3"
  },
  "language_info": {
   "codemirror_mode": {
    "name": "ipython",
    "version": 3
   },
   "file_extension": ".py",
   "mimetype": "text/x-python",
   "name": "python",
   "nbconvert_exporter": "python",
   "pygments_lexer": "ipython3",
   "version": "3.11.5"
  }
 },
 "nbformat": 4,
 "nbformat_minor": 5
}
