{
 "cells": [
  {
   "cell_type": "markdown",
   "id": "6809b779",
   "metadata": {},
   "source": [
    "## 프로그래머스\n",
    "### 접미사인지 확인하기\n",
    "\n",
    "#### 문제 설명\n",
    "어떤 문자열에 대해서 접미사는 특정 인덱스부터 시작하는 문자열을 의미합니다. 예를 들어, \"banana\"의 모든 접미사는 \"banana\", \"anana\", \"nana\", \"ana\", \"na\", \"a\"입니다.\n",
    "문자열 my_string과 is_suffix가 주어질 때, is_suffix가 my_string의 접미사라면 1을, 아니면 0을 return 하는 solution 함수를 작성해 주세요.\n",
    "\n",
    "#### 제한사항\n",
    "- 1 ≤ my_string의 길이 ≤ 100\n",
    "- 1 ≤ is_suffix의 길이 ≤ 100\n",
    "- my_string과 is_suffix는 영소문자로만 이루어져 있습니다.\n",
    "\n",
    "#### 입출력 예\n",
    "|my_string|\tis_suffix|\tresult|\n",
    "|---|---|---|\n",
    "|\"banana\"|\t\"ana\"|\t1|\n",
    "|\"banana\"|\t\"nan\"|\t0|\n",
    "|\"banana\"|\t\"wxyz\"|\t0|\n",
    "|\"banana\"|\t\"abanana\"|\t0|"
   ]
  },
  {
   "cell_type": "code",
   "execution_count": 15,
   "id": "4cda6754",
   "metadata": {},
   "outputs": [],
   "source": [
    "def solution(my_string, is_suffix):\n",
    "    suffixes = [my_string[-i:] for i in range(len(my_string))]\n",
    "    return 1 if is_suffix in suffixes else 0"
   ]
  },
  {
   "cell_type": "code",
   "execution_count": 16,
   "id": "470431e7",
   "metadata": {},
   "outputs": [
    {
     "data": {
      "text/plain": [
       "1"
      ]
     },
     "execution_count": 16,
     "metadata": {},
     "output_type": "execute_result"
    }
   ],
   "source": [
    "# 테스트\n",
    "\n",
    "my_string = \"banana\"\n",
    "is_suffix = \"ana\"\n",
    "\n",
    "\n",
    "solution(my_string, is_suffix)"
   ]
  },
  {
   "cell_type": "code",
   "execution_count": 17,
   "id": "411aed09",
   "metadata": {},
   "outputs": [
    {
     "data": {
      "text/plain": [
       "0"
      ]
     },
     "execution_count": 17,
     "metadata": {},
     "output_type": "execute_result"
    }
   ],
   "source": [
    "# 테스트\n",
    "\n",
    "my_string = \"banana\"\n",
    "is_suffix = \"nan\"\n",
    "\n",
    "\n",
    "solution(my_string, is_suffix)"
   ]
  }
 ],
 "metadata": {
  "kernelspec": {
   "display_name": "Python 3 (ipykernel)",
   "language": "python",
   "name": "python3"
  },
  "language_info": {
   "codemirror_mode": {
    "name": "ipython",
    "version": 3
   },
   "file_extension": ".py",
   "mimetype": "text/x-python",
   "name": "python",
   "nbconvert_exporter": "python",
   "pygments_lexer": "ipython3",
   "version": "3.11.5"
  }
 },
 "nbformat": 4,
 "nbformat_minor": 5
}
