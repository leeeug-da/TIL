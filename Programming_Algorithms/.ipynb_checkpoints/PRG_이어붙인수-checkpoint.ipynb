{
 "cells": [
  {
   "cell_type": "markdown",
   "id": "6809b779",
   "metadata": {},
   "source": [
    "## 프로그래머스\n",
    "### 이어 붙인 수\n",
    "\n",
    "#### 문제 설명\n",
    "정수가 담긴 리스트 num_list가 주어집니다. num_list의 홀수만 순서대로 이어 붙인 수와 짝수만 순서대로 이어 붙인 수의 합을 return하도록 solution 함수를 완성해주세요.\n",
    "\n",
    "#### 제한사항\n",
    "- 2 ≤ num_list의 길이 ≤ 10\n",
    "- 1 ≤ num_list의 원소 ≤ 9\n",
    "- num_list에는 적어도 한 개씩의 짝수와 홀수가 있습니다.\n",
    "\n",
    "#### 입출력 예\n",
    "|num_list|\tresult|\n",
    "|---|---|\n",
    "|[3, 4, 5, 2, 1]|\t393|\n",
    "|[5, 7, 8, 3]|\t581|\n",
    "\n",
    "#### 입출력 예 설명\n",
    "**입출력 예 #1**\n",
    "- 홀수만 이어 붙인 수는 351이고 짝수만 이어 붙인 수는 42입니다. 두 수의 합은 393입니다.\n",
    "\n",
    "**입출력 예 #2**\n",
    "- 홀수만 이어 붙인 수는 573이고 짝수만 이어 붙인 수는 8입니다. 두 수의 합은 581입니다."
   ]
  },
  {
   "cell_type": "code",
   "execution_count": 36,
   "id": "4cda6754",
   "metadata": {},
   "outputs": [],
   "source": [
    "def solution(num_list):\n",
    "    even = ''\n",
    "    odd = ''\n",
    "\n",
    "    for n in num_list:\n",
    "        if n % 2 == 1:\n",
    "            even += str(n)\n",
    "        else:\n",
    "            odd += str(n)\n",
    "            \n",
    "    return int(even)+int(odd)"
   ]
  },
  {
   "cell_type": "code",
   "execution_count": 37,
   "id": "470431e7",
   "metadata": {},
   "outputs": [
    {
     "data": {
      "text/plain": [
       "393"
      ]
     },
     "execution_count": 37,
     "metadata": {},
     "output_type": "execute_result"
    }
   ],
   "source": [
    "# 테스트\n",
    "\n",
    "num_list = [3, 4, 5, 2, 1]\n",
    "\n",
    "solution(num_list)"
   ]
  },
  {
   "cell_type": "code",
   "execution_count": 38,
   "id": "411aed09",
   "metadata": {},
   "outputs": [
    {
     "data": {
      "text/plain": [
       "581"
      ]
     },
     "execution_count": 38,
     "metadata": {},
     "output_type": "execute_result"
    }
   ],
   "source": [
    "# 테스트\n",
    "\n",
    "num_list = [5, 7, 8, 3]\n",
    "\n",
    "solution(num_list)"
   ]
  }
 ],
 "metadata": {
  "kernelspec": {
   "display_name": "Python 3 (ipykernel)",
   "language": "python",
   "name": "python3"
  },
  "language_info": {
   "codemirror_mode": {
    "name": "ipython",
    "version": 3
   },
   "file_extension": ".py",
   "mimetype": "text/x-python",
   "name": "python",
   "nbconvert_exporter": "python",
   "pygments_lexer": "ipython3",
   "version": "3.11.5"
  }
 },
 "nbformat": 4,
 "nbformat_minor": 5
}
