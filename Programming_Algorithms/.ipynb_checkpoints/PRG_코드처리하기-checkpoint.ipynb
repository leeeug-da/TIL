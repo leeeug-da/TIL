{
 "cells": [
  {
   "cell_type": "markdown",
   "id": "6809b779",
   "metadata": {},
   "source": [
    "## 프로그래머스\n",
    "### 코드 처리하기\n",
    "\n",
    "#### 문제 설명\n",
    "문자열 code가 주어집니다.\n",
    "code를 앞에서부터 읽으면서 만약 문자가 \"1\"이면 mode를 바꿉니다. mode에 따라 code를 읽어가면서 문자열 ret을 만들어냅니다.\n",
    "\n",
    "mode는 0과 1이 있으며, idx를 0 부터 code의 길이 - 1 까지 1씩 키워나가면서 code[idx]의 값에 따라 다음과 같이 행동합니다.\n",
    "\n",
    "- mode가 0일 때\n",
    "    - code[idx]가 \"1\"이 아니면 idx가 짝수일 때만 ret의 맨 뒤에 code[idx]를 추가합니다.\n",
    "    - code[idx]가 \"1\"이면 mode를 0에서 1로 바꿉니다.\n",
    "- mode가 1일 때\n",
    "    - code[idx]가 \"1\"이 아니면 idx가 홀수일 때만 ret의 맨 뒤에 code[idx]를 추가합니다.\n",
    "    - code[idx]가 \"1\"이면 mode를 1에서 0으로 바꿉니다.\n",
    "    \n",
    "문자열 code를 통해 만들어진 문자열 ret를 return 하는 solution 함수를 완성해 주세요.\n",
    "\n",
    "단, 시작할 때 mode는 0이며, return 하려는 ret가 만약 빈 문자열이라면 대신 \"EMPTY\"를 return 합니다.\n",
    "\n",
    "#### 제한사항\n",
    "- 1 ≤ n ≤ 100\n",
    "\n",
    "#### 입출력 예\n",
    "|code|\tresult|\n",
    "|---|---|\n",
    "|\"abc1abc1abc\"|\t\"acbac\"|"
   ]
  },
  {
   "cell_type": "markdown",
   "id": "ff3cf682",
   "metadata": {},
   "source": [
    "✅ mode가 0일 때\n",
    "- 현재 문자가 \"1\"이라면 → mode를 1로 바꿉니다.\n",
    "- 현재 문자가 \"1\"이 아니라면 → **짝수 인덱스(idx)**의 문자만 ret에 추가합니다.\n",
    "\n",
    "✅ mode가 1일 때\n",
    "- 현재 문자가 \"1\"이라면 → mode를 다시 0으로 바꿉니다.\n",
    "- 현재 문자가 \"1\"이 아니라면 → **홀수 인덱스(idx)**의 문자만 ret에 추가합니다.\n",
    "\n",
    "✅ 단, 시작할 때 mode는 0이며, return 하려는 ret가 만약 빈 문자열이라면 대신 \"EMPTY\"를 return 합니다."
   ]
  },
  {
   "cell_type": "code",
   "execution_count": 2,
   "id": "4cda6754",
   "metadata": {},
   "outputs": [],
   "source": [
    "def solution(code):\n",
    "    answer = ''\n",
    "    mode = 0\n",
    "    for idx, char in enumerate(code):\n",
    "        if char == '1':\n",
    "            mode = 1 - mode\n",
    "        else:\n",
    "            if mode == 0 and idx % 2 == 0:\n",
    "                answer += char\n",
    "            elif mode == 1 and idx % 2 == 1:\n",
    "                answer += char\n",
    "    return answer if answer else \"EMPTY\""
   ]
  },
  {
   "cell_type": "code",
   "execution_count": 3,
   "id": "470431e7",
   "metadata": {},
   "outputs": [
    {
     "data": {
      "text/plain": [
       "'acbac'"
      ]
     },
     "execution_count": 3,
     "metadata": {},
     "output_type": "execute_result"
    }
   ],
   "source": [
    "# 테스트\n",
    "\n",
    "code = \"abc1abc1abc\"\n",
    "\n",
    "solution(code)"
   ]
  }
 ],
 "metadata": {
  "kernelspec": {
   "display_name": "Python 3 (ipykernel)",
   "language": "python",
   "name": "python3"
  },
  "language_info": {
   "codemirror_mode": {
    "name": "ipython",
    "version": 3
   },
   "file_extension": ".py",
   "mimetype": "text/x-python",
   "name": "python",
   "nbconvert_exporter": "python",
   "pygments_lexer": "ipython3",
   "version": "3.11.5"
  }
 },
 "nbformat": 4,
 "nbformat_minor": 5
}
