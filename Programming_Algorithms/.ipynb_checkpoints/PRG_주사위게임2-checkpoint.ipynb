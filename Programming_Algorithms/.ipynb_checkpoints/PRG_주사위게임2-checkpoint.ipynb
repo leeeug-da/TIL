{
 "cells": [
  {
   "cell_type": "markdown",
   "id": "6809b779",
   "metadata": {},
   "source": [
    "## 프로그래머스\n",
    "### 주사위 게임 2\n",
    "\n",
    "#### 문제 설명\n",
    "1부터 6까지 숫자가 적힌 주사위가 세 개 있습니다. 세 주사위를 굴렸을 때 나온 숫자를 각각 a, b, c라고 했을 때 얻는 점수는 다음과 같습니다.\n",
    "\n",
    "- 세 숫자가 모두 다르다면 a + b + c 점을 얻습니다.\n",
    "- 세 숫자 중 어느 두 숫자는 같고 나머지 다른 숫자는 다르다면 (a + b + c) × (a2 + b2 + c2 )점을 얻습니다.\n",
    "- 세 숫자가 모두 같다면 (a + b + c) × (a2 + b2 + c2 ) × (a3 + b3 + c3 )점을 얻습니다.\n",
    "\n",
    "세 정수 a, b, c가 매개변수로 주어질 때, 얻는 점수를 return 하는 solution 함수를 작성해 주세요.\n",
    "\n",
    "#### 제한사항\n",
    "- a, b, c는 1이상 6이하의 정수입니다.\n",
    "\n",
    "#### 입출력 예\n",
    "|a|\tb|\tc|\tresult|\n",
    "|---|---|---|---|\n",
    "|2|\t6|\t1|\t9|\n",
    "|5|\t3|\t3|\t473|\n",
    "|4|\t4|\t4|\t110592|\n",
    "\n",
    "#### 입출력 예 설명\n",
    "**입출력 예 #1**\n",
    "- 예제 1번에서 세 주사위 숫자가 모두 다르므로 2 + 6 + 1 = 9점을 얻습니다. 따라서 9를 return 합니다.\n",
    "\n",
    "**입출력 예 #2**\n",
    "- 예제 2번에서 두 주사위 숫자만 같으므로 (5 + 3 + 3) × (52 + 32 + 32 ) = 11 × 43 = 473점을 얻습니다. 따라서 473을 return 합니다."
   ]
  },
  {
   "cell_type": "code",
   "execution_count": 2,
   "id": "4cda6754",
   "metadata": {},
   "outputs": [],
   "source": [
    "def solution(a, b, c):\n",
    "    answer = 0\n",
    "    if a != b and b != c and a != c:\n",
    "        answer = a+b+c\n",
    "    elif a == b and b == c:\n",
    "        answer = (a+b+c) * (a**2+b**2+c**2) * (a**3+b**3+c**3)\n",
    "    else:\n",
    "        answer = (a+b+c) * (a**2+b**2+c**2)\n",
    "    return answer"
   ]
  },
  {
   "cell_type": "code",
   "execution_count": 3,
   "id": "470431e7",
   "metadata": {},
   "outputs": [
    {
     "data": {
      "text/plain": [
       "9"
      ]
     },
     "execution_count": 3,
     "metadata": {},
     "output_type": "execute_result"
    }
   ],
   "source": [
    "# 테스트\n",
    "\n",
    "a = 2\n",
    "b = 6\n",
    "c = 1\n",
    "\n",
    "solution(a, b, c)"
   ]
  },
  {
   "cell_type": "code",
   "execution_count": 4,
   "id": "411aed09",
   "metadata": {},
   "outputs": [
    {
     "data": {
      "text/plain": [
       "473"
      ]
     },
     "execution_count": 4,
     "metadata": {},
     "output_type": "execute_result"
    }
   ],
   "source": [
    "# 테스트\n",
    "\n",
    "a = 5\n",
    "b = 3\n",
    "c = 3\n",
    "\n",
    "solution(a, b, c)"
   ]
  },
  {
   "cell_type": "code",
   "execution_count": 5,
   "id": "fe352271",
   "metadata": {},
   "outputs": [
    {
     "data": {
      "text/plain": [
       "110592"
      ]
     },
     "execution_count": 5,
     "metadata": {},
     "output_type": "execute_result"
    }
   ],
   "source": [
    "# 테스트\n",
    "\n",
    "a = 4\n",
    "b = 4\n",
    "c = 4\n",
    "\n",
    "solution(a, b, c)"
   ]
  }
 ],
 "metadata": {
  "kernelspec": {
   "display_name": "Python 3 (ipykernel)",
   "language": "python",
   "name": "python3"
  },
  "language_info": {
   "codemirror_mode": {
    "name": "ipython",
    "version": 3
   },
   "file_extension": ".py",
   "mimetype": "text/x-python",
   "name": "python",
   "nbconvert_exporter": "python",
   "pygments_lexer": "ipython3",
   "version": "3.11.5"
  }
 },
 "nbformat": 4,
 "nbformat_minor": 5
}
