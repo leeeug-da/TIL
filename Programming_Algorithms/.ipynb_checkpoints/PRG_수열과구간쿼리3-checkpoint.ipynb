{
 "cells": [
  {
   "cell_type": "markdown",
   "id": "6809b779",
   "metadata": {},
   "source": [
    "## 프로그래머스\n",
    "### 수열과 구간 쿼리 3\n",
    "\n",
    "#### 문제 설명\n",
    "정수 배열 arr와 2차원 정수 배열 queries이 주어집니다. queries의 원소는 각각 하나의 query를 나타내며, [i, j] 꼴입니다.\n",
    "\n",
    "각 query마다 순서대로 arr[i]의 값과 arr[j]의 값을 서로 바꿉니다.\n",
    "\n",
    "위 규칙에 따라 queries를 처리한 이후의 arr를 return 하는 solution 함수를 완성해 주세요.\n",
    "\n",
    "#### 제한사항\n",
    "- 1 ≤ arr의 길이 ≤ 1,000\n",
    "    - 0 ≤ arr의 원소 ≤ 1,000,000\n",
    "- 1 ≤ queries의 길이 ≤ 1,000\n",
    "    - 0 ≤ i < j < arr의 길이\n",
    "\n",
    "#### 입출력 예\n",
    "|arr|\tqueries|\tresult|\n",
    "|---|---|---|\n",
    "|[0, 1, 2, 3, 4]|\t[[0, 3],[1, 2],[1, 4]]|\t[3, 4, 1, 0, 2]|\n",
    "\n",
    "#### 입출력 예 설명\n",
    "**입출력 예 #1**\n",
    "- 각 쿼리에 따라 arr가 다음과 같이 변합니다.\n",
    "\n",
    "|arr|\n",
    "|---|\n",
    "|[0, 1, 2, 3, 4]|\n",
    "|[3, 1, 2, 0, 4]|\n",
    "|[3, 2, 1, 0, 4]|\n",
    "|[3, 4, 1, 0, 2]|\n",
    "\n",
    "따라서 [3, 4, 1, 0, 2]를 return 합니다."
   ]
  },
  {
   "cell_type": "code",
   "execution_count": 21,
   "id": "4cda6754",
   "metadata": {},
   "outputs": [],
   "source": [
    "def solution(arr, queries):\n",
    "    for i, j in queries:\n",
    "        arr[i], arr[j] = arr[j], arr[i]\n",
    "    return arr"
   ]
  },
  {
   "cell_type": "code",
   "execution_count": 22,
   "id": "470431e7",
   "metadata": {},
   "outputs": [
    {
     "data": {
      "text/plain": [
       "[3, 4, 1, 0, 2]"
      ]
     },
     "execution_count": 22,
     "metadata": {},
     "output_type": "execute_result"
    }
   ],
   "source": [
    "# 테스트\n",
    "\n",
    "arr = [0, 1, 2, 3, 4]\n",
    "queries = [[0, 3], [1, 2], [1, 4]]\n",
    "\n",
    "solution(arr, queries)"
   ]
  }
 ],
 "metadata": {
  "kernelspec": {
   "display_name": "Python 3 (ipykernel)",
   "language": "python",
   "name": "python3"
  },
  "language_info": {
   "codemirror_mode": {
    "name": "ipython",
    "version": 3
   },
   "file_extension": ".py",
   "mimetype": "text/x-python",
   "name": "python",
   "nbconvert_exporter": "python",
   "pygments_lexer": "ipython3",
   "version": "3.11.5"
  }
 },
 "nbformat": 4,
 "nbformat_minor": 5
}
