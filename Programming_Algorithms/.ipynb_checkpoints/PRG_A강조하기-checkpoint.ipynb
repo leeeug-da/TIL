{
 "cells": [
  {
   "cell_type": "markdown",
   "id": "6809b779",
   "metadata": {},
   "source": [
    "## 프로그래머스\n",
    "### A 강조하기\n",
    "\n",
    "#### 문제 설명\n",
    "문자열 myString이 주어집니다. myString에서 알파벳 \"a\"가 등장하면 전부 \"A\"로 변환하고, \"A\"가 아닌 모든 대문자 알파벳은 소문자 알파벳으로 변환하여 return 하는 solution 함수를 완성하세요.\n",
    "\n",
    "#### 제한사항\n",
    "- 1 ≤ myString의 길이 ≤ 20\n",
    "    - myString은 알파벳으로 이루어진 문자열입니다.\n",
    "\n",
    "#### 입출력 예\n",
    "|myString|\tresult|\n",
    "|---|---|\n",
    "|\"abstract algebra\"|\t\"AbstrAct AlgebrA\"|\n",
    "|\"PrOgRaMmErS\"|\t\"progrAmmers\"|\n",
    "\n",
    "#### 입출력 예 설명\n",
    "**입출력 예 #1**\n",
    "- 0번, 5번, 9번, 15번 인덱스의 \"a\"는 소문자이므로 전부 대문자로 고쳐줍니다.\n",
    "- 다른 문자들은 전부 \"a\"가 아닌 소문자이므로 바꾸지 않습니다.\n",
    "- 따라서 \"AbstrAct AlgebrA\"를 return 합니다.\n",
    "\n",
    "**입출력 예 #2**\n",
    "- 0번, 2번, 4번, 6번, 8번, 10번 인덱스의 문자들은 \"A\"가 아닌 대문자이므로 전부 소문자로 고쳐줍니다.\n",
    "- 5번 인덱스의 \"a\"는 소문자이므로 대문자로 고쳐줍니다.\n",
    "- 다른 문자들은 전부 \"a\"가 아닌 소문자이므로 바꾸지 않습니다.\n",
    "- 따라서 \"progrAmmers\"를 return 합니다."
   ]
  },
  {
   "cell_type": "code",
   "execution_count": 7,
   "id": "4cda6754",
   "metadata": {},
   "outputs": [],
   "source": [
    "# 알파벳 \"a\"가 등장하면 전부 \"A\"로 변환\n",
    "# \"A\"가 아닌 모든 대문자 알파벳은 소문자 알파벳으로 변환\n",
    "\n",
    "def solution(myString):\n",
    "    answer = myString.lower().replace('a', 'A')\n",
    "    return answer"
   ]
  },
  {
   "cell_type": "code",
   "execution_count": 8,
   "id": "470431e7",
   "metadata": {},
   "outputs": [
    {
     "data": {
      "text/plain": [
       "'AbstrAct AlgebrA'"
      ]
     },
     "execution_count": 8,
     "metadata": {},
     "output_type": "execute_result"
    }
   ],
   "source": [
    "# 테스트\n",
    "\n",
    "myString = \"abstract algebra\"\n",
    "\n",
    "solution(myString)"
   ]
  },
  {
   "cell_type": "code",
   "execution_count": 9,
   "id": "411aed09",
   "metadata": {},
   "outputs": [
    {
     "data": {
      "text/plain": [
       "'progrAmmers'"
      ]
     },
     "execution_count": 9,
     "metadata": {},
     "output_type": "execute_result"
    }
   ],
   "source": [
    "# 테스트\n",
    "\n",
    "myString = \"PrOgRaMmErS\"\n",
    "\n",
    "solution(myString)"
   ]
  }
 ],
 "metadata": {
  "kernelspec": {
   "display_name": "Python 3 (ipykernel)",
   "language": "python",
   "name": "python3"
  },
  "language_info": {
   "codemirror_mode": {
    "name": "ipython",
    "version": 3
   },
   "file_extension": ".py",
   "mimetype": "text/x-python",
   "name": "python",
   "nbconvert_exporter": "python",
   "pygments_lexer": "ipython3",
   "version": "3.11.5"
  }
 },
 "nbformat": 4,
 "nbformat_minor": 5
}
