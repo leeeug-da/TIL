{
 "cells": [
  {
   "attachments": {},
   "cell_type": "markdown",
   "metadata": {},
   "source": [
    "# **코딩 테스트** \n",
    "\n",
    "## **📌 비밀번호 조건 만족**\n",
    "\n",
    "#### **✔️ 문제**\n",
    "이번에 회원 관리 프로그램을 만들면서 고객에게 ID와 '비밀번호'를 입력받아야 하는 기능을 개발해야 합니다.\n",
    "\n",
    "그 중 '비밀번호' s를 입력받을 때 다음과 같은 제약을 주고자 합니다.\n",
    "- 최소한 5자리 이상의 길이를 가져야 한다.\n",
    "- 최소한 1개 이상의 숫자가 포함되어야 한다.\n",
    "- 최소한 1개 이상의 대문자가 포함되어야 한다.\n",
    "\n",
    "이 조건을 만족하는지 여부를 반환하는 프로그램을 구현하시오.\n",
    "\n",
    "#### **✔️ 입력**\n",
    "0 < s.length <= 1000\n",
    "\n",
    "#### **✔️ 매개변수 형식**\n",
    "s = \"zer0Bas3\"\n",
    "\n",
    "#### **✔️ 반환값 형식**\n",
    "true"
   ]
  },
  {
   "cell_type": "code",
   "execution_count": 1,
   "metadata": {},
   "outputs": [],
   "source": [
    "import re\n",
    "\n",
    "def solution(s):\n",
    "    if len(s) < 5:\n",
    "        return False\n",
    "    if not re.search(r'\\d', s):\n",
    "        return False\n",
    "    if not re.search(r'[A-Z]', s):\n",
    "        return False\n",
    "    return True"
   ]
  },
  {
   "cell_type": "code",
   "execution_count": 2,
   "metadata": {},
   "outputs": [
    {
     "name": "stdout",
     "output_type": "stream",
     "text": [
      "zer0Bas3\n",
      "비밀번호가 유효합니다.\n"
     ]
    }
   ],
   "source": [
    "# 테스트\n",
    "\n",
    "s = input()\n",
    "\n",
    "# 비밀번호 유효성 검사 결과 출력\n",
    "if solution(s):\n",
    "    print(\"비밀번호가 유효합니다.\")\n",
    "else:\n",
    "    print(\"비밀번호가 유효하지 않습니다.\")"
   ]
  }
 ],
 "metadata": {
  "kernelspec": {
   "display_name": "Python 3 (ipykernel)",
   "language": "python",
   "name": "python3"
  },
  "language_info": {
   "codemirror_mode": {
    "name": "ipython",
    "version": 3
   },
   "file_extension": ".py",
   "mimetype": "text/x-python",
   "name": "python",
   "nbconvert_exporter": "python",
   "pygments_lexer": "ipython3",
   "version": "3.11.5"
  }
 },
 "nbformat": 4,
 "nbformat_minor": 4
}
