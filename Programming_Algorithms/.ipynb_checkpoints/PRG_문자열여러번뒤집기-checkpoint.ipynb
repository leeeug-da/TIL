{
 "cells": [
  {
   "cell_type": "markdown",
   "id": "6809b779",
   "metadata": {},
   "source": [
    "## 프로그래머스\n",
    "### 문자열 여러 번 뒤집기\n",
    "\n",
    "#### 문제 설명\n",
    "문자열 my_string과 이차원 정수 배열 queries가 매개변수로 주어집니다. queries의 원소는 [s, e] 형태로, my_string의 인덱스 s부터 인덱스 e까지를 뒤집으라는 의미입니다. my_string에 queries의 명령을 순서대로 처리한 후의 문자열을 return 하는 solution 함수를 작성해 주세요.\n",
    "\n",
    "#### 제한사항\n",
    "- my_string은 영소문자로만 이루어져 있습니다.\n",
    "- 1 ≤ my_string의 길이 ≤ 1,000\n",
    "- queries의 원소는 [s, e]의 형태로 0 ≤ s ≤ e < my_string의 길이를 만족합니다.\n",
    "- 1 ≤ queries의 길이 ≤ 1,000\n",
    "\n",
    "\n",
    "#### 입출력 예\n",
    "|my_string|\tqueries|\tresult|\n",
    "|---|---|---|\n",
    "|\"rermgorpsam\"|\t[[2, 3], [0, 7], [5, 9], [6, 10]]|\t\"programmers\"|"
   ]
  },
  {
   "cell_type": "code",
   "execution_count": 11,
   "id": "4cda6754",
   "metadata": {},
   "outputs": [],
   "source": [
    "def solution(my_string, queries):\n",
    "    for s, e in queries:\n",
    "        my_string = my_string[:s] + my_string[s:e+1][::-1] + my_string[e+1:]\n",
    "    return my_string"
   ]
  },
  {
   "cell_type": "code",
   "execution_count": 12,
   "id": "470431e7",
   "metadata": {},
   "outputs": [
    {
     "data": {
      "text/plain": [
       "'programmers'"
      ]
     },
     "execution_count": 12,
     "metadata": {},
     "output_type": "execute_result"
    }
   ],
   "source": [
    "# 테스트\n",
    "\n",
    "my_string = \"rermgorpsam\"\n",
    "queries = [[2, 3], [0, 7], [5, 9], [6, 10]]\n",
    "\n",
    "\n",
    "solution(my_string, queries)"
   ]
  }
 ],
 "metadata": {
  "kernelspec": {
   "display_name": "Python 3 (ipykernel)",
   "language": "python",
   "name": "python3"
  },
  "language_info": {
   "codemirror_mode": {
    "name": "ipython",
    "version": 3
   },
   "file_extension": ".py",
   "mimetype": "text/x-python",
   "name": "python",
   "nbconvert_exporter": "python",
   "pygments_lexer": "ipython3",
   "version": "3.11.5"
  }
 },
 "nbformat": 4,
 "nbformat_minor": 5
}
