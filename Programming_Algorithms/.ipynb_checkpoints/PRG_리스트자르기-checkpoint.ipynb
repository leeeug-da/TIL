{
 "cells": [
  {
   "cell_type": "markdown",
   "id": "6809b779",
   "metadata": {},
   "source": [
    "## 프로그래머스\n",
    "### 리스트 자르기\n",
    "\n",
    "#### 문제 설명\n",
    "정수 n과 정수 3개가 담긴 리스트 slicer 그리고 정수 여러 개가 담긴 리스트 num_list가 주어집니다. slicer에 담긴 정수를 차례대로 a, b, c라고 할 때, n에 따라 다음과 같이 num_list를 슬라이싱 하려고 합니다.\n",
    "\n",
    "- n = 1 : num_list의 0번 인덱스부터 b번 인덱스까지\n",
    "- n = 2 : num_list의 a번 인덱스부터 마지막 인덱스까지\n",
    "- n = 3 : num_list의 a번 인덱스부터 b번 인덱스까지\n",
    "- n = 4 : num_list의 a번 인덱스부터 b번 인덱스까지 c 간격으로\n",
    "\n",
    "올바르게 슬라이싱한 리스트를 return하도록 solution 함수를 완성해주세요.\n",
    "\n",
    "\n",
    "#### 입출력 예\n",
    "|n|\tslicer|\tnum_list|\tresult|\n",
    "|---|---|---|---|\n",
    "|3|\t[1, 5, 2]|\t[1, 2, 3, 4, 5, 6, 7, 8, 9]|\t[2, 3, 4, 5, 6]|\n",
    "|4|\t[1, 5, 2]|\t[1, 2, 3, 4, 5, 6, 7, 8, 9]|\t[2, 4, 6]|\n",
    "\n",
    "#### 입출력 예 설명\n",
    "**입출력 예 #1**\n",
    "- [1, 2, 3, 4, 5, 6, 7, 8, 9]에서 1번 인덱스부터 5번 인덱스까지 자른 리스트는 [2, 3, 4, 5, 6]입니다.\n",
    "\n",
    "**입출력 예 #2**\n",
    "- [1, 2, 3, 4, 5, 6, 7, 8, 9]에서 1번 인덱스부터 5번 인덱스까지 2개 간격으로 자른 리스트는 [2, 4, 6]입니다."
   ]
  },
  {
   "cell_type": "code",
   "execution_count": 7,
   "id": "4cda6754",
   "metadata": {},
   "outputs": [],
   "source": [
    "# n = 1 : num_list의 0번 인덱스부터 b번 인덱스까지\n",
    "# n = 2 : num_list의 a번 인덱스부터 마지막 인덱스까지\n",
    "# n = 3 : num_list의 a번 인덱스부터 b번 인덱스까지\n",
    "# n = 4 : num_list의 a번 인덱스부터 b번 인덱스까지 c 간격으로\n",
    "\n",
    "def solution(n, slicer, num_list):\n",
    "    a, b, c = slicer\n",
    "    if n == 1:\n",
    "        return num_list[:b+1]\n",
    "    elif n == 2:\n",
    "        return num_list[a:]\n",
    "    elif n == 3:\n",
    "        return num_list[a:b+1]\n",
    "    elif n == 4:\n",
    "        return num_list[a:b+1:c]"
   ]
  },
  {
   "cell_type": "code",
   "execution_count": 8,
   "id": "470431e7",
   "metadata": {},
   "outputs": [
    {
     "data": {
      "text/plain": [
       "[2, 3, 4, 5, 6]"
      ]
     },
     "execution_count": 8,
     "metadata": {},
     "output_type": "execute_result"
    }
   ],
   "source": [
    "# 테스트\n",
    "\n",
    "n = 3\n",
    "slicer = [1, 5, 2]\n",
    "num_list = [1, 2, 3, 4, 5, 6, 7, 8, 9]\n",
    "\n",
    "solution(n, slicer, num_list)"
   ]
  },
  {
   "cell_type": "code",
   "execution_count": 9,
   "id": "411aed09",
   "metadata": {},
   "outputs": [
    {
     "data": {
      "text/plain": [
       "[2, 4, 6]"
      ]
     },
     "execution_count": 9,
     "metadata": {},
     "output_type": "execute_result"
    }
   ],
   "source": [
    "# 테스트\n",
    "\n",
    "n = 4\n",
    "slicer = [1, 5, 2]\n",
    "num_list = [1, 2, 3, 4, 5, 6, 7, 8, 9]\n",
    "\n",
    "solution(n, slicer, num_list)"
   ]
  }
 ],
 "metadata": {
  "kernelspec": {
   "display_name": "Python 3 (ipykernel)",
   "language": "python",
   "name": "python3"
  },
  "language_info": {
   "codemirror_mode": {
    "name": "ipython",
    "version": 3
   },
   "file_extension": ".py",
   "mimetype": "text/x-python",
   "name": "python",
   "nbconvert_exporter": "python",
   "pygments_lexer": "ipython3",
   "version": "3.11.5"
  }
 },
 "nbformat": 4,
 "nbformat_minor": 5
}
