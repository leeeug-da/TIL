{
 "cells": [
  {
   "cell_type": "markdown",
   "id": "6809b779",
   "metadata": {},
   "source": [
    "## 프로그래머스\n",
    "### 부분 문자열 이어 붙여 문자열 만들기\n",
    "\n",
    "#### 문제 설명\n",
    "길이가 같은 문자열 배열 my_strings와 이차원 정수 배열 parts가 매개변수로 주어집니다. parts[i]는 [s, e] 형태로, my_string[i]의 인덱스 s부터 인덱스 e까지의 부분 문자열을 의미합니다. 각 my_strings의 원소의 parts에 해당하는 부분 문자열을 순서대로 이어 붙인 문자열을 return 하는 solution 함수를 작성해 주세요.\n",
    "\n",
    "#### 제한사항\n",
    "- 1 ≤ my_strings의 길이 = parts의 길이 ≤ 100\n",
    "- 1 ≤ my_strings의 원소의 길이 ≤ 100\n",
    "- parts[i]를 [s, e]라 할 때, 다음을 만족합니다.\n",
    "    - 0 ≤ s ≤ e < my_strings[i]의 길이\n",
    "\n",
    "#### 입출력 예\n",
    "|my_strings|\tparts|\tresult|\n",
    "|---|---|---|\n",
    "|[\"progressive\", \"hamburger\", \"hammer\", \"ahocorasick\"]|\t[[0, 4], [1, 2], [3, 5], [7, 7]]|\t\"programmers\"|"
   ]
  },
  {
   "cell_type": "code",
   "execution_count": 1,
   "id": "4cda6754",
   "metadata": {},
   "outputs": [],
   "source": [
    "def solution(my_strings, parts):\n",
    "    answer = ''\n",
    "    for i, (s, e) in enumerate(parts):\n",
    "        answer += my_strings[i][s:e+1]\n",
    "    return answer"
   ]
  },
  {
   "cell_type": "code",
   "execution_count": 2,
   "id": "470431e7",
   "metadata": {},
   "outputs": [
    {
     "data": {
      "text/plain": [
       "'programmers'"
      ]
     },
     "execution_count": 2,
     "metadata": {},
     "output_type": "execute_result"
    }
   ],
   "source": [
    "# 테스트\n",
    "\n",
    "my_strings = [\"progressive\", \"hamburger\", \"hammer\", \"ahocorasick\"]\n",
    "parts = [[0, 4], [1, 2], [3, 5], [7, 7]]\n",
    "\n",
    "solution(my_strings, parts)"
   ]
  }
 ],
 "metadata": {
  "kernelspec": {
   "display_name": "Python 3 (ipykernel)",
   "language": "python",
   "name": "python3"
  },
  "language_info": {
   "codemirror_mode": {
    "name": "ipython",
    "version": 3
   },
   "file_extension": ".py",
   "mimetype": "text/x-python",
   "name": "python",
   "nbconvert_exporter": "python",
   "pygments_lexer": "ipython3",
   "version": "3.11.5"
  }
 },
 "nbformat": 4,
 "nbformat_minor": 5
}
