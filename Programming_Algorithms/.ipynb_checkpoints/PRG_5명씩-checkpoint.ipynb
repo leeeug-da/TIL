{
 "cells": [
  {
   "cell_type": "markdown",
   "id": "6809b779",
   "metadata": {},
   "source": [
    "## 프로그래머스\n",
    "### 5명씩\n",
    "\n",
    "#### 문제 설명\n",
    "최대 5명씩 탑승가능한 놀이기구를 타기 위해 줄을 서있는 사람들의 이름이 담긴 문자열 리스트 names가 주어질 때, 앞에서 부터 5명씩 묶은 그룹의 가장 앞에 서있는 사람들의 이름을 담은 리스트를 return하도록 solution 함수를 완성해주세요. 마지막 그룹이 5명이 되지 않더라도 가장 앞에 있는 사람의 이름을 포함합니다.\n",
    "\n",
    "\n",
    "#### 제한사항\n",
    "- 5 ≤ names의 길이 ≤ 30\n",
    "- 1 ≤ names의 원소의 길이 ≤ 10\n",
    "- names의 원소는 영어 알파벳 소문자로만 이루어져 있습니다.\n",
    "\n",
    "#### 입출력 예\n",
    "|names|\tresult|\n",
    "|---|---|\n",
    "|[\"nami\", \"ahri\", \"jayce\", \"garen\", \"ivern\", \"vex\", \"jinx\"]|\t[\"nami\", \"vex\"]|\n",
    "\n",
    "#### 입출력 예 설명\n",
    "**입출력 예 #1**\n",
    "- 앞에서부터 5명씩 두 그룹으로 묶을 수 있습니다. [\"nami\", \"ahri\", \"jayce\", \"garen\", \"ivern\"], [\"vex\", \"jinx\"] 이 두 그룹에서 가장 앞에 서있는 사람들의 이름을 담은 리스트인 [\"nami\", \"vex\"]를 return합니다."
   ]
  },
  {
   "cell_type": "code",
   "execution_count": 7,
   "id": "4cda6754",
   "metadata": {},
   "outputs": [],
   "source": [
    "def solution(names):\n",
    "    answer = names[0::5]\n",
    "    return answer"
   ]
  },
  {
   "cell_type": "code",
   "execution_count": 8,
   "id": "e3cb380f",
   "metadata": {},
   "outputs": [
    {
     "data": {
      "text/plain": [
       "['nami', 'vex']"
      ]
     },
     "execution_count": 8,
     "metadata": {},
     "output_type": "execute_result"
    }
   ],
   "source": [
    "names = [\"nami\", \"ahri\", \"jayce\", \"garen\", \"ivern\", \"vex\", \"jinx\"]\n",
    "solution(names)"
   ]
  }
 ],
 "metadata": {
  "kernelspec": {
   "display_name": "Python 3 (ipykernel)",
   "language": "python",
   "name": "python3"
  },
  "language_info": {
   "codemirror_mode": {
    "name": "ipython",
    "version": 3
   },
   "file_extension": ".py",
   "mimetype": "text/x-python",
   "name": "python",
   "nbconvert_exporter": "python",
   "pygments_lexer": "ipython3",
   "version": "3.11.5"
  }
 },
 "nbformat": 4,
 "nbformat_minor": 5
}
