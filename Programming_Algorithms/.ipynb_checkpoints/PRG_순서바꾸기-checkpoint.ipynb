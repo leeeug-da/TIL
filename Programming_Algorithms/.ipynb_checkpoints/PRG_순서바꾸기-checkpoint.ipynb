{
 "cells": [
  {
   "cell_type": "markdown",
   "id": "6809b779",
   "metadata": {},
   "source": [
    "## 프로그래머스\n",
    "### 순서 바꾸기\n",
    "\n",
    "#### 문제 설명\n",
    "정수 리스트 num_list와 정수 n이 주어질 때, num_list를 n 번째 원소 이후의 원소들과 n 번째까지의 원소들로 나눠 n 번째 원소 이후의 원소들을 n 번째까지의 원소들 앞에 붙인 리스트를 return하도록 solution 함수를 완성해주세요.\n",
    "\n",
    "#### 제한사항\n",
    "- 2 ≤ num_list의 길이 ≤ 30\n",
    "- 1 ≤ num_list의 원소 ≤ 9\n",
    "- 1 ≤ n ≤ num_list의 길이\n",
    "\n",
    "#### 입출력 예\n",
    "|num_list|\tn|\tresult|\n",
    "|---|---|---|\n",
    "|[2, 1, 6]|\t1|\t[1, 6, 2]|\n",
    "|[5, 2, 1, 7, 5]|\t3|\t[7, 5, 5, 2, 1]|\n",
    "\n",
    "#### 입출력 예 설명\n",
    "**입출력 예 #1**\n",
    "- [2, 1, 6]에서 첫 번째 이후의 원소는 [1, 6]이고 첫 번째까지의 원소는 [2]입니다. 두 리스트를 이어 붙이면 [1, 6, 2]가 됩니다.\n",
    "\n",
    "**입출력 예 #2**\n",
    "- [5, 2, 1, 7, 5]에서 세 번째 이후의 원소는 [7, 5]이고 세 번째까지의 원소는 [5, 2, 1]입니다. 두 리스트를 이어 붙이면 [7, 5, 5, 2, 1]가 됩니다."
   ]
  },
  {
   "cell_type": "code",
   "execution_count": 5,
   "id": "4cda6754",
   "metadata": {},
   "outputs": [],
   "source": [
    "def solution(num_list, n):\n",
    "    answer = num_list[n:] + num_list[:n]\n",
    "    return answer"
   ]
  },
  {
   "cell_type": "code",
   "execution_count": 6,
   "id": "470431e7",
   "metadata": {},
   "outputs": [
    {
     "data": {
      "text/plain": [
       "[1, 6, 2]"
      ]
     },
     "execution_count": 6,
     "metadata": {},
     "output_type": "execute_result"
    }
   ],
   "source": [
    "# 테스트\n",
    "\n",
    "num_list = [2, 1, 6]\n",
    "n = 1\n",
    "\n",
    "solution(num_list, n)"
   ]
  },
  {
   "cell_type": "code",
   "execution_count": 7,
   "id": "411aed09",
   "metadata": {},
   "outputs": [
    {
     "data": {
      "text/plain": [
       "[7, 5, 5, 2, 1]"
      ]
     },
     "execution_count": 7,
     "metadata": {},
     "output_type": "execute_result"
    }
   ],
   "source": [
    "# 테스트\n",
    "\n",
    "num_list = [5, 2, 1, 7, 5]\n",
    "n = 3\n",
    "\n",
    "solution(num_list, n)"
   ]
  }
 ],
 "metadata": {
  "kernelspec": {
   "display_name": "Python 3 (ipykernel)",
   "language": "python",
   "name": "python3"
  },
  "language_info": {
   "codemirror_mode": {
    "name": "ipython",
    "version": 3
   },
   "file_extension": ".py",
   "mimetype": "text/x-python",
   "name": "python",
   "nbconvert_exporter": "python",
   "pygments_lexer": "ipython3",
   "version": "3.11.5"
  }
 },
 "nbformat": 4,
 "nbformat_minor": 5
}
