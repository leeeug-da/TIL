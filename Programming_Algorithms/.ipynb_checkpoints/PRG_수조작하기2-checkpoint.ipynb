{
 "cells": [
  {
   "cell_type": "markdown",
   "id": "6809b779",
   "metadata": {},
   "source": [
    "## 프로그래머스\n",
    "### 수 조작하기2\n",
    "\n",
    "#### 문제 설명\n",
    "정수 배열 numLog가 주어집니다. 처음에 numLog[0]에서 부터 시작해 \"w\", \"a\", \"s\", \"d\"로 이루어진 문자열을 입력으로 받아 순서대로 다음과 같은 조작을 했다고 합시다.\n",
    "\n",
    "- \"w\" : 수에 1을 더한다.\n",
    "- \"s\" : 수에 1을 뺀다.\n",
    "- \"d\" : 수에 10을 더한다.\n",
    "- \"a\" : 수에 10을 뺀다.\n",
    "\n",
    "그리고 매번 조작을 할 때마다 결괏값을 기록한 정수 배열이 numLog입니다. 즉, numLog[i]는 numLog[0]로부터 총 i번의 조작을 가한 결과가 저장되어 있습니다.\n",
    "\n",
    "주어진 정수 배열 numLog에 대해 조작을 위해 입력받은 문자열을 return 하는 solution 함수를 완성해 주세요.\n",
    "\n",
    "#### 제한사항\n",
    "- 2 ≤ numLog의 길이 ≤ 100,000\n",
    "    - -100,000 ≤ numLog[0] ≤ 100,000\n",
    "    - 1 ≤ i ≤ numLog의 길이인 모든 i에 대해 |numLog[i] - numLog[i - 1]|의 값은 1 또는 10입니다.\n",
    "\n",
    "#### 입출력 예\n",
    "|numLog|\tresult|\n",
    "|---|---|\n",
    "|[0, 1, 0, 10, 0, 1, 0, 10, 0, -1, -2, -1]|\t\"wsdawsdassw\"|\n",
    "\n",
    "#### 입출력 예 설명\n",
    "**입출력 예 #1**\n",
    "- result인 \"wsdawsdassw\"를 따라 numLog[0]에서부터 시작해 조작을 하면 numLog의 값과 순서대로 일치합니다. 따라서 \"wsdawsdassw\"를 return 합니다."
   ]
  },
  {
   "cell_type": "code",
   "execution_count": 15,
   "id": "4cda6754",
   "metadata": {},
   "outputs": [],
   "source": [
    "def solution(numLog):\n",
    "    answer = ''\n",
    "    dic = { 1: \"w\", -1: \"s\", 10: \"d\", -10: \"a\" }\n",
    "    \n",
    "    for idx, val in enumerate(numLog):\n",
    "        if idx != len(numLog)-1:\n",
    "            answer += dic[numLog[idx+1] - numLog[idx]]\n",
    "    return answer"
   ]
  },
  {
   "cell_type": "code",
   "execution_count": 16,
   "id": "05fd12df",
   "metadata": {},
   "outputs": [
    {
     "data": {
      "text/plain": [
       "'wsdawsdassw'"
      ]
     },
     "execution_count": 16,
     "metadata": {},
     "output_type": "execute_result"
    }
   ],
   "source": [
    "# Test\n",
    "\n",
    "numLog = [0, 1, 0, 10, 0, 1, 0, 10, 0, -1, -2, -1]\n",
    "\n",
    "solution(numLog)"
   ]
  }
 ],
 "metadata": {
  "kernelspec": {
   "display_name": "Python 3 (ipykernel)",
   "language": "python",
   "name": "python3"
  },
  "language_info": {
   "codemirror_mode": {
    "name": "ipython",
    "version": 3
   },
   "file_extension": ".py",
   "mimetype": "text/x-python",
   "name": "python",
   "nbconvert_exporter": "python",
   "pygments_lexer": "ipython3",
   "version": "3.11.5"
  }
 },
 "nbformat": 4,
 "nbformat_minor": 5
}
