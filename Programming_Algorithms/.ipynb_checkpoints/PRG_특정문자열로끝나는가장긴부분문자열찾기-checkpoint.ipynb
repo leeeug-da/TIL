{
 "cells": [
  {
   "cell_type": "markdown",
   "id": "6809b779",
   "metadata": {},
   "source": [
    "## 프로그래머스\n",
    "### 특정 문자열로 끝나는 가장 긴 부분 문자열 찾기\n",
    "\n",
    "#### 문제 설명\n",
    "문자열 myString과 pat가 주어집니다. myString의 부분 문자열중 pat로 끝나는 가장 긴 부분 문자열을 찾아서 return 하는 solution 함수를 완성해 주세요.\n",
    "\n",
    "#### 제한사항\n",
    "- 5 ≤ myString ≤ 20\n",
    "- 1 ≤ pat ≤ 5\n",
    "    - pat은 반드시 myString의 부분 문자열로 주어집니다.\n",
    "- myString과 pat에 등장하는 알파벳은 대문자와 소문자를 구분합니다.\n",
    "\n",
    "#### 입출력 예\n",
    "|myString|\tpat|\tresult|\n",
    "|---|---|---|\n",
    "|\"AbCdEFG\"|\t\"dE\"|\t\"AbCdE\"|\n",
    "|\"AAAAaaaa\"|\t\"a\"|\t\"AAAAaaaa\"|\n",
    "\n",
    "#### 입출력 예 설명\n",
    "**입출력 예 #1**\n",
    "- \"AbCdEFG\"에서 \"dE\"는 한 번 등장하며 처음부터 해당 위치까지 잘라내면 \"AbCdE\"가 됩니다. 따라서 이 문자열이 \"dE\"로 끝나는 가장 긴 문자열이며, \"AbCdE\"를 return 합니다.\n",
    "\n",
    "**입출력 예 #2**\n",
    "- \"AAAAaaaa\"에서 \"a\"는 총 네 번 등장하며 이 중 가장 마지막에 있는 위치까지 잘라내면 \"AAAAaaaa\"가 됩니다. 따라서 이 문자열이 \"a\"로 끝나는 가장 긴 문자열이며, \"AAAAaaaa\"를 return 합니다."
   ]
  },
  {
   "cell_type": "code",
   "execution_count": 9,
   "id": "4abdcf90",
   "metadata": {},
   "outputs": [],
   "source": [
    "# rfind() - 문자열을 오른쪽부터 찾는 함수\n",
    "\n",
    "def solution(myString, pat):\n",
    "    i = myString.rfind(pat)\n",
    "    answer = myString[:i + len(pat)]\n",
    "    return answer"
   ]
  },
  {
   "cell_type": "code",
   "execution_count": 10,
   "id": "470431e7",
   "metadata": {},
   "outputs": [
    {
     "data": {
      "text/plain": [
       "'AbCdE'"
      ]
     },
     "execution_count": 10,
     "metadata": {},
     "output_type": "execute_result"
    }
   ],
   "source": [
    "# 테스트\n",
    "\n",
    "myString = \"AbCdEFG\"\n",
    "pat = \"dE\"\n",
    "\n",
    "solution(myString, pat)"
   ]
  },
  {
   "cell_type": "code",
   "execution_count": 11,
   "id": "411aed09",
   "metadata": {},
   "outputs": [
    {
     "data": {
      "text/plain": [
       "'AAAAaaaa'"
      ]
     },
     "execution_count": 11,
     "metadata": {},
     "output_type": "execute_result"
    }
   ],
   "source": [
    "# 테스트\n",
    "\n",
    "myString = \"AAAAaaaa\"\n",
    "pat = \"a\"\n",
    "\n",
    "solution(myString, pat)"
   ]
  }
 ],
 "metadata": {
  "kernelspec": {
   "display_name": "Python 3 (ipykernel)",
   "language": "python",
   "name": "python3"
  },
  "language_info": {
   "codemirror_mode": {
    "name": "ipython",
    "version": 3
   },
   "file_extension": ".py",
   "mimetype": "text/x-python",
   "name": "python",
   "nbconvert_exporter": "python",
   "pygments_lexer": "ipython3",
   "version": "3.11.5"
  }
 },
 "nbformat": 4,
 "nbformat_minor": 5
}
