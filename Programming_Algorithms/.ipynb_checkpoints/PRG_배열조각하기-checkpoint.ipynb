{
 "cells": [
  {
   "cell_type": "markdown",
   "id": "6809b779",
   "metadata": {},
   "source": [
    "## 프로그래머스\n",
    "### 배열 조각하기\n",
    "\n",
    "#### 문제 설명\n",
    "정수 배열 arr와 query가 주어집니다.\n",
    "\n",
    "query를 순회하면서 다음 작업을 반복합니다.\n",
    "\n",
    "- 짝수 인덱스에서는 arr에서 query[i]번 인덱스를 제외하고 배열의 query[i]번 인덱스 뒷부분을 잘라서 버립니다.\n",
    "- 홀수 인덱스에서는 arr에서 query[i]번 인덱스는 제외하고 배열의 query[i]번 인덱스 앞부분을 잘라서 버립니다.\n",
    "\n",
    "위 작업을 마친 후 남은 arr의 부분 배열을 return 하는 solution 함수를 완성해 주세요.\n",
    "\n",
    "#### 제한사항\n",
    "- 5 ≤ arr의 길이 ≤ 100,000\n",
    "    - 0 ≤ arr의 원소 ≤ 100\n",
    "- 1 ≤ query의 길이 < min(50, arr의 길이 / 2)\n",
    "    - query의 각 원소는 0보다 크거나 같고 남아있는 arr의 길이 보다 작습니다.\n",
    "\n",
    "\n",
    "#### 입출력 예\n",
    "|arr|\tquery|\tresult|\n",
    "|---|---|---|\n",
    "|[0, 1, 2, 3, 4, 5]|\t[4, 1, 2]|\t[1, 2, 3]|\n",
    "\n",
    "#### 입출력 예 설명\n",
    "**입출력 예 #1**\n",
    "- 이번에 매번 처리할 query의 값과 처리 전후의 arr의 상태를 표로 나타내면 다음과 같습니다.\n",
    "\n",
    "|query의 값|\tquery 처리 전|\tquery 처리 후|\t비고|\n",
    "|---|---|---|---|\n",
    "|4|\t[0, 1, 2, 3, 4, 5]|\t[0, 1, 2, 3, 4]|\t0번 인덱스의 쿼리이므로 뒷부분을 자른다.|\n",
    "|1|\t[0, 1, 2, 3, 4]|\t[1, 2, 3, 4]|\t1번 인덱스의 쿼리이므로 앞부분을 자른다.|\n",
    "|2|\t[1, 2, 3, 4]|\t[1, 2, 3]|\t2번 인덱스의 쿼리이므로 뒷부분을 자른다.|\n",
    "\n",
    "- 따라서 [1, 2, 3]을 return 합니다."
   ]
  },
  {
   "cell_type": "code",
   "execution_count": 11,
   "id": "4cda6754",
   "metadata": {},
   "outputs": [],
   "source": [
    "def solution(arr, query):\n",
    "    for i in range(len(query)):\n",
    "        if i % 2 == 0:\n",
    "            arr = arr[:query[i]+1]\n",
    "        else:\n",
    "            arr = arr[query[i]:]\n",
    "    return arr"
   ]
  },
  {
   "cell_type": "code",
   "execution_count": 12,
   "id": "470431e7",
   "metadata": {},
   "outputs": [
    {
     "data": {
      "text/plain": [
       "[1, 2, 3]"
      ]
     },
     "execution_count": 12,
     "metadata": {},
     "output_type": "execute_result"
    }
   ],
   "source": [
    "# 테스트\n",
    "\n",
    "arr = [0, 1, 2, 3, 4, 5]\n",
    "query = [4, 1, 2]\n",
    "\n",
    "solution(arr, query)"
   ]
  }
 ],
 "metadata": {
  "kernelspec": {
   "display_name": "Python 3 (ipykernel)",
   "language": "python",
   "name": "python3"
  },
  "language_info": {
   "codemirror_mode": {
    "name": "ipython",
    "version": 3
   },
   "file_extension": ".py",
   "mimetype": "text/x-python",
   "name": "python",
   "nbconvert_exporter": "python",
   "pygments_lexer": "ipython3",
   "version": "3.11.5"
  }
 },
 "nbformat": 4,
 "nbformat_minor": 5
}
