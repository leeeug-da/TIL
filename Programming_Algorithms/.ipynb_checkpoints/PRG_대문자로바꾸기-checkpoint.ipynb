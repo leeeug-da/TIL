{
 "cells": [
  {
   "cell_type": "markdown",
   "id": "6809b779",
   "metadata": {},
   "source": [
    "## 프로그래머스\n",
    "### 대문자로 바꾸기\n",
    "\n",
    "#### 문제 설명\n",
    "알파벳으로 이루어진 문자열 myString이 주어집니다. 모든 알파벳을 대문자로 변환하여 return 하는 solution 함수를 완성해 주세요.\n",
    "\n",
    "#### 제한사항\n",
    "- 1 ≤ myString의 길이 ≤ 100,000\n",
    "    - myString은 알파벳으로 이루어진 문자열입니다.\n",
    "\n",
    "#### 입출력 예\n",
    "|myString|\tresult|\n",
    "|---|---|\n",
    "|\"aBcDeFg\"|\t\"ABCDEFG\"|\n",
    "|\"AAA\"|\t\"AAA\"|"
   ]
  },
  {
   "cell_type": "code",
   "execution_count": 1,
   "id": "4cda6754",
   "metadata": {},
   "outputs": [],
   "source": [
    "def solution(myString):\n",
    "    answer = myString.upper()\n",
    "    return answer"
   ]
  },
  {
   "cell_type": "code",
   "execution_count": 2,
   "id": "470431e7",
   "metadata": {},
   "outputs": [
    {
     "data": {
      "text/plain": [
       "'ABCDEFG'"
      ]
     },
     "execution_count": 2,
     "metadata": {},
     "output_type": "execute_result"
    }
   ],
   "source": [
    "# 테스트\n",
    "\n",
    "myString = \"aBcDeFg\"\n",
    "\n",
    "solution(myString)"
   ]
  },
  {
   "cell_type": "code",
   "execution_count": 3,
   "id": "411aed09",
   "metadata": {},
   "outputs": [
    {
     "data": {
      "text/plain": [
       "'AAA'"
      ]
     },
     "execution_count": 3,
     "metadata": {},
     "output_type": "execute_result"
    }
   ],
   "source": [
    "# 테스트\n",
    "\n",
    "myString = \"AAA\"\n",
    "\n",
    "solution(myString)"
   ]
  }
 ],
 "metadata": {
  "kernelspec": {
   "display_name": "Python 3 (ipykernel)",
   "language": "python",
   "name": "python3"
  },
  "language_info": {
   "codemirror_mode": {
    "name": "ipython",
    "version": 3
   },
   "file_extension": ".py",
   "mimetype": "text/x-python",
   "name": "python",
   "nbconvert_exporter": "python",
   "pygments_lexer": "ipython3",
   "version": "3.11.5"
  }
 },
 "nbformat": 4,
 "nbformat_minor": 5
}
