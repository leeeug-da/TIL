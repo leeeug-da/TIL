{
 "cells": [
  {
   "cell_type": "markdown",
   "id": "6809b779",
   "metadata": {},
   "source": [
    "## 프로그래머스\n",
    "### qr code\n",
    "\n",
    "#### 문제 설명\n",
    "두 정수 q, r과 문자열 code가 주어질 때, code의 각 인덱스를 q로 나누었을 때 나머지가 r인 위치의 문자를 앞에서부터 순서대로 이어 붙인 문자열을 return 하는 solution 함수를 작성해 주세요.\n",
    "\n",
    "#### 제한사항\n",
    "- 0 ≤ r < q ≤ 20\n",
    "- r < code의 길이 ≤ 1,000\n",
    "- code는 영소문자로만 이루어져 있습니다.\n",
    "\n",
    "#### 입출력 예\n",
    "|q|\tr|\tcode|\tresult|\n",
    "|---|---|---|---|\n",
    "|3|\t1|\t\"qjnwezgrpirldywt\"|\t\"jerry\"|\n",
    "|1|\t0|\t\"programmers\"|\t\"programmers\"|"
   ]
  },
  {
   "cell_type": "code",
   "execution_count": 9,
   "id": "4cda6754",
   "metadata": {},
   "outputs": [],
   "source": [
    "def solution(q, r, code):\n",
    "    answer = ''\n",
    "    for i in range(len(code)):\n",
    "        if i % q == r:\n",
    "            answer += code[i]\n",
    "    return answer"
   ]
  },
  {
   "cell_type": "code",
   "execution_count": 10,
   "id": "470431e7",
   "metadata": {},
   "outputs": [
    {
     "data": {
      "text/plain": [
       "'jerry'"
      ]
     },
     "execution_count": 10,
     "metadata": {},
     "output_type": "execute_result"
    }
   ],
   "source": [
    "# 테스트\n",
    "\n",
    "q = 3\n",
    "r = 1\n",
    "code = \"qjnwezgrpirldywt\"\n",
    "\n",
    "solution(q, r, code)"
   ]
  },
  {
   "cell_type": "code",
   "execution_count": 11,
   "id": "411aed09",
   "metadata": {},
   "outputs": [
    {
     "data": {
      "text/plain": [
       "'programmers'"
      ]
     },
     "execution_count": 11,
     "metadata": {},
     "output_type": "execute_result"
    }
   ],
   "source": [
    "# 테스트\n",
    "\n",
    "q = 1\n",
    "r = 0\n",
    "code = \"programmers\"\n",
    "\n",
    "solution(q, r, code)"
   ]
  }
 ],
 "metadata": {
  "kernelspec": {
   "display_name": "Python 3 (ipykernel)",
   "language": "python",
   "name": "python3"
  },
  "language_info": {
   "codemirror_mode": {
    "name": "ipython",
    "version": 3
   },
   "file_extension": ".py",
   "mimetype": "text/x-python",
   "name": "python",
   "nbconvert_exporter": "python",
   "pygments_lexer": "ipython3",
   "version": "3.11.5"
  }
 },
 "nbformat": 4,
 "nbformat_minor": 5
}
