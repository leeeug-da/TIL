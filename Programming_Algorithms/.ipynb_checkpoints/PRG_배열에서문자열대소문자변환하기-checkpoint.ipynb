{
 "cells": [
  {
   "cell_type": "markdown",
   "id": "6809b779",
   "metadata": {},
   "source": [
    "## 프로그래머스\n",
    "### 배열에서 문자열 대소문자 변환하기\n",
    "\n",
    "#### 문제 설명\n",
    "문자열 배열 strArr가 주어집니다. 모든 원소가 알파벳으로만 이루어져 있을 때, 배열에서 홀수번째 인덱스의 문자열은 모든 문자를 대문자로, 짝수번째 인덱스의 문자열은 모든 문자를 소문자로 바꿔서 반환하는 solution 함수를 완성해 주세요.\n",
    "\n",
    "#### 제한사항\n",
    "- 1 ≤ strArr ≤ 20\n",
    "    - 1 ≤ strArr의 원소의 길이 ≤ 20\n",
    "    - strArr의 원소는 알파벳으로 이루어진 문자열 입니다.\n",
    "\n",
    "#### 입출력 예\n",
    "|strArr|\tresult|\n",
    "|---|---|\n",
    "|[\"AAA\",\"BBB\",\"CCC\",\"DDD\"]|\t[\"aaa\",\"BBB\",\"ccc\",\"DDD\"]|\n",
    "|[\"aBc\",\"AbC\"]|\t[\"abc\",\"ABC\"]|\n",
    "\n",
    "#### 입출력 예 설명\n",
    "**입출력 예 #1**\n",
    "- strArr[0]과 strArr[2]는 짝수번째 인덱스의 문자열이므로 모두 소문자로 바꿔서 \"aaa\"와 \"ccc\"가 됩니다.\n",
    "- strArr[1]과 strArr[3]는 홀수번째 인덱스의 문자열인데 원래 대문자이므로 그대로 둡니다.\n",
    "- 따라서 [\"aaa\",\"BBB\",\"ccc\",\"DDD\"]를 return 합니다.\n",
    "\n",
    "**입출력 예 #2**\n",
    "- strArr[0]은 짝수번째 인덱스의 문자열이므로 소문자로 바꿔서 \"abc\"가 됩니다.\n",
    "- strArr[1]은 홀수번째 인덱스의 문자열이므로 대문자로 바꿔서 \"ABC\"가 됩니다.\n",
    "- 따라서 [\"abc\",\"ABC\"]를 return 합니다."
   ]
  },
  {
   "cell_type": "code",
   "execution_count": 6,
   "id": "4cda6754",
   "metadata": {},
   "outputs": [],
   "source": [
    "def solution(strArr):\n",
    "    answer = []\n",
    "    for i in range(len(strArr)):\n",
    "        if i % 2 == 0:\n",
    "            answer.append(strArr[i].lower())\n",
    "        else:\n",
    "            answer.append(strArr[i].upper())\n",
    "    return answer"
   ]
  },
  {
   "cell_type": "code",
   "execution_count": 7,
   "id": "470431e7",
   "metadata": {},
   "outputs": [
    {
     "data": {
      "text/plain": [
       "['aaa', 'BBB', 'ccc', 'DDD']"
      ]
     },
     "execution_count": 7,
     "metadata": {},
     "output_type": "execute_result"
    }
   ],
   "source": [
    "# 테스트\n",
    "\n",
    "strArr = [\"AAA\",\"BBB\",\"CCC\",\"DDD\"]\n",
    "\n",
    "solution(strArr)"
   ]
  },
  {
   "cell_type": "code",
   "execution_count": 8,
   "id": "411aed09",
   "metadata": {},
   "outputs": [
    {
     "data": {
      "text/plain": [
       "['abc', 'ABC']"
      ]
     },
     "execution_count": 8,
     "metadata": {},
     "output_type": "execute_result"
    }
   ],
   "source": [
    "# 테스트\n",
    "\n",
    "strArr = [\"aBc\",\"AbC\"]\n",
    "\n",
    "solution(strArr)"
   ]
  }
 ],
 "metadata": {
  "kernelspec": {
   "display_name": "Python 3 (ipykernel)",
   "language": "python",
   "name": "python3"
  },
  "language_info": {
   "codemirror_mode": {
    "name": "ipython",
    "version": 3
   },
   "file_extension": ".py",
   "mimetype": "text/x-python",
   "name": "python",
   "nbconvert_exporter": "python",
   "pygments_lexer": "ipython3",
   "version": "3.11.5"
  }
 },
 "nbformat": 4,
 "nbformat_minor": 5
}
