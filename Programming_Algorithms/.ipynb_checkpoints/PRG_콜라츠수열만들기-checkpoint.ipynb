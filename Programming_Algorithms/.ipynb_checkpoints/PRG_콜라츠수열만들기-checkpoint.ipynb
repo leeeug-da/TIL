{
 "cells": [
  {
   "cell_type": "markdown",
   "id": "6809b779",
   "metadata": {},
   "source": [
    "## 프로그래머스\n",
    "### 콜라츠 수열 만들기\n",
    "\n",
    "#### 문제 설명\n",
    "모든 자연수 x에 대해서 현재 값이 x이면 x가 짝수일 때는 2로 나누고, x가 홀수일 때는 3 * x + 1로 바꾸는 계산을 계속해서 반복하면 언젠가는 반드시 x가 1이 되는지 묻는 문제를 콜라츠 문제라고 부릅니다.\n",
    "\n",
    "그리고 위 과정에서 거쳐간 모든 수를 기록한 수열을 콜라츠 수열이라고 부릅니다.\n",
    "\n",
    "계산 결과 1,000 보다 작거나 같은 수에 대해서는 전부 언젠가 1에 도달한다는 것이 알려져 있습니다.\n",
    "\n",
    "임의의 1,000 보다 작거나 같은 양의 정수 n이 주어질 때 초기값이 n인 콜라츠 수열을 return 하는 solution 함수를 완성해 주세요.\n",
    "\n",
    "\n",
    "#### 제한사항\n",
    "- 1 ≤ n ≤ 1000\n",
    "\n",
    "#### 입출력 예\n",
    "|n\t|result|\n",
    "|---|---|\n",
    "|10|\t[10, 5, 16, 8, 4, 2, 1]|\n",
    "\n",
    "#### 입출력 예 설명\n",
    "**입출력 예 #1**\n",
    "- 순서대로 연산한 결과를 표로 만들면 다음과 같습니다.\n",
    "\n",
    "|연산 횟수|\tx|\t홀짝 여부|\n",
    "|---|---|---|\n",
    "|0|\t10|\t짝수|\n",
    "|1|\t5|\t홀수|\n",
    "|2|\t16|\t짝수|\n",
    "|3|\t8|\t짝수|\n",
    "|4|\t4|\t짝수|\n",
    "|5|\t2|\t짝수|\n",
    "|6|\t1|\t홀수|\n",
    "\n",
    "따라서 [10, 5, 16, 8, 4, 2, 1]을 return 합니다."
   ]
  },
  {
   "cell_type": "code",
   "execution_count": 1,
   "id": "4cda6754",
   "metadata": {},
   "outputs": [],
   "source": [
    "def solution(n):\n",
    "    answer = [n]\n",
    "    \n",
    "    while n != 1:\n",
    "        if n % 2 == 0:\n",
    "            n = n // 2\n",
    "        else:\n",
    "            n = 3 * n + 1\n",
    "        answer.append(n)\n",
    "    return answer"
   ]
  },
  {
   "cell_type": "code",
   "execution_count": 2,
   "id": "470431e7",
   "metadata": {},
   "outputs": [
    {
     "data": {
      "text/plain": [
       "[10, 5, 16, 8, 4, 2, 1]"
      ]
     },
     "execution_count": 2,
     "metadata": {},
     "output_type": "execute_result"
    }
   ],
   "source": [
    "# 테스트\n",
    "\n",
    "n = 10\n",
    "\n",
    "solution(n)"
   ]
  }
 ],
 "metadata": {
  "kernelspec": {
   "display_name": "Python 3 (ipykernel)",
   "language": "python",
   "name": "python3"
  },
  "language_info": {
   "codemirror_mode": {
    "name": "ipython",
    "version": 3
   },
   "file_extension": ".py",
   "mimetype": "text/x-python",
   "name": "python",
   "nbconvert_exporter": "python",
   "pygments_lexer": "ipython3",
   "version": "3.11.5"
  }
 },
 "nbformat": 4,
 "nbformat_minor": 5
}
