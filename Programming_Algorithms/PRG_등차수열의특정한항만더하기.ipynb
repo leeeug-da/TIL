{
 "cells": [
  {
   "cell_type": "markdown",
   "id": "6809b779",
   "metadata": {},
   "source": [
    "## 프로그래머스\n",
    "### 등차수열의 특정한 항만 더하기\n",
    "\n",
    "#### 문제 설명\n",
    "두 정수 a, d와 길이가 n인 boolean 배열 included가 주어집니다. 첫째항이 a, 공차가 d인 등차수열에서 included[i]가 i + 1항을 의미할 때, 이 등차수열의 1항부터 n항까지 included가 true인 항들만 더한 값을 return 하는 solution 함수를 작성해 주세요.\n",
    "\n",
    "#### 제한사항\n",
    "- 1 ≤ a ≤ 100\n",
    "- 1 ≤ d ≤ 100\n",
    "- 1 ≤ included의 길이 ≤ 100\n",
    "- included에는 true가 적어도 하나 존재합니다.\n",
    "\n",
    "#### 입출력 예\n",
    "|a|\td|\tincluded|\tresult|\n",
    "|---|---|---|---|\n",
    "|3|\t4|\t[true, false, false, true, true]|\t37|\n",
    "|7|\t1|\t[false, false, false, true, false, false, false]|\t10|\n",
    "\n",
    "#### 입출력 예 설명\n",
    "**입출력 예 #1**\n",
    "- 예제 1번은 a와 d가 각각 3, 4이고 included의 길이가 5입니다. 이를 표로 나타내면 다음과 같습니다.\n",
    "|   |\t1항|\t2항|\t3항|\t4항|\t5항|\n",
    "|---|---|---|---|---|---|\n",
    "|등차수열|\t3|\t7|\t11|\t15|\t19|\n",
    "|included|\ttrue|\tfalse|\tfalse|\ttrue|\ttrue|\n",
    "\n",
    "> 따라서 true에 해당하는 1항, 4항, 5항을 더한 3 + 15 + 19 = 37을 return 합니다.\n",
    "\n",
    "**입출력 예 #2**\n",
    "- 예제 2번은 a와 d가 각각 7, 1이고 included의 길이가 7입니다. 이를 표로 나타내면 다음과 같습니다.\n",
    "|   |\t1항|\t2항|\t3항|\t4항|\t5항|\n",
    "|---|---|---|---|---|---|\n",
    "|등차수열|\t7|\t8|\t9|\t10|\t11|\t12|\t13|\n",
    "|included|\tfalse|\tfalse|\tfalse|\ttrue|\tfalse|\tfalse|\tfalse|\n",
    "\n",
    "> 따라서 4항만 true이므로 10을 return 합니다."
   ]
  },
  {
   "cell_type": "code",
   "execution_count": 34,
   "id": "2b990d84",
   "metadata": {},
   "outputs": [],
   "source": [
    "# ver.01\n",
    "\n",
    "def solution(a, d, included):\n",
    "    num_list = []\n",
    "    answer = 0\n",
    "\n",
    "    for n in range(len(included)):\n",
    "        new_num = a + n*d\n",
    "        num_list.append(new_num)\n",
    "\n",
    "    for i in range(len(included)):\n",
    "        if included[i] == 1:\n",
    "            answer += num_list[i]\n",
    "    \n",
    "    return answer"
   ]
  },
  {
   "cell_type": "code",
   "execution_count": 35,
   "id": "6b6c429f",
   "metadata": {},
   "outputs": [],
   "source": [
    "# ver.02\n",
    "\n",
    "def solution(a, d, included):\n",
    "    answer = 0\n",
    "    for i in range(len(included)):\n",
    "        if included[i] == 1:\n",
    "            answer += a+i*d\n",
    "    return answer"
   ]
  },
  {
   "cell_type": "code",
   "execution_count": 36,
   "id": "470431e7",
   "metadata": {},
   "outputs": [
    {
     "data": {
      "text/plain": [
       "37"
      ]
     },
     "execution_count": 36,
     "metadata": {},
     "output_type": "execute_result"
    }
   ],
   "source": [
    "# 테스트\n",
    "\n",
    "a = 3\n",
    "d = 4\n",
    "included = [1, 0, 0, 1, 1]\n",
    "\n",
    "solution(a, d, included)"
   ]
  },
  {
   "cell_type": "code",
   "execution_count": 37,
   "id": "411aed09",
   "metadata": {},
   "outputs": [
    {
     "data": {
      "text/plain": [
       "10"
      ]
     },
     "execution_count": 37,
     "metadata": {},
     "output_type": "execute_result"
    }
   ],
   "source": [
    "# 테스트\n",
    "\n",
    "a = 7\n",
    "d = 1\n",
    "included = [0, 0, 0, 1, 0, 0, 0]\n",
    "\n",
    "solution(a, d, included)"
   ]
  }
 ],
 "metadata": {
  "kernelspec": {
   "display_name": "Python 3 (ipykernel)",
   "language": "python",
   "name": "python3"
  },
  "language_info": {
   "codemirror_mode": {
    "name": "ipython",
    "version": 3
   },
   "file_extension": ".py",
   "mimetype": "text/x-python",
   "name": "python",
   "nbconvert_exporter": "python",
   "pygments_lexer": "ipython3",
   "version": "3.11.5"
  }
 },
 "nbformat": 4,
 "nbformat_minor": 5
}
