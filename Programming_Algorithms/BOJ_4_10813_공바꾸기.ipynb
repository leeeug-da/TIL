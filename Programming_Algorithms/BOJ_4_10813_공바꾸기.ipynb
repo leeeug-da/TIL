{
 "cells": [
  {
   "cell_type": "markdown",
   "metadata": {},
   "source": [
    "# **BOJ 단계별로 풀어보기** \n",
    "## **📌 4단계 | 10813번 | 공 바꾸기**\n",
    "#### **✔️ 문제**\n",
    "도현이는 바구니를 총 N개 가지고 있고, 각각의 바구니에는 1번부터 N번까지 번호가 매겨져 있다. 바구니에는 공이 1개씩 들어있고, 처음에는 바구니에 적혀있는 번호와 같은 번호가 적힌 공이 들어있다.\n",
    "\n",
    "도현이는 앞으로 M번 공을 바꾸려고 한다. 도현이는 공을 바꿀 바구니 2개를 선택하고, 두 바구니에 들어있는 공을 서로 교환한다.\n",
    "\n",
    "공을 어떻게 바꿀지가 주어졌을 때, M번 공을 바꾼 이후에 각 바구니에 어떤 공이 들어있는지 구하는 프로그램을 작성하시오.\n",
    "#### **✔️ 입력**\n",
    "첫째 줄에 N (1 ≤ N ≤ 100)과 M (1 ≤ M ≤ 100)이 주어진다.\n",
    "\n",
    "둘째 줄부터 M개의 줄에 걸쳐서 공을 교환할 방법이 주어진다. 각 방법은 두 정수 i j로 이루어져 있으며, i번 바구니와 j번 바구니에 들어있는 공을 교환한다는 뜻이다. (1 ≤ i ≤ j ≤ N)\n",
    "\n",
    "도현이는 입력으로 주어진 순서대로 공을 교환한다.\n",
    "#### **✔️ 출력**\n",
    "1번 바구니부터 N번 바구니에 들어있는 공의 번호를 공백으로 구분해 출력한다.\n",
    "#### **✔️ 예제 입력 1**\n",
    "5 4 <br/>\n",
    "1 2 <br/>\n",
    "3 4 <br/>\n",
    "1 4 <br/>\n",
    "2 2 <br/>\n",
    "#### **✔️ 예제 출력 1**\n",
    "3 1 4 2 5"
   ]
  },
  {
   "cell_type": "code",
   "execution_count": 43,
   "metadata": {},
   "outputs": [
    {
     "name": "stdout",
     "output_type": "stream",
     "text": [
      "5 4\n",
      "1 2\n",
      "3 4\n",
      "1 4\n",
      "2 2\n",
      "3 1 4 2 5 "
     ]
    }
   ],
   "source": [
    "N, M = map(int, input().split())\n",
    "basket = []\n",
    "\n",
    "for i in range(1, N+1):\n",
    "    basket.append(i)\n",
    "\n",
    "for x in range(M):\n",
    "    i, j = map(int, input().split())\n",
    "    basket[i-1], basket[j-1] = basket[j-1], basket[i-1]\n",
    "\n",
    "for balls in basket:\n",
    "    print(balls, end=\" \")"
   ]
  }
 ],
 "metadata": {
  "kernelspec": {
   "display_name": "Python 3 (ipykernel)",
   "language": "python",
   "name": "python3"
  },
  "language_info": {
   "codemirror_mode": {
    "name": "ipython",
    "version": 3
   },
   "file_extension": ".py",
   "mimetype": "text/x-python",
   "name": "python",
   "nbconvert_exporter": "python",
   "pygments_lexer": "ipython3",
   "version": "3.11.5"
  }
 },
 "nbformat": 4,
 "nbformat_minor": 4
}
