{
 "cells": [
  {
   "cell_type": "markdown",
   "id": "6809b779",
   "metadata": {},
   "source": [
    "## 프로그래머스\n",
    "### 더 크게 합치기\n",
    "\n",
    "#### 문제 설명\n",
    "연산 ⊕는 두 정수에 대한 연산으로 두 정수를 붙여서 쓴 값을 반환합니다. 예를 들면 다음과 같습니다.\n",
    "\n",
    "12 ⊕ 3 = 123\n",
    "3 ⊕ 12 = 312\n",
    "\n",
    "양의 정수 a와 b가 주어졌을 때, a ⊕ b와 b ⊕ a 중 더 큰 값을 return 하는 solution 함수를 완성해 주세요.\n",
    "\n",
    "단, a ⊕ b와 b ⊕ a가 같다면 a ⊕ b를 return 합니다.\n",
    "\n",
    "#### 제한사항\n",
    "- 1 ≤ a, b < 10,000\n",
    "\n",
    "#### 입출력 예\n",
    "|a|\tb|\tresult|\n",
    "|---|---|---|\n",
    "|9|\t91|\t991|\n",
    "|89|\t8|\t898|\n",
    "\n",
    "#### 입출력 예 설명\n",
    "**입출력 예 #1**\n",
    "- a ⊕ b = 991 이고, b ⊕ a = 919 입니다. 둘 중 더 큰 값은 991 이므로 991을 return 합니다.\n",
    "\n",
    "**입출력 예 #2**\n",
    "- a ⊕ b = 898 이고, b ⊕ a = 889 입니다. 둘 중 더 큰 값은 898 이므로 898을 return 합니다."
   ]
  },
  {
   "cell_type": "code",
   "execution_count": 1,
   "id": "4cda6754",
   "metadata": {},
   "outputs": [],
   "source": [
    "# 풀이 ver.01\n",
    "\n",
    "def solution(a, b):\n",
    "    answer = 0\n",
    "    a = str(a)\n",
    "    b = str(b)\n",
    "    ab_answer = int(a+b)\n",
    "    ba_answer = int(b+a)\n",
    "    if ab_answer < ba_answer:\n",
    "        answer += ba_answer\n",
    "    else:\n",
    "        answer += ab_answer\n",
    "    return answer"
   ]
  },
  {
   "cell_type": "code",
   "execution_count": 2,
   "id": "367428f7",
   "metadata": {},
   "outputs": [],
   "source": [
    "# 풀이 ver.02\n",
    "\n",
    "def solution(a, b):\n",
    "    ab = int(str(a) + str(b))\n",
    "    ba = int(str(b) + str(a))\n",
    "    if ab < ba:\n",
    "        return ba\n",
    "    else:\n",
    "        return ab"
   ]
  },
  {
   "cell_type": "code",
   "execution_count": 3,
   "id": "fd3376a7",
   "metadata": {},
   "outputs": [],
   "source": [
    "# 풀이 ver.03\n",
    "\n",
    "def solution(a, b):\n",
    "    answer = max(int(f'{a}{b}'), int(f'{b}{a}'))\n",
    "    return answer"
   ]
  },
  {
   "cell_type": "code",
   "execution_count": 4,
   "id": "470431e7",
   "metadata": {},
   "outputs": [
    {
     "data": {
      "text/plain": [
       "991"
      ]
     },
     "execution_count": 4,
     "metadata": {},
     "output_type": "execute_result"
    }
   ],
   "source": [
    "# 테스트\n",
    "\n",
    "a = 9\n",
    "b = 91\n",
    "\n",
    "solution(a, b)"
   ]
  }
 ],
 "metadata": {
  "kernelspec": {
   "display_name": "Python 3 (ipykernel)",
   "language": "python",
   "name": "python3"
  },
  "language_info": {
   "codemirror_mode": {
    "name": "ipython",
    "version": 3
   },
   "file_extension": ".py",
   "mimetype": "text/x-python",
   "name": "python",
   "nbconvert_exporter": "python",
   "pygments_lexer": "ipython3",
   "version": "3.11.5"
  }
 },
 "nbformat": 4,
 "nbformat_minor": 5
}
