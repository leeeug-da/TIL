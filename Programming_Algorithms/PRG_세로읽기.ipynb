{
 "cells": [
  {
   "cell_type": "markdown",
   "id": "6809b779",
   "metadata": {},
   "source": [
    "## 프로그래머스\n",
    "### 세로 읽기\n",
    "\n",
    "#### 문제 설명\n",
    "문자열 my_string과 두 정수 m, c가 주어집니다. my_string을 한 줄에 m 글자씩 가로로 적었을 때 왼쪽부터 세로로 c번째 열에 적힌 글자들을 문자열로 return 하는 solution 함수를 작성해 주세요.\n",
    "\n",
    "\n",
    "#### 제한사항\n",
    "- my_string은 영소문자로 이루어져 있습니다.\n",
    "- 1 ≤ m ≤ my_string의 길이 ≤ 1,000\n",
    "- m은 my_string 길이의 약수로만 주어집니다.\n",
    "- 1 ≤ c ≤ m\n",
    "\n",
    "#### 입출력 예\n",
    "|my_string|\tm|\tc|\tresult|\n",
    "|---|---|---|---|\n",
    "|\"ihrhbakrfpndopljhygc\"|\t4|\t2|\t\"happy\"|\n",
    "|\"programmers\"|\t1|\t1|\t\"programmers\"|\n",
    "\n",
    "#### 입출력 예 설명\n",
    "**입출력 예 #1**\n",
    "- 예제 1번의 my_string을 한 줄에 4 글자씩 쓰면 다음의 표와 같습니다.\n",
    "\n",
    "|1열|\t2열|\t3열|\t4열|\n",
    "|---|---|---|---|\n",
    "|i|\th|\tr|\th|\n",
    "|b|\ta|\tk|\tr|\n",
    "|f|\tp|\tn|\td|\n",
    "|o|\tp|\tl|\tj|\n",
    "|h|\ty|\tg|\tc|"
   ]
  },
  {
   "cell_type": "code",
   "execution_count": 32,
   "id": "4cda6754",
   "metadata": {},
   "outputs": [],
   "source": [
    "def solution(my_string, m, c): \n",
    "    answer = [my_string[i:i+m] for i in range(0, len(my_string), m)]\n",
    "    return''.join(row[c-1] for row in answer)"
   ]
  },
  {
   "cell_type": "code",
   "execution_count": 35,
   "id": "470431e7",
   "metadata": {},
   "outputs": [
    {
     "data": {
      "text/plain": [
       "'happy'"
      ]
     },
     "execution_count": 35,
     "metadata": {},
     "output_type": "execute_result"
    }
   ],
   "source": [
    "my_string = \"ihrhbakrfpndopljhygc\"\n",
    "m = 4\n",
    "c = 2\n",
    "\n",
    "solution(my_string, m, c)"
   ]
  },
  {
   "cell_type": "code",
   "execution_count": 34,
   "id": "b2f166de",
   "metadata": {},
   "outputs": [
    {
     "data": {
      "text/plain": [
       "'programmers'"
      ]
     },
     "execution_count": 34,
     "metadata": {},
     "output_type": "execute_result"
    }
   ],
   "source": [
    "my_string = \"programmers\"\n",
    "m = 1\n",
    "c = 1\n",
    "\n",
    "solution(my_string, m, c)"
   ]
  }
 ],
 "metadata": {
  "kernelspec": {
   "display_name": "Python 3 (ipykernel)",
   "language": "python",
   "name": "python3"
  },
  "language_info": {
   "codemirror_mode": {
    "name": "ipython",
    "version": 3
   },
   "file_extension": ".py",
   "mimetype": "text/x-python",
   "name": "python",
   "nbconvert_exporter": "python",
   "pygments_lexer": "ipython3",
   "version": "3.11.5"
  }
 },
 "nbformat": 4,
 "nbformat_minor": 5
}
