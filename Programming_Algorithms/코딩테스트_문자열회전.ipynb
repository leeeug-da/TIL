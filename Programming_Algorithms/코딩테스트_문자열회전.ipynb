{
 "cells": [
  {
   "attachments": {},
   "cell_type": "markdown",
   "metadata": {},
   "source": [
    "# **코딩테스트 문제풀이** \n",
    "## **📌 문자열 회전으로 일치 여부 확인**\n",
    "#### **✔️ 문제**\n",
    "동일한 길이의 `s`와 `t` 2개의 문자열이 주어집니다.\n",
    "문자열 `s`를 변형하여 `t`와 동일해질 수 있는지 확인하려 합니다.\n",
    "\n",
    "`s`를 변형하는 방식은 아래와 같습니다.\n",
    "- `s`를 구성하는 문자를 한칸씩 오른쪽으로 이동합니다.\n",
    "- 마지막 문자는 첫번째 자리로 이동합니다.\n",
    "- 이 변형은 여러번 반복할 수 있습니다.\n",
    "\n",
    "예를 들어 `s = \"abced\"`라면, `s`를 변형해서 얻을 수 있는 문자열은\n",
    "`\"abcde\"`, `\"eabcd\"`, `\"deabc\"`, `\"cdeab\"`, `\"bcdea\"` 로 총 5가지가 가능합니다.\n",
    "\n",
    "주어진 문자열 `s`,`t`에 대해서 `s`를 변형하여 `t`와 동일 문자열을 생성할 수 있는지 출력하시오.\n",
    "\n",
    "#### **✔️ 입력**\n",
    "0 < s.length <= 10000 <br>\n",
    "0 < t.length <= 10000 <br>\n",
    "\n",
    "#### **✔️ 매개변수 형식**\n",
    "s = \"abcdef\" <br>\n",
    "t = \"efabcd\" <br>\n",
    "\n",
    "#### **✔️ 반환값 형식**\n",
    "true"
   ]
  },
  {
   "cell_type": "code",
   "execution_count": 1,
   "metadata": {},
   "outputs": [],
   "source": [
    "def solution(s,t):\n",
    "    \n",
    "    # s,t의 길이가 동일하지 않다면 바로 False 반환\n",
    "    if len(s) != len(t):\n",
    "        return False\n",
    "    \n",
    "    for _ in range(len(s)):\n",
    "        if s == t:\n",
    "            return True\n",
    "        s = s[-1] + s[:-1]\n",
    "    \n",
    "    return False"
   ]
  },
  {
   "cell_type": "code",
   "execution_count": 2,
   "metadata": {},
   "outputs": [
    {
     "name": "stdout",
     "output_type": "stream",
     "text": [
      "abcdef\n",
      "efabcd\n",
      "True\n"
     ]
    }
   ],
   "source": [
    "s = input()\n",
    "t = input()\n",
    "\n",
    "print(solution(s, t))"
   ]
  },
  {
   "cell_type": "code",
   "execution_count": 3,
   "metadata": {},
   "outputs": [
    {
     "name": "stdout",
     "output_type": "stream",
     "text": [
      "abcdef\n",
      "aaaaaa\n",
      "False\n"
     ]
    }
   ],
   "source": [
    "s = input()\n",
    "t = input()\n",
    "\n",
    "print(solution(s, t))"
   ]
  }
 ],
 "metadata": {
  "kernelspec": {
   "display_name": "Python 3 (ipykernel)",
   "language": "python",
   "name": "python3"
  },
  "language_info": {
   "codemirror_mode": {
    "name": "ipython",
    "version": 3
   },
   "file_extension": ".py",
   "mimetype": "text/x-python",
   "name": "python",
   "nbconvert_exporter": "python",
   "pygments_lexer": "ipython3",
   "version": "3.11.5"
  }
 },
 "nbformat": 4,
 "nbformat_minor": 4
}
