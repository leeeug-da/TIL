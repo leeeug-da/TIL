{
 "cells": [
  {
   "cell_type": "markdown",
   "metadata": {},
   "source": [
    "# **BOJ 단계별로 풀어보기** \n",
    "## **📌 3단계 | 8393번 | 합**\n",
    "#### **✔️ 문제**\n",
    "n이 주어졌을 때, 1부터 n까지 합을 구하는 프로그램을 작성하시오.\n",
    "#### **✔️ 입력**\n",
    "첫째 줄에 n (1 ≤ n ≤ 10,000)이 주어진다.\n",
    "#### **✔️ 출력**\n",
    "1부터 n까지 합을 출력한다.\n",
    "#### **✔️ 예제 입력 1**\n",
    "3\n",
    "#### **✔️ 예제 출력 1**\n",
    "6"
   ]
  },
  {
   "cell_type": "code",
   "execution_count": 12,
   "metadata": {},
   "outputs": [
    {
     "name": "stdout",
     "output_type": "stream",
     "text": [
      "3\n",
      "6\n"
     ]
    }
   ],
   "source": [
    "N = int(input())\n",
    "\n",
    "base = 0\n",
    "for i in range(1,N+1):\n",
    "    base = base + i\n",
    "print(base)"
   ]
  }
 ],
 "metadata": {
  "kernelspec": {
   "display_name": "Python 3 (ipykernel)",
   "language": "python",
   "name": "python3"
  },
  "language_info": {
   "codemirror_mode": {
    "name": "ipython",
    "version": 3
   },
   "file_extension": ".py",
   "mimetype": "text/x-python",
   "name": "python",
   "nbconvert_exporter": "python",
   "pygments_lexer": "ipython3",
   "version": "3.11.5"
  }
 },
 "nbformat": 4,
 "nbformat_minor": 4
}
