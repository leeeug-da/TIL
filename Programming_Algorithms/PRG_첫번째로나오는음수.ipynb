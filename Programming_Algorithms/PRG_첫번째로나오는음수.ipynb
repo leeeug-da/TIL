{
 "cells": [
  {
   "cell_type": "markdown",
   "id": "6809b779",
   "metadata": {},
   "source": [
    "## 프로그래머스\n",
    "### 첫 번째로 나오는 음수\n",
    "\n",
    "#### 문제 설명\n",
    "정수 리스트 num_list가 주어질 때, 첫 번째로 나오는 음수의 인덱스를 return하도록 solution 함수를 완성해주세요. 음수가 없다면 -1을 return합니다.\n",
    "\n",
    "#### 제한사항\n",
    "- 5 ≤ num_list의 길이 ≤ 100\n",
    "- 10 ≤ num_list의 원소 ≤ 100\n",
    "\n",
    "#### 입출력 예\n",
    "|num_list|\tresult|\n",
    "|---|---|\n",
    "|[12, 4, 15, 46, 38, -2, 15]|\t5|\n",
    "|[13, 22, 53, 24, 15, 6]|\t-1|\n",
    "\n",
    "#### 입출력 예 설명\n",
    "**입출력 예 #1**\n",
    "- 5번 인덱스에서 음수가 처음 등장하므로 5를 return합니다.\n",
    "\n",
    "**입출력 예 #2**\n",
    "- 음수가 없으므로 -1을 return합니다."
   ]
  },
  {
   "cell_type": "code",
   "execution_count": 18,
   "id": "4cda6754",
   "metadata": {},
   "outputs": [],
   "source": [
    "def solution(num_list):\n",
    "    answer = next((i for i , num in enumerate(num_list) if num < 0), -1)\n",
    "    return answer"
   ]
  },
  {
   "cell_type": "code",
   "execution_count": 20,
   "id": "470431e7",
   "metadata": {},
   "outputs": [
    {
     "data": {
      "text/plain": [
       "5"
      ]
     },
     "execution_count": 20,
     "metadata": {},
     "output_type": "execute_result"
    }
   ],
   "source": [
    "# 테스트\n",
    "\n",
    "num_list = [12, 4, 15, 46, 38, -2, 15]\n",
    "\n",
    "solution(num_list)"
   ]
  },
  {
   "cell_type": "code",
   "execution_count": 21,
   "id": "411aed09",
   "metadata": {},
   "outputs": [
    {
     "data": {
      "text/plain": [
       "-1"
      ]
     },
     "execution_count": 21,
     "metadata": {},
     "output_type": "execute_result"
    }
   ],
   "source": [
    "# 테스트\n",
    "\n",
    "num_list = [13, 22, 53, 24, 15, 6]\n",
    "\n",
    "solution(num_list)"
   ]
  }
 ],
 "metadata": {
  "kernelspec": {
   "display_name": "Python 3 (ipykernel)",
   "language": "python",
   "name": "python3"
  },
  "language_info": {
   "codemirror_mode": {
    "name": "ipython",
    "version": 3
   },
   "file_extension": ".py",
   "mimetype": "text/x-python",
   "name": "python",
   "nbconvert_exporter": "python",
   "pygments_lexer": "ipython3",
   "version": "3.11.5"
  }
 },
 "nbformat": 4,
 "nbformat_minor": 5
}
