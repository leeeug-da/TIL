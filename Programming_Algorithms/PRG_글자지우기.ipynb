{
 "cells": [
  {
   "cell_type": "markdown",
   "id": "6809b779",
   "metadata": {},
   "source": [
    "## 프로그래머스\n",
    "### 글자 지우기\n",
    "\n",
    "#### 문제 설명\n",
    "문자열 my_string과 정수 배열 indices가 주어질 때, my_string에서 indices의 원소에 해당하는 인덱스의 글자를 지우고 이어 붙인 문자열을 return 하는 solution 함수를 작성해 주세요.\n",
    "\n",
    "#### 제한사항\n",
    "- 1 ≤ indices의 길이 < my_string의 길이 ≤ 100\n",
    "- my_string은 영소문자로만 이루어져 있습니다\n",
    "- 0 ≤ indices의 원소 < my_string의 길이\n",
    "- indices의 원소는 모두 서로 다릅니다.\n",
    "\n",
    "#### 입출력 예\n",
    "|my_string|\tindices|\tresult|\n",
    "|---|---|---|\n",
    "|\"apporoograpemmemprs\"|\t[1, 16, 6, 15, 0, 10, 11, 3]|\t\"programmers\"|"
   ]
  },
  {
   "cell_type": "code",
   "execution_count": 15,
   "id": "4cda6754",
   "metadata": {},
   "outputs": [],
   "source": [
    "def solution(my_string, indices):\n",
    "    new_indices = [i for i in range(len(my_string)) if i not in indices]\n",
    "    answer = ''.join(my_string[i] for i in new_indices)\n",
    "    return answer"
   ]
  },
  {
   "cell_type": "code",
   "execution_count": 17,
   "id": "32832afa",
   "metadata": {},
   "outputs": [
    {
     "data": {
      "text/plain": [
       "'programmers'"
      ]
     },
     "execution_count": 17,
     "metadata": {},
     "output_type": "execute_result"
    }
   ],
   "source": [
    "# 테스트\n",
    "\n",
    "my_string = \"apporoograpemmemprs\"\n",
    "indices = [1, 16, 6, 15, 0, 10, 11, 3]\n",
    "\n",
    "solution(my_string, indices)"
   ]
  }
 ],
 "metadata": {
  "kernelspec": {
   "display_name": "Python 3 (ipykernel)",
   "language": "python",
   "name": "python3"
  },
  "language_info": {
   "codemirror_mode": {
    "name": "ipython",
    "version": 3
   },
   "file_extension": ".py",
   "mimetype": "text/x-python",
   "name": "python",
   "nbconvert_exporter": "python",
   "pygments_lexer": "ipython3",
   "version": "3.11.5"
  }
 },
 "nbformat": 4,
 "nbformat_minor": 5
}
