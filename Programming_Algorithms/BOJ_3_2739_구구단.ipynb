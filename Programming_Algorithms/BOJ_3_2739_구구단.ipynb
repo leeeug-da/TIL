{
 "cells": [
  {
   "cell_type": "markdown",
   "metadata": {},
   "source": [
    "# **BOJ 단계별로 풀어보기** \n",
    "## **📌 3단계 | 2739번 | 구구단**\n",
    "#### **✔️ 문제**\n",
    "N을 입력받은 뒤, 구구단 N단을 출력하는 프로그램을 작성하시오. 출력 형식에 맞춰서 출력하면 된다.\n",
    "#### **✔️ 입력**\n",
    "첫째 줄에 N이 주어진다. N은 1보다 크거나 같고, 9보다 작거나 같다.\n",
    "#### **✔️ 출력**\n",
    "출력형식과 같게 N*1부터 N*9까지 출력한다.\n",
    "#### **✔️ 예제 입력 1**\n",
    "2\n",
    "#### **✔️ 예제 출력 1**\n",
    "2 * 1 = 2 <br/>\n",
    "2 * 2 = 4 <br/>\n",
    "2 * 3 = 6 <br/>\n",
    "2 * 4 = 8 <br/>\n",
    "2 * 5 = 10 <br/>\n",
    "2 * 6 = 12 <br/>\n",
    "2 * 7 = 14 <br/>\n",
    "2 * 8 = 16 <br/>\n",
    "2 * 9 = 18 <br/>"
   ]
  },
  {
   "cell_type": "code",
   "execution_count": 1,
   "metadata": {},
   "outputs": [
    {
     "name": "stdout",
     "output_type": "stream",
     "text": [
      "2\n",
      "2 * 1 = 2\n",
      "2 * 2 = 4\n",
      "2 * 3 = 6\n",
      "2 * 4 = 8\n",
      "2 * 5 = 10\n",
      "2 * 6 = 12\n",
      "2 * 7 = 14\n",
      "2 * 8 = 16\n",
      "2 * 9 = 18\n"
     ]
    }
   ],
   "source": [
    "N = int(input())\n",
    "\n",
    "for i in range(1,10):\n",
    "    print(N, '*', i, '=', N*i)"
   ]
  }
 ],
 "metadata": {
  "kernelspec": {
   "display_name": "Python 3 (ipykernel)",
   "language": "python",
   "name": "python3"
  },
  "language_info": {
   "codemirror_mode": {
    "name": "ipython",
    "version": 3
   },
   "file_extension": ".py",
   "mimetype": "text/x-python",
   "name": "python",
   "nbconvert_exporter": "python",
   "pygments_lexer": "ipython3",
   "version": "3.11.5"
  }
 },
 "nbformat": 4,
 "nbformat_minor": 4
}
