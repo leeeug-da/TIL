{
 "cells": [
  {
   "cell_type": "markdown",
   "id": "6809b779",
   "metadata": {},
   "source": [
    "## 프로그래머스\n",
    "### 조건 문자열\n",
    "\n",
    "#### 문제 설명\n",
    "문자열에 따라 다음과 같이 두 수의 크기를 비교하려고 합니다.\n",
    "\n",
    "- 두 수가 n과 m이라면\n",
    "    - \">\", \"=\" : n >= m\n",
    "    - \"<\", \"=\" : n <= m\n",
    "    - \">\", \"!\" : n > m\n",
    "    - \"<\", \"!\" : n < m\n",
    "    \n",
    "두 문자열 ineq와 eq가 주어집니다. ineq는 \"<\"와 \">\"중 하나고, eq는 \"=\"와 \"!\"중 하나입니다. 그리고 두 정수 n과 m이 주어질 때, n과 m이 ineq와 eq의 조건에 맞으면 1을 아니면 0을 return하도록 solution 함수를 완성해주세요.\n",
    "\n",
    "#### 제한사항\n",
    "- 1 ≤ n, m ≤ 100\n",
    "\n",
    "#### 입출력 예\n",
    "|ineq|\teq|\tn|\tm|\tresult|\n",
    "|---|---|---|---|---|\n",
    "|\"<\"|\t\"=\"|\t20|\t50|\t1|\n",
    "|\">\"|\t\"!\"|\t41|\t78|\t0|\n",
    "\n",
    "#### 입출력 예 설명\n",
    "**입출력 예 #1**\n",
    "- 20 <= 50은 참이기 때문에 1을 return합니다.\n",
    "\n",
    "**입출력 예 #2**\n",
    "- 41 > 78은 거짓이기 때문에 0을 return합니다."
   ]
  },
  {
   "cell_type": "code",
   "execution_count": 4,
   "id": "4cda6754",
   "metadata": {},
   "outputs": [],
   "source": [
    "def solution(ineq, eq, n, m):\n",
    "    return int(eval(str(n)+ineq+eq.replace('!','')+str(m)))"
   ]
  },
  {
   "cell_type": "code",
   "execution_count": 5,
   "id": "470431e7",
   "metadata": {},
   "outputs": [
    {
     "data": {
      "text/plain": [
       "1"
      ]
     },
     "execution_count": 5,
     "metadata": {},
     "output_type": "execute_result"
    }
   ],
   "source": [
    "# 테스트\n",
    "\n",
    "ineq = '<'\n",
    "eq = '='\n",
    "n = 20\n",
    "m = 50\n",
    "\n",
    "solution(ineq, eq, n, m)"
   ]
  },
  {
   "cell_type": "code",
   "execution_count": 6,
   "id": "411aed09",
   "metadata": {},
   "outputs": [
    {
     "data": {
      "text/plain": [
       "0"
      ]
     },
     "execution_count": 6,
     "metadata": {},
     "output_type": "execute_result"
    }
   ],
   "source": [
    "# 테스트\n",
    "\n",
    "ineq = '>'\n",
    "eq = '!'\n",
    "n = 47\n",
    "m = 78\n",
    "\n",
    "solution(ineq, eq, n, m)"
   ]
  }
 ],
 "metadata": {
  "kernelspec": {
   "display_name": "Python 3 (ipykernel)",
   "language": "python",
   "name": "python3"
  },
  "language_info": {
   "codemirror_mode": {
    "name": "ipython",
    "version": 3
   },
   "file_extension": ".py",
   "mimetype": "text/x-python",
   "name": "python",
   "nbconvert_exporter": "python",
   "pygments_lexer": "ipython3",
   "version": "3.11.5"
  }
 },
 "nbformat": 4,
 "nbformat_minor": 5
}
