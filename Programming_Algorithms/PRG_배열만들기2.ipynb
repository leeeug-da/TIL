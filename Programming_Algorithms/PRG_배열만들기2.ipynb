{
 "cells": [
  {
   "cell_type": "markdown",
   "id": "6809b779",
   "metadata": {},
   "source": [
    "## 프로그래머스\n",
    "### 배열 만들기 2\n",
    "\n",
    "#### 문제 설명\n",
    "정수 l과 r이 주어졌을 때, l 이상 r이하의 정수 중에서 숫자 \"0\"과 \"5\"로만 이루어진 모든 정수를 오름차순으로 저장한 배열을 return 하는 solution 함수를 완성해 주세요.\n",
    "\n",
    "만약 그러한 정수가 없다면, -1이 담긴 배열을 return 합니다.\n",
    "\n",
    "#### 제한사항\n",
    "- 1 ≤ l ≤ r ≤ 1,000,000\n",
    "\n",
    "#### 입출력 예\n",
    "|l|\tr|\tresult|\n",
    "|---|---|---|\n",
    "|5|\t555|\t[5, 50, 55, 500, 505, 550, 555]|\n",
    "|10|\t20|\t[-1]|\n",
    "\n",
    "#### 입출력 예 설명\n",
    "**입출력 예 #1**\n",
    "- 5 이상 555 이하의 0과 5로만 이루어진 정수는 작은 수부터 5, 50, 55, 500, 505, 550, 555가 있습니다. 따라서 [5, 50, 55, 500, 505, 550, 555]를 return 합니다.\n",
    "\n",
    "\n",
    "**입출력 예 #2**\n",
    "- 10 이상 20 이하이면서 0과 5로만 이루어진 정수는 없습니다. 따라서 [-1]을 return 합니다."
   ]
  },
  {
   "cell_type": "code",
   "execution_count": 9,
   "id": "4cda6754",
   "metadata": {},
   "outputs": [],
   "source": [
    "def solution(l, r):\n",
    "    answer = []\n",
    "    for i in range(l, r+1):\n",
    "        if all(ch in \"05\" for ch in str(i)):\n",
    "            answer.append(i)\n",
    "    # for문을 다 돌린 후에, answer 리스트가 비어있다면 [-1]을 반환\n",
    "    if not answer:  # answer이 비어있다면 \n",
    "        return [-1]\n",
    "    return answer"
   ]
  },
  {
   "cell_type": "code",
   "execution_count": 10,
   "id": "470431e7",
   "metadata": {},
   "outputs": [
    {
     "data": {
      "text/plain": [
       "[5, 50, 55, 500, 505, 550, 555]"
      ]
     },
     "execution_count": 10,
     "metadata": {},
     "output_type": "execute_result"
    }
   ],
   "source": [
    "# 테스트\n",
    "\n",
    "l = 5\n",
    "r = 555\n",
    "\n",
    "solution(l, r)"
   ]
  },
  {
   "cell_type": "code",
   "execution_count": 11,
   "id": "411aed09",
   "metadata": {},
   "outputs": [
    {
     "data": {
      "text/plain": [
       "[-1]"
      ]
     },
     "execution_count": 11,
     "metadata": {},
     "output_type": "execute_result"
    }
   ],
   "source": [
    "# 테스트\n",
    "\n",
    "l = 10\n",
    "r = 20\n",
    "\n",
    "solution(l, r)"
   ]
  }
 ],
 "metadata": {
  "kernelspec": {
   "display_name": "Python 3 (ipykernel)",
   "language": "python",
   "name": "python3"
  },
  "language_info": {
   "codemirror_mode": {
    "name": "ipython",
    "version": 3
   },
   "file_extension": ".py",
   "mimetype": "text/x-python",
   "name": "python",
   "nbconvert_exporter": "python",
   "pygments_lexer": "ipython3",
   "version": "3.11.5"
  }
 },
 "nbformat": 4,
 "nbformat_minor": 5
}
