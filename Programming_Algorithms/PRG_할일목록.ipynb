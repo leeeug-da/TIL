{
 "cells": [
  {
   "cell_type": "markdown",
   "id": "6809b779",
   "metadata": {},
   "source": [
    "## 프로그래머스\n",
    "### 할 일 목록\n",
    "\n",
    "#### 문제 설명\n",
    "오늘 해야 할 일이 담긴 문자열 배열 todo_list와 각각의 일을 지금 마쳤는지를 나타내는 boolean 배열 finished가 매개변수로 주어질 때, todo_list에서 아직 마치지 못한 일들을 순서대로 담은 문자열 배열을 return 하는 solution 함수를 작성해 주세요.\n",
    "\n",
    "#### 제한사항\n",
    "- 1 ≤ todo_list의 길이 1 ≤ 100\n",
    "- 2 ≤ todo_list의 원소의 길이 ≤ 20\n",
    "    - todo_list의 원소는 영소문자로만 이루어져 있습니다.\n",
    "    - todo_list의 원소는 모두 서로 다릅니다.\n",
    "- finished[i]는 true 또는 false이고 true는 todo_list[i]를 마쳤음을, false는 아직 마치지 못했음을 나타냅니다.\n",
    "- 아직 마치지 못한 일이 적어도 하나 있습니다.\n",
    "\n",
    "#### 입출력 예\n",
    "|todo_list|\tfinished|\tresult|\n",
    "|---|---|---|\n",
    "|[\"problemsolving\", \"practiceguitar\", \"swim\", \"studygraph\"]|\t[true, false, true, false]|\t[\"practiceguitar\", \"studygraph\"]|\n",
    "\n",
    "#### 입출력 예 설명\n",
    "**입출력 예 #1**\n",
    "- 예제 1번의 todo_list 중에서 \"problemsolving\"과 \"swim\"은 마쳤고, \"practiceguitar\"와 \"studygraph\"는 아직 마치지 못했으므로 todo_list에서 나온 순서대로 담은 문자열 배열 [\"practiceguitar\", \"studygraph\"]를 return 합니다."
   ]
  },
  {
   "cell_type": "code",
   "execution_count": 15,
   "id": "b1fc066a",
   "metadata": {},
   "outputs": [],
   "source": [
    "def solution(todo_list, finished):\n",
    "    return [todo_list[task] for task in range(len(finished)) if not finished[task]]"
   ]
  },
  {
   "cell_type": "code",
   "execution_count": 16,
   "id": "4cda6754",
   "metadata": {},
   "outputs": [
    {
     "data": {
      "text/plain": [
       "['practiceguitar', 'studygraph']"
      ]
     },
     "execution_count": 16,
     "metadata": {},
     "output_type": "execute_result"
    }
   ],
   "source": [
    "# 테스트\n",
    "\n",
    "todo_list = [\"problemsolving\", \"practiceguitar\", \"swim\", \"studygraph\"]\n",
    "finished = [True, False, True, False]\n",
    "\n",
    "solution(todo_list, finished)"
   ]
  }
 ],
 "metadata": {
  "kernelspec": {
   "display_name": "Python 3 (ipykernel)",
   "language": "python",
   "name": "python3"
  },
  "language_info": {
   "codemirror_mode": {
    "name": "ipython",
    "version": 3
   },
   "file_extension": ".py",
   "mimetype": "text/x-python",
   "name": "python",
   "nbconvert_exporter": "python",
   "pygments_lexer": "ipython3",
   "version": "3.11.5"
  }
 },
 "nbformat": 4,
 "nbformat_minor": 5
}
