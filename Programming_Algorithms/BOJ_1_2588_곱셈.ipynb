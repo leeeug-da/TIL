{
 "cells": [
  {
   "attachments": {
    "f9eec133-d374-4a4e-89c9-41f7e86e23cc.png": {
     "image/png": "[encoded data removed]"
    }
   },
   "cell_type": "markdown",
   "metadata": {},
   "source": [
    "# **BOJ 단계별로 풀어보기** \n",
    "## **📌 1단계 | 2588번 | 곱셈**\n",
    "#### **✔️ 문제**\n",
    "(세 자리 수) × (세 자리 수)는 다음과 같은 과정을 통하여 이루어진다. <br/>\n",
    "![image.png](attachment:f9eec133-d374-4a4e-89c9-41f7e86e23cc.png) <br/>\n",
    "(1)과 (2)위치에 들어갈 세 자리 자연수가 주어질 때 (3), (4), (5), (6)위치에 들어갈 값을 구하는 프로그램을 작성하시오.\n",
    "#### **✔️ 입력**\n",
    "첫째 줄에 (1)의 위치에 들어갈 세 자리 자연수가, 둘째 줄에 (2)의 위치에 들어갈 세자리 자연수가 주어진다.\n",
    "#### **✔️ 출력**\n",
    "첫째 줄부터 넷째 줄까지 차례대로 (3), (4), (5), (6)에 들어갈 값을 출력한다.\n",
    "#### **✔️ 예제 입력 1**\n",
    "472 <br/>\n",
    "385\n",
    "#### **✔️ 예제 출력 1**\n",
    "2360 <br/>\n",
    "3776 <br/>\n",
    "1416 <br/>\n",
    "181720 <br/>"
   ]
  },
  {
   "cell_type": "code",
   "execution_count": 8,
   "metadata": {},
   "outputs": [
    {
     "name": "stdin",
     "output_type": "stream",
     "text": [
      " 472\n",
      " 385\n"
     ]
    },
    {
     "name": "stdout",
     "output_type": "stream",
     "text": [
      "2360\n",
      "3776\n",
      "1416\n",
      "181720\n"
     ]
    }
   ],
   "source": [
    "# 1st trial\n",
    "a = int(input())\n",
    "b = list(input())\n",
    "c = a*int(b[2])\n",
    "d = a*int(b[1])\n",
    "e = a*int(b[0])\n",
    "f = c+(d*10)+(e*100)\n",
    "print(\"%d\\n%d\\n%d\\n%d\" % (c, d, e, f))"
   ]
  },
  {
   "cell_type": "markdown",
   "metadata": {},
   "source": [
    "## **✍️ Study Note**"
   ]
  },
  {
   "cell_type": "markdown",
   "metadata": {},
   "source": [
    "#### **✔️ 문제의 패턴 찾기** \n",
    "(6)의 결괏값을 구하려고 패턴을 찾는 것에 너무 집중해서 간단한 방식이 있다는 것을 놓쳤다. <br/>\n",
    "끝자리수에 10, 100을 곱해서 더해가는 방식이 아닌, 그냥 (1)X(2)에 결괏값이 (6) 이었다. 🥲 <br/>\n",
    "simple is the best..!! 간단하게 코딩 하려 노력하기"
   ]
  },
  {
   "cell_type": "markdown",
   "metadata": {},
   "source": [
    "#### **✔️ STR is also ITERABLE**\n",
    "(3), (4), (5) 에서 \b(2)의 index를 사용하려고 굳이 Input 에 list로 변환을 하였는데, string도 역시 iterable 하다는 것!!"
   ]
  },
  {
   "cell_type": "markdown",
   "metadata": {},
   "source": [
    "#### **✔️ `sep=''`**\n",
    "이전까지는 formatting(%d) 방식으로 줄바꿈을 구분하였는데, sep='' 을 사용해서 한번에 적용시킬 수 있다!"
   ]
  },
  {
   "cell_type": "code",
   "execution_count": 11,
   "metadata": {},
   "outputs": [
    {
     "name": "stdin",
     "output_type": "stream",
     "text": [
      " 472\n",
      " 385\n"
     ]
    },
    {
     "name": "stdout",
     "output_type": "stream",
     "text": [
      "2360\n",
      "3776\n",
      "1416\n",
      "181720\n"
     ]
    }
   ],
   "source": [
    "# final trial\n",
    "a = int(input())\n",
    "b = input()\n",
    "c = a*int(b[2])\n",
    "d = a*int(b[1])\n",
    "e = a*int(b[0])\n",
    "f = a*int(b)\n",
    "print(c, d, e, f, sep='\\n')"
   ]
  }
 ],
 "metadata": {
  "kernelspec": {
   "display_name": "Python 3 (ipykernel)",
   "language": "python",
   "name": "python3"
  },
  "language_info": {
   "codemirror_mode": {
    "name": "ipython",
    "version": 3
   },
   "file_extension": ".py",
   "mimetype": "text/x-python",
   "name": "python",
   "nbconvert_exporter": "python",
   "pygments_lexer": "ipython3",
   "version": "3.10.10"
  }
 },
 "nbformat": 4,
 "nbformat_minor": 4
}
