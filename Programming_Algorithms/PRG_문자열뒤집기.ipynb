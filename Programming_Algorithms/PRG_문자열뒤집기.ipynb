{
 "cells": [
  {
   "cell_type": "markdown",
   "id": "6809b779",
   "metadata": {},
   "source": [
    "## 프로그래머스\n",
    "### 문자열 뒤집기\n",
    "\n",
    "#### 문제 설명\n",
    "문자열 my_string과 정수 s, e가 매개변수로 주어질 때, my_string에서 인덱스 s부터 인덱스 e까지를 뒤집은 문자열을 return 하는 solution 함수를 작성해 주세요.\n",
    "\n",
    "#### 제한사항\n",
    "- my_string은 숫자와 알파벳으로만 이루어져 있습니다.\n",
    "- 1 ≤ my_string의 길이 ≤ 1,000\n",
    "- 0 ≤ s ≤ e < my_string의 길이\n",
    "\n",
    "\n",
    "#### 입출력 예\n",
    "|my_string|\ts|\te|\tresult|\n",
    "|---|---|---|---|\n",
    "|\"Progra21Sremm3\"|\t6|\t12|\t\"ProgrammerS123\"|\n",
    "|\"Stanley1yelnatS\"|\t4|\t10|\t\"Stanley1yelnatS\"|\n",
    "\n",
    "#### 입출력 예 설명\n",
    "**입출력 예 #1**\n",
    "- 예제 1번의 my_string에서 인덱스 6부터 인덱스 12까지를 뒤집은 문자열은 \"ProgrammerS123\"이므로 \"ProgrammerS123\"를 return 합니다.\n",
    "\n",
    "**입출력 예 #2**\n",
    "- 예제 2번의 my_string에서 인덱스 4부터 인덱스 10까지를 뒤집으면 원래 문자열과 같은 \"Stanley1yelnatS\"이므로 \"Stanley1yelnatS\"를 return 합니다."
   ]
  },
  {
   "cell_type": "code",
   "execution_count": 11,
   "id": "4cda6754",
   "metadata": {},
   "outputs": [],
   "source": [
    "def solution(my_string, s, e):\n",
    "    answer = my_string[:s] + my_string[s:e+1][::-1] + my_string[e+1:]\n",
    "    return answer"
   ]
  },
  {
   "cell_type": "code",
   "execution_count": 12,
   "id": "470431e7",
   "metadata": {},
   "outputs": [
    {
     "data": {
      "text/plain": [
       "'ProgrammerS123'"
      ]
     },
     "execution_count": 12,
     "metadata": {},
     "output_type": "execute_result"
    }
   ],
   "source": [
    "# 테스트\n",
    "\n",
    "my_string = \"Progra21Sremm3\"\n",
    "s = 6\n",
    "e = 12\n",
    "\n",
    "solution(my_string, s, e)"
   ]
  },
  {
   "cell_type": "code",
   "execution_count": 13,
   "id": "411aed09",
   "metadata": {},
   "outputs": [
    {
     "data": {
      "text/plain": [
       "'Stanley1yelnatS'"
      ]
     },
     "execution_count": 13,
     "metadata": {},
     "output_type": "execute_result"
    }
   ],
   "source": [
    "# 테스트\n",
    "\n",
    "my_string = \"Stanley1yelnatS\"\n",
    "s = 4\n",
    "e = 10\n",
    "\n",
    "solution(my_string, s, e)"
   ]
  }
 ],
 "metadata": {
  "kernelspec": {
   "display_name": "Python 3 (ipykernel)",
   "language": "python",
   "name": "python3"
  },
  "language_info": {
   "codemirror_mode": {
    "name": "ipython",
    "version": 3
   },
   "file_extension": ".py",
   "mimetype": "text/x-python",
   "name": "python",
   "nbconvert_exporter": "python",
   "pygments_lexer": "ipython3",
   "version": "3.11.5"
  }
 },
 "nbformat": 4,
 "nbformat_minor": 5
}
