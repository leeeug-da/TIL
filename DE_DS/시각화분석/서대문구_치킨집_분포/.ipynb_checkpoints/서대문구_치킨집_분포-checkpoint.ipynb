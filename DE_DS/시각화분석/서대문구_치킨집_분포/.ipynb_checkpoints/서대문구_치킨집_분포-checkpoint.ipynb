{
 "cells": [
  {
   "cell_type": "markdown",
   "id": "a522b513-96e4-4aa0-b797-6e6314ea1ff1",
   "metadata": {},
   "source": [
    "# 서울시 자치구 서대문구에서 치킨집이 가장 많은 동은 어디인가?\n",
    "\n",
    "## 자료 출처\n",
    "- 데이터 다운로드 : LOCALDATA 공공데이터\n",
    "- https://www.localdata.kr/"
   ]
  },
  {
   "cell_type": "markdown",
   "id": "e72b3050-eb09-42a0-b61d-b2be6596317c",
   "metadata": {},
   "source": [
    "## 패키지 설정"
   ]
  },
  {
   "cell_type": "code",
   "execution_count": 2,
   "id": "bc342b88-a2b7-4a84-890b-611fd860bf62",
   "metadata": {},
   "outputs": [],
   "source": [
    "# 기본 패키지\n",
    "\n",
    "import pandas as pd\n",
    "import numpy as np\n",
    "import matplotlib.pyplot as plt\n",
    "%matplotlib inline"
   ]
  },
  {
   "cell_type": "code",
   "execution_count": 3,
   "id": "fdc6d302-1528-4a65-bb7f-96c5645d12a8",
   "metadata": {},
   "outputs": [],
   "source": [
    "# matplotlib 한글 세팅\n",
    "\n",
    "import platform\n",
    "from matplotlib import font_manager, rc\n",
    "plt.rcParams['axes.unicode_minus'] = False\n",
    "if platform.system() == 'Darwin':  # 맥OS \n",
    "    rc('font', family='AppleGothic')\n",
    "elif platform.system() == 'Windows':  # 윈도우\n",
    "    path = \"c:/Windows/Fonts/malgun.ttf\"\n",
    "    font_name = font_manager.FontProperties(fname=path).get_name()\n",
    "    rc('font', family=font_name)\n",
    "else:\n",
    "    print('Unknown system...  sorry~~~')"
   ]
  },
  {
   "cell_type": "markdown",
   "id": "91bf2870-4494-43a5-bc85-425cb9002c32",
   "metadata": {},
   "source": [
    "## 데이터 가져오기"
   ]
  },
  {
   "cell_type": "code",
   "execution_count": 4,
   "id": "efba0d94-d996-4426-9fd9-ccb197737b18",
   "metadata": {},
   "outputs": [],
   "source": [
    "data = pd.read_csv('./서울특별시_일반음식점.csv',\n",
    "                  encoding='cp949',\n",
    "                  low_memory=False)"
   ]
  },
  {
   "cell_type": "markdown",
   "id": "ee93171f-3014-4c21-8d29-5347d7f09e31",
   "metadata": {},
   "source": [
    "## 데이터 확인"
   ]
  },
  {
   "cell_type": "code",
   "execution_count": 5,
   "id": "03083f23-0a66-45a8-a11e-3c4178d46c75",
   "metadata": {},
   "outputs": [
    {
     "data": {
      "text/html": [
       "<div>\n",
       "<style scoped>\n",
       "    .dataframe tbody tr th:only-of-type {\n",
       "        vertical-align: middle;\n",
       "    }\n",
       "\n",
       "    .dataframe tbody tr th {\n",
       "        vertical-align: top;\n",
       "    }\n",
       "\n",
       "    .dataframe thead th {\n",
       "        text-align: right;\n",
       "    }\n",
       "</style>\n",
       "<table border=\"1\" class=\"dataframe\">\n",
       "  <thead>\n",
       "    <tr style=\"text-align: right;\">\n",
       "      <th></th>\n",
       "      <th>번호</th>\n",
       "      <th>개방서비스명</th>\n",
       "      <th>개방서비스아이디</th>\n",
       "      <th>개방자치단체코드</th>\n",
       "      <th>관리번호</th>\n",
       "      <th>인허가일자</th>\n",
       "      <th>인허가취소일자</th>\n",
       "      <th>영업상태구분코드</th>\n",
       "      <th>영업상태명</th>\n",
       "      <th>상세영업상태코드</th>\n",
       "      <th>...</th>\n",
       "      <th>공장생산직종업원수</th>\n",
       "      <th>건물소유구분명</th>\n",
       "      <th>보증액</th>\n",
       "      <th>월세액</th>\n",
       "      <th>다중이용업소여부</th>\n",
       "      <th>시설총규모</th>\n",
       "      <th>전통업소지정번호</th>\n",
       "      <th>전통업소주된음식</th>\n",
       "      <th>홈페이지</th>\n",
       "      <th>Unnamed: 47</th>\n",
       "    </tr>\n",
       "  </thead>\n",
       "  <tbody>\n",
       "    <tr>\n",
       "      <th>0</th>\n",
       "      <td>1</td>\n",
       "      <td>일반음식점</td>\n",
       "      <td>07_24_04_P</td>\n",
       "      <td>3150000</td>\n",
       "      <td>3150000-101-2020-00448</td>\n",
       "      <td>20200803</td>\n",
       "      <td>NaN</td>\n",
       "      <td>1</td>\n",
       "      <td>영업/정상</td>\n",
       "      <td>1</td>\n",
       "      <td>...</td>\n",
       "      <td>NaN</td>\n",
       "      <td>NaN</td>\n",
       "      <td>NaN</td>\n",
       "      <td>NaN</td>\n",
       "      <td>N</td>\n",
       "      <td>35.19</td>\n",
       "      <td>NaN</td>\n",
       "      <td>NaN</td>\n",
       "      <td>NaN</td>\n",
       "      <td>NaN</td>\n",
       "    </tr>\n",
       "    <tr>\n",
       "      <th>1</th>\n",
       "      <td>2</td>\n",
       "      <td>일반음식점</td>\n",
       "      <td>07_24_04_P</td>\n",
       "      <td>3150000</td>\n",
       "      <td>3150000-101-2020-00449</td>\n",
       "      <td>20200803</td>\n",
       "      <td>NaN</td>\n",
       "      <td>1</td>\n",
       "      <td>영업/정상</td>\n",
       "      <td>1</td>\n",
       "      <td>...</td>\n",
       "      <td>NaN</td>\n",
       "      <td>NaN</td>\n",
       "      <td>NaN</td>\n",
       "      <td>NaN</td>\n",
       "      <td>N</td>\n",
       "      <td>50.37</td>\n",
       "      <td>NaN</td>\n",
       "      <td>NaN</td>\n",
       "      <td>NaN</td>\n",
       "      <td>NaN</td>\n",
       "    </tr>\n",
       "  </tbody>\n",
       "</table>\n",
       "<p>2 rows × 48 columns</p>\n",
       "</div>"
      ],
      "text/plain": [
       "   번호 개방서비스명    개방서비스아이디  개방자치단체코드                    관리번호     인허가일자  인허가취소일자  \\\n",
       "0   1  일반음식점  07_24_04_P   3150000  3150000-101-2020-00448  20200803      NaN   \n",
       "1   2  일반음식점  07_24_04_P   3150000  3150000-101-2020-00449  20200803      NaN   \n",
       "\n",
       "   영업상태구분코드  영업상태명  상세영업상태코드  ... 공장생산직종업원수  건물소유구분명  보증액  월세액  다중이용업소여부  \\\n",
       "0         1  영업/정상         1  ...       NaN      NaN  NaN  NaN         N   \n",
       "1         1  영업/정상         1  ...       NaN      NaN  NaN  NaN         N   \n",
       "\n",
       "   시설총규모 전통업소지정번호  전통업소주된음식 홈페이지 Unnamed: 47  \n",
       "0  35.19      NaN       NaN  NaN         NaN  \n",
       "1  50.37      NaN       NaN  NaN         NaN  \n",
       "\n",
       "[2 rows x 48 columns]"
      ]
     },
     "execution_count": 5,
     "metadata": {},
     "output_type": "execute_result"
    }
   ],
   "source": [
    "data.head(2)"
   ]
  },
  {
   "cell_type": "code",
   "execution_count": 6,
   "id": "be6f9f24-2add-43c6-908e-bbc4ac050d90",
   "metadata": {
    "scrolled": true
   },
   "outputs": [
    {
     "name": "stdout",
     "output_type": "stream",
     "text": [
      "<class 'pandas.core.frame.DataFrame'>\n",
      "RangeIndex: 472915 entries, 0 to 472914\n",
      "Data columns (total 48 columns):\n",
      " #   Column       Non-Null Count   Dtype  \n",
      "---  ------       --------------   -----  \n",
      " 0   번호           472915 non-null  int64  \n",
      " 1   개방서비스명       472915 non-null  object \n",
      " 2   개방서비스아이디     472915 non-null  object \n",
      " 3   개방자치단체코드     472915 non-null  int64  \n",
      " 4   관리번호         472915 non-null  object \n",
      " 5   인허가일자        472915 non-null  int64  \n",
      " 6   인허가취소일자      0 non-null       float64\n",
      " 7   영업상태구분코드     472915 non-null  int64  \n",
      " 8   영업상태명        472915 non-null  object \n",
      " 9   상세영업상태코드     472915 non-null  int64  \n",
      " 10  상세영업상태명      472915 non-null  object \n",
      " 11  폐업일자         348707 non-null  float64\n",
      " 12  휴업시작일자       0 non-null       float64\n",
      " 13  휴업종료일자       0 non-null       float64\n",
      " 14  재개업일자        0 non-null       float64\n",
      " 15  소재지전화        327325 non-null  object \n",
      " 16  소재지면적        439015 non-null  object \n",
      " 17  소재지우편번호      472670 non-null  float64\n",
      " 18  소재지전체주소      472678 non-null  object \n",
      " 19  도로명전체주소      223302 non-null  object \n",
      " 20  도로명우편번호      219658 non-null  float64\n",
      " 21  사업장명         472914 non-null  object \n",
      " 22  최종수정시점       472915 non-null  object \n",
      " 23  데이터갱신구분      472915 non-null  object \n",
      " 24  데이터갱신일자      472915 non-null  object \n",
      " 25  업태구분명        472894 non-null  object \n",
      " 26  좌표정보(x)      448086 non-null  float64\n",
      " 27  좌표정보(y)      448086 non-null  object \n",
      " 28  위생업태명        472887 non-null  object \n",
      " 29  남성종사자수       303104 non-null  float64\n",
      " 30  여성종사자수       305258 non-null  float64\n",
      " 31  영업장주변구분명     251574 non-null  object \n",
      " 32  등급구분명        241826 non-null  object \n",
      " 33  급수시설구분명      310208 non-null  object \n",
      " 34  총종업원수        45438 non-null   float64\n",
      " 35  본사종업원수       45531 non-null   float64\n",
      " 36  공장사무직종업원수    45530 non-null   float64\n",
      " 37  공장판매직종업원수    45530 non-null   float64\n",
      " 38  공장생산직종업원수    45530 non-null   float64\n",
      " 39  건물소유구분명      1 non-null       object \n",
      " 40  보증액          45531 non-null   float64\n",
      " 41  월세액          45532 non-null   object \n",
      " 42  다중이용업소여부     472908 non-null  object \n",
      " 43  시설총규모        472908 non-null  float64\n",
      " 44  전통업소지정번호     1729 non-null    object \n",
      " 45  전통업소주된음식     912 non-null     object \n",
      " 46  홈페이지         0 non-null       float64\n",
      " 47  Unnamed: 47  0 non-null       float64\n",
      "dtypes: float64(19), int64(5), object(24)\n",
      "memory usage: 173.2+ MB\n"
     ]
    }
   ],
   "source": [
    "data.info()"
   ]
  },
  {
   "cell_type": "markdown",
   "id": "1b311534-6717-4999-94fb-450830c93fcf",
   "metadata": {},
   "source": [
    "## 목표 정의"
   ]
  },
  {
   "cell_type": "markdown",
   "id": "133fe675-ce21-43e3-83c3-a8f18a167699",
   "metadata": {},
   "source": [
    "- 문제 : 서울시 자치구 서대문구에서 치킨집이 가장 많은 동은 어디인가?\n",
    "- 분석 항목 확인 :\n",
    "  1. 음식점 이면서, 치킨과 관련된 항목을 취급해야 함\n",
    "  2. 현재 영업중 이어야 함  \n",
    "  3. 서대문구에 위치해야 함"
   ]
  },
  {
   "cell_type": "markdown",
   "id": "3d72f9bc-3e6f-4558-afff-b89a13519b80",
   "metadata": {},
   "source": [
    "## 데이터 정리"
   ]
  },
  {
   "cell_type": "markdown",
   "id": "1da0733a-c9c8-47fc-8905-3dd3ffa65187",
   "metadata": {},
   "source": [
    "### 1. 음식점이면서, 치킨과 관련된 항목을 취급해야 함"
   ]
  },
  {
   "cell_type": "markdown",
   "id": "58d058c2-83f1-476f-9e2e-a6baa6048449",
   "metadata": {},
   "source": [
    "#### Actions\n",
    "* Column을 보았을 때, 1)업태구분명 2)위생업태명 으로 판단 가능해 보임\n",
    "* 1)업태구분명 2)위생업태명의 values 확인\n",
    "* 동일한 데이터로 판단하여, 위생업태명 데이터로 판단\n",
    "* 위생업태명에서 '음식점이면서, 치킨과 관련된' 항목은 :\n",
    "    - 통닭(치킨)\n",
    "    - 호프/통닭\n",
    "* 유효성 검사 : 조건 인덱싱 (Boolean Indexing) 을 사용하여 위생업태명 중 '통닭', '치킨' 이 포함된 업태명 반환\n",
    "\n",
    "#### Result\n",
    "* 위생업태명에서 {'통닭(치킨)', '호프/통닭'} 두 keywords 통하여 치킨집 데이터 추출"
   ]
  },
  {
   "cell_type": "code",
   "execution_count": 7,
   "id": "d09de914-4e4b-42e2-92c6-cf41b32baa97",
   "metadata": {
    "scrolled": true
   },
   "outputs": [
    {
     "data": {
      "text/plain": [
       "{'193959.150482967',\n",
       " nan,\n",
       " '간이주점',\n",
       " '감성주점',\n",
       " '경양식',\n",
       " '기타',\n",
       " '기타 휴게음식점',\n",
       " '김밥(도시락)',\n",
       " '까페',\n",
       " '냉면집',\n",
       " '다방',\n",
       " '라이브카페',\n",
       " '룸살롱',\n",
       " '복어취급',\n",
       " '분식',\n",
       " '뷔페식',\n",
       " '식육(숯불구이)',\n",
       " '식품등 수입판매업',\n",
       " '식품소분업',\n",
       " '외국음식전문점(인도,태국등)',\n",
       " '이동조리',\n",
       " '일반조리판매',\n",
       " '일식',\n",
       " '전통찻집',\n",
       " '정종/대포집/소주방',\n",
       " '제과점영업',\n",
       " '중국식',\n",
       " '출장조리',\n",
       " '커피숍',\n",
       " '키즈카페',\n",
       " '탕류(보신용)',\n",
       " '통닭(치킨)',\n",
       " '패밀리레스트랑',\n",
       " '패스트푸드',\n",
       " '한식',\n",
       " '호프/통닭',\n",
       " '횟집'}"
      ]
     },
     "execution_count": 7,
     "metadata": {},
     "output_type": "execute_result"
    }
   ],
   "source": [
    "# 1) 업태구분명 데이터 확인\n",
    "set(data.업태구분명.values)"
   ]
  },
  {
   "cell_type": "code",
   "execution_count": 8,
   "id": "4190734b-d110-40de-a25f-3fd6964b53a8",
   "metadata": {
    "scrolled": true
   },
   "outputs": [
    {
     "data": {
      "text/plain": [
       "{nan,\n",
       " '간이주점',\n",
       " '감성주점',\n",
       " '경양식',\n",
       " '기타',\n",
       " '기타 휴게음식점',\n",
       " '김밥(도시락)',\n",
       " '까페',\n",
       " '냉면집',\n",
       " '다방',\n",
       " '라이브카페',\n",
       " '룸살롱',\n",
       " '복어취급',\n",
       " '분식',\n",
       " '뷔페식',\n",
       " '식육(숯불구이)',\n",
       " '식품등 수입판매업',\n",
       " '식품소분업',\n",
       " '외국음식전문점(인도,태국등)',\n",
       " '이동조리',\n",
       " '일반조리판매',\n",
       " '일식',\n",
       " '전통찻집',\n",
       " '정종/대포집/소주방',\n",
       " '제과점영업',\n",
       " '중국식',\n",
       " '출장조리',\n",
       " '커피숍',\n",
       " '키즈카페',\n",
       " '탕류(보신용)',\n",
       " '통닭(치킨)',\n",
       " '패밀리레스트랑',\n",
       " '패스트푸드',\n",
       " '한식',\n",
       " '호프/통닭',\n",
       " '횟집'}"
      ]
     },
     "execution_count": 8,
     "metadata": {},
     "output_type": "execute_result"
    }
   ],
   "source": [
    "# 2) 위생업태명 데이터 확인\n",
    "set(data.위생업태명.values)"
   ]
  },
  {
   "cell_type": "code",
   "execution_count": 9,
   "id": "c847464e-1183-4430-af2a-4a95d86e9005",
   "metadata": {},
   "outputs": [
    {
     "data": {
      "text/plain": [
       "{'통닭(치킨)', '호프/통닭'}"
      ]
     },
     "execution_count": 9,
     "metadata": {},
     "output_type": "execute_result"
    }
   ],
   "source": [
    "# 조건 인덱싱 (Boolean Indexing) 을 사용하여 위생업태명 중 '통닭', '치킨' 이 포함된 업태명 반환\n",
    "set(data.위생업태명[data.위생업태명.str.contains('통닭|치킨', na=False)])"
   ]
  },
  {
   "cell_type": "markdown",
   "id": "4cc48c20-7515-4817-a0ef-7686cabc7e30",
   "metadata": {},
   "source": [
    "### 2. 현재 영업중이어야 함 "
   ]
  },
  {
   "cell_type": "markdown",
   "id": "a051a483-1f36-45f7-b6d1-f62ad327b81b",
   "metadata": {},
   "source": [
    "#### Actions\n",
    "* Column을 보았을 때, '영업상태명' 으로 판단 가능해 보임\n",
    "* '영업상태명'의 values 확인\n",
    "\n",
    "#### Result\n",
    "* 영업상태명이 '영업/정상' 키워드로 되어있는 데이터 추출"
   ]
  },
  {
   "cell_type": "code",
   "execution_count": 10,
   "id": "eea3f3de-0a43-42ce-84ab-a658b6adc61d",
   "metadata": {},
   "outputs": [
    {
     "data": {
      "text/plain": [
       "{'영업/정상', '폐업'}"
      ]
     },
     "execution_count": 10,
     "metadata": {},
     "output_type": "execute_result"
    }
   ],
   "source": [
    "set(data.영업상태명.values)"
   ]
  },
  {
   "cell_type": "markdown",
   "id": "666366c0-59bc-4ffa-aa99-7b0dd4a4d667",
   "metadata": {},
   "source": [
    "### 3. '치킨' & '영업중'인 데이터 추출"
   ]
  },
  {
   "cell_type": "markdown",
   "id": "d4cb12c0-29bc-4135-b18f-02f78e23011b",
   "metadata": {},
   "source": [
    "#### Actions\n",
    "* 아래 두 조건 만족하여 data_fin 에 저장\n",
    "  - 위생업태명에서 {'통닭(치킨)', '호프/통닭'} 두 키워드 통하여 치킨집 데이터 추출\n",
    "  - 영업상태명이 '영업/정상' 키워드로 되어있는 영업중 데이터 추출\n",
    " \n",
    "#### Results\n",
    "- data_fin = '치킨' & '영업중' 추출한 데이터\n",
    "- 총 13,110 개의 음식점이 해당됨"
   ]
  },
  {
   "cell_type": "code",
   "execution_count": 5,
   "id": "6b021426-ff03-49e7-b1af-03f942881852",
   "metadata": {
    "scrolled": true
   },
   "outputs": [
    {
     "name": "stdout",
     "output_type": "stream",
     "text": [
      "<class 'pandas.core.frame.DataFrame'>\n",
      "Index: 13110 entries, 30 to 124203\n",
      "Data columns (total 48 columns):\n",
      " #   Column       Non-Null Count  Dtype  \n",
      "---  ------       --------------  -----  \n",
      " 0   번호           13110 non-null  int64  \n",
      " 1   개방서비스명       13110 non-null  object \n",
      " 2   개방서비스아이디     13110 non-null  object \n",
      " 3   개방자치단체코드     13110 non-null  int64  \n",
      " 4   관리번호         13110 non-null  object \n",
      " 5   인허가일자        13110 non-null  int64  \n",
      " 6   인허가취소일자      0 non-null      float64\n",
      " 7   영업상태구분코드     13110 non-null  int64  \n",
      " 8   영업상태명        13110 non-null  object \n",
      " 9   상세영업상태코드     13110 non-null  int64  \n",
      " 10  상세영업상태명      13110 non-null  object \n",
      " 11  폐업일자         0 non-null      float64\n",
      " 12  휴업시작일자       0 non-null      float64\n",
      " 13  휴업종료일자       0 non-null      float64\n",
      " 14  재개업일자        0 non-null      float64\n",
      " 15  소재지전화        6536 non-null   object \n",
      " 16  소재지면적        12677 non-null  object \n",
      " 17  소재지우편번호      13103 non-null  float64\n",
      " 18  소재지전체주소      13103 non-null  object \n",
      " 19  도로명전체주소      12970 non-null  object \n",
      " 20  도로명우편번호      12884 non-null  float64\n",
      " 21  사업장명         13110 non-null  object \n",
      " 22  최종수정시점       13110 non-null  object \n",
      " 23  데이터갱신구분      13110 non-null  object \n",
      " 24  데이터갱신일자      13110 non-null  object \n",
      " 25  업태구분명        13110 non-null  object \n",
      " 26  좌표정보(x)      13020 non-null  float64\n",
      " 27  좌표정보(y)      13020 non-null  object \n",
      " 28  위생업태명        13110 non-null  object \n",
      " 29  남성종사자수       5733 non-null   float64\n",
      " 30  여성종사자수       5750 non-null   float64\n",
      " 31  영업장주변구분명     3363 non-null   object \n",
      " 32  등급구분명        3005 non-null   object \n",
      " 33  급수시설구분명      6287 non-null   object \n",
      " 34  총종업원수        1773 non-null   float64\n",
      " 35  본사종업원수       1777 non-null   float64\n",
      " 36  공장사무직종업원수    1777 non-null   float64\n",
      " 37  공장판매직종업원수    1777 non-null   float64\n",
      " 38  공장생산직종업원수    1777 non-null   float64\n",
      " 39  건물소유구분명      1 non-null      object \n",
      " 40  보증액          1777 non-null   float64\n",
      " 41  월세액          1777 non-null   object \n",
      " 42  다중이용업소여부     13110 non-null  object \n",
      " 43  시설총규모        13110 non-null  float64\n",
      " 44  전통업소지정번호     6 non-null      object \n",
      " 45  전통업소주된음식     2 non-null      object \n",
      " 46  홈페이지         0 non-null      float64\n",
      " 47  Unnamed: 47  0 non-null      float64\n",
      "dtypes: float64(19), int64(5), object(24)\n",
      "memory usage: 4.9+ MB\n"
     ]
    }
   ],
   "source": [
    "data_fin = data[(data.위생업태명.isin(['통닭(치킨)', '호프/통닭'])) & (data.영업상태명=='영업/정상')]\n",
    "data_fin.info()"
   ]
  },
  {
   "cell_type": "markdown",
   "id": "ed7378d2-c295-4700-baa8-ded68542beb1",
   "metadata": {},
   "source": [
    "3-2. Result\n",
    "* data_fin = '치킨' & '영업중' 추출한 데이터\n",
    "* 총 13,110 개의 음식점이 해당됨"
   ]
  },
  {
   "cell_type": "markdown",
   "id": "af8e3f3b-7d9d-4b9c-8321-c381b0848cc2",
   "metadata": {},
   "source": [
    "### 4. 서대문구에 위치해야 함"
   ]
  },
  {
   "cell_type": "markdown",
   "id": "2e5486f0-cf70-4221-8dd5-139889ed714a",
   "metadata": {},
   "source": [
    "#### Actions\n",
    "\n",
    "* Column을 보았을 때, '소재지전체주소' 로 판단 가능해 보임\n",
    "* '소재지전체주소'의 values 확인\n",
    "* data_fin 데이터에 3가지 조건 컬럼 구성하여 저장\n",
    "* data_fin 에서 서대문구 data 만 추출\n",
    "* data_seo 로 새로 저장\n",
    "\n",
    "#### Results\n",
    "* data_seo = 서대문구에 위치한 현재 영업중인 치킨집 데이터\n",
    "* 400개의 음식점 존재"
   ]
  },
  {
   "cell_type": "code",
   "execution_count": 6,
   "id": "88ae731c-b493-44c9-b00e-107a392d16ee",
   "metadata": {},
   "outputs": [
    {
     "data": {
      "text/html": [
       "<div>\n",
       "<style scoped>\n",
       "    .dataframe tbody tr th:only-of-type {\n",
       "        vertical-align: middle;\n",
       "    }\n",
       "\n",
       "    .dataframe tbody tr th {\n",
       "        vertical-align: top;\n",
       "    }\n",
       "\n",
       "    .dataframe thead th {\n",
       "        text-align: right;\n",
       "    }\n",
       "</style>\n",
       "<table border=\"1\" class=\"dataframe\">\n",
       "  <thead>\n",
       "    <tr style=\"text-align: right;\">\n",
       "      <th></th>\n",
       "      <th>소재지전체주소</th>\n",
       "      <th>위생업태명</th>\n",
       "      <th>영업상태명</th>\n",
       "    </tr>\n",
       "  </thead>\n",
       "  <tbody>\n",
       "    <tr>\n",
       "      <th>30</th>\n",
       "      <td>서울특별시 은평구 갈현동 400-9번지 (지하1층)</td>\n",
       "      <td>호프/통닭</td>\n",
       "      <td>영업/정상</td>\n",
       "    </tr>\n",
       "    <tr>\n",
       "      <th>43</th>\n",
       "      <td>서울특별시 영등포구 양평동3가 101번지 현대아파트 상가내 1층 102호</td>\n",
       "      <td>호프/통닭</td>\n",
       "      <td>영업/정상</td>\n",
       "    </tr>\n",
       "    <tr>\n",
       "      <th>44</th>\n",
       "      <td>서울특별시 중구 필동2가 32-24번지 1층</td>\n",
       "      <td>호프/통닭</td>\n",
       "      <td>영업/정상</td>\n",
       "    </tr>\n",
       "    <tr>\n",
       "      <th>66</th>\n",
       "      <td>서울특별시 종로구 당주동 128-17번지 (지상1층)</td>\n",
       "      <td>호프/통닭</td>\n",
       "      <td>영업/정상</td>\n",
       "    </tr>\n",
       "    <tr>\n",
       "      <th>67</th>\n",
       "      <td>서울특별시 서초구 우면동 59번지 105호</td>\n",
       "      <td>호프/통닭</td>\n",
       "      <td>영업/정상</td>\n",
       "    </tr>\n",
       "  </tbody>\n",
       "</table>\n",
       "</div>"
      ],
      "text/plain": [
       "                                     소재지전체주소  위생업태명  영업상태명\n",
       "30              서울특별시 은평구 갈현동 400-9번지 (지하1층)  호프/통닭  영업/정상\n",
       "43  서울특별시 영등포구 양평동3가 101번지 현대아파트 상가내 1층 102호  호프/통닭  영업/정상\n",
       "44                  서울특별시 중구 필동2가 32-24번지 1층  호프/통닭  영업/정상\n",
       "66             서울특별시 종로구 당주동 128-17번지 (지상1층)  호프/통닭  영업/정상\n",
       "67                   서울특별시 서초구 우면동 59번지 105호  호프/통닭  영업/정상"
      ]
     },
     "execution_count": 6,
     "metadata": {},
     "output_type": "execute_result"
    }
   ],
   "source": [
    "data_fin = data_fin[['소재지전체주소', '위생업태명', '영업상태명']]\n",
    "data_fin.head()"
   ]
  },
  {
   "cell_type": "code",
   "execution_count": 13,
   "id": "1ab69f90-fb55-46cb-b80f-9faa0f2a6644",
   "metadata": {},
   "outputs": [
    {
     "data": {
      "text/plain": [
       "{'통닭(치킨)', '호프/통닭'}"
      ]
     },
     "execution_count": 13,
     "metadata": {},
     "output_type": "execute_result"
    }
   ],
   "source": [
    "# 위 데이터 위생업태명에 '호프/통닭' 만 표시되어 있어 유효성 검사\n",
    "set(data_fin.위생업태명)"
   ]
  },
  {
   "cell_type": "code",
   "execution_count": 7,
   "id": "0ab3b653-0cde-44ba-a6ea-194f0e51130e",
   "metadata": {},
   "outputs": [],
   "source": [
    "res = data_fin.소재지전체주소.str.contains('서대문구', na=False)"
   ]
  },
  {
   "cell_type": "code",
   "execution_count": 8,
   "id": "a3ef2539-94fc-4eec-862a-f72277958f5f",
   "metadata": {},
   "outputs": [
    {
     "data": {
      "text/html": [
       "<div>\n",
       "<style scoped>\n",
       "    .dataframe tbody tr th:only-of-type {\n",
       "        vertical-align: middle;\n",
       "    }\n",
       "\n",
       "    .dataframe tbody tr th {\n",
       "        vertical-align: top;\n",
       "    }\n",
       "\n",
       "    .dataframe thead th {\n",
       "        text-align: right;\n",
       "    }\n",
       "</style>\n",
       "<table border=\"1\" class=\"dataframe\">\n",
       "  <thead>\n",
       "    <tr style=\"text-align: right;\">\n",
       "      <th></th>\n",
       "      <th>소재지전체주소</th>\n",
       "      <th>위생업태명</th>\n",
       "      <th>영업상태명</th>\n",
       "    </tr>\n",
       "  </thead>\n",
       "  <tbody>\n",
       "    <tr>\n",
       "      <th>178</th>\n",
       "      <td>서울특별시 서대문구 창천동 33-25번지</td>\n",
       "      <td>통닭(치킨)</td>\n",
       "      <td>영업/정상</td>\n",
       "    </tr>\n",
       "    <tr>\n",
       "      <th>698</th>\n",
       "      <td>서울특별시 서대문구 홍제동 459 현대종합상가</td>\n",
       "      <td>호프/통닭</td>\n",
       "      <td>영업/정상</td>\n",
       "    </tr>\n",
       "    <tr>\n",
       "      <th>724</th>\n",
       "      <td>서울특별시 서대문구 남가좌동 347-20번지</td>\n",
       "      <td>호프/통닭</td>\n",
       "      <td>영업/정상</td>\n",
       "    </tr>\n",
       "    <tr>\n",
       "      <th>1200</th>\n",
       "      <td>서울특별시 서대문구 연희동 131-1번지 사러가쇼핑</td>\n",
       "      <td>호프/통닭</td>\n",
       "      <td>영업/정상</td>\n",
       "    </tr>\n",
       "    <tr>\n",
       "      <th>1405</th>\n",
       "      <td>서울특별시 서대문구 창천동 52-14</td>\n",
       "      <td>호프/통닭</td>\n",
       "      <td>영업/정상</td>\n",
       "    </tr>\n",
       "  </tbody>\n",
       "</table>\n",
       "</div>"
      ],
      "text/plain": [
       "                           소재지전체주소   위생업태명  영업상태명\n",
       "178         서울특별시 서대문구 창천동 33-25번지  통닭(치킨)  영업/정상\n",
       "698      서울특별시 서대문구 홍제동 459 현대종합상가   호프/통닭  영업/정상\n",
       "724       서울특별시 서대문구 남가좌동 347-20번지   호프/통닭  영업/정상\n",
       "1200  서울특별시 서대문구 연희동 131-1번지 사러가쇼핑   호프/통닭  영업/정상\n",
       "1405          서울특별시 서대문구 창천동 52-14   호프/통닭  영업/정상"
      ]
     },
     "execution_count": 8,
     "metadata": {},
     "output_type": "execute_result"
    }
   ],
   "source": [
    "data_seo = data_fin[res]\n",
    "data_seo.head()"
   ]
  },
  {
   "cell_type": "code",
   "execution_count": 16,
   "id": "7e3d59ce-679c-4dfb-bda5-f46b8c4c320f",
   "metadata": {},
   "outputs": [
    {
     "name": "stdout",
     "output_type": "stream",
     "text": [
      "<class 'pandas.core.frame.DataFrame'>\n",
      "Index: 400 entries, 178 to 124130\n",
      "Data columns (total 3 columns):\n",
      " #   Column   Non-Null Count  Dtype \n",
      "---  ------   --------------  ----- \n",
      " 0   소재지전체주소  400 non-null    object\n",
      " 1   위생업태명    400 non-null    object\n",
      " 2   영업상태명    400 non-null    object\n",
      "dtypes: object(3)\n",
      "memory usage: 12.5+ KB\n"
     ]
    }
   ],
   "source": [
    "data_seo.info()"
   ]
  },
  {
   "cell_type": "markdown",
   "id": "cb365e5e-ad9f-46be-a0e4-1facb6c09f39",
   "metadata": {},
   "source": [
    "### 5. 서대문구 각 동의 치킨집 수를 연산\n"
   ]
  },
  {
   "cell_type": "markdown",
   "id": "1128b157-cd60-425b-8ca8-1bb785808e8d",
   "metadata": {},
   "source": [
    "#### Actions\n",
    "* `str.slice(start=*, stop=*)` 사용하여 '동' 추출 / addr 변수에 저장\n",
    "* `re`패키지 / `re.sub()` 사용하여 같이 딸려온 숫자/공백 제거 / addr_fin 변수에 저장 및 확인\n",
    "* `str.replace()` 사용하여 같이 딸려온 '-' 제거\n",
    "* 최종 전처리 된 addr_fin.value_counts() 하여 각 동의 치킨집 갯수 ck_cnt 변수에 저장\n",
    "\n",
    "\n",
    "#### Results\n",
    "* ck_cnt = 서대문구 각 동의 치킨집 수가 저장된 최종 데이터\n",
    "* Tree Map 시각화 진행 "
   ]
  },
  {
   "cell_type": "code",
   "execution_count": 9,
   "id": "980cbe83-c3eb-4d31-b872-d278fa9e2856",
   "metadata": {},
   "outputs": [
    {
     "data": {
      "text/plain": [
       "178       창천동 33\n",
       "698       홍제동 45\n",
       "724       남가좌동 3\n",
       "1200      연희동 13\n",
       "1405      창천동 52\n",
       "           ...  \n",
       "122500    남가좌동 3\n",
       "123490    홍제동 30\n",
       "123548    홍제동 96\n",
       "123724    북아현동 1\n",
       "124130    남가좌동 3\n",
       "Name: 소재지전체주소, Length: 400, dtype: object"
      ]
     },
     "execution_count": 9,
     "metadata": {},
     "output_type": "execute_result"
    }
   ],
   "source": [
    "# str.slice() 사용하여 '동' 추출\n",
    "# '동' 정보는 11글자를 skip 하면 시작됨\n",
    "# '동' 데이터는 넉넉히 5글자를 추출 후, 불필요한 문자 전처리 진행 \n",
    "# 11번 인덱스 ~ 17 인덱스 위치까지 추출\n",
    "\n",
    "addr = data_seo.소재지전체주소.str.slice(start=11, stop=17)\n",
    "addr"
   ]
  },
  {
   "cell_type": "code",
   "execution_count": 11,
   "id": "cd8961ea-42f1-40df-bd07-13a993646f7e",
   "metadata": {},
   "outputs": [],
   "source": [
    "# re패키지 \n",
    "import re"
   ]
  },
  {
   "cell_type": "code",
   "execution_count": 15,
   "id": "cefd6ee1-43e4-4e3c-9f72-cee77f76c246",
   "metadata": {},
   "outputs": [],
   "source": [
    "# re.sub() 사용하여 같이 딸려온 숫자/공백 제거\n",
    "# re.sub(pattern, replace, text)\n",
    "i=0\n",
    "addr_fin = pd.Series()\n",
    "for str in addr:\n",
    "    newstring = re.sub(r'[0-9]+', '', str).replace(' ','')\n",
    "    addr_fin[i] = newstring\n",
    "    i = i + 1"
   ]
  },
  {
   "cell_type": "code",
   "execution_count": 17,
   "id": "a80241e0-3ab7-410d-a0d7-9b56b3ed2b7b",
   "metadata": {},
   "outputs": [
    {
     "data": {
      "text/plain": [
       "창천동     87\n",
       "홍제동     48\n",
       "북가좌동    48\n",
       "남가좌동    47\n",
       "연희동     40\n",
       "홍은동     34\n",
       "충정로가    21\n",
       "북아현동    20\n",
       "대현동     15\n",
       "냉천동     10\n",
       "홍은동-     9\n",
       "미근동      6\n",
       "창천동-     4\n",
       "옥천동      2\n",
       "영천동      2\n",
       "천연동      2\n",
       "옥천동번     1\n",
       "대신동      1\n",
       "합동       1\n",
       "합동-      1\n",
       "연희동-     1\n",
       "Name: count, dtype: int64"
      ]
     },
     "execution_count": 17,
     "metadata": {},
     "output_type": "execute_result"
    }
   ],
   "source": [
    "addr_fin.value_counts()"
   ]
  },
  {
   "cell_type": "code",
   "execution_count": null,
   "id": "3b8fb800-6718-4712-b3bd-687570b6171d",
   "metadata": {},
   "outputs": [],
   "source": []
  },
  {
   "cell_type": "code",
   "execution_count": null,
   "id": "8dd6d340-c6ea-4936-977b-f0546be897d9",
   "metadata": {},
   "outputs": [],
   "source": []
  },
  {
   "cell_type": "code",
   "execution_count": null,
   "id": "4ac4ae7a-ba76-4842-bee4-9dbe883c541c",
   "metadata": {},
   "outputs": [],
   "source": []
  },
  {
   "cell_type": "code",
   "execution_count": null,
   "id": "d9f30a0e-bd0b-4d1e-92fe-eec16fa3e489",
   "metadata": {},
   "outputs": [],
   "source": []
  },
  {
   "cell_type": "code",
   "execution_count": null,
   "id": "3b83d7bb-0c6e-4045-90b6-67722ee8c42a",
   "metadata": {},
   "outputs": [],
   "source": []
  },
  {
   "cell_type": "code",
   "execution_count": null,
   "id": "750d1b56-1d0b-41b8-84be-8e8fd9fc2417",
   "metadata": {},
   "outputs": [],
   "source": []
  },
  {
   "cell_type": "code",
   "execution_count": null,
   "id": "3383fd3a-60c7-4636-9f3c-58054d29f3dc",
   "metadata": {},
   "outputs": [],
   "source": []
  }
 ],
 "metadata": {
  "kernelspec": {
   "display_name": "Python 3 (ipykernel)",
   "language": "python",
   "name": "python3"
  },
  "language_info": {
   "codemirror_mode": {
    "name": "ipython",
    "version": 3
   },
   "file_extension": ".py",
   "mimetype": "text/x-python",
   "name": "python",
   "nbconvert_exporter": "python",
   "pygments_lexer": "ipython3",
   "version": "3.10.10"
  }
 },
 "nbformat": 4,
 "nbformat_minor": 5
}
