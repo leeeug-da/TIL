{
 "cells": [
  {
   "cell_type": "markdown",
   "id": "a522b513-96e4-4aa0-b797-6e6314ea1ff1",
   "metadata": {},
   "source": [
    "# 서울시 자치구 서대문구에서 치킨집이 가장 많은 동은 어디인가?\n",
    "\n",
    "### 자료 출처\n",
    "- 데이터 다운로드 : LOCALDATA 공공데이터\n",
    "- https://www.localdata.kr/"
   ]
  },
  {
   "cell_type": "markdown",
   "id": "e72b3050-eb09-42a0-b61d-b2be6596317c",
   "metadata": {
    "jp-MarkdownHeadingCollapsed": true
   },
   "source": [
    "## 패키지 설정"
   ]
  },
  {
   "cell_type": "code",
   "execution_count": 3,
   "id": "bc342b88-a2b7-4a84-890b-611fd860bf62",
   "metadata": {},
   "outputs": [],
   "source": [
    "# 패키지 불러오기\n",
    "\n",
    "import pandas as pd\n",
    "import numpy as np\n",
    "import matplotlib.pyplot as plt\n",
    "%matplotlib inline"
   ]
  },
  {
   "cell_type": "code",
   "execution_count": 4,
   "id": "fdc6d302-1528-4a65-bb7f-96c5645d12a8",
   "metadata": {},
   "outputs": [],
   "source": [
    "# matplotlib 한글 세팅\n",
    "\n",
    "import platform\n",
    "from matplotlib import font_manager, rc\n",
    "plt.rcParams['axes.unicode_minus'] = False\n",
    "if platform.system() == 'Darwin':  # 맥OS \n",
    "    rc('font', family='AppleGothic')\n",
    "elif platform.system() == 'Windows':  # 윈도우\n",
    "    path = \"c:/Windows/Fonts/malgun.ttf\"\n",
    "    font_name = font_manager.FontProperties(fname=path).get_name()\n",
    "    rc('font', family=font_name)\n",
    "else:\n",
    "    print('Unknown system...  sorry~~~')"
   ]
  },
  {
   "cell_type": "markdown",
   "id": "91bf2870-4494-43a5-bc85-425cb9002c32",
   "metadata": {},
   "source": [
    "## 데이터 가져오기"
   ]
  },
  {
   "cell_type": "code",
   "execution_count": 5,
   "id": "efba0d94-d996-4426-9fd9-ccb197737b18",
   "metadata": {},
   "outputs": [],
   "source": [
    "data = pd.read_csv('./서울특별시_일반음식점.csv',\n",
    "                  encoding='cp949',\n",
    "                  low_memory=False)"
   ]
  },
  {
   "cell_type": "code",
   "execution_count": 7,
   "id": "03083f23-0a66-45a8-a11e-3c4178d46c75",
   "metadata": {},
   "outputs": [
    {
     "data": {
      "text/html": [
       "<div>\n",
       "<style scoped>\n",
       "    .dataframe tbody tr th:only-of-type {\n",
       "        vertical-align: middle;\n",
       "    }\n",
       "\n",
       "    .dataframe tbody tr th {\n",
       "        vertical-align: top;\n",
       "    }\n",
       "\n",
       "    .dataframe thead th {\n",
       "        text-align: right;\n",
       "    }\n",
       "</style>\n",
       "<table border=\"1\" class=\"dataframe\">\n",
       "  <thead>\n",
       "    <tr style=\"text-align: right;\">\n",
       "      <th></th>\n",
       "      <th>번호</th>\n",
       "      <th>개방서비스명</th>\n",
       "      <th>개방서비스아이디</th>\n",
       "      <th>개방자치단체코드</th>\n",
       "      <th>관리번호</th>\n",
       "      <th>인허가일자</th>\n",
       "      <th>인허가취소일자</th>\n",
       "      <th>영업상태구분코드</th>\n",
       "      <th>영업상태명</th>\n",
       "      <th>상세영업상태코드</th>\n",
       "      <th>...</th>\n",
       "      <th>공장생산직종업원수</th>\n",
       "      <th>건물소유구분명</th>\n",
       "      <th>보증액</th>\n",
       "      <th>월세액</th>\n",
       "      <th>다중이용업소여부</th>\n",
       "      <th>시설총규모</th>\n",
       "      <th>전통업소지정번호</th>\n",
       "      <th>전통업소주된음식</th>\n",
       "      <th>홈페이지</th>\n",
       "      <th>Unnamed: 47</th>\n",
       "    </tr>\n",
       "  </thead>\n",
       "  <tbody>\n",
       "    <tr>\n",
       "      <th>0</th>\n",
       "      <td>1</td>\n",
       "      <td>일반음식점</td>\n",
       "      <td>07_24_04_P</td>\n",
       "      <td>3150000</td>\n",
       "      <td>3150000-101-2020-00448</td>\n",
       "      <td>20200803</td>\n",
       "      <td>NaN</td>\n",
       "      <td>1</td>\n",
       "      <td>영업/정상</td>\n",
       "      <td>1</td>\n",
       "      <td>...</td>\n",
       "      <td>NaN</td>\n",
       "      <td>NaN</td>\n",
       "      <td>NaN</td>\n",
       "      <td>NaN</td>\n",
       "      <td>N</td>\n",
       "      <td>35.19</td>\n",
       "      <td>NaN</td>\n",
       "      <td>NaN</td>\n",
       "      <td>NaN</td>\n",
       "      <td>NaN</td>\n",
       "    </tr>\n",
       "    <tr>\n",
       "      <th>1</th>\n",
       "      <td>2</td>\n",
       "      <td>일반음식점</td>\n",
       "      <td>07_24_04_P</td>\n",
       "      <td>3150000</td>\n",
       "      <td>3150000-101-2020-00449</td>\n",
       "      <td>20200803</td>\n",
       "      <td>NaN</td>\n",
       "      <td>1</td>\n",
       "      <td>영업/정상</td>\n",
       "      <td>1</td>\n",
       "      <td>...</td>\n",
       "      <td>NaN</td>\n",
       "      <td>NaN</td>\n",
       "      <td>NaN</td>\n",
       "      <td>NaN</td>\n",
       "      <td>N</td>\n",
       "      <td>50.37</td>\n",
       "      <td>NaN</td>\n",
       "      <td>NaN</td>\n",
       "      <td>NaN</td>\n",
       "      <td>NaN</td>\n",
       "    </tr>\n",
       "  </tbody>\n",
       "</table>\n",
       "<p>2 rows × 48 columns</p>\n",
       "</div>"
      ],
      "text/plain": [
       "   번호 개방서비스명    개방서비스아이디  개방자치단체코드                    관리번호     인허가일자  인허가취소일자  \\\n",
       "0   1  일반음식점  07_24_04_P   3150000  3150000-101-2020-00448  20200803      NaN   \n",
       "1   2  일반음식점  07_24_04_P   3150000  3150000-101-2020-00449  20200803      NaN   \n",
       "\n",
       "   영업상태구분코드  영업상태명  상세영업상태코드  ... 공장생산직종업원수  건물소유구분명  보증액  월세액  다중이용업소여부  \\\n",
       "0         1  영업/정상         1  ...       NaN      NaN  NaN  NaN         N   \n",
       "1         1  영업/정상         1  ...       NaN      NaN  NaN  NaN         N   \n",
       "\n",
       "   시설총규모 전통업소지정번호  전통업소주된음식 홈페이지 Unnamed: 47  \n",
       "0  35.19      NaN       NaN  NaN         NaN  \n",
       "1  50.37      NaN       NaN  NaN         NaN  \n",
       "\n",
       "[2 rows x 48 columns]"
      ]
     },
     "execution_count": 7,
     "metadata": {},
     "output_type": "execute_result"
    }
   ],
   "source": [
    "data.head(2)"
   ]
  },
  {
   "cell_type": "code",
   "execution_count": 8,
   "id": "be6f9f24-2add-43c6-908e-bbc4ac050d90",
   "metadata": {},
   "outputs": [
    {
     "name": "stdout",
     "output_type": "stream",
     "text": [
      "<class 'pandas.core.frame.DataFrame'>\n",
      "RangeIndex: 472915 entries, 0 to 472914\n",
      "Data columns (total 48 columns):\n",
      " #   Column       Non-Null Count   Dtype  \n",
      "---  ------       --------------   -----  \n",
      " 0   번호           472915 non-null  int64  \n",
      " 1   개방서비스명       472915 non-null  object \n",
      " 2   개방서비스아이디     472915 non-null  object \n",
      " 3   개방자치단체코드     472915 non-null  int64  \n",
      " 4   관리번호         472915 non-null  object \n",
      " 5   인허가일자        472915 non-null  int64  \n",
      " 6   인허가취소일자      0 non-null       float64\n",
      " 7   영업상태구분코드     472915 non-null  int64  \n",
      " 8   영업상태명        472915 non-null  object \n",
      " 9   상세영업상태코드     472915 non-null  int64  \n",
      " 10  상세영업상태명      472915 non-null  object \n",
      " 11  폐업일자         348707 non-null  float64\n",
      " 12  휴업시작일자       0 non-null       float64\n",
      " 13  휴업종료일자       0 non-null       float64\n",
      " 14  재개업일자        0 non-null       float64\n",
      " 15  소재지전화        327325 non-null  object \n",
      " 16  소재지면적        439015 non-null  object \n",
      " 17  소재지우편번호      472670 non-null  float64\n",
      " 18  소재지전체주소      472678 non-null  object \n",
      " 19  도로명전체주소      223302 non-null  object \n",
      " 20  도로명우편번호      219658 non-null  float64\n",
      " 21  사업장명         472914 non-null  object \n",
      " 22  최종수정시점       472915 non-null  object \n",
      " 23  데이터갱신구분      472915 non-null  object \n",
      " 24  데이터갱신일자      472915 non-null  object \n",
      " 25  업태구분명        472894 non-null  object \n",
      " 26  좌표정보(x)      448086 non-null  float64\n",
      " 27  좌표정보(y)      448086 non-null  object \n",
      " 28  위생업태명        472887 non-null  object \n",
      " 29  남성종사자수       303104 non-null  float64\n",
      " 30  여성종사자수       305258 non-null  float64\n",
      " 31  영업장주변구분명     251574 non-null  object \n",
      " 32  등급구분명        241826 non-null  object \n",
      " 33  급수시설구분명      310208 non-null  object \n",
      " 34  총종업원수        45438 non-null   float64\n",
      " 35  본사종업원수       45531 non-null   float64\n",
      " 36  공장사무직종업원수    45530 non-null   float64\n",
      " 37  공장판매직종업원수    45530 non-null   float64\n",
      " 38  공장생산직종업원수    45530 non-null   float64\n",
      " 39  건물소유구분명      1 non-null       object \n",
      " 40  보증액          45531 non-null   float64\n",
      " 41  월세액          45532 non-null   object \n",
      " 42  다중이용업소여부     472908 non-null  object \n",
      " 43  시설총규모        472908 non-null  float64\n",
      " 44  전통업소지정번호     1729 non-null    object \n",
      " 45  전통업소주된음식     912 non-null     object \n",
      " 46  홈페이지         0 non-null       float64\n",
      " 47  Unnamed: 47  0 non-null       float64\n",
      "dtypes: float64(19), int64(5), object(24)\n",
      "memory usage: 173.2+ MB\n"
     ]
    }
   ],
   "source": [
    "data.info()"
   ]
  },
  {
   "cell_type": "markdown",
   "id": "1b311534-6717-4999-94fb-450830c93fcf",
   "metadata": {},
   "source": [
    "## 데이터 처리"
   ]
  },
  {
   "cell_type": "markdown",
   "id": "133fe675-ce21-43e3-83c3-a8f18a167699",
   "metadata": {},
   "source": [
    "- 문제 : 서울시 자치구 서대문구에서 치킨집이 가장 많은 동은 어디인가?\n",
    "- 변수 확인 :\n",
    "  1. 음식점이면서, 치킨과 관련된 항목을 취급해야 함\n",
    "  2. 현재 영업중이어야 함  \n",
    "  3. 서대문구에 위치해야 함"
   ]
  },
  {
   "cell_type": "markdown",
   "id": "1da0733a-c9c8-47fc-8905-3dd3ffa65187",
   "metadata": {},
   "source": [
    "#### 1. 음식점이면서, 치킨과 관련된 항목을 취급해야 함"
   ]
  },
  {
   "cell_type": "markdown",
   "id": "58d058c2-83f1-476f-9e2e-a6baa6048449",
   "metadata": {},
   "source": [
    "* Column을 보았을 때, 1)업태구분명 2)위생업태명 으로 판단 가능해 보임\n",
    "* 1)업태구분명 2)위생업태명의 데이터 확인"
   ]
  },
  {
   "cell_type": "code",
   "execution_count": 17,
   "id": "d09de914-4e4b-42e2-92c6-cf41b32baa97",
   "metadata": {
    "scrolled": true
   },
   "outputs": [
    {
     "data": {
      "text/plain": [
       "{'193959.150482967',\n",
       " nan,\n",
       " '간이주점',\n",
       " '감성주점',\n",
       " '경양식',\n",
       " '기타',\n",
       " '기타 휴게음식점',\n",
       " '김밥(도시락)',\n",
       " '까페',\n",
       " '냉면집',\n",
       " '다방',\n",
       " '라이브카페',\n",
       " '룸살롱',\n",
       " '복어취급',\n",
       " '분식',\n",
       " '뷔페식',\n",
       " '식육(숯불구이)',\n",
       " '식품등 수입판매업',\n",
       " '식품소분업',\n",
       " '외국음식전문점(인도,태국등)',\n",
       " '이동조리',\n",
       " '일반조리판매',\n",
       " '일식',\n",
       " '전통찻집',\n",
       " '정종/대포집/소주방',\n",
       " '제과점영업',\n",
       " '중국식',\n",
       " '출장조리',\n",
       " '커피숍',\n",
       " '키즈카페',\n",
       " '탕류(보신용)',\n",
       " '통닭(치킨)',\n",
       " '패밀리레스트랑',\n",
       " '패스트푸드',\n",
       " '한식',\n",
       " '호프/통닭',\n",
       " '횟집'}"
      ]
     },
     "execution_count": 17,
     "metadata": {},
     "output_type": "execute_result"
    }
   ],
   "source": [
    "# 1) 업태구분명 데이터 확인\n",
    "set(data.업태구분명.values)"
   ]
  },
  {
   "cell_type": "code",
   "execution_count": 16,
   "id": "4190734b-d110-40de-a25f-3fd6964b53a8",
   "metadata": {
    "scrolled": true
   },
   "outputs": [
    {
     "data": {
      "text/plain": [
       "{nan,\n",
       " '간이주점',\n",
       " '감성주점',\n",
       " '경양식',\n",
       " '기타',\n",
       " '기타 휴게음식점',\n",
       " '김밥(도시락)',\n",
       " '까페',\n",
       " '냉면집',\n",
       " '다방',\n",
       " '라이브카페',\n",
       " '룸살롱',\n",
       " '복어취급',\n",
       " '분식',\n",
       " '뷔페식',\n",
       " '식육(숯불구이)',\n",
       " '식품등 수입판매업',\n",
       " '식품소분업',\n",
       " '외국음식전문점(인도,태국등)',\n",
       " '이동조리',\n",
       " '일반조리판매',\n",
       " '일식',\n",
       " '전통찻집',\n",
       " '정종/대포집/소주방',\n",
       " '제과점영업',\n",
       " '중국식',\n",
       " '출장조리',\n",
       " '커피숍',\n",
       " '키즈카페',\n",
       " '탕류(보신용)',\n",
       " '통닭(치킨)',\n",
       " '패밀리레스트랑',\n",
       " '패스트푸드',\n",
       " '한식',\n",
       " '호프/통닭',\n",
       " '횟집'}"
      ]
     },
     "execution_count": 16,
     "metadata": {},
     "output_type": "execute_result"
    }
   ],
   "source": [
    "# 2) 위생업태명 데이터 확인\n",
    "set(data.위생업태명.values)"
   ]
  },
  {
   "cell_type": "markdown",
   "id": "9d737524-a3e8-4ede-ad7a-487290412320",
   "metadata": {},
   "source": [
    "* 동일한 데이터로 판단하여, 위생업태명 데이터로 판단\n",
    "* 위생업태명에서 '음식점이면서, 치킨과 관련된' 항목은 :\n",
    "  - 통닭(치킨)\n",
    "  - 호프/통닭"
   ]
  },
  {
   "cell_type": "markdown",
   "id": "1816dd08-69d1-4ac1-858d-6a6c67aea003",
   "metadata": {},
   "source": [
    "* 위 두 항목에서 추출한 keywords '통닭', '치킨'을 활용하기 위하여 재점검\n",
    "  - 조건 인덱싱 (Boolean Indexing) 을 사용하여 위생업태명 중 '통닭', '치킨' 이 포함된 업태명 반환 "
   ]
  },
  {
   "cell_type": "code",
   "execution_count": 18,
   "id": "c847464e-1183-4430-af2a-4a95d86e9005",
   "metadata": {},
   "outputs": [
    {
     "data": {
      "text/plain": [
       "{'통닭(치킨)', '호프/통닭'}"
      ]
     },
     "execution_count": 18,
     "metadata": {},
     "output_type": "execute_result"
    }
   ],
   "source": [
    "# 조건 인덱싱 (Boolean Indexing) 을 사용하여 위생업태명 중 '통닭', '치킨' 이 포함된 업태명 반환\n",
    "set(data.위생업태명[data.위생업태명.str.contains('통닭|치킨', na=False)])"
   ]
  },
  {
   "cell_type": "markdown",
   "id": "4cc48c20-7515-4817-a0ef-7686cabc7e30",
   "metadata": {},
   "source": [
    "#### 2. 현재 영업중이어야 함 "
   ]
  }
 ],
 "metadata": {
  "kernelspec": {
   "display_name": "Python 3 (ipykernel)",
   "language": "python",
   "name": "python3"
  },
  "language_info": {
   "codemirror_mode": {
    "name": "ipython",
    "version": 3
   },
   "file_extension": ".py",
   "mimetype": "text/x-python",
   "name": "python",
   "nbconvert_exporter": "python",
   "pygments_lexer": "ipython3",
   "version": "3.10.10"
  }
 },
 "nbformat": 4,
 "nbformat_minor": 5
}
