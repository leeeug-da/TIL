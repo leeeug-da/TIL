{
 "cells": [
  {
   "cell_type": "markdown",
   "id": "18dfc02d",
   "metadata": {},
   "source": [
    "### Packages"
   ]
  },
  {
   "cell_type": "code",
   "execution_count": 1,
   "id": "86956ab9",
   "metadata": {},
   "outputs": [],
   "source": [
    "import numpy as np\n",
    "import os\n",
    "from PIL import Image\n",
    "import tensorflow as tf\n",
    "from tensorflow import keras\n",
    "from tensorflow.keras import layers\n",
    "from tensorflow.keras.preprocessing.image import ImageDataGenerator\n",
    "from tensorflow.keras.models import Sequential\n",
    "from tensorflow.keras.layers import Conv2D, MaxPooling2D, Flatten, Dense"
   ]
  },
  {
   "cell_type": "code",
   "execution_count": 15,
   "id": "078919a2-6d90-407a-a3ce-b1653c261b0a",
   "metadata": {},
   "outputs": [],
   "source": [
    "# tf.config.set_visible_devices([], 'GPU')"
   ]
  },
  {
   "cell_type": "markdown",
   "id": "a8cf3b81-8129-47fa-a819-2f8a899b19da",
   "metadata": {},
   "source": [
    "### Modeling"
   ]
  },
  {
   "cell_type": "code",
   "execution_count": 2,
   "id": "7a0cc601",
   "metadata": {},
   "outputs": [],
   "source": [
    "# 데이터 경로 설정\n",
    "data_dir = '/Users/euijinlee/KDT_DATA/파이널프로젝트/data'"
   ]
  },
  {
   "cell_type": "code",
   "execution_count": 3,
   "id": "285b15b4",
   "metadata": {},
   "outputs": [],
   "source": [
    "# 이미지 사이즈 설정 \n",
    "batch_size = 32\n",
    "image_size = (128, 128)"
   ]
  },
  {
   "cell_type": "code",
   "execution_count": 4,
   "id": "4fc68f16",
   "metadata": {},
   "outputs": [],
   "source": [
    "# 데이터 전처리 및 증강 설정\n",
    "datagen = ImageDataGenerator(rescale=1./255, validation_split=0.2)"
   ]
  },
  {
   "cell_type": "code",
   "execution_count": 5,
   "id": "e648b4c2",
   "metadata": {},
   "outputs": [
    {
     "name": "stdout",
     "output_type": "stream",
     "text": [
      "Found 680 images belonging to 12 classes.\n"
     ]
    }
   ],
   "source": [
    "# 학습 데이터 생성\n",
    "train_generator = datagen.flow_from_directory(\n",
    "    data_dir,\n",
    "    target_size=image_size,\n",
    "    batch_size=batch_size,\n",
    "    class_mode='categorical',\n",
    "    subset='training'\n",
    ")"
   ]
  },
  {
   "cell_type": "code",
   "execution_count": 6,
   "id": "35429c4c",
   "metadata": {},
   "outputs": [
    {
     "name": "stdout",
     "output_type": "stream",
     "text": [
      "Found 166 images belonging to 12 classes.\n"
     ]
    }
   ],
   "source": [
    "# 검증 데이터 생성\n",
    "validation_generator = datagen.flow_from_directory(\n",
    "    data_dir,\n",
    "    target_size=image_size,\n",
    "    batch_size=batch_size,\n",
    "    class_mode='categorical',\n",
    "    subset='validation'\n",
    ")"
   ]
  },
  {
   "cell_type": "code",
   "execution_count": 12,
   "id": "d165db52",
   "metadata": {},
   "outputs": [],
   "source": [
    "# CNN 모델 정의\n",
    "model = Sequential()\n",
    "model.add(Conv2D(32, (3, 3), activation='relu', input_shape=(128, 128, 3)))\n",
    "model.add(MaxPooling2D(2, 2))\n",
    "model.add(Conv2D(64, (3, 3), activation='relu'))\n",
    "model.add(MaxPooling2D(2, 2))\n",
    "model.add(Conv2D(128, (3, 3), activation='relu'))\n",
    "model.add(MaxPooling2D(2, 2))\n",
    "model.add(Flatten())\n",
    "model.add(Dense(512, activation='relu'))\n",
    "model.add(Dense(12, activation='softmax'))"
   ]
  },
  {
   "cell_type": "code",
   "execution_count": 13,
   "id": "59c19322",
   "metadata": {},
   "outputs": [],
   "source": [
    "# 모델 컴파일\n",
    "model.compile(optimizer='adam', loss='categorical_crossentropy', metrics=['accuracy'])"
   ]
  },
  {
   "cell_type": "code",
   "execution_count": 14,
   "id": "3dd2f6b8",
   "metadata": {},
   "outputs": [
    {
     "name": "stdout",
     "output_type": "stream",
     "text": [
      "Epoch 1/10\n"
     ]
    },
    {
     "name": "stderr",
     "output_type": "stream",
     "text": [
      "2024-01-09 15:21:30.592121: I tensorflow/core/common_runtime/executor.cc:1197] [/device:CPU:0] (DEBUG INFO) Executor start aborting (this does not indicate an error and you can ignore this message): INVALID_ARGUMENT: You must feed a value for placeholder tensor 'Placeholder/_0' with dtype int32\n",
      "\t [[{{node Placeholder/_0}}]]\n"
     ]
    },
    {
     "name": "stdout",
     "output_type": "stream",
     "text": [
      "13/22 [================>.............] - ETA: 48s - loss: 2.7332 - accuracy: 0.1046"
     ]
    },
    {
     "name": "stderr",
     "output_type": "stream",
     "text": [
      "/Users/euijinlee/anaconda3/envs/tf/lib/python3.11/site-packages/PIL/Image.py:3157: DecompressionBombWarning: Image size (104175000 pixels) exceeds limit of 89478485 pixels, could be decompression bomb DOS attack.\n",
      "  warnings.warn(\n"
     ]
    },
    {
     "name": "stdout",
     "output_type": "stream",
     "text": [
      "22/22 [==============================] - ETA: 0s - loss: 2.6000 - accuracy: 0.1044"
     ]
    },
    {
     "name": "stderr",
     "output_type": "stream",
     "text": [
      "2024-01-09 15:23:35.220795: I tensorflow/core/common_runtime/executor.cc:1197] [/device:CPU:0] (DEBUG INFO) Executor start aborting (this does not indicate an error and you can ignore this message): INVALID_ARGUMENT: You must feed a value for placeholder tensor 'Placeholder/_0' with dtype int32\n",
      "\t [[{{node Placeholder/_0}}]]\n",
      "/Users/euijinlee/anaconda3/envs/tf/lib/python3.11/site-packages/PIL/Image.py:3157: DecompressionBombWarning: Image size (108576768 pixels) exceeds limit of 89478485 pixels, could be decompression bomb DOS attack.\n",
      "  warnings.warn(\n"
     ]
    },
    {
     "name": "stdout",
     "output_type": "stream",
     "text": [
      "22/22 [==============================] - 154s 7s/step - loss: 2.6000 - accuracy: 0.1044 - val_loss: 2.3834 - val_accuracy: 0.1145\n",
      "Epoch 2/10\n",
      "22/22 [==============================] - 148s 7s/step - loss: 2.3842 - accuracy: 0.1456 - val_loss: 2.3367 - val_accuracy: 0.1687\n",
      "Epoch 3/10\n",
      "22/22 [==============================] - 147s 7s/step - loss: 2.2681 - accuracy: 0.1897 - val_loss: 2.3192 - val_accuracy: 0.1566\n",
      "Epoch 4/10\n",
      "22/22 [==============================] - 147s 7s/step - loss: 2.1374 - accuracy: 0.2559 - val_loss: 2.2460 - val_accuracy: 0.2229\n",
      "Epoch 5/10\n",
      "22/22 [==============================] - 147s 7s/step - loss: 1.8972 - accuracy: 0.3515 - val_loss: 2.3482 - val_accuracy: 0.1928\n",
      "Epoch 6/10\n",
      "22/22 [==============================] - 146s 7s/step - loss: 1.6631 - accuracy: 0.4397 - val_loss: 2.5159 - val_accuracy: 0.1386\n",
      "Epoch 7/10\n",
      "22/22 [==============================] - 145s 7s/step - loss: 1.4444 - accuracy: 0.5471 - val_loss: 2.6860 - val_accuracy: 0.1867\n",
      "Epoch 8/10\n",
      "22/22 [==============================] - 146s 7s/step - loss: 0.9663 - accuracy: 0.6794 - val_loss: 3.3394 - val_accuracy: 0.1265\n",
      "Epoch 9/10\n",
      "22/22 [==============================] - 146s 7s/step - loss: 0.7287 - accuracy: 0.8059 - val_loss: 3.3041 - val_accuracy: 0.1627\n",
      "Epoch 10/10\n",
      "22/22 [==============================] - 146s 7s/step - loss: 0.4927 - accuracy: 0.8676 - val_loss: 3.9470 - val_accuracy: 0.1867\n"
     ]
    },
    {
     "data": {
      "text/plain": [
       "<keras.callbacks.History at 0x2f06de8d0>"
      ]
     },
     "execution_count": 14,
     "metadata": {},
     "output_type": "execute_result"
    }
   ],
   "source": [
    "# 모델 학습\n",
    "model.fit(train_generator, epochs=10, validation_data=validation_generator)"
   ]
  },
  {
   "cell_type": "code",
   "execution_count": 16,
   "id": "502fd5a2-e0aa-491c-80f1-592ece5a8f76",
   "metadata": {},
   "outputs": [
    {
     "name": "stderr",
     "output_type": "stream",
     "text": [
      "2024-01-09 15:55:23.890864: I tensorflow/core/common_runtime/executor.cc:1197] [/device:CPU:0] (DEBUG INFO) Executor start aborting (this does not indicate an error and you can ignore this message): INVALID_ARGUMENT: You must feed a value for placeholder tensor 'Placeholder/_0' with dtype int32\n",
      "\t [[{{node Placeholder/_0}}]]\n"
     ]
    },
    {
     "name": "stdout",
     "output_type": "stream",
     "text": [
      "6/6 [==============================] - 28s 5s/step\n"
     ]
    }
   ],
   "source": [
    "# 검증 데이터에 대한 예측\n",
    "predictions = model.predict(validation_generator)"
   ]
  },
  {
   "cell_type": "code",
   "execution_count": null,
   "id": "0aa98401-d630-4414-9d34-b4c7a84fb376",
   "metadata": {},
   "outputs": [],
   "source": [
    "# 예측 결과를 클래스로 변환\n",
    "predicted_classes = np.argmax(predictions, axis=1)\n",
    "\n",
    "# 실제 라벨\n",
    "true_classes = validation_generator.classes"
   ]
  },
  {
   "cell_type": "code",
   "execution_count": 20,
   "id": "09899023-390a-474e-a537-2ed5d5cc98bb",
   "metadata": {},
   "outputs": [
    {
     "name": "stdout",
     "output_type": "stream",
     "text": [
      "Accuracy: 0.10843373493975904\n",
      "Accuracy: 10.84%\n"
     ]
    }
   ],
   "source": [
    "# 정확도 계산\n",
    "accuracy = np.sum(predicted_classes == true_classes) / len(true_classes)\n",
    "print(f\"Accuracy: {accuracy}\")\n",
    "\n",
    "accuracy_percentage = accuracy * 100\n",
    "print(f\"Accuracy: {accuracy_percentage:.2f}%\")"
   ]
  },
  {
   "cell_type": "code",
   "execution_count": null,
   "id": "2e1bb217",
   "metadata": {},
   "outputs": [],
   "source": [
    "# 모델 저장\n",
    "model.save('CNN_01.h5')"
   ]
  }
 ],
 "metadata": {
  "kernelspec": {
   "display_name": "Python 3 (ipykernel)",
   "language": "python",
   "name": "python3"
  },
  "language_info": {
   "codemirror_mode": {
    "name": "ipython",
    "version": 3
   },
   "file_extension": ".py",
   "mimetype": "text/x-python",
   "name": "python",
   "nbconvert_exporter": "python",
   "pygments_lexer": "ipython3",
   "version": "3.11.5"
  }
 },
 "nbformat": 4,
 "nbformat_minor": 5
}
