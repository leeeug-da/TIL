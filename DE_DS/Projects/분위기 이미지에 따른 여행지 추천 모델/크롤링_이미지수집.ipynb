{
 "cells": [
  {
   "cell_type": "markdown",
   "id": "0795a9e1-ab89-418c-bf53-cbed436b0f8e",
   "metadata": {},
   "source": [
    "### Packages"
   ]
  },
  {
   "cell_type": "code",
   "execution_count": null,
   "id": "d4fa4e5b-47ad-43ef-9829-c9df04d43bb3",
   "metadata": {},
   "outputs": [],
   "source": [
    "import requests\n",
    "import json\n",
    "from urllib import parse \n",
    "import os\n",
    "import sys\n",
    "import urllib.request"
   ]
  },
  {
   "cell_type": "markdown",
   "id": "3913e40c-c55b-4dab-9ba7-cbd54e7a0b13",
   "metadata": {},
   "source": [
    "### Pixabay \n",
    "- https://pixabay.com/"
   ]
  },
  {
   "cell_type": "code",
   "execution_count": null,
   "id": "38a925cb-6635-4a95-a13e-abdd73068055",
   "metadata": {},
   "outputs": [],
   "source": [
    "API_KEY = '41755765-6e3912b6321357a4616236106'  # 회원가입 후 본인의 api key\n",
    "q = \"문화\"  # 검색할 키워드\n",
    "maxImages = 1000  # 이미지 숫자 ex) 100\n",
    "image_type = \"photo\"  # Accepted values: \"all\", \"photo\", \"illustration\", \"vector\"\n",
    "path = \"/Users/euijinlee/KDT_DATA/파이널프로젝트/data1/foreign'\" + q  # 저장할 폴더\n",
    "if not os.path.exists(path):\n",
    "    os.makedirs(path)\n",
    "else:\n",
    "    print('폴더가 존재합니다')\n",
    "\n",
    "success = 0\n",
    "for page in range(1, (maxImages // 200) + 1):\n",
    "    url3 = f'https://pixabay.com/api/?key={API_KEY}&q={parse.quote_plus(q)}&image_type={image_type}&per_page=200&page={page}'\n",
    "    res = requests.get(url3)\n",
    "    text = res.text\n",
    "\n",
    "    try:\n",
    "        d = json.loads(text)\n",
    "        if not d['hits']:\n",
    "            print(\"더 이상 이미지가 없습니다.\")\n",
    "            break\n",
    "    except json.JSONDecodeError as e:\n",
    "        print(f\"JSON decoding error: {e}\")\n",
    "        break\n",
    "\n",
    "    for k in range(len(d['hits'])):\n",
    "        imgUrl = d['hits'][k]['webformatURL']\n",
    "        print(\"url:\", imgUrl)\n",
    "        url = parse.urlparse(imgUrl)\n",
    "\n",
    "        _, ext = os.path.splitext(url.path)\n",
    "        filename = f'{q}_{(page - 1) * 200 + k + 1}{ext}'\n",
    "        saveUrl = path + '/' + filename  # 저장 경로 결정\n",
    "        print(saveUrl)\n",
    "\n",
    "        req = urllib.request.Request(imgUrl, headers={'User-Agent': 'Mozilla/5.0'})\n",
    "        try:\n",
    "            imgUrl = urllib.request.urlopen(req).read()\n",
    "            with open(saveUrl, \"wb\") as f:\n",
    "                f.write(imgUrl)\n",
    "            success += 1\n",
    "            # 다운로드 받을 이미지 수를 초과하면 중단\n",
    "            if success >= maxImages:\n",
    "                break\n",
    "\n",
    "        except urllib.error.HTTPError:\n",
    "            print('다운로드 중 에러 발생')\n",
    "            break\n",
    "\n",
    "    # 다운로드 받을 이미지 수를 초과하면 외부 루프 중단\n",
    "    if success >= maxImages:\n",
    "        break\n",
    "\n",
    "print('다운로드 성공 : ' + str(success))"
   ]
  }
 ],
 "metadata": {
  "kernelspec": {
   "display_name": "Python 3 (ipykernel)",
   "language": "python",
   "name": "python3"
  },
  "language_info": {
   "codemirror_mode": {
    "name": "ipython",
    "version": 3
   },
   "file_extension": ".py",
   "mimetype": "text/x-python",
   "name": "python",
   "nbconvert_exporter": "python",
   "pygments_lexer": "ipython3",
   "version": "3.11.5"
  }
 },
 "nbformat": 4,
 "nbformat_minor": 5
}
