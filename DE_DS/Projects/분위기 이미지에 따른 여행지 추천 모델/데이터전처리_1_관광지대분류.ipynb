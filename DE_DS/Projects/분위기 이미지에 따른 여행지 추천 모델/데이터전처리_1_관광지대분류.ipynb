{
 "cells": [
  {
   "cell_type": "markdown",
   "id": "05995f3f",
   "metadata": {},
   "source": [
    "## 📌 Packages"
   ]
  },
  {
   "cell_type": "code",
   "execution_count": 2,
   "id": "04c17edd",
   "metadata": {},
   "outputs": [],
   "source": [
    "import pandas as pd"
   ]
  },
  {
   "cell_type": "markdown",
   "id": "cf063ab0",
   "metadata": {},
   "source": [
    "## 📌 컬럼 같은 것 끼리 합치기"
   ]
  },
  {
   "cell_type": "markdown",
   "id": "0a32c52a",
   "metadata": {},
   "source": [
    "🔻 변수지정"
   ]
  },
  {
   "cell_type": "code",
   "execution_count": 3,
   "id": "79a815e3",
   "metadata": {},
   "outputs": [],
   "source": [
    "reports = pd.read_excel('./data_info/중분류데이터/레포츠.xlsx') \n",
    "cultural = pd.read_excel('./data_info/중분류데이터/문화시설.xlsx') \n",
    "historical = pd.read_excel('./data_info/중분류데이터/인문_역사관광지.xlsx')\n",
    "resort = pd.read_excel('./data_info/중분류데이터/인문_휴양관광지.xlsx')\n",
    "nature1 = pd.read_excel('./data_info/중분류데이터/자연_관광자원.xlsx')\n",
    "nature2 = pd.read_excel('./data_info/중분류데이터/자연_자연관광지.xlsx')\n",
    "fest1 = pd.read_excel('./data_info/중분류데이터/축제공연행사_공연행사.xlsx')\n",
    "fest2 = pd.read_excel('./data_info/중분류데이터/축제공연행사_축제.xlsx')"
   ]
  },
  {
   "cell_type": "markdown",
   "id": "75fa436b",
   "metadata": {},
   "source": [
    "🔻 컬럼 확인"
   ]
  },
  {
   "cell_type": "code",
   "execution_count": 18,
   "id": "c6bb117f",
   "metadata": {
    "scrolled": true
   },
   "outputs": [
    {
     "name": "stdout",
     "output_type": "stream",
     "text": [
      "레포츠:  Index(['Unnamed: 0.1', '명칭', '우편번호', '관리자', '전화번호', '주소', '위도', '경도', '개요',\n",
      "       '문의 및 안내', '규모', '수용인원', '쉬는날', '개장기간', '이용시간', '입장료', '체험가능연령', '주차시설',\n",
      "       '주차요금', '유모차 대여 여부', '애완동물 동반 가능 여부', '신용카드 가능 여부', '상세정보', '지역',\n",
      "       'Unnamed: 0'],\n",
      "      dtype='object')\n",
      "문화시설:  Index(['Unnamed: 0', '명칭', '우편번호', '관리자', '전화번호', '주소', '위도', '경도', '개요',\n",
      "       '문의 및 안내', '규모', '수용인원', '이용시간', '쉬는날', '이용요금', '할인정보', '관람소요시간',\n",
      "       '주차시설', '주차요금', '유모차 대여 여부', '애완동물 동반 가능 여부', '신용카드 가능 여부', '상세정보',\n",
      "       '지역'],\n",
      "      dtype='object')\n",
      "인문_역사관광지:  Index(['Unnamed: 0', '명칭', '우편번호', '관리자', '전화번호', '주소', '위도', '경도', '개요',\n",
      "       ' 유산구분', '문의 및 안내', '개장일', '쉬는날', '체험안내', '체험가능연령', '수용인원', '이용시기',\n",
      "       '이용시간', '주차시설', '유모차 대여 여부', '애완동물 동반 가능 여부', '신용카드 가능 여부', '상세정보',\n",
      "       '지역'],\n",
      "      dtype='object')\n",
      "인문_휴양관광지:  Index(['Unnamed: 0', '명칭', '우편번호', '관리자', '전화번호', '주소', '위도', '경도', '개요',\n",
      "       ' 유산구분', '문의 및 안내', '개장일', '쉬는날', '체험안내', '체험가능연령', '수용인원', '이용시기',\n",
      "       '이용시간', '주차시설', '유모차 대여 여부', '애완동물 동반 가능 여부', '신용카드 가능 여부', '상세정보',\n",
      "       '지역'],\n",
      "      dtype='object')\n",
      "자연_관광자원:  Index(['Unnamed: 0', '명칭', '우편번호', '관리자', '전화번호', '주소', '위도', '경도', '개요',\n",
      "       ' 유산구분', '문의 및 안내', '개장일', '쉬는날', '체험안내', '체험가능연령', '수용인원', '이용시기',\n",
      "       '이용시간', '주차시설', '유모차 대여 여부', '애완동물 동반 가능 여부', '신용카드 가능 여부', '상세정보',\n",
      "       '지역'],\n",
      "      dtype='object')\n",
      "자연_자연관광지:  Index(['Unnamed: 0', '명칭', '우편번호', '관리자', '전화번호', '주소', '위도', '경도', '개요',\n",
      "       ' 유산구분', '문의 및 안내', '개장일', '쉬는날', '체험안내', '체험가능연령', '수용인원', '이용시기',\n",
      "       '이용시간', '주차시설', '유모차 대여 여부', '애완동물 동반 가능 여부', '신용카드 가능 여부', '상세정보',\n",
      "       '지역'],\n",
      "      dtype='object')\n",
      "축제공연행사_공연행사:  Index(['Unnamed: 0', '명칭', '우편번호', '관리자', '전화번호', '주소', '위도', '경도', '개요',\n",
      "       '주최자 정보', '주최자 연락처', '주관사 정보', '주관사 연락처', '행사시작일', '행사종료일', '공연시간',\n",
      "       '행사장소', '이벤트 홈페이지', '이용요금', '할인정보', '관람소요시간', '관람가능연령', '예매처',\n",
      "       '행사장 위치안내', '부대행사', '프로그램', '상세정보', '진행형태', '축제형태', '지역'],\n",
      "      dtype='object')\n",
      "축제공연행사_축제:  Index(['Unnamed: 0', '명칭', '우편번호', '관리자', '전화번호', '주소', '위도', '경도', '개요',\n",
      "       '주최자 정보', '주최자 연락처', '주관사 정보', '주관사 연락처', '행사시작일', '행사종료일', '공연시간',\n",
      "       '행사장소', '이벤트 홈페이지', '이용요금', '할인정보', '관람소요시간', '관람가능연령', '예매처',\n",
      "       '행사장 위치안내', '부대행사', '프로그램', '상세정보', '진행형태', '축제형태', '지역'],\n",
      "      dtype='object')\n"
     ]
    }
   ],
   "source": [
    "print('레포츠: ', reports.columns)\n",
    "print('문화시설: ', cultural.columns)\n",
    "print('인문_역사관광지: ', historical.columns) # same - 1\n",
    "print('인문_휴양관광지: ', resort.columns) # same - 1\n",
    "print('자연_관광자원: ', nature1.columns) # same - 2\n",
    "print('자연_자연관광지: ', nature2.columns) # same - 2\n",
    "print('축제공연행사_공연행사: ', fest1.columns) # same - 3\n",
    "print('축제공연행사_축제: ', fest2.columns) # same - 3"
   ]
  },
  {
   "cell_type": "markdown",
   "id": "9d1fff37",
   "metadata": {},
   "source": [
    "🔻 같은 컬럼끼리 데이터 합치기"
   ]
  },
  {
   "cell_type": "code",
   "execution_count": 32,
   "id": "5f8dd4c0",
   "metadata": {},
   "outputs": [],
   "source": [
    "# 데이터 합치기\n",
    "liberal_df = pd.concat([historical, resort, nature1, nature2])\n",
    "festival_df = pd.concat([fest1, fest2])"
   ]
  },
  {
   "cell_type": "code",
   "execution_count": 33,
   "id": "0db43a65",
   "metadata": {},
   "outputs": [],
   "source": [
    "# 오름차순 정렬\n",
    "liberal_df.sort_values(by='명칭', inplace=True)\n",
    "festival_df.sort_values(by='명칭', inplace=True)"
   ]
  },
  {
   "cell_type": "markdown",
   "id": "b5b98028",
   "metadata": {},
   "source": [
    "🔻 데이터 확인 \n",
    "- 기존의 데이터 갯수\n",
    "- 합쳐진 데이터 갯수 "
   ]
  },
  {
   "cell_type": "code",
   "execution_count": 30,
   "id": "c6f90e27",
   "metadata": {},
   "outputs": [
    {
     "name": "stdout",
     "output_type": "stream",
     "text": [
      "4302\n"
     ]
    }
   ],
   "source": [
    "# 기존 데이터 갯수\n",
    "\n",
    "r = reports['명칭'].count()\n",
    "c = cultural['명칭'].count()\n",
    "h = historical['명칭'].count()\n",
    "rs = resort['명칭'].count()\n",
    "n1 = nature1['명칭'].count()\n",
    "n2 = nature2['명칭'].count()\n",
    "f1 = fest1['명칭'].count()\n",
    "f2 = fest2['명칭'].count()\n",
    "\n",
    "print(r+c+h+rs+n1+n2+f1+f2)"
   ]
  },
  {
   "cell_type": "code",
   "execution_count": 34,
   "id": "3ad0d393",
   "metadata": {},
   "outputs": [
    {
     "name": "stdout",
     "output_type": "stream",
     "text": [
      "4302\n"
     ]
    }
   ],
   "source": [
    "# 합쳐진 데이터 갯수\n",
    "r = reports['명칭'].count()\n",
    "c = cultural['명칭'].count()\n",
    "l = liberal_df['명칭'].count()\n",
    "f = festival_df['명칭'].count()\n",
    "\n",
    "print(r+c+l+f)"
   ]
  },
  {
   "cell_type": "markdown",
   "id": "e539d0f9",
   "metadata": {},
   "source": [
    "🔻 내보내기"
   ]
  },
  {
   "cell_type": "code",
   "execution_count": 35,
   "id": "c6d3baff",
   "metadata": {},
   "outputs": [],
   "source": [
    "# 내보내기\n",
    "reports.to_excel('./data_info/대분류데이터/레포츠.xlsx')\n",
    "cultural.to_excel('./data_info/대분류데이터/문화시설.xlsx')\n",
    "liberal_df.to_excel('./data_info/대분류데이터/관광지.xlsx')\n",
    "festival_df.to_excel('./data_info/대분류데이터/축제공연행사.xlsx')"
   ]
  }
 ],
 "metadata": {
  "kernelspec": {
   "display_name": "Python 3 (ipykernel)",
   "language": "python",
   "name": "python3"
  },
  "language_info": {
   "codemirror_mode": {
    "name": "ipython",
    "version": 3
   },
   "file_extension": ".py",
   "mimetype": "text/x-python",
   "name": "python",
   "nbconvert_exporter": "python",
   "pygments_lexer": "ipython3",
   "version": "3.11.5"
  }
 },
 "nbformat": 4,
 "nbformat_minor": 5
}
