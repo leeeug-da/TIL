{
 "cells": [
  {
   "cell_type": "markdown",
   "id": "9bfacf37-3d65-4191-9653-991ac791b7d4",
   "metadata": {},
   "source": [
    "# **DataWarehouse Data Transform**\n",
    "- 동일한 컬럼 가지고 있는 데이터끼리 분류하여 '관광지 분류' 컬럼으로 생성  \n",
    "- 축제행사, 공연 : 날짜 지난 관광지 제거\n",
    "- 필터링 기능에 포함시킬 컬럼 전처리\n",
    "  - 요금정보 ['이용요금', '입장료', '상세정보'] : 유료/무료 형태로\n",
    "  - 유모차 대여 여부 ['유모차 대여 여부'] : 없음/불가/가능\n",
    "  - 애완동물 동반 가능 여부 ['애완동물 동반 가능 여부'] : 없음/불가/가능\n",
    "  - 지역 ['지역'] : 경기도/서울/인천\n",
    "- 관람/체험 연령 관련 컬럼 전처리\n",
    "- 명칭 컬럼 Null 데이터 제거"
   ]
  },
  {
   "cell_type": "markdown",
   "id": "87e37496-b310-4ae0-862b-5e188c9851d0",
   "metadata": {},
   "source": [
    "## **Packages**"
   ]
  },
  {
   "cell_type": "code",
   "execution_count": 1,
   "id": "b14cc46d-cc00-44ac-88a6-d03e30d3a863",
   "metadata": {},
   "outputs": [
    {
     "name": "stderr",
     "output_type": "stream",
     "text": [
      "/tmp/ipykernel_5837/1866876166.py:11: DeprecationWarning: \n",
      "Pyarrow will become a required dependency of pandas in the next major release of pandas (pandas 3.0),\n",
      "(to allow more performant data types, such as the Arrow string type, and better interoperability with other libraries)\n",
      "but was not found to be installed on your system.\n",
      "If this would cause problems for you,\n",
      "please provide us feedback at https://github.com/pandas-dev/pandas/issues/54466\n",
      "        \n",
      "  import pandas as pd\n"
     ]
    }
   ],
   "source": [
    "# packages\n",
    "from IPython.core.interactiveshell import InteractiveShell\n",
    "InteractiveShell.ast_node_interactivity = \"all\"\n",
    "from datetime import date, datetime\n",
    "from pyspark.sql.types import *\n",
    "from pyspark.sql.functions import *\n",
    "from pyspark.sql import SparkSession\n",
    "from pyspark.sql.functions import col, lit\n",
    "from hdfs import InsecureClient\n",
    "import datetime as dt\n",
    "import pandas as pd\n",
    "import matplotlib.pyplot as plt #그래프 패키지 모듈 등록\n",
    "%matplotlib inline "
   ]
  },
  {
   "cell_type": "code",
   "execution_count": 2,
   "id": "0a4618ab-d3cb-4ef3-9122-9ad8fee745b3",
   "metadata": {},
   "outputs": [],
   "source": [
    "# matplotlib 한글폰트 \n",
    "import platform\n",
    "\n",
    "from matplotlib import font_manager, rc\n",
    "plt.rcParams['axes.unicode_minus'] = False\n",
    "\n",
    "if platform.system() == 'Darwin':  # 맥OS \n",
    "    rc('font', family='AppleGothic')\n",
    "elif platform.system() == 'Windows':  # 윈도우\n",
    "    path = \"c:/Windows/Fonts/malgun.ttf\"\n",
    "    font_name = font_manager.FontProperties(fname=path).get_name()\n",
    "    rc('font', family=font_name)\n",
    "else:\n",
    "    rc('font', family='D2Coding')\n",
    "       \n",
    "# rc('font', family='NanumGothic') # 나눔폰트 사용시"
   ]
  },
  {
   "cell_type": "markdown",
   "id": "761c4668-d72e-46e4-9213-f1e26206bf53",
   "metadata": {},
   "source": [
    "## **DW에 있는 Data 사용하기 위한 Hdfs 클라이언트 객체 생성**"
   ]
  },
  {
   "cell_type": "code",
   "execution_count": 3,
   "id": "8b5f0b78-ef06-4ff3-b7a1-8cc7b1a36695",
   "metadata": {},
   "outputs": [],
   "source": [
    "client = InsecureClient('http://localhost:9870', user='root')"
   ]
  },
  {
   "cell_type": "markdown",
   "id": "7ed35366-c479-4a0a-9916-2dd010c444c3",
   "metadata": {},
   "source": [
    "## **Data 불러오기**\n",
    "- travel_data_dropped.json : 불필요한 컬럼을 제거한 raw data "
   ]
  },
  {
   "cell_type": "code",
   "execution_count": 3,
   "id": "59769ffa-63d5-4233-9713-096c4e1702ff",
   "metadata": {},
   "outputs": [
    {
     "name": "stderr",
     "output_type": "stream",
     "text": [
      "                                                                                \r"
     ]
    }
   ],
   "source": [
    "df_tmp = spark.read.json('/dw_data/travel_data_dropped.json', encoding='utf-8')"
   ]
  },
  {
   "cell_type": "code",
   "execution_count": 4,
   "id": "90a724c6-fdf0-4cad-bf8c-2665f8a7f31c",
   "metadata": {},
   "outputs": [
    {
     "name": "stdout",
     "output_type": "stream",
     "text": [
      "root\n",
      " |-- 개요: string (nullable = true)\n",
      " |-- 개장기간: string (nullable = true)\n",
      " |-- 공연시간: string (nullable = true)\n",
      " |-- 관람가능연령: string (nullable = true)\n",
      " |-- 관람소요시간: string (nullable = true)\n",
      " |-- 명칭: string (nullable = true)\n",
      " |-- 분류: string (nullable = true)\n",
      " |-- 상세정보: string (nullable = true)\n",
      " |-- 쉬는날: string (nullable = true)\n",
      " |-- 애완동물 동반 가능 여부: string (nullable = true)\n",
      " |-- 우편번호: string (nullable = true)\n",
      " |-- 유모차 대여 여부: string (nullable = true)\n",
      " |-- 이용시간: string (nullable = true)\n",
      " |-- 이용시기: string (nullable = true)\n",
      " |-- 이용요금: string (nullable = true)\n",
      " |-- 입장료: string (nullable = true)\n",
      " |-- 전화번호: string (nullable = true)\n",
      " |-- 주소: string (nullable = true)\n",
      " |-- 주차시설: string (nullable = true)\n",
      " |-- 주차요금: string (nullable = true)\n",
      " |-- 지역: string (nullable = true)\n",
      " |-- 체험가능연령: string (nullable = true)\n",
      " |-- 체험안내: string (nullable = true)\n",
      " |-- 행사시작일: long (nullable = true)\n",
      " |-- 행사종료일: long (nullable = true)\n",
      "\n"
     ]
    }
   ],
   "source": [
    "df_tmp.printSchema()"
   ]
  },
  {
   "cell_type": "markdown",
   "id": "731497d2-29a4-45b8-85f4-62a8dd673fcc",
   "metadata": {},
   "source": [
    "## **1️⃣ 동일한 컬럼 가지고 있는 데이터끼리 분류하여 '관광지 분류' 컬럼으로 생성**\n",
    "\n",
    "[관광지 분류]\n",
    "- 축제공연행사\n",
    "    - 축제\n",
    "    - 공연행사 \n",
    "- 문화시설\n",
    "    - 문화시설 \n",
    "- 레포츠\n",
    "    - 레포츠 \n",
    "- 인문관광지\n",
    "    - 휴양관광지\n",
    "    - 역사관광지\n",
    "    - 자연관광지\n",
    "    - 관광자원 "
   ]
  },
  {
   "cell_type": "code",
   "execution_count": 16,
   "id": "c374dd06-55cd-4ba3-94d8-4a84a860e7d9",
   "metadata": {},
   "outputs": [
    {
     "name": "stdout",
     "output_type": "stream",
     "text": [
      "+----------+\n",
      "|      분류|\n",
      "+----------+\n",
      "|휴양관광지|\n",
      "|    레포츠|\n",
      "|  문화시설|\n",
      "|자연관광지|\n",
      "|역사관광지|\n",
      "|      축제|\n",
      "|  공연행사|\n",
      "|  관광자원|\n",
      "+----------+\n",
      "\n"
     ]
    }
   ],
   "source": [
    "df_tmp.select(\"분류\").distinct().show()"
   ]
  },
  {
   "cell_type": "code",
   "execution_count": 17,
   "id": "d0184a54-b1ed-4ae5-8df5-b7c4008e7fa6",
   "metadata": {},
   "outputs": [],
   "source": [
    "# package\n",
    "from pyspark.sql import functions as F\n",
    "\n",
    "\n",
    "# '분류' values <-> '관광지 분류' values 매핑시키기\n",
    "def map_classification(category):\n",
    "    if category in ['축제', '공연행사']:\n",
    "        return '축제공연행사'\n",
    "    elif category == '문화시설':\n",
    "        return '문화시설'\n",
    "    elif category == '레포츠':\n",
    "        return '레포츠'\n",
    "    elif category in ['휴양관광지', '역사관광지', '자연관광지', '관광자원']:\n",
    "        return '인문관광지'\n",
    "    else:\n",
    "        return 'Unknown'\n",
    "\n",
    "mapping_udf = F.udf(map_classification)\n",
    "\n",
    "\n",
    "# 매핑된 결과 '관광지 분류'로 생성\n",
    "df_result = df_tmp.withColumn('관광지 분류', mapping_udf(df_tmp['분류']))"
   ]
  },
  {
   "cell_type": "code",
   "execution_count": 18,
   "id": "594aef04-ddcf-453f-a222-6866d8230873",
   "metadata": {},
   "outputs": [
    {
     "name": "stdout",
     "output_type": "stream",
     "text": [
      "+-----------+----------+\n",
      "|관광지 분류|      분류|\n",
      "+-----------+----------+\n",
      "| 인문관광지|휴양관광지|\n",
      "| 인문관광지|자연관광지|\n",
      "| 인문관광지|역사관광지|\n",
      "| 인문관광지|  관광자원|\n",
      "+-----------+----------+\n",
      "\n",
      "+-----------+------+\n",
      "|관광지 분류|  분류|\n",
      "+-----------+------+\n",
      "|     레포츠|레포츠|\n",
      "+-----------+------+\n",
      "\n",
      "+------------+--------+\n",
      "| 관광지 분류|    분류|\n",
      "+------------+--------+\n",
      "|축제공연행사|공연행사|\n",
      "|축제공연행사|    축제|\n",
      "+------------+--------+\n",
      "\n",
      "+-----------+--------+\n",
      "|관광지 분류|    분류|\n",
      "+-----------+--------+\n",
      "|   문화시설|문화시설|\n",
      "+-----------+--------+\n",
      "\n"
     ]
    }
   ],
   "source": [
    "# 확인\n",
    "df_result.filter(df_result['관광지 분류'] == '인문관광지').select('관광지 분류', '분류').distinct().show()\n",
    "df_result.filter(df_result['관광지 분류'] == '레포츠').select('관광지 분류', '분류').distinct().show()\n",
    "df_result.filter(df_result['관광지 분류'] == '축제공연행사').select('관광지 분류', '분류').distinct().show()\n",
    "df_result.filter(df_result['관광지 분류'] == '문화시설').select('관광지 분류', '분류').distinct().show()"
   ]
  },
  {
   "cell_type": "markdown",
   "id": "5868dac4-1639-4acb-9e80-d6f20ddbe271",
   "metadata": {},
   "source": [
    "## **2️⃣ '축제공연행사' : 날짜 지난 관광지 제거**\n",
    "- '행사종료일' 기준으로 서비스 출시일 2월8일 이전에 종료되는 데이터 제거\n",
    "- '행사종료일' = LongType (=Represents 8-byte signed integer numbers)"
   ]
  },
  {
   "cell_type": "code",
   "execution_count": 19,
   "id": "b453283a-60d5-41b0-bf13-ac603fd96d46",
   "metadata": {},
   "outputs": [],
   "source": [
    "# 20240208 이후 데이터만 저장 \n",
    "df_filtered = df_result.filter(df_result.행사종료일 >= 20240208)"
   ]
  },
  {
   "cell_type": "code",
   "execution_count": 20,
   "id": "53958b3f-3e28-4779-9ee6-29e4eac83ecc",
   "metadata": {},
   "outputs": [
    {
     "name": "stdout",
     "output_type": "stream",
     "text": [
      "제거하고 남은 데이터 개수:  36\n"
     ]
    },
    {
     "data": {
      "text/plain": [
       "0"
      ]
     },
     "execution_count": 20,
     "metadata": {},
     "output_type": "execute_result"
    },
    {
     "name": "stdout",
     "output_type": "stream",
     "text": [
      "+----------+\n",
      "|행사종료일|\n",
      "+----------+\n",
      "|  20241222|\n",
      "|  20240331|\n",
      "|  20240229|\n",
      "|  20240324|\n",
      "|  20240228|\n",
      "|  20241205|\n",
      "|  20240721|\n",
      "|  20241231|\n",
      "|  20240225|\n",
      "|  20240505|\n",
      "|  20241207|\n",
      "|  20240317|\n",
      "|  20240303|\n",
      "|  20240720|\n",
      "|  20240226|\n",
      "|  20240218|\n",
      "|  20240901|\n",
      "|  20240509|\n",
      "|  20240212|\n",
      "|  20240413|\n",
      "+----------+\n",
      "only showing top 20 rows\n",
      "\n"
     ]
    }
   ],
   "source": [
    "# 확인\n",
    "\n",
    "## 제거하고 남은 데이터 개수 확인 \n",
    "print('제거하고 남은 데이터 개수: ', df_filtered.count())\n",
    "\n",
    "## 행사종료일이 '2023'으로 시작하는 데이터 (null 나와야 함)\n",
    "df_filtered.select('행사종료일').filter(df_filtered.행사종료일.like('2023%')).count()\n",
    "\n",
    "## 행사종료일이 '2024'으로 시작하는 데이터 (0208 이후 데이터만 포함되어야 함)\n",
    "df_filtered.select('행사종료일').filter(df_filtered.행사종료일.like('2024%')).distinct().show()"
   ]
  },
  {
   "cell_type": "code",
   "execution_count": 21,
   "id": "f5a4e3ef-9570-4813-aad4-c16347b53366",
   "metadata": {},
   "outputs": [],
   "source": [
    "# 원본데이터의 '축제공연행사' 데이터 중 위 df_filtered(0208 이후 데이터) 만 남기기\n",
    "\n",
    "## merge 할 때 구분하기 위해 새로운 컬럼 생성 \n",
    "df_fest = df_filtered.withColumn(\"구분\", lit(\"yes\"))\n",
    "df_result_new = df_result.withColumn(\"구분\", lit(None))\n",
    "\n",
    "## 두 데이터 합치기\n",
    "merged_df = df_result_new.union(df_fest)\n",
    "\n",
    "## 합친 데이터에서 \"구분\" 컬럼 None 행 제거\n",
    "filtered_df = merged_df.filter(\n",
    "    (merged_df['관광지 분류'] != \"축제공연행사\") | (merged_df['구분'].isNotNull()))\n",
    "\n",
    "## \"구분\" 컬럼 drop\n",
    "df_fin = filtered_df.drop(\"구분\")"
   ]
  },
  {
   "cell_type": "code",
   "execution_count": 22,
   "id": "8312b70f-eac1-4166-a79f-0a39d43872e8",
   "metadata": {},
   "outputs": [
    {
     "name": "stdout",
     "output_type": "stream",
     "text": [
      "데이터 개수:  3646\n",
      "+----------+\n",
      "|행사종료일|\n",
      "+----------+\n",
      "|  20241222|\n",
      "|  20240331|\n",
      "|  20240229|\n",
      "|  20240324|\n",
      "|  20240228|\n",
      "|  20241205|\n",
      "|  20240721|\n",
      "|  20241231|\n",
      "|  20240225|\n",
      "|  20240505|\n",
      "|  20241207|\n",
      "|  20240317|\n",
      "|  20240303|\n",
      "|  20240720|\n",
      "|  20240226|\n",
      "|  20240218|\n",
      "|  20240901|\n",
      "|  20240509|\n",
      "|  20240212|\n",
      "|  20240413|\n",
      "+----------+\n",
      "only showing top 20 rows\n",
      "\n"
     ]
    }
   ],
   "source": [
    "# 확인\n",
    "\n",
    "## 데이터 개수 확인 \n",
    "print('데이터 개수: ', df_fin.count())\n",
    "\n",
    "## 행사종료일이 '2024'으로 시작하는 데이터 (0208 이후 데이터만 포함되어야 함)\n",
    "df_fin.select('행사종료일').filter(df_fin.행사종료일.like('2024%')).distinct().show()"
   ]
  },
  {
   "cell_type": "markdown",
   "id": "8f006969-95d6-4323-98b5-7bca47804877",
   "metadata": {},
   "source": [
    "## **3️⃣ 필터링 기능에 포함시킬 컬럼 전처리**\n",
    "- 요금정보 ['이용요금', '입장료', '상세정보'] : 유료/무료 형태로\n",
    "- 유모차 대여 여부 ['유모차 대여 여부'] : 없음/불가/가능\n",
    "- 애완동물 동반 가능 여부 ['애완동물 동반 가능 여부'] : 없음/불가/가능"
   ]
  },
  {
   "cell_type": "markdown",
   "id": "80270358-05cc-400d-ba2e-ffd9f0fb1c10",
   "metadata": {},
   "source": [
    "### 📍 요금정보 ['이용요금', '입장료', '상세정보'] : 유료/무료 형태로\n",
    "- '유/무료 여부' 컬럼 새로 생성"
   ]
  },
  {
   "cell_type": "code",
   "execution_count": 13,
   "id": "7edbcd76-af0e-43d3-8dc0-159163a9e41e",
   "metadata": {},
   "outputs": [],
   "source": [
    "# # '유/무료 여부' 컬럼을 생성하고, 모든 행을 'X'로 초기화\n",
    "# df_fin = df_fin.withColumn('유/무료 여부', lit('X'))"
   ]
  },
  {
   "cell_type": "code",
   "execution_count": 15,
   "id": "9e38d7d9-b86f-477c-b7e4-297d6d2c1833",
   "metadata": {},
   "outputs": [],
   "source": [
    "# ### 1. 관광지 분류 == '레포츠'\n",
    "# from pyspark.sql.functions import coalesce\n",
    "\n",
    "# # '결제정보' 컬럼 생성\n",
    "# df_fin = df_fin.withColumn('결제정보', when(col('관광지 분류') == '레포츠', concat_ws(' ', coalesce(col('이용요금').cast('string'), ''), coalesce(col('상세정보'), ''))).otherwise(col('결제정보')))\n",
    "\n",
    "# # '무료' 및 '유료' 여부 확인\n",
    "# keywords = ['무료', r'\\d+천원', r'\\d+원']\n",
    "# filtered_rows = expr(\"rlike(결제정보, '{}') AND NOT (rlike(결제정보, '{}') OR rlike(결제정보, '{}'))\".format('|'.join(keywords), r'\\d+천원', r'\\d+원'))\n",
    "\n",
    "# paid_kw = [r'\\d+천원', r'\\d+원']\n",
    "# paid_rows = expr(\"rlike(결제정보, '{}') OR rlike(결제정보, '{}')\".format(*paid_kw))\n",
    "\n",
    "\n",
    "\n",
    "# # '유/무료 여부' 컬럼 생성\n",
    "# df_fin = df_fin.withColumn('유/무료 여부', when((col('관광지 분류') == '레포츠') & filtered_rows, '무료')\n",
    "#                                 .when((col('관광지 분류') == '레포츠') & paid_rows, '유료')\n",
    "#                                 .otherwise('알 수 없음'))\n",
    "# # '결제정보' 컬럼 제거\n",
    "# df_fin = df_fin.drop('결제정보')\n",
    "\n",
    "# # 결과 표시\n",
    "# df_fin.select('유/무료 여부').show()"
   ]
  },
  {
   "cell_type": "code",
   "execution_count": null,
   "id": "4a32c923-4517-494a-b563-a792f87c37c5",
   "metadata": {},
   "outputs": [],
   "source": [
    "# ### 2. 관광지분류 == '인문관광지'\n",
    "\n",
    "# filtered_rows = col('관광지 분류') == '인문관광지'\n",
    "\n",
    "# # '무료'에 해당하는 키워드\n",
    "# free_keywords = ['입 장 료:없음', '입 장 료:무료', '시설이용료:없음', '시설이용료:무료', '입장료 무료', '입장료 없음']\n",
    "\n",
    "# # '유료'에 해당하는 키워드\n",
    "# paid_keywords = [r'\\d+천원', r'\\d+원']\n",
    "\n",
    "# # '유/무료 여부' 컬럼 설정\n",
    "# df_fin = df_fin.withColumn('유/무료 여부',\n",
    "#                           when(filtered_rows & col('상세정보').isNotNull() & col('상세정보').rlike('|'.join(free_keywords)), '무료')\n",
    "#                           .when(filtered_rows & col('상세정보').isNotNull() & col('상세정보').rlike('|'.join(paid_keywords)), '유료')\n",
    "#                           .otherwise('알 수 없음'))"
   ]
  },
  {
   "cell_type": "code",
   "execution_count": null,
   "id": "7551369e-6738-43c1-9973-b0c368261348",
   "metadata": {},
   "outputs": [],
   "source": [
    "# ### 3. 관광지분류 == '문화시설', '축제공연행사'\n",
    "\n",
    "# # '문화시설' 및 '축제공연행사'에 해당하는 행 필터링\n",
    "# filtered_rows = (col('관광지 분류').isin('문화시설', '축제공연행사'))\n",
    "\n",
    "# # '무료'에 해당하는 키워드\n",
    "# free_keywords = ['무료', '이용요금 없음']\n",
    "\n",
    "# # '유료'에 해당하는 키워드\n",
    "# paid_keywords = [r'\\d+천원', r'\\d+원', '유료']\n",
    "\n",
    "# # '유/무료 여부' 컬럼 설정\n",
    "# df_fin = df_fin.withColumn('유/무료 여부', \n",
    "#                           when(filtered_rows & col('이용요금').rlike('|'.join(free_keywords)), '무료')\n",
    "#                           .when(filtered_rows & col('이용요금').rlike('|'.join(paid_keywords)), '유료')\n",
    "#                           .otherwise('알 수 없음'))"
   ]
  },
  {
   "cell_type": "markdown",
   "id": "899e2a6d-f450-4c9d-b823-1cf9f2e3ff40",
   "metadata": {},
   "source": [
    "### 📍 유모차 대여 여부 ['유모차 대여 여부'] : 없음/불가/가능"
   ]
  },
  {
   "cell_type": "code",
   "execution_count": 23,
   "id": "65d3ace1-a7d7-47c2-985f-920a0bd36155",
   "metadata": {},
   "outputs": [
    {
     "name": "stdout",
     "output_type": "stream",
     "text": [
      "+----------------+\n",
      "|유모차 대여 여부|\n",
      "+----------------+\n",
      "|            null|\n",
      "|            없음|\n",
      "|            불가|\n",
      "|            가능|\n",
      "+----------------+\n",
      "\n"
     ]
    }
   ],
   "source": [
    "# 원본 데이터 값 확인\n",
    "df_fin.select('유모차 대여 여부').distinct().show()"
   ]
  },
  {
   "cell_type": "code",
   "execution_count": 24,
   "id": "6e7a55b7-1d23-456d-bb41-f1b9b02d87b1",
   "metadata": {},
   "outputs": [],
   "source": [
    "# Transform\n",
    "df_fin_replaced = df_fin.withColumn(\"유모차 대여 여부\", \n",
    "                                    when((df_fin[\"유모차 대여 여부\"].isNull()) | \n",
    "                                         (df_fin[\"유모차 대여 여부\"] == \"없음\"), \"불가\")\n",
    "                                    .otherwise(df_fin[\"유모차 대여 여부\"]))"
   ]
  },
  {
   "cell_type": "code",
   "execution_count": 25,
   "id": "74cc8795-11e4-4451-b95f-2f0d6a6a21d0",
   "metadata": {},
   "outputs": [
    {
     "name": "stdout",
     "output_type": "stream",
     "text": [
      "+----------------+\n",
      "|유모차 대여 여부|\n",
      "+----------------+\n",
      "|            불가|\n",
      "|            가능|\n",
      "+----------------+\n",
      "\n"
     ]
    },
    {
     "data": {
      "text/plain": [
       "유모차 대여 여부\n",
       "없음      2792\n",
       "None     539\n",
       "불가       248\n",
       "가능        67\n",
       "Name: count, dtype: int64"
      ]
     },
     "execution_count": 25,
     "metadata": {},
     "output_type": "execute_result"
    },
    {
     "data": {
      "text/plain": [
       "유모차 대여 여부\n",
       "불가    3579\n",
       "가능      67\n",
       "Name: count, dtype: int64"
      ]
     },
     "execution_count": 25,
     "metadata": {},
     "output_type": "execute_result"
    }
   ],
   "source": [
    "# 확인\n",
    "\n",
    "## 불가, 가능으로 구성되어졌는지\n",
    "df_fin_replaced.select('유모차 대여 여부').distinct().show()\n",
    "\n",
    "## 갯수 맞게 들어갔는지 \n",
    "### origin ver\n",
    "tmp = df_fin.toPandas()\n",
    "tmp['유모차 대여 여부'].value_counts(dropna=False)\n",
    "### replaced ver\n",
    "fin = df_fin_replaced.toPandas()\n",
    "fin['유모차 대여 여부'].value_counts(dropna=False)"
   ]
  },
  {
   "cell_type": "markdown",
   "id": "bf8f373e-1862-4621-bac7-f380c6b0a51d",
   "metadata": {},
   "source": [
    "### 📍 애완동물 동반 가능 여부 ['애완동물 동반 가능 여부'] : 없음/불가/가능"
   ]
  },
  {
   "cell_type": "code",
   "execution_count": 26,
   "id": "5056ca06-e23b-403f-9f06-bbffc98fa7e8",
   "metadata": {},
   "outputs": [
    {
     "name": "stdout",
     "output_type": "stream",
     "text": [
      "+-----------------------+\n",
      "|애완동물 동반 가능 여부|\n",
      "+-----------------------+\n",
      "|                   null|\n",
      "|                   없음|\n",
      "|                   불가|\n",
      "|                   가능|\n",
      "+-----------------------+\n",
      "\n"
     ]
    }
   ],
   "source": [
    "# 원본 데이터 값 확인\n",
    "df_fin_replaced.select('애완동물 동반 가능 여부').distinct().show()"
   ]
  },
  {
   "cell_type": "code",
   "execution_count": 27,
   "id": "ff1a958d-49b0-470e-99ba-5ab7421dac3d",
   "metadata": {},
   "outputs": [],
   "source": [
    "# Transform\n",
    "df_replaced = df_fin_replaced.withColumn(\"애완동물 동반 가능 여부\", \n",
    "                                    when((df_fin[\"애완동물 동반 가능 여부\"].isNull()) | \n",
    "                                         (df_fin[\"애완동물 동반 가능 여부\"] == \"없음\"), \"불가\")\n",
    "                                    .otherwise(df_fin[\"애완동물 동반 가능 여부\"]))"
   ]
  },
  {
   "cell_type": "code",
   "execution_count": 28,
   "id": "4f83000d-6652-4ce8-b704-ae5dcf9c2444",
   "metadata": {},
   "outputs": [
    {
     "name": "stdout",
     "output_type": "stream",
     "text": [
      "+-----------------------+\n",
      "|애완동물 동반 가능 여부|\n",
      "+-----------------------+\n",
      "|                   불가|\n",
      "|                   가능|\n",
      "+-----------------------+\n",
      "\n"
     ]
    },
    {
     "data": {
      "text/plain": [
       "애완동물 동반 가능 여부\n",
       "불가      1416\n",
       "없음      1133\n",
       "가능       650\n",
       "None     447\n",
       "Name: count, dtype: int64"
      ]
     },
     "execution_count": 28,
     "metadata": {},
     "output_type": "execute_result"
    },
    {
     "data": {
      "text/plain": [
       "애완동물 동반 가능 여부\n",
       "불가    2996\n",
       "가능     650\n",
       "Name: count, dtype: int64"
      ]
     },
     "execution_count": 28,
     "metadata": {},
     "output_type": "execute_result"
    }
   ],
   "source": [
    "# 확인\n",
    "\n",
    "## 불가, 가능으로 구성되어졌는지\n",
    "df_replaced.select('애완동물 동반 가능 여부').distinct().show()\n",
    "\n",
    "## 갯수 맞게 들어갔는지 \n",
    "### origin ver\n",
    "tmp = df_fin.toPandas()\n",
    "tmp['애완동물 동반 가능 여부'].value_counts(dropna=False)\n",
    "### replaced ver\n",
    "fin = df_replaced.toPandas()\n",
    "fin['애완동물 동반 가능 여부'].value_counts(dropna=False)"
   ]
  },
  {
   "cell_type": "markdown",
   "id": "2df23cac-35c5-4371-878d-d791e665dca5",
   "metadata": {},
   "source": [
    "## **4️⃣ \b관람/체험 연령 관련 컬럼 전처리**\n",
    "\n",
    "(총 데이터 갯수 3648)\n",
    "- [축제공연행사] 관람가능연령 : 7개 데이터\n",
    "- [레포츠]\n",
    "    - 체험가능연령 : 767데이터, 그 중 70%가 예약 관련 정보로 들어가 있음\n",
    "    - 주차시설 : 연령 관련 정보가 여기 들어가 있는데 63개 데이터\n",
    "- [인문관광지] 체험가능연령 : 177개 데이터\n",
    "\n",
    "➡️ 관람가능연령, 체험가능연령 컬럼 제거 <br/>\n",
    "➡️ 주차시설에 연령 관련 정보 데이터 Null 처리"
   ]
  },
  {
   "cell_type": "code",
   "execution_count": 29,
   "id": "e4fcb046-e295-4f18-973e-c796b42d2851",
   "metadata": {},
   "outputs": [],
   "source": [
    "# \"관람가능연령\", \"체험가능연령\" 컬럼 drop\n",
    "df_dropped = df_replaced.drop(\"관람가능연령\", \"체험가능연령\")"
   ]
  },
  {
   "cell_type": "code",
   "execution_count": 30,
   "id": "c4265812-42fd-4f38-8762-e36b22a1aee5",
   "metadata": {},
   "outputs": [],
   "source": [
    "# \"관광지 분류\"가 '레포츠' 인 데이터 중 \"주차시설\"인 컬럼 Null 값으로 바꾸기 \n",
    "result_df = df_dropped.withColumn(\n",
    "    \"주차시설\",\n",
    "    when(col(\"관광지 분류\") == \"레포츠\", lit(None)).otherwise(col(\"주차시설\"))\n",
    ")"
   ]
  },
  {
   "cell_type": "code",
   "execution_count": 31,
   "id": "240c849f-4811-41d8-826a-4d16b0f71ce0",
   "metadata": {},
   "outputs": [
    {
     "name": "stdout",
     "output_type": "stream",
     "text": [
      "root\n",
      " |-- 개요: string (nullable = true)\n",
      " |-- 개장기간: string (nullable = true)\n",
      " |-- 공연시간: string (nullable = true)\n",
      " |-- 관람소요시간: string (nullable = true)\n",
      " |-- 명칭: string (nullable = true)\n",
      " |-- 분류: string (nullable = true)\n",
      " |-- 상세정보: string (nullable = true)\n",
      " |-- 쉬는날: string (nullable = true)\n",
      " |-- 애완동물 동반 가능 여부: string (nullable = true)\n",
      " |-- 우편번호: string (nullable = true)\n",
      " |-- 유모차 대여 여부: string (nullable = true)\n",
      " |-- 이용시간: string (nullable = true)\n",
      " |-- 이용시기: string (nullable = true)\n",
      " |-- 이용요금: string (nullable = true)\n",
      " |-- 입장료: string (nullable = true)\n",
      " |-- 전화번호: string (nullable = true)\n",
      " |-- 주소: string (nullable = true)\n",
      " |-- 주차시설: string (nullable = true)\n",
      " |-- 주차요금: string (nullable = true)\n",
      " |-- 지역: string (nullable = true)\n",
      " |-- 체험안내: string (nullable = true)\n",
      " |-- 행사시작일: long (nullable = true)\n",
      " |-- 행사종료일: long (nullable = true)\n",
      " |-- 관광지 분류: string (nullable = true)\n",
      "\n"
     ]
    }
   ],
   "source": [
    "# 확인\n",
    "\n",
    "## Schema 확인 (\"주차시설\" 유지, \"관람가능연령\"&\"체험가능연령\" 삭제)\n",
    "result_df.printSchema()"
   ]
  },
  {
   "cell_type": "code",
   "execution_count": 32,
   "id": "6f4cb28e-f194-4a45-83a5-dbadecd25cf2",
   "metadata": {},
   "outputs": [
    {
     "name": "stdout",
     "output_type": "stream",
     "text": [
      "origin 레포츠 주차시설 데이터 갯수:  63\n",
      "replaced 레포츠 주차시설 데이터 갯수:  0\n",
      "전처리 한 주차시설 데이터 확인: \n"
     ]
    },
    {
     "data": {
      "text/plain": [
       "주차시설\n",
       "None                                                                           1615\n",
       "있음                                                                              378\n",
       "가능                                                                              227\n",
       "가능<br>요금(무료)                                                                    165\n",
       "주차가능                                                                            154\n",
       "                                                                               ... \n",
       "가능(300대 가능)<br>요금(무료)                                                             1\n",
       "가능(국청사 주차장 / 산성로터리 주차장)<br>요금(무료(국청사 무료 / 산성로터리 주차장 평일 3,000원 / 주말 5,000원))       1\n",
       "가능 (시민체육공원 10대)                                                                   1\n",
       "주차불가(별도 주차공간 없음)                                                                  1\n",
       "가능(신흥제3공영주차장)<br>요금(최초 30분 400원(초과 10분당 200원) 1일 최대 6,000원)                       1\n",
       "Name: count, Length: 699, dtype: int64"
      ]
     },
     "execution_count": 32,
     "metadata": {},
     "output_type": "execute_result"
    }
   ],
   "source": [
    "## 갯수 맞게 들어갔는지 \n",
    "### origin ver\n",
    "origin = df_replaced.toPandas()\n",
    "tmp = origin[origin['관광지 분류'] == '레포츠']\n",
    "print('origin 레포츠 주차시설 데이터 갯수: ', tmp['주차시설'].count())\n",
    "\n",
    "### replaced ver\n",
    "result = result_df.toPandas()\n",
    "tmp2 = result[result['관광지 분류'] == '레포츠']\n",
    "print('replaced 레포츠 주차시설 데이터 갯수: ', tmp2['주차시설'].count())\n",
    "print('전처리 한 주차시설 데이터 확인: ')\n",
    "result['주차시설'].value_counts(dropna=False)"
   ]
  },
  {
   "cell_type": "markdown",
   "id": "7d8f0185-cfb5-4136-a029-030a49d0706a",
   "metadata": {},
   "source": [
    "## **5️⃣ 명칭 컬럼 Null 데이터 제거**"
   ]
  },
  {
   "cell_type": "code",
   "execution_count": 35,
   "id": "9be47175-d271-4084-af34-1702cb0d9b07",
   "metadata": {},
   "outputs": [
    {
     "name": "stdout",
     "output_type": "stream",
     "text": [
      "root\n",
      " |-- 개요: string (nullable = true)\n",
      " |-- 개장기간: string (nullable = true)\n",
      " |-- 공연시간: string (nullable = true)\n",
      " |-- 관람소요시간: string (nullable = true)\n",
      " |-- 명칭: string (nullable = true)\n",
      " |-- 분류: string (nullable = true)\n",
      " |-- 상세정보: string (nullable = true)\n",
      " |-- 쉬는날: string (nullable = true)\n",
      " |-- 애완동물 동반 가능 여부: string (nullable = true)\n",
      " |-- 우편번호: string (nullable = true)\n",
      " |-- 유모차 대여 여부: string (nullable = true)\n",
      " |-- 이용시간: string (nullable = true)\n",
      " |-- 이용시기: string (nullable = true)\n",
      " |-- 이용요금: string (nullable = true)\n",
      " |-- 입장료: string (nullable = true)\n",
      " |-- 전화번호: string (nullable = true)\n",
      " |-- 주소: string (nullable = true)\n",
      " |-- 주차시설: string (nullable = true)\n",
      " |-- 주차요금: string (nullable = true)\n",
      " |-- 지역: string (nullable = true)\n",
      " |-- 체험안내: string (nullable = true)\n",
      " |-- 행사시작일: long (nullable = true)\n",
      " |-- 행사종료일: long (nullable = true)\n",
      " |-- 관광지 분류: string (nullable = true)\n",
      "\n"
     ]
    }
   ],
   "source": [
    "result_df.printSchema()"
   ]
  },
  {
   "cell_type": "code",
   "execution_count": 36,
   "id": "7348f7dc-657c-4c34-baf1-ef35d4cd1f94",
   "metadata": {},
   "outputs": [],
   "source": [
    "result_dropped = result_df.dropna(subset=[\"명칭\"])"
   ]
  },
  {
   "cell_type": "markdown",
   "id": "01737435-f2da-42fc-9ef8-d855404bef6b",
   "metadata": {},
   "source": [
    "## **파일 저장**"
   ]
  },
  {
   "cell_type": "code",
   "execution_count": 40,
   "id": "2babbd8f-75c9-46b0-9c6b-a6b8d1844ea1",
   "metadata": {},
   "outputs": [],
   "source": [
    "# result_dropped.coalesce(1).write.format('json').save('/dw_data/travel_data_preprocessed_tmp.json')"
   ]
  }
 ],
 "metadata": {
  "kernelspec": {
   "display_name": "Python 3 (ipykernel)",
   "language": "python",
   "name": "python3"
  },
  "language_info": {
   "codemirror_mode": {
    "name": "ipython",
    "version": 3
   },
   "file_extension": ".py",
   "mimetype": "text/x-python",
   "name": "python",
   "nbconvert_exporter": "python",
   "pygments_lexer": "ipython3",
   "version": "3.10.12"
  }
 },
 "nbformat": 4,
 "nbformat_minor": 5
}
