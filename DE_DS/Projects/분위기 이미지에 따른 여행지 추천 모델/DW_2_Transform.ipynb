{
 "cells": [
  {
   "cell_type": "markdown",
   "id": "9bfacf37-3d65-4191-9653-991ac791b7d4",
   "metadata": {},
   "source": [
    "# DataWarehouse Data Transform 2️⃣\n",
    "- 동일한 컬럼 가지고 있는 데이터끼리 분류하여 '관광지 분류' 컬럼으로 생성  \n",
    "- 축제행사, 공연 : 날짜 지난 관광지 제거\n",
    "- 필터링 기능에 포함시킬 컬럼 전처리\n",
    "  - 요금정보 ['이용요금', '입장료', '상세정보'] : 유료/무료 형태로\n",
    "  - 유모차 대여 여부 ['유모차 대여 여부'] : 없음/불가/가능\n",
    "  - 애완동물 동반 가능 여부 ['애완동물 동반 가능 여부'] : 없음/불가/가능\n",
    "  - 지역 ['지역'] : 경기도/서울/인천"
   ]
  },
  {
   "cell_type": "markdown",
   "id": "87e37496-b310-4ae0-862b-5e188c9851d0",
   "metadata": {},
   "source": [
    "### Packages"
   ]
  },
  {
   "cell_type": "code",
   "execution_count": 1,
   "id": "b14cc46d-cc00-44ac-88a6-d03e30d3a863",
   "metadata": {},
   "outputs": [
    {
     "name": "stderr",
     "output_type": "stream",
     "text": [
      "/tmp/ipykernel_40300/1866876166.py:11: DeprecationWarning: \n",
      "Pyarrow will become a required dependency of pandas in the next major release of pandas (pandas 3.0),\n",
      "(to allow more performant data types, such as the Arrow string type, and better interoperability with other libraries)\n",
      "but was not found to be installed on your system.\n",
      "If this would cause problems for you,\n",
      "please provide us feedback at https://github.com/pandas-dev/pandas/issues/54466\n",
      "        \n",
      "  import pandas as pd\n"
     ]
    }
   ],
   "source": [
    "# packages\n",
    "from IPython.core.interactiveshell import InteractiveShell\n",
    "InteractiveShell.ast_node_interactivity = \"all\"\n",
    "from datetime import date, datetime\n",
    "from pyspark.sql.types import *\n",
    "from pyspark.sql.functions import *\n",
    "from pyspark.sql import SparkSession\n",
    "from pyspark.sql.functions import col, lit\n",
    "from hdfs import InsecureClient\n",
    "import datetime as dt\n",
    "import pandas as pd\n",
    "import matplotlib.pyplot as plt #그래프 패키지 모듈 등록\n",
    "%matplotlib inline "
   ]
  },
  {
   "cell_type": "code",
   "execution_count": 2,
   "id": "0a4618ab-d3cb-4ef3-9122-9ad8fee745b3",
   "metadata": {},
   "outputs": [],
   "source": [
    "# matplotlib 한글폰트 \n",
    "import platform\n",
    "\n",
    "from matplotlib import font_manager, rc\n",
    "plt.rcParams['axes.unicode_minus'] = False\n",
    "\n",
    "if platform.system() == 'Darwin':  # 맥OS \n",
    "    rc('font', family='AppleGothic')\n",
    "elif platform.system() == 'Windows':  # 윈도우\n",
    "    path = \"c:/Windows/Fonts/malgun.ttf\"\n",
    "    font_name = font_manager.FontProperties(fname=path).get_name()\n",
    "    rc('font', family=font_name)\n",
    "else:\n",
    "    rc('font', family='D2Coding')\n",
    "       \n",
    "# rc('font', family='NanumGothic') # 나눔폰트 사용시"
   ]
  },
  {
   "cell_type": "markdown",
   "id": "761c4668-d72e-46e4-9213-f1e26206bf53",
   "metadata": {},
   "source": [
    "### DW에 있는 Data 사용하기 위한 Hdfs 클라이언트 객체 생성"
   ]
  },
  {
   "cell_type": "code",
   "execution_count": 3,
   "id": "8b5f0b78-ef06-4ff3-b7a1-8cc7b1a36695",
   "metadata": {},
   "outputs": [],
   "source": [
    "client = InsecureClient('http://localhost:9870', user='root')"
   ]
  },
  {
   "cell_type": "markdown",
   "id": "7ed35366-c479-4a0a-9916-2dd010c444c3",
   "metadata": {},
   "source": [
    "### Data 불러오기\n",
    "- travel_data_dropped.json : 불필요한 컬럼을 제거한 raw data "
   ]
  },
  {
   "cell_type": "code",
   "execution_count": 4,
   "id": "59769ffa-63d5-4233-9713-096c4e1702ff",
   "metadata": {},
   "outputs": [
    {
     "name": "stderr",
     "output_type": "stream",
     "text": [
      "                                                                                \r"
     ]
    }
   ],
   "source": [
    "df_tmp = spark.read.json('/dw_data/travel_data_dropped.json', encoding='utf-8')"
   ]
  },
  {
   "cell_type": "code",
   "execution_count": 5,
   "id": "90a724c6-fdf0-4cad-bf8c-2665f8a7f31c",
   "metadata": {},
   "outputs": [
    {
     "name": "stdout",
     "output_type": "stream",
     "text": [
      "root\n",
      " |-- 개요: string (nullable = true)\n",
      " |-- 개장기간: string (nullable = true)\n",
      " |-- 공연시간: string (nullable = true)\n",
      " |-- 관람가능연령: string (nullable = true)\n",
      " |-- 관람소요시간: string (nullable = true)\n",
      " |-- 명칭: string (nullable = true)\n",
      " |-- 분류: string (nullable = true)\n",
      " |-- 상세정보: string (nullable = true)\n",
      " |-- 쉬는날: string (nullable = true)\n",
      " |-- 애완동물 동반 가능 여부: string (nullable = true)\n",
      " |-- 우편번호: string (nullable = true)\n",
      " |-- 유모차 대여 여부: string (nullable = true)\n",
      " |-- 이용시간: string (nullable = true)\n",
      " |-- 이용시기: string (nullable = true)\n",
      " |-- 이용요금: string (nullable = true)\n",
      " |-- 입장료: string (nullable = true)\n",
      " |-- 전화번호: string (nullable = true)\n",
      " |-- 주소: string (nullable = true)\n",
      " |-- 주차시설: string (nullable = true)\n",
      " |-- 주차요금: string (nullable = true)\n",
      " |-- 지역: string (nullable = true)\n",
      " |-- 체험가능연령: string (nullable = true)\n",
      " |-- 체험안내: string (nullable = true)\n",
      " |-- 행사시작일: long (nullable = true)\n",
      " |-- 행사종료일: long (nullable = true)\n",
      "\n"
     ]
    }
   ],
   "source": [
    "df_tmp.printSchema()"
   ]
  },
  {
   "cell_type": "markdown",
   "id": "731497d2-29a4-45b8-85f4-62a8dd673fcc",
   "metadata": {},
   "source": [
    "### 동일한 컬럼 가지고 있는 데이터끼리 분류하여 '관광지 분류' 컬럼으로 생성\n",
    "\n",
    "[관광지 분류]\n",
    "- 축제공연행사\n",
    "    - 축제\n",
    "    - 공연행사 \n",
    "- 문화시설\n",
    "    - 문화시설 \n",
    "- 레포츠\n",
    "    - 레포츠 \n",
    "- 인문관광지\n",
    "    - 휴양관광지\n",
    "    - 역사관광지\n",
    "    - 자연관광지\n",
    "    - 관광자원 "
   ]
  },
  {
   "cell_type": "code",
   "execution_count": 11,
   "id": "c374dd06-55cd-4ba3-94d8-4a84a860e7d9",
   "metadata": {},
   "outputs": [
    {
     "name": "stdout",
     "output_type": "stream",
     "text": [
      "+----------+\n",
      "|      분류|\n",
      "+----------+\n",
      "|휴양관광지|\n",
      "|    레포츠|\n",
      "|  문화시설|\n",
      "|자연관광지|\n",
      "|역사관광지|\n",
      "|      축제|\n",
      "|  공연행사|\n",
      "|  관광자원|\n",
      "+----------+\n",
      "\n"
     ]
    }
   ],
   "source": [
    "df_tmp.select(\"분류\").distinct().show()"
   ]
  },
  {
   "cell_type": "code",
   "execution_count": 13,
   "id": "d0184a54-b1ed-4ae5-8df5-b7c4008e7fa6",
   "metadata": {},
   "outputs": [],
   "source": [
    "# package\n",
    "from pyspark.sql import functions as F\n",
    "\n",
    "\n",
    "# '분류' values <-> '관광지 분류' values 매핑시키기\n",
    "def map_classification(category):\n",
    "    if category in ['축제', '공연행사']:\n",
    "        return '축제공연행사'\n",
    "    elif category == '문화시설':\n",
    "        return '문화시설'\n",
    "    elif category == '레포츠':\n",
    "        return '레포츠'\n",
    "    elif category in ['휴양관광지', '역사관광지', '자연관광지', '관광자원']:\n",
    "        return '인문관광지'\n",
    "    else:\n",
    "        return 'Unknown'\n",
    "\n",
    "mapping_udf = F.udf(map_classification)\n",
    "\n",
    "\n",
    "# 매핑된 결과 '관광지 분류'로 생성\n",
    "df_result = df_tmp.withColumn('관광지 분류', mapping_udf(df_tmp['분류']))"
   ]
  },
  {
   "cell_type": "code",
   "execution_count": 19,
   "id": "594aef04-ddcf-453f-a222-6866d8230873",
   "metadata": {},
   "outputs": [
    {
     "name": "stdout",
     "output_type": "stream",
     "text": [
      "+-----------+----------+\n",
      "|관광지 분류|      분류|\n",
      "+-----------+----------+\n",
      "| 인문관광지|휴양관광지|\n",
      "| 인문관광지|자연관광지|\n",
      "| 인문관광지|역사관광지|\n",
      "| 인문관광지|  관광자원|\n",
      "+-----------+----------+\n",
      "\n",
      "+-----------+------+\n",
      "|관광지 분류|  분류|\n",
      "+-----------+------+\n",
      "|     레포츠|레포츠|\n",
      "+-----------+------+\n",
      "\n",
      "+------------+--------+\n",
      "| 관광지 분류|    분류|\n",
      "+------------+--------+\n",
      "|축제공연행사|공연행사|\n",
      "|축제공연행사|    축제|\n",
      "+------------+--------+\n",
      "\n",
      "+-----------+--------+\n",
      "|관광지 분류|    분류|\n",
      "+-----------+--------+\n",
      "|   문화시설|문화시설|\n",
      "+-----------+--------+\n",
      "\n"
     ]
    }
   ],
   "source": [
    "# 확인\n",
    "df_result.filter(df_result['관광지 분류'] == '인문관광지').select('관광지 분류', '분류').distinct().show()\n",
    "df_result.filter(df_result['관광지 분류'] == '레포츠').select('관광지 분류', '분류').distinct().show()\n",
    "df_result.filter(df_result['관광지 분류'] == '축제공연행사').select('관광지 분류', '분류').distinct().show()\n",
    "df_result.filter(df_result['관광지 분류'] == '문화시설').select('관광지 분류', '분류').distinct().show()"
   ]
  },
  {
   "cell_type": "markdown",
   "id": "5868dac4-1639-4acb-9e80-d6f20ddbe271",
   "metadata": {},
   "source": [
    "### '축제공연행사' : 날짜 지난 관광지 제거\n",
    "- '행사종료일'을 기준으로 "
   ]
  },
  {
   "cell_type": "code",
   "execution_count": 21,
   "id": "d7dabd7d-f481-44b6-9402-dd649935a117",
   "metadata": {},
   "outputs": [],
   "source": [
    "# 모든 rows 보는 세팅\n",
    "spark.conf.set(\"spark.sql.repl.eagerEval.enabled\", True)"
   ]
  },
  {
   "cell_type": "code",
   "execution_count": 23,
   "id": "57d642bd-475c-40d9-bd49-a567404a46de",
   "metadata": {},
   "outputs": [
    {
     "name": "stdout",
     "output_type": "stream",
     "text": [
      "+----------+----------+\n",
      "|행사시작일|행사종료일|\n",
      "+----------+----------+\n",
      "|  20231014|  20231020|\n",
      "|  20230423|  20231112|\n",
      "|  20231027|  20231028|\n",
      "|  20230205|  20230205|\n",
      "|  20231110|  20231111|\n",
      "|  20230505|  20231112|\n",
      "|  20231104|  20231105|\n",
      "|  20230610|  20230617|\n",
      "|  20231027|  20231027|\n",
      "|  20231026|  20231126|\n",
      "|  20231007|  20231029|\n",
      "|  20230527|  20230730|\n",
      "|  20230707|  20231014|\n",
      "|  20240126|  20240218|\n",
      "|  20230531|  20231203|\n",
      "|  20231221|  20231231|\n",
      "|  20230812|  20230815|\n",
      "|  20230526|  20231226|\n",
      "|  20231207|  20231207|\n",
      "|  20230912|  20230913|\n",
      "+----------+----------+\n",
      "only showing top 20 rows\n",
      "\n"
     ]
    }
   ],
   "source": [
    "# 날짜 확인\n",
    "df_result.filter(df_result['관광지 분류'] == '축제공연행사').select('행사시작일', '행사종료일').distinct().show()"
   ]
  },
  {
   "cell_type": "code",
   "execution_count": null,
   "id": "b453283a-60d5-41b0-bf13-ac603fd96d46",
   "metadata": {},
   "outputs": [],
   "source": []
  },
  {
   "cell_type": "code",
   "execution_count": null,
   "id": "6668dcac-d956-49e9-9636-89b8364cbff8",
   "metadata": {},
   "outputs": [],
   "source": []
  },
  {
   "cell_type": "code",
   "execution_count": null,
   "id": "6ace1e47-4b4d-4fa2-8808-22c8f65fab1f",
   "metadata": {},
   "outputs": [],
   "source": []
  },
  {
   "cell_type": "code",
   "execution_count": null,
   "id": "70a805c9-4739-4cc8-ba81-c7b7d5cd7508",
   "metadata": {},
   "outputs": [],
   "source": []
  },
  {
   "cell_type": "code",
   "execution_count": null,
   "id": "87b5118a-6cda-4dba-b220-e75b8dcd0a70",
   "metadata": {},
   "outputs": [],
   "source": []
  }
 ],
 "metadata": {
  "kernelspec": {
   "display_name": "Python 3 (ipykernel)",
   "language": "python",
   "name": "python3"
  },
  "language_info": {
   "codemirror_mode": {
    "name": "ipython",
    "version": 3
   },
   "file_extension": ".py",
   "mimetype": "text/x-python",
   "name": "python",
   "nbconvert_exporter": "python",
   "pygments_lexer": "ipython3",
   "version": "3.10.12"
  }
 },
 "nbformat": 4,
 "nbformat_minor": 5
}
