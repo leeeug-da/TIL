{
 "cells": [
  {
   "cell_type": "markdown",
   "id": "a1ca849d-c544-48c6-aa06-ee800d76fac2",
   "metadata": {},
   "source": [
    "## **Packages**"
   ]
  },
  {
   "cell_type": "code",
   "execution_count": 1,
   "id": "ba092b9e-3cde-40ed-ad71-ef72a1827b55",
   "metadata": {},
   "outputs": [
    {
     "name": "stderr",
     "output_type": "stream",
     "text": [
      "/tmp/ipykernel_84159/1866876166.py:11: DeprecationWarning: \n",
      "Pyarrow will become a required dependency of pandas in the next major release of pandas (pandas 3.0),\n",
      "(to allow more performant data types, such as the Arrow string type, and better interoperability with other libraries)\n",
      "but was not found to be installed on your system.\n",
      "If this would cause problems for you,\n",
      "please provide us feedback at https://github.com/pandas-dev/pandas/issues/54466\n",
      "        \n",
      "  import pandas as pd\n"
     ]
    }
   ],
   "source": [
    "# packages\n",
    "from IPython.core.interactiveshell import InteractiveShell\n",
    "InteractiveShell.ast_node_interactivity = \"all\"\n",
    "from datetime import date, datetime\n",
    "from pyspark.sql.types import *\n",
    "from pyspark.sql.functions import *\n",
    "from pyspark.sql import SparkSession\n",
    "from pyspark.sql.functions import col, lit\n",
    "from hdfs import InsecureClient\n",
    "import datetime as dt\n",
    "import pandas as pd\n",
    "import matplotlib.pyplot as plt #그래프 패키지 모듈 등록\n",
    "%matplotlib inline "
   ]
  },
  {
   "cell_type": "code",
   "execution_count": 2,
   "id": "0b839828-5533-4cbb-8616-1c241f1c6bc1",
   "metadata": {},
   "outputs": [],
   "source": [
    "# matplotlib 한글폰트 \n",
    "import platform\n",
    "\n",
    "from matplotlib import font_manager, rc\n",
    "plt.rcParams['axes.unicode_minus'] = False\n",
    "\n",
    "if platform.system() == 'Darwin':  # 맥OS \n",
    "    rc('font', family='AppleGothic')\n",
    "elif platform.system() == 'Windows':  # 윈도우\n",
    "    path = \"c:/Windows/Fonts/malgun.ttf\"\n",
    "    font_name = font_manager.FontProperties(fname=path).get_name()\n",
    "    rc('font', family=font_name)\n",
    "else:\n",
    "    rc('font', family='D2Coding')\n",
    "       \n",
    "# rc('font', family='NanumGothic') # 나눔폰트 사용시"
   ]
  },
  {
   "cell_type": "code",
   "execution_count": 3,
   "id": "e6fb3b4f-8f4b-4740-91f8-a0bac78ca57b",
   "metadata": {},
   "outputs": [],
   "source": [
    "# python과 mysql 연결을 위한 필요모듈 패키지\n",
    "# !pip install pymysql\n",
    "import pymysql"
   ]
  },
  {
   "cell_type": "markdown",
   "id": "3e2c28e2-e40b-4d3d-84af-9fc26ffd8456",
   "metadata": {},
   "source": [
    "## **DW DB계정 생성**"
   ]
  },
  {
   "cell_type": "markdown",
   "id": "2bea0687-f5c4-4686-b17d-0fde8cd4ddb3",
   "metadata": {},
   "source": [
    "### 📍DB 계정 생성 (mysql)"
   ]
  },
  {
   "cell_type": "code",
   "execution_count": null,
   "id": "95200531-2e0c-43d7-93f6-87785637afd8",
   "metadata": {},
   "outputs": [],
   "source": [
    "# mysql에서 진행\n",
    "\n",
    "## mysql 실행\n",
    "# service mysql start\n",
    "# mysql -u root (docker) / sudo mysql -u root -p (aws)\n",
    "\n",
    "## user 생성\n",
    "# mysql> create user bigMysql@'%' identified by 'bigMysql1234@';\n",
    "# mysql> grant all privileges on *.* to bigMysql@'%' with grant option;\n",
    "\n",
    "## 사용할 database 생성\n",
    "# mysql> create database if not exists etlmysql;\n",
    "# mysql> show databases;"
   ]
  },
  {
   "cell_type": "markdown",
   "id": "51b043ec-84a2-4aa9-8ede-d8c51bf42c77",
   "metadata": {},
   "source": [
    "### 📍 DB 계정/서버 정보 (JDBC)"
   ]
  },
  {
   "cell_type": "code",
   "execution_count": 4,
   "id": "1fa3d27c-3c6c-42c1-9e8c-5dc49900e39b",
   "metadata": {},
   "outputs": [],
   "source": [
    "JDBC = {\n",
    "      'url':'jdbc:mysql://localhost:3306/etlmysql?characterEncoding=utf8&serverTimezone=Asia/Seoul'\n",
    "     ,'props':{\n",
    "      'user':'bigMysql',\n",
    "      'password':'bigMysql1234@'   \n",
    "      }\n",
    "}"
   ]
  },
  {
   "cell_type": "markdown",
   "id": "9b6b15f2-890a-4487-9606-dd627f8245a4",
   "metadata": {},
   "source": [
    "## **DW에 Data 저장**\n",
    "- travel_data_preprocessed.csv : 전처리 완료한 관광지 정보 데이터\n",
    "    - 'DW_2_Transform' 파일에 전처리 완료해놨음 "
   ]
  },
  {
   "cell_type": "code",
   "execution_count": 5,
   "id": "b1c76f76-fa8d-43ad-8805-8a0262acbe7b",
   "metadata": {},
   "outputs": [
    {
     "name": "stderr",
     "output_type": "stream",
     "text": [
      "                                                                                \r"
     ]
    }
   ],
   "source": [
    "travel_data = spark.read.json('/dw_data/travel_data_preprocessed.json', encoding='utf-8')"
   ]
  },
  {
   "cell_type": "code",
   "execution_count": 6,
   "id": "493b1099-4de0-48ad-a971-78bdb359445d",
   "metadata": {},
   "outputs": [
    {
     "name": "stdout",
     "output_type": "stream",
     "text": [
      "+-----+----------------------------------+--------+--------+-----------+------------+--------------------+----------+-------------+------------+-----------------------+---------+----------------+--------------------------+--------+--------+------+--------+---------------------------------+---------+---------------------------------+------+--------+----------+----------+\n",
      "|index|                              개요|개장기간|공연시간|관광지 분류|관람소요시간|                명칭|      분류|     상세정보|      쉬는날|애완동물 동반 가능 여부| 우편번호|유모차 대여 여부|                  이용시간|이용시기|이용요금|입장료|전화번호|                             주소| 주차시설|                         주차요금|  지역|체험안내|행사시작일|행사종료일|\n",
      "+-----+----------------------------------+--------+--------+-----------+------------+--------------------+----------+-------------+------------+-----------------------+---------+----------------+--------------------------+--------+--------+------+--------+---------------------------------+---------+---------------------------------+------+--------+----------+----------+\n",
      "|    0|교보문고 광화문점은 국민교육 진...|    null|    null|   문화시설|        null|        (주)교보문고|  문화시설|         null|설/추석 당일|                   불가|   3154.0|            불가|               09:30~22:00|    null|    무료|  null|    null|서울특별시 종로구 종로 1(종로1가)|주차 가능|유료 (회원여부/구매금액에 따라...|  서울|    null|       NaN|       NaN|\n",
      "|    1|  ※ 민통초소에 신분증 제시하여 ...|    null|    null| 인문관광지|        null|1.21 무장공비 침투로|역사관광지|화장실:있음\\n| 매주 화요일|                   불가|486-890,1|            불가|[출입가능시간] 10:00~16...|    null|    null|  null|    null|  경기도 연천군 장남면 반정리 294|     null|                             null|경기도|    null|       NaN|       NaN|\n",
      "+-----+----------------------------------+--------+--------+-----------+------------+--------------------+----------+-------------+------------+-----------------------+---------+----------------+--------------------------+--------+--------+------+--------+---------------------------------+---------+---------------------------------+------+--------+----------+----------+\n",
      "only showing top 2 rows\n",
      "\n",
      "root\n",
      " |-- index: long (nullable = true)\n",
      " |-- 개요: string (nullable = true)\n",
      " |-- 개장기간: string (nullable = true)\n",
      " |-- 공연시간: string (nullable = true)\n",
      " |-- 관광지 분류: string (nullable = true)\n",
      " |-- 관람소요시간: string (nullable = true)\n",
      " |-- 명칭: string (nullable = true)\n",
      " |-- 분류: string (nullable = true)\n",
      " |-- 상세정보: string (nullable = true)\n",
      " |-- 쉬는날: string (nullable = true)\n",
      " |-- 애완동물 동반 가능 여부: string (nullable = true)\n",
      " |-- 우편번호: string (nullable = true)\n",
      " |-- 유모차 대여 여부: string (nullable = true)\n",
      " |-- 이용시간: string (nullable = true)\n",
      " |-- 이용시기: string (nullable = true)\n",
      " |-- 이용요금: string (nullable = true)\n",
      " |-- 입장료: string (nullable = true)\n",
      " |-- 전화번호: string (nullable = true)\n",
      " |-- 주소: string (nullable = true)\n",
      " |-- 주차시설: string (nullable = true)\n",
      " |-- 주차요금: string (nullable = true)\n",
      " |-- 지역: string (nullable = true)\n",
      " |-- 체험안내: string (nullable = true)\n",
      " |-- 행사시작일: string (nullable = true)\n",
      " |-- 행사종료일: string (nullable = true)\n",
      "\n"
     ]
    }
   ],
   "source": [
    "travel_data.show(2)\n",
    "travel_data.printSchema()"
   ]
  },
  {
   "cell_type": "code",
   "execution_count": 7,
   "id": "4896d272-2f0b-4016-bffb-ef79f8d453c5",
   "metadata": {},
   "outputs": [
    {
     "data": {
      "text/plain": [
       "{'url': 'jdbc:mysql://localhost:3306/etlmysql?characterEncoding=utf8&serverTimezone=Asia/Seoul',\n",
       " 'props': {'user': 'bigMysql', 'password': 'bigMysql1234@'}}"
      ]
     },
     "execution_count": 7,
     "metadata": {},
     "output_type": "execute_result"
    }
   ],
   "source": [
    "JDBC"
   ]
  },
  {
   "cell_type": "code",
   "execution_count": 8,
   "id": "ffdbf0e2-20db-40ad-87ea-b52e1ffc8d44",
   "metadata": {},
   "outputs": [
    {
     "name": "stderr",
     "output_type": "stream",
     "text": [
      "                                                                                \r"
     ]
    }
   ],
   "source": [
    "# write.mode('overwrite') = 기존 테이블 있으면 해당 테이블에 새로 저장되는 레코드로 덮어쓰기\n",
    "# url = db주소 (JDBC['url'])\n",
    "# table = 테이블명\n",
    "# properties = 계정 등 연결 정보 (JDBC['props'])\n",
    "travel_data.write.mode('overwrite').jdbc(url=JDBC['url'], table='OVERALL',properties=JDBC['props'])"
   ]
  },
  {
   "cell_type": "code",
   "execution_count": 9,
   "id": "3c97592b-c62f-4a4b-bb45-f4082d59b238",
   "metadata": {},
   "outputs": [],
   "source": [
    "# Table 잘 생성되었는지 mysql 에서 확인\n",
    "# mysql > use etlmysql;\n",
    "# mysql > show tables; "
   ]
  },
  {
   "attachments": {
    "43ad9ba2-5640-41cc-9b5c-3e6a9869f856.png": {
     "image/png": "[encoded data removed]"
    }
   },
   "cell_type": "markdown",
   "id": "e808ff45-6eba-4397-819f-176c914e4e9e",
   "metadata": {},
   "source": [
    "![스크린샷 2024-01-31 오후 5.03.09.png](attachment:43ad9ba2-5640-41cc-9b5c-3e6a9869f856.png)"
   ]
  }
 ],
 "metadata": {
  "kernelspec": {
   "display_name": "Python 3 (ipykernel)",
   "language": "python",
   "name": "python3"
  },
  "language_info": {
   "codemirror_mode": {
    "name": "ipython",
    "version": 3
   },
   "file_extension": ".py",
   "mimetype": "text/x-python",
   "name": "python",
   "nbconvert_exporter": "python",
   "pygments_lexer": "ipython3",
   "version": "3.10.12"
  }
 },
 "nbformat": 4,
 "nbformat_minor": 5
}
