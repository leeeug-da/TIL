{
 "cells": [
  {
   "cell_type": "markdown",
   "id": "719fdb15-114e-4659-83f7-0a14f959282c",
   "metadata": {},
   "source": [
    "# **포털사이트 크롤링**"
   ]
  },
  {
   "cell_type": "code",
   "execution_count": 1,
   "id": "91e1def4-0fee-467a-92a3-baa5cefe4234",
   "metadata": {},
   "outputs": [],
   "source": [
    "from IPython.core.interactiveshell import InteractiveShell\n",
    "InteractiveShell.ast_node_interactivity=\"all\""
   ]
  },
  {
   "cell_type": "code",
   "execution_count": 2,
   "id": "c1e37413-9470-46fc-becc-b88444979f6f",
   "metadata": {},
   "outputs": [],
   "source": [
    "import warnings\n",
    "warnings.filterwarnings(action='ignore')"
   ]
  },
  {
   "attachments": {
    "4b741ca1-3c5d-4647-9301-1ded9ba2661f.png": {
     "image/png": "[encoded data removed]"
    }
   },
   "cell_type": "markdown",
   "id": "bc698948-eb99-4feb-9f49-280f526f2a4d",
   "metadata": {},
   "source": [
    "![Frame 10 (1).png](attachment:4b741ca1-3c5d-4647-9301-1ded9ba2661f.png)\n",
    "\n",
    "## **네이트 사이트의 메뉴 추출**"
   ]
  },
  {
   "cell_type": "markdown",
   "id": "e959e249-71ef-4c20-ac39-cee6c3d3c468",
   "metadata": {},
   "source": [
    "### **🔸 메뉴명과 연결 url을 추출**"
   ]
  },
  {
   "cell_type": "code",
   "execution_count": 3,
   "id": "33f68ca9-e635-4f3d-939a-59a18b07e61d",
   "metadata": {},
   "outputs": [],
   "source": [
    "import pandas as pd\n",
    "import bs4\n",
    "import requests\n",
    "from urllib.request import urlopen"
   ]
  },
  {
   "cell_type": "code",
   "execution_count": 4,
   "id": "f339d215-6e35-4fbc-a157-b73ad63d7f34",
   "metadata": {},
   "outputs": [],
   "source": [
    "# url 정의\n",
    "url = 'https://www.nate.com'"
   ]
  },
  {
   "cell_type": "code",
   "execution_count": 5,
   "id": "29b5fee1-b537-4cd4-8b8b-db9e7162b67c",
   "metadata": {},
   "outputs": [
    {
     "data": {
      "text/plain": [
       "<http.client.HTTPResponse at 0x11239f640>"
      ]
     },
     "execution_count": 5,
     "metadata": {},
     "output_type": "execute_result"
    }
   ],
   "source": [
    "# response 객체 얻어오기\n",
    "html = urlopen(url)\n",
    "html"
   ]
  },
  {
   "cell_type": "code",
   "execution_count": 6,
   "id": "b84f7221-0548-471d-89ee-017ffd9a1c76",
   "metadata": {},
   "outputs": [],
   "source": [
    "# 전달된 소스코드만 추출하기 \n",
    "html_text = html.read()"
   ]
  },
  {
   "cell_type": "code",
   "execution_count": 7,
   "id": "5cee1dba-dda4-4f3f-b44e-727bb027b6c9",
   "metadata": {},
   "outputs": [],
   "source": [
    "# binary code 형태로 되어있는 소스코드 -> bs4 객체로 변환\n",
    "bs_obj = bs4.BeautifulSoup(html_text, 'html.parser')"
   ]
  },
  {
   "cell_type": "code",
   "execution_count": 8,
   "id": "1de65992-2f26-47a3-abf3-5c06d1acaed3",
   "metadata": {
    "scrolled": true
   },
   "outputs": [],
   "source": [
    "# 확인\n",
    "# print(bs_obj.prettify())"
   ]
  },
  {
   "cell_type": "code",
   "execution_count": 9,
   "id": "1748a51d-d5a5-4791-9dc9-551d16ba33b0",
   "metadata": {},
   "outputs": [],
   "source": [
    "# 네이트 사이트의 메뉴 Selector 확인\n",
    "# #divGnb"
   ]
  },
  {
   "cell_type": "code",
   "execution_count": 10,
   "id": "5d152e61-0c51-4de2-8633-57c909274064",
   "metadata": {
    "scrolled": true
   },
   "outputs": [],
   "source": [
    "# 메뉴 Selector 변수로 저장해두기\n",
    "menu = bs_obj.find('div', {'id':'divGnb'})\n",
    "menu_li = menu.select('li')\n",
    "# menu_li"
   ]
  },
  {
   "cell_type": "code",
   "execution_count": 11,
   "id": "f34457a2-a109-4c2e-b2a8-5b9882651541",
   "metadata": {},
   "outputs": [
    {
     "data": {
      "text/plain": [
       "<li class=\"mail\"><a href=\"https://mail3.nate.com/#index\" onmousedown=\"nc('NGB01');\">메일</a></li>"
      ]
     },
     "execution_count": 11,
     "metadata": {},
     "output_type": "execute_result"
    },
    {
     "data": {
      "text/plain": [
       "'메일'"
      ]
     },
     "execution_count": 11,
     "metadata": {},
     "output_type": "execute_result"
    },
    {
     "data": {
      "text/plain": [
       "<a href=\"https://mail3.nate.com/#index\" onmousedown=\"nc('NGB01');\">메일</a>"
      ]
     },
     "execution_count": 11,
     "metadata": {},
     "output_type": "execute_result"
    },
    {
     "data": {
      "text/plain": [
       "'https://mail3.nate.com/#index'"
      ]
     },
     "execution_count": 11,
     "metadata": {},
     "output_type": "execute_result"
    }
   ],
   "source": [
    "# 소스코드 구조 보기\n",
    "menu_li[0]\n",
    "menu_li[0].text\n",
    "menu_li[0].a\n",
    "menu_li[0].a['href']"
   ]
  },
  {
   "cell_type": "code",
   "execution_count": 12,
   "id": "e0992b46-931f-44e8-b626-ce3f0cf6e2d7",
   "metadata": {
    "scrolled": true
   },
   "outputs": [
    {
     "name": "stdout",
     "output_type": "stream",
     "text": [
      "메일 https://mail3.nate.com/#index\n",
      "뉴스 //news.nate.com/\n",
      "판 https://pann.nate.com/\n",
      "AI챗beta https://m.nate.com/aichat.html\n",
      "TV https://tv.nate.com/\n",
      "툰앤북 https://toonnbook.nate.com/\n",
      "운세 https://fortune.nate.com/home/main.nate\n",
      "게임 http://game.nate.com/\n",
      "쇼핑 //shopping.nate.com/\n",
      "팀룸 https://nateonweb.nate.com/teamroom/\n",
      "네이트뷰 https://view.nate.com/\n",
      "\n",
      "더보기\n",
      "\n",
      "\n",
      "뉴스\n",
      "날씨\n",
      "스포츠\n",
      "연예\n",
      "아이돌24\n",
      "랭킹뉴스\n",
      "\n",
      "\n",
      "판\n",
      "톡톡\n",
      "판포토\n",
      "팬톡\n",
      "\n",
      "\n",
      "네이트온\n",
      "네이트캐쉬\n",
      "문자메시지\n",
      "주소록\n",
      "\n",
      "\n",
      "컬러링\n",
      "이슈UP추천\n",
      "\n",
      "서비스 전체보기\n",
      "더보기 닫기\n",
      "\n",
      " javascript:;\n",
      "뉴스 //news.nate.com\n",
      "날씨 //news.nate.com/Weather\n",
      "스포츠 //sports.news.nate.com/\n",
      "연예 //news.nate.com/ent/index\n",
      "아이돌24 //news.nate.com/ent/idol24\n",
      "랭킹뉴스 //news.nate.com/rank/interest\n",
      "판 https://pann.nate.com/\n",
      "톡톡 https://pann.nate.com/talk\n",
      "판포토 https://pann.nate.com/talk/imageTheme/index\n",
      "팬톡 https://pann.nate.com/fantalk\n",
      "네이트온 //nateonweb.nate.com/\n",
      "네이트캐쉬 //cash.nate.com/center/cashMain.sc\n",
      "문자메시지 https://sms.nate.com/\n",
      "주소록 https://mail.nate.com/pims/\n",
      "컬러링 //mobile.nate.com/\n",
      "이슈UP추천 //editor.nate.com/\n"
     ]
    }
   ],
   "source": [
    "# 메뉴명과 링크 뽑는 코드 확인하기\n",
    "for li in menu_li:\n",
    "    print(li.text, li.a['href'])\n",
    "\n",
    "# Action List\n",
    "## 중복이 되는 메뉴는 제외 (더보기 내에 중복되어 있음)\n",
    "## href 가 없는 메뉴는 제외\n",
    "## 'javascript' 태그명 제외 "
   ]
  },
  {
   "cell_type": "markdown",
   "id": "f50898f9-52ab-4f80-a169-6c9bb155e830",
   "metadata": {},
   "source": [
    "### **🔸 메뉴명과 링크 DF 만들기**\n",
    "- 빈 df를 생성 후, df에 data를 행으로 추가\n",
    "- 각각의 행을 df로 생성 후, concat 함수로 결합"
   ]
  },
  {
   "cell_type": "code",
   "execution_count": 13,
   "id": "975a4508-c6b7-481f-80c3-afbbd2940778",
   "metadata": {},
   "outputs": [
    {
     "data": {
      "text/html": [
       "<div>\n",
       "<style scoped>\n",
       "    .dataframe tbody tr th:only-of-type {\n",
       "        vertical-align: middle;\n",
       "    }\n",
       "\n",
       "    .dataframe tbody tr th {\n",
       "        vertical-align: top;\n",
       "    }\n",
       "\n",
       "    .dataframe thead th {\n",
       "        text-align: right;\n",
       "    }\n",
       "</style>\n",
       "<table border=\"1\" class=\"dataframe\">\n",
       "  <thead>\n",
       "    <tr style=\"text-align: right;\">\n",
       "      <th></th>\n",
       "      <th>메뉴</th>\n",
       "      <th>링크</th>\n",
       "    </tr>\n",
       "  </thead>\n",
       "  <tbody>\n",
       "  </tbody>\n",
       "</table>\n",
       "</div>"
      ],
      "text/plain": [
       "Empty DataFrame\n",
       "Columns: [메뉴, 링크]\n",
       "Index: []"
      ]
     },
     "execution_count": 13,
     "metadata": {},
     "output_type": "execute_result"
    }
   ],
   "source": [
    "# 빈 df 생성\n",
    "nate_menu = pd.DataFrame({'메뉴':[], '링크':[]})\n",
    "nate_menu"
   ]
  },
  {
   "cell_type": "code",
   "execution_count": 14,
   "id": "6125becc-6f06-45b3-bb8d-b627aa847d53",
   "metadata": {
    "scrolled": true
   },
   "outputs": [
    {
     "data": {
      "text/html": [
       "<div>\n",
       "<style scoped>\n",
       "    .dataframe tbody tr th:only-of-type {\n",
       "        vertical-align: middle;\n",
       "    }\n",
       "\n",
       "    .dataframe tbody tr th {\n",
       "        vertical-align: top;\n",
       "    }\n",
       "\n",
       "    .dataframe thead th {\n",
       "        text-align: right;\n",
       "    }\n",
       "</style>\n",
       "<table border=\"1\" class=\"dataframe\">\n",
       "  <thead>\n",
       "    <tr style=\"text-align: right;\">\n",
       "      <th></th>\n",
       "      <th>메뉴</th>\n",
       "      <th>링크</th>\n",
       "    </tr>\n",
       "  </thead>\n",
       "  <tbody>\n",
       "    <tr>\n",
       "      <th>0</th>\n",
       "      <td>메일</td>\n",
       "      <td>https://mail3.nate.com/#index</td>\n",
       "    </tr>\n",
       "    <tr>\n",
       "      <th>1</th>\n",
       "      <td>뉴스</td>\n",
       "      <td>//news.nate.com/</td>\n",
       "    </tr>\n",
       "    <tr>\n",
       "      <th>2</th>\n",
       "      <td>판</td>\n",
       "      <td>https://pann.nate.com/</td>\n",
       "    </tr>\n",
       "    <tr>\n",
       "      <th>3</th>\n",
       "      <td>AI챗beta</td>\n",
       "      <td>https://m.nate.com/aichat.html</td>\n",
       "    </tr>\n",
       "    <tr>\n",
       "      <th>4</th>\n",
       "      <td>TV</td>\n",
       "      <td>https://tv.nate.com/</td>\n",
       "    </tr>\n",
       "    <tr>\n",
       "      <th>5</th>\n",
       "      <td>툰앤북</td>\n",
       "      <td>https://toonnbook.nate.com/</td>\n",
       "    </tr>\n",
       "    <tr>\n",
       "      <th>6</th>\n",
       "      <td>운세</td>\n",
       "      <td>https://fortune.nate.com/home/main.nate</td>\n",
       "    </tr>\n",
       "    <tr>\n",
       "      <th>7</th>\n",
       "      <td>게임</td>\n",
       "      <td>http://game.nate.com/</td>\n",
       "    </tr>\n",
       "    <tr>\n",
       "      <th>8</th>\n",
       "      <td>쇼핑</td>\n",
       "      <td>//shopping.nate.com/</td>\n",
       "    </tr>\n",
       "    <tr>\n",
       "      <th>9</th>\n",
       "      <td>팀룸</td>\n",
       "      <td>https://nateonweb.nate.com/teamroom/</td>\n",
       "    </tr>\n",
       "    <tr>\n",
       "      <th>10</th>\n",
       "      <td>네이트뷰</td>\n",
       "      <td>https://view.nate.com/</td>\n",
       "    </tr>\n",
       "    <tr>\n",
       "      <th>11</th>\n",
       "      <td>날씨</td>\n",
       "      <td>//news.nate.com/Weather</td>\n",
       "    </tr>\n",
       "    <tr>\n",
       "      <th>12</th>\n",
       "      <td>스포츠</td>\n",
       "      <td>//sports.news.nate.com/</td>\n",
       "    </tr>\n",
       "    <tr>\n",
       "      <th>13</th>\n",
       "      <td>연예</td>\n",
       "      <td>//news.nate.com/ent/index</td>\n",
       "    </tr>\n",
       "    <tr>\n",
       "      <th>14</th>\n",
       "      <td>아이돌24</td>\n",
       "      <td>//news.nate.com/ent/idol24</td>\n",
       "    </tr>\n",
       "    <tr>\n",
       "      <th>15</th>\n",
       "      <td>랭킹뉴스</td>\n",
       "      <td>//news.nate.com/rank/interest</td>\n",
       "    </tr>\n",
       "    <tr>\n",
       "      <th>16</th>\n",
       "      <td>톡톡</td>\n",
       "      <td>https://pann.nate.com/talk</td>\n",
       "    </tr>\n",
       "    <tr>\n",
       "      <th>17</th>\n",
       "      <td>판포토</td>\n",
       "      <td>https://pann.nate.com/talk/imageTheme/index</td>\n",
       "    </tr>\n",
       "    <tr>\n",
       "      <th>18</th>\n",
       "      <td>팬톡</td>\n",
       "      <td>https://pann.nate.com/fantalk</td>\n",
       "    </tr>\n",
       "    <tr>\n",
       "      <th>19</th>\n",
       "      <td>네이트온</td>\n",
       "      <td>//nateonweb.nate.com/</td>\n",
       "    </tr>\n",
       "    <tr>\n",
       "      <th>20</th>\n",
       "      <td>네이트캐쉬</td>\n",
       "      <td>//cash.nate.com/center/cashMain.sc</td>\n",
       "    </tr>\n",
       "    <tr>\n",
       "      <th>21</th>\n",
       "      <td>문자메시지</td>\n",
       "      <td>https://sms.nate.com/</td>\n",
       "    </tr>\n",
       "    <tr>\n",
       "      <th>22</th>\n",
       "      <td>주소록</td>\n",
       "      <td>https://mail.nate.com/pims/</td>\n",
       "    </tr>\n",
       "    <tr>\n",
       "      <th>23</th>\n",
       "      <td>컬러링</td>\n",
       "      <td>//mobile.nate.com/</td>\n",
       "    </tr>\n",
       "    <tr>\n",
       "      <th>24</th>\n",
       "      <td>이슈UP추천</td>\n",
       "      <td>//editor.nate.com/</td>\n",
       "    </tr>\n",
       "  </tbody>\n",
       "</table>\n",
       "</div>"
      ],
      "text/plain": [
       "         메뉴                                           링크\n",
       "0        메일                https://mail3.nate.com/#index\n",
       "1        뉴스                             //news.nate.com/\n",
       "2         판                       https://pann.nate.com/\n",
       "3   AI챗beta               https://m.nate.com/aichat.html\n",
       "4        TV                         https://tv.nate.com/\n",
       "5       툰앤북                  https://toonnbook.nate.com/\n",
       "6        운세      https://fortune.nate.com/home/main.nate\n",
       "7        게임                        http://game.nate.com/\n",
       "8        쇼핑                         //shopping.nate.com/\n",
       "9        팀룸         https://nateonweb.nate.com/teamroom/\n",
       "10     네이트뷰                       https://view.nate.com/\n",
       "11       날씨                      //news.nate.com/Weather\n",
       "12      스포츠                      //sports.news.nate.com/\n",
       "13       연예                    //news.nate.com/ent/index\n",
       "14    아이돌24                   //news.nate.com/ent/idol24\n",
       "15     랭킹뉴스                //news.nate.com/rank/interest\n",
       "16       톡톡                   https://pann.nate.com/talk\n",
       "17      판포토  https://pann.nate.com/talk/imageTheme/index\n",
       "18       팬톡                https://pann.nate.com/fantalk\n",
       "19     네이트온                        //nateonweb.nate.com/\n",
       "20    네이트캐쉬           //cash.nate.com/center/cashMain.sc\n",
       "21    문자메시지                        https://sms.nate.com/\n",
       "22      주소록                  https://mail.nate.com/pims/\n",
       "23      컬러링                           //mobile.nate.com/\n",
       "24   이슈UP추천                           //editor.nate.com/"
      ]
     },
     "execution_count": 14,
     "metadata": {},
     "output_type": "execute_result"
    }
   ],
   "source": [
    "# 메뉴명과 링크 뽑기\n",
    "# Action List\n",
    "## 중복이 되는 메뉴는 제외 (더보기 내에 중복되어 있음)\n",
    "## href 가 없는 메뉴는 제외\n",
    "## 'javascript' 태그명 제외\n",
    "\n",
    "index = 0\n",
    "for li in menu_li:\n",
    "    menu_text = li.text\n",
    "    menu_link = li.a['href']\n",
    "    if menu_text in nate_menu['메뉴'].values or menu_link == '' or menu_link == 'javascript:;':\n",
    "        continue\n",
    "    temp = pd.DataFrame({'메뉴':menu_text, '링크':menu_link}, index=[index])\n",
    "    nate_menu = pd.concat([nate_menu, temp])\n",
    "    index = index + 1\n",
    "nate_menu"
   ]
  },
  {
   "cell_type": "markdown",
   "id": "3da85e87-56b2-4515-bd5d-ea6b2a6fdb17",
   "metadata": {},
   "source": [
    "### **🔸 수집 데이터 저장**\n",
    "- DataLake에 rawdata 그대로 저장\n",
    "- 저장 공간은 crawl_data 공간에 저장"
   ]
  },
  {
   "cell_type": "code",
   "execution_count": 15,
   "id": "c11a8712-2d25-441c-a4d7-8614ae83c4a0",
   "metadata": {},
   "outputs": [],
   "source": [
    "# 저장공간 존재 여부 확인 후 없으면 생성\n",
    "import os\n",
    "\n",
    "if not os.path.exists('crawl_data'):\n",
    "    os.makedirs('crawl_data')"
   ]
  },
  {
   "cell_type": "code",
   "execution_count": 16,
   "id": "dc3cee64-7fab-4119-bb05-00fb800caaf8",
   "metadata": {},
   "outputs": [],
   "source": [
    "# 파일 저장\n",
    "nate_menu.to_csv('./crawl_data/nate_menu.csv')"
   ]
  },
  {
   "attachments": {
    "f930f6c6-8eed-4994-b296-e856e00f1972.png": {
     "image/png": "[encoded data removed]"
    }
   },
   "cell_type": "markdown",
   "id": "b3ffebc2-125f-4f12-a95b-1c18d246f96e",
   "metadata": {},
   "source": [
    "![Frame 11.png](attachment:f930f6c6-8eed-4994-b296-e856e00f1972.png)\n",
    "\n",
    "## **네이버 뉴스 크롤링**\n",
    "- 네이버 뉴스는 네이버 정책에 따라 모든 언론사들의 뉴스가 랜덤하게 배치됨\n",
    "- 헤드라인 뉴스는 표면적으로는 제공되지 않는다\n",
    "- 네이버 메인 페이지는 upgrade 정책에 따라 동적구성되는 경우가 있기 때문에, **셀레니움**을 사용해야 함\n",
    "- sub 페이지는 정적구성 이므로 sub인 news로 바로 접근 "
   ]
  },
  {
   "cell_type": "markdown",
   "id": "b1910d92-e7dd-48a2-bc8d-5202d1457180",
   "metadata": {},
   "source": [
    "### **🔸 네이버 뉴스 메뉴 추출**"
   ]
  },
  {
   "cell_type": "code",
   "execution_count": 17,
   "id": "486ba150-ec14-4c9e-a546-94c983b77abd",
   "metadata": {
    "scrolled": true
   },
   "outputs": [],
   "source": [
    "# 소스코드 받아오기 및 bs4 객체로 저장\n",
    "url = 'https://news.naver.com'\n",
    "html = urlopen(url)\n",
    "html_text = html.read()\n",
    "bs_obj = bs4.BeautifulSoup(html_text, 'html.parser')\n",
    "# print(bs_obj.prettify())"
   ]
  },
  {
   "cell_type": "code",
   "execution_count": 18,
   "id": "c3bcf9d7-dad7-43e1-a864-3f2228ec6fbd",
   "metadata": {
    "scrolled": true
   },
   "outputs": [],
   "source": [
    "# 네이버 사이트의 메뉴 Selector 확인\n",
    "# bs_obj.select('body > section > header > div.Nlnb._float_lnb > div')"
   ]
  },
  {
   "cell_type": "code",
   "execution_count": 19,
   "id": "b5e532e4-c765-41a9-afa3-be96a29a4026",
   "metadata": {
    "scrolled": true
   },
   "outputs": [],
   "source": [
    "# ul 태그 추출 \n",
    "ul = bs_obj.find('ul', {'class':'Nlnb_menu_list'})\n",
    "# ul"
   ]
  },
  {
   "cell_type": "code",
   "execution_count": 20,
   "id": "1557f9cb-d05a-4c7e-a47f-2e27ac5d2df4",
   "metadata": {
    "scrolled": true
   },
   "outputs": [
    {
     "name": "stdout",
     "output_type": "stream",
     "text": [
      "14\n",
      "<class 'bs4.element.ResultSet'>\n"
     ]
    }
   ],
   "source": [
    "# li 태그 추출\n",
    "lis = ul.findAll('li')\n",
    "print(len(lis))\n",
    "# print(lis)\n",
    "print(type(lis))"
   ]
  },
  {
   "cell_type": "code",
   "execution_count": 21,
   "id": "4bd86c45-86fd-46fa-8248-7ab3b4549a36",
   "metadata": {},
   "outputs": [
    {
     "name": "stdout",
     "output_type": "stream",
     "text": [
      "언론사별  :  https://news.naver.com/?viewType=pc\n",
      "정치  :  https://news.naver.com/main/main.naver?mode=LSD&mid=shm&sid1=100\n",
      "경제  :  https://news.naver.com/main/main.naver?mode=LSD&mid=shm&sid1=101\n",
      "사회  :  https://news.naver.com/main/main.naver?mode=LSD&mid=shm&sid1=102\n",
      "생활/문화  :  https://news.naver.com/main/main.naver?mode=LSD&mid=shm&sid1=103\n",
      "IT/과학  :  https://news.naver.com/main/main.naver?mode=LSD&mid=shm&sid1=105\n",
      "세계  :  https://news.naver.com/main/main.naver?mode=LSD&mid=shm&sid1=104\n",
      "랭킹  :  https://news.naver.com/main/ranking/popularDay.naver\n",
      "신문보기  :  https://news.naver.com/newspaper/home?viewType=pc\n",
      "오피니언  :  https://news.naver.com/opinion/home\n",
      "TV  :  https://news.naver.com/main/tv/index.naver?mid=tvh\n",
      "팩트체크  :  https://news.naver.com/factcheck/main\n",
      "알고리즘 안내  :  https://media.naver.com/algorithm\n",
      "정정보도 모음  :  https://news.naver.com/main/ombudsman/errorArticleList.naver?mid=omb\n"
     ]
    }
   ],
   "source": [
    "# a태그, text (링크, 메뉴명) 추출하기 위해 확인\n",
    "for li in lis:\n",
    "    a_tag = li.find('a')\n",
    "    print(a_tag.text, \" : \", a_tag['href'])\n",
    "\n",
    "# 별다른 문제 없이 잘 들어가 있는 것이 확인됨 "
   ]
  },
  {
   "cell_type": "code",
   "execution_count": 22,
   "id": "8d07e84f-e1cc-4b12-b3b6-69b33b4c051e",
   "metadata": {},
   "outputs": [
    {
     "data": {
      "text/html": [
       "<div>\n",
       "<style scoped>\n",
       "    .dataframe tbody tr th:only-of-type {\n",
       "        vertical-align: middle;\n",
       "    }\n",
       "\n",
       "    .dataframe tbody tr th {\n",
       "        vertical-align: top;\n",
       "    }\n",
       "\n",
       "    .dataframe thead th {\n",
       "        text-align: right;\n",
       "    }\n",
       "</style>\n",
       "<table border=\"1\" class=\"dataframe\">\n",
       "  <thead>\n",
       "    <tr style=\"text-align: right;\">\n",
       "      <th></th>\n",
       "      <th>메뉴</th>\n",
       "      <th>링크</th>\n",
       "    </tr>\n",
       "  </thead>\n",
       "  <tbody>\n",
       "    <tr>\n",
       "      <th>0</th>\n",
       "      <td>언론사별</td>\n",
       "      <td>https://news.naver.com/?viewType=pc</td>\n",
       "    </tr>\n",
       "    <tr>\n",
       "      <th>1</th>\n",
       "      <td>정치</td>\n",
       "      <td>https://news.naver.com/main/main.naver?mode=LS...</td>\n",
       "    </tr>\n",
       "    <tr>\n",
       "      <th>2</th>\n",
       "      <td>경제</td>\n",
       "      <td>https://news.naver.com/main/main.naver?mode=LS...</td>\n",
       "    </tr>\n",
       "    <tr>\n",
       "      <th>3</th>\n",
       "      <td>사회</td>\n",
       "      <td>https://news.naver.com/main/main.naver?mode=LS...</td>\n",
       "    </tr>\n",
       "    <tr>\n",
       "      <th>4</th>\n",
       "      <td>생활/문화</td>\n",
       "      <td>https://news.naver.com/main/main.naver?mode=LS...</td>\n",
       "    </tr>\n",
       "    <tr>\n",
       "      <th>5</th>\n",
       "      <td>IT/과학</td>\n",
       "      <td>https://news.naver.com/main/main.naver?mode=LS...</td>\n",
       "    </tr>\n",
       "    <tr>\n",
       "      <th>6</th>\n",
       "      <td>세계</td>\n",
       "      <td>https://news.naver.com/main/main.naver?mode=LS...</td>\n",
       "    </tr>\n",
       "    <tr>\n",
       "      <th>7</th>\n",
       "      <td>랭킹</td>\n",
       "      <td>https://news.naver.com/main/ranking/popularDay...</td>\n",
       "    </tr>\n",
       "    <tr>\n",
       "      <th>8</th>\n",
       "      <td>신문보기</td>\n",
       "      <td>https://news.naver.com/newspaper/home?viewType=pc</td>\n",
       "    </tr>\n",
       "    <tr>\n",
       "      <th>9</th>\n",
       "      <td>오피니언</td>\n",
       "      <td>https://news.naver.com/opinion/home</td>\n",
       "    </tr>\n",
       "    <tr>\n",
       "      <th>10</th>\n",
       "      <td>TV</td>\n",
       "      <td>https://news.naver.com/main/tv/index.naver?mid...</td>\n",
       "    </tr>\n",
       "    <tr>\n",
       "      <th>11</th>\n",
       "      <td>팩트체크</td>\n",
       "      <td>https://news.naver.com/factcheck/main</td>\n",
       "    </tr>\n",
       "    <tr>\n",
       "      <th>12</th>\n",
       "      <td>알고리즘 안내</td>\n",
       "      <td>https://media.naver.com/algorithm</td>\n",
       "    </tr>\n",
       "    <tr>\n",
       "      <th>13</th>\n",
       "      <td>정정보도 모음</td>\n",
       "      <td>https://news.naver.com/main/ombudsman/errorArt...</td>\n",
       "    </tr>\n",
       "  </tbody>\n",
       "</table>\n",
       "</div>"
      ],
      "text/plain": [
       "         메뉴                                                 링크\n",
       "0      언론사별                https://news.naver.com/?viewType=pc\n",
       "1        정치  https://news.naver.com/main/main.naver?mode=LS...\n",
       "2        경제  https://news.naver.com/main/main.naver?mode=LS...\n",
       "3        사회  https://news.naver.com/main/main.naver?mode=LS...\n",
       "4     생활/문화  https://news.naver.com/main/main.naver?mode=LS...\n",
       "5     IT/과학  https://news.naver.com/main/main.naver?mode=LS...\n",
       "6        세계  https://news.naver.com/main/main.naver?mode=LS...\n",
       "7        랭킹  https://news.naver.com/main/ranking/popularDay...\n",
       "8      신문보기  https://news.naver.com/newspaper/home?viewType=pc\n",
       "9      오피니언                https://news.naver.com/opinion/home\n",
       "10       TV  https://news.naver.com/main/tv/index.naver?mid...\n",
       "11     팩트체크              https://news.naver.com/factcheck/main\n",
       "12  알고리즘 안내                  https://media.naver.com/algorithm\n",
       "13  정정보도 모음  https://news.naver.com/main/ombudsman/errorArt..."
      ]
     },
     "execution_count": 22,
     "metadata": {},
     "output_type": "execute_result"
    }
   ],
   "source": [
    "# 메뉴 df 생성\n",
    "# 위 네이터와 다르게, 데이터가 잘 뽑혔기 때문에 리스트에 각 컬럼 데이터를 모은 후 df 로 구성 \n",
    "\n",
    "section = []\n",
    "link = []\n",
    "for li in lis:\n",
    "    a_tag = li.find('a')\n",
    "    section.append(a_tag.text)\n",
    "    link.append(a_tag['href'])\n",
    "\n",
    "col_dict = {'메뉴':section, '링크':link}\n",
    "naver_news_menu = pd.DataFrame(col_dict)\n",
    "naver_news_menu"
   ]
  },
  {
   "cell_type": "code",
   "execution_count": 23,
   "id": "bd026683-5b5f-4e07-8290-4d77b18d3be8",
   "metadata": {},
   "outputs": [],
   "source": [
    "# DataLake 에 저장\n",
    "naver_news_menu.to_csv('./crawl_data/naver_news_menu.csv')"
   ]
  },
  {
   "cell_type": "markdown",
   "id": "02b52a34-b44d-49c1-b0c5-a6a18c5d0e21",
   "metadata": {},
   "source": [
    "### **🔸 언론사별 section의 첫번째 언론사 뉴스 크롤링**\n",
    "- 기사 타이틀과 기사 요약 언론사명 기고날짜를 추출해서 출력하는 코드 작성\n",
    "- 네이버 뉴스 소스코드 받아오는 코드부터 작성"
   ]
  },
  {
   "cell_type": "code",
   "execution_count": 24,
   "id": "a0b7880b-f4b6-410d-9593-67b810289b64",
   "metadata": {},
   "outputs": [
    {
     "data": {
      "text/plain": [
       "{'기사 타이틀': \"이정재·정우성 '120억원' 인수한 회사 어디?…공시 전 주가 74%↑\",\n",
       " '기사 요약': '배우 이정재와 정우성이 온라인, 모바일 광고 플랫폼 회사 와이더플래닛을 인수한다. 8일 와이더플래닛은 운영자금과 채무상환자금 목적의 190억원의 제3자배정 유상증자를 결정했다고 공시했다. 신주 발행가액은 3185원,',\n",
       " '언론사': ['머니투데이'],\n",
       " '기고 날짜': '12월 08일 19:11'}"
      ]
     },
     "execution_count": 24,
     "metadata": {},
     "output_type": "execute_result"
    }
   ],
   "source": [
    "# 소스코드 받아오기 및 bs4 객체로 저장\n",
    "url = \"https://news.naver.com/?viewType=pc\"\n",
    "html = urlopen(url)\n",
    "html_text = html.read()\n",
    "bs_obj = bs4.BeautifulSoup(html_text, 'html.parser')\n",
    "\n",
    "\n",
    "# Selector 확인\n",
    "# bs_obj.select('#ct > div > section.main_content > div.main_brick > div > div:nth-child(1) > div.main_brick_item._channel_news_preview_wrapper')\n",
    "\n",
    "\n",
    "# 첫번째 언론사 Selector 추출\n",
    "cjs = bs_obj.find('div', {'class':'cjs_channel_card'})\n",
    "\n",
    "\n",
    "# 첫번째 기사 추출\n",
    "## 한 기사가 개별 div로 묶여있지 않고,  title, contents 구분되어 있음 \n",
    "cjs_1_title = cjs.find('div', {'class':'cjs_ctitle _item_title'})\n",
    "cjs_1_contents = cjs.find('div', {'class':'cjs_journal_wrap _item_contents'})\n",
    "\n",
    "\n",
    "# 첫번째 기사 항목 추출\n",
    "## 기고날짜 (cjs_1_title)\n",
    "datetime = cjs_1_title.find('span', {'class':'datetime'}).text\n",
    "## 언론사명 (cjs_1_title)\n",
    "h4 = cjs_1_title.find('h4', {'class':'channel'})\n",
    "channel = []\n",
    "for h in h4:\n",
    "    span = h4.find('span', {'class':'datetime'})\n",
    "    if h != span:\n",
    "        channel.append(h)\n",
    "## 기사 타이틀 (cjs_1_contents) \n",
    "title = cjs_1_contents.find('div', {'class':'cjs_t'}).text\n",
    "## 기사 요약 (cjs_1_contents) \n",
    "summary = cjs_1_contents.find('p', {'class':'cjs_d'}).text\n",
    "### dict 로 저장\n",
    "col_dict = {'기사 타이틀':title,\n",
    "            '기사 요약':summary,\n",
    "           '언론사':channel,\n",
    "           '기고 날짜':datetime}\n",
    "\n",
    "# 결과\n",
    "col_dict"
   ]
  }
 ],
 "metadata": {
  "kernelspec": {
   "display_name": "Python 3 (ipykernel)",
   "language": "python",
   "name": "python3"
  },
  "language_info": {
   "codemirror_mode": {
    "name": "ipython",
    "version": 3
   },
   "file_extension": ".py",
   "mimetype": "text/x-python",
   "name": "python",
   "nbconvert_exporter": "python",
   "pygments_lexer": "ipython3",
   "version": "3.10.10"
  }
 },
 "nbformat": 4,
 "nbformat_minor": 5
}
