{
 "cells": [
  {
   "cell_type": "markdown",
   "id": "4dd5fb5f-6946-4d25-b592-55d674b519c2",
   "metadata": {},
   "source": [
    "# **카카오 Geocode**"
   ]
  },
  {
   "cell_type": "code",
   "execution_count": 1,
   "id": "9c738d6d-75b0-4bce-9efa-c0bc996c1cb3",
   "metadata": {},
   "outputs": [],
   "source": [
    "import pandas as pd\n",
    "import requests \n",
    "import sys\n",
    "import json\n",
    "import datetime "
   ]
  },
  {
   "cell_type": "code",
   "execution_count": 4,
   "id": "9da55721-108b-4bce-a4ee-7d8c4413f779",
   "metadata": {},
   "outputs": [],
   "source": [
    "# 카카오 Rest API 키 등록\n",
    "KAKAO_API_KEY = '4254bbc85c09f3ff26372511d2bd5d10' "
   ]
  },
  {
   "cell_type": "markdown",
   "id": "e9c0232e-ceed-49fa-b39d-7a6b5c5a1cbf",
   "metadata": {},
   "source": [
    "### **📍 좌표, 주소 반환**\n",
    "\n",
    "**KaKao 지도/로컬 API Guideline**\n",
    "- https://developers.kakao.com/product/map\n",
    "- (로컬 >) **주소 검색**: 주소를 지도 위에 정확하게 표시할 수 있도록 좌표 정보를 제공합니다.\n",
    "- (로컬 >) **좌표-행정구역정보 변환**: 다양한 좌표계의 좌표 값을 받아 해당 행정동, 법정동 정보를 제공합니다."
   ]
  },
  {
   "cell_type": "code",
   "execution_count": 10,
   "id": "96d89517-9435-4070-8d44-0c95a192d82e",
   "metadata": {},
   "outputs": [],
   "source": [
    "# 카카오 서버에 요청 후, 응답받은 데이터를 반환하는 함수\n",
    "def json_request(url):\n",
    "    headers = {'Authorization' : 'KakaoAK {}'.format(KAKAO_API_KEY)}\n",
    "    res = requests.get(url, headers=headers)\n",
    "    return res.text"
   ]
  },
  {
   "cell_type": "markdown",
   "id": "9c6af49d-aedd-4f9a-8946-a060eefc54d0",
   "metadata": {},
   "source": [
    "#### **🔸 좌표 반환**\n",
    "- 주소를 검색하면 좌표를 제공"
   ]
  },
  {
   "cell_type": "code",
   "execution_count": 18,
   "id": "350f5ad4-7e1f-47e6-aa55-57c7b0163c11",
   "metadata": {},
   "outputs": [],
   "source": [
    "# 주소 검색 (좌표 정보 제공)\n",
    "def addr_lat_lon(addr):\n",
    "    # 주소 -> 좌표 변환 요청 주소\n",
    "    url = 'https://dapi.kakao.com/v2/local/search/address.json?query={address}'.format(address=addr)\n",
    "    \n",
    "    try :\n",
    "        res_json = json_request(url)\n",
    "        res = json.loads(res_json)\n",
    "        match_adr = res['documents'][0]['address']\n",
    "    except :\n",
    "        return 'NaN', 'NaN'\n",
    "\n",
    "    return float(match_adr['x']), float(match_adr['y'])"
   ]
  },
  {
   "cell_type": "code",
   "execution_count": 19,
   "id": "d31fb8f7-4e01-43f3-b547-dd8eddd66076",
   "metadata": {},
   "outputs": [
    {
     "data": {
      "text/plain": [
       "(126.977829174031, 37.5663174209601)"
      ]
     },
     "execution_count": 19,
     "metadata": {},
     "output_type": "execute_result"
    }
   ],
   "source": [
    "addr_lat_lon('서울특별시 중구 세종대로 110')"
   ]
  },
  {
   "cell_type": "markdown",
   "id": "47e82923-54d1-47cd-97e9-d10b290add90",
   "metadata": {},
   "source": [
    "#### **🔸 주소 반환**\n",
    "- 좌표를 입력하면 주소 정보를 제공"
   ]
  },
  {
   "cell_type": "code",
   "execution_count": 46,
   "id": "abf02bd0-a802-4d77-a30e-7628ca5f79b3",
   "metadata": {},
   "outputs": [],
   "source": [
    "# 좌표-행정구역정보 변환\n",
    "def reverse_geocode(longitude, latitude):\n",
    "    # 파라미터 최적화하여 url 생성\n",
    "    # 좌표 -> 주소 변환 api 요청 주소\n",
    "\n",
    "    # 위경도에 매칭되는 '최종 번지'까지 반환\n",
    "    URL = 'https://dapi.kakao.com/v2/local/geo/coord2address.json'\n",
    "    # 위경도를 포함하는 '행정구역'까지 반환\n",
    "    # URL = 'https://dapi.kakao.com/v2/local/geo/coord2regioncode.json'\n",
    "    \n",
    "    url = '%s?x=%s&y=%s' %(URL, longitude, latitude)\n",
    "\n",
    "    try :\n",
    "        json_res = json_request(url=url)\n",
    "        res = json.loads(json_res)\n",
    "        doc = res['documents'][0]\n",
    "        adr1 = doc['road_address']['address_name'] # 도로 주소\n",
    "        adr2 = doc['address']['address_name'] # 지번 주소\n",
    "    except :\n",
    "        return '주소 검색 실패'\n",
    "    return adr1, adr2"
   ]
  },
  {
   "cell_type": "code",
   "execution_count": 29,
   "id": "271f22d7-52f4-4fe3-b42c-745fcaac4415",
   "metadata": {},
   "outputs": [],
   "source": [
    "lat = 37.5663174209601\n",
    "lng = 126.977829174031"
   ]
  },
  {
   "cell_type": "code",
   "execution_count": 41,
   "id": "1928745f-07c3-4551-b27f-2bad5e2756a0",
   "metadata": {},
   "outputs": [
    {
     "name": "stdout",
     "output_type": "stream",
     "text": [
      "도로 주소:  서울특별시 중구 세종대로 110\n",
      "지번 주소:  서울 중구 태평로1가 31\n"
     ]
    }
   ],
   "source": [
    "# reverse_geocode(lng, lat)['documents'][0].keys()\n",
    "# reverse_geocode(lng, lat)['documents'][0].keys() => dict_keys(['road_address', 'address'])\n",
    "print('도로 주소: ', reverse_geocode(lng, lat)['documents'][0]['road_address']['address_name'])\n",
    "print('지번 주소: ', reverse_geocode(lng, lat)['documents'][0]['address']['address_name'])"
   ]
  },
  {
   "cell_type": "code",
   "execution_count": 47,
   "id": "447e962f-203d-4d62-954e-3cd8db098375",
   "metadata": {},
   "outputs": [
    {
     "data": {
      "text/plain": [
       "('서울특별시 중구 세종대로 110', '서울 중구 태평로1가 31')"
      ]
     },
     "execution_count": 47,
     "metadata": {},
     "output_type": "execute_result"
    }
   ],
   "source": [
    "reverse_geocode(lng, lat)"
   ]
  }
 ],
 "metadata": {
  "kernelspec": {
   "display_name": "Python 3 (ipykernel)",
   "language": "python",
   "name": "python3"
  },
  "language_info": {
   "codemirror_mode": {
    "name": "ipython",
    "version": 3
   },
   "file_extension": ".py",
   "mimetype": "text/x-python",
   "name": "python",
   "nbconvert_exporter": "python",
   "pygments_lexer": "ipython3",
   "version": "3.10.10"
  }
 },
 "nbformat": 4,
 "nbformat_minor": 5
}
