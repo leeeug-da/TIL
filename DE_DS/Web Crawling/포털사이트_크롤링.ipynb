{
 "cells": [
  {
   "cell_type": "markdown",
   "id": "719fdb15-114e-4659-83f7-0a14f959282c",
   "metadata": {},
   "source": [
    "# **포털사이트 크롤링**"
   ]
  },
  {
   "cell_type": "code",
   "execution_count": 1,
   "id": "91e1def4-0fee-467a-92a3-baa5cefe4234",
   "metadata": {},
   "outputs": [],
   "source": [
    "from IPython.core.interactiveshell import InteractiveShell\n",
    "InteractiveShell.ast_node_interactivity=\"all\""
   ]
  },
  {
   "cell_type": "code",
   "execution_count": 2,
   "id": "c1e37413-9470-46fc-becc-b88444979f6f",
   "metadata": {},
   "outputs": [],
   "source": [
    "import warnings\n",
    "warnings.filterwarnings(action='ignore')"
   ]
  },
  {
   "cell_type": "code",
   "execution_count": 3,
   "id": "0bc87f0e-0a2b-41be-8ec8-9ef791d23db1",
   "metadata": {},
   "outputs": [],
   "source": [
    "import pandas as pd\n",
    "import bs4\n",
    "import requests\n",
    "from urllib.request import urlopen"
   ]
  },
  {
   "attachments": {
    "4b741ca1-3c5d-4647-9301-1ded9ba2661f.png": {
     "image/png": "[encoded data removed]"
    }
   },
   "cell_type": "markdown",
   "id": "bc698948-eb99-4feb-9f49-280f526f2a4d",
   "metadata": {},
   "source": [
    "![Frame 10 (1).png](attachment:4b741ca1-3c5d-4647-9301-1ded9ba2661f.png)\n",
    "\n",
    "## **네이트 사이트의 메뉴 추출**"
   ]
  },
  {
   "cell_type": "markdown",
   "id": "e959e249-71ef-4c20-ac39-cee6c3d3c468",
   "metadata": {
    "jp-MarkdownHeadingCollapsed": true
   },
   "source": [
    "### **🔸 메뉴명과 연결 url을 추출**"
   ]
  },
  {
   "cell_type": "code",
   "execution_count": 4,
   "id": "f339d215-6e35-4fbc-a157-b73ad63d7f34",
   "metadata": {},
   "outputs": [],
   "source": [
    "# url 정의\n",
    "url = 'https://www.nate.com'"
   ]
  },
  {
   "cell_type": "code",
   "execution_count": 5,
   "id": "29b5fee1-b537-4cd4-8b8b-db9e7162b67c",
   "metadata": {},
   "outputs": [
    {
     "data": {
      "text/plain": [
       "<http.client.HTTPResponse at 0x11db65150>"
      ]
     },
     "execution_count": 5,
     "metadata": {},
     "output_type": "execute_result"
    }
   ],
   "source": [
    "# response 객체 얻어오기\n",
    "html = urlopen(url)\n",
    "html"
   ]
  },
  {
   "cell_type": "code",
   "execution_count": 6,
   "id": "b84f7221-0548-471d-89ee-017ffd9a1c76",
   "metadata": {},
   "outputs": [],
   "source": [
    "# 전달된 소스코드만 추출하기 \n",
    "html_text = html.read()"
   ]
  },
  {
   "cell_type": "code",
   "execution_count": 7,
   "id": "5cee1dba-dda4-4f3f-b44e-727bb027b6c9",
   "metadata": {},
   "outputs": [],
   "source": [
    "# binary code 형태로 되어있는 소스코드 -> bs4 객체로 변환\n",
    "bs_obj = bs4.BeautifulSoup(html_text, 'html.parser')"
   ]
  },
  {
   "cell_type": "code",
   "execution_count": 8,
   "id": "1de65992-2f26-47a3-abf3-5c06d1acaed3",
   "metadata": {
    "scrolled": true
   },
   "outputs": [],
   "source": [
    "# 확인\n",
    "# print(bs_obj.prettify())"
   ]
  },
  {
   "cell_type": "code",
   "execution_count": 9,
   "id": "1748a51d-d5a5-4791-9dc9-551d16ba33b0",
   "metadata": {},
   "outputs": [],
   "source": [
    "# 네이트 사이트의 메뉴 Selector 확인\n",
    "# #divGnb"
   ]
  },
  {
   "cell_type": "code",
   "execution_count": 10,
   "id": "5d152e61-0c51-4de2-8633-57c909274064",
   "metadata": {
    "scrolled": true
   },
   "outputs": [],
   "source": [
    "# 메뉴 Selector 변수로 저장해두기\n",
    "menu = bs_obj.find('div', {'id':'divGnb'})\n",
    "menu_li = menu.select('li')\n",
    "# menu_li"
   ]
  },
  {
   "cell_type": "code",
   "execution_count": 11,
   "id": "f34457a2-a109-4c2e-b2a8-5b9882651541",
   "metadata": {},
   "outputs": [
    {
     "data": {
      "text/plain": [
       "<li class=\"mail\"><a href=\"https://mail3.nate.com/#index\" onmousedown=\"nc('NGB01');\">메일</a></li>"
      ]
     },
     "execution_count": 11,
     "metadata": {},
     "output_type": "execute_result"
    },
    {
     "data": {
      "text/plain": [
       "'메일'"
      ]
     },
     "execution_count": 11,
     "metadata": {},
     "output_type": "execute_result"
    },
    {
     "data": {
      "text/plain": [
       "<a href=\"https://mail3.nate.com/#index\" onmousedown=\"nc('NGB01');\">메일</a>"
      ]
     },
     "execution_count": 11,
     "metadata": {},
     "output_type": "execute_result"
    },
    {
     "data": {
      "text/plain": [
       "'https://mail3.nate.com/#index'"
      ]
     },
     "execution_count": 11,
     "metadata": {},
     "output_type": "execute_result"
    }
   ],
   "source": [
    "# 소스코드 구조 보기\n",
    "menu_li[0]\n",
    "menu_li[0].text\n",
    "menu_li[0].a\n",
    "menu_li[0].a['href']"
   ]
  },
  {
   "cell_type": "code",
   "execution_count": 12,
   "id": "e0992b46-931f-44e8-b626-ce3f0cf6e2d7",
   "metadata": {
    "scrolled": true
   },
   "outputs": [
    {
     "name": "stdout",
     "output_type": "stream",
     "text": [
      "메일 https://mail3.nate.com/#index\n",
      "뉴스 //news.nate.com/\n",
      "판 https://pann.nate.com/\n",
      "AI챗beta https://m.nate.com/aichat.html\n",
      "TV https://tv.nate.com/\n",
      "툰앤북 https://toonnbook.nate.com/\n",
      "운세 https://fortune.nate.com/home/main.nate\n",
      "게임 http://game.nate.com/\n",
      "쇼핑 //shopping.nate.com/\n",
      "팀룸 https://nateonweb.nate.com/teamroom/\n",
      "네이트뷰 https://view.nate.com/\n",
      "\n",
      "더보기\n",
      "\n",
      "\n",
      "뉴스\n",
      "날씨\n",
      "스포츠\n",
      "연예\n",
      "아이돌24\n",
      "랭킹뉴스\n",
      "\n",
      "\n",
      "판\n",
      "톡톡\n",
      "판포토\n",
      "팬톡\n",
      "\n",
      "\n",
      "네이트온\n",
      "네이트캐쉬\n",
      "문자메시지\n",
      "주소록\n",
      "\n",
      "\n",
      "컬러링\n",
      "이슈UP추천\n",
      "\n",
      "서비스 전체보기\n",
      "더보기 닫기\n",
      "\n",
      " javascript:;\n",
      "뉴스 //news.nate.com\n",
      "날씨 //news.nate.com/Weather\n",
      "스포츠 //sports.news.nate.com/\n",
      "연예 //news.nate.com/ent/index\n",
      "아이돌24 //news.nate.com/ent/idol24\n",
      "랭킹뉴스 //news.nate.com/rank/interest\n",
      "판 https://pann.nate.com/\n",
      "톡톡 https://pann.nate.com/talk\n",
      "판포토 https://pann.nate.com/talk/imageTheme/index\n",
      "팬톡 https://pann.nate.com/fantalk\n",
      "네이트온 //nateonweb.nate.com/\n",
      "네이트캐쉬 //cash.nate.com/center/cashMain.sc\n",
      "문자메시지 https://sms.nate.com/\n",
      "주소록 https://mail.nate.com/pims/\n",
      "컬러링 //mobile.nate.com/\n",
      "이슈UP추천 //editor.nate.com/\n"
     ]
    }
   ],
   "source": [
    "# 메뉴명과 링크 뽑는 코드 확인하기\n",
    "for li in menu_li:\n",
    "    print(li.text, li.a['href'])\n",
    "\n",
    "# Action List\n",
    "## 중복이 되는 메뉴는 제외 (더보기 내에 중복되어 있음)\n",
    "## href 가 없는 메뉴는 제외\n",
    "## 'javascript' 태그명 제외 "
   ]
  },
  {
   "cell_type": "markdown",
   "id": "f50898f9-52ab-4f80-a169-6c9bb155e830",
   "metadata": {
    "jp-MarkdownHeadingCollapsed": true
   },
   "source": [
    "### **🔸 메뉴명과 링크 DF 만들기**\n",
    "- 빈 df를 생성 후, df에 data를 행으로 추가\n",
    "- 각각의 행을 df로 생성 후, concat 함수로 결합"
   ]
  },
  {
   "cell_type": "code",
   "execution_count": 13,
   "id": "975a4508-c6b7-481f-80c3-afbbd2940778",
   "metadata": {},
   "outputs": [
    {
     "data": {
      "text/html": [
       "<div>\n",
       "<style scoped>\n",
       "    .dataframe tbody tr th:only-of-type {\n",
       "        vertical-align: middle;\n",
       "    }\n",
       "\n",
       "    .dataframe tbody tr th {\n",
       "        vertical-align: top;\n",
       "    }\n",
       "\n",
       "    .dataframe thead th {\n",
       "        text-align: right;\n",
       "    }\n",
       "</style>\n",
       "<table border=\"1\" class=\"dataframe\">\n",
       "  <thead>\n",
       "    <tr style=\"text-align: right;\">\n",
       "      <th></th>\n",
       "      <th>메뉴</th>\n",
       "      <th>링크</th>\n",
       "    </tr>\n",
       "  </thead>\n",
       "  <tbody>\n",
       "  </tbody>\n",
       "</table>\n",
       "</div>"
      ],
      "text/plain": [
       "Empty DataFrame\n",
       "Columns: [메뉴, 링크]\n",
       "Index: []"
      ]
     },
     "execution_count": 13,
     "metadata": {},
     "output_type": "execute_result"
    }
   ],
   "source": [
    "# 빈 df 생성\n",
    "nate_menu = pd.DataFrame({'메뉴':[], '링크':[]})\n",
    "nate_menu"
   ]
  },
  {
   "cell_type": "code",
   "execution_count": 14,
   "id": "6125becc-6f06-45b3-bb8d-b627aa847d53",
   "metadata": {
    "scrolled": true
   },
   "outputs": [
    {
     "data": {
      "text/html": [
       "<div>\n",
       "<style scoped>\n",
       "    .dataframe tbody tr th:only-of-type {\n",
       "        vertical-align: middle;\n",
       "    }\n",
       "\n",
       "    .dataframe tbody tr th {\n",
       "        vertical-align: top;\n",
       "    }\n",
       "\n",
       "    .dataframe thead th {\n",
       "        text-align: right;\n",
       "    }\n",
       "</style>\n",
       "<table border=\"1\" class=\"dataframe\">\n",
       "  <thead>\n",
       "    <tr style=\"text-align: right;\">\n",
       "      <th></th>\n",
       "      <th>메뉴</th>\n",
       "      <th>링크</th>\n",
       "    </tr>\n",
       "  </thead>\n",
       "  <tbody>\n",
       "    <tr>\n",
       "      <th>0</th>\n",
       "      <td>메일</td>\n",
       "      <td>https://mail3.nate.com/#index</td>\n",
       "    </tr>\n",
       "    <tr>\n",
       "      <th>1</th>\n",
       "      <td>뉴스</td>\n",
       "      <td>//news.nate.com/</td>\n",
       "    </tr>\n",
       "    <tr>\n",
       "      <th>2</th>\n",
       "      <td>판</td>\n",
       "      <td>https://pann.nate.com/</td>\n",
       "    </tr>\n",
       "    <tr>\n",
       "      <th>3</th>\n",
       "      <td>AI챗beta</td>\n",
       "      <td>https://m.nate.com/aichat.html</td>\n",
       "    </tr>\n",
       "    <tr>\n",
       "      <th>4</th>\n",
       "      <td>TV</td>\n",
       "      <td>https://tv.nate.com/</td>\n",
       "    </tr>\n",
       "    <tr>\n",
       "      <th>5</th>\n",
       "      <td>툰앤북</td>\n",
       "      <td>https://toonnbook.nate.com/</td>\n",
       "    </tr>\n",
       "    <tr>\n",
       "      <th>6</th>\n",
       "      <td>운세</td>\n",
       "      <td>https://fortune.nate.com/home/main.nate</td>\n",
       "    </tr>\n",
       "    <tr>\n",
       "      <th>7</th>\n",
       "      <td>게임</td>\n",
       "      <td>http://game.nate.com/</td>\n",
       "    </tr>\n",
       "    <tr>\n",
       "      <th>8</th>\n",
       "      <td>쇼핑</td>\n",
       "      <td>//shopping.nate.com/</td>\n",
       "    </tr>\n",
       "    <tr>\n",
       "      <th>9</th>\n",
       "      <td>팀룸</td>\n",
       "      <td>https://nateonweb.nate.com/teamroom/</td>\n",
       "    </tr>\n",
       "    <tr>\n",
       "      <th>10</th>\n",
       "      <td>네이트뷰</td>\n",
       "      <td>https://view.nate.com/</td>\n",
       "    </tr>\n",
       "    <tr>\n",
       "      <th>11</th>\n",
       "      <td>날씨</td>\n",
       "      <td>//news.nate.com/Weather</td>\n",
       "    </tr>\n",
       "    <tr>\n",
       "      <th>12</th>\n",
       "      <td>스포츠</td>\n",
       "      <td>//sports.news.nate.com/</td>\n",
       "    </tr>\n",
       "    <tr>\n",
       "      <th>13</th>\n",
       "      <td>연예</td>\n",
       "      <td>//news.nate.com/ent/index</td>\n",
       "    </tr>\n",
       "    <tr>\n",
       "      <th>14</th>\n",
       "      <td>아이돌24</td>\n",
       "      <td>//news.nate.com/ent/idol24</td>\n",
       "    </tr>\n",
       "    <tr>\n",
       "      <th>15</th>\n",
       "      <td>랭킹뉴스</td>\n",
       "      <td>//news.nate.com/rank/interest</td>\n",
       "    </tr>\n",
       "    <tr>\n",
       "      <th>16</th>\n",
       "      <td>톡톡</td>\n",
       "      <td>https://pann.nate.com/talk</td>\n",
       "    </tr>\n",
       "    <tr>\n",
       "      <th>17</th>\n",
       "      <td>판포토</td>\n",
       "      <td>https://pann.nate.com/talk/imageTheme/index</td>\n",
       "    </tr>\n",
       "    <tr>\n",
       "      <th>18</th>\n",
       "      <td>팬톡</td>\n",
       "      <td>https://pann.nate.com/fantalk</td>\n",
       "    </tr>\n",
       "    <tr>\n",
       "      <th>19</th>\n",
       "      <td>네이트온</td>\n",
       "      <td>//nateonweb.nate.com/</td>\n",
       "    </tr>\n",
       "    <tr>\n",
       "      <th>20</th>\n",
       "      <td>네이트캐쉬</td>\n",
       "      <td>//cash.nate.com/center/cashMain.sc</td>\n",
       "    </tr>\n",
       "    <tr>\n",
       "      <th>21</th>\n",
       "      <td>문자메시지</td>\n",
       "      <td>https://sms.nate.com/</td>\n",
       "    </tr>\n",
       "    <tr>\n",
       "      <th>22</th>\n",
       "      <td>주소록</td>\n",
       "      <td>https://mail.nate.com/pims/</td>\n",
       "    </tr>\n",
       "    <tr>\n",
       "      <th>23</th>\n",
       "      <td>컬러링</td>\n",
       "      <td>//mobile.nate.com/</td>\n",
       "    </tr>\n",
       "    <tr>\n",
       "      <th>24</th>\n",
       "      <td>이슈UP추천</td>\n",
       "      <td>//editor.nate.com/</td>\n",
       "    </tr>\n",
       "  </tbody>\n",
       "</table>\n",
       "</div>"
      ],
      "text/plain": [
       "         메뉴                                           링크\n",
       "0        메일                https://mail3.nate.com/#index\n",
       "1        뉴스                             //news.nate.com/\n",
       "2         판                       https://pann.nate.com/\n",
       "3   AI챗beta               https://m.nate.com/aichat.html\n",
       "4        TV                         https://tv.nate.com/\n",
       "5       툰앤북                  https://toonnbook.nate.com/\n",
       "6        운세      https://fortune.nate.com/home/main.nate\n",
       "7        게임                        http://game.nate.com/\n",
       "8        쇼핑                         //shopping.nate.com/\n",
       "9        팀룸         https://nateonweb.nate.com/teamroom/\n",
       "10     네이트뷰                       https://view.nate.com/\n",
       "11       날씨                      //news.nate.com/Weather\n",
       "12      스포츠                      //sports.news.nate.com/\n",
       "13       연예                    //news.nate.com/ent/index\n",
       "14    아이돌24                   //news.nate.com/ent/idol24\n",
       "15     랭킹뉴스                //news.nate.com/rank/interest\n",
       "16       톡톡                   https://pann.nate.com/talk\n",
       "17      판포토  https://pann.nate.com/talk/imageTheme/index\n",
       "18       팬톡                https://pann.nate.com/fantalk\n",
       "19     네이트온                        //nateonweb.nate.com/\n",
       "20    네이트캐쉬           //cash.nate.com/center/cashMain.sc\n",
       "21    문자메시지                        https://sms.nate.com/\n",
       "22      주소록                  https://mail.nate.com/pims/\n",
       "23      컬러링                           //mobile.nate.com/\n",
       "24   이슈UP추천                           //editor.nate.com/"
      ]
     },
     "execution_count": 14,
     "metadata": {},
     "output_type": "execute_result"
    }
   ],
   "source": [
    "# 메뉴명과 링크 뽑기\n",
    "# Action List\n",
    "## 중복이 되는 메뉴는 제외 (더보기 내에 중복되어 있음)\n",
    "## href 가 없는 메뉴는 제외\n",
    "## 'javascript' 태그명 제외\n",
    "\n",
    "index = 0\n",
    "for li in menu_li:\n",
    "    menu_text = li.text\n",
    "    menu_link = li.a['href']\n",
    "    if menu_text in nate_menu['메뉴'].values or menu_link == '' or menu_link == 'javascript:;':\n",
    "        continue\n",
    "    temp = pd.DataFrame({'메뉴':menu_text, '링크':menu_link}, index=[index])\n",
    "    nate_menu = pd.concat([nate_menu, temp])\n",
    "    index = index + 1\n",
    "nate_menu"
   ]
  },
  {
   "cell_type": "markdown",
   "id": "3da85e87-56b2-4515-bd5d-ea6b2a6fdb17",
   "metadata": {
    "jp-MarkdownHeadingCollapsed": true
   },
   "source": [
    "### **🔸 수집 데이터 저장**\n",
    "- DataLake에 rawdata 그대로 저장\n",
    "- 저장 공간은 crawl_data 공간에 저장"
   ]
  },
  {
   "cell_type": "code",
   "execution_count": 15,
   "id": "c11a8712-2d25-441c-a4d7-8614ae83c4a0",
   "metadata": {},
   "outputs": [],
   "source": [
    "# 저장공간 존재 여부 확인 후 없으면 생성\n",
    "import os\n",
    "\n",
    "if not os.path.exists('crawl_data'):\n",
    "    os.makedirs('crawl_data')"
   ]
  },
  {
   "cell_type": "code",
   "execution_count": 16,
   "id": "dc3cee64-7fab-4119-bb05-00fb800caaf8",
   "metadata": {},
   "outputs": [],
   "source": [
    "# 파일 저장\n",
    "nate_menu.to_csv('./crawl_data/nate_menu.csv')"
   ]
  },
  {
   "attachments": {
    "f930f6c6-8eed-4994-b296-e856e00f1972.png": {
     "image/png": "[encoded data removed]"
    }
   },
   "cell_type": "markdown",
   "id": "b3ffebc2-125f-4f12-a95b-1c18d246f96e",
   "metadata": {},
   "source": [
    "![Frame 11.png](attachment:f930f6c6-8eed-4994-b296-e856e00f1972.png)\n",
    "\n",
    "## **네이버 뉴스 크롤링**\n",
    "- 네이버 뉴스는 네이버 정책에 따라 모든 언론사들의 뉴스가 랜덤하게 배치됨\n",
    "- 헤드라인 뉴스는 표면적으로는 제공되지 않는다\n",
    "- 네이버 메인 페이지는 upgrade 정책에 따라 동적구성되는 경우가 있기 때문에, **셀레니움**을 사용해야 함\n",
    "- sub 페이지는 정적구성 이므로 sub인 news로 바로 접근 "
   ]
  },
  {
   "cell_type": "markdown",
   "id": "b1910d92-e7dd-48a2-bc8d-5202d1457180",
   "metadata": {
    "jp-MarkdownHeadingCollapsed": true
   },
   "source": [
    "### **🔸 네이버 뉴스 메뉴 추출**"
   ]
  },
  {
   "cell_type": "code",
   "execution_count": 17,
   "id": "486ba150-ec14-4c9e-a546-94c983b77abd",
   "metadata": {
    "scrolled": true
   },
   "outputs": [],
   "source": [
    "# 소스코드 받아오기 및 bs4 객체로 저장\n",
    "url = 'https://news.naver.com'\n",
    "html = urlopen(url)\n",
    "html_text = html.read()\n",
    "bs_obj = bs4.BeautifulSoup(html_text, 'html.parser')\n",
    "# print(bs_obj.prettify())"
   ]
  },
  {
   "cell_type": "code",
   "execution_count": 18,
   "id": "c3bcf9d7-dad7-43e1-a864-3f2228ec6fbd",
   "metadata": {
    "scrolled": true
   },
   "outputs": [],
   "source": [
    "# 네이버 사이트의 메뉴 Selector 확인\n",
    "# bs_obj.select('body > section > header > div.Nlnb._float_lnb > div')"
   ]
  },
  {
   "cell_type": "code",
   "execution_count": 19,
   "id": "b5e532e4-c765-41a9-afa3-be96a29a4026",
   "metadata": {
    "scrolled": true
   },
   "outputs": [],
   "source": [
    "# ul 태그 추출 \n",
    "ul = bs_obj.find('ul', {'class':'Nlnb_menu_list'})\n",
    "# ul"
   ]
  },
  {
   "cell_type": "code",
   "execution_count": 20,
   "id": "1557f9cb-d05a-4c7e-a47f-2e27ac5d2df4",
   "metadata": {
    "scrolled": true
   },
   "outputs": [
    {
     "name": "stdout",
     "output_type": "stream",
     "text": [
      "14\n",
      "<class 'bs4.element.ResultSet'>\n"
     ]
    }
   ],
   "source": [
    "# li 태그 추출\n",
    "lis = ul.findAll('li')\n",
    "print(len(lis))\n",
    "# print(lis)\n",
    "print(type(lis))"
   ]
  },
  {
   "cell_type": "code",
   "execution_count": 21,
   "id": "4bd86c45-86fd-46fa-8248-7ab3b4549a36",
   "metadata": {},
   "outputs": [
    {
     "name": "stdout",
     "output_type": "stream",
     "text": [
      "언론사별  :  https://news.naver.com/?viewType=pc\n",
      "정치  :  https://news.naver.com/main/main.naver?mode=LSD&mid=shm&sid1=100\n",
      "경제  :  https://news.naver.com/main/main.naver?mode=LSD&mid=shm&sid1=101\n",
      "사회  :  https://news.naver.com/main/main.naver?mode=LSD&mid=shm&sid1=102\n",
      "생활/문화  :  https://news.naver.com/main/main.naver?mode=LSD&mid=shm&sid1=103\n",
      "IT/과학  :  https://news.naver.com/main/main.naver?mode=LSD&mid=shm&sid1=105\n",
      "세계  :  https://news.naver.com/main/main.naver?mode=LSD&mid=shm&sid1=104\n",
      "랭킹  :  https://news.naver.com/main/ranking/popularDay.naver\n",
      "신문보기  :  https://news.naver.com/newspaper/home?viewType=pc\n",
      "오피니언  :  https://news.naver.com/opinion/home\n",
      "TV  :  https://news.naver.com/main/tv/index.naver?mid=tvh\n",
      "팩트체크  :  https://news.naver.com/factcheck/main\n",
      "알고리즘 안내  :  https://media.naver.com/algorithm\n",
      "정정보도 모음  :  https://news.naver.com/main/ombudsman/errorArticleList.naver?mid=omb\n"
     ]
    }
   ],
   "source": [
    "# a태그, text (링크, 메뉴명) 추출하기 위해 확인\n",
    "for li in lis:\n",
    "    a_tag = li.find('a')\n",
    "    print(a_tag.text, \" : \", a_tag['href'])\n",
    "\n",
    "# 별다른 문제 없이 잘 들어가 있는 것이 확인됨 "
   ]
  },
  {
   "cell_type": "code",
   "execution_count": 22,
   "id": "8d07e84f-e1cc-4b12-b3b6-69b33b4c051e",
   "metadata": {},
   "outputs": [
    {
     "data": {
      "text/html": [
       "<div>\n",
       "<style scoped>\n",
       "    .dataframe tbody tr th:only-of-type {\n",
       "        vertical-align: middle;\n",
       "    }\n",
       "\n",
       "    .dataframe tbody tr th {\n",
       "        vertical-align: top;\n",
       "    }\n",
       "\n",
       "    .dataframe thead th {\n",
       "        text-align: right;\n",
       "    }\n",
       "</style>\n",
       "<table border=\"1\" class=\"dataframe\">\n",
       "  <thead>\n",
       "    <tr style=\"text-align: right;\">\n",
       "      <th></th>\n",
       "      <th>메뉴</th>\n",
       "      <th>링크</th>\n",
       "    </tr>\n",
       "  </thead>\n",
       "  <tbody>\n",
       "    <tr>\n",
       "      <th>0</th>\n",
       "      <td>언론사별</td>\n",
       "      <td>https://news.naver.com/?viewType=pc</td>\n",
       "    </tr>\n",
       "    <tr>\n",
       "      <th>1</th>\n",
       "      <td>정치</td>\n",
       "      <td>https://news.naver.com/main/main.naver?mode=LS...</td>\n",
       "    </tr>\n",
       "    <tr>\n",
       "      <th>2</th>\n",
       "      <td>경제</td>\n",
       "      <td>https://news.naver.com/main/main.naver?mode=LS...</td>\n",
       "    </tr>\n",
       "    <tr>\n",
       "      <th>3</th>\n",
       "      <td>사회</td>\n",
       "      <td>https://news.naver.com/main/main.naver?mode=LS...</td>\n",
       "    </tr>\n",
       "    <tr>\n",
       "      <th>4</th>\n",
       "      <td>생활/문화</td>\n",
       "      <td>https://news.naver.com/main/main.naver?mode=LS...</td>\n",
       "    </tr>\n",
       "    <tr>\n",
       "      <th>5</th>\n",
       "      <td>IT/과학</td>\n",
       "      <td>https://news.naver.com/main/main.naver?mode=LS...</td>\n",
       "    </tr>\n",
       "    <tr>\n",
       "      <th>6</th>\n",
       "      <td>세계</td>\n",
       "      <td>https://news.naver.com/main/main.naver?mode=LS...</td>\n",
       "    </tr>\n",
       "    <tr>\n",
       "      <th>7</th>\n",
       "      <td>랭킹</td>\n",
       "      <td>https://news.naver.com/main/ranking/popularDay...</td>\n",
       "    </tr>\n",
       "    <tr>\n",
       "      <th>8</th>\n",
       "      <td>신문보기</td>\n",
       "      <td>https://news.naver.com/newspaper/home?viewType=pc</td>\n",
       "    </tr>\n",
       "    <tr>\n",
       "      <th>9</th>\n",
       "      <td>오피니언</td>\n",
       "      <td>https://news.naver.com/opinion/home</td>\n",
       "    </tr>\n",
       "    <tr>\n",
       "      <th>10</th>\n",
       "      <td>TV</td>\n",
       "      <td>https://news.naver.com/main/tv/index.naver?mid...</td>\n",
       "    </tr>\n",
       "    <tr>\n",
       "      <th>11</th>\n",
       "      <td>팩트체크</td>\n",
       "      <td>https://news.naver.com/factcheck/main</td>\n",
       "    </tr>\n",
       "    <tr>\n",
       "      <th>12</th>\n",
       "      <td>알고리즘 안내</td>\n",
       "      <td>https://media.naver.com/algorithm</td>\n",
       "    </tr>\n",
       "    <tr>\n",
       "      <th>13</th>\n",
       "      <td>정정보도 모음</td>\n",
       "      <td>https://news.naver.com/main/ombudsman/errorArt...</td>\n",
       "    </tr>\n",
       "  </tbody>\n",
       "</table>\n",
       "</div>"
      ],
      "text/plain": [
       "         메뉴                                                 링크\n",
       "0      언론사별                https://news.naver.com/?viewType=pc\n",
       "1        정치  https://news.naver.com/main/main.naver?mode=LS...\n",
       "2        경제  https://news.naver.com/main/main.naver?mode=LS...\n",
       "3        사회  https://news.naver.com/main/main.naver?mode=LS...\n",
       "4     생활/문화  https://news.naver.com/main/main.naver?mode=LS...\n",
       "5     IT/과학  https://news.naver.com/main/main.naver?mode=LS...\n",
       "6        세계  https://news.naver.com/main/main.naver?mode=LS...\n",
       "7        랭킹  https://news.naver.com/main/ranking/popularDay...\n",
       "8      신문보기  https://news.naver.com/newspaper/home?viewType=pc\n",
       "9      오피니언                https://news.naver.com/opinion/home\n",
       "10       TV  https://news.naver.com/main/tv/index.naver?mid...\n",
       "11     팩트체크              https://news.naver.com/factcheck/main\n",
       "12  알고리즘 안내                  https://media.naver.com/algorithm\n",
       "13  정정보도 모음  https://news.naver.com/main/ombudsman/errorArt..."
      ]
     },
     "execution_count": 22,
     "metadata": {},
     "output_type": "execute_result"
    }
   ],
   "source": [
    "# 메뉴 df 생성\n",
    "# 위 네이터와 다르게, 데이터가 잘 뽑혔기 때문에 리스트에 각 컬럼 데이터를 모은 후 df 로 구성 \n",
    "\n",
    "section = []\n",
    "link = []\n",
    "for li in lis:\n",
    "    a_tag = li.find('a')\n",
    "    section.append(a_tag.text)\n",
    "    link.append(a_tag['href'])\n",
    "\n",
    "col_dict = {'메뉴':section, '링크':link}\n",
    "naver_news_menu = pd.DataFrame(col_dict)\n",
    "naver_news_menu"
   ]
  },
  {
   "cell_type": "code",
   "execution_count": 23,
   "id": "bd026683-5b5f-4e07-8290-4d77b18d3be8",
   "metadata": {},
   "outputs": [],
   "source": [
    "# DataLake 에 저장\n",
    "naver_news_menu.to_csv('./crawl_data/naver_news_menu.csv')"
   ]
  },
  {
   "cell_type": "markdown",
   "id": "02b52a34-b44d-49c1-b0c5-a6a18c5d0e21",
   "metadata": {
    "jp-MarkdownHeadingCollapsed": true
   },
   "source": [
    "### **🔸 '언론사별' 섹션의 첫번째 언론사 뉴스 크롤링**\n",
    "- 기사 타이틀과 기사 요약 언론사명 기고날짜를 추출해서 출력하는 코드 작성\n",
    "- 네이버 뉴스 소스코드 받아오는 코드부터 작성"
   ]
  },
  {
   "cell_type": "code",
   "execution_count": 24,
   "id": "a0b7880b-f4b6-410d-9593-67b810289b64",
   "metadata": {},
   "outputs": [
    {
     "data": {
      "text/plain": [
       "{'기사 타이틀': '헤어진 여성 상대 4시간 흉기 인질극…스토킹 재판받던 중 범행',\n",
       " '기사 요약': '헤어진 여성을 스토킹한 혐의(스토킹범죄의 처벌 등에 관한 법률 위반 등)로 불구속 상태에서 재판을 받던 남성이 흉기를 휘두르며 여성을 붙잡고 인질극을 벌이다가 경찰에 검거됐다. 11일 경남경찰청 설명을 종합하면, 2',\n",
       " '언론사': ['한겨레'],\n",
       " '기고 날짜': '12월 11일 21:10'}"
      ]
     },
     "execution_count": 24,
     "metadata": {},
     "output_type": "execute_result"
    }
   ],
   "source": [
    "# 소스코드 받아오기 및 bs4 객체로 저장\n",
    "url = \"https://news.naver.com/?viewType=pc\"\n",
    "html = urlopen(url)\n",
    "html_text = html.read()\n",
    "bs_obj = bs4.BeautifulSoup(html_text, 'html.parser')\n",
    "\n",
    "\n",
    "# Selector 확인\n",
    "# bs_obj.select('#ct > div > section.main_content > div.main_brick > div > div:nth-child(1) > div.main_brick_item._channel_news_preview_wrapper')\n",
    "\n",
    "\n",
    "# 첫번째 언론사 Selector 추출\n",
    "cjs = bs_obj.find('div', {'class':'cjs_channel_card'})\n",
    "\n",
    "\n",
    "# 첫번째 기사 추출\n",
    "## 한 기사가 개별 div로 묶여있지 않고,  title, contents 구분되어 있음 \n",
    "cjs_1_title = cjs.find('div', {'class':'cjs_ctitle _item_title'})\n",
    "cjs_1_contents = cjs.find('div', {'class':'cjs_journal_wrap _item_contents'})\n",
    "\n",
    "\n",
    "# 첫번째 기사 항목 추출\n",
    "## 기고날짜 (cjs_1_title)\n",
    "datetime = cjs_1_title.find('span', {'class':'datetime'}).text\n",
    "## 언론사명 (cjs_1_title)\n",
    "h4 = cjs_1_title.find('h4', {'class':'channel'})\n",
    "channel = []\n",
    "for h in h4:\n",
    "    span = h4.find('span', {'class':'datetime'})\n",
    "    if h != span:\n",
    "        channel.append(h)\n",
    "## 기사 타이틀 (cjs_1_contents) \n",
    "title = cjs_1_contents.find('div', {'class':'cjs_t'}).text\n",
    "## 기사 요약 (cjs_1_contents) \n",
    "summary = cjs_1_contents.find('p', {'class':'cjs_d'}).text\n",
    "### dict 로 저장\n",
    "col_dict = {'기사 타이틀':title,\n",
    "            '기사 요약':summary,\n",
    "           '언론사':channel,\n",
    "           '기고 날짜':datetime}\n",
    "\n",
    "# 결과\n",
    "col_dict"
   ]
  },
  {
   "cell_type": "markdown",
   "id": "1a9750a1-b808-4301-b3db-4bbed41fb650",
   "metadata": {},
   "source": [
    "### **🔸 네이버 뉴스의 섹션별 Headline 뉴스의 제목/요약/세부link**\n",
    "- 섹션 : 정치/경제/사회/생활,문화/IT,과학/세계\n",
    "- layout이 동일하기 때문에 한 섹션을 예시 코드로 작성 후, 모든 섹션에 대해 적용"
   ]
  },
  {
   "cell_type": "code",
   "execution_count": 25,
   "id": "ee9a0a63-0ad8-4410-a04d-a98e5b59c58f",
   "metadata": {},
   "outputs": [
    {
     "data": {
      "text/html": [
       "<div>\n",
       "<style scoped>\n",
       "    .dataframe tbody tr th:only-of-type {\n",
       "        vertical-align: middle;\n",
       "    }\n",
       "\n",
       "    .dataframe tbody tr th {\n",
       "        vertical-align: top;\n",
       "    }\n",
       "\n",
       "    .dataframe thead th {\n",
       "        text-align: right;\n",
       "    }\n",
       "</style>\n",
       "<table border=\"1\" class=\"dataframe\">\n",
       "  <thead>\n",
       "    <tr style=\"text-align: right;\">\n",
       "      <th></th>\n",
       "      <th>메뉴</th>\n",
       "      <th>링크</th>\n",
       "    </tr>\n",
       "  </thead>\n",
       "  <tbody>\n",
       "    <tr>\n",
       "      <th>0</th>\n",
       "      <td>언론사별</td>\n",
       "      <td>https://news.naver.com/?viewType=pc</td>\n",
       "    </tr>\n",
       "    <tr>\n",
       "      <th>1</th>\n",
       "      <td>정치</td>\n",
       "      <td>https://news.naver.com/main/main.naver?mode=LS...</td>\n",
       "    </tr>\n",
       "    <tr>\n",
       "      <th>2</th>\n",
       "      <td>경제</td>\n",
       "      <td>https://news.naver.com/main/main.naver?mode=LS...</td>\n",
       "    </tr>\n",
       "    <tr>\n",
       "      <th>3</th>\n",
       "      <td>사회</td>\n",
       "      <td>https://news.naver.com/main/main.naver?mode=LS...</td>\n",
       "    </tr>\n",
       "    <tr>\n",
       "      <th>4</th>\n",
       "      <td>생활/문화</td>\n",
       "      <td>https://news.naver.com/main/main.naver?mode=LS...</td>\n",
       "    </tr>\n",
       "  </tbody>\n",
       "</table>\n",
       "</div>"
      ],
      "text/plain": [
       "      메뉴                                                 링크\n",
       "0   언론사별                https://news.naver.com/?viewType=pc\n",
       "1     정치  https://news.naver.com/main/main.naver?mode=LS...\n",
       "2     경제  https://news.naver.com/main/main.naver?mode=LS...\n",
       "3     사회  https://news.naver.com/main/main.naver?mode=LS...\n",
       "4  생활/문화  https://news.naver.com/main/main.naver?mode=LS..."
      ]
     },
     "execution_count": 25,
     "metadata": {},
     "output_type": "execute_result"
    }
   ],
   "source": [
    "# 섹션 메뉴의 url을 저장하고 있는 file\n",
    "df_menu = pd.read_csv('./crawl_data/naver_news_menu.csv', index_col=0)\n",
    "df_menu.head()"
   ]
  },
  {
   "cell_type": "markdown",
   "id": "b9137311-550f-4c8e-9474-19586bbc253f",
   "metadata": {},
   "source": [
    "#### **경제 섹션을 예시 코드로 작성**"
   ]
  },
  {
   "cell_type": "code",
   "execution_count": 26,
   "id": "d863de8b-312b-415e-9d30-87cb4b2a5c35",
   "metadata": {},
   "outputs": [
    {
     "data": {
      "text/plain": [
       "'https://news.naver.com/main/main.naver?mode=LSD&mid=shm&sid1=101'"
      ]
     },
     "execution_count": 26,
     "metadata": {},
     "output_type": "execute_result"
    }
   ],
   "source": [
    "# 경제 섹션 url 추출\n",
    "df_menu['링크'][2]"
   ]
  },
  {
   "cell_type": "code",
   "execution_count": 27,
   "id": "6275fbb3-0a43-4e49-bb25-4e679582bcf4",
   "metadata": {},
   "outputs": [],
   "source": [
    "# 요청 방법 (1) - 네이버 서버에게 url 전송해서 요청하는 방법\n",
    "url = df_menu['링크'][2]\n",
    "res = urlopen(url)\n",
    "html_text = res.read()\n",
    "# html_text"
   ]
  },
  {
   "cell_type": "code",
   "execution_count": 28,
   "id": "1fdfc9c1-376c-4201-a59b-cb38e61503b0",
   "metadata": {},
   "outputs": [],
   "source": [
    "# 요청 방법 (2) - header를 포함해서 요청하는 방법 \n",
    "url = df_menu['링크'][2]\n",
    "headers = {'User-Agent':\n",
    "'Mozilla/5.0 (Macintosh; Intel Mac OS X 10_15_7) AppleWebKit/537.36 (KHTML, like Gecko) Chrome/119.0.0.0 Safari/537.36'}\n",
    "res = requests.get(url, headers=headers)\n",
    "html = res.text\n",
    "# html"
   ]
  },
  {
   "cell_type": "code",
   "execution_count": 29,
   "id": "19047dbc-4bb2-4574-a3e4-3e201216b163",
   "metadata": {},
   "outputs": [],
   "source": [
    "html = urlopen(url)\n",
    "bs_obj = bs4.BeautifulSoup(html_text, 'html.parser')\n",
    "#bs_obj"
   ]
  },
  {
   "cell_type": "code",
   "execution_count": 30,
   "id": "3bfd2d40-0dcb-4e02-8dcb-a4ffee8c8a49",
   "metadata": {},
   "outputs": [],
   "source": [
    "# headline 뉴스의 뉴스 제목 추출\n",
    "head_L = bs_obj.findAll('div', {'class':'sh_text'})\n",
    "# print(len(head_L)) # 브라우저에서는 5개가 보이지만 10개가 나옴 => js로 생성된 더보기 기능이 있고 숨겨져 있는 뉴스까지 모두 추출\n",
    "# print(head_L)"
   ]
  },
  {
   "cell_type": "code",
   "execution_count": 31,
   "id": "a482f31b-f015-4c8d-873a-a6fb0f09c6dd",
   "metadata": {},
   "outputs": [
    {
     "name": "stdout",
     "output_type": "stream",
     "text": [
      "기사 제목 : HMM 매각 진통…12일 관계부처 차관회의[시그널]\n",
      "기사 링크 : https://n.news.naver.com/mnews/article/011/0004272861?sid=101\n",
      "기사 요약 : HMM의 새 주인을 가를 우선협상 대상자 선정이 영구채 전환 논란 등으로 인해 늦어지는 가운데 관계부처 차관회의가 열린다. 다만 신속한 매각을 원하는 금 …\n",
      "언론사 : 서울경제\n"
     ]
    }
   ],
   "source": [
    "# headline 뉴스의 구성\n",
    "## 기사 제목\n",
    "print('기사 제목 :', head_L[0].a.text)\n",
    "## 기사 링크\n",
    "print('기사 링크 :', head_L[0].a['href'])\n",
    "## 기사 요약\n",
    "print('기사 요약 :', head_L[0].div.text)\n",
    "## 언론사\n",
    "print('언론사 :', head_L[0].find('div', {'class':'sh_text_press'}).text)"
   ]
  },
  {
   "cell_type": "code",
   "execution_count": 32,
   "id": "148f80de-a1b6-45dc-aaea-16fee965986c",
   "metadata": {},
   "outputs": [],
   "source": [
    "# 모든 뉴스에 대해 구성요소 가져오기\n",
    "# for head in head_L:\n",
    "#     print(head.a.text)\n",
    "#     print(head.a['href'])\n",
    "#     print(head.div.text)\n",
    "#     print(head.find('div', {'class':'sh_text_press'}).text)"
   ]
  },
  {
   "cell_type": "markdown",
   "id": "9971bff8-007d-4a8d-97bd-fa98c75ab160",
   "metadata": {},
   "source": [
    "#### **모든 섹션에 적용 가능하도록 함수로 구성**\n",
    "📣 <br>\n",
    "- 6개의 섹션의 헤드라인 뉴스에 대한 `뉴스 제목`, `뉴스의 링크`, `뉴스의 섹션`만 추출 할 예정 -> df로 저장\n",
    "\n",
    "🤖 <br>\n",
    "- **함수명 & 파라미터** : `get_headline(섹션별url, 섹션명)`\n",
    "- **리턴값** : `섹션별 수집 데이터를 dict로 구성 후 반환` "
   ]
  },
  {
   "cell_type": "code",
   "execution_count": 33,
   "id": "75637ec0-5756-4f1f-a421-c29f41a6fe5b",
   "metadata": {},
   "outputs": [],
   "source": [
    "# 함수 구성\n",
    "def get_headline(url, section):\n",
    "    # 딕셔너리 구성하기 위해 수집 데이터 저장할 빈 List 생성\n",
    "    head_title=[]\n",
    "    head_link=[]\n",
    "    \n",
    "    # 서버 요청 응답 (많은 요청이 발생할 수 있으므로 거부 대비 헤더 추가)\n",
    "    headers = {'User-Agent':\n",
    "    'Mozilla/5.0 (Macintosh; Intel Mac OS X 10_15_7) AppleWebKit/537.36 (KHTML, like Gecko) Chrome/119.0.0.0 Safari/537.36'}\n",
    "    res = requests.get(url, headers=headers)\n",
    "    \n",
    "    # bs4객체 (파서기) 생성 \n",
    "    html = res.text # requests 객체는 text 속성을 사용해야만 소스가 전달됨 \n",
    "    bs_obj = bs4.BeautifulSoup(html, 'html.parser')\n",
    "    \n",
    "    # headline 뉴스 추출\n",
    "    head_L = bs_obj.findAll('div', {'class':'sh_text'})\n",
    "    \n",
    "    # headline 구성 요소 (뉴스 제목, 뉴스의 링크, 뉴스의 섹션)\n",
    "    for head in head_L:\n",
    "        head_title.append(head.a.text)\n",
    "        head_link.append(head.a['href'])\n",
    "    return({\"head_line\":head_title, \"news_link\":head_link, \"section\":section})"
   ]
  },
  {
   "cell_type": "code",
   "execution_count": 34,
   "id": "89ee8516-52d9-414b-98c4-b7e9be8670b8",
   "metadata": {
    "scrolled": true
   },
   "outputs": [
    {
     "name": "stdout",
     "output_type": "stream",
     "text": [
      "{'head_line': ['9월 추락한 전투기 KF-16, 원인 뭐길래...軍 \"이런 문제는 처음\"', '민주, 1호 청년정책은… ‘월 20만원대 대학기숙사 5만호 공급’', '더불어민주당 강릉지역위원회, 운영위원장 체제로 전환', '[단독]짐 로저스 “주식·채권·부동산 모두 거품…내년엔 이곳에 투자하라”', '윤재옥, 노란봉투법·방송법 재추진 예고한 민주당 향해 “입법 테러”', '민주당 인재영입 1호 ‘기후위기 활동가’ 박지혜 변호사', '野 “‘김건희 특검법’ 거부하면 與 총선 폭망”…與 “죄 없는 사람, 죄인 만들면 안돼”', '정세균 \"난 통합론자\"…이낙연 등 3총리 연대설에 \"그런 것 없다\"', '예비후보자 등록 시작되는데…‘선거구 획정’ 안돼 우는 정치신인들', '‘연평 영웅’ 이희완 신임차관, 오늘 보훈부 취임식에 앞서 대전 전사자 묘역 찾아 ‘신고’'], 'news_link': ['https://n.news.naver.com/mnews/article/025/0003327658?sid=100', 'https://n.news.naver.com/mnews/article/005/0001658771?sid=100', 'https://n.news.naver.com/mnews/article/087/0001012382?sid=100', 'https://n.news.naver.com/mnews/article/009/0005228132?sid=100', 'https://n.news.naver.com/mnews/article/021/0002610123?sid=100', 'https://n.news.naver.com/mnews/article/005/0001658672?sid=100', 'https://n.news.naver.com/mnews/article/005/0001658766?sid=100', 'https://n.news.naver.com/mnews/article/448/0000439739?sid=100', 'https://n.news.naver.com/mnews/article/005/0001658776?sid=100', 'https://n.news.naver.com/mnews/article/020/0003536192?sid=100'], 'section': '정치'}\n",
      "{'head_line': [\"미래에셋 박현주·네이버 최수연 두 '신화'가\\xa0청년에게 남긴 말은\", '신축 아파트 층간소음 건설사가 해결해야 입주…기준 미충족시 준공승인 못받아', 'BNK 부산은행, 보이스피싱 예방 대응 중기부 장관상', '대웅제약, 미국 항암제 시장에 도전장…자이더스와 맞손', \"'HMM 인수전' 동원 김남정 부회장 수세 몰렸나…'법적대응 예고' 강수까지\", '원자력硏, 현대엔지니어링과 손잡고 ‘SMART 원전’ 해외진출 본격 추진', '선박유·등유 섞어서 경유로 속여 판매…“가짜 석유, 이제 현장서 압류”', '\\'최소 결제\\'·\\'일부 결제\\' 헷갈리는 카드 문구…\"리볼빙\" 주의하세요', ' 한국 진출 8주년 알리페이 \"중소 가맹점 위주 사업 확장\"[기업]', '효성첨단소재, 다우존스 지속가능경영지수 KOREA 편입'], 'news_link': ['https://n.news.naver.com/mnews/article/469/0000774737?sid=101', 'https://n.news.naver.com/mnews/article/654/0000060059?sid=101', 'https://n.news.naver.com/mnews/article/082/0001246043?sid=101', 'https://n.news.naver.com/mnews/article/022/0003883834?sid=101', 'https://n.news.naver.com/mnews/article/003/0012260558?sid=101', 'https://n.news.naver.com/mnews/article/366/0000953983?sid=101', 'https://n.news.naver.com/mnews/article/056/0011619847?sid=101', 'https://n.news.naver.com/mnews/article/057/0001786233?sid=101', 'https://n.news.naver.com/mnews/article/052/0001971133?sid=101', 'https://n.news.naver.com/mnews/article/277/0005353178?sid=101'], 'section': '경제'}\n",
      "{'head_line': ['\"아이들 다 살해하겠다\"…익명 협박에 경찰·학부모 비상', '최대호 안양시장 \"노후계획도시 특별법 통과...평촌신도시 정비 속도\"', \"잘못 없으니 여유만만…'K팝스타' 이미쉘, 음주측정 두 번 한 사연[르포]\", '\\'감금 성폭행 시도\\' 30대 남성, 훨체어 타고 영장심사 \"죄송\"', '검찰, \\'등산로 성폭행 살인\\' 최윤종에 사형 구형...\"죄에 상응하는 형벌이 내려져야\"', '광주·전남 경찰, 22대 총선 대비 단속 체제 가동', '구속영장 기각돼 풀려나자 또다시 훔친 차 몰고 다닌 고교생', '재판 지연 해소 최우선… ‘법원장 추천’ 없앨 듯', '강원 중부산지 대설주의보→대설경보 격상…호우·대설 함께 온다', '\"살려주세요\" 북한산서 의식 잃은 남성…새내기 간호사가 살렸다'], 'news_link': ['https://n.news.naver.com/mnews/article/437/0000370379?sid=102', 'https://n.news.naver.com/mnews/article/008/0004972328?sid=102', 'https://n.news.naver.com/mnews/article/008/0004972130?sid=102', 'https://n.news.naver.com/mnews/article/421/0007227573?sid=102', 'https://n.news.naver.com/mnews/article/437/0000370345?sid=102', 'https://n.news.naver.com/mnews/article/660/0000051220?sid=102', 'https://n.news.naver.com/mnews/article/055/0001113364?sid=102', 'https://n.news.naver.com/mnews/article/081/0003415418?sid=102', 'https://n.news.naver.com/mnews/article/366/0000954139?sid=102', 'https://n.news.naver.com/mnews/article/008/0004972691?sid=102'], 'section': '사회'}\n",
      "{'head_line': [\" 강원 산지 30㎝ 이상 '폭설'…전국 곳곳에 많은 비[날씨]\", '\"출근길 우산 필수\"…강원 산지 20㎝ 이상 폭설(종합)[오늘날씨]', 'BTS 7명‘육군(ARMY) 현역 입대’… RM·뷔 11일 논산훈련소,12일 지민·정국', \"15주년 맞은 '공연예술창작산실'…내년 신작 28편 무대 올린다\", '미세먼지로부터 5가지 행동수칙만 지켜도 폐질환 호전', '갑작스런 눈 걱정없네, 버튼만 누르면 타이어에 스노 체인 ‘착’', \"영화 '서울의 봄 ' 700만 관객 돌파...개봉 20일만\", '부산시립미술관 대규모 개보수…‘미래 선도 메타 뮤지엄’'], 'news_link': ['https://n.news.naver.com/mnews/article/437/0000370388?sid=103', 'https://n.news.naver.com/mnews/article/421/0007226441?sid=103', 'https://n.news.naver.com/mnews/article/021/0002610134?sid=103', 'https://n.news.naver.com/mnews/article/001/0014383862?sid=103', 'https://n.news.naver.com/mnews/article/009/0005228182?sid=103', 'https://n.news.naver.com/mnews/article/023/0003804155?sid=103', 'https://n.news.naver.com/mnews/article/052/0001970920?sid=103', 'https://n.news.naver.com/mnews/article/056/0011619886?sid=103'], 'section': '생활/문화'}\n",
      "{'head_line': ['SK텔레콤 “AI 스피커 기반 기억훈련 노인 ‘치매 이환률’ 낮춰”', '김범수 \"새 카카오로 재탄생해야…사명도 바꿀 각오\"', '제22대 국회의원 선거 방송심의위원회 출범', '\\'LK-99\\' 초전도체 사태 \"모두 욕심이 앞서…\"', \"세계 첫 '유전자가위 치료제' 美 상용화…기술 앞선 韓은 좌초 위기\", '올해 국내 최고 인기 유튜브 영상은 ‘차쥐뿔’ 카리나편', '국제중등과학올림피아드 한국 1위…전원 금메달', '엔씨, 법조인 출신 CEO 박병무 영입.. 공동대표로 전환 [종합]'], 'news_link': ['https://n.news.naver.com/mnews/article/032/0003266640?sid=105', 'https://n.news.naver.com/mnews/article/055/0001113461?sid=105', 'https://n.news.naver.com/mnews/article/421/0007228511?sid=105', 'https://n.news.naver.com/mnews/article/015/0004923963?sid=105', 'https://n.news.naver.com/mnews/article/011/0004272341?sid=105', 'https://n.news.naver.com/mnews/article/016/0002236957?sid=105', 'https://n.news.naver.com/mnews/article/011/0004272762?sid=105', 'https://n.news.naver.com/mnews/article/014/0005112940?sid=105'], 'section': 'IT/과학'}\n",
      "{'head_line': ['일본인 88% “‘비자금 의혹’ 총리 책임”…기시다 지지율 22.5%', '美 유권자 48% \"바이든 정부, 우크라 지원 과도\"', '\"뱀·귀뚜라미가 왜 올라가\"…피자 종주국 이탈리아 \\'경악\\'', '\\'15년만 최고 가격\\' 우라늄 싹쓸이하는 中…\"서방 에너지 공급망 위협\"', '유엔 12일 긴급총회…안보리 마비 속 ‘가자휴전 총의’ 모은다', '‘반유대주의’ 논란에 펜실베이니아대 총장 결국 사임', '\"김정은은 왜 눈물을 흘렸나\"…외신도 관심 집중', '‘K 방산’ 3조 날아가나…폴란드 정권교체로 계약 무효론 등장', '美 의회, ‘아시아판 나토’ 창설 TF 법안 제출, 북중 효과적 억제할까'], 'news_link': ['https://n.news.naver.com/mnews/article/016/0002237214?sid=104', 'https://n.news.naver.com/mnews/article/277/0005353127?sid=104', 'https://n.news.naver.com/mnews/article/015/0004923809?sid=104', 'https://n.news.naver.com/mnews/article/277/0005353259?sid=104', 'https://n.news.naver.com/mnews/article/056/0011619894?sid=104', 'https://n.news.naver.com/mnews/article/032/0003266445?sid=104', 'https://n.news.naver.com/mnews/article/277/0005353333?sid=104', 'https://n.news.naver.com/mnews/article/028/0002668279?sid=104', 'https://n.news.naver.com/mnews/article/081/0003415646?sid=104'], 'section': '세계'}\n"
     ]
    }
   ],
   "source": [
    "# 확인\n",
    "for i in range(1,7):\n",
    "    print(get_headline(df_menu['링크'][i], df_menu['메뉴'][i]))"
   ]
  },
  {
   "cell_type": "markdown",
   "id": "5cc3be8a-149f-4db5-90a0-c6e010b85631",
   "metadata": {},
   "source": [
    "#### **모든 섹션에 함수 적용 후 DF로 생성**\n",
    "- `get_headline` 함수가 dict로 반환하므로\n",
    "- 빈 df 생성 후 누적 df에 결합해서 모두 누적시키기"
   ]
  },
  {
   "cell_type": "code",
   "execution_count": 35,
   "id": "7434300c-e3b5-4abb-b768-44d655de3db6",
   "metadata": {},
   "outputs": [
    {
     "data": {
      "text/html": [
       "<div>\n",
       "<style scoped>\n",
       "    .dataframe tbody tr th:only-of-type {\n",
       "        vertical-align: middle;\n",
       "    }\n",
       "\n",
       "    .dataframe tbody tr th {\n",
       "        vertical-align: top;\n",
       "    }\n",
       "\n",
       "    .dataframe thead th {\n",
       "        text-align: right;\n",
       "    }\n",
       "</style>\n",
       "<table border=\"1\" class=\"dataframe\">\n",
       "  <thead>\n",
       "    <tr style=\"text-align: right;\">\n",
       "      <th></th>\n",
       "      <th>head_line</th>\n",
       "      <th>news_link</th>\n",
       "      <th>section</th>\n",
       "    </tr>\n",
       "  </thead>\n",
       "  <tbody>\n",
       "  </tbody>\n",
       "</table>\n",
       "</div>"
      ],
      "text/plain": [
       "Empty DataFrame\n",
       "Columns: [head_line, news_link, section]\n",
       "Index: []"
      ]
     },
     "execution_count": 35,
     "metadata": {},
     "output_type": "execute_result"
    }
   ],
   "source": [
    "# 모든 뉴스 저장할 빈 df 생성\n",
    "# 컬럼명은 함수에서 반환되는 dict의 key와 동일해야 함 \n",
    "head_df = pd.DataFrame({\"head_line\":[], \"news_link\":[], \"section\":[]})\n",
    "head_df"
   ]
  },
  {
   "cell_type": "code",
   "execution_count": 36,
   "id": "63400210-c910-4588-9386-5083f78ca171",
   "metadata": {},
   "outputs": [],
   "source": [
    "for i in range(1,7):\n",
    "    temp = pd.DataFrame(get_headline(df_menu['링크'][i], df_menu['메뉴'][i])) # 섹션별로 함수가 반환한 data로 구성한 df\n",
    "    head_df = pd.concat([head_df, temp], axis=0, ignore_index=True) # 누적 df"
   ]
  },
  {
   "cell_type": "code",
   "execution_count": 37,
   "id": "a5ab29f6-c603-4836-b6a8-82f63976ee9b",
   "metadata": {},
   "outputs": [
    {
     "data": {
      "text/html": [
       "<div>\n",
       "<style scoped>\n",
       "    .dataframe tbody tr th:only-of-type {\n",
       "        vertical-align: middle;\n",
       "    }\n",
       "\n",
       "    .dataframe tbody tr th {\n",
       "        vertical-align: top;\n",
       "    }\n",
       "\n",
       "    .dataframe thead th {\n",
       "        text-align: right;\n",
       "    }\n",
       "</style>\n",
       "<table border=\"1\" class=\"dataframe\">\n",
       "  <thead>\n",
       "    <tr style=\"text-align: right;\">\n",
       "      <th></th>\n",
       "      <th>head_line</th>\n",
       "      <th>news_link</th>\n",
       "      <th>section</th>\n",
       "    </tr>\n",
       "  </thead>\n",
       "  <tbody>\n",
       "    <tr>\n",
       "      <th>0</th>\n",
       "      <td>내년 경제정책방향 발표 최상목 후보자 데뷔 무대 되나</td>\n",
       "      <td>https://n.news.naver.com/mnews/article/016/000...</td>\n",
       "      <td>정치</td>\n",
       "    </tr>\n",
       "    <tr>\n",
       "      <th>1</th>\n",
       "      <td>尹, '김건희 특검법'에 거부권 행사할까?[이슈분석]</td>\n",
       "      <td>https://n.news.naver.com/mnews/article/448/000...</td>\n",
       "      <td>정치</td>\n",
       "    </tr>\n",
       "    <tr>\n",
       "      <th>2</th>\n",
       "      <td>지지율 하락에 ‘영부인 리스크’… 尹, 발길 무거운 네덜란드 순방</td>\n",
       "      <td>https://n.news.naver.com/mnews/article/023/000...</td>\n",
       "      <td>정치</td>\n",
       "    </tr>\n",
       "    <tr>\n",
       "      <th>3</th>\n",
       "      <td>'준연동형이냐 병립형이냐'…민주, 비례대표제 여론조사 진행중</td>\n",
       "      <td>https://n.news.naver.com/mnews/article/421/000...</td>\n",
       "      <td>정치</td>\n",
       "    </tr>\n",
       "    <tr>\n",
       "      <th>4</th>\n",
       "      <td>“불출마” 제로… 기득권 포기않는 여당</td>\n",
       "      <td>https://n.news.naver.com/mnews/article/021/000...</td>\n",
       "      <td>정치</td>\n",
       "    </tr>\n",
       "  </tbody>\n",
       "</table>\n",
       "</div>"
      ],
      "text/plain": [
       "                              head_line  \\\n",
       "0         내년 경제정책방향 발표 최상목 후보자 데뷔 무대 되나   \n",
       "1         尹, '김건희 특검법'에 거부권 행사할까?[이슈분석]   \n",
       "2  지지율 하락에 ‘영부인 리스크’… 尹, 발길 무거운 네덜란드 순방   \n",
       "3     '준연동형이냐 병립형이냐'…민주, 비례대표제 여론조사 진행중   \n",
       "4                 “불출마” 제로… 기득권 포기않는 여당   \n",
       "\n",
       "                                           news_link section  \n",
       "0  https://n.news.naver.com/mnews/article/016/000...      정치  \n",
       "1  https://n.news.naver.com/mnews/article/448/000...      정치  \n",
       "2  https://n.news.naver.com/mnews/article/023/000...      정치  \n",
       "3  https://n.news.naver.com/mnews/article/421/000...      정치  \n",
       "4  https://n.news.naver.com/mnews/article/021/000...      정치  "
      ]
     },
     "execution_count": 37,
     "metadata": {},
     "output_type": "execute_result"
    }
   ],
   "source": [
    "head_df.head()"
   ]
  },
  {
   "cell_type": "code",
   "execution_count": 38,
   "id": "b89ccc04-be44-4676-b51a-e6875212c183",
   "metadata": {},
   "outputs": [
    {
     "data": {
      "text/html": [
       "<div>\n",
       "<style scoped>\n",
       "    .dataframe tbody tr th:only-of-type {\n",
       "        vertical-align: middle;\n",
       "    }\n",
       "\n",
       "    .dataframe tbody tr th {\n",
       "        vertical-align: top;\n",
       "    }\n",
       "\n",
       "    .dataframe thead th {\n",
       "        text-align: right;\n",
       "    }\n",
       "</style>\n",
       "<table border=\"1\" class=\"dataframe\">\n",
       "  <thead>\n",
       "    <tr style=\"text-align: right;\">\n",
       "      <th></th>\n",
       "      <th>head_line</th>\n",
       "      <th>news_link</th>\n",
       "      <th>section</th>\n",
       "    </tr>\n",
       "  </thead>\n",
       "  <tbody>\n",
       "    <tr>\n",
       "      <th>49</th>\n",
       "      <td>필리핀 선박에 ‘물대포’ 퍼부은 중국 해경…이틀째 책임 공방 이어져 [현장영상]</td>\n",
       "      <td>https://n.news.naver.com/mnews/article/056/001...</td>\n",
       "      <td>세계</td>\n",
       "    </tr>\n",
       "    <tr>\n",
       "      <th>50</th>\n",
       "      <td>아르헨 밀레이 대통령 취임 \"최악 정부 물려받아…개혁만이 해법\"</td>\n",
       "      <td>https://n.news.naver.com/mnews/article/055/000...</td>\n",
       "      <td>세계</td>\n",
       "    </tr>\n",
       "    <tr>\n",
       "      <th>51</th>\n",
       "      <td>IEA \"COP28 온실가스 약속대론 2030 감축목표 30%에 그쳐\"</td>\n",
       "      <td>https://n.news.naver.com/mnews/article/001/001...</td>\n",
       "      <td>세계</td>\n",
       "    </tr>\n",
       "    <tr>\n",
       "      <th>52</th>\n",
       "      <td>유엔 12일 긴급총회…안보리 마비 속 ‘가자휴전 총의’ 모은다</td>\n",
       "      <td>https://n.news.naver.com/mnews/article/056/001...</td>\n",
       "      <td>세계</td>\n",
       "    </tr>\n",
       "    <tr>\n",
       "      <th>53</th>\n",
       "      <td>“우승 상금 60억”…실사판 ‘오징어 게임’ 우승자는 누구?</td>\n",
       "      <td>https://n.news.naver.com/mnews/article/022/000...</td>\n",
       "      <td>세계</td>\n",
       "    </tr>\n",
       "  </tbody>\n",
       "</table>\n",
       "</div>"
      ],
      "text/plain": [
       "                                       head_line  \\\n",
       "49  필리핀 선박에 ‘물대포’ 퍼부은 중국 해경…이틀째 책임 공방 이어져 [현장영상]   \n",
       "50           아르헨 밀레이 대통령 취임 \"최악 정부 물려받아…개혁만이 해법\"   \n",
       "51       IEA \"COP28 온실가스 약속대론 2030 감축목표 30%에 그쳐\"   \n",
       "52            유엔 12일 긴급총회…안보리 마비 속 ‘가자휴전 총의’ 모은다   \n",
       "53             “우승 상금 60억”…실사판 ‘오징어 게임’ 우승자는 누구?   \n",
       "\n",
       "                                            news_link section  \n",
       "49  https://n.news.naver.com/mnews/article/056/001...      세계  \n",
       "50  https://n.news.naver.com/mnews/article/055/000...      세계  \n",
       "51  https://n.news.naver.com/mnews/article/001/001...      세계  \n",
       "52  https://n.news.naver.com/mnews/article/056/001...      세계  \n",
       "53  https://n.news.naver.com/mnews/article/022/000...      세계  "
      ]
     },
     "execution_count": 38,
     "metadata": {},
     "output_type": "execute_result"
    }
   ],
   "source": [
    "head_df.tail()"
   ]
  },
  {
   "cell_type": "code",
   "execution_count": 39,
   "id": "b6435f3a-8e6b-47fc-8189-9d9dc2c5aaf5",
   "metadata": {},
   "outputs": [],
   "source": [
    "# 파일로 저장\n",
    "head_df.to_csv('./crawl_data/naver_news_headline.csv')"
   ]
  },
  {
   "cell_type": "markdown",
   "id": "3fc8365f-5e8d-444b-a15c-471df08b7f55",
   "metadata": {},
   "source": [
    "### **🔸 네이버 뉴스 섹션별 Headline 원문 기사 크롤링**\n",
    "- 기사제목, 상세보기, Url, 언론사, 작성 날짜 등"
   ]
  },
  {
   "cell_type": "code",
   "execution_count": 40,
   "id": "ee533cc7-3b10-484b-a299-179d575bc0b7",
   "metadata": {},
   "outputs": [
    {
     "data": {
      "text/html": [
       "<div>\n",
       "<style scoped>\n",
       "    .dataframe tbody tr th:only-of-type {\n",
       "        vertical-align: middle;\n",
       "    }\n",
       "\n",
       "    .dataframe tbody tr th {\n",
       "        vertical-align: top;\n",
       "    }\n",
       "\n",
       "    .dataframe thead th {\n",
       "        text-align: right;\n",
       "    }\n",
       "</style>\n",
       "<table border=\"1\" class=\"dataframe\">\n",
       "  <thead>\n",
       "    <tr style=\"text-align: right;\">\n",
       "      <th></th>\n",
       "      <th>head_line</th>\n",
       "      <th>news_link</th>\n",
       "      <th>section</th>\n",
       "    </tr>\n",
       "  </thead>\n",
       "  <tbody>\n",
       "    <tr>\n",
       "      <th>49</th>\n",
       "      <td>필리핀 선박에 ‘물대포’ 퍼부은 중국 해경…이틀째 책임 공방 이어져 [현장영상]</td>\n",
       "      <td>https://n.news.naver.com/mnews/article/056/001...</td>\n",
       "      <td>세계</td>\n",
       "    </tr>\n",
       "    <tr>\n",
       "      <th>50</th>\n",
       "      <td>아르헨 밀레이 대통령 취임 \"최악 정부 물려받아…개혁만이 해법\"</td>\n",
       "      <td>https://n.news.naver.com/mnews/article/055/000...</td>\n",
       "      <td>세계</td>\n",
       "    </tr>\n",
       "    <tr>\n",
       "      <th>51</th>\n",
       "      <td>IEA \"COP28 온실가스 약속대론 2030 감축목표 30%에 그쳐\"</td>\n",
       "      <td>https://n.news.naver.com/mnews/article/001/001...</td>\n",
       "      <td>세계</td>\n",
       "    </tr>\n",
       "    <tr>\n",
       "      <th>52</th>\n",
       "      <td>유엔 12일 긴급총회…안보리 마비 속 ‘가자휴전 총의’ 모은다</td>\n",
       "      <td>https://n.news.naver.com/mnews/article/056/001...</td>\n",
       "      <td>세계</td>\n",
       "    </tr>\n",
       "    <tr>\n",
       "      <th>53</th>\n",
       "      <td>“우승 상금 60억”…실사판 ‘오징어 게임’ 우승자는 누구?</td>\n",
       "      <td>https://n.news.naver.com/mnews/article/022/000...</td>\n",
       "      <td>세계</td>\n",
       "    </tr>\n",
       "  </tbody>\n",
       "</table>\n",
       "</div>"
      ],
      "text/plain": [
       "                                       head_line  \\\n",
       "49  필리핀 선박에 ‘물대포’ 퍼부은 중국 해경…이틀째 책임 공방 이어져 [현장영상]   \n",
       "50           아르헨 밀레이 대통령 취임 \"최악 정부 물려받아…개혁만이 해법\"   \n",
       "51       IEA \"COP28 온실가스 약속대론 2030 감축목표 30%에 그쳐\"   \n",
       "52            유엔 12일 긴급총회…안보리 마비 속 ‘가자휴전 총의’ 모은다   \n",
       "53             “우승 상금 60억”…실사판 ‘오징어 게임’ 우승자는 누구?   \n",
       "\n",
       "                                            news_link section  \n",
       "49  https://n.news.naver.com/mnews/article/056/001...      세계  \n",
       "50  https://n.news.naver.com/mnews/article/055/000...      세계  \n",
       "51  https://n.news.naver.com/mnews/article/001/001...      세계  \n",
       "52  https://n.news.naver.com/mnews/article/056/001...      세계  \n",
       "53  https://n.news.naver.com/mnews/article/022/000...      세계  "
      ]
     },
     "execution_count": 40,
     "metadata": {},
     "output_type": "execute_result"
    }
   ],
   "source": [
    "# 수집할 기사의 url\n",
    "head_L_df = pd.read_csv('./crawl_data/naver_news_headline.csv', index_col=0)\n",
    "head_L_df.tail()"
   ]
  },
  {
   "cell_type": "markdown",
   "id": "0ca83b9f-b610-4822-b44e-c4f10c493ee6",
   "metadata": {},
   "source": [
    "#### **1가지 뉴스로 예시 코드 작성**"
   ]
  },
  {
   "cell_type": "code",
   "execution_count": 41,
   "id": "d9b76a0a-3be1-4b19-8294-e80db5be7851",
   "metadata": {},
   "outputs": [
    {
     "data": {
      "text/plain": [
       "'https://n.news.naver.com/mnews/article/001/0014381987?sid=104'"
      ]
     },
     "execution_count": 41,
     "metadata": {},
     "output_type": "execute_result"
    }
   ],
   "source": [
    "url = head_L_df['news_link'][51]\n",
    "url"
   ]
  },
  {
   "cell_type": "code",
   "execution_count": 42,
   "id": "abcfebc3-844e-4f4c-b6a5-6f1d0b28cf45",
   "metadata": {},
   "outputs": [],
   "source": [
    "# 서버 요청\n",
    "headers = {'User-Agent':\n",
    "    'Mozilla/5.0 (Macintosh; Intel Mac OS X 10_15_7) AppleWebKit/537.36 (KHTML, like Gecko) Chrome/119.0.0.0 Safari/537.36'}\n",
    "res = requests.get(url, headers=headers)"
   ]
  },
  {
   "cell_type": "code",
   "execution_count": 43,
   "id": "9ab4325c-f190-4d41-822b-196a5534e008",
   "metadata": {},
   "outputs": [],
   "source": [
    "# bs4객체 (파서기) 생성 \n",
    "html = res.text\n",
    "bs_obj = bs4.BeautifulSoup(html, 'html.parser')"
   ]
  },
  {
   "cell_type": "code",
   "execution_count": 44,
   "id": "da9e2356-df10-40c5-8d94-c2a6992744e4",
   "metadata": {},
   "outputs": [],
   "source": [
    "# 추출하려고 하는 뉴스 기사 영역\n",
    "# bs_obj.find('div', {'id':'ct'})"
   ]
  },
  {
   "cell_type": "markdown",
   "id": "02eb5716-c3ed-4b3f-bb18-14bd915b6418",
   "metadata": {},
   "source": [
    "* 추출 항목 - 기사제목, 상세보기, Url, 언론사, 작성 날짜 등"
   ]
  },
  {
   "cell_type": "code",
   "execution_count": 45,
   "id": "58a00f07-bdc1-4d13-9d9a-0e949b07f5b3",
   "metadata": {},
   "outputs": [],
   "source": [
    "# 추출하려고 하는 뉴스 기사 영역\n",
    "content = bs_obj.find('div', {'id':'ct'})"
   ]
  },
  {
   "cell_type": "code",
   "execution_count": 46,
   "id": "a47fe217-fe1e-4a2c-91dc-8e0fae8e73f8",
   "metadata": {},
   "outputs": [
    {
     "data": {
      "text/plain": [
       "'연합뉴스'"
      ]
     },
     "execution_count": 46,
     "metadata": {},
     "output_type": "execute_result"
    }
   ],
   "source": [
    "# 언론사\n",
    "channel = content.find('a').img['alt']\n",
    "channel"
   ]
  },
  {
   "cell_type": "code",
   "execution_count": 47,
   "id": "050ae85a-b2a0-4ea6-b541-e5db53a8981b",
   "metadata": {},
   "outputs": [],
   "source": [
    "# 기사 작성자 / 작성 날짜 / 좋아요 수 / 댓글 수 포함된 Selector\n",
    "info = content.select('#ct > div.media_end_head.go_trans > div.media_end_head_info.nv_notrans')"
   ]
  },
  {
   "cell_type": "code",
   "execution_count": 48,
   "id": "84319386-c22a-4f2d-a72b-2016b368c29d",
   "metadata": {},
   "outputs": [
    {
     "name": "stdout",
     "output_type": "stream",
     "text": [
      "\n",
      "입력2023.12.10. 오후 7:36\n",
      "\n",
      "\n",
      "수정2023.12.10. 오후 7:37\n",
      "\n"
     ]
    },
    {
     "data": {
      "text/plain": [
       "'2023.12.10. 오후 7:36'"
      ]
     },
     "execution_count": 48,
     "metadata": {},
     "output_type": "execute_result"
    },
    {
     "data": {
      "text/plain": [
       "'2023.12.10. 오후 7:37'"
      ]
     },
     "execution_count": 48,
     "metadata": {},
     "output_type": "execute_result"
    }
   ],
   "source": [
    "## 작성 날짜 \n",
    "css = '#ct > div.media_end_head.go_trans > div.media_end_head_info.nv_notrans > div.media_end_head_info_datestamp'\n",
    "### 아래 방법 중 택 1 (모두 동일)\n",
    "info1 = info[0].select(css)\n",
    "info2 = info[0].select('.media_end_head_info_datestamp')\n",
    "### 작성 날짜 - 입력 날짜, 수정 날짜 분리하여 추출\n",
    "date_all = info2[0].findAll('div', {'class':'media_end_head_info_datestamp_bunch'})\n",
    "for date in date_all:\n",
    "    print(date.text)\n",
    "org_date = date_all[0].text.replace('\\n','')[2:] # 입력 날짜\n",
    "corr_date = date_all[1].text.replace('\\n','')[2:] # 수정 날짜\n",
    "org_date\n",
    "corr_date"
   ]
  },
  {
   "cell_type": "code",
   "execution_count": 49,
   "id": "55048b18-0f59-4b72-b800-ac8554f214fa",
   "metadata": {},
   "outputs": [
    {
     "data": {
      "text/plain": [
       "'안희'"
      ]
     },
     "execution_count": 49,
     "metadata": {},
     "output_type": "execute_result"
    }
   ],
   "source": [
    "## 기자 이름\n",
    "name = bs_obj.find('span', {'class':'byline_s'}).text.split('(')[0].replace(' ', '')\n",
    "name"
   ]
  },
  {
   "cell_type": "code",
   "execution_count": 50,
   "id": "a2b97341-8c98-4d39-b712-0c5679341363",
   "metadata": {},
   "outputs": [
    {
     "data": {
      "text/plain": [
       "[]"
      ]
     },
     "execution_count": 50,
     "metadata": {},
     "output_type": "execute_result"
    }
   ],
   "source": [
    "################## 현재는 보류!! ####################################\n",
    "## 좋아요 / 댓글 수\n",
    "# js에 의해서 브라우저가 표현하는 내용이기 때문에 프로그램 코드로 요청한 소스에는 포함되어 있지 않음\n",
    "# 동적 크롤링을 진행해야 얻어올 수 있음\n",
    "css = '#commentFontGroup > div.media_end_head_info_variety_likeit._LIKE_HIDE.as_likeit_improve > div > a > span.u_likeit_text._count.num'\n",
    "info[0].select(css)"
   ]
  },
  {
   "cell_type": "code",
   "execution_count": 51,
   "id": "48c7ebf4-65e3-4cf5-a1d7-d9f37d4fc38e",
   "metadata": {},
   "outputs": [
    {
     "data": {
      "text/plain": [
       "[<h2 class=\"media_end_head_headline\" id=\"title_area\"><span>IEA \"COP28 온실가스 약속대론 2030 감축목표 30%에 그쳐\"</span></h2>]"
      ]
     },
     "execution_count": 51,
     "metadata": {},
     "output_type": "execute_result"
    },
    {
     "data": {
      "text/plain": [
       "'IEA \"COP28 온실가스 약속대론 2030 감축목표 30%에 그쳐\"'"
      ]
     },
     "execution_count": 51,
     "metadata": {},
     "output_type": "execute_result"
    }
   ],
   "source": [
    "# 기사 제목\n",
    "content.select('#title_area') # 리스트 반환\n",
    "title = content.find('h2',{'id':'title_area'}).text # 텍스트로 반환\n",
    "title"
   ]
  },
  {
   "cell_type": "code",
   "execution_count": 52,
   "id": "4767befb-7a13-4f2c-8c9a-b3579b172646",
   "metadata": {},
   "outputs": [
    {
     "data": {
      "text/plain": [
       "'제28차 유엔기후변화협약 당사국 총회(COP28) 회의장 [AP 연합뉴스 자료사진 재판매 및 DB 금지](제네바=연합뉴스) 안희 특파원 = 아랍에미리트(UAE)에서 열리고 있는 제28차 유엔기후변화협약 당사국 총회(COP28)에서 각국이 현재까지 공언한 온실가스 감축 목표로는 국제사회의 기대에 크게 못 미치는 결과를 낼 것이라는 진단이 나왔다.    국제에너지기구(IEA)는 10일(현지시간) 낸 성명에서 \"각국이 지금까지의 약속을 이행할 경우 2030년까지 온실가스는 4Gt(기가톤) 줄어들 것으로 예상된다\"면서 \"이는 2030년까지 지구 온도 상승 폭을 1.5℃로 제한하기 위해 필요한 배출량 감축 목표치의 30%에 불과하다\"고 지적했다.    이어 \"COP28에서 제시된 각국의 서약은 에너지 부문의 온실가스 배출 문제를 해결하는 데 긍정적 진전을 낳겠지만 충분하지 않다\"고 평가했다.    IEA에 따르면 COP28에서 지난 8일 현재 130개국이 재생에너지 발전 용량을 3배로 늘리고 매년 에너지 효율 개선율을 2배로 끌어올리겠다고 약속했다. COP28은 각국의 이같은 서약을 절충한 공동선언문을 오는 12일 채택하면서 마무리된다.    현재 공동선언문에 담길 내용을 놓고 각국이 자국의 이해관계를 관철하려 하면서 합의가 진통을 겪고 있다.    온실가스 배출량이 큰 국가와 주요 산유국이 아직 화석연료 사용의 단계적 폐지 등에 명시적으로 동참하지 않으려 하는 탓이다.    미국과 유럽연합(EU), 저개발국을 비롯한 기후변화 취약국 등은 화석연료 퇴출 문제를 합의에 포함하는 데 찬성하고 있으나 중국과 인도 등 온실가스 주요 배출국은 지지 여부가 명확하지 않다.    석유수출국기구(OPEC)와 비(非)OPEC 주요 산유국 협의체인 OPEC+를 주도하는 사우디와 러시아 등은 화석연료 퇴출 합의가 공동선언에 포함되지 않도록 하는 데 안간힘을 쓰는 것으로 전해졌다.    IEA는 \"지금까지 서약에 동참한 국가는 전 세계 이산화탄소 배출량의 40%, 에너지 총수요의 37%, 세계 GDP의 56%를 차지한다\"고 짚었다. COP28에서 온실가스의 획기적 감축 방안이 실질적으로는 \\'반쪽 서약\\'에도 못 미칠 가능성을 언급한 것이다.    그러면서 \"COP28에서 진행 중인 상황을 지속해서 모니터링하고 필요에 따라 그에 대한 평가를 업데이트할 것\"이라고 덧붙였다.    prayerahn@yna.co.kr'"
      ]
     },
     "execution_count": 52,
     "metadata": {},
     "output_type": "execute_result"
    }
   ],
   "source": [
    "# 기사 내용 \n",
    "cnt = content.select('#dic_area')[0].text.replace('\\n','').replace('\\t','')\n",
    "cnt"
   ]
  },
  {
   "cell_type": "code",
   "execution_count": 53,
   "id": "d5ea3a7c-6d9e-4912-b326-8d79666ddd82",
   "metadata": {},
   "outputs": [
    {
     "data": {
      "text/plain": [
       "('연합뉴스',\n",
       " '2023.12.10. 오후 7:36',\n",
       " '2023.12.10. 오후 7:37',\n",
       " '안희',\n",
       " 'IEA \"COP28 온실가스 약속대론 2030 감축목표 30%에 그쳐\"',\n",
       " '제28차 유엔기후변화협약 당사국 총회(COP28) 회의장 [AP 연합뉴스 자료사진 재판매 및 DB 금지](제네바=연합뉴스) 안희 특파원 = 아랍에미리트(UAE)에서 열리고 있는 제28차 유엔기후변화협약 당사국 총회(COP28)에서 각국이 현재까지 공언한 온실가스 감축 목표로는 국제사회의 기대에 크게 못 미치는 결과를 낼 것이라는 진단이 나왔다.    국제에너지기구(IEA)는 10일(현지시간) 낸 성명에서 \"각국이 지금까지의 약속을 이행할 경우 2030년까지 온실가스는 4Gt(기가톤) 줄어들 것으로 예상된다\"면서 \"이는 2030년까지 지구 온도 상승 폭을 1.5℃로 제한하기 위해 필요한 배출량 감축 목표치의 30%에 불과하다\"고 지적했다.    이어 \"COP28에서 제시된 각국의 서약은 에너지 부문의 온실가스 배출 문제를 해결하는 데 긍정적 진전을 낳겠지만 충분하지 않다\"고 평가했다.    IEA에 따르면 COP28에서 지난 8일 현재 130개국이 재생에너지 발전 용량을 3배로 늘리고 매년 에너지 효율 개선율을 2배로 끌어올리겠다고 약속했다. COP28은 각국의 이같은 서약을 절충한 공동선언문을 오는 12일 채택하면서 마무리된다.    현재 공동선언문에 담길 내용을 놓고 각국이 자국의 이해관계를 관철하려 하면서 합의가 진통을 겪고 있다.    온실가스 배출량이 큰 국가와 주요 산유국이 아직 화석연료 사용의 단계적 폐지 등에 명시적으로 동참하지 않으려 하는 탓이다.    미국과 유럽연합(EU), 저개발국을 비롯한 기후변화 취약국 등은 화석연료 퇴출 문제를 합의에 포함하는 데 찬성하고 있으나 중국과 인도 등 온실가스 주요 배출국은 지지 여부가 명확하지 않다.    석유수출국기구(OPEC)와 비(非)OPEC 주요 산유국 협의체인 OPEC+를 주도하는 사우디와 러시아 등은 화석연료 퇴출 합의가 공동선언에 포함되지 않도록 하는 데 안간힘을 쓰는 것으로 전해졌다.    IEA는 \"지금까지 서약에 동참한 국가는 전 세계 이산화탄소 배출량의 40%, 에너지 총수요의 37%, 세계 GDP의 56%를 차지한다\"고 짚었다. COP28에서 온실가스의 획기적 감축 방안이 실질적으로는 \\'반쪽 서약\\'에도 못 미칠 가능성을 언급한 것이다.    그러면서 \"COP28에서 진행 중인 상황을 지속해서 모니터링하고 필요에 따라 그에 대한 평가를 업데이트할 것\"이라고 덧붙였다.    prayerahn@yna.co.kr')"
      ]
     },
     "execution_count": 53,
     "metadata": {},
     "output_type": "execute_result"
    }
   ],
   "source": [
    "channel, org_date, corr_date, name, title, cnt "
   ]
  },
  {
   "cell_type": "markdown",
   "id": "d66bace3-e77e-4d55-ace0-550897751acd",
   "metadata": {},
   "source": [
    "#### **모든 섹션에 함수 적용 후 DF로 생성**\n",
    "- 함수명 : content_crawl(url)\n",
    "- 반환 : title, name, org_date, corr_date, cnt, channel\n",
    "- 호출 : 변수 = content_crawl(기사 url)\n",
    "  - 빈 df에 행으로 삽입"
   ]
  },
  {
   "cell_type": "code",
   "execution_count": 54,
   "id": "18e59e9b-2447-4400-b13c-76a7957b6865",
   "metadata": {},
   "outputs": [
    {
     "data": {
      "text/html": [
       "<div>\n",
       "<style scoped>\n",
       "    .dataframe tbody tr th:only-of-type {\n",
       "        vertical-align: middle;\n",
       "    }\n",
       "\n",
       "    .dataframe tbody tr th {\n",
       "        vertical-align: top;\n",
       "    }\n",
       "\n",
       "    .dataframe thead th {\n",
       "        text-align: right;\n",
       "    }\n",
       "</style>\n",
       "<table border=\"1\" class=\"dataframe\">\n",
       "  <thead>\n",
       "    <tr style=\"text-align: right;\">\n",
       "      <th></th>\n",
       "      <th>title</th>\n",
       "      <th>writer</th>\n",
       "      <th>org_date</th>\n",
       "      <th>corr_date</th>\n",
       "      <th>content</th>\n",
       "      <th>channel</th>\n",
       "    </tr>\n",
       "  </thead>\n",
       "  <tbody>\n",
       "  </tbody>\n",
       "</table>\n",
       "</div>"
      ],
      "text/plain": [
       "Empty DataFrame\n",
       "Columns: [title, writer, org_date, corr_date, content, channel]\n",
       "Index: []"
      ]
     },
     "execution_count": 54,
     "metadata": {},
     "output_type": "execute_result"
    }
   ],
   "source": [
    "# 빈 df 생성\n",
    "news_content = pd.DataFrame({'title':[], 'writer':[], 'org_date':[], 'corr_date':[], 'content':[], 'channel':[]})\n",
    "news_content"
   ]
  },
  {
   "cell_type": "code",
   "execution_count": 55,
   "id": "686dbac9-8917-42c8-adb8-c01e25358cb5",
   "metadata": {},
   "outputs": [],
   "source": [
    "# # 함수 생성\n",
    "# def content_crawl(url):\n",
    "#     # 서버 요청 응답 (많은 요청이 발생할 수 있으므로 거부 대비 헤더 추가)\n",
    "#     headers = {'User-Agent':\n",
    "#     'Mozilla/5.0 (Macintosh; Intel Mac OS X 10_15_7) AppleWebKit/537.36 (KHTML, like Gecko) Chrome/119.0.0.0 Safari/537.36'}\n",
    "#     res = requests.get(url, headers=headers)\n",
    "    \n",
    "#     # bs4객체 (파서기) 생성 \n",
    "#     html = res.text # requests 객체는 text 속성을 사용해야만 소스가 전달됨 \n",
    "#     bs_obj = bs4.BeautifulSoup(html, 'html.parser')\n",
    "    \n",
    "#     # 추출하려고 하는 뉴스 기사 영역\n",
    "#     content = bs_obj.find('div', {'id':'ct'})\n",
    "    \n",
    "#     # headline 구성 요소\n",
    "#     for items in content:\n",
    "#         channel = content.find('a').img['alt']\n",
    "#         info = content.select('#ct > div.media_end_head.go_trans > div.media_end_head_info.nv_notrans')\n",
    "#         info2 = info[0].select('.media_end_head_info_datestamp')\n",
    "#         date_all = info2[0].findAll('div', {'class':'media_end_head_info_datestamp_bunch'})\n",
    "#         org_date = date_all[0].text.replace('\\n','')[2:] # 입력 날짜\n",
    "#         corr_date = date_all[1].text.replace('\\n','')[2:] # 수정 날짜\n",
    "#         name = info[0].find('div', {'class':'media_end_head_journalist'}).em.text\n",
    "#         title = content.find('h2',{'id':'title_area'}).text\n",
    "#         cnt = content.select('#dic_area')[0].text.replace('\\n','').replace('\\t','')\n",
    "#     return title, name, org_date, corr_date, cnt, channel"
   ]
  },
  {
   "cell_type": "code",
   "execution_count": 56,
   "id": "c7da414f-14e4-45f3-b77e-0ad4e9f88ec4",
   "metadata": {},
   "outputs": [],
   "source": [
    "# # test\n",
    "# url = head_L_df['news_link'][51]\n",
    "# content_crawl(url)"
   ]
  },
  {
   "cell_type": "code",
   "execution_count": 60,
   "id": "c2824d51-f4ab-48e2-9a01-7d178740bd4a",
   "metadata": {},
   "outputs": [],
   "source": [
    "# 모든 뉴스에 대해 함수 적용 및 df로 저장 \n",
    "\n",
    "# url 명시 (모든 뉴스)\n",
    "urls = head_L_df['news_link']\n",
    "\n",
    "# 앞서 만들어두었던 빈 데이터 프레임에 행 추가  \n",
    "# i = 0\n",
    "# for u in urls:\n",
    "#     title, name, org_date, corr_date, cnt, channel = content_crawl(u)\n",
    "#     news_content.loc[i] = [title, name, org_date, corr_date, cnt, channel]\n",
    "#     i += 1\n",
    "\n",
    "## 수정 날짜 (corr_date)에 에러가 난 이유 : \bdata가 없는 기사가 있을 수 있음 \n",
    "## data가 하나라도 없으면, 해당 기사에 대해 수집하지 않음"
   ]
  },
  {
   "cell_type": "code",
   "execution_count": 61,
   "id": "5403d5b0-958b-48af-80c0-1309032cc192",
   "metadata": {},
   "outputs": [],
   "source": [
    "# 함수 수정\n",
    "def content_crawl(url):\n",
    "    # 서버 요청 응답 (많은 요청이 발생할 수 있으므로 거부 대비 헤더 추가)\n",
    "    headers = {'User-Agent':\n",
    "    'Mozilla/5.0 (Macintosh; Intel Mac OS X 10_15_7) AppleWebKit/537.36 (KHTML, like Gecko) Chrome/119.0.0.0 Safari/537.36'}\n",
    "    res = requests.get(url, headers=headers)\n",
    "    \n",
    "    # bs4객체 (파서기) 생성 \n",
    "    html = res.text # requests 객체는 text 속성을 사용해야만 소스가 전달됨 \n",
    "    bs_obj = bs4.BeautifulSoup(html, 'html.parser')\n",
    "    \n",
    "    # 추출하려고 하는 뉴스 기사 영역\n",
    "    content = bs_obj.find('div', {'id':'ct'})\n",
    "    \n",
    "    # headline 구성 요소\n",
    "    for items in content:\n",
    "        channel = content.find('a').img['alt']\n",
    "        info = content.select('#ct > div.media_end_head.go_trans > div.media_end_head_info.nv_notrans')\n",
    "        info2 = info[0].select('.media_end_head_info_datestamp')\n",
    "        date_all = info2[0].findAll('div', {'class':'media_end_head_info_datestamp_bunch'})\n",
    "        org_date = date_all[0].text.replace('\\n','')[2:] # 입력 날짜\n",
    "        try :\n",
    "            corr_date = date_all[1].text.replace('\\n','')[2:]\n",
    "        except :\n",
    "            corr_date = org_date\n",
    "        name = info[0].find('div', {'class':'media_end_head_journalist'}).em.text\n",
    "        title = content.find('h2',{'id':'title_area'}).text\n",
    "        cnt = content.select('#dic_area')[0].text.replace('\\n','').replace('\\t','')\n",
    "    return title, name, org_date, corr_date, cnt, channel"
   ]
  },
  {
   "cell_type": "code",
   "execution_count": 62,
   "id": "48caf2f8-0bf4-41cb-afbb-71c9edc19464",
   "metadata": {},
   "outputs": [
    {
     "name": "stdout",
     "output_type": "stream",
     "text": [
      "error : 수집 데이터가 없음\n",
      "error : 수집 데이터가 없음\n",
      "error : 수집 데이터가 없음\n",
      "error : 수집 데이터가 없음\n",
      "error : 수집 데이터가 없음\n",
      "error : 수집 데이터가 없음\n",
      "error : 수집 데이터가 없음\n"
     ]
    }
   ],
   "source": [
    "# data 가 없으면, 해당 기사에 대해 수집하지 않도록 수정\n",
    "i = 0\n",
    "for u in urls:\n",
    "    try :\n",
    "        title, name, org_date, corr_date, cnt, channel = content_crawl(u)\n",
    "        news_content.loc[i] = [title, name, org_date, corr_date, cnt, channel]\n",
    "    except :\n",
    "        print('error : 수집 데이터가 없음')\n",
    "    i += 1"
   ]
  },
  {
   "cell_type": "code",
   "execution_count": 63,
   "id": "9303c646-4622-4f5e-8c46-b53602cfa7f3",
   "metadata": {
    "scrolled": true
   },
   "outputs": [
    {
     "data": {
      "text/html": [
       "<div>\n",
       "<style scoped>\n",
       "    .dataframe tbody tr th:only-of-type {\n",
       "        vertical-align: middle;\n",
       "    }\n",
       "\n",
       "    .dataframe tbody tr th {\n",
       "        vertical-align: top;\n",
       "    }\n",
       "\n",
       "    .dataframe thead th {\n",
       "        text-align: right;\n",
       "    }\n",
       "</style>\n",
       "<table border=\"1\" class=\"dataframe\">\n",
       "  <thead>\n",
       "    <tr style=\"text-align: right;\">\n",
       "      <th></th>\n",
       "      <th>title</th>\n",
       "      <th>writer</th>\n",
       "      <th>org_date</th>\n",
       "      <th>corr_date</th>\n",
       "      <th>content</th>\n",
       "      <th>channel</th>\n",
       "    </tr>\n",
       "  </thead>\n",
       "  <tbody>\n",
       "    <tr>\n",
       "      <th>0</th>\n",
       "      <td>내년 경제정책방향 발표 최상목 후보자 데뷔 무대 되나</td>\n",
       "      <td>김용훈 기자</td>\n",
       "      <td>2023.12.11. 오전 7:30</td>\n",
       "      <td>2023.12.11. 오전 7:30</td>\n",
       "      <td>이례적 '1월 경방' 유력…연말 예산안 처리·인사청문회 일정 고려최상목 경제부총리 ...</td>\n",
       "      <td>헤럴드경제</td>\n",
       "    </tr>\n",
       "    <tr>\n",
       "      <th>3</th>\n",
       "      <td>'준연동형이냐 병립형이냐'…민주, 비례대표제 여론조사 진행중</td>\n",
       "      <td>박종홍 기자</td>\n",
       "      <td>2023.12.10. 오후 8:54</td>\n",
       "      <td>2023.12.10. 오후 8:55</td>\n",
       "      <td>당 지도부 '병립형 비례대표제' 무게…병립형 회귀 근거 활용될듯더불어민주당 최고위원...</td>\n",
       "      <td>뉴스1</td>\n",
       "    </tr>\n",
       "    <tr>\n",
       "      <th>4</th>\n",
       "      <td>“불출마” 제로… 기득권 포기않는 여당</td>\n",
       "      <td>이해완 기자</td>\n",
       "      <td>2023.12.11. 오전 11:52</td>\n",
       "      <td>2023.12.11. 오후 5:25</td>\n",
       "      <td>국회의사당 전경. 국회 홈페이지 캡처■ 총선 D-4개월… 與지도부·친윤·중진 ‘희생...</td>\n",
       "      <td>문화일보</td>\n",
       "    </tr>\n",
       "    <tr>\n",
       "      <th>5</th>\n",
       "      <td>해수장관 후보자, 과거 음주·폭력에 \"청문회에서 판단 받겠다\"</td>\n",
       "      <td>고재민 기자</td>\n",
       "      <td>2023.12.11. 오후 2:25</td>\n",
       "      <td>2023.12.11. 오후 2:31</td>\n",
       "      <td>취재진 질문에 답하는 강도형 해양수산부 장관 후보자 강도형 해양수산부 장관 후보자는...</td>\n",
       "      <td>MBC</td>\n",
       "    </tr>\n",
       "    <tr>\n",
       "      <th>6</th>\n",
       "      <td>선거구 미확정에 혼돈의 예비후보자들 “내 지역구는 어디인가?”</td>\n",
       "      <td>김윤나영 외 2명</td>\n",
       "      <td>2023.12.11. 오전 11:37</td>\n",
       "      <td>2023.12.11. 오후 6:00</td>\n",
       "      <td>중앙선거관리위원회 산하 국회의원선거구획정위원회가 국회에 제출한 내년 총선 선거구 획...</td>\n",
       "      <td>경향신문</td>\n",
       "    </tr>\n",
       "    <tr>\n",
       "      <th>7</th>\n",
       "      <td>이낙연 \"훌륭한 분 모아 세력화 필요\" 이상민 \"민주·인권 가치 규합\"</td>\n",
       "      <td>조재완 기자</td>\n",
       "      <td>2023.12.11. 오후 3:39</td>\n",
       "      <td>2023.12.11. 오후 3:45</td>\n",
       "      <td>이낙연 전 대표·이상민 의원, 11일 비공개 회동 \"민주, 개딸당 변질돼 뜯어고치는...</td>\n",
       "      <td>뉴시스</td>\n",
       "    </tr>\n",
       "    <tr>\n",
       "      <th>8</th>\n",
       "      <td>민주당 인재영입 1호는 ‘기후위기 전문가’ 박지혜 변호사</td>\n",
       "      <td>임재우 기자</td>\n",
       "      <td>2023.12.10. 오후 3:37</td>\n",
       "      <td>2023.12.10. 오후 3:57</td>\n",
       "      <td>박지혜 변호사. 연합뉴스더불어민주당이 외부 인재 1호로 기후위기 전문가 박지혜 플랜...</td>\n",
       "      <td>한겨레</td>\n",
       "    </tr>\n",
       "    <tr>\n",
       "      <th>9</th>\n",
       "      <td>조승래 의원, R&amp;D 예산 합의 9일 앞두고 천막농성 돌입...\"원상복구 필요\"</td>\n",
       "      <td>김영욱 기자</td>\n",
       "      <td>2023.12.11. 오후 2:07</td>\n",
       "      <td>2023.12.11. 오후 2:09</td>\n",
       "      <td>대통령 사과·이종호 자관 경질·삭감 철회 주장조승래 의원이 11일 서울 영등포구 국...</td>\n",
       "      <td>디지털타임스</td>\n",
       "    </tr>\n",
       "    <tr>\n",
       "      <th>10</th>\n",
       "      <td>결혼 5년 이하 신혼부부 100만쌍 선 무너지나</td>\n",
       "      <td>정우태 기자</td>\n",
       "      <td>2023.12.11. 오후 2:48</td>\n",
       "      <td>2023.12.11. 오후 2:48</td>\n",
       "      <td>통계청 '2022 신혼부부 통계' 결과 103만2천쌍 대구경북 감소율 전국 평균 이...</td>\n",
       "      <td>매일신문</td>\n",
       "    </tr>\n",
       "    <tr>\n",
       "      <th>11</th>\n",
       "      <td>40대 고용보험 가입자 첫 감소...\"인구감소 탓\"</td>\n",
       "      <td>김용훈 기자</td>\n",
       "      <td>2023.12.11. 오후 1:54</td>\n",
       "      <td>2023.12.11. 오후 1:54</td>\n",
       "      <td>전체 가입자 증가 폭 5개월 연속 둔화…제조업 내국인 감소[헤럴드경제=김용훈 기자]...</td>\n",
       "      <td>헤럴드경제</td>\n",
       "    </tr>\n",
       "    <tr>\n",
       "      <th>12</th>\n",
       "      <td>연말정산 체크리스트…식대 비과세 월 20만·영화관람 30% 공제</td>\n",
       "      <td>이동환 기자</td>\n",
       "      <td>2023.12.11. 오전 10:35</td>\n",
       "      <td>2023.12.11. 오전 10:57</td>\n",
       "      <td>4억 이하 주택 월세 세액공제…신용카드 소득공제 한도도 상향[법제처 제공. 재판매 ...</td>\n",
       "      <td>연합뉴스</td>\n",
       "    </tr>\n",
       "    <tr>\n",
       "      <th>13</th>\n",
       "      <td>“비트코인 뜬다” 서학 개미들 암호화폐 관련주 폭풍매수</td>\n",
       "      <td>홍주희 기자</td>\n",
       "      <td>2023.12.11. 오전 5:00</td>\n",
       "      <td>2023.12.11. 오전 5:01</td>\n",
       "      <td>미국 주식에 투자하는 서학개미들이 이달 들어 미국 최대 암호화폐 거래소 코인베이...</td>\n",
       "      <td>중앙일보</td>\n",
       "    </tr>\n",
       "    <tr>\n",
       "      <th>14</th>\n",
       "      <td>서울 아파트 평균 월세 ‘100만원 시대’</td>\n",
       "      <td>이진주 기자</td>\n",
       "      <td>2023.12.11. 오전 7:57</td>\n",
       "      <td>2023.12.11. 오전 8:03</td>\n",
       "      <td>수도권에 있는 대단위 아파트 단지 모습. 이준헌 기자올해 서울 아파트 임차인이 지불...</td>\n",
       "      <td>경향신문</td>\n",
       "    </tr>\n",
       "    <tr>\n",
       "      <th>15</th>\n",
       "      <td>금감원 “카드 리볼빙 미끼 광고 우려” 소비자 주의보</td>\n",
       "      <td>김진호 기자</td>\n",
       "      <td>2023.12.11. 오후 1:44</td>\n",
       "      <td>2023.12.11. 오후 1:44</td>\n",
       "      <td>리볼빙 잔액 7.5조 원 역대 최대치“고금리 대출성 계약 인지해야”금융감독원은 최근...</td>\n",
       "      <td>부산일보</td>\n",
       "    </tr>\n",
       "    <tr>\n",
       "      <th>16</th>\n",
       "      <td>김철주 신임 생보협회장 “생보산업 중대위기 직면”…3대과제 제시</td>\n",
       "      <td>강승연 기자</td>\n",
       "      <td>2023.12.11. 오전 10:02</td>\n",
       "      <td>2023.12.11. 오전 10:02</td>\n",
       "      <td>김철주 생보협회장 11일 공식 취임식본업 경쟁력 강화, 수익기반 다각화 중점추진상생...</td>\n",
       "      <td>헤럴드경제</td>\n",
       "    </tr>\n",
       "    <tr>\n",
       "      <th>17</th>\n",
       "      <td>삼성·현대車 등 '10대 그룹' 내부거래 196조…5년 만에 최대 증가</td>\n",
       "      <td>유재희 기자</td>\n",
       "      <td>2023.12.11. 오후 3:47</td>\n",
       "      <td>2023.12.11. 오후 3:48</td>\n",
       "      <td>공정거래위원회.지난해 삼성·현대자동차·SK 등 자산 상위 10대 기업집단의 국내계열...</td>\n",
       "      <td>머니투데이</td>\n",
       "    </tr>\n",
       "    <tr>\n",
       "      <th>18</th>\n",
       "      <td>[기업] 미래에셋 박현주·네이버 최수연, 청년 20인과 '갓생한끼'</td>\n",
       "      <td>홍상희 기자</td>\n",
       "      <td>2023.12.11. 오후 4:43</td>\n",
       "      <td>2023.12.11. 오후 6:41</td>\n",
       "      <td>한국경제인협회는 한국판 '버핏과의 점심'인 '갓생한끼'의 두 번째 행사로 박현주 미...</td>\n",
       "      <td>YTN</td>\n",
       "    </tr>\n",
       "    <tr>\n",
       "      <th>19</th>\n",
       "      <td>하나금융, DJSI 최상위 등급 '월드지수' 2년 연속 편입</td>\n",
       "      <td>정소양 기자</td>\n",
       "      <td>2023.12.11. 오후 3:22</td>\n",
       "      <td>2023.12.11. 오후 3:22</td>\n",
       "      <td>리스크관리·인권경영·탈탄소전략 등 다양한 부문에서 높은 평가하나금융그룹이 '2023...</td>\n",
       "      <td>더팩트</td>\n",
       "    </tr>\n",
       "    <tr>\n",
       "      <th>20</th>\n",
       "      <td>'의대정원 증원 반대\" 오늘부터 일주일간 의사파업 찬반 투표</td>\n",
       "      <td>지윤수 기자</td>\n",
       "      <td>2023.12.11. 오후 2:08</td>\n",
       "      <td>2023.12.11. 오후 2:22</td>\n",
       "      <td>이필수 의협 회장(가운데) [자료사진]정부의 의과대학 정원 확대에 반대하는 대한의사...</td>\n",
       "      <td>MBC</td>\n",
       "    </tr>\n",
       "    <tr>\n",
       "      <th>22</th>\n",
       "      <td>'호원초 교사 사망' 학부모 조사 완료…\"금전 강요 없었다\" 주장</td>\n",
       "      <td>김현정 기자</td>\n",
       "      <td>2023.12.11. 오후 6:03</td>\n",
       "      <td>2023.12.11. 오후 6:04</td>\n",
       "      <td>경찰, 관련 학부모 3명 소환 조사 400만원 받은 학부모 \"교사가 먼저 연락해\"경...</td>\n",
       "      <td>아시아경제</td>\n",
       "    </tr>\n",
       "    <tr>\n",
       "      <th>23</th>\n",
       "      <td>봉화 석포제련소에서 비소 중독 사고...협력업체 직원 1명 숨져</td>\n",
       "      <td>김근우 기자</td>\n",
       "      <td>2023.12.10. 오후 6:54</td>\n",
       "      <td>2023.12.10. 오후 6:57</td>\n",
       "      <td>제련소서 작업한 근로자 2명 복통 등 이상 증세몸 상태 급격히 나빠져…사흘 만에 6...</td>\n",
       "      <td>YTN</td>\n",
       "    </tr>\n",
       "    <tr>\n",
       "      <th>24</th>\n",
       "      <td>검찰, 송영길 영장청구 방침…“돈봉투 마련·전달책 모두 구속”</td>\n",
       "      <td>김철웅 기자</td>\n",
       "      <td>2023.12.11. 오전 12:01</td>\n",
       "      <td>2023.12.11. 오전 9:04</td>\n",
       "      <td>더불어민주당 전당대회 ‘돈봉투 의혹’ 사건의 핵심 인물인 송영길 전 민주당 대표...</td>\n",
       "      <td>중앙일보</td>\n",
       "    </tr>\n",
       "    <tr>\n",
       "      <th>25</th>\n",
       "      <td>[속보] 검찰, ‘등산로 살인’ 최윤종에 사형 구형…“전혀 반성없어”</td>\n",
       "      <td>조성신 기자</td>\n",
       "      <td>2023.12.11. 오후 5:31</td>\n",
       "      <td>2023.12.11. 오후 5:40</td>\n",
       "      <td>‘등산로 살인’ 최윤종 모습 [사진 = 연합뉴스]서울 관악구 신림동에서 여성을 성...</td>\n",
       "      <td>매일경제</td>\n",
       "    </tr>\n",
       "    <tr>\n",
       "      <th>26</th>\n",
       "      <td>강원에 ‘한겨울 폭우’…호우-대설 특보 동시 발령</td>\n",
       "      <td>김예윤 기자</td>\n",
       "      <td>2023.12.11. 오후 8:28</td>\n",
       "      <td>2023.12.11. 오후 8:32</td>\n",
       "      <td>강원 산간지역에 내린 눈 자료사진.한겨울 강원도에 호우특보와 대설특보가 동시에 내려...</td>\n",
       "      <td>동아일보</td>\n",
       "    </tr>\n",
       "    <tr>\n",
       "      <th>27</th>\n",
       "      <td>수사 중에 '또'… 차량 훔치고 경찰관 들이받은 청소년들</td>\n",
       "      <td>고상현 기자</td>\n",
       "      <td>2023.12.11. 오전 11:34</td>\n",
       "      <td>2023.12.11. 오전 11:34</td>\n",
       "      <td>최근 45일 동안 차량·오토바이 13대 훔쳐 몰아…경찰 구속영장 신청제주동부경찰서....</td>\n",
       "      <td>노컷뉴스</td>\n",
       "    </tr>\n",
       "    <tr>\n",
       "      <th>28</th>\n",
       "      <td>경찰, '업무상 횡령' 혐의 박현종 전 BHC 회장 자택·본사 압수수색</td>\n",
       "      <td>윤웅성 기자</td>\n",
       "      <td>2023.12.11. 오후 5:26</td>\n",
       "      <td>2023.12.11. 오후 5:29</td>\n",
       "      <td>경찰이 박현종 전 BHC 회장의 업무상 횡령 등 의혹과 관련해 강제수사에 나섰습니다...</td>\n",
       "      <td>YTN</td>\n",
       "    </tr>\n",
       "    <tr>\n",
       "      <th>29</th>\n",
       "      <td>\"집에서 안 나간다\"던 고립은둔 청년들…세상 밖으로 나왔다</td>\n",
       "      <td>최해련 기자</td>\n",
       "      <td>2023.12.11. 오후 3:59</td>\n",
       "      <td>2023.12.11. 오후 4:22</td>\n",
       "      <td>서울시, 고립은둔 청년 종합지원대책 올 4월 발표고립은둔 청년 557명 세상 밖으로...</td>\n",
       "      <td>한국경제</td>\n",
       "    </tr>\n",
       "    <tr>\n",
       "      <th>30</th>\n",
       "      <td>[내일날씨]12월인데 연일 '겨울비·눈'… 모레는 '한파'</td>\n",
       "      <td>김형민 기자</td>\n",
       "      <td>2023.12.11. 오후 6:23</td>\n",
       "      <td>2023.12.11. 오후 6:24</td>\n",
       "      <td>오는 12일까지 강원영동과 경북동해안을 중심으로 비, 강원산지에는 눈이 많이 내리겠...</td>\n",
       "      <td>아시아경제</td>\n",
       "    </tr>\n",
       "    <tr>\n",
       "      <th>31</th>\n",
       "      <td>스노체인 장착을 버튼 하나로… 현대차·기아, 일체형 타이어 개발</td>\n",
       "      <td>허경구 기자</td>\n",
       "      <td>2023.12.11. 오전 11:12</td>\n",
       "      <td>2023.12.11. 오전 11:12</td>\n",
       "      <td>운전자라면 겨울철 예기치 못한 폭설과 눈길을 마주했을 때 중간 지점에서 차를 세우고...</td>\n",
       "      <td>국민일보</td>\n",
       "    </tr>\n",
       "    <tr>\n",
       "      <th>32</th>\n",
       "      <td>BTS RM·뷔 오늘 입대...\"배움의 시기 동안 잠시 안녕\"</td>\n",
       "      <td>김잔디 기자</td>\n",
       "      <td>2023.12.11. 오전 8:38</td>\n",
       "      <td>2023.12.11. 오후 1:51</td>\n",
       "      <td>그룹 방탄소년단(BTS)의 RM과 뷔가 오늘 나란히 현역으로 육군에 입대했습니다.R...</td>\n",
       "      <td>YTN</td>\n",
       "    </tr>\n",
       "    <tr>\n",
       "      <th>34</th>\n",
       "      <td>“만성폐쇄성폐질환 환자, 공기청정기 가동·환기 등 5가지만 잘 지켜도 질환 호전”</td>\n",
       "      <td>정진수 기자</td>\n",
       "      <td>2023.12.11. 오후 4:42</td>\n",
       "      <td>2023.12.11. 오후 4:42</td>\n",
       "      <td>만성폐쇄성폐질환(COPD) 환자들이 미세먼지 노출을 줄이는 5가지 행동수칙만 지켜도...</td>\n",
       "      <td>세계일보</td>\n",
       "    </tr>\n",
       "    <tr>\n",
       "      <th>35</th>\n",
       "      <td>부산시립미술관 새 사령탑 서진석 “메타뮤지엄으로 개조”</td>\n",
       "      <td>노형석 기자</td>\n",
       "      <td>2023.12.11. 오후 5:31</td>\n",
       "      <td>2023.12.11. 오후 8:03</td>\n",
       "      <td>취임 간담회서진석 부산시립미술관장이 11일 낮 열린 취임간담회에서 내후년까지 진행할...</td>\n",
       "      <td>한겨레</td>\n",
       "    </tr>\n",
       "    <tr>\n",
       "      <th>36</th>\n",
       "      <td>'천만 관객' 모을까…서울의 봄 흥행에 함께 웃는 주식은?</td>\n",
       "      <td>홍재영 기자</td>\n",
       "      <td>2023.12.11. 오후 4:19</td>\n",
       "      <td>2023.12.11. 오후 4:20</td>\n",
       "      <td>12·12 군사 반란을 다룬 영화 '서울의 봄' 흥행 질주가 이어지면서 관련주들도 ...</td>\n",
       "      <td>머니투데이</td>\n",
       "    </tr>\n",
       "    <tr>\n",
       "      <th>37</th>\n",
       "      <td>정병국 위원장 \"15주년 창작산실 해외진출 등 성과…단계별 지원 강화할 것\"</td>\n",
       "      <td>김희윤 기자</td>\n",
       "      <td>2023.12.11. 오후 7:06</td>\n",
       "      <td>2023.12.11. 오후 7:07</td>\n",
       "      <td>공연예술창작산실, 15년간 총 274편 신작 발굴2024년 1월부터 개막, 배우 차...</td>\n",
       "      <td>아시아경제</td>\n",
       "    </tr>\n",
       "    <tr>\n",
       "      <th>38</th>\n",
       "      <td>\"카카오라는 이름까지도 바꿀 각오\"…김범수, 직원들과 만나 경영쇄신 주문</td>\n",
       "      <td>김영은 기자</td>\n",
       "      <td>2023.12.11. 오후 4:08</td>\n",
       "      <td>2023.12.11. 오후 4:08</td>\n",
       "      <td>11일 직원 카카오 직원 간담회인 브라이언톡에서 김범수 경영쇄신위원장이 발표하고 있...</td>\n",
       "      <td>한경비즈니스</td>\n",
       "    </tr>\n",
       "    <tr>\n",
       "      <th>39</th>\n",
       "      <td>애플vs삼성vs구글 \"손안의 AI, 1등은 나야나!\"[양철민의 아알못]</td>\n",
       "      <td>양철민 기자</td>\n",
       "      <td>2023.12.11. 오전 6:01</td>\n",
       "      <td>2023.12.11. 오전 6:01</td>\n",
       "      <td>애플, 음성비서 '시리'로 AI시장 참전'가우스전자' 삼성, 갤럭시24로 출사표구글...</td>\n",
       "      <td>서울경제</td>\n",
       "    </tr>\n",
       "    <tr>\n",
       "      <th>40</th>\n",
       "      <td>LK-99 진위 결과는 없고, ‘자중지란’만 있다</td>\n",
       "      <td>이종현 기자</td>\n",
       "      <td>2023.12.11. 오후 4:49</td>\n",
       "      <td>2023.12.11. 오후 4:49</td>\n",
       "      <td>‘LK-99 연구자’ 권영완 고려대 연구교수 기자회견이석배 대표·김현탁 교수와 논문...</td>\n",
       "      <td>조선비즈</td>\n",
       "    </tr>\n",
       "    <tr>\n",
       "      <th>41</th>\n",
       "      <td>질병 유전자 잘라내는 가위 미국도 상용화... 희소병 치료 문턱 낮출 수 있을까</td>\n",
       "      <td>이재명 기자</td>\n",
       "      <td>2023.12.10. 오후 1:01</td>\n",
       "      <td>2023.12.10. 오후 1:01</td>\n",
       "      <td>'카스제비' 英 이어 美 최종 승인질병 유발 DNA 부위 정밀 절단치료법 없던 유전...</td>\n",
       "      <td>한국일보</td>\n",
       "    </tr>\n",
       "    <tr>\n",
       "      <th>42</th>\n",
       "      <td>‘6G 상용화 대비해야’...한국통신학회, 이동통신산업 워크숍 개최</td>\n",
       "      <td>정호준 기자</td>\n",
       "      <td>2023.12.11. 오후 4:03</td>\n",
       "      <td>2023.12.11. 오후 4:03</td>\n",
       "      <td>한국통신학회 워크숍 포스터 [출처 = 한국통신학회]대한민국의 이동통신 산업의 현황...</td>\n",
       "      <td>매일경제</td>\n",
       "    </tr>\n",
       "    <tr>\n",
       "      <th>43</th>\n",
       "      <td>엔씨소프트, 김택진-박병무 공동대표 체제로…창사 이래 처음(종합)</td>\n",
       "      <td>김주환 기자</td>\n",
       "      <td>2023.12.11. 오후 2:47</td>\n",
       "      <td>2023.12.11. 오후 2:48</td>\n",
       "      <td>\"법조인 출신 전문경영인\"…창업자와 고교-대학 동문박병무 엔씨소프트 신임 공동대표[...</td>\n",
       "      <td>연합뉴스</td>\n",
       "    </tr>\n",
       "    <tr>\n",
       "      <th>44</th>\n",
       "      <td>친숙한 한국어 더빙으로 '한국인 구독자' 끌어모았다…'미스터 비스트' 1등 유튜브 전략</td>\n",
       "      <td>김은하 기자</td>\n",
       "      <td>2023.12.11. 오전 9:04</td>\n",
       "      <td>2023.12.11. 오후 4:03</td>\n",
       "      <td>전 세계 구독자 수 2위 '미스터비스트''오징어게임' 실제로 개최하기도유튜브에서 올...</td>\n",
       "      <td>아시아경제</td>\n",
       "    </tr>\n",
       "    <tr>\n",
       "      <th>45</th>\n",
       "      <td>SKT \"뇌톡톡으로 치매 예방\"…치매 진행율 5분의 1로 감소</td>\n",
       "      <td>이승우 기자</td>\n",
       "      <td>2023.12.11. 오전 10:12</td>\n",
       "      <td>2023.12.11. 오전 10:14</td>\n",
       "      <td>SK텔레콤은 자사 인공지능(AI) 스피커를 기반으로 만든 기억훈련 프로그램 ‘두뇌톡...</td>\n",
       "      <td>한국경제</td>\n",
       "    </tr>\n",
       "    <tr>\n",
       "      <th>46</th>\n",
       "      <td>옥중 수상 노벨평화상, 망명한 자녀가 대신 받아</td>\n",
       "      <td>강훈상 기자</td>\n",
       "      <td>2023.12.11. 오전 12:33</td>\n",
       "      <td>2023.12.11. 오전 12:34</td>\n",
       "      <td>나르게스 모하마디 대신 노벨평화상을 수상한 두 자녀[NTB/로이터 연합뉴스 자료사진...</td>\n",
       "      <td>연합뉴스</td>\n",
       "    </tr>\n",
       "    <tr>\n",
       "      <th>47</th>\n",
       "      <td>\"중국 우라늄 사재기 나섰다…서방 에너지 공급망 위협\"</td>\n",
       "      <td>신기림 기자</td>\n",
       "      <td>2023.12.11. 오전 10:00</td>\n",
       "      <td>2023.12.11. 오전 10:02</td>\n",
       "      <td>원자재 투자회사 옐로우케이크 CEO FT 인터뷰우라늄 가격 15년래 최고…서방, 우...</td>\n",
       "      <td>뉴스1</td>\n",
       "    </tr>\n",
       "    <tr>\n",
       "      <th>48</th>\n",
       "      <td>일본 홋카이도 해안 정어리 집단 폐사…“원인 불명”</td>\n",
       "      <td>이승준 기자</td>\n",
       "      <td>2023.12.11. 오전 10:45</td>\n",
       "      <td>2023.12.11. 오후 5:53</td>\n",
       "      <td>7일 일본 홋카이도 하코다테의 한 해변에 떠밀려온 폐사한 정어리떼. AP 연합뉴스최...</td>\n",
       "      <td>한겨레</td>\n",
       "    </tr>\n",
       "    <tr>\n",
       "      <th>49</th>\n",
       "      <td>필리핀 선박에 ‘물대포’ 퍼부은 중국 해경…이틀째 책임 공방 이어져 [현장영상]</td>\n",
       "      <td>서다은 기자</td>\n",
       "      <td>2023.12.10. 오후 7:15</td>\n",
       "      <td>2023.12.10. 오후 7:20</td>\n",
       "      <td>중국과 필리핀이 영유권 분쟁지역인 남중국해에서 이틀째 충돌을 이어가고 있습니다.오...</td>\n",
       "      <td>KBS</td>\n",
       "    </tr>\n",
       "    <tr>\n",
       "      <th>50</th>\n",
       "      <td>아르헨 밀레이 대통령 취임 \"최악 정부 물려받아…개혁만이 해법\"</td>\n",
       "      <td>표언구 기자</td>\n",
       "      <td>2023.12.11. 오전 8:15</td>\n",
       "      <td>2023.12.11. 오전 8:17</td>\n",
       "      <td>극심한 경제 위기 속에 치러진 아르헨티나 대통령 선거에서 당선된 하비에르 밀레이(5...</td>\n",
       "      <td>SBS</td>\n",
       "    </tr>\n",
       "  </tbody>\n",
       "</table>\n",
       "</div>"
      ],
      "text/plain": [
       "                                               title     writer  \\\n",
       "0                      내년 경제정책방향 발표 최상목 후보자 데뷔 무대 되나     김용훈 기자   \n",
       "3                  '준연동형이냐 병립형이냐'…민주, 비례대표제 여론조사 진행중     박종홍 기자   \n",
       "4                              “불출마” 제로… 기득권 포기않는 여당     이해완 기자   \n",
       "5                 해수장관 후보자, 과거 음주·폭력에 \"청문회에서 판단 받겠다\"     고재민 기자   \n",
       "6                 선거구 미확정에 혼돈의 예비후보자들 “내 지역구는 어디인가?”  김윤나영 외 2명   \n",
       "7            이낙연 \"훌륭한 분 모아 세력화 필요\" 이상민 \"민주·인권 가치 규합\"     조재완 기자   \n",
       "8                    민주당 인재영입 1호는 ‘기후위기 전문가’ 박지혜 변호사     임재우 기자   \n",
       "9       조승래 의원, R&D 예산 합의 9일 앞두고 천막농성 돌입...\"원상복구 필요\"     김영욱 기자   \n",
       "10                        결혼 5년 이하 신혼부부 100만쌍 선 무너지나     정우태 기자   \n",
       "11                      40대 고용보험 가입자 첫 감소...\"인구감소 탓\"     김용훈 기자   \n",
       "12               연말정산 체크리스트…식대 비과세 월 20만·영화관람 30% 공제     이동환 기자   \n",
       "13                    “비트코인 뜬다” 서학 개미들 암호화폐 관련주 폭풍매수     홍주희 기자   \n",
       "14                           서울 아파트 평균 월세 ‘100만원 시대’     이진주 기자   \n",
       "15                     금감원 “카드 리볼빙 미끼 광고 우려” 소비자 주의보     김진호 기자   \n",
       "16               김철주 신임 생보협회장 “생보산업 중대위기 직면”…3대과제 제시     강승연 기자   \n",
       "17           삼성·현대車 등 '10대 그룹' 내부거래 196조…5년 만에 최대 증가     유재희 기자   \n",
       "18             [기업] 미래에셋 박현주·네이버 최수연, 청년 20인과 '갓생한끼'     홍상희 기자   \n",
       "19                 하나금융, DJSI 최상위 등급 '월드지수' 2년 연속 편입     정소양 기자   \n",
       "20                 '의대정원 증원 반대\" 오늘부터 일주일간 의사파업 찬반 투표     지윤수 기자   \n",
       "22              '호원초 교사 사망' 학부모 조사 완료…\"금전 강요 없었다\" 주장     김현정 기자   \n",
       "23               봉화 석포제련소에서 비소 중독 사고...협력업체 직원 1명 숨져     김근우 기자   \n",
       "24                검찰, 송영길 영장청구 방침…“돈봉투 마련·전달책 모두 구속”     김철웅 기자   \n",
       "25            [속보] 검찰, ‘등산로 살인’ 최윤종에 사형 구형…“전혀 반성없어”     조성신 기자   \n",
       "26                       강원에 ‘한겨울 폭우’…호우-대설 특보 동시 발령     김예윤 기자   \n",
       "27                   수사 중에 '또'… 차량 훔치고 경찰관 들이받은 청소년들     고상현 기자   \n",
       "28           경찰, '업무상 횡령' 혐의 박현종 전 BHC 회장 자택·본사 압수수색     윤웅성 기자   \n",
       "29                  \"집에서 안 나간다\"던 고립은둔 청년들…세상 밖으로 나왔다     최해련 기자   \n",
       "30                  [내일날씨]12월인데 연일 '겨울비·눈'… 모레는 '한파'     김형민 기자   \n",
       "31               스노체인 장착을 버튼 하나로… 현대차·기아, 일체형 타이어 개발     허경구 기자   \n",
       "32                BTS RM·뷔 오늘 입대...\"배움의 시기 동안 잠시 안녕\"     김잔디 기자   \n",
       "34     “만성폐쇄성폐질환 환자, 공기청정기 가동·환기 등 5가지만 잘 지켜도 질환 호전”     정진수 기자   \n",
       "35                    부산시립미술관 새 사령탑 서진석 “메타뮤지엄으로 개조”     노형석 기자   \n",
       "36                  '천만 관객' 모을까…서울의 봄 흥행에 함께 웃는 주식은?     홍재영 기자   \n",
       "37        정병국 위원장 \"15주년 창작산실 해외진출 등 성과…단계별 지원 강화할 것\"     김희윤 기자   \n",
       "38          \"카카오라는 이름까지도 바꿀 각오\"…김범수, 직원들과 만나 경영쇄신 주문     김영은 기자   \n",
       "39           애플vs삼성vs구글 \"손안의 AI, 1등은 나야나!\"[양철민의 아알못]     양철민 기자   \n",
       "40                       LK-99 진위 결과는 없고, ‘자중지란’만 있다     이종현 기자   \n",
       "41      질병 유전자 잘라내는 가위 미국도 상용화... 희소병 치료 문턱 낮출 수 있을까     이재명 기자   \n",
       "42             ‘6G 상용화 대비해야’...한국통신학회, 이동통신산업 워크숍 개최     정호준 기자   \n",
       "43              엔씨소프트, 김택진-박병무 공동대표 체제로…창사 이래 처음(종합)     김주환 기자   \n",
       "44  친숙한 한국어 더빙으로 '한국인 구독자' 끌어모았다…'미스터 비스트' 1등 유튜브 전략     김은하 기자   \n",
       "45                SKT \"뇌톡톡으로 치매 예방\"…치매 진행율 5분의 1로 감소     이승우 기자   \n",
       "46                        옥중 수상 노벨평화상, 망명한 자녀가 대신 받아     강훈상 기자   \n",
       "47                    \"중국 우라늄 사재기 나섰다…서방 에너지 공급망 위협\"     신기림 기자   \n",
       "48                      일본 홋카이도 해안 정어리 집단 폐사…“원인 불명”     이승준 기자   \n",
       "49      필리핀 선박에 ‘물대포’ 퍼부은 중국 해경…이틀째 책임 공방 이어져 [현장영상]     서다은 기자   \n",
       "50               아르헨 밀레이 대통령 취임 \"최악 정부 물려받아…개혁만이 해법\"     표언구 기자   \n",
       "\n",
       "                org_date             corr_date  \\\n",
       "0    2023.12.11. 오전 7:30   2023.12.11. 오전 7:30   \n",
       "3    2023.12.10. 오후 8:54   2023.12.10. 오후 8:55   \n",
       "4   2023.12.11. 오전 11:52   2023.12.11. 오후 5:25   \n",
       "5    2023.12.11. 오후 2:25   2023.12.11. 오후 2:31   \n",
       "6   2023.12.11. 오전 11:37   2023.12.11. 오후 6:00   \n",
       "7    2023.12.11. 오후 3:39   2023.12.11. 오후 3:45   \n",
       "8    2023.12.10. 오후 3:37   2023.12.10. 오후 3:57   \n",
       "9    2023.12.11. 오후 2:07   2023.12.11. 오후 2:09   \n",
       "10   2023.12.11. 오후 2:48   2023.12.11. 오후 2:48   \n",
       "11   2023.12.11. 오후 1:54   2023.12.11. 오후 1:54   \n",
       "12  2023.12.11. 오전 10:35  2023.12.11. 오전 10:57   \n",
       "13   2023.12.11. 오전 5:00   2023.12.11. 오전 5:01   \n",
       "14   2023.12.11. 오전 7:57   2023.12.11. 오전 8:03   \n",
       "15   2023.12.11. 오후 1:44   2023.12.11. 오후 1:44   \n",
       "16  2023.12.11. 오전 10:02  2023.12.11. 오전 10:02   \n",
       "17   2023.12.11. 오후 3:47   2023.12.11. 오후 3:48   \n",
       "18   2023.12.11. 오후 4:43   2023.12.11. 오후 6:41   \n",
       "19   2023.12.11. 오후 3:22   2023.12.11. 오후 3:22   \n",
       "20   2023.12.11. 오후 2:08   2023.12.11. 오후 2:22   \n",
       "22   2023.12.11. 오후 6:03   2023.12.11. 오후 6:04   \n",
       "23   2023.12.10. 오후 6:54   2023.12.10. 오후 6:57   \n",
       "24  2023.12.11. 오전 12:01   2023.12.11. 오전 9:04   \n",
       "25   2023.12.11. 오후 5:31   2023.12.11. 오후 5:40   \n",
       "26   2023.12.11. 오후 8:28   2023.12.11. 오후 8:32   \n",
       "27  2023.12.11. 오전 11:34  2023.12.11. 오전 11:34   \n",
       "28   2023.12.11. 오후 5:26   2023.12.11. 오후 5:29   \n",
       "29   2023.12.11. 오후 3:59   2023.12.11. 오후 4:22   \n",
       "30   2023.12.11. 오후 6:23   2023.12.11. 오후 6:24   \n",
       "31  2023.12.11. 오전 11:12  2023.12.11. 오전 11:12   \n",
       "32   2023.12.11. 오전 8:38   2023.12.11. 오후 1:51   \n",
       "34   2023.12.11. 오후 4:42   2023.12.11. 오후 4:42   \n",
       "35   2023.12.11. 오후 5:31   2023.12.11. 오후 8:03   \n",
       "36   2023.12.11. 오후 4:19   2023.12.11. 오후 4:20   \n",
       "37   2023.12.11. 오후 7:06   2023.12.11. 오후 7:07   \n",
       "38   2023.12.11. 오후 4:08   2023.12.11. 오후 4:08   \n",
       "39   2023.12.11. 오전 6:01   2023.12.11. 오전 6:01   \n",
       "40   2023.12.11. 오후 4:49   2023.12.11. 오후 4:49   \n",
       "41   2023.12.10. 오후 1:01   2023.12.10. 오후 1:01   \n",
       "42   2023.12.11. 오후 4:03   2023.12.11. 오후 4:03   \n",
       "43   2023.12.11. 오후 2:47   2023.12.11. 오후 2:48   \n",
       "44   2023.12.11. 오전 9:04   2023.12.11. 오후 4:03   \n",
       "45  2023.12.11. 오전 10:12  2023.12.11. 오전 10:14   \n",
       "46  2023.12.11. 오전 12:33  2023.12.11. 오전 12:34   \n",
       "47  2023.12.11. 오전 10:00  2023.12.11. 오전 10:02   \n",
       "48  2023.12.11. 오전 10:45   2023.12.11. 오후 5:53   \n",
       "49   2023.12.10. 오후 7:15   2023.12.10. 오후 7:20   \n",
       "50   2023.12.11. 오전 8:15   2023.12.11. 오전 8:17   \n",
       "\n",
       "                                              content channel  \n",
       "0   이례적 '1월 경방' 유력…연말 예산안 처리·인사청문회 일정 고려최상목 경제부총리 ...   헤럴드경제  \n",
       "3   당 지도부 '병립형 비례대표제' 무게…병립형 회귀 근거 활용될듯더불어민주당 최고위원...     뉴스1  \n",
       "4   국회의사당 전경. 국회 홈페이지 캡처■ 총선 D-4개월… 與지도부·친윤·중진 ‘희생...    문화일보  \n",
       "5   취재진 질문에 답하는 강도형 해양수산부 장관 후보자 강도형 해양수산부 장관 후보자는...     MBC  \n",
       "6   중앙선거관리위원회 산하 국회의원선거구획정위원회가 국회에 제출한 내년 총선 선거구 획...    경향신문  \n",
       "7   이낙연 전 대표·이상민 의원, 11일 비공개 회동 \"민주, 개딸당 변질돼 뜯어고치는...     뉴시스  \n",
       "8   박지혜 변호사. 연합뉴스더불어민주당이 외부 인재 1호로 기후위기 전문가 박지혜 플랜...     한겨레  \n",
       "9   대통령 사과·이종호 자관 경질·삭감 철회 주장조승래 의원이 11일 서울 영등포구 국...  디지털타임스  \n",
       "10  통계청 '2022 신혼부부 통계' 결과 103만2천쌍 대구경북 감소율 전국 평균 이...    매일신문  \n",
       "11  전체 가입자 증가 폭 5개월 연속 둔화…제조업 내국인 감소[헤럴드경제=김용훈 기자]...   헤럴드경제  \n",
       "12  4억 이하 주택 월세 세액공제…신용카드 소득공제 한도도 상향[법제처 제공. 재판매 ...    연합뉴스  \n",
       "13    미국 주식에 투자하는 서학개미들이 이달 들어 미국 최대 암호화폐 거래소 코인베이...    중앙일보  \n",
       "14  수도권에 있는 대단위 아파트 단지 모습. 이준헌 기자올해 서울 아파트 임차인이 지불...    경향신문  \n",
       "15  리볼빙 잔액 7.5조 원 역대 최대치“고금리 대출성 계약 인지해야”금융감독원은 최근...    부산일보  \n",
       "16  김철주 생보협회장 11일 공식 취임식본업 경쟁력 강화, 수익기반 다각화 중점추진상생...   헤럴드경제  \n",
       "17  공정거래위원회.지난해 삼성·현대자동차·SK 등 자산 상위 10대 기업집단의 국내계열...   머니투데이  \n",
       "18  한국경제인협회는 한국판 '버핏과의 점심'인 '갓생한끼'의 두 번째 행사로 박현주 미...     YTN  \n",
       "19  리스크관리·인권경영·탈탄소전략 등 다양한 부문에서 높은 평가하나금융그룹이 '2023...     더팩트  \n",
       "20  이필수 의협 회장(가운데) [자료사진]정부의 의과대학 정원 확대에 반대하는 대한의사...     MBC  \n",
       "22  경찰, 관련 학부모 3명 소환 조사 400만원 받은 학부모 \"교사가 먼저 연락해\"경...   아시아경제  \n",
       "23  제련소서 작업한 근로자 2명 복통 등 이상 증세몸 상태 급격히 나빠져…사흘 만에 6...     YTN  \n",
       "24    더불어민주당 전당대회 ‘돈봉투 의혹’ 사건의 핵심 인물인 송영길 전 민주당 대표...    중앙일보  \n",
       "25   ‘등산로 살인’ 최윤종 모습 [사진 = 연합뉴스]서울 관악구 신림동에서 여성을 성...    매일경제  \n",
       "26  강원 산간지역에 내린 눈 자료사진.한겨울 강원도에 호우특보와 대설특보가 동시에 내려...    동아일보  \n",
       "27  최근 45일 동안 차량·오토바이 13대 훔쳐 몰아…경찰 구속영장 신청제주동부경찰서....    노컷뉴스  \n",
       "28  경찰이 박현종 전 BHC 회장의 업무상 횡령 등 의혹과 관련해 강제수사에 나섰습니다...     YTN  \n",
       "29  서울시, 고립은둔 청년 종합지원대책 올 4월 발표고립은둔 청년 557명 세상 밖으로...    한국경제  \n",
       "30  오는 12일까지 강원영동과 경북동해안을 중심으로 비, 강원산지에는 눈이 많이 내리겠...   아시아경제  \n",
       "31  운전자라면 겨울철 예기치 못한 폭설과 눈길을 마주했을 때 중간 지점에서 차를 세우고...    국민일보  \n",
       "32  그룹 방탄소년단(BTS)의 RM과 뷔가 오늘 나란히 현역으로 육군에 입대했습니다.R...     YTN  \n",
       "34  만성폐쇄성폐질환(COPD) 환자들이 미세먼지 노출을 줄이는 5가지 행동수칙만 지켜도...    세계일보  \n",
       "35  취임 간담회서진석 부산시립미술관장이 11일 낮 열린 취임간담회에서 내후년까지 진행할...     한겨레  \n",
       "36  12·12 군사 반란을 다룬 영화 '서울의 봄' 흥행 질주가 이어지면서 관련주들도 ...   머니투데이  \n",
       "37  공연예술창작산실, 15년간 총 274편 신작 발굴2024년 1월부터 개막, 배우 차...   아시아경제  \n",
       "38  11일 직원 카카오 직원 간담회인 브라이언톡에서 김범수 경영쇄신위원장이 발표하고 있...  한경비즈니스  \n",
       "39  애플, 음성비서 '시리'로 AI시장 참전'가우스전자' 삼성, 갤럭시24로 출사표구글...    서울경제  \n",
       "40  ‘LK-99 연구자’ 권영완 고려대 연구교수 기자회견이석배 대표·김현탁 교수와 논문...    조선비즈  \n",
       "41  '카스제비' 英 이어 美 최종 승인질병 유발 DNA 부위 정밀 절단치료법 없던 유전...    한국일보  \n",
       "42   한국통신학회 워크숍 포스터 [출처 = 한국통신학회]대한민국의 이동통신 산업의 현황...    매일경제  \n",
       "43  \"법조인 출신 전문경영인\"…창업자와 고교-대학 동문박병무 엔씨소프트 신임 공동대표[...    연합뉴스  \n",
       "44  전 세계 구독자 수 2위 '미스터비스트''오징어게임' 실제로 개최하기도유튜브에서 올...   아시아경제  \n",
       "45  SK텔레콤은 자사 인공지능(AI) 스피커를 기반으로 만든 기억훈련 프로그램 ‘두뇌톡...    한국경제  \n",
       "46  나르게스 모하마디 대신 노벨평화상을 수상한 두 자녀[NTB/로이터 연합뉴스 자료사진...    연합뉴스  \n",
       "47  원자재 투자회사 옐로우케이크 CEO FT 인터뷰우라늄 가격 15년래 최고…서방, 우...     뉴스1  \n",
       "48  7일 일본 홋카이도 하코다테의 한 해변에 떠밀려온 폐사한 정어리떼. AP 연합뉴스최...     한겨레  \n",
       "49   중국과 필리핀이 영유권 분쟁지역인 남중국해에서 이틀째 충돌을 이어가고 있습니다.오...     KBS  \n",
       "50  극심한 경제 위기 속에 치러진 아르헨티나 대통령 선거에서 당선된 하비에르 밀레이(5...     SBS  "
      ]
     },
     "execution_count": 63,
     "metadata": {},
     "output_type": "execute_result"
    }
   ],
   "source": [
    "news_content"
   ]
  },
  {
   "cell_type": "code",
   "execution_count": 64,
   "id": "e0a1f10d-4198-4d41-be46-1dd2851316e7",
   "metadata": {},
   "outputs": [],
   "source": [
    "news_content.to_csv('./crawl_data/news_content.csv')"
   ]
  },
  {
   "attachments": {
    "634387e7-1095-4623-be4e-133532deb9e6.png": {
     "image/png": "[encoded data removed]"
    }
   },
   "cell_type": "markdown",
   "id": "b0995fae-0b1b-4dc4-8583-5d43e433ccae",
   "metadata": {},
   "source": [
    "![Frame 12.png](attachment:634387e7-1095-4623-be4e-133532deb9e6.png)\n",
    "\n",
    "## **쇼핑몰 크롤링 (정적 크롤링)**\n",
    "- 특정 상품의 시세파악을 위해서는 상품을 판매하는 쇼핑몰 데이터를 추출하여 파악하는 것이 일반적\n",
    "- 특정 사이트를 선정하여 주기적으로 상품의 가격 변화를 확인\n",
    "- 사이트 선정 시 구성이 변화되지 않고, 접속량이 일정 수준 이상인 사이트를 선정\n",
    "- https://jolse.com/index.html\n",
    "- 크롤링 항목 : 제품명, 가격, 세일가격"
   ]
  },
  {
   "cell_type": "markdown",
   "id": "a8a324de-fa31-4609-9b92-b65d2e721f05",
   "metadata": {},
   "source": [
    "### **🔸 특정 페이지로 예시 코드 생성**\n",
    "- 모든 페이지가 동일한 layout이기 때문에 특정 페이지로 예시 코드 작성 후, 함수화 진행하여 모든 페이지에 대해 적용할 예정\n",
    "- 예시 코드 페이지 : http://jolse.com/category/toners-mists/1019/"
   ]
  },
  {
   "cell_type": "markdown",
   "id": "f332f801-5603-462b-9b44-e8168b1edb9a",
   "metadata": {},
   "source": [
    "#### **쇼핑몰 크롤링 시 자주 발생하는 '인증 에러'**\n",
    "- 인증 에러 [SSL:CERTIFICATE_VERIFY_FAILED]\n",
    "- SSL 패키지 활용해서 인증을 전송하면 해결됨"
   ]
  },
  {
   "cell_type": "code",
   "execution_count": 65,
   "id": "79775fa6-d6e7-4e2b-8698-2126c7c48715",
   "metadata": {},
   "outputs": [],
   "source": [
    "# SSL 패키지\n",
    "import ssl"
   ]
  },
  {
   "cell_type": "code",
   "execution_count": 66,
   "id": "7a896cf5-7b5a-457e-ad6f-7b5d81bcd088",
   "metadata": {},
   "outputs": [],
   "source": [
    "# context 객체 활용 (인증에 대해 검사하지 않도록 하는 객체)\n",
    "context = ssl._create_unverified_context()\n",
    "url = 'http://jolse.com/category/toners-mists/1019/'\n",
    "html = urlopen(url, context=context) # url 서버에 context 전달 \n",
    "htmls = html.read()"
   ]
  },
  {
   "cell_type": "markdown",
   "id": "e6577214-fdc7-4c47-9ff7-76ab03e7be39",
   "metadata": {},
   "source": [
    "#### **크롤링 진행**\n",
    "- 크롤링 항목 : 제품명, 가격, 세일가격"
   ]
  },
  {
   "cell_type": "code",
   "execution_count": 67,
   "id": "562ae3e9-b94b-4705-bb1c-900b7c2ba298",
   "metadata": {},
   "outputs": [],
   "source": [
    "# 파싱 객체 생성\n",
    "bs_obj = bs4.BeautifulSoup(htmls, 'html.parser')"
   ]
  },
  {
   "cell_type": "code",
   "execution_count": 68,
   "id": "127af93f-39c2-45ea-bbe1-bc666040ccf3",
   "metadata": {},
   "outputs": [
    {
     "data": {
      "text/plain": [
       "1"
      ]
     },
     "execution_count": 68,
     "metadata": {},
     "output_type": "execute_result"
    }
   ],
   "source": [
    "# 제품들이 포함된 영역에 대한 Selector : uls \n",
    "\n",
    "# uls = bs_obj.findAll('ul', {'class':'prdList grid5'})\n",
    "uls = bs_obj.findAll('ul', {'class':'prdList'}) # Selector 명에 띄어쓰기가 있으면 앞 부분만 이용해도 추출 가능 \n",
    "len(uls) \n",
    "\n",
    "# => 한 페이지당 1개의 ul (페이지) & 20개의 li (제품) 이 있지 않을까?"
   ]
  },
  {
   "cell_type": "code",
   "execution_count": 69,
   "id": "75a59c2d-bcf4-437a-ad78-0e1347ea1259",
   "metadata": {},
   "outputs": [
    {
     "data": {
      "text/plain": [
       "60"
      ]
     },
     "execution_count": 69,
     "metadata": {},
     "output_type": "execute_result"
    }
   ],
   "source": [
    "# 제품들에 대한 Selector : li ❌\n",
    "len(uls[0].findAll('li'))\n",
    "\n",
    "# => 20개가 아니라 60개가 나옴. 정확히 제품에 대한 selector 가 아닌 것 같음"
   ]
  },
  {
   "cell_type": "code",
   "execution_count": 70,
   "id": "54b79c22-a388-4dab-9d68-de877f074a67",
   "metadata": {},
   "outputs": [
    {
     "data": {
      "text/plain": [
       "20"
      ]
     },
     "execution_count": 70,
     "metadata": {},
     "output_type": "execute_result"
    },
    {
     "data": {
      "text/plain": [
       "<div class=\"description\">\n",
       "<span class=\"chk\"><input class=\"ProductCompareClass xECPCNO_16241\" type=\"checkbox\"/></span>\n",
       "<span class=\"prd-brand\"></span>\n",
       "<strong class=\"name\"><a class=\"\" href=\"/product/some-by-mi-aha-bha-pha-30-days-miracle-toner-150ml/16241/category/1019/display/1/\"><span class=\"title displaynone\"><span style=\"font-size:14px;color:#555555;font-weight:bold;\">Product Name</span> :</span> <span style=\"font-size:14px;color:#555555;font-weight:bold;\">SOME BY MI AHA BHA PHA 30 Days Miracle Toner 150ml</span></a></strong>\n",
       "<ul class=\"xans-element- xans-product xans-product-listitem spec\"><li class=\"xans-record-\">\n",
       "<strong class=\"title displaynone\"><span style=\"font-size:16px;color:#888888;\">Price</span></strong> <span style=\"font-size:16px;color:#888888;text-decoration:line-through;\">USD 24.00</span><span id=\"span_product_tax_type_text\" style=\"text-decoration:line-through;\"> </span></li>\n",
       "<li class=\"xans-record-\">\n",
       "<strong class=\"title\"><span style=\"font-size:20px;color:#ff2d46;font-weight:bold;\"></span></strong> <span style=\"font-size:20px;color:#ff2d46;font-weight:bold;\">USD 17.99</span></li>\n",
       "</ul>\n",
       "<div class=\"icon\">\n",
       "<div class=\"promotion\"> </div>\n",
       "<div class=\"button\">\n",
       "<div class=\"option\"></div><img alt=\"View larger image\" onclick=\"zoom('16241', '1019', '1','', '');\" src=\"//img.echosting.cafe24.com/design/skin/admin/en_US/btn_prd_zoom.gif\" style=\"cursor:pointer\"/></div>\n",
       "</div>\n",
       "</div>"
      ]
     },
     "execution_count": 70,
     "metadata": {},
     "output_type": "execute_result"
    }
   ],
   "source": [
    "# 제품들에 대한 Selector : div ✅\n",
    "len(uls[0].findAll('div', {'class':'description'}))\n",
    "\n",
    "# => 정확히 20개가 나옴. 이 Selector로 변수로 저장해 사용\n",
    "boxes = uls[0].findAll('div', {'class':'description'})\n",
    "boxes[0]"
   ]
  },
  {
   "cell_type": "code",
   "execution_count": 71,
   "id": "fdbb28b4-cddc-4740-b509-d6baa3370929",
   "metadata": {},
   "outputs": [
    {
     "name": "stdout",
     "output_type": "stream",
     "text": [
      "a 태그 확인:  Product Name : SOME BY MI AHA BHA PHA 30 Days Miracle Toner 150ml\n",
      "제품명만 추출:   SOME BY MI AHA BHA PHA 30 Days Miracle Toner 150ml\n"
     ]
    }
   ],
   "source": [
    "# 제품명\n",
    "print('a 태그 확인: ', boxes[0].a.text)\n",
    "print('제품명만 추출: ', boxes[0].a.text.split(':')[1])"
   ]
  },
  {
   "cell_type": "code",
   "execution_count": 72,
   "id": "5f46ebf5-b4a3-4ba0-9cda-8d7841d75cbc",
   "metadata": {},
   "outputs": [
    {
     "name": "stdout",
     "output_type": "stream",
     "text": [
      "li 태그 확인:  [<li class=\"xans-record-\">\n",
      "<strong class=\"title displaynone\"><span style=\"font-size:16px;color:#888888;\">Price</span></strong> <span style=\"font-size:16px;color:#888888;text-decoration:line-through;\">USD 24.00</span><span id=\"span_product_tax_type_text\" style=\"text-decoration:line-through;\"> </span></li>, <li class=\"xans-record-\">\n",
      "<strong class=\"title\"><span style=\"font-size:20px;color:#ff2d46;font-weight:bold;\"></span></strong> <span style=\"font-size:20px;color:#ff2d46;font-weight:bold;\">USD 17.99</span></li>]\n",
      "가격 text 형태 확인:  \n",
      "Price USD 24.00 \n",
      "가격 및 세일가격:  24.00 17.99\n"
     ]
    }
   ],
   "source": [
    "# 가격 / 세일가격\n",
    "\n",
    "## 1번째 li는 '원래 가격', 2번째 li는 '세일 가격 임을 확인\n",
    "print('li 태그 확인: ', boxes[0].ul.select('li'))\n",
    "\n",
    "## 가격 text 형태 확인\n",
    "print('가격 text 형태 확인: ', boxes[0].ul.select('li')[0].text)\n",
    "\n",
    "## 숫자만 추출하도록 가공\n",
    "org_price = boxes[0].ul.select('li')[0].text.split(' ')[2]\n",
    "sale_price = boxes[0].ul.select('li')[1].text.split(' ')[2]\n",
    "print('가격 및 세일가격: ', org_price, sale_price)\n",
    "\n",
    "## 세일하지 않는 제품이 있을 수 있으므로 sale_price는 try~except 적용해야 함 "
   ]
  },
  {
   "cell_type": "code",
   "execution_count": 73,
   "id": "dc3eb04f-9c5b-474e-a482-10e12514bdcb",
   "metadata": {},
   "outputs": [],
   "source": [
    "# 첫번째 페이지 제품 data \n",
    "\n",
    "## 제품 정보를 담을 빈 list 생성\n",
    "product = []\n",
    "org_price = []\n",
    "sale_price = []\n",
    "\n",
    "## 반복문 활용하여 첫번째 페이지의 모든 제품 정보를 수집\n",
    "for box in boxes:\n",
    "    product.append(box.a.text.split(':')[1])\n",
    "    org_price.append(box.ul.select('li')[0].text.split(' ')[2])\n",
    "    try:\n",
    "        sale_price.append(box.ul.select('li')[1].text.split(' ')[2])\n",
    "    except:\n",
    "        sale_price.append(org_price)"
   ]
  },
  {
   "cell_type": "code",
   "execution_count": 74,
   "id": "8ab02920-5f38-4134-8793-0a230382d756",
   "metadata": {},
   "outputs": [
    {
     "data": {
      "text/html": [
       "<div>\n",
       "<style scoped>\n",
       "    .dataframe tbody tr th:only-of-type {\n",
       "        vertical-align: middle;\n",
       "    }\n",
       "\n",
       "    .dataframe tbody tr th {\n",
       "        vertical-align: top;\n",
       "    }\n",
       "\n",
       "    .dataframe thead th {\n",
       "        text-align: right;\n",
       "    }\n",
       "</style>\n",
       "<table border=\"1\" class=\"dataframe\">\n",
       "  <thead>\n",
       "    <tr style=\"text-align: right;\">\n",
       "      <th></th>\n",
       "      <th>제품명</th>\n",
       "      <th>가격</th>\n",
       "      <th>세일가격</th>\n",
       "    </tr>\n",
       "  </thead>\n",
       "  <tbody>\n",
       "    <tr>\n",
       "      <th>0</th>\n",
       "      <td>SOME BY MI AHA BHA PHA 30 Days Miracle Toner ...</td>\n",
       "      <td>24.00</td>\n",
       "      <td>17.99</td>\n",
       "    </tr>\n",
       "    <tr>\n",
       "      <th>1</th>\n",
       "      <td>COSRX AHA/BHA CLARIFYING TREATMENT TONER 150ml</td>\n",
       "      <td>17.25</td>\n",
       "      <td>11.99</td>\n",
       "    </tr>\n",
       "    <tr>\n",
       "      <th>2</th>\n",
       "      <td>COSRX BHA BLACKHEAD POWER LIQUID 100 ML</td>\n",
       "      <td>20.81</td>\n",
       "      <td>14.49</td>\n",
       "    </tr>\n",
       "    <tr>\n",
       "      <th>3</th>\n",
       "      <td>Pyunkang Yul Essence Toner 200ml</td>\n",
       "      <td>21.90</td>\n",
       "      <td>13.49</td>\n",
       "    </tr>\n",
       "    <tr>\n",
       "      <th>4</th>\n",
       "      <td>ROUND LAB 1025 Dokdo Toner 200ml</td>\n",
       "      <td>17.00</td>\n",
       "      <td>13.60</td>\n",
       "    </tr>\n",
       "    <tr>\n",
       "      <th>5</th>\n",
       "      <td>Beauty of Joseon Ginseng Essence Water 150ml</td>\n",
       "      <td>24.55</td>\n",
       "      <td>19.64</td>\n",
       "    </tr>\n",
       "    <tr>\n",
       "      <th>6</th>\n",
       "      <td>COSRX Full Fit Propolis Synergy Toner 150ml</td>\n",
       "      <td>28.00</td>\n",
       "      <td>12.89</td>\n",
       "    </tr>\n",
       "    <tr>\n",
       "      <th>7</th>\n",
       "      <td>Isntree Green tea Fresh Toner 200ml</td>\n",
       "      <td>19.90</td>\n",
       "      <td>15.92</td>\n",
       "    </tr>\n",
       "    <tr>\n",
       "      <th>8</th>\n",
       "      <td>Isntree Hyaluronic Acid Toner 200ml (Renewal)</td>\n",
       "      <td>19.30</td>\n",
       "      <td>14.24</td>\n",
       "    </tr>\n",
       "    <tr>\n",
       "      <th>9</th>\n",
       "      <td>Anua Heartleaf 77% Soothing Toner 250ml</td>\n",
       "      <td>28.00</td>\n",
       "      <td>17.29</td>\n",
       "    </tr>\n",
       "    <tr>\n",
       "      <th>10</th>\n",
       "      <td>Haruharu WONDER Black Rice Hyaluronic Toner 1...</td>\n",
       "      <td>22.00</td>\n",
       "      <td>15.40</td>\n",
       "    </tr>\n",
       "    <tr>\n",
       "      <th>11</th>\n",
       "      <td>COSRX AHA 7 WHITEHEAD POWER LIQUID 100ml</td>\n",
       "      <td>17.81</td>\n",
       "      <td>12.79</td>\n",
       "    </tr>\n",
       "    <tr>\n",
       "      <th>12</th>\n",
       "      <td>SOME BY MI AHA BHA PHA 30 Days Miracle Starte...</td>\n",
       "      <td>28.00</td>\n",
       "      <td>19.60</td>\n",
       "    </tr>\n",
       "    <tr>\n",
       "      <th>13</th>\n",
       "      <td>COSRX CENTELLA WATER ALCOHOL FREE TONER 150ml</td>\n",
       "      <td>17.25</td>\n",
       "      <td>11.99</td>\n",
       "    </tr>\n",
       "    <tr>\n",
       "      <th>14</th>\n",
       "      <td>secretKey Fresh Toner 248ml</td>\n",
       "      <td>16.00</td>\n",
       "      <td>12.99</td>\n",
       "    </tr>\n",
       "    <tr>\n",
       "      <th>15</th>\n",
       "      <td>Isntree Hyaluronic Acid Toner Plus 200ml</td>\n",
       "      <td>24.10</td>\n",
       "      <td>13.32</td>\n",
       "    </tr>\n",
       "    <tr>\n",
       "      <th>16</th>\n",
       "      <td>COSRX Refresh AHA/BHA Vitamin C Daily Toner 1...</td>\n",
       "      <td>28.00</td>\n",
       "      <td>12.99</td>\n",
       "    </tr>\n",
       "    <tr>\n",
       "      <th>17</th>\n",
       "      <td>Elizavecca Hell-Pore Clean up AHA Fruit Toner...</td>\n",
       "      <td>14.00</td>\n",
       "      <td>9.99</td>\n",
       "    </tr>\n",
       "    <tr>\n",
       "      <th>18</th>\n",
       "      <td>COSRX Two In One Poreless Power Liquid 100ml</td>\n",
       "      <td>22.00</td>\n",
       "      <td>14.39</td>\n",
       "    </tr>\n",
       "    <tr>\n",
       "      <th>19</th>\n",
       "      <td>SOME BY MI Galactomyces Pure Vitamin C Glow T...</td>\n",
       "      <td>34.00</td>\n",
       "      <td>25.50</td>\n",
       "    </tr>\n",
       "  </tbody>\n",
       "</table>\n",
       "</div>"
      ],
      "text/plain": [
       "                                                  제품명     가격   세일가격\n",
       "0    SOME BY MI AHA BHA PHA 30 Days Miracle Toner ...  24.00  17.99\n",
       "1      COSRX AHA/BHA CLARIFYING TREATMENT TONER 150ml  17.25  11.99\n",
       "2             COSRX BHA BLACKHEAD POWER LIQUID 100 ML  20.81  14.49\n",
       "3                    Pyunkang Yul Essence Toner 200ml  21.90  13.49\n",
       "4                    ROUND LAB 1025 Dokdo Toner 200ml  17.00  13.60\n",
       "5        Beauty of Joseon Ginseng Essence Water 150ml  24.55  19.64\n",
       "6         COSRX Full Fit Propolis Synergy Toner 150ml  28.00  12.89\n",
       "7                 Isntree Green tea Fresh Toner 200ml  19.90  15.92\n",
       "8       Isntree Hyaluronic Acid Toner 200ml (Renewal)  19.30  14.24\n",
       "9             Anua Heartleaf 77% Soothing Toner 250ml  28.00  17.29\n",
       "10   Haruharu WONDER Black Rice Hyaluronic Toner 1...  22.00  15.40\n",
       "11           COSRX AHA 7 WHITEHEAD POWER LIQUID 100ml  17.81  12.79\n",
       "12   SOME BY MI AHA BHA PHA 30 Days Miracle Starte...  28.00  19.60\n",
       "13      COSRX CENTELLA WATER ALCOHOL FREE TONER 150ml  17.25  11.99\n",
       "14                        secretKey Fresh Toner 248ml  16.00  12.99\n",
       "15           Isntree Hyaluronic Acid Toner Plus 200ml  24.10  13.32\n",
       "16   COSRX Refresh AHA/BHA Vitamin C Daily Toner 1...  28.00  12.99\n",
       "17   Elizavecca Hell-Pore Clean up AHA Fruit Toner...  14.00   9.99\n",
       "18       COSRX Two In One Poreless Power Liquid 100ml  22.00  14.39\n",
       "19   SOME BY MI Galactomyces Pure Vitamin C Glow T...  34.00  25.50"
      ]
     },
     "execution_count": 74,
     "metadata": {},
     "output_type": "execute_result"
    }
   ],
   "source": [
    "pd.DataFrame({'제품명':product, '가격':org_price, '세일가격':sale_price})"
   ]
  },
  {
   "cell_type": "markdown",
   "id": "7af96024-3c8c-43e8-9f06-924a4d0d6f7b",
   "metadata": {},
   "source": [
    "### **🔸 모든 페이지에 적용 할 함수 생성**"
   ]
  },
  {
   "cell_type": "markdown",
   "id": "92de4e5a-d0b5-4e26-a0b5-003fd92e40dc",
   "metadata": {},
   "source": [
    "#### **함수를 기능별로 세분화**\n",
    "1. 서버에 요청 후 응답된 data를 파싱객체로 생성 후 반환하는 함수\n",
    "   - `get_request_product(url)`\n",
    "   - bs4 객체 반환\n",
    "2. 페이지의 전체 제품 정보를 추출\n",
    "   - `get_page_product(bs4객체)`\n",
    "   - bs4객체를 전달 받아서 전체제품정보 추출\n",
    "   - 추출된 전체제품에서 제품 1개씩 `get_product_info(box)`를 호출\n",
    "   - 1개 제품을 df로 생성 후 전역 변수 (df_fin)에 추가\n",
    "3. 각 제품의 정보 추출\n",
    "   - `get_product_info(box)`\n",
    "   - 1개의 제품에 대해 제품명/가격/세일가격을 추출해서 반환"
   ]
  },
  {
   "cell_type": "code",
   "execution_count": 75,
   "id": "74234589-f215-4060-ba66-3022ae306a45",
   "metadata": {},
   "outputs": [
    {
     "data": {
      "text/html": [
       "<div>\n",
       "<style scoped>\n",
       "    .dataframe tbody tr th:only-of-type {\n",
       "        vertical-align: middle;\n",
       "    }\n",
       "\n",
       "    .dataframe tbody tr th {\n",
       "        vertical-align: top;\n",
       "    }\n",
       "\n",
       "    .dataframe thead th {\n",
       "        text-align: right;\n",
       "    }\n",
       "</style>\n",
       "<table border=\"1\" class=\"dataframe\">\n",
       "  <thead>\n",
       "    <tr style=\"text-align: right;\">\n",
       "      <th></th>\n",
       "      <th>품목</th>\n",
       "      <th>가격</th>\n",
       "      <th>세일가격</th>\n",
       "    </tr>\n",
       "  </thead>\n",
       "  <tbody>\n",
       "  </tbody>\n",
       "</table>\n",
       "</div>"
      ],
      "text/plain": [
       "Empty DataFrame\n",
       "Columns: [품목, 가격, 세일가격]\n",
       "Index: []"
      ]
     },
     "execution_count": 75,
     "metadata": {},
     "output_type": "execute_result"
    }
   ],
   "source": [
    "# 전역으로 사용할 빈 df 생성\n",
    "prd_dict = {'품목':[], '가격':[], '세일가격':[]}\n",
    "df_fin = pd.DataFrame(prd_dict)\n",
    "df_fin"
   ]
  },
  {
   "cell_type": "code",
   "execution_count": 76,
   "id": "ad5b20c7-e7ee-41fa-87ce-1b200589b29e",
   "metadata": {},
   "outputs": [],
   "source": [
    "# 1번 함수 생성\n",
    "def get_request_product(url) :\n",
    "    # context 객체 생성\n",
    "    context = ssl._create_unverified_context()\n",
    "    # urlopen() 요청\n",
    "    htmls = urlopen(url, context=context)\n",
    "    html = htmls.read()\n",
    "    # bs4 객체 bs_obj 생성\n",
    "    bs_obj = bs4.BeautifulSoup(html, 'html.parser')\n",
    "    return bs_obj"
   ]
  },
  {
   "cell_type": "code",
   "execution_count": 77,
   "id": "7e3f9fd3-89e4-428e-9270-17eca4a886ec",
   "metadata": {},
   "outputs": [],
   "source": [
    "# 2번 함수 : df에 data 추가\n",
    "def get_page_product(url) :\n",
    "    global df_fin # 전역변수(함수 내외부에서 모두 사용 가능)\n",
    "    bs_obj = get_request_product(url)\n",
    "    # 특정 페이지의 전체제품정보 추출\n",
    "    uls = bs_obj.find('ul',{'class':'prdList'})\n",
    "    boxes = uls.findAll('div',{'class':'description'})\n",
    "    # 1개의 제품 정보 추출\n",
    "    for box in boxes :\n",
    "        res = pd.DataFrame(get_product_info(box),index=range(1,2)) # 1개의 제품 정보에 대하여 df 생성\n",
    "        df_fin = pd.concat([df_fin,res], axis=0, ignore_index=True)"
   ]
  },
  {
   "cell_type": "code",
   "execution_count": 78,
   "id": "eab7b60c-9010-4064-9305-20946cd4b3c4",
   "metadata": {},
   "outputs": [],
   "source": [
    "# 3번 함수 : 1개 제품의 정보 추출\n",
    "def get_product_info(box) :\n",
    "    product=box.a.text.split(':')[1]\n",
    "    ori_price=box.ul.select('li')[0].text.split(' ')[2]\n",
    "    try : \n",
    "        sale_price=box.ul.select('li')[1].text.split(' ')[2]\n",
    "    except : \n",
    "        sale_price=ori_price\n",
    "    # 호출한 곳에서 반환 data 활용 df 생성\n",
    "    return {'품목':product, '가격':ori_price, '세일가격':sale_price}"
   ]
  },
  {
   "cell_type": "markdown",
   "id": "457ea0ab-7ca3-43fa-aa5c-8e7c21ff67d7",
   "metadata": {},
   "source": [
    "#### **모든 페이지 추출**\n",
    "- 해당 쇼핑몰의 Url 분석\n",
    "- 각 페이지에 대하여 파라미터 page=x\n",
    "- 기본 url + 페이지 파라미터"
   ]
  },
  {
   "cell_type": "code",
   "execution_count": 79,
   "id": "8bcaab68-65b4-4960-aa56-d57b3f11f424",
   "metadata": {},
   "outputs": [
    {
     "name": "stdout",
     "output_type": "stream",
     "text": [
      "21 <class 'int'>\n"
     ]
    }
   ],
   "source": [
    "# 마지막 페이지의 페이지 번호\n",
    "page = bs_obj.select('#contents > div.xans-element-.xans-product.xans-product-normalpaging.ec-base-paginate')\n",
    "tmp = page[0].find('a', {'class':'last'})['href']\n",
    "end = int(tmp.split('=')[1])\n",
    "print(end, type(end))"
   ]
  },
  {
   "cell_type": "code",
   "execution_count": 80,
   "id": "4c59c28d-c5fc-4a49-838e-8e9af651d32d",
   "metadata": {},
   "outputs": [],
   "source": [
    "base_url = 'https://jolse.com/category/toners-mists/1019/?page='\n",
    "for i in range(1,end+1) :\n",
    "    url=base_url + str(i)\n",
    "    get_page_product(url)"
   ]
  },
  {
   "cell_type": "code",
   "execution_count": 81,
   "id": "d40304e1-148c-4069-95f8-134608aebe2f",
   "metadata": {},
   "outputs": [
    {
     "data": {
      "text/html": [
       "<div>\n",
       "<style scoped>\n",
       "    .dataframe tbody tr th:only-of-type {\n",
       "        vertical-align: middle;\n",
       "    }\n",
       "\n",
       "    .dataframe tbody tr th {\n",
       "        vertical-align: top;\n",
       "    }\n",
       "\n",
       "    .dataframe thead th {\n",
       "        text-align: right;\n",
       "    }\n",
       "</style>\n",
       "<table border=\"1\" class=\"dataframe\">\n",
       "  <thead>\n",
       "    <tr style=\"text-align: right;\">\n",
       "      <th></th>\n",
       "      <th>품목</th>\n",
       "      <th>가격</th>\n",
       "      <th>세일가격</th>\n",
       "    </tr>\n",
       "  </thead>\n",
       "  <tbody>\n",
       "    <tr>\n",
       "      <th>412</th>\n",
       "      <td>Grafen CALMING GREEN SKIN 180ml</td>\n",
       "      <td>26.00</td>\n",
       "      <td>14.30</td>\n",
       "    </tr>\n",
       "    <tr>\n",
       "      <th>413</th>\n",
       "      <td>HOLIKA HOLIKA Premier Collagen Toner 125ml</td>\n",
       "      <td>32.16</td>\n",
       "      <td>27.34</td>\n",
       "    </tr>\n",
       "    <tr>\n",
       "      <th>414</th>\n",
       "      <td>SELENUS Artemisia Calming Us Toner 155ml</td>\n",
       "      <td>19.00</td>\n",
       "      <td>16.15</td>\n",
       "    </tr>\n",
       "    <tr>\n",
       "      <th>415</th>\n",
       "      <td>Dr.oracle TerpinaC Toner 200ml</td>\n",
       "      <td>21.80</td>\n",
       "      <td>18.53</td>\n",
       "    </tr>\n",
       "    <tr>\n",
       "      <th>416</th>\n",
       "      <td>preange Angelica Toner Quick Calming Pad 5ea</td>\n",
       "      <td>12.00</td>\n",
       "      <td>10.20</td>\n",
       "    </tr>\n",
       "  </tbody>\n",
       "</table>\n",
       "</div>"
      ],
      "text/plain": [
       "                                                품목     가격   세일가격\n",
       "412                Grafen CALMING GREEN SKIN 180ml  26.00  14.30\n",
       "413     HOLIKA HOLIKA Premier Collagen Toner 125ml  32.16  27.34\n",
       "414       SELENUS Artemisia Calming Us Toner 155ml  19.00  16.15\n",
       "415                 Dr.oracle TerpinaC Toner 200ml  21.80  18.53\n",
       "416   preange Angelica Toner Quick Calming Pad 5ea  12.00  10.20"
      ]
     },
     "execution_count": 81,
     "metadata": {},
     "output_type": "execute_result"
    }
   ],
   "source": [
    "df_fin.tail()"
   ]
  },
  {
   "cell_type": "code",
   "execution_count": 82,
   "id": "4e5c3e95-8c8b-44c6-91ad-a2a1d7c68c87",
   "metadata": {},
   "outputs": [],
   "source": [
    "df_fin.to_csv('./crawl_data/shop_jolse_products.csv')"
   ]
  }
 ],
 "metadata": {
  "kernelspec": {
   "display_name": "Python 3 (ipykernel)",
   "language": "python",
   "name": "python3"
  },
  "language_info": {
   "codemirror_mode": {
    "name": "ipython",
    "version": 3
   },
   "file_extension": ".py",
   "mimetype": "text/x-python",
   "name": "python",
   "nbconvert_exporter": "python",
   "pygments_lexer": "ipython3",
   "version": "3.10.10"
  }
 },
 "nbformat": 4,
 "nbformat_minor": 5
}
