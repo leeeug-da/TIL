{
 "cells": [
  {
   "cell_type": "markdown",
   "id": "d140b8bd-734a-4a21-88b1-4d4b46114ab4",
   "metadata": {},
   "source": [
    "# **Selenium**"
   ]
  },
  {
   "cell_type": "markdown",
   "id": "5dc19137-7092-4aad-a4c1-f9c54651068f",
   "metadata": {
    "jp-MarkdownHeadingCollapsed": true
   },
   "source": [
    "## **✅ What is Selenium?**"
   ]
  },
  {
   "cell_type": "markdown",
   "id": "ebf0da86-f3e6-4735-b3c8-5613c8674a6e",
   "metadata": {},
   "source": [
    "**Selenium**\n",
    "- Webdriver라는 API를 통해 운영체제에 설치된 웹 브라우저를 제어하는 함수를 포함한 패키지\n",
    "\n",
    "**Webdriver**\n",
    "- Webdriver는 브라우저 종류에 따라 브라우저 제작 업체에서 제공\n",
    "- 브라우저 종류와 버전별로 Webdriver가 다르게 제공됨\n",
    "    - selenium 4.10 이전 버전에서는 driver를 직접 다운받아서 실행했어야 함\n",
    "    - selenium 4.10부터는 따로 driver 다운 없이 Webdriver 객체변수 생성하여 진행 가능\n",
    "    > service = Service()\n",
    "    > \n",
    "    > options = webdriver.ChromeOptions()\n",
    "    > \n",
    "    > driver = webdriver.Chrome(service=service, options=options)"
   ]
  },
  {
   "cell_type": "markdown",
   "id": "ea533f28-ca1b-4904-894d-80d4d339ce28",
   "metadata": {
    "jp-MarkdownHeadingCollapsed": true
   },
   "source": [
    "## **⚙️ Selenium 설치**"
   ]
  },
  {
   "cell_type": "code",
   "execution_count": 1,
   "id": "a04af3b4-645f-4764-a183-5b97f481b652",
   "metadata": {},
   "outputs": [],
   "source": [
    "# !pip install selenium"
   ]
  },
  {
   "cell_type": "markdown",
   "id": "336d70ce-77b4-425c-985a-ebc1056ec860",
   "metadata": {
    "jp-MarkdownHeadingCollapsed": true
   },
   "source": [
    "## **🗂️ Selenium 패키지**"
   ]
  },
  {
   "cell_type": "code",
   "execution_count": 3,
   "id": "b5298445-171b-479f-9fe8-f4cb1dfd2c07",
   "metadata": {},
   "outputs": [],
   "source": [
    "import selenium\n",
    "from selenium import webdriver\n",
    "from selenium.webdriver.common.by import By # 셀레니움 4.0부터 포함된 함수(필수)\n",
    "from selenium.webdriver.chrome.service import Service\n",
    "from bs4 import BeautifulSoup\n",
    "import pandas as pd\n",
    "import numpy as np"
   ]
  },
  {
   "cell_type": "markdown",
   "id": "051037a4-14af-47ed-a71b-c2af1359ac5d",
   "metadata": {
    "jp-MarkdownHeadingCollapsed": true
   },
   "source": [
    "## **🤓 Webdriver 객체변수 생성 함수**\n",
    "- 동일한 과정이므로 함수로 사용하면 편함 :)"
   ]
  },
  {
   "cell_type": "code",
   "execution_count": 7,
   "id": "06bf7ebe-ded2-4c9b-b7c2-b9dd071f9fd7",
   "metadata": {},
   "outputs": [],
   "source": [
    "####### 원래 Procedures #######\n",
    "# 1. 서비스 객체 생성\n",
    "# service = Service()\n",
    "\n",
    "# 2. Option 객체 생성 (브라우저에 해당되는 option을 생성해주어야 함; 나는 Chrome 사용)\n",
    "# options = webdriver.ChromeOptions()\n",
    "\n",
    "# 3. Driver 객체 생성 (브라우저에 해당되는 driver 모듈을 사용해주어야 함; 나는 Chrome 사용)\n",
    "# driver = webdriver.Chrome(service=service, options=options)"
   ]
  },
  {
   "cell_type": "code",
   "execution_count": 8,
   "id": "48dfbe37-4ed9-4291-b720-2185c47ad71a",
   "metadata": {},
   "outputs": [],
   "source": [
    "####### 크롬 웹드라이버 생성 함수 #######\n",
    "def create_driver():\n",
    "    service = Service()\n",
    "    options = webdriver.ChromeOptions()\n",
    "    driver = webdriver.Chrome(service=service, options=options)\n",
    "    return driver"
   ]
  },
  {
   "cell_type": "markdown",
   "id": "15ce5b48-35eb-4ad3-9be9-580180a66317",
   "metadata": {},
   "source": [
    "## **🏗️ 2가지 파싱 방법 (Bs4 or Selenium Method)**"
   ]
  },
  {
   "cell_type": "markdown",
   "id": "8efebef4-2061-4081-8fbe-bc1c3578412a",
   "metadata": {
    "jp-MarkdownHeadingCollapsed": true
   },
   "source": [
    "### **1️⃣ Html 소스 활용하여 Bs4 객체로 파싱**\n",
    "- driver를 통해서 브라우저의 html 소스를 가져오기 (driver.page_source 속성 이용)  \n",
    "- 전달되는 page_source는 javascript가 실행되고 이미지 등의 자원도 모두 마무리된 소스임"
   ]
  },
  {
   "cell_type": "code",
   "execution_count": 6,
   "id": "7182dc21-0f98-4bfc-88c5-ef747c9c9bbc",
   "metadata": {},
   "outputs": [],
   "source": [
    "# Driver 객체 생성\n",
    "## driver = create_driver()\n",
    "\n",
    "# URL 접근\n",
    "## url = 'https://comic.naver.com/genre/bestChallenge.nhn'\n",
    "## driver.get(url)\n",
    "\n",
    "# html 소스 가져오기\n",
    "## html = driver.page_source\n",
    "\n",
    "# bs4 객체 생성\n",
    "## soup = bs4.BeautifulSoup(html, 'html.parser')\n",
    "\n",
    "# bs4 파싱 하던대로 진행\n",
    "## 예) soup.find(id='content')"
   ]
  },
  {
   "cell_type": "markdown",
   "id": "258b62eb-98f4-4369-b9a8-5593e5bc7c1e",
   "metadata": {
    "jp-MarkdownHeadingCollapsed": true
   },
   "source": [
    "### **2️⃣ Selenium 드라이버 함수 활용하여 파싱**"
   ]
  },
  {
   "cell_type": "markdown",
   "id": "d948209e-9c16-4438-b30c-aba2d273d18e",
   "metadata": {
    "jp-MarkdownHeadingCollapsed": true
   },
   "source": [
    "#### **⬇️ Procedures**"
   ]
  },
  {
   "cell_type": "code",
   "execution_count": 5,
   "id": "fb338fdf-a5e7-4490-9b68-b0c05dc04bc8",
   "metadata": {},
   "outputs": [],
   "source": [
    "# Driver 객체 생성\n",
    "## driver = create_driver()\n",
    "\n",
    "# URL 접근\n",
    "## url = 'https://comic.naver.com/genre/bestChallenge.nhn'\n",
    "## driver.get(url)\n",
    "\n",
    "# Selector 선택\n",
    "## sel = '#content > div:nth-child(2) > ul > li > div'\n",
    "\n",
    "# Webelement 객체 생성\n",
    "## elem = driver.find_elements(By.CSS_SELECTOR, sel)"
   ]
  },
  {
   "cell_type": "markdown",
   "id": "8d1e3edc-5a52-495e-ad36-cc62a5f00a9b",
   "metadata": {
    "jp-MarkdownHeadingCollapsed": true
   },
   "source": [
    "#### **⚙️ Methods**"
   ]
  },
  {
   "cell_type": "markdown",
   "id": "2130ad5d-d85d-4986-be50-443249c20e60",
   "metadata": {},
   "source": [
    "##### **⚙️ WebDriver 객체**\n",
    "\n",
    "<br>\n",
    "\n",
    "**[findElement]**\n",
    "- findElement(By) : 코드에서 조건에 맞는 태그 중 처음 나오는 태그(find)\n",
    "- findElements(By) : 코드에서 조건에 맞는 모든 태그(findAll)\n",
    "\n",
    "**[By]**\n",
    "- driver.find_element(By.CLASS_NAME, \"information\")\n",
    "- driver.find_element(By.CSS_SELECTOR, \"#fname\")\n",
    "- driver.find_element(By.ID, \"lname\")\n",
    "- driver.find_element(By.NAME, \"newsletter\")\n",
    "- driver.find_element(By.LINK_TEXT, \"Selenium Official Page\")\n",
    "- driver.find_element(By.PARTIAL_LINK_TEXT, \"Official Page\")\n",
    "- driver.find_element(By.TAG_NAME, \"a\")\n",
    "- driver.find_element(By.XPATH, \"//input[@value='f']\")\n",
    "    \n",
    "**[Webdriver 통해 script 코드 직접 실행]**\n",
    "- driver.execute_script()"
   ]
  },
  {
   "cell_type": "markdown",
   "id": "03295b04-774d-45e2-b487-aab9b04fe537",
   "metadata": {},
   "source": [
    "##### **⚙️ WebElement 객체**\n",
    "\n",
    "<br>\n",
    "\n",
    "**[content 추출 기능]**\n",
    "- element.text : 내부 text\n",
    "- element.get_attribute('innerHTML') : 내부 html\n",
    "- element.get_attribute('innerText') : 내부 text\n",
    "- element.get_attribute('href') : 내부 href\n",
    "\n",
    "**[객체 Handling 기능]**\n",
    "- element.click()\n",
    "- element.clear()\n",
    "- element.send_keys('값 입력') : 값은 현재 커서가 있는 곳으로 전달 됨 (커서에 따라 누적해서 전달된다는 의미) "
   ]
  },
  {
   "cell_type": "markdown",
   "id": "f2efbfbb-ca84-4a68-aee5-8782331f7cd9",
   "metadata": {
    "jp-MarkdownHeadingCollapsed": true
   },
   "source": [
    "## **❤️‍🔥 Overall Selenium Process**"
   ]
  },
  {
   "cell_type": "code",
   "execution_count": 37,
   "id": "7c5003eb-ada9-416c-97c9-bf1f7ad8f749",
   "metadata": {},
   "outputs": [],
   "source": [
    "# 패키지 임포트\n",
    "import selenium\n",
    "from selenium import webdriver\n",
    "from selenium.webdriver.common.by import By # 셀레니움 4.0부터 포함된 함수(필수)\n",
    "from selenium.webdriver.chrome.service import Service\n",
    "from bs4 import BeautifulSoup\n",
    "import pandas as pd\n",
    "import numpy as np"
   ]
  },
  {
   "cell_type": "code",
   "execution_count": 5,
   "id": "435963b0-21bf-4034-88bf-37f07adc0a04",
   "metadata": {},
   "outputs": [],
   "source": [
    "# 크롬 웹드라이버 생성 함수\n",
    "def create_driver():\n",
    "    service = Service()\n",
    "    options = webdriver.ChromeOptions()\n",
    "    driver = webdriver.Chrome(service=service, options=options)\n",
    "    return driver"
   ]
  },
  {
   "cell_type": "code",
   "execution_count": null,
   "id": "0e6d38de-7154-459c-91eb-3338958472f2",
   "metadata": {},
   "outputs": [],
   "source": [
    "# 1. Driver 객체 생성\n",
    "# driver = create_driver()"
   ]
  },
  {
   "cell_type": "code",
   "execution_count": null,
   "id": "1ff743a1-464e-489c-9f78-90d007859573",
   "metadata": {},
   "outputs": [],
   "source": [
    "# 2. URL 접근\n",
    "# url = 'https://map.naver.com'\n",
    "# driver.get(url)"
   ]
  },
  {
   "cell_type": "code",
   "execution_count": null,
   "id": "58f2bac2-066e-4128-a0f7-6f2fb2e67c0c",
   "metadata": {},
   "outputs": [],
   "source": [
    "# 3. Actions\n",
    "\n",
    "# Selector 선택\n",
    "# sel = '#content > div:nth-child(2) > ul > li > div'\n",
    "\n",
    "# Webelement 객체 생성\n",
    "# elem = driver.find_elements(By.CSS_SELECTOR, sel)\n",
    "\n",
    "# 출력\n",
    "# elem[0].get_attribute('innerHTML')\n",
    "# elem[0].get_attribute('innerText')"
   ]
  },
  {
   "cell_type": "code",
   "execution_count": null,
   "id": "43e7681f-1651-41fc-ad08-655e3638e4e2",
   "metadata": {},
   "outputs": [],
   "source": [
    "# 4. 드라이버 종료 (드라이버 계속 켜두면 자원낭비 심함) \n",
    "# driver.close()"
   ]
  },
  {
   "cell_type": "code",
   "execution_count": 59,
   "id": "2d5cb0c9-1af0-4f28-a4dd-b222fe8a8419",
   "metadata": {},
   "outputs": [],
   "source": [
    "# Driver 객체 생성\n",
    "driver = create_driver()"
   ]
  },
  {
   "cell_type": "code",
   "execution_count": 60,
   "id": "c4bd2e41-ec93-4241-80db-02948f6b66a0",
   "metadata": {},
   "outputs": [],
   "source": [
    "# URL 접근\n",
    "url = 'https://nid.naver.com/nidlogin.login?mode=form&url=https://www.naver.com/'\n",
    "driver.get(url) # session 1개 생성 : 네이버사이트"
   ]
  },
  {
   "cell_type": "code",
   "execution_count": 68,
   "id": "c9440bc3-9ee4-4af6-ac28-72e949ac26b3",
   "metadata": {},
   "outputs": [],
   "source": [
    "# ID/PW 변수 생성\n",
    "id_input = 'makino430'\n",
    "pw_input = '비밀번호'"
   ]
  },
  {
   "cell_type": "code",
   "execution_count": 69,
   "id": "5fc6bab0-07a7-431d-824b-12e5ce35a808",
   "metadata": {},
   "outputs": [],
   "source": [
    "# ID/PW 입력하는 input 태그에 값을 설정하는 javascript 코드 생성\n",
    "id_script = \"document.getElementsByName('id')[0].value='\"+id_input+\"'\"\n",
    "pw_script = \"document.getElementsByName('pw')[0].value='\"+pw_input+\"'\""
   ]
  },
  {
   "cell_type": "code",
   "execution_count": 74,
   "id": "81525bc4-92e2-46d0-9305-98932269ed77",
   "metadata": {},
   "outputs": [],
   "source": [
    "# javascript 코드를 통해서 값을 전달하기\n",
    "driver.execute_script(id_script)\n",
    "driver.execute_script(pw_script)"
   ]
  },
  {
   "cell_type": "code",
   "execution_count": 75,
   "id": "21c15d54-a1b8-472b-b945-9f32b6cab030",
   "metadata": {},
   "outputs": [],
   "source": [
    "# 로그인 버튼 클릭하기 \n",
    "xpath = '//*[@id=\"log.login\"]'\n",
    "login_btn = driver.find_element(By.XPATH, xpath)\n",
    "login_btn.click()"
   ]
  },
  {
   "cell_type": "code",
   "execution_count": 76,
   "id": "fffdf678-b463-497a-84eb-5ce7339c1890",
   "metadata": {},
   "outputs": [],
   "source": [
    "# 로그인 된 상태에서 메일 페이지 접근\n",
    "driver.get('http://mail.naver.com')"
   ]
  },
  {
   "cell_type": "code",
   "execution_count": 77,
   "id": "b39e9f64-81a7-46e0-a2d4-da9d9d2ef16f",
   "metadata": {},
   "outputs": [],
   "source": [
    "# driver close\n",
    "driver.close()"
   ]
  }
 ],
 "metadata": {
  "kernelspec": {
   "display_name": "Python 3 (ipykernel)",
   "language": "python",
   "name": "python3"
  },
  "language_info": {
   "codemirror_mode": {
    "name": "ipython",
    "version": 3
   },
   "file_extension": ".py",
   "mimetype": "text/x-python",
   "name": "python",
   "nbconvert_exporter": "python",
   "pygments_lexer": "ipython3",
   "version": "3.10.10"
  }
 },
 "nbformat": 4,
 "nbformat_minor": 5
}
