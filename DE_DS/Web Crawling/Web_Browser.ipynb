{
 "cells": [
  {
   "cell_type": "markdown",
   "id": "5a7fe3e5-f37f-4469-ac6b-0c7ac3297eda",
   "metadata": {},
   "source": [
    "## **🌐 Web Browser 컨트롤**"
   ]
  },
  {
   "cell_type": "markdown",
   "id": "fa7c2046-7aee-4a85-afcb-59ff1b9bd527",
   "metadata": {},
   "source": [
    "### **📍 Web Browser 모듈**"
   ]
  },
  {
   "cell_type": "code",
   "execution_count": 2,
   "id": "27465fc3-1865-415b-b503-fc0410541f48",
   "metadata": {},
   "outputs": [],
   "source": [
    "import webbrowser"
   ]
  },
  {
   "cell_type": "markdown",
   "id": "967b12da-a558-4c60-880c-796c0fbf3d23",
   "metadata": {},
   "source": [
    "### **📍 URL 규칙**\n",
    "#### **🔸 Domain**\n",
    "https://www.google.com/search?\n",
    "\n",
    "#### **🔸 Parameters**\n",
    "- URL은 ? 기호를 통해 도메인과 파라미터를 구분\n",
    "- & 기호를 통해서 파라미터간 구분을 함 \n",
    "- query or q : 검색어\n",
    " \n",
    "q=python& <br>\n",
    "rlz=1C5CHFA_enKR1070KR1077& <br>\n",
    "oq=python& <br>\n",
    "gs_lcrp=EgZjaHJvbWUyDwgAEEUYORiDARixAxiABDIMCAEQIxgnGIAEGIoFMg0IAhAAGIMBGLEDGIAEMg0IAxAAGIMBGLEDGIAEMgoIBBAAGLEDGIAEMg0IBRAAGIMBGLEDGIAEMg0IBhAAGIMBGLEDGIAEMg0IBxAAGIMBGLEDGIAEMgYICBAAGAMyBwgJEAAYgATSAQg0MTI0ajBqN6gCALACAA& <br>\n",
    "sourceid=chrome& <br>\n",
    "ie=UTF-8"
   ]
  },
  {
   "cell_type": "markdown",
   "id": "7d20fa42-87c0-469d-9ae8-81f20d4eef99",
   "metadata": {},
   "source": [
    "### **📍 브라우저 실행** "
   ]
  },
  {
   "cell_type": "markdown",
   "id": "fc1d5040-f25d-4e6e-abb6-160d15626820",
   "metadata": {},
   "source": [
    "#### **🔸 브라우저 열기**\n",
    "**webbrowser.open('url')**\n",
    "\n",
    "- 매개변수 : url을 전달(접속하고자 하는 웹 사이트)\n",
    "- 반환값이 True면 브라우저 실행이 정상 완료"
   ]
  },
  {
   "cell_type": "code",
   "execution_count": 4,
   "id": "bf3be947-f0c4-453a-adcd-70a971fd3d15",
   "metadata": {},
   "outputs": [
    {
     "data": {
      "text/plain": [
       "True"
      ]
     },
     "execution_count": 4,
     "metadata": {},
     "output_type": "execute_result"
    }
   ],
   "source": [
    "webbrowser.open('www.naver.com')"
   ]
  },
  {
   "cell_type": "markdown",
   "id": "fcfe6893-5c23-4377-ae0b-23ca4003faf6",
   "metadata": {},
   "source": [
    "#### **🔸 검색어 적용**\n",
    "\n",
    "**검색어를  url에 적용시키는 방법은 site마다 다르다.**\n",
    "- 네이버 검색 URL\n",
    "    - 기본 url : https://search.naver.com/search.naver?\n",
    "    - 검색파라미터 : query=검색어\n",
    "- 구글 검색 URL\n",
    "    - 기본 url : https://www.google.com/search?\n",
    "    - 검색파라미터 : q=검색어"
   ]
  },
  {
   "cell_type": "code",
   "execution_count": 5,
   "id": "5a474f79-e452-4397-9252-4a09c5aac72e",
   "metadata": {},
   "outputs": [
    {
     "data": {
      "text/plain": [
       "'https://search.naver.com/search.naver?query=django'"
      ]
     },
     "execution_count": 5,
     "metadata": {},
     "output_type": "execute_result"
    }
   ],
   "source": [
    "# 네이버 검색어 적용\n",
    "s_url = 'https://search.naver.com/search.naver?'\n",
    "search = 'query=django'\n",
    "url = s_url + search\n",
    "url"
   ]
  },
  {
   "cell_type": "code",
   "execution_count": 7,
   "id": "6f9bee06-c6c5-49b0-9988-0754350e015e",
   "metadata": {},
   "outputs": [],
   "source": [
    "webbrowser.open(url)"
   ]
  },
  {
   "cell_type": "code",
   "execution_count": null,
   "id": "5f3df499-7c6c-4927-8af2-092a46df784b",
   "metadata": {},
   "outputs": [],
   "source": [
    "# 구글에 검색어 적용\n",
    "s_url = 'https://www.google.com/search?'\n",
    "search = 'q=django'\n",
    "url = s_url + search\n",
    "url"
   ]
  },
  {
   "cell_type": "code",
   "execution_count": null,
   "id": "bfab8f0d-abf6-48f4-9d69-8c069926fe06",
   "metadata": {},
   "outputs": [],
   "source": [
    "webbrowser.open(url)"
   ]
  },
  {
   "cell_type": "code",
   "execution_count": null,
   "id": "07c410e0-f7a0-47c6-a2d3-0d6d7204a420",
   "metadata": {},
   "outputs": [],
   "source": []
  },
  {
   "cell_type": "code",
   "execution_count": null,
   "id": "17368d3e-df40-4853-97e7-ee7bce34bd31",
   "metadata": {},
   "outputs": [],
   "source": []
  },
  {
   "cell_type": "code",
   "execution_count": null,
   "id": "760a364c-b710-4f55-9ceb-c51353cdc205",
   "metadata": {},
   "outputs": [],
   "source": []
  }
 ],
 "metadata": {
  "kernelspec": {
   "display_name": "Python 3 (ipykernel)",
   "language": "python",
   "name": "python3"
  },
  "language_info": {
   "codemirror_mode": {
    "name": "ipython",
    "version": 3
   },
   "file_extension": ".py",
   "mimetype": "text/x-python",
   "name": "python",
   "nbconvert_exporter": "python",
   "pygments_lexer": "ipython3",
   "version": "3.10.10"
  }
 },
 "nbformat": 4,
 "nbformat_minor": 5
}
