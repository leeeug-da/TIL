{
 "cells": [
  {
   "cell_type": "markdown",
   "id": "74802ce9-782f-4570-bd18-0f22ce9ba577",
   "metadata": {},
   "source": [
    "# **⭐️⭐️ Pandas ⭐️⭐️**"
   ]
  },
  {
   "cell_type": "markdown",
   "id": "5898518a-cc63-4b53-9a1b-98e07c9f3fb3",
   "metadata": {},
   "source": [
    "*출처 : 파이썬 머신러닝 완벽 가이드 (권철민 저)*"
   ]
  },
  {
   "cell_type": "markdown",
   "id": "f23cff4f-5a33-4b64-bd8a-e6d0f9af4992",
   "metadata": {},
   "source": [
    "## **Pandas 개요 🤓**"
   ]
  },
  {
   "cell_type": "markdown",
   "id": "74d285ee-2eea-4472-bd72-79bfc9345abe",
   "metadata": {},
   "source": [
    "### **📍 What is Pandas ?**"
   ]
  },
  {
   "cell_type": "markdown",
   "id": "3296c8bf-f928-4c5e-a98a-6a11e22e403a",
   "metadata": {},
   "source": [
    "- 파이썬의 대표적인 데이터 처리 패키지\n",
    "- 2차원 데이터 처리에 특화되어 있으며, 맷플롯립을 호출해 쉽게 시각화 기능을 지원 "
   ]
  },
  {
   "cell_type": "markdown",
   "id": "99cf5e48-44df-42dc-9258-d2490a465422",
   "metadata": {},
   "source": [
    "## **Get into \bPandas 👾**"
   ]
  },
  {
   "cell_type": "markdown",
   "id": "5fc5de37-bcfb-442e-b182-bc39790c1b03",
   "metadata": {},
   "source": [
    "### **📍 Pandas 불러오기**"
   ]
  },
  {
   "cell_type": "code",
   "execution_count": 27,
   "id": "82e4b5a4-0d85-488d-9a9b-ed2c16496aa3",
   "metadata": {},
   "outputs": [],
   "source": [
    "import pandas as pd"
   ]
  },
  {
   "cell_type": "markdown",
   "id": "d9416961-2527-4ddf-870a-54b009a1366f",
   "metadata": {},
   "source": [
    "### **📍 Pandas Data Type**"
   ]
  },
  {
   "cell_type": "markdown",
   "id": "10c7529d-17d2-4725-980e-0fd4846e99ad",
   "metadata": {},
   "source": [
    "1. Series : Index와 단 하나의 칼럼으로 구성된 데이터 구조체\n",
    "2. Data Frame : 칼럼이 여러 개인 데이터 구조체 (여러 개의 Series로 이루어졌다고 할 수 있다.)"
   ]
  },
  {
   "cell_type": "markdown",
   "id": "836eed55-159b-41e8-9225-0c04fa79590f",
   "metadata": {},
   "source": [
    "### **📍 데이터 불러오기**"
   ]
  },
  {
   "cell_type": "code",
   "execution_count": 28,
   "id": "754cb5fa-a2be-4cc7-949b-b71e3d26e05b",
   "metadata": {},
   "outputs": [],
   "source": [
    "titanic_df = pd.read_csv('./Data/titanic_train.csv')"
   ]
  },
  {
   "cell_type": "markdown",
   "id": "a66161e2-e1b0-4ccb-afff-f5a6e54e6131",
   "metadata": {
    "jp-MarkdownHeadingCollapsed": true
   },
   "source": [
    "### **📍 데이터 확인하기**"
   ]
  },
  {
   "cell_type": "markdown",
   "id": "5e5f6317-e781-428d-9ed6-ee4074d017b6",
   "metadata": {},
   "source": [
    "#### **1. `.head()`**"
   ]
  },
  {
   "cell_type": "markdown",
   "id": "77aeb01f-9695-4084-916c-79cae794ef66",
   "metadata": {},
   "source": [
    "- 데이터의 맨 앞에 있는 N개의 로우를 반환\n",
    "- 기본값 () 은 5개"
   ]
  },
  {
   "cell_type": "code",
   "execution_count": 29,
   "id": "ced75e36-9d66-4b75-9bc9-9d3d5e1095e4",
   "metadata": {},
   "outputs": [
    {
     "data": {
      "text/html": [
       "<div>\n",
       "<style scoped>\n",
       "    .dataframe tbody tr th:only-of-type {\n",
       "        vertical-align: middle;\n",
       "    }\n",
       "\n",
       "    .dataframe tbody tr th {\n",
       "        vertical-align: top;\n",
       "    }\n",
       "\n",
       "    .dataframe thead th {\n",
       "        text-align: right;\n",
       "    }\n",
       "</style>\n",
       "<table border=\"1\" class=\"dataframe\">\n",
       "  <thead>\n",
       "    <tr style=\"text-align: right;\">\n",
       "      <th></th>\n",
       "      <th>PassengerId</th>\n",
       "      <th>Survived</th>\n",
       "      <th>Pclass</th>\n",
       "      <th>Name</th>\n",
       "      <th>Sex</th>\n",
       "      <th>Age</th>\n",
       "      <th>SibSp</th>\n",
       "      <th>Parch</th>\n",
       "      <th>Ticket</th>\n",
       "      <th>Fare</th>\n",
       "      <th>Cabin</th>\n",
       "      <th>Embarked</th>\n",
       "    </tr>\n",
       "  </thead>\n",
       "  <tbody>\n",
       "    <tr>\n",
       "      <th>0</th>\n",
       "      <td>1</td>\n",
       "      <td>0</td>\n",
       "      <td>3</td>\n",
       "      <td>Braund, Mr. Owen Harris</td>\n",
       "      <td>male</td>\n",
       "      <td>22.0</td>\n",
       "      <td>1</td>\n",
       "      <td>0</td>\n",
       "      <td>A/5 21171</td>\n",
       "      <td>7.2500</td>\n",
       "      <td>NaN</td>\n",
       "      <td>S</td>\n",
       "    </tr>\n",
       "    <tr>\n",
       "      <th>1</th>\n",
       "      <td>2</td>\n",
       "      <td>1</td>\n",
       "      <td>1</td>\n",
       "      <td>Cumings, Mrs. John Bradley (Florence Briggs Th...</td>\n",
       "      <td>female</td>\n",
       "      <td>38.0</td>\n",
       "      <td>1</td>\n",
       "      <td>0</td>\n",
       "      <td>PC 17599</td>\n",
       "      <td>71.2833</td>\n",
       "      <td>C85</td>\n",
       "      <td>C</td>\n",
       "    </tr>\n",
       "    <tr>\n",
       "      <th>2</th>\n",
       "      <td>3</td>\n",
       "      <td>1</td>\n",
       "      <td>3</td>\n",
       "      <td>Heikkinen, Miss. Laina</td>\n",
       "      <td>female</td>\n",
       "      <td>26.0</td>\n",
       "      <td>0</td>\n",
       "      <td>0</td>\n",
       "      <td>STON/O2. 3101282</td>\n",
       "      <td>7.9250</td>\n",
       "      <td>NaN</td>\n",
       "      <td>S</td>\n",
       "    </tr>\n",
       "  </tbody>\n",
       "</table>\n",
       "</div>"
      ],
      "text/plain": [
       "   PassengerId  Survived  Pclass  \\\n",
       "0            1         0       3   \n",
       "1            2         1       1   \n",
       "2            3         1       3   \n",
       "\n",
       "                                                Name     Sex   Age  SibSp  \\\n",
       "0                            Braund, Mr. Owen Harris    male  22.0      1   \n",
       "1  Cumings, Mrs. John Bradley (Florence Briggs Th...  female  38.0      1   \n",
       "2                             Heikkinen, Miss. Laina  female  26.0      0   \n",
       "\n",
       "   Parch            Ticket     Fare Cabin Embarked  \n",
       "0      0         A/5 21171   7.2500   NaN        S  \n",
       "1      0          PC 17599  71.2833   C85        C  \n",
       "2      0  STON/O2. 3101282   7.9250   NaN        S  "
      ]
     },
     "execution_count": 29,
     "metadata": {},
     "output_type": "execute_result"
    }
   ],
   "source": [
    "titanic_df.head(3)"
   ]
  },
  {
   "cell_type": "markdown",
   "id": "1336b850-ea58-4988-b315-356800b30cd6",
   "metadata": {},
   "source": [
    "#### **2. `.shape()`**"
   ]
  },
  {
   "cell_type": "markdown",
   "id": "4a06034f-fe87-43e9-a32e-c3a737be90af",
   "metadata": {},
   "source": [
    "- 행과 열의 갯수를 튜플 형태로 반환\n",
    "- (row, col)"
   ]
  },
  {
   "cell_type": "code",
   "execution_count": 30,
   "id": "3b1e2035-0882-4ee4-ae94-f4200a284685",
   "metadata": {},
   "outputs": [
    {
     "data": {
      "text/plain": [
       "(891, 12)"
      ]
     },
     "execution_count": 30,
     "metadata": {},
     "output_type": "execute_result"
    }
   ],
   "source": [
    "titanic_df.shape"
   ]
  },
  {
   "cell_type": "markdown",
   "id": "66626888-1201-46b3-ae6e-9063346fa2a5",
   "metadata": {},
   "source": [
    "#### **3. `.info()`**"
   ]
  },
  {
   "cell_type": "markdown",
   "id": "96accc08-ea1d-448b-b31d-59d98d3736fe",
   "metadata": {},
   "source": [
    "- 행과 열의 갯수\n",
    "- 각 컬럼의 데이터 타입, Not Null 인 건수\n",
    "- 전체 데이터 타입의 요약"
   ]
  },
  {
   "cell_type": "code",
   "execution_count": 31,
   "id": "4e46ac54-07fb-43dd-9c7d-80fb0d9e1259",
   "metadata": {
    "scrolled": true
   },
   "outputs": [
    {
     "name": "stdout",
     "output_type": "stream",
     "text": [
      "<class 'pandas.core.frame.DataFrame'>\n",
      "RangeIndex: 891 entries, 0 to 890\n",
      "Data columns (total 12 columns):\n",
      " #   Column       Non-Null Count  Dtype  \n",
      "---  ------       --------------  -----  \n",
      " 0   PassengerId  891 non-null    int64  \n",
      " 1   Survived     891 non-null    int64  \n",
      " 2   Pclass       891 non-null    int64  \n",
      " 3   Name         891 non-null    object \n",
      " 4   Sex          891 non-null    object \n",
      " 5   Age          714 non-null    float64\n",
      " 6   SibSp        891 non-null    int64  \n",
      " 7   Parch        891 non-null    int64  \n",
      " 8   Ticket       891 non-null    object \n",
      " 9   Fare         891 non-null    float64\n",
      " 10  Cabin        204 non-null    object \n",
      " 11  Embarked     889 non-null    object \n",
      "dtypes: float64(2), int64(5), object(5)\n",
      "memory usage: 83.7+ KB\n"
     ]
    }
   ],
   "source": [
    "titanic_df.info()"
   ]
  },
  {
   "cell_type": "markdown",
   "id": "8c184e87-e4b1-4fae-8414-c8018b8d0c88",
   "metadata": {},
   "source": [
    "#### **4. `.describe()`**"
   ]
  },
  {
   "cell_type": "markdown",
   "id": "7b2e9ed0-498d-4048-baff-b1fd03fe5e9f",
   "metadata": {},
   "source": [
    "- 숫자형 데이터에 대한 n-percentile 분포도 (25%, 50%, 75%) / 최댓값, 최솟값 / 평균값 / 표준편차\n",
    "- 이 메서드만으로 정확한 분포도를 알기는 무리지만, 개략적인 수준의 분포도를 확인할 수 있어 유용하다."
   ]
  },
  {
   "cell_type": "code",
   "execution_count": 32,
   "id": "277e3113-7d3f-4662-a094-383ea2718285",
   "metadata": {},
   "outputs": [
    {
     "data": {
      "text/html": [
       "<div>\n",
       "<style scoped>\n",
       "    .dataframe tbody tr th:only-of-type {\n",
       "        vertical-align: middle;\n",
       "    }\n",
       "\n",
       "    .dataframe tbody tr th {\n",
       "        vertical-align: top;\n",
       "    }\n",
       "\n",
       "    .dataframe thead th {\n",
       "        text-align: right;\n",
       "    }\n",
       "</style>\n",
       "<table border=\"1\" class=\"dataframe\">\n",
       "  <thead>\n",
       "    <tr style=\"text-align: right;\">\n",
       "      <th></th>\n",
       "      <th>PassengerId</th>\n",
       "      <th>Survived</th>\n",
       "      <th>Pclass</th>\n",
       "      <th>Age</th>\n",
       "      <th>SibSp</th>\n",
       "      <th>Parch</th>\n",
       "      <th>Fare</th>\n",
       "    </tr>\n",
       "  </thead>\n",
       "  <tbody>\n",
       "    <tr>\n",
       "      <th>count</th>\n",
       "      <td>891.000000</td>\n",
       "      <td>891.000000</td>\n",
       "      <td>891.000000</td>\n",
       "      <td>714.000000</td>\n",
       "      <td>891.000000</td>\n",
       "      <td>891.000000</td>\n",
       "      <td>891.000000</td>\n",
       "    </tr>\n",
       "    <tr>\n",
       "      <th>mean</th>\n",
       "      <td>446.000000</td>\n",
       "      <td>0.383838</td>\n",
       "      <td>2.308642</td>\n",
       "      <td>29.699118</td>\n",
       "      <td>0.523008</td>\n",
       "      <td>0.381594</td>\n",
       "      <td>32.204208</td>\n",
       "    </tr>\n",
       "    <tr>\n",
       "      <th>std</th>\n",
       "      <td>257.353842</td>\n",
       "      <td>0.486592</td>\n",
       "      <td>0.836071</td>\n",
       "      <td>14.526497</td>\n",
       "      <td>1.102743</td>\n",
       "      <td>0.806057</td>\n",
       "      <td>49.693429</td>\n",
       "    </tr>\n",
       "    <tr>\n",
       "      <th>min</th>\n",
       "      <td>1.000000</td>\n",
       "      <td>0.000000</td>\n",
       "      <td>1.000000</td>\n",
       "      <td>0.420000</td>\n",
       "      <td>0.000000</td>\n",
       "      <td>0.000000</td>\n",
       "      <td>0.000000</td>\n",
       "    </tr>\n",
       "    <tr>\n",
       "      <th>25%</th>\n",
       "      <td>223.500000</td>\n",
       "      <td>0.000000</td>\n",
       "      <td>2.000000</td>\n",
       "      <td>20.125000</td>\n",
       "      <td>0.000000</td>\n",
       "      <td>0.000000</td>\n",
       "      <td>7.910400</td>\n",
       "    </tr>\n",
       "    <tr>\n",
       "      <th>50%</th>\n",
       "      <td>446.000000</td>\n",
       "      <td>0.000000</td>\n",
       "      <td>3.000000</td>\n",
       "      <td>28.000000</td>\n",
       "      <td>0.000000</td>\n",
       "      <td>0.000000</td>\n",
       "      <td>14.454200</td>\n",
       "    </tr>\n",
       "    <tr>\n",
       "      <th>75%</th>\n",
       "      <td>668.500000</td>\n",
       "      <td>1.000000</td>\n",
       "      <td>3.000000</td>\n",
       "      <td>38.000000</td>\n",
       "      <td>1.000000</td>\n",
       "      <td>0.000000</td>\n",
       "      <td>31.000000</td>\n",
       "    </tr>\n",
       "    <tr>\n",
       "      <th>max</th>\n",
       "      <td>891.000000</td>\n",
       "      <td>1.000000</td>\n",
       "      <td>3.000000</td>\n",
       "      <td>80.000000</td>\n",
       "      <td>8.000000</td>\n",
       "      <td>6.000000</td>\n",
       "      <td>512.329200</td>\n",
       "    </tr>\n",
       "  </tbody>\n",
       "</table>\n",
       "</div>"
      ],
      "text/plain": [
       "       PassengerId    Survived      Pclass         Age       SibSp  \\\n",
       "count   891.000000  891.000000  891.000000  714.000000  891.000000   \n",
       "mean    446.000000    0.383838    2.308642   29.699118    0.523008   \n",
       "std     257.353842    0.486592    0.836071   14.526497    1.102743   \n",
       "min       1.000000    0.000000    1.000000    0.420000    0.000000   \n",
       "25%     223.500000    0.000000    2.000000   20.125000    0.000000   \n",
       "50%     446.000000    0.000000    3.000000   28.000000    0.000000   \n",
       "75%     668.500000    1.000000    3.000000   38.000000    1.000000   \n",
       "max     891.000000    1.000000    3.000000   80.000000    8.000000   \n",
       "\n",
       "            Parch        Fare  \n",
       "count  891.000000  891.000000  \n",
       "mean     0.381594   32.204208  \n",
       "std      0.806057   49.693429  \n",
       "min      0.000000    0.000000  \n",
       "25%      0.000000    7.910400  \n",
       "50%      0.000000   14.454200  \n",
       "75%      0.000000   31.000000  \n",
       "max      6.000000  512.329200  "
      ]
     },
     "execution_count": 32,
     "metadata": {},
     "output_type": "execute_result"
    }
   ],
   "source": [
    "titanic_df.describe()"
   ]
  },
  {
   "cell_type": "markdown",
   "id": "53fff368-ac8a-4925-a687-dce6304815e7",
   "metadata": {},
   "source": [
    "##### **n-percentile (25%, 50%, 75%)**"
   ]
  },
  {
   "cell_type": "markdown",
   "id": "09c0a97f-32c8-4f32-aae2-92cf3ff6e82b",
   "metadata": {},
   "source": [
    "Pclass 에 해당하는 데이터 값들을 오름차순으로 정렬했을 때 (낮은 값 -> 높은 값)\n",
    "- 앞 25% 구간에 해당하는 데이터는 2\n",
    "- 50% 구간에 해당하는 데이터는 3\n",
    "- 75% 구간에 해당하는 데이터는 3"
   ]
  },
  {
   "cell_type": "markdown",
   "id": "73e3b16d-26e2-4d41-91e6-18c39a12ac0b",
   "metadata": {},
   "source": [
    "`min` ~ `max` 가 `1` ~ `3` 이고, 각 `25%, 50%, 70%` 에 해당하는 데이터들이 `2, 3, 3` 인 것을 미루어 봤을 때,\n",
    "- Pclass의 데이터는 1, 2, 3 으로 이루어진 것을 짐작할 수 있다."
   ]
  },
  {
   "cell_type": "code",
   "execution_count": 33,
   "id": "9ceafc4a-818d-499d-9d10-fb3a81470ef2",
   "metadata": {},
   "outputs": [
    {
     "data": {
      "text/plain": [
       "{1, 2, 3}"
      ]
     },
     "execution_count": 33,
     "metadata": {},
     "output_type": "execute_result"
    }
   ],
   "source": [
    "set(titanic_df['Pclass'].values)"
   ]
  },
  {
   "cell_type": "code",
   "execution_count": 34,
   "id": "a2088d62-94aa-400a-a96f-00648e402e41",
   "metadata": {},
   "outputs": [
    {
     "data": {
      "text/plain": [
       "Pclass\n",
       "3    491\n",
       "1    216\n",
       "2    184\n",
       "Name: count, dtype: int64"
      ]
     },
     "execution_count": 34,
     "metadata": {},
     "output_type": "execute_result"
    }
   ],
   "source": [
    "titanic_pclass = titanic_df['Pclass'].value_counts()\n",
    "titanic_pclass"
   ]
  },
  {
   "cell_type": "markdown",
   "id": "320cdfd8-620a-493e-aa15-229e84dce7e8",
   "metadata": {},
   "source": [
    "#### **5. `df[]`**"
   ]
  },
  {
   "cell_type": "markdown",
   "id": "ecacf82a-7787-47b7-87e8-bc785570e0ce",
   "metadata": {},
   "source": [
    "* 특정 칼럼의 데이터를 시리즈 (; Index와 단 하나의 칼럼으로 구성된 세트) 형태로 반환"
   ]
  },
  {
   "cell_type": "code",
   "execution_count": 36,
   "id": "709672fb-b29a-41c5-8d8a-3fea6174d424",
   "metadata": {},
   "outputs": [
    {
     "data": {
      "text/plain": [
       "0        male\n",
       "1      female\n",
       "2      female\n",
       "3      female\n",
       "4        male\n",
       "        ...  \n",
       "886      male\n",
       "887    female\n",
       "888    female\n",
       "889      male\n",
       "890      male\n",
       "Name: Sex, Length: 891, dtype: object"
      ]
     },
     "execution_count": 36,
     "metadata": {},
     "output_type": "execute_result"
    }
   ],
   "source": [
    "titanic_df['Sex']"
   ]
  },
  {
   "attachments": {},
   "cell_type": "markdown",
   "id": "3dcd54e0-854d-4688-8517-0051779dea0a",
   "metadata": {},
   "source": [
    "#### **6. `.value_counts()`**"
   ]
  },
  {
   "cell_type": "markdown",
   "id": "72d10aee-eec4-45e2-b12e-328ae9d50905",
   "metadata": {},
   "source": [
    "* 특정 칼럼의 데이터값 건수를 시리즈 형태로 반환\n",
    "* 기본적으로 Null 값을 무시하고 결괏값을 내놓기 때문에 주의해야 한다.\n",
    "* 기본값은 dropna=True 로 `.value_counts(dropna=True)` 와 동일하고, Null 값을 제외하고 반환한다.\n",
    "* Null 값을 포함해서 카운트 하고 싶다면, `.value_counts(dropna=False)`"
   ]
  },
  {
   "cell_type": "code",
   "execution_count": 37,
   "id": "b1f43d97-2241-4414-8692-3d819dacc9aa",
   "metadata": {},
   "outputs": [
    {
     "data": {
      "text/plain": [
       "Embarked\n",
       "S    644\n",
       "C    168\n",
       "Q     77\n",
       "Name: count, dtype: int64"
      ]
     },
     "execution_count": 37,
     "metadata": {},
     "output_type": "execute_result"
    }
   ],
   "source": [
    "titanic_df['Embarked'].value_counts()"
   ]
  },
  {
   "cell_type": "code",
   "execution_count": 38,
   "id": "144d5857-6326-433b-9e14-7e52ea1cd1a8",
   "metadata": {},
   "outputs": [
    {
     "data": {
      "text/plain": [
       "Embarked\n",
       "S      644\n",
       "C      168\n",
       "Q       77\n",
       "NaN      2\n",
       "Name: count, dtype: int64"
      ]
     },
     "execution_count": 38,
     "metadata": {},
     "output_type": "execute_result"
    }
   ],
   "source": [
    "titanic_df['Embarked'].value_counts(dropna=False)"
   ]
  },
  {
   "cell_type": "markdown",
   "id": "1a55d44b-657f-4b32-a144-fa41ecdf9510",
   "metadata": {},
   "source": [
    "### **📍 DF <-> 리스트/딕셔너리/ndarray 상호변환**"
   ]
  },
  {
   "cell_type": "markdown",
   "id": "3198eeaf-192c-4ebf-91cd-66a14ec35718",
   "metadata": {},
   "source": [
    "- 특히 사이킷런의 많은 API는 DataFrame을 인자로 입력받을 수 있지만, 기본적을 넘파이 ndarray를 입력 인자로 사용하는 경우가 대부분이기 때문에, DF와 ndarray 상호 간의 변환은 매우 빈번하게 발생한다."
   ]
  },
  {
   "cell_type": "markdown",
   "id": "e6d26100-6797-4092-962f-810942066ddd",
   "metadata": {
    "jp-MarkdownHeadingCollapsed": true
   },
   "source": [
    "#### **1. 리스트/딕셔너리/ndarray -> DF**"
   ]
  },
  {
   "cell_type": "markdown",
   "id": "765da687-9f48-4d7f-88ac-86d8cb72611a",
   "metadata": {},
   "source": [
    "- 리스트/ndarray : column 수대로 column 지정\n",
    "- 딕셔너리 : 문자열 column명으로 매핑, 리스트/ndarray 칼럼 데이터로 values 매핑"
   ]
  },
  {
   "cell_type": "code",
   "execution_count": 40,
   "id": "d5b808c7-abe2-4d57-b6aa-26f4ab07fe48",
   "metadata": {},
   "outputs": [],
   "source": [
    "import numpy as np"
   ]
  },
  {
   "cell_type": "code",
   "execution_count": 41,
   "id": "7408fbf4-d2f6-4ce4-97fa-0fb699cedaae",
   "metadata": {},
   "outputs": [
    {
     "name": "stdout",
     "output_type": "stream",
     "text": [
      "1차원 리스트 to DF:\n",
      "    col1\n",
      "0     1\n",
      "1     2\n",
      "2     3\n",
      "1차원 ndarray to DF:\n",
      "    col1\n",
      "0     1\n",
      "1     2\n",
      "2     3\n"
     ]
    }
   ],
   "source": [
    "# 1차원 리스트/ndarray -> DF\n",
    "\n",
    "col_name1 = ['col1']\n",
    "list1 = [1, 2, 3]\n",
    "array1 = np.array(list1)\n",
    "\n",
    "df_list1 = pd.DataFrame(list1, columns=col_name1)\n",
    "print('1차원 리스트 to DF:\\n', df_list1)\n",
    "\n",
    "df_array1 = pd.DataFrame(array1, columns=col_name1)\n",
    "print('1차원 ndarray to DF:\\n', df_array1)"
   ]
  },
  {
   "cell_type": "code",
   "execution_count": 42,
   "id": "baedbc78-e2a0-4cbf-b45c-f65481111ab5",
   "metadata": {},
   "outputs": [
    {
     "name": "stdout",
     "output_type": "stream",
     "text": [
      "2차원 리스트 to DF:\n",
      "    col1  col2  col3\n",
      "0     1     2     3\n",
      "1     4     5     6\n",
      "2차원 ndarray to DF:\n",
      "    col1  col2  col3\n",
      "0     1     2     3\n",
      "1     4     5     6\n"
     ]
    }
   ],
   "source": [
    "# 2차원 리스트/ndarray -> DF\n",
    "\n",
    "col_name2 = ['col1', 'col2', 'col3']\n",
    "list2 = [[1, 2, 3],\n",
    "        [4, 5, 6]]\n",
    "array2 = np.array(list2)\n",
    "\n",
    "df_list2 = pd.DataFrame(list2, columns=col_name2)\n",
    "print('2차원 리스트 to DF:\\n', df_list2)\n",
    "\n",
    "df_array2 = pd.DataFrame(array2, columns=col_name2)\n",
    "print('2차원 ndarray to DF:\\n', df_array2)"
   ]
  },
  {
   "cell_type": "code",
   "execution_count": 43,
   "id": "9cfed2d7-ac4c-4b8e-8af4-461bfb8e6073",
   "metadata": {},
   "outputs": [
    {
     "name": "stdout",
     "output_type": "stream",
     "text": [
      "dict to DF:\n",
      "    col1  col2  col3\n",
      "0     1     2     3\n",
      "1    11    22    33\n"
     ]
    }
   ],
   "source": [
    "# 딕셔너리 -> DF\n",
    "\n",
    "dict = {'col1':[1,11], 'col2':[2,22], 'col3':[3,33]}\n",
    "df_dict = pd.DataFrame(dict)\n",
    "print('dict to DF:\\n', df_dict)"
   ]
  },
  {
   "cell_type": "markdown",
   "id": "b582bde0-cb01-4e1e-bbe6-04deb4e4cc19",
   "metadata": {},
   "source": [
    "#### **2. DF -> 리스트/딕셔너리/ndarray**"
   ]
  },
  {
   "cell_type": "markdown",
   "id": "5c50d814-1386-4fd3-81bb-534fe47cffc7",
   "metadata": {},
   "source": [
    "- **DF -> ndarray** (`.values()`)\n",
    "  - 데이터 핸들링은 DataFrame 을 이용하더라도, 머신러닝 패키지의 입력 인자 등에 적용하기 위해 ndarray 로 변환해야하기 때문에 반드시 기억하기\n",
    "- **DF -> 리스트** (`.values.tolist()`)\n",
    "- **DF -> 딕셔너리** (`.to_dict()`)\n",
    "  - (`.to_dict()`) : 인자 미적용시, 값은 set로 반환\n",
    "  - (`.to_dict('list')`) : 인자로 'list'를 입력하면 값은 리스트형으로 반환"
   ]
  },
  {
   "cell_type": "code",
   "execution_count": 45,
   "id": "28ca1890-e9b7-4248-beb5-8086ae8c67c5",
   "metadata": {},
   "outputs": [
    {
     "data": {
      "text/html": [
       "<div>\n",
       "<style scoped>\n",
       "    .dataframe tbody tr th:only-of-type {\n",
       "        vertical-align: middle;\n",
       "    }\n",
       "\n",
       "    .dataframe tbody tr th {\n",
       "        vertical-align: top;\n",
       "    }\n",
       "\n",
       "    .dataframe thead th {\n",
       "        text-align: right;\n",
       "    }\n",
       "</style>\n",
       "<table border=\"1\" class=\"dataframe\">\n",
       "  <thead>\n",
       "    <tr style=\"text-align: right;\">\n",
       "      <th></th>\n",
       "      <th>col1</th>\n",
       "      <th>col2</th>\n",
       "      <th>col3</th>\n",
       "    </tr>\n",
       "  </thead>\n",
       "  <tbody>\n",
       "    <tr>\n",
       "      <th>0</th>\n",
       "      <td>1</td>\n",
       "      <td>2</td>\n",
       "      <td>3</td>\n",
       "    </tr>\n",
       "    <tr>\n",
       "      <th>1</th>\n",
       "      <td>11</td>\n",
       "      <td>22</td>\n",
       "      <td>33</td>\n",
       "    </tr>\n",
       "  </tbody>\n",
       "</table>\n",
       "</div>"
      ],
      "text/plain": [
       "   col1  col2  col3\n",
       "0     1     2     3\n",
       "1    11    22    33"
      ]
     },
     "execution_count": 45,
     "metadata": {},
     "output_type": "execute_result"
    }
   ],
   "source": [
    "df_dict"
   ]
  },
  {
   "cell_type": "code",
   "execution_count": 47,
   "id": "870ca145-7394-4035-8b8d-bd11f49ec605",
   "metadata": {},
   "outputs": [
    {
     "name": "stdout",
     "output_type": "stream",
     "text": [
      "Type:  <class 'numpy.ndarray'>\n",
      "Shape:  (2, 3)\n",
      "DF to ndarray:\n",
      " [[ 1  2  3]\n",
      " [11 22 33]]\n"
     ]
    }
   ],
   "source": [
    "# DF -> ndarray\n",
    "\n",
    "array3 = df_dict.values\n",
    "print('Type: ', type(array3))\n",
    "print('Shape: ', array3.shape)\n",
    "print('DF to ndarray:\\n', array3)"
   ]
  },
  {
   "cell_type": "code",
   "execution_count": 50,
   "id": "c37f0e9f-874c-4447-bfe0-6966d15b2154",
   "metadata": {},
   "outputs": [
    {
     "name": "stdout",
     "output_type": "stream",
     "text": [
      "Type:  <class 'list'>\n",
      "DF to list:\n",
      " [[1, 2, 3], [11, 22, 33]]\n"
     ]
    }
   ],
   "source": [
    "# DF -> list\n",
    "\n",
    "list3 = df_dict.values.tolist()\n",
    "print('Type: ', type(list3))\n",
    "print('DF to list:\\n', list3)"
   ]
  },
  {
   "cell_type": "code",
   "execution_count": 53,
   "id": "4269455b-1922-4c7f-be99-ce751b29d44c",
   "metadata": {},
   "outputs": [
    {
     "name": "stdout",
     "output_type": "stream",
     "text": [
      "Type:  <class 'dict'>\n",
      "DF to dict:\n",
      " {'col1': {0: 1, 1: 11}, 'col2': {0: 2, 1: 22}, 'col3': {0: 3, 1: 33}}\n"
     ]
    }
   ],
   "source": [
    "# DF -> dict (list 인자 미적용)\n",
    "\n",
    "dict3 = df_dict.to_dict()\n",
    "print('Type: ', type(dict3))\n",
    "print('DF to dict:\\n', dict3)"
   ]
  },
  {
   "cell_type": "code",
   "execution_count": 54,
   "id": "fd11bb07-4ca5-4d2f-a803-b0ef4374d9eb",
   "metadata": {},
   "outputs": [
    {
     "name": "stdout",
     "output_type": "stream",
     "text": [
      "Type:  <class 'dict'>\n",
      "DF to dict:\n",
      " {'col1': [1, 11], 'col2': [2, 22], 'col3': [3, 33]}\n"
     ]
    }
   ],
   "source": [
    "# DF -> dict (list 인자)\n",
    "\n",
    "dict4 = df_dict.to_dict('list')\n",
    "print('Type: ', type(dict4))\n",
    "print('DF to dict:\\n', dict4)"
   ]
  },
  {
   "cell_type": "markdown",
   "id": "c77a268a-1f77-4c55-ac5e-8f8213db0a22",
   "metadata": {},
   "source": [
    "### **📍 Column 데이터 세트 생성/수정**"
   ]
  },
  {
   "cell_type": "markdown",
   "id": "9968adc6-c402-4904-be36-0086e1247473",
   "metadata": {},
   "source": [
    "#### **?**"
   ]
  },
  {
   "cell_type": "markdown",
   "id": "9177b51d-fe1c-4622-a487-5c827f52dab9",
   "metadata": {},
   "source": [
    "### **📍 데이터 삭제**"
   ]
  },
  {
   "cell_type": "markdown",
   "id": "814a619e-3145-4cb5-95d0-3088659b33a1",
   "metadata": {},
   "source": [
    "#### **?**"
   ]
  },
  {
   "cell_type": "code",
   "execution_count": 67,
   "id": "52c902be-cf81-410d-9f98-7f955bcb1616",
   "metadata": {},
   "outputs": [
    {
     "data": {
      "text/html": [
       "<div>\n",
       "<style scoped>\n",
       "    .dataframe tbody tr th:only-of-type {\n",
       "        vertical-align: middle;\n",
       "    }\n",
       "\n",
       "    .dataframe tbody tr th {\n",
       "        vertical-align: top;\n",
       "    }\n",
       "\n",
       "    .dataframe thead th {\n",
       "        text-align: right;\n",
       "    }\n",
       "</style>\n",
       "<table border=\"1\" class=\"dataframe\">\n",
       "  <thead>\n",
       "    <tr style=\"text-align: right;\">\n",
       "      <th></th>\n",
       "      <th>A</th>\n",
       "      <th>B</th>\n",
       "      <th>C</th>\n",
       "    </tr>\n",
       "  </thead>\n",
       "  <tbody>\n",
       "    <tr>\n",
       "      <th>0</th>\n",
       "      <td>1</td>\n",
       "      <td>2</td>\n",
       "      <td>3</td>\n",
       "    </tr>\n",
       "    <tr>\n",
       "      <th>1</th>\n",
       "      <td>4</td>\n",
       "      <td>5</td>\n",
       "      <td>6</td>\n",
       "    </tr>\n",
       "  </tbody>\n",
       "</table>\n",
       "</div>"
      ],
      "text/plain": [
       "   A  B  C\n",
       "0  1  2  3\n",
       "1  4  5  6"
      ]
     },
     "execution_count": 67,
     "metadata": {},
     "output_type": "execute_result"
    }
   ],
   "source": [
    "col_name4 = ['A', 'B', 'C']\n",
    "array4 = np.array([[1, 2, 3],\n",
    "                  [4, 5, 6]])\n",
    "df4 = pd.DataFrame(array4, columns=col_name4)\n",
    "df4"
   ]
  },
  {
   "cell_type": "code",
   "execution_count": 68,
   "id": "4b0e5070-46ff-45a6-9131-53ffca240452",
   "metadata": {},
   "outputs": [
    {
     "data": {
      "text/html": [
       "<div>\n",
       "<style scoped>\n",
       "    .dataframe tbody tr th:only-of-type {\n",
       "        vertical-align: middle;\n",
       "    }\n",
       "\n",
       "    .dataframe tbody tr th {\n",
       "        vertical-align: top;\n",
       "    }\n",
       "\n",
       "    .dataframe thead th {\n",
       "        text-align: right;\n",
       "    }\n",
       "</style>\n",
       "<table border=\"1\" class=\"dataframe\">\n",
       "  <thead>\n",
       "    <tr style=\"text-align: right;\">\n",
       "      <th></th>\n",
       "      <th>B</th>\n",
       "      <th>C</th>\n",
       "    </tr>\n",
       "  </thead>\n",
       "  <tbody>\n",
       "    <tr>\n",
       "      <th>0</th>\n",
       "      <td>2</td>\n",
       "      <td>3</td>\n",
       "    </tr>\n",
       "    <tr>\n",
       "      <th>1</th>\n",
       "      <td>5</td>\n",
       "      <td>6</td>\n",
       "    </tr>\n",
       "  </tbody>\n",
       "</table>\n",
       "</div>"
      ],
      "text/plain": [
       "   B  C\n",
       "0  2  3\n",
       "1  5  6"
      ]
     },
     "execution_count": 68,
     "metadata": {},
     "output_type": "execute_result"
    }
   ],
   "source": [
    "df4.drop(['A'], axis=1)"
   ]
  },
  {
   "cell_type": "code",
   "execution_count": 69,
   "id": "8961ee87-5d40-4526-aeff-de12993c4f5d",
   "metadata": {},
   "outputs": [
    {
     "data": {
      "text/html": [
       "<div>\n",
       "<style scoped>\n",
       "    .dataframe tbody tr th:only-of-type {\n",
       "        vertical-align: middle;\n",
       "    }\n",
       "\n",
       "    .dataframe tbody tr th {\n",
       "        vertical-align: top;\n",
       "    }\n",
       "\n",
       "    .dataframe thead th {\n",
       "        text-align: right;\n",
       "    }\n",
       "</style>\n",
       "<table border=\"1\" class=\"dataframe\">\n",
       "  <thead>\n",
       "    <tr style=\"text-align: right;\">\n",
       "      <th></th>\n",
       "      <th>A</th>\n",
       "      <th>B</th>\n",
       "      <th>C</th>\n",
       "    </tr>\n",
       "  </thead>\n",
       "  <tbody>\n",
       "    <tr>\n",
       "      <th>1</th>\n",
       "      <td>4</td>\n",
       "      <td>5</td>\n",
       "      <td>6</td>\n",
       "    </tr>\n",
       "  </tbody>\n",
       "</table>\n",
       "</div>"
      ],
      "text/plain": [
       "   A  B  C\n",
       "1  4  5  6"
      ]
     },
     "execution_count": 69,
     "metadata": {},
     "output_type": "execute_result"
    }
   ],
   "source": [
    "df4.drop(0, axis=0)"
   ]
  },
  {
   "cell_type": "code",
   "execution_count": 70,
   "id": "fae738d6-edba-4449-865a-d9dfd0fed1bc",
   "metadata": {},
   "outputs": [],
   "source": [
    "df4.drop(['A'], axis=1, inplace=True)"
   ]
  },
  {
   "cell_type": "code",
   "execution_count": 71,
   "id": "71ebb052-efab-4b4c-bff5-a295b9ce699a",
   "metadata": {},
   "outputs": [
    {
     "data": {
      "text/html": [
       "<div>\n",
       "<style scoped>\n",
       "    .dataframe tbody tr th:only-of-type {\n",
       "        vertical-align: middle;\n",
       "    }\n",
       "\n",
       "    .dataframe tbody tr th {\n",
       "        vertical-align: top;\n",
       "    }\n",
       "\n",
       "    .dataframe thead th {\n",
       "        text-align: right;\n",
       "    }\n",
       "</style>\n",
       "<table border=\"1\" class=\"dataframe\">\n",
       "  <thead>\n",
       "    <tr style=\"text-align: right;\">\n",
       "      <th></th>\n",
       "      <th>B</th>\n",
       "      <th>C</th>\n",
       "    </tr>\n",
       "  </thead>\n",
       "  <tbody>\n",
       "    <tr>\n",
       "      <th>0</th>\n",
       "      <td>2</td>\n",
       "      <td>3</td>\n",
       "    </tr>\n",
       "    <tr>\n",
       "      <th>1</th>\n",
       "      <td>5</td>\n",
       "      <td>6</td>\n",
       "    </tr>\n",
       "  </tbody>\n",
       "</table>\n",
       "</div>"
      ],
      "text/plain": [
       "   B  C\n",
       "0  2  3\n",
       "1  5  6"
      ]
     },
     "execution_count": 71,
     "metadata": {},
     "output_type": "execute_result"
    }
   ],
   "source": [
    "df4"
   ]
  },
  {
   "cell_type": "code",
   "execution_count": 72,
   "id": "5f187936-8435-4a70-b972-5656231514a2",
   "metadata": {},
   "outputs": [],
   "source": [
    "df4.drop(0, axis=0, inplace=True)"
   ]
  },
  {
   "cell_type": "code",
   "execution_count": 73,
   "id": "5a80b3ae-9d23-41ce-94c3-c9277cc32483",
   "metadata": {},
   "outputs": [
    {
     "data": {
      "text/html": [
       "<div>\n",
       "<style scoped>\n",
       "    .dataframe tbody tr th:only-of-type {\n",
       "        vertical-align: middle;\n",
       "    }\n",
       "\n",
       "    .dataframe tbody tr th {\n",
       "        vertical-align: top;\n",
       "    }\n",
       "\n",
       "    .dataframe thead th {\n",
       "        text-align: right;\n",
       "    }\n",
       "</style>\n",
       "<table border=\"1\" class=\"dataframe\">\n",
       "  <thead>\n",
       "    <tr style=\"text-align: right;\">\n",
       "      <th></th>\n",
       "      <th>B</th>\n",
       "      <th>C</th>\n",
       "    </tr>\n",
       "  </thead>\n",
       "  <tbody>\n",
       "    <tr>\n",
       "      <th>1</th>\n",
       "      <td>5</td>\n",
       "      <td>6</td>\n",
       "    </tr>\n",
       "  </tbody>\n",
       "</table>\n",
       "</div>"
      ],
      "text/plain": [
       "   B  C\n",
       "1  5  6"
      ]
     },
     "execution_count": 73,
     "metadata": {},
     "output_type": "execute_result"
    }
   ],
   "source": [
    "df4"
   ]
  },
  {
   "cell_type": "code",
   "execution_count": 63,
   "id": "5b0e18ab-ab46-492c-8918-0124c285ff34",
   "metadata": {},
   "outputs": [],
   "source": [
    "df4 = df4.drop(['B'], axis=1, inplace=True)"
   ]
  },
  {
   "cell_type": "code",
   "execution_count": 66,
   "id": "bca9a369-c0d1-42a8-a2b8-748538790f0e",
   "metadata": {},
   "outputs": [],
   "source": [
    "df4"
   ]
  },
  {
   "cell_type": "markdown",
   "id": "6e1d887c-7cbd-4fab-8a72-325dbd475b89",
   "metadata": {},
   "source": [
    "### **📍 Index 객체**"
   ]
  },
  {
   "cell_type": "markdown",
   "id": "e3f98c28-1851-4946-ae07-bf132a29c7e4",
   "metadata": {},
   "source": [
    "#### **?**"
   ]
  },
  {
   "cell_type": "code",
   "execution_count": 76,
   "id": "8faf6a2f-babf-4136-9ba6-3c24689010a5",
   "metadata": {},
   "outputs": [],
   "source": [
    "indexes = titanic_df.index"
   ]
  },
  {
   "cell_type": "code",
   "execution_count": 85,
   "id": "dda50a2a-0b13-42c6-9a8a-57c4725ded3d",
   "metadata": {},
   "outputs": [
    {
     "name": "stdout",
     "output_type": "stream",
     "text": [
      "RangeIndex(start=0, stop=891, step=1)\n",
      "(891,)\n",
      "[ 0  1  2  3  4  5  6  7  8  9 10 11 12 13 14 15 16 17 18 19 20 21 22 23\n",
      " 24 25 26 27 28 29 30 31 32 33 34 35 36 37 38 39 40 41 42 43 44 45 46 47\n",
      " 48 49]\n",
      "[ 0  1  2  3  4  5  6  7  8  9 10 11 12 13 14 15 16 17 18 19 20 21 22 23\n",
      " 24 25 26 27 28 29 30 31 32 33 34 35 36 37 38 39 40 41 42 43 44 45 46 47\n",
      " 48 49]\n",
      "50\n"
     ]
    }
   ],
   "source": [
    "print(indexes)\n",
    "print(indexes.values.shape)\n",
    "print(indexes[:50].values)\n",
    "print(indexes.values[:50])\n",
    "print(indexes[50])"
   ]
  },
  {
   "cell_type": "code",
   "execution_count": 87,
   "id": "4b5c2d37-9412-4b04-b8a9-1b4ce15c3040",
   "metadata": {},
   "outputs": [
    {
     "data": {
      "text/plain": [
       "0     7.2500\n",
       "1    71.2833\n",
       "2     7.9250\n",
       "Name: Fare, dtype: float64"
      ]
     },
     "execution_count": 87,
     "metadata": {},
     "output_type": "execute_result"
    }
   ],
   "source": [
    "titanic_df['Fare'][:3]"
   ]
  },
  {
   "cell_type": "code",
   "execution_count": null,
   "id": "97212018-cd42-47b4-a05d-24fca2d5c234",
   "metadata": {},
   "outputs": [],
   "source": [
    "tita"
   ]
  },
  {
   "cell_type": "markdown",
   "id": "a14b4637-3294-4eb0-ae4c-791b15e39913",
   "metadata": {},
   "source": [
    "### **📍 데이터 셀렉션/필터링**"
   ]
  },
  {
   "cell_type": "markdown",
   "id": "8ff93b23-e9ba-4d45-aae2-182193909f58",
   "metadata": {},
   "source": [
    "#### **?**"
   ]
  },
  {
   "cell_type": "markdown",
   "id": "0c061954-9656-4095-bdb7-8be511bf652a",
   "metadata": {},
   "source": [
    "### **📍 정렬, Aggregation, Groupby**"
   ]
  },
  {
   "cell_type": "markdown",
   "id": "325cdf94-0071-4a4f-a11c-a1218e7cc95c",
   "metadata": {},
   "source": [
    "#### **?**"
   ]
  },
  {
   "cell_type": "markdown",
   "id": "f5b62738-b9d6-4838-9c6a-b699ac0e4e5f",
   "metadata": {},
   "source": [
    "### **📍 결측 데이터 처리**"
   ]
  },
  {
   "cell_type": "markdown",
   "id": "74abb59b-ed79-44de-805b-504b290902b9",
   "metadata": {},
   "source": [
    "#### **?**"
   ]
  },
  {
   "cell_type": "markdown",
   "id": "682b54b2-8463-4a06-a95a-2dc55e78ca98",
   "metadata": {},
   "source": [
    "### **📍 \blambda식으로 데이터 가공**"
   ]
  },
  {
   "cell_type": "markdown",
   "id": "6d5d06bf-a0e9-49c1-8598-04e37200103e",
   "metadata": {},
   "source": [
    "#### **?**"
   ]
  }
 ],
 "metadata": {
  "kernelspec": {
   "display_name": "Python 3 (ipykernel)",
   "language": "python",
   "name": "python3"
  },
  "language_info": {
   "codemirror_mode": {
    "name": "ipython",
    "version": 3
   },
   "file_extension": ".py",
   "mimetype": "text/x-python",
   "name": "python",
   "nbconvert_exporter": "python",
   "pygments_lexer": "ipython3",
   "version": "3.10.10"
  }
 },
 "nbformat": 4,
 "nbformat_minor": 5
}
