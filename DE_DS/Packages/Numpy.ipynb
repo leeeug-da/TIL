{
 "cells": [
  {
   "cell_type": "markdown",
   "id": "f58be0b2-700c-4c64-9a5d-83e8f6dfb302",
   "metadata": {},
   "source": [
    "# **⭐️⭐️ Numpy ⭐️⭐️**"
   ]
  },
  {
   "cell_type": "markdown",
   "id": "1f120187-dd38-47e9-aa6f-792985ac6a3c",
   "metadata": {},
   "source": [
    "*출처 : 파이썬 머신러닝 완벽 가이드 (권철민 저)*"
   ]
  },
  {
   "cell_type": "markdown",
   "id": "f670d359-2975-4ec9-9c50-c2228884cd4d",
   "metadata": {},
   "source": [
    "## **Numpy 개요 🤓**"
   ]
  },
  {
   "cell_type": "markdown",
   "id": "4d9a0469-237c-44f1-bf58-7adaa5794792",
   "metadata": {
    "jp-MarkdownHeadingCollapsed": true
   },
   "source": [
    "### **📍 What is Numpy ?**"
   ]
  },
  {
   "cell_type": "markdown",
   "id": "23ba0552-a072-4c66-a0b4-0e6607e3934f",
   "metadata": {},
   "source": [
    "- *Numerical Python*의 약자\n",
    "- 파이썬의 대표적인 행렬과 선형대수를 다루는 패키지\n",
    "- 머신러닝의 이론적 백그라운드는 선형대수와 통계로 이루어져 있는데, 사이킷런을 비롯한 많은 머신러닝 패키지가 넘파이 기반으로 되어 있다. "
   ]
  },
  {
   "cell_type": "markdown",
   "id": "1bdfe091-c09c-4377-9c25-5f790cebdeb3",
   "metadata": {
    "jp-MarkdownHeadingCollapsed": true
   },
   "source": [
    "### **📍 Why Numpy?**"
   ]
  },
  {
   "cell_type": "markdown",
   "id": "886f073e-b417-4f6c-a32a-09c3cd70502c",
   "metadata": {},
   "source": [
    "- 머신러닝 알고리즘이 대부분 넘파이 기반으로 되어있어서.\n",
    "- 이들 알고리즘의 입력/출력 데이터를 **Numpy 배열 타입** 으로 사용하기 때문.\n",
    "- Numpy 의 **배열을 다루는 기본 방식**은 또 다른 중요한 데이터 핸들링 패키지, **Pandas** 를 이해하는 것과도 밀접함."
   ]
  },
  {
   "cell_type": "markdown",
   "id": "d34aa308-bf5a-4a6b-9590-bc7f9022e526",
   "metadata": {
    "jp-MarkdownHeadingCollapsed": true
   },
   "source": [
    "### **📍 Numpy의 기본 데이터 배열 | `ndarray`**"
   ]
  },
  {
   "cell_type": "markdown",
   "id": "2d84cf85-bf81-4879-a375-3c80f38f1a9a",
   "metadata": {},
   "source": [
    "- Numpy 기반 데이터 배열은 ndarray\n",
    "- ndarray 를 이용해 Numpy에서 다차원 (Multi-dimension) 배열을 쉽게 생성하고, 다양한 연산을 수행 할 수 있다."
   ]
  },
  {
   "cell_type": "markdown",
   "id": "0428d891-7a52-4d8f-83ac-0ecf0f50838e",
   "metadata": {
    "jp-MarkdownHeadingCollapsed": true
   },
   "source": [
    "### **📍 Numpy의 기본 데이터 타입**"
   ]
  },
  {
   "cell_type": "markdown",
   "id": "15835df0-bd0c-489d-9a3c-d1aacb51c36d",
   "metadata": {},
   "source": [
    "- int, str, bool 등 모두 가능\n",
    "- ndarray내의 데이터 타입은 그 연산의 특성상 **같은 테이터 타입만 가능**\n",
    "- 만약, 다른 데이터 유형이 섞여 있는 리스트를 ndarray로 변환시, **데이터 크기가 더 큰** 데이터 타입으로 **형 변환을 일괄적용** 한다.\n",
    "- 데이터 타입은 `.dtype` 으로 확인 가능"
   ]
  },
  {
   "cell_type": "code",
   "execution_count": 10,
   "id": "0552b806-889d-49e3-86af-06515bb4b3ea",
   "metadata": {},
   "outputs": [
    {
     "name": "stdout",
     "output_type": "stream",
     "text": [
      "['1' '2' 'test'] <U21\n"
     ]
    }
   ],
   "source": [
    "# 다른 데이터 유형의 데이터 크기가 더 큰 데이터 타입으로 형 변환 일곽적용 예시 (1) - int to str\n",
    "list1 = [1, 2, 'test']\n",
    "array1 = np.array(list1)\n",
    "print(array1, array1.dtype)"
   ]
  },
  {
   "cell_type": "code",
   "execution_count": 11,
   "id": "ddf56a4e-420e-488a-8c09-a625607757a4",
   "metadata": {},
   "outputs": [
    {
     "name": "stdout",
     "output_type": "stream",
     "text": [
      "[1.  2.  3.2] float64\n"
     ]
    }
   ],
   "source": [
    "# 다른 데이터 유형의 데이터 크기가 더 큰 데이터 타입으로 형 변환 일곽적용 예시 (2) - int to float\n",
    "list2 = [1, 2, 3.2]\n",
    "array2 = np.array(list2)\n",
    "print(array2, array2.dtype)"
   ]
  },
  {
   "cell_type": "markdown",
   "id": "17d59801-c261-465b-8923-c51a144e9989",
   "metadata": {},
   "source": [
    "## **Get into Numpy 👾**"
   ]
  },
  {
   "cell_type": "markdown",
   "id": "672f3395-40e9-4157-ba4c-70c187485e39",
   "metadata": {
    "jp-MarkdownHeadingCollapsed": true
   },
   "source": [
    "### **📍 Numpy 불러오기**"
   ]
  },
  {
   "cell_type": "code",
   "execution_count": 2,
   "id": "db299613-6a00-4171-a9b8-b49376c180f2",
   "metadata": {},
   "outputs": [],
   "source": [
    "import numpy as np"
   ]
  },
  {
   "cell_type": "markdown",
   "id": "d5320d0f-c4c9-46c0-896d-09951ef2efdc",
   "metadata": {
    "jp-MarkdownHeadingCollapsed": true
   },
   "source": [
    "### **📍 ndarray 생성** "
   ]
  },
  {
   "cell_type": "markdown",
   "id": "97a83102-77d7-45b4-9fd0-37edf79dfa10",
   "metadata": {
    "jp-MarkdownHeadingCollapsed": true
   },
   "source": [
    "#### **1. `numpy.array()`**"
   ]
  },
  {
   "cell_type": "markdown",
   "id": "5162c728-4d32-4dbc-9f8c-362951f61e94",
   "metadata": {},
   "source": [
    "- `array()` 함수의 인자로는, 기본적으로 파이썬의 **리스트** 객체가 주로 사용됨\n",
    "  - `[]`: 1차원 생성\n",
    "  - `[[]]` : 2차원 생성"
   ]
  },
  {
   "cell_type": "markdown",
   "id": "4fe1eb01-6539-40f8-92e4-d6cba18dad64",
   "metadata": {},
   "source": [
    "##### **1-1. 1차원 array 생성**"
   ]
  },
  {
   "cell_type": "code",
   "execution_count": 6,
   "id": "f795d999-8b19-4548-9073-ec7cbe6f2644",
   "metadata": {},
   "outputs": [
    {
     "name": "stdout",
     "output_type": "stream",
     "text": [
      "[1 2 3]\n",
      "(3,)\n"
     ]
    }
   ],
   "source": [
    "array1 = np.array([1, 2 ,3])\n",
    "print(array1)\n",
    "print(array1.shape)"
   ]
  },
  {
   "cell_type": "markdown",
   "id": "b8ddd45b-b29a-4a7b-bbc3-1d6e6f6b247f",
   "metadata": {},
   "source": [
    "##### **1-2. 2차원 array 생성**\n",
    "* 2차원 데이터부터 *로우* 와 *칼럼* 으로 구성"
   ]
  },
  {
   "cell_type": "code",
   "execution_count": 7,
   "id": "0efea727-a18f-429a-af90-77521f934316",
   "metadata": {},
   "outputs": [
    {
     "name": "stdout",
     "output_type": "stream",
     "text": [
      "[[1 2 3]\n",
      " [4 5 6]]\n",
      "(2, 3)\n"
     ]
    }
   ],
   "source": [
    "array2 = np.array([[1, 2, 3],\n",
    "                  [4, 5, 6]])\n",
    "print(array2)\n",
    "print(array2.shape)"
   ]
  },
  {
   "cell_type": "code",
   "execution_count": 8,
   "id": "33e764da-677a-4c8f-9f07-6c7cbcf56fa4",
   "metadata": {},
   "outputs": [
    {
     "name": "stdout",
     "output_type": "stream",
     "text": [
      "[[1 2 3]]\n",
      "(1, 3)\n"
     ]
    }
   ],
   "source": [
    "array3 = np.array([[1, 2, 3]])\n",
    "print(array3)\n",
    "print(array3.shape)"
   ]
  },
  {
   "cell_type": "markdown",
   "id": "c9e238d5-3e1e-4bca-94eb-1182cdd1af37",
   "metadata": {
    "jp-MarkdownHeadingCollapsed": true
   },
   "source": [
    "#### **2. `numpy.arange()`**"
   ]
  },
  {
   "cell_type": "markdown",
   "id": "d95caf4a-6146-424f-a4c7-7f0fa817b56d",
   "metadata": {},
   "source": [
    "* 파이썬의 `range()` 와 유사한 기능\n",
    "* <start 값> ~ <stop 값 -1> 까지의 값을 순차적으로 ndarray의 데이터값으로 변환"
   ]
  },
  {
   "cell_type": "code",
   "execution_count": 4,
   "id": "bbba1308-4efc-4a0d-ae31-793163e608b7",
   "metadata": {},
   "outputs": [
    {
     "data": {
      "text/plain": [
       "array([0, 1, 2, 3, 4, 5, 6, 7, 8, 9])"
      ]
     },
     "execution_count": 4,
     "metadata": {},
     "output_type": "execute_result"
    }
   ],
   "source": [
    "array_arange = np.arange(10)\n",
    "array_arange"
   ]
  },
  {
   "cell_type": "markdown",
   "id": "821d440f-344e-4720-966f-f1fd0c041de8",
   "metadata": {
    "jp-MarkdownHeadingCollapsed": true
   },
   "source": [
    "#### **3. `numpy.zeros()`**"
   ]
  },
  {
   "cell_type": "markdown",
   "id": "7386429b-238c-48ff-935a-718903ead95e",
   "metadata": {},
   "source": [
    "* 튜플 형태의 shape 값을 입력하면, 0으로 채워진 ndarray를 반환\n",
    "* dtype 을 지정해주지 않으면, 기본으로 float64 형의 데이터로 ndarray를 채움 "
   ]
  },
  {
   "cell_type": "code",
   "execution_count": 7,
   "id": "7c96a6c7-7344-4412-946b-67a6560f7ebc",
   "metadata": {},
   "outputs": [
    {
     "data": {
      "text/plain": [
       "array([[0., 0., 0.],\n",
       "       [0., 0., 0.]])"
      ]
     },
     "execution_count": 7,
     "metadata": {},
     "output_type": "execute_result"
    }
   ],
   "source": [
    "# dtype 지정 X\n",
    "array_zeros_default = np.zeros((2,3))\n",
    "array_zeros_default"
   ]
  },
  {
   "cell_type": "code",
   "execution_count": 8,
   "id": "4ce0845f-904d-412f-a72d-b87aa6447dd6",
   "metadata": {},
   "outputs": [
    {
     "data": {
      "text/plain": [
       "array([[0, 0, 0],\n",
       "       [0, 0, 0]], dtype=int32)"
      ]
     },
     "execution_count": 8,
     "metadata": {},
     "output_type": "execute_result"
    }
   ],
   "source": [
    "# dtype 지정 ('int32')\n",
    "array_zeros_int = np.zeros((2,3), dtype='int32')\n",
    "array_zeros_int"
   ]
  },
  {
   "cell_type": "markdown",
   "id": "ab495932-b5b3-478a-9706-05e8193d620a",
   "metadata": {
    "jp-MarkdownHeadingCollapsed": true
   },
   "source": [
    "#### **4. `numpy.ones()`**"
   ]
  },
  {
   "cell_type": "markdown",
   "id": "3851a1d8-dd35-4ee2-81c8-2d3ee30dc8ee",
   "metadata": {},
   "source": [
    "* 튜플 형태의 shape 값을 입력하면, 1으로 채워진 ndarray를 반환\n",
    "* dtype 을 지정해주지 않으면, 기본으로 float64 형의 데이터로 ndarray를 채움"
   ]
  },
  {
   "cell_type": "code",
   "execution_count": 9,
   "id": "88f7e44b-66f9-4826-ad9b-741c386aff8b",
   "metadata": {},
   "outputs": [
    {
     "data": {
      "text/plain": [
       "array([[1, 1],\n",
       "       [1, 1]], dtype=int32)"
      ]
     },
     "execution_count": 9,
     "metadata": {},
     "output_type": "execute_result"
    }
   ],
   "source": [
    "array_ones_int = np.ones((2,2), dtype='int32')\n",
    "array_ones_int"
   ]
  },
  {
   "cell_type": "markdown",
   "id": "f2d43ebd-26a0-4284-8136-8d0adebfce34",
   "metadata": {
    "jp-MarkdownHeadingCollapsed": true
   },
   "source": [
    "### **📍 데이터 확인**"
   ]
  },
  {
   "cell_type": "markdown",
   "id": "01876789-dec5-4114-a916-605300b95b45",
   "metadata": {},
   "source": [
    "#### **`.shape`**"
   ]
  },
  {
   "cell_type": "markdown",
   "id": "799856f5-530e-4f9d-b7f5-4d4be2c0b5e1",
   "metadata": {},
   "source": [
    "#### **`.dtype`**"
   ]
  },
  {
   "cell_type": "markdown",
   "id": "2100e0ad-b415-4691-a379-ba9de0a1d869",
   "metadata": {
    "jp-MarkdownHeadingCollapsed": true
   },
   "source": [
    "### **📍 데이터 타입/차원 변경**"
   ]
  },
  {
   "cell_type": "markdown",
   "id": "f3f5d3b4-fd91-4b9e-961b-83ebbd2425e1",
   "metadata": {
    "jp-MarkdownHeadingCollapsed": true
   },
   "source": [
    "#### **`.astype('')` - 타입 변경**"
   ]
  },
  {
   "cell_type": "markdown",
   "id": "ce480c74-b23b-49cc-96ba-ceeb260a3a5c",
   "metadata": {},
   "source": [
    "* `()` 인자로 원하는 타입을 지정\n",
    "* 이렇게 데이터 타입을 변경하는 경우는, 대용량 데이터의 ndarray를 만들 때 많은 메모리가 사용되는데, 메모리를 절약할 때 보통 이용된다 (예: float->int 로 변경시 메모리가 절약된다.)\n",
    "  * 대부분의 머신러닝 알고리즘은 데이터를 전체 로딩한 다음, 이를 기반으로 알고리즘을 적용하기 때문에 대용량의 데이터를 로딩할 때는 수행속도가 느려지거나, 메모리 부족으로 인한 오류가 왕왕 발생한다."
   ]
  },
  {
   "cell_type": "code",
   "execution_count": 22,
   "id": "c72a8049-15e5-4cac-b7c9-e83e148eafae",
   "metadata": {},
   "outputs": [
    {
     "name": "stdout",
     "output_type": "stream",
     "text": [
      "array_float:  [1. 2. 3.] float64\n",
      "array_int:  [1 2 3] int32\n",
      "array_str:  ['1' '2' '3'] <U11\n"
     ]
    }
   ],
   "source": [
    "array_float = np.array([1.0,2.0,3.0])\n",
    "array_int = array_float.astype('int32')\n",
    "array_str = array_int.astype('str')\n",
    "\n",
    "print('array_float: ', array_float, array_float.dtype)\n",
    "print('array_int: ', array_int, array_int.dtype)\n",
    "print('array_str: ', array_str, array_str.dtype)"
   ]
  },
  {
   "cell_type": "markdown",
   "id": "24ae7fc6-ca54-43fb-9321-6237996092a7",
   "metadata": {
    "jp-MarkdownHeadingCollapsed": true
   },
   "source": [
    "#### **`.reshape()` - 차원 변경**"
   ]
  },
  {
   "cell_type": "markdown",
   "id": "254997ea-4fd6-4a2f-a560-11b92e1cfa5e",
   "metadata": {},
   "source": [
    "**<개요>**\n",
    "* ndarray를 특정 **차원** 및 **크기**로 변환\n",
    "* `.reshape(row, column)`\n",
    "* 지정된 사이즈로 변경이 불가능하다면, 오류를 반환함. (예를들어, 10개의 데이터를 3,3 즉 9개의 데이터프레임에 넣을 수 없음)\n",
    "\n",
    "**<`.reshape(-1,*)` / `.reshape(*,-1)`>**\n",
    "* -1을 인자로 사용하면, 호환되는 새로운 shape으로 변환 해 줌\n",
    "* 위와 마찬가지로, 지정된 사이즈로 변경이 불가능하다면, 오류를 반환함.\n",
    "\n",
    "**<가장 많이 활용되는 예: `.reshape(-1, 1)`>**\n",
    "* 원본 ndarray가 어떤 형태라도 **2차원**이고, 여러개의 로우를 가지되, 반드시 **1개의 컬럼**을 가진 shape으로 변환\n",
    "* 여러 개의 넘파이 ndarray는 stack이나 concat으로 결합할 때, 각각의 ndarray의 형태를 통일해 유용하게 사용됨"
   ]
  },
  {
   "cell_type": "code",
   "execution_count": 12,
   "id": "eff31a44-db96-48c7-816e-b9b46184505a",
   "metadata": {},
   "outputs": [
    {
     "name": "stdout",
     "output_type": "stream",
     "text": [
      "array_origin:  [0 1 2 3 4 5 6 7 8 9]\n",
      "array_reshape:\n",
      " [[0 1 2 3 4]\n",
      " [5 6 7 8 9]]\n"
     ]
    }
   ],
   "source": [
    "# 개요\n",
    "array_origin = np.arange(10)\n",
    "array_reshape = array_origin.reshape(2,5)\n",
    "\n",
    "print('array_origin: ', array_origin)\n",
    "print('array_reshape:\\n', array_reshape)"
   ]
  },
  {
   "cell_type": "code",
   "execution_count": 14,
   "id": "24d337fa-17af-4c33-b227-7f739f849a08",
   "metadata": {},
   "outputs": [
    {
     "name": "stdout",
     "output_type": "stream",
     "text": [
      "array1:\n",
      " [[0 1 2 3 4]\n",
      " [5 6 7 8 9]]\n",
      "array2:\n",
      " [[0 1]\n",
      " [2 3]\n",
      " [4 5]\n",
      " [6 7]\n",
      " [8 9]]\n"
     ]
    }
   ],
   "source": [
    "# .reshape(-1,*) / .reshape(*,-1)\n",
    "array1 = array_origin.reshape(-1, 5)\n",
    "array2 = array_origin.reshape(5, -1)\n",
    "\n",
    "print('array1:\\n', array1)\n",
    "print('array2:\\n', array2)"
   ]
  },
  {
   "cell_type": "code",
   "execution_count": 17,
   "id": "4850bca0-cc50-442c-adc7-e9bba83b6ae0",
   "metadata": {
    "scrolled": true
   },
   "outputs": [
    {
     "name": "stdout",
     "output_type": "stream",
     "text": [
      "array1d:\n",
      " [0 1 2 3 4 5 6 7]\n",
      "array3d:\n",
      " [[[0 1]\n",
      "  [2 3]]\n",
      "\n",
      " [[4 5]\n",
      "  [6 7]]]\n",
      "array2d:\n",
      " [[0]\n",
      " [1]\n",
      " [2]\n",
      " [3]\n",
      " [4]\n",
      " [5]\n",
      " [6]\n",
      " [7]]\n",
      "array2d_1:\n",
      " [[0]\n",
      " [1]\n",
      " [2]\n",
      " [3]\n",
      " [4]\n",
      " [5]\n",
      " [6]\n",
      " [7]]\n"
     ]
    }
   ],
   "source": [
    "# 가장 많이 활용되는 예: .reshape(-1, 1)\n",
    "\n",
    "# 재료\n",
    "array1d = np.arange(8) # 1차원 데이터\n",
    "array3d = array1d.reshape(2,2,2) # 3차원 데이터\n",
    "\n",
    "# 1차원 데이터 -> 2차원 데이터\n",
    "array2d = array1d.reshape(-1, 1)\n",
    "\n",
    "# 3차원 데이터 -> 2차원 데이터\n",
    "array2d_1 = array3d.reshape(-1, 1)\n",
    "\n",
    "print('array1d:\\n', array1d)\n",
    "print('array3d:\\n', array3d)\n",
    "print('array2d:\\n', array2d)\n",
    "print('array2d_1:\\n', array2d_1)"
   ]
  },
  {
   "cell_type": "markdown",
   "id": "abd6a700-1f55-4f6e-9518-c7bb24473d70",
   "metadata": {},
   "source": [
    "### **📍 특정 데이터 추출 | 인덱싱**"
   ]
  },
  {
   "cell_type": "markdown",
   "id": "ae1addfb-1714-4c12-8dae-69060a6b9534",
   "metadata": {},
   "source": [
    "#### **단일 값 추출**"
   ]
  },
  {
   "cell_type": "markdown",
   "id": "2a870f9f-4af0-48d7-99dc-13998802f076",
   "metadata": {},
   "source": []
  },
  {
   "cell_type": "markdown",
   "id": "2e866b88-f273-43af-92ce-adbaf02fa727",
   "metadata": {},
   "source": [
    "#### **슬라이싱 `[:]`**"
   ]
  },
  {
   "cell_type": "markdown",
   "id": "83fd642f-7bbf-491b-b854-039a46640718",
   "metadata": {},
   "source": []
  },
  {
   "cell_type": "markdown",
   "id": "7632f9cc-e2dc-44a2-928b-6728a7a99b49",
   "metadata": {},
   "source": [
    "#### **팬시 인덱싱 (Fancy Indexing)**"
   ]
  },
  {
   "cell_type": "markdown",
   "id": "927f674d-9b18-49a5-a55c-05601baa93b9",
   "metadata": {},
   "source": []
  },
  {
   "cell_type": "markdown",
   "id": "696c8682-1ac2-40c0-95cb-4d6a72bdb365",
   "metadata": {},
   "source": [
    "#### **불린(조건) 인덱싱 (Boolean Indexing)**"
   ]
  },
  {
   "cell_type": "markdown",
   "id": "d0c9532a-7387-449f-8e05-65dbaf888e34",
   "metadata": {},
   "source": []
  },
  {
   "cell_type": "markdown",
   "id": "9999cd0b-61d7-4b01-8de5-3fb7fd7fbbea",
   "metadata": {
    "jp-MarkdownHeadingCollapsed": true
   },
   "source": [
    "### **📍 행렬의 정렬**"
   ]
  },
  {
   "cell_type": "code",
   "execution_count": null,
   "id": "786f8b36-23ca-4488-97d7-dacfada59edc",
   "metadata": {},
   "outputs": [],
   "source": []
  },
  {
   "cell_type": "markdown",
   "id": "cf8d54ac-0b5d-486c-840c-737acc80bc4d",
   "metadata": {
    "jp-MarkdownHeadingCollapsed": true
   },
   "source": [
    "### **📍 선형대수 연산 | 행렬 내적, 전치 행렬**"
   ]
  },
  {
   "cell_type": "code",
   "execution_count": null,
   "id": "200cf85d-32dd-4297-91f8-48a95626e323",
   "metadata": {},
   "outputs": [],
   "source": []
  }
 ],
 "metadata": {
  "kernelspec": {
   "display_name": "Python 3 (ipykernel)",
   "language": "python",
   "name": "python3"
  },
  "language_info": {
   "codemirror_mode": {
    "name": "ipython",
    "version": 3
   },
   "file_extension": ".py",
   "mimetype": "text/x-python",
   "name": "python",
   "nbconvert_exporter": "python",
   "pygments_lexer": "ipython3",
   "version": "3.10.10"
  }
 },
 "nbformat": 4,
 "nbformat_minor": 5
}
