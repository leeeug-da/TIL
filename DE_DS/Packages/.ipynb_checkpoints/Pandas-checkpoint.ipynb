{
 "cells": [
  {
   "cell_type": "markdown",
   "id": "74802ce9-782f-4570-bd18-0f22ce9ba577",
   "metadata": {},
   "source": [
    "# **⭐️⭐️ Pandas ⭐️⭐️**"
   ]
  },
  {
   "cell_type": "markdown",
   "id": "5898518a-cc63-4b53-9a1b-98e07c9f3fb3",
   "metadata": {},
   "source": [
    "*출처 : 파이썬 머신러닝 완벽 가이드 (권철민 저)*"
   ]
  },
  {
   "cell_type": "markdown",
   "id": "f23cff4f-5a33-4b64-bd8a-e6d0f9af4992",
   "metadata": {
    "jp-MarkdownHeadingCollapsed": true
   },
   "source": [
    "## **Pandas 개요 🤓**"
   ]
  },
  {
   "cell_type": "markdown",
   "id": "74d285ee-2eea-4472-bd72-79bfc9345abe",
   "metadata": {},
   "source": [
    "### **📍 What is Pandas ?**"
   ]
  },
  {
   "cell_type": "markdown",
   "id": "3296c8bf-f928-4c5e-a98a-6a11e22e403a",
   "metadata": {},
   "source": [
    "- 파이썬의 대표적인 데이터 처리 패키지\n",
    "- 2차원 데이터 처리에 특화되어 있으며, 맷플롯립을 호출해 쉽게 시각화 기능을 지원 "
   ]
  },
  {
   "cell_type": "markdown",
   "id": "99cf5e48-44df-42dc-9258-d2490a465422",
   "metadata": {},
   "source": [
    "## **Get into \bPandas 👾**"
   ]
  },
  {
   "cell_type": "markdown",
   "id": "5fc5de37-bcfb-442e-b182-bc39790c1b03",
   "metadata": {},
   "source": [
    "### **📍 Pandas 불러오기**"
   ]
  },
  {
   "cell_type": "code",
   "execution_count": 2,
   "id": "82e4b5a4-0d85-488d-9a9b-ed2c16496aa3",
   "metadata": {},
   "outputs": [],
   "source": [
    "import pandas as pd"
   ]
  },
  {
   "cell_type": "markdown",
   "id": "d9416961-2527-4ddf-870a-54b009a1366f",
   "metadata": {},
   "source": [
    "### **📍 Pandas Data Type**"
   ]
  },
  {
   "cell_type": "markdown",
   "id": "10c7529d-17d2-4725-980e-0fd4846e99ad",
   "metadata": {},
   "source": [
    "1. Series : Index와 단 하나의 칼럼으로 구성된 데이터 구조체\n",
    "2. Data Frame : 칼럼이 여러 개인 데이터 구조체 (여러 개의 Series로 이루어졌다고 할 수 있다.)"
   ]
  },
  {
   "cell_type": "markdown",
   "id": "836eed55-159b-41e8-9225-0c04fa79590f",
   "metadata": {},
   "source": [
    "### **📍 데이터 불러오기**"
   ]
  },
  {
   "cell_type": "code",
   "execution_count": 3,
   "id": "754cb5fa-a2be-4cc7-949b-b71e3d26e05b",
   "metadata": {},
   "outputs": [],
   "source": [
    "titanic_df = pd.read_csv('./Data/titanic_train.csv')"
   ]
  },
  {
   "cell_type": "markdown",
   "id": "a66161e2-e1b0-4ccb-afff-f5a6e54e6131",
   "metadata": {},
   "source": [
    "### **📍 데이터 확인하기**"
   ]
  },
  {
   "cell_type": "markdown",
   "id": "5e5f6317-e781-428d-9ed6-ee4074d017b6",
   "metadata": {},
   "source": [
    "#### **1. `.head()`**"
   ]
  },
  {
   "cell_type": "markdown",
   "id": "77aeb01f-9695-4084-916c-79cae794ef66",
   "metadata": {},
   "source": [
    "- 설명"
   ]
  },
  {
   "cell_type": "code",
   "execution_count": 4,
   "id": "ced75e36-9d66-4b75-9bc9-9d3d5e1095e4",
   "metadata": {},
   "outputs": [
    {
     "data": {
      "text/html": [
       "<div>\n",
       "<style scoped>\n",
       "    .dataframe tbody tr th:only-of-type {\n",
       "        vertical-align: middle;\n",
       "    }\n",
       "\n",
       "    .dataframe tbody tr th {\n",
       "        vertical-align: top;\n",
       "    }\n",
       "\n",
       "    .dataframe thead th {\n",
       "        text-align: right;\n",
       "    }\n",
       "</style>\n",
       "<table border=\"1\" class=\"dataframe\">\n",
       "  <thead>\n",
       "    <tr style=\"text-align: right;\">\n",
       "      <th></th>\n",
       "      <th>PassengerId</th>\n",
       "      <th>Survived</th>\n",
       "      <th>Pclass</th>\n",
       "      <th>Name</th>\n",
       "      <th>Sex</th>\n",
       "      <th>Age</th>\n",
       "      <th>SibSp</th>\n",
       "      <th>Parch</th>\n",
       "      <th>Ticket</th>\n",
       "      <th>Fare</th>\n",
       "      <th>Cabin</th>\n",
       "      <th>Embarked</th>\n",
       "    </tr>\n",
       "  </thead>\n",
       "  <tbody>\n",
       "    <tr>\n",
       "      <th>0</th>\n",
       "      <td>1</td>\n",
       "      <td>0</td>\n",
       "      <td>3</td>\n",
       "      <td>Braund, Mr. Owen Harris</td>\n",
       "      <td>male</td>\n",
       "      <td>22.0</td>\n",
       "      <td>1</td>\n",
       "      <td>0</td>\n",
       "      <td>A/5 21171</td>\n",
       "      <td>7.2500</td>\n",
       "      <td>NaN</td>\n",
       "      <td>S</td>\n",
       "    </tr>\n",
       "    <tr>\n",
       "      <th>1</th>\n",
       "      <td>2</td>\n",
       "      <td>1</td>\n",
       "      <td>1</td>\n",
       "      <td>Cumings, Mrs. John Bradley (Florence Briggs Th...</td>\n",
       "      <td>female</td>\n",
       "      <td>38.0</td>\n",
       "      <td>1</td>\n",
       "      <td>0</td>\n",
       "      <td>PC 17599</td>\n",
       "      <td>71.2833</td>\n",
       "      <td>C85</td>\n",
       "      <td>C</td>\n",
       "    </tr>\n",
       "    <tr>\n",
       "      <th>2</th>\n",
       "      <td>3</td>\n",
       "      <td>1</td>\n",
       "      <td>3</td>\n",
       "      <td>Heikkinen, Miss. Laina</td>\n",
       "      <td>female</td>\n",
       "      <td>26.0</td>\n",
       "      <td>0</td>\n",
       "      <td>0</td>\n",
       "      <td>STON/O2. 3101282</td>\n",
       "      <td>7.9250</td>\n",
       "      <td>NaN</td>\n",
       "      <td>S</td>\n",
       "    </tr>\n",
       "  </tbody>\n",
       "</table>\n",
       "</div>"
      ],
      "text/plain": [
       "   PassengerId  Survived  Pclass  \\\n",
       "0            1         0       3   \n",
       "1            2         1       1   \n",
       "2            3         1       3   \n",
       "\n",
       "                                                Name     Sex   Age  SibSp  \\\n",
       "0                            Braund, Mr. Owen Harris    male  22.0      1   \n",
       "1  Cumings, Mrs. John Bradley (Florence Briggs Th...  female  38.0      1   \n",
       "2                             Heikkinen, Miss. Laina  female  26.0      0   \n",
       "\n",
       "   Parch            Ticket     Fare Cabin Embarked  \n",
       "0      0         A/5 21171   7.2500   NaN        S  \n",
       "1      0          PC 17599  71.2833   C85        C  \n",
       "2      0  STON/O2. 3101282   7.9250   NaN        S  "
      ]
     },
     "execution_count": 4,
     "metadata": {},
     "output_type": "execute_result"
    }
   ],
   "source": [
    "titanic_df.head(3)"
   ]
  },
  {
   "cell_type": "markdown",
   "id": "1336b850-ea58-4988-b315-356800b30cd6",
   "metadata": {},
   "source": [
    "#### **2. `.shape()`**"
   ]
  },
  {
   "cell_type": "markdown",
   "id": "4a06034f-fe87-43e9-a32e-c3a737be90af",
   "metadata": {},
   "source": [
    "- 설명"
   ]
  },
  {
   "cell_type": "code",
   "execution_count": 5,
   "id": "3b1e2035-0882-4ee4-ae94-f4200a284685",
   "metadata": {},
   "outputs": [
    {
     "data": {
      "text/plain": [
       "(891, 12)"
      ]
     },
     "execution_count": 5,
     "metadata": {},
     "output_type": "execute_result"
    }
   ],
   "source": [
    "titanic_df.shape"
   ]
  },
  {
   "cell_type": "markdown",
   "id": "66626888-1201-46b3-ae6e-9063346fa2a5",
   "metadata": {},
   "source": [
    "#### **3. `.info()`**"
   ]
  },
  {
   "cell_type": "markdown",
   "id": "96accc08-ea1d-448b-b31d-59d98d3736fe",
   "metadata": {},
   "source": [
    "- 설명"
   ]
  },
  {
   "cell_type": "code",
   "execution_count": 7,
   "id": "4e46ac54-07fb-43dd-9c7d-80fb0d9e1259",
   "metadata": {
    "scrolled": true
   },
   "outputs": [
    {
     "name": "stdout",
     "output_type": "stream",
     "text": [
      "<class 'pandas.core.frame.DataFrame'>\n",
      "RangeIndex: 891 entries, 0 to 890\n",
      "Data columns (total 12 columns):\n",
      " #   Column       Non-Null Count  Dtype  \n",
      "---  ------       --------------  -----  \n",
      " 0   PassengerId  891 non-null    int64  \n",
      " 1   Survived     891 non-null    int64  \n",
      " 2   Pclass       891 non-null    int64  \n",
      " 3   Name         891 non-null    object \n",
      " 4   Sex          891 non-null    object \n",
      " 5   Age          714 non-null    float64\n",
      " 6   SibSp        891 non-null    int64  \n",
      " 7   Parch        891 non-null    int64  \n",
      " 8   Ticket       891 non-null    object \n",
      " 9   Fare         891 non-null    float64\n",
      " 10  Cabin        204 non-null    object \n",
      " 11  Embarked     889 non-null    object \n",
      "dtypes: float64(2), int64(5), object(5)\n",
      "memory usage: 83.7+ KB\n"
     ]
    }
   ],
   "source": [
    "titanic_df.info()"
   ]
  },
  {
   "cell_type": "markdown",
   "id": "8c184e87-e4b1-4fae-8414-c8018b8d0c88",
   "metadata": {},
   "source": [
    "#### **4. `.describe()`**"
   ]
  },
  {
   "cell_type": "markdown",
   "id": "7b2e9ed0-498d-4048-baff-b1fd03fe5e9f",
   "metadata": {},
   "source": [
    "- 설명"
   ]
  },
  {
   "cell_type": "code",
   "execution_count": 8,
   "id": "277e3113-7d3f-4662-a094-383ea2718285",
   "metadata": {},
   "outputs": [
    {
     "data": {
      "text/html": [
       "<div>\n",
       "<style scoped>\n",
       "    .dataframe tbody tr th:only-of-type {\n",
       "        vertical-align: middle;\n",
       "    }\n",
       "\n",
       "    .dataframe tbody tr th {\n",
       "        vertical-align: top;\n",
       "    }\n",
       "\n",
       "    .dataframe thead th {\n",
       "        text-align: right;\n",
       "    }\n",
       "</style>\n",
       "<table border=\"1\" class=\"dataframe\">\n",
       "  <thead>\n",
       "    <tr style=\"text-align: right;\">\n",
       "      <th></th>\n",
       "      <th>PassengerId</th>\n",
       "      <th>Survived</th>\n",
       "      <th>Pclass</th>\n",
       "      <th>Age</th>\n",
       "      <th>SibSp</th>\n",
       "      <th>Parch</th>\n",
       "      <th>Fare</th>\n",
       "    </tr>\n",
       "  </thead>\n",
       "  <tbody>\n",
       "    <tr>\n",
       "      <th>count</th>\n",
       "      <td>891.000000</td>\n",
       "      <td>891.000000</td>\n",
       "      <td>891.000000</td>\n",
       "      <td>714.000000</td>\n",
       "      <td>891.000000</td>\n",
       "      <td>891.000000</td>\n",
       "      <td>891.000000</td>\n",
       "    </tr>\n",
       "    <tr>\n",
       "      <th>mean</th>\n",
       "      <td>446.000000</td>\n",
       "      <td>0.383838</td>\n",
       "      <td>2.308642</td>\n",
       "      <td>29.699118</td>\n",
       "      <td>0.523008</td>\n",
       "      <td>0.381594</td>\n",
       "      <td>32.204208</td>\n",
       "    </tr>\n",
       "    <tr>\n",
       "      <th>std</th>\n",
       "      <td>257.353842</td>\n",
       "      <td>0.486592</td>\n",
       "      <td>0.836071</td>\n",
       "      <td>14.526497</td>\n",
       "      <td>1.102743</td>\n",
       "      <td>0.806057</td>\n",
       "      <td>49.693429</td>\n",
       "    </tr>\n",
       "    <tr>\n",
       "      <th>min</th>\n",
       "      <td>1.000000</td>\n",
       "      <td>0.000000</td>\n",
       "      <td>1.000000</td>\n",
       "      <td>0.420000</td>\n",
       "      <td>0.000000</td>\n",
       "      <td>0.000000</td>\n",
       "      <td>0.000000</td>\n",
       "    </tr>\n",
       "    <tr>\n",
       "      <th>25%</th>\n",
       "      <td>223.500000</td>\n",
       "      <td>0.000000</td>\n",
       "      <td>2.000000</td>\n",
       "      <td>20.125000</td>\n",
       "      <td>0.000000</td>\n",
       "      <td>0.000000</td>\n",
       "      <td>7.910400</td>\n",
       "    </tr>\n",
       "    <tr>\n",
       "      <th>50%</th>\n",
       "      <td>446.000000</td>\n",
       "      <td>0.000000</td>\n",
       "      <td>3.000000</td>\n",
       "      <td>28.000000</td>\n",
       "      <td>0.000000</td>\n",
       "      <td>0.000000</td>\n",
       "      <td>14.454200</td>\n",
       "    </tr>\n",
       "    <tr>\n",
       "      <th>75%</th>\n",
       "      <td>668.500000</td>\n",
       "      <td>1.000000</td>\n",
       "      <td>3.000000</td>\n",
       "      <td>38.000000</td>\n",
       "      <td>1.000000</td>\n",
       "      <td>0.000000</td>\n",
       "      <td>31.000000</td>\n",
       "    </tr>\n",
       "    <tr>\n",
       "      <th>max</th>\n",
       "      <td>891.000000</td>\n",
       "      <td>1.000000</td>\n",
       "      <td>3.000000</td>\n",
       "      <td>80.000000</td>\n",
       "      <td>8.000000</td>\n",
       "      <td>6.000000</td>\n",
       "      <td>512.329200</td>\n",
       "    </tr>\n",
       "  </tbody>\n",
       "</table>\n",
       "</div>"
      ],
      "text/plain": [
       "       PassengerId    Survived      Pclass         Age       SibSp  \\\n",
       "count   891.000000  891.000000  891.000000  714.000000  891.000000   \n",
       "mean    446.000000    0.383838    2.308642   29.699118    0.523008   \n",
       "std     257.353842    0.486592    0.836071   14.526497    1.102743   \n",
       "min       1.000000    0.000000    1.000000    0.420000    0.000000   \n",
       "25%     223.500000    0.000000    2.000000   20.125000    0.000000   \n",
       "50%     446.000000    0.000000    3.000000   28.000000    0.000000   \n",
       "75%     668.500000    1.000000    3.000000   38.000000    1.000000   \n",
       "max     891.000000    1.000000    3.000000   80.000000    8.000000   \n",
       "\n",
       "            Parch        Fare  \n",
       "count  891.000000  891.000000  \n",
       "mean     0.381594   32.204208  \n",
       "std      0.806057   49.693429  \n",
       "min      0.000000    0.000000  \n",
       "25%      0.000000    7.910400  \n",
       "50%      0.000000   14.454200  \n",
       "75%      0.000000   31.000000  \n",
       "max      6.000000  512.329200  "
      ]
     },
     "execution_count": 8,
     "metadata": {},
     "output_type": "execute_result"
    }
   ],
   "source": [
    "titanic_df.describe()"
   ]
  },
  {
   "cell_type": "markdown",
   "id": "53fff368-ac8a-4925-a687-dce6304815e7",
   "metadata": {},
   "source": [
    "##### **n-percentile (25%, 50%, 75%)**"
   ]
  },
  {
   "cell_type": "markdown",
   "id": "09c0a97f-32c8-4f32-aae2-92cf3ff6e82b",
   "metadata": {},
   "source": [
    "Pclass 에 해당하는 데이터 값들을 오름차순으로 정렬했을 때 (낮은 값 -> 높은 값)\n",
    "- 앞 25% 구간에 해당하는 데이터는 2\n",
    "- 50% 구간에 해당하는 데이터는 3\n",
    "- 75% 구간에 해당하는 데이터는 3"
   ]
  },
  {
   "cell_type": "markdown",
   "id": "73e3b16d-26e2-4d41-91e6-18c39a12ac0b",
   "metadata": {},
   "source": [
    "`min` ~ `max` 가 `1` ~ `3` 이고, 각 `25%, 50%, 70%` 에 해당하는 데이터들이 `2, 3, 3` 인 것을 미루어 봤을 때,\n",
    "- Pclass의 데이터는 1, 2, 3 으로 이루어진 것을 짐작할 수 있다."
   ]
  },
  {
   "cell_type": "code",
   "execution_count": 6,
   "id": "9ceafc4a-818d-499d-9d10-fb3a81470ef2",
   "metadata": {},
   "outputs": [
    {
     "data": {
      "text/plain": [
       "{1, 2, 3}"
      ]
     },
     "execution_count": 6,
     "metadata": {},
     "output_type": "execute_result"
    }
   ],
   "source": [
    "set(titanic_df['Pclass'].values)"
   ]
  },
  {
   "cell_type": "code",
   "execution_count": 13,
   "id": "a2088d62-94aa-400a-a96f-00648e402e41",
   "metadata": {},
   "outputs": [
    {
     "data": {
      "text/plain": [
       "Pclass\n",
       "3    491\n",
       "1    216\n",
       "2    184\n",
       "Name: count, dtype: int64"
      ]
     },
     "execution_count": 13,
     "metadata": {},
     "output_type": "execute_result"
    }
   ],
   "source": [
    "titanic_pclass = titanic_df['Pclass'].value_counts()\n",
    "titanic_pclass"
   ]
  },
  {
   "cell_type": "markdown",
   "id": "320cdfd8-620a-493e-aa15-229e84dce7e8",
   "metadata": {},
   "source": [
    "#### **5. `df[]`**"
   ]
  },
  {
   "cell_type": "markdown",
   "id": "ecacf82a-7787-47b7-87e8-bc785570e0ce",
   "metadata": {},
   "source": [
    "* 특정 칼럼의 데이터를 시리즈 (; Index와 단 하나의 칼럼으로 구성된 세트) 형태로 반환"
   ]
  },
  {
   "cell_type": "markdown",
   "id": "42445af5-47dc-4c8f-9422-0bce0da04674",
   "metadata": {},
   "source": [
    "#### **6. `.value_counts()`**"
   ]
  },
  {
   "cell_type": "markdown",
   "id": "afd2af1e-d4b3-4305-8f86-bdda3e4db922",
   "metadata": {},
   "source": [
    "* 특정 칼럼의 데이터를 시리즈 (; Index와 단 하나의 칼럼으로 구성된 세트) 형태로 반환\n",
    "-----------------------------------------------------------------------\n",
    "* 기본적으로 Null 값을 무시하고 결괏값을 내놓기 때문에 주의해야 한다.\n",
    "* 기본값은 dropna=True 로 `.value_counts(dropna=True)` 와 동일하고, Null 값을 제외하고 반환한다.\n",
    "* Null 값을 포함해서 카운트 하고 싶다면, `.value_counts(dropna=False)`"
   ]
  },
  {
   "cell_type": "code",
   "execution_count": 25,
   "id": "b1f43d97-2241-4414-8692-3d819dacc9aa",
   "metadata": {},
   "outputs": [
    {
     "data": {
      "text/plain": [
       "Embarked\n",
       "S    644\n",
       "C    168\n",
       "Q     77\n",
       "Name: count, dtype: int64"
      ]
     },
     "execution_count": 25,
     "metadata": {},
     "output_type": "execute_result"
    }
   ],
   "source": [
    "titanic_df['Embarked'].value_counts()"
   ]
  },
  {
   "cell_type": "code",
   "execution_count": 26,
   "id": "144d5857-6326-433b-9e14-7e52ea1cd1a8",
   "metadata": {},
   "outputs": [
    {
     "data": {
      "text/plain": [
       "Embarked\n",
       "S      644\n",
       "C      168\n",
       "Q       77\n",
       "NaN      2\n",
       "Name: count, dtype: int64"
      ]
     },
     "execution_count": 26,
     "metadata": {},
     "output_type": "execute_result"
    }
   ],
   "source": [
    "titanic_df['Embarked'].value_counts(dropna=False)"
   ]
  },
  {
   "cell_type": "code",
   "execution_count": null,
   "id": "f53c1797-4b02-466c-88fe-a4ba17c11f0b",
   "metadata": {},
   "outputs": [],
   "source": []
  }
 ],
 "metadata": {
  "kernelspec": {
   "display_name": "Python 3 (ipykernel)",
   "language": "python",
   "name": "python3"
  },
  "language_info": {
   "codemirror_mode": {
    "name": "ipython",
    "version": 3
   },
   "file_extension": ".py",
   "mimetype": "text/x-python",
   "name": "python",
   "nbconvert_exporter": "python",
   "pygments_lexer": "ipython3",
   "version": "3.10.10"
  }
 },
 "nbformat": 4,
 "nbformat_minor": 5
}
