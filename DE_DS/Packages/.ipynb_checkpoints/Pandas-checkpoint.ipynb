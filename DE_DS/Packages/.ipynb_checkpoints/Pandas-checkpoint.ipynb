{
 "cells": [
  {
   "cell_type": "markdown",
   "id": "5fc5de37-bcfb-442e-b182-bc39790c1b03",
   "metadata": {},
   "source": [
    "## Import Package"
   ]
  },
  {
   "cell_type": "code",
   "execution_count": 1,
   "id": "82e4b5a4-0d85-488d-9a9b-ed2c16496aa3",
   "metadata": {},
   "outputs": [],
   "source": [
    "import pandas as pd"
   ]
  },
  {
   "cell_type": "markdown",
   "id": "d9416961-2527-4ddf-870a-54b009a1366f",
   "metadata": {},
   "source": [
    "## Pandas Data Type\n",
    "1. Series\n",
    "2. Data Frame\n",
    "3. Panel"
   ]
  },
  {
   "cell_type": "markdown",
   "id": "d7e678ee-fb48-4d67-a9b0-76f1304762fd",
   "metadata": {},
   "source": [
    "### 1. Series"
   ]
  },
  {
   "cell_type": "markdown",
   "id": "77e6b9c2-6e93-4d4c-a023-725fc522a139",
   "metadata": {},
   "source": [
    "#### 1-1. 시리즈 생성"
   ]
  },
  {
   "cell_type": "code",
   "execution_count": 2,
   "id": "1491c41c-7db9-4b11-8c46-5bf914286b66",
   "metadata": {},
   "outputs": [
    {
     "data": {
      "text/plain": [
       "americano    4500\n",
       "coldbrew     5500\n",
       "cafelatte    4800\n",
       "dtype: int64"
      ]
     },
     "execution_count": 2,
     "metadata": {},
     "output_type": "execute_result"
    }
   ],
   "source": [
    "# 생성\n",
    "coffee_menu = pd.Series([4500, 5500, 4800], index=['americano',\n",
    "                                                  'coldbrew',\n",
    "                                                  'cafelatte'])\n",
    "coffee_menu"
   ]
  },
  {
   "cell_type": "markdown",
   "id": "6bf0c7f3-b10b-44ce-a731-81363874e50e",
   "metadata": {},
   "source": [
    "#### 1-2. 시리즈 조회"
   ]
  },
  {
   "cell_type": "code",
   "execution_count": 5,
   "id": "448f2336-ba5a-4b1e-85b0-4304d2761e0e",
   "metadata": {},
   "outputs": [
    {
     "name": "stdout",
     "output_type": "stream",
     "text": [
      "[4500 5500 4800]\n",
      "Index(['americano', 'coldbrew', 'cafelatte'], dtype='object')\n"
     ]
    }
   ],
   "source": [
    "# 값 / 인덱스 출력\n",
    "print(coffee_menu.values)\n",
    "print(coffee_menu.index)"
   ]
  },
  {
   "cell_type": "markdown",
   "id": "86101574-f8fe-4b23-83e9-a98e2097cf4f",
   "metadata": {},
   "source": [
    "### 2. Data Frame"
   ]
  },
  {
   "cell_type": "markdown",
   "id": "ae6fd88e-c113-416b-8f9b-11c55c50fc65",
   "metadata": {},
   "source": [
    "#### 2-1. 데이터프레임 생성\n",
    "* 이차원 리스트 (List)\n",
    "* 딕셔너리 (Dictionary)"
   ]
  },
  {
   "cell_type": "code",
   "execution_count": 7,
   "id": "27d3625a-15e2-435b-9131-49abdb1b08f1",
   "metadata": {},
   "outputs": [
    {
     "data": {
      "text/html": [
       "<div>\n",
       "<style scoped>\n",
       "    .dataframe tbody tr th:only-of-type {\n",
       "        vertical-align: middle;\n",
       "    }\n",
       "\n",
       "    .dataframe tbody tr th {\n",
       "        vertical-align: top;\n",
       "    }\n",
       "\n",
       "    .dataframe thead th {\n",
       "        text-align: right;\n",
       "    }\n",
       "</style>\n",
       "<table border=\"1\" class=\"dataframe\">\n",
       "  <thead>\n",
       "    <tr style=\"text-align: right;\">\n",
       "      <th></th>\n",
       "      <th>0</th>\n",
       "      <th>1</th>\n",
       "      <th>2</th>\n",
       "    </tr>\n",
       "  </thead>\n",
       "  <tbody>\n",
       "    <tr>\n",
       "      <th>0</th>\n",
       "      <td>이이이</td>\n",
       "      <td>여성</td>\n",
       "      <td>27</td>\n",
       "    </tr>\n",
       "    <tr>\n",
       "      <th>1</th>\n",
       "      <td>김김김</td>\n",
       "      <td>남성</td>\n",
       "      <td>30</td>\n",
       "    </tr>\n",
       "    <tr>\n",
       "      <th>2</th>\n",
       "      <td>박박박</td>\n",
       "      <td>여성</td>\n",
       "      <td>40</td>\n",
       "    </tr>\n",
       "  </tbody>\n",
       "</table>\n",
       "</div>"
      ],
      "text/plain": [
       "     0   1   2\n",
       "0  이이이  여성  27\n",
       "1  김김김  남성  30\n",
       "2  박박박  여성  40"
      ]
     },
     "execution_count": 7,
     "metadata": {},
     "output_type": "execute_result"
    }
   ],
   "source": [
    "# 이차원 리스트로 생성\n",
    "data = [\n",
    "    ['이이이', '여성', 27],\n",
    "    ['김김김', '남성', 30],\n",
    "    ['박박박', '여성', 40],\n",
    "]\n",
    "\n",
    "df = pd.DataFrame(data)\n",
    "df"
   ]
  },
  {
   "cell_type": "code",
   "execution_count": 8,
   "id": "f67a4575-704c-4468-855e-ae7c98743e7c",
   "metadata": {},
   "outputs": [
    {
     "data": {
      "text/html": [
       "<div>\n",
       "<style scoped>\n",
       "    .dataframe tbody tr th:only-of-type {\n",
       "        vertical-align: middle;\n",
       "    }\n",
       "\n",
       "    .dataframe tbody tr th {\n",
       "        vertical-align: top;\n",
       "    }\n",
       "\n",
       "    .dataframe thead th {\n",
       "        text-align: right;\n",
       "    }\n",
       "</style>\n",
       "<table border=\"1\" class=\"dataframe\">\n",
       "  <thead>\n",
       "    <tr style=\"text-align: right;\">\n",
       "      <th></th>\n",
       "      <th>이름</th>\n",
       "      <th>성별</th>\n",
       "      <th>나이</th>\n",
       "    </tr>\n",
       "  </thead>\n",
       "  <tbody>\n",
       "    <tr>\n",
       "      <th>0</th>\n",
       "      <td>이이이</td>\n",
       "      <td>여성</td>\n",
       "      <td>27</td>\n",
       "    </tr>\n",
       "    <tr>\n",
       "      <th>1</th>\n",
       "      <td>김김김</td>\n",
       "      <td>남성</td>\n",
       "      <td>30</td>\n",
       "    </tr>\n",
       "    <tr>\n",
       "      <th>2</th>\n",
       "      <td>박박박</td>\n",
       "      <td>여성</td>\n",
       "      <td>40</td>\n",
       "    </tr>\n",
       "  </tbody>\n",
       "</table>\n",
       "</div>"
      ],
      "text/plain": [
       "    이름  성별  나이\n",
       "0  이이이  여성  27\n",
       "1  김김김  남성  30\n",
       "2  박박박  여성  40"
      ]
     },
     "execution_count": 8,
     "metadata": {},
     "output_type": "execute_result"
    }
   ],
   "source": [
    "# 이차원 리스트로 생성 - Column Index 지정\n",
    "\n",
    "df = pd.DataFrame(data, columns=['이름', '성별', '나이'])\n",
    "df"
   ]
  },
  {
   "cell_type": "code",
   "execution_count": 10,
   "id": "ece2dca4-cc2a-4e42-ba86-181c01410f6c",
   "metadata": {},
   "outputs": [
    {
     "data": {
      "text/html": [
       "<div>\n",
       "<style scoped>\n",
       "    .dataframe tbody tr th:only-of-type {\n",
       "        vertical-align: middle;\n",
       "    }\n",
       "\n",
       "    .dataframe tbody tr th {\n",
       "        vertical-align: top;\n",
       "    }\n",
       "\n",
       "    .dataframe thead th {\n",
       "        text-align: right;\n",
       "    }\n",
       "</style>\n",
       "<table border=\"1\" class=\"dataframe\">\n",
       "  <thead>\n",
       "    <tr style=\"text-align: right;\">\n",
       "      <th></th>\n",
       "      <th>이름</th>\n",
       "      <th>성별</th>\n",
       "      <th>나이</th>\n",
       "    </tr>\n",
       "  </thead>\n",
       "  <tbody>\n",
       "    <tr>\n",
       "      <th>0</th>\n",
       "      <td>이이이</td>\n",
       "      <td>여성</td>\n",
       "      <td>27</td>\n",
       "    </tr>\n",
       "    <tr>\n",
       "      <th>1</th>\n",
       "      <td>김김김</td>\n",
       "      <td>남성</td>\n",
       "      <td>30</td>\n",
       "    </tr>\n",
       "    <tr>\n",
       "      <th>2</th>\n",
       "      <td>박박박</td>\n",
       "      <td>여성</td>\n",
       "      <td>40</td>\n",
       "    </tr>\n",
       "  </tbody>\n",
       "</table>\n",
       "</div>"
      ],
      "text/plain": [
       "    이름  성별  나이\n",
       "0  이이이  여성  27\n",
       "1  김김김  남성  30\n",
       "2  박박박  여성  40"
      ]
     },
     "execution_count": 10,
     "metadata": {},
     "output_type": "execute_result"
    }
   ],
   "source": [
    "# 딕셔너리로 생성\n",
    "\n",
    "data = {\n",
    "    '이름' : ['이이이', '김김김', '박박박'],\n",
    "    '성별' : ['여성', '남성', '여성'],\n",
    "    '나이' : [27, 30, 40]\n",
    "}\n",
    "\n",
    "df = pd.DataFrame(data)\n",
    "df"
   ]
  },
  {
   "cell_type": "markdown",
   "id": "138a8a31-7640-42c8-8806-82c004c22715",
   "metadata": {},
   "source": [
    "#### 2-2. 데이터프레임 조회"
   ]
  }
 ],
 "metadata": {
  "kernelspec": {
   "display_name": "Python 3 (ipykernel)",
   "language": "python",
   "name": "python3"
  },
  "language_info": {
   "codemirror_mode": {
    "name": "ipython",
    "version": 3
   },
   "file_extension": ".py",
   "mimetype": "text/x-python",
   "name": "python",
   "nbconvert_exporter": "python",
   "pygments_lexer": "ipython3",
   "version": "3.10.10"
  }
 },
 "nbformat": 4,
 "nbformat_minor": 5
}
