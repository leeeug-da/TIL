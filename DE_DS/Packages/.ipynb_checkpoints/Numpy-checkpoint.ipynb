{
 "cells": [
  {
   "cell_type": "markdown",
   "id": "f58be0b2-700c-4c64-9a5d-83e8f6dfb302",
   "metadata": {},
   "source": [
    "# Numpy"
   ]
  },
  {
   "cell_type": "markdown",
   "id": "1f120187-dd38-47e9-aa6f-792985ac6a3c",
   "metadata": {},
   "source": [
    "*출처 : 파이썬 머신러닝 완벽 가이드 (권철민 저)*"
   ]
  },
  {
   "cell_type": "markdown",
   "id": "f670d359-2975-4ec9-9c50-c2228884cd4d",
   "metadata": {},
   "source": [
    "## Numpy 개요"
   ]
  },
  {
   "cell_type": "markdown",
   "id": "4d9a0469-237c-44f1-bf58-7adaa5794792",
   "metadata": {},
   "source": [
    "### What is Numpy ?"
   ]
  },
  {
   "cell_type": "markdown",
   "id": "23ba0552-a072-4c66-a0b4-0e6607e3934f",
   "metadata": {},
   "source": [
    "- *Numerical Python*의 약자\n",
    "- 파이썬의 대표적인 행렬과 선형대수를 다루는 패키지\n",
    "- 머신러닝의 이론적 백그라운드는 선형대수와 통계로 이루어져 있는데, 사이킷런을 비롯한 많은 머신러닝 패키지가 넘파이 기반으로 되어 있다. "
   ]
  },
  {
   "cell_type": "markdown",
   "id": "1bdfe091-c09c-4377-9c25-5f790cebdeb3",
   "metadata": {},
   "source": [
    "### Why Numpy?"
   ]
  },
  {
   "cell_type": "markdown",
   "id": "886f073e-b417-4f6c-a32a-09c3cd70502c",
   "metadata": {},
   "source": [
    "- 머신러닝 알고리즘이 대부분 넘파이 기반으로 되어있어서.\n",
    "- 이들 알고리즘의 입력/출력 데이터를 **Numpy 배열 타입** 으로 사용하기 때문.\n",
    "- Numpy 의 **배열을 다루는 기본 방식**은 또 다른 중요한 데이터 핸들링 패키지, **Pandas** 를 이해하는 것과도 밀접함."
   ]
  },
  {
   "cell_type": "markdown",
   "id": "d34aa308-bf5a-4a6b-9590-bc7f9022e526",
   "metadata": {},
   "source": [
    "### Numpy의 기본 데이터 배열 | `ndarray`"
   ]
  },
  {
   "cell_type": "markdown",
   "id": "2d84cf85-bf81-4879-a375-3c80f38f1a9a",
   "metadata": {},
   "source": [
    "- Numpy 기반 데이터 배열은 ndarray\n",
    "- ndarray 를 이용해 Numpy에서 다차원 (Multi-dimension) 배열을 쉽게 생성하고, 다양한 연산을 수행 할 수 있다."
   ]
  },
  {
   "cell_type": "markdown",
   "id": "0428d891-7a52-4d8f-83ac-0ecf0f50838e",
   "metadata": {},
   "source": [
    "### Numpy의 기본 데이터 타입"
   ]
  },
  {
   "cell_type": "markdown",
   "id": "15835df0-bd0c-489d-9a3c-d1aacb51c36d",
   "metadata": {},
   "source": [
    "- int, str, bool 등 모두 가능\n",
    "- ndarray내의 데이터 타입은 그 연산의 특성상 **같은 테이터 타입만 가능**\n",
    "- 만약, 다른 데이터 유형이 섞여 있는 리스트를 ndarray로 변환시, **데이터 크기가 더 큰** 데이터 타입으로 **형 변환을 일괄적용** 한다.\n",
    "- 데이터 타입은 `.dtype` 으로 확인 가능"
   ]
  },
  {
   "cell_type": "code",
   "execution_count": 10,
   "id": "0552b806-889d-49e3-86af-06515bb4b3ea",
   "metadata": {},
   "outputs": [
    {
     "name": "stdout",
     "output_type": "stream",
     "text": [
      "['1' '2' 'test'] <U21\n"
     ]
    }
   ],
   "source": [
    "# 다른 데이터 유형의 데이터 크기가 더 큰 데이터 타입으로 형 변환 일곽적용 예시 (1) - int to str\n",
    "list1 = [1, 2, 'test']\n",
    "array1 = np.array(list1)\n",
    "print(array1, array1.dtype)"
   ]
  },
  {
   "cell_type": "code",
   "execution_count": 11,
   "id": "ddf56a4e-420e-488a-8c09-a625607757a4",
   "metadata": {},
   "outputs": [
    {
     "name": "stdout",
     "output_type": "stream",
     "text": [
      "[1.  2.  3.2] float64\n"
     ]
    }
   ],
   "source": [
    "# 다른 데이터 유형의 데이터 크기가 더 큰 데이터 타입으로 형 변환 일곽적용 예시 (2) - int to float\n",
    "list2 = [1, 2, 3.2]\n",
    "array2 = np.array(list2)\n",
    "print(array2, array2.dtype)"
   ]
  },
  {
   "cell_type": "markdown",
   "id": "17d59801-c261-465b-8923-c51a144e9989",
   "metadata": {},
   "source": [
    "## Get into Numpy 👾"
   ]
  },
  {
   "cell_type": "markdown",
   "id": "672f3395-40e9-4157-ba4c-70c187485e39",
   "metadata": {},
   "source": [
    "### **Numpy 불러오기**"
   ]
  },
  {
   "cell_type": "code",
   "execution_count": 1,
   "id": "db299613-6a00-4171-a9b8-b49376c180f2",
   "metadata": {},
   "outputs": [],
   "source": [
    "import numpy as np"
   ]
  },
  {
   "cell_type": "markdown",
   "id": "d5320d0f-c4c9-46c0-896d-09951ef2efdc",
   "metadata": {},
   "source": [
    "### **ndarray 생성** "
   ]
  },
  {
   "cell_type": "markdown",
   "id": "97a83102-77d7-45b4-9fd0-37edf79dfa10",
   "metadata": {
    "jp-MarkdownHeadingCollapsed": true
   },
   "source": [
    "#### **1. `numpy.array()`**"
   ]
  },
  {
   "cell_type": "markdown",
   "id": "5162c728-4d32-4dbc-9f8c-362951f61e94",
   "metadata": {},
   "source": [
    "- `array()` 함수의 인자로는, 기본적으로 파이썬의 **리스트** 객체가 주로 사용됨\n",
    "  - `[]`: 1차원 생성\n",
    "  - `[[]]` : 2차원 생성"
   ]
  },
  {
   "cell_type": "markdown",
   "id": "4fe1eb01-6539-40f8-92e4-d6cba18dad64",
   "metadata": {},
   "source": [
    "##### **1-1. 1차원 array 생성**"
   ]
  },
  {
   "cell_type": "code",
   "execution_count": 6,
   "id": "f795d999-8b19-4548-9073-ec7cbe6f2644",
   "metadata": {},
   "outputs": [
    {
     "name": "stdout",
     "output_type": "stream",
     "text": [
      "[1 2 3]\n",
      "(3,)\n"
     ]
    }
   ],
   "source": [
    "array1 = np.array([1, 2 ,3])\n",
    "print(array1)\n",
    "print(array1.shape)"
   ]
  },
  {
   "cell_type": "markdown",
   "id": "b8ddd45b-b29a-4a7b-bbc3-1d6e6f6b247f",
   "metadata": {},
   "source": [
    "##### **1-2. 2차원 array 생성**\n",
    "* 2차원 데이터부터 *로우* 와 *칼럼* 으로 구성"
   ]
  },
  {
   "cell_type": "code",
   "execution_count": 7,
   "id": "0efea727-a18f-429a-af90-77521f934316",
   "metadata": {},
   "outputs": [
    {
     "name": "stdout",
     "output_type": "stream",
     "text": [
      "[[1 2 3]\n",
      " [4 5 6]]\n",
      "(2, 3)\n"
     ]
    }
   ],
   "source": [
    "array2 = np.array([[1, 2, 3],\n",
    "                  [4, 5, 6]])\n",
    "print(array2)\n",
    "print(array2.shape)"
   ]
  },
  {
   "cell_type": "code",
   "execution_count": 8,
   "id": "33e764da-677a-4c8f-9f07-6c7cbcf56fa4",
   "metadata": {},
   "outputs": [
    {
     "name": "stdout",
     "output_type": "stream",
     "text": [
      "[[1 2 3]]\n",
      "(1, 3)\n"
     ]
    }
   ],
   "source": [
    "array3 = np.array([[1, 2, 3]])\n",
    "print(array3)\n",
    "print(array3.shape)"
   ]
  },
  {
   "cell_type": "markdown",
   "id": "c9e238d5-3e1e-4bca-94eb-1182cdd1af37",
   "metadata": {},
   "source": [
    "#### **2. `numpy.arange()`**"
   ]
  },
  {
   "cell_type": "markdown",
   "id": "821d440f-344e-4720-966f-f1fd0c041de8",
   "metadata": {},
   "source": [
    "#### **3. `numpy.zeros()`**"
   ]
  },
  {
   "cell_type": "markdown",
   "id": "ab495932-b5b3-478a-9706-05e8193d620a",
   "metadata": {},
   "source": [
    "#### **4. `numpy.ones()`**"
   ]
  },
  {
   "cell_type": "markdown",
   "id": "f2d43ebd-26a0-4284-8136-8d0adebfce34",
   "metadata": {},
   "source": [
    "### **데이터 확인**"
   ]
  },
  {
   "cell_type": "markdown",
   "id": "01876789-dec5-4114-a916-605300b95b45",
   "metadata": {},
   "source": [
    "#### **`.shape`**"
   ]
  },
  {
   "cell_type": "markdown",
   "id": "799856f5-530e-4f9d-b7f5-4d4be2c0b5e1",
   "metadata": {},
   "source": [
    "#### **`.dtype`**"
   ]
  },
  {
   "cell_type": "markdown",
   "id": "2100e0ad-b415-4691-a379-ba9de0a1d869",
   "metadata": {},
   "source": [
    "### **데이터 타입/차원 변경**"
   ]
  },
  {
   "cell_type": "markdown",
   "id": "f3f5d3b4-fd91-4b9e-961b-83ebbd2425e1",
   "metadata": {},
   "source": [
    "#### **`.astype('')`**"
   ]
  },
  {
   "cell_type": "markdown",
   "id": "24ae7fc6-ca54-43fb-9321-6237996092a7",
   "metadata": {},
   "source": [
    "#### **`.reshape()`**"
   ]
  },
  {
   "cell_type": "code",
   "execution_count": null,
   "id": "897795b1-b2fc-4bd7-8556-ea0b8f48bfc5",
   "metadata": {},
   "outputs": [],
   "source": []
  }
 ],
 "metadata": {
  "kernelspec": {
   "display_name": "Python 3 (ipykernel)",
   "language": "python",
   "name": "python3"
  },
  "language_info": {
   "codemirror_mode": {
    "name": "ipython",
    "version": 3
   },
   "file_extension": ".py",
   "mimetype": "text/x-python",
   "name": "python",
   "nbconvert_exporter": "python",
   "pygments_lexer": "ipython3",
   "version": "3.10.10"
  }
 },
 "nbformat": 4,
 "nbformat_minor": 5
}
