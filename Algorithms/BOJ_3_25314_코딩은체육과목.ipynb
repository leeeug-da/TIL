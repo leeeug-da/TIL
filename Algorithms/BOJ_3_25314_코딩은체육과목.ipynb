{
 "cells": [
  {
   "attachments": {},
   "cell_type": "markdown",
   "metadata": {},
   "source": [
    "# **BOJ 단계별로 풀어보기** \n",
    "## **📌 3단계 | 25314번 | 코딩은 체육과목 입니다**\n",
    "#### **✔️ 문제**\n",
    "<img src=\"https://u.acmicpc.net/ccbbee06-7e6f-4e56-bb9f-9a1abd795508/long-long-long-img1.png\" width=\"500\" height=\"500\"/>\n",
    "\n",
    "오늘은 혜아의 면접 날이다. 면접 준비를 열심히 해서 앞선 질문들을 잘 대답한 혜아는 이제 마지막으로 칠판에 직접 코딩하는 문제를 받았다. 혜아가 받은 문제는 두 수를 더하는 문제였다. C++ 책을 열심히 읽었던 혜아는 간단히 두 수를 더하는 코드를 칠판에 적었다. 코드를 본 면접관은 다음 질문을 했다. “만약, 입출력이 \n",
    "$N$바이트 크기의 정수라면 프로그램을 어떻게 구현해야 할까요?”\n",
    "\n",
    "혜아는 책에 있는 정수 자료형과 관련된 내용을 기억해 냈다. 책에는 long int는 \n",
    "$4$바이트 정수까지 저장할 수 있는 정수 자료형이고 long long int는 \n",
    "$8$바이트 정수까지 저장할 수 있는 정수 자료형이라고 적혀 있었다. 혜아는 이런 생각이 들었다. “int 앞에 long을 하나씩 더 붙일 때마다 \n",
    "$4$바이트씩 저장할 수 있는 공간이 늘어나는 걸까? 분명 long long long int는 \n",
    "$12$바이트, long long long long int는 \n",
    "$16$바이트까지 저장할 수 있는 정수 자료형일 거야!” 그렇게 혜아는 당황하는 면접관의 얼굴을 뒤로한 채 칠판에 정수 자료형을 써 내려가기 시작했다.\n",
    "\n",
    "혜아가 \n",
    "$N$바이트 정수까지 저장할 수 있다고 생각해서 칠판에 쓴 정수 자료형의 이름은 무엇일까?\n",
    "#### **✔️ 입력**\n",
    "첫 번째 줄에는 문제의 정수 \n",
    "$N$이 주어진다. \n",
    "$(4\\le N\\le 1\\, 000$; \n",
    "$N$은 \n",
    "$4$의 배수\n",
    "$)$ \n",
    "#### **✔️ 출력**\n",
    "혜아가 \n",
    "$N$바이트 정수까지 저장할 수 있다고 생각하는 정수 자료형의 이름을 출력하여라.\n",
    "#### **✔️ 예제 입력 1**\n",
    "4\n",
    "#### **✔️ 예제 출력 1**\n",
    "long int"
   ]
  },
  {
   "cell_type": "code",
   "execution_count": 22,
   "metadata": {},
   "outputs": [
    {
     "name": "stdout",
     "output_type": "stream",
     "text": [
      "4\n",
      "long int\n"
     ]
    }
   ],
   "source": [
    "N = int(input())\n",
    "count = N//4\n",
    "\n",
    "sentence = []\n",
    "for i in range(count):\n",
    "    sentence.append('long')\n",
    "print(' '.join(sentence) + ' int')"
   ]
  },
  {
   "cell_type": "code",
   "execution_count": 23,
   "metadata": {},
   "outputs": [
    {
     "name": "stdout",
     "output_type": "stream",
     "text": [
      "20\n",
      "long long long long long int\n"
     ]
    }
   ],
   "source": [
    "# short ver\n",
    "N = int(input())\n",
    "\n",
    "for i in range(N//4):\n",
    "    print(\"long\", end=\" \")\n",
    "print(\"int\")"
   ]
  }
 ],
 "metadata": {
  "kernelspec": {
   "display_name": "Python 3 (ipykernel)",
   "language": "python",
   "name": "python3"
  },
  "language_info": {
   "codemirror_mode": {
    "name": "ipython",
    "version": 3
   },
   "file_extension": ".py",
   "mimetype": "text/x-python",
   "name": "python",
   "nbconvert_exporter": "python",
   "pygments_lexer": "ipython3",
   "version": "3.11.5"
  }
 },
 "nbformat": 4,
 "nbformat_minor": 4
}
