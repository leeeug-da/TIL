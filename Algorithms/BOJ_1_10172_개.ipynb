{
 "cells": [
  {
   "cell_type": "markdown",
   "metadata": {},
   "source": [
    "# **BOJ 단계별로 풀어보기** \n",
    "## **📌 1단계 | 10172번 | 개**\n",
    "#### **✔️ 문제**\n",
    "아래 예제와 같이 개를 출력하시오.\n",
    "#### **✔️ 입력**\n",
    "없음.\n",
    "#### **✔️ 출력**\n",
    "개를 출력한다.\n",
    "#### **✔️ 예제 입력 1**\n",
    "<br/>\n",
    "\n",
    "#### **✔️ 예제 출력 1**\n",
    "|\\_/| <br/>\n",
    "|q p|   /} <br/>\n",
    "( 0 )\"\"\"\\ <br/> \n",
    "|\"^\"`    | <br/>\n",
    "||_/=\\\\__| <br/>"
   ]
  },
  {
   "cell_type": "code",
   "execution_count": 1,
   "metadata": {},
   "outputs": [
    {
     "name": "stdout",
     "output_type": "stream",
     "text": [
      "|\\_/|\n",
      "|q p|   /}\n",
      "( 0 )\"\"\"\\\n",
      "|\"^\"`    |\n",
      "||_/=\\\\__|\n"
     ]
    }
   ],
   "source": [
    "print('|\\\\_/|')\n",
    "print('|q p|   /}')\n",
    "print('( 0 )\"\"\"\\\\')\n",
    "print('|\"^\"`    |')\n",
    "print('||_/=\\\\\\\\__|')"
   ]
  }
 ],
 "metadata": {
  "kernelspec": {
   "display_name": "Python 3 (ipykernel)",
   "language": "python",
   "name": "python3"
  },
  "language_info": {
   "codemirror_mode": {
    "name": "ipython",
    "version": 3
   },
   "file_extension": ".py",
   "mimetype": "text/x-python",
   "name": "python",
   "nbconvert_exporter": "python",
   "pygments_lexer": "ipython3",
   "version": "3.10.10"
  }
 },
 "nbformat": 4,
 "nbformat_minor": 4
}
