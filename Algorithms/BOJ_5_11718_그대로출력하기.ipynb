{
 "cells": [
  {
   "cell_type": "markdown",
   "metadata": {},
   "source": [
    "# **BOJ 단계별로 풀어보기** \n",
    "## **📌 5단계 | 11718번 | 그대로 출력하기**\n",
    "#### **✔️ 문제**\n",
    "입력 받은 대로 출력하는 프로그램을 작성하시오.\n",
    "#### **✔️ 입력**\n",
    "입력이 주어진다. 입력은 최대 100줄로 이루어져 있고, 알파벳 소문자, 대문자, 공백, 숫자로만 이루어져 있다. 각 줄은 100글자를 넘지 않으며, 빈 줄은 주어지지 않는다. 또, 각 줄은 공백으로 시작하지 않고, 공백으로 끝나지 않는다.\n",
    "#### **✔️ 출력**\n",
    "입력받은 그대로 출력한다.\n",
    "#### **✔️ 예제 입력 1**\n",
    "Hello <br/>\n",
    "Baekjoon <br/>\n",
    "Online Judge <br/>\n",
    "#### **✔️ 예제 출력 1**\n",
    "Hello <br/>\n",
    "Baekjoon <br/>\n",
    "Online Judge <br/>"
   ]
  },
  {
   "cell_type": "code",
   "execution_count": 4,
   "metadata": {},
   "outputs": [
    {
     "name": "stdout",
     "output_type": "stream",
     "text": [
      "Hello\n",
      "Hello\n",
      "Baejkoon\n",
      "Baejkoon\n",
      "Online Judge\n",
      "Online Judge\n",
      "\n",
      "\n"
     ]
    }
   ],
   "source": [
    "while True:\n",
    "    word = input()\n",
    "    print(word)\n",
    "    if word == '':\n",
    "        break"
   ]
  },
  {
   "cell_type": "code",
   "execution_count": 5,
   "metadata": {},
   "outputs": [],
   "source": [
    "# EOFError\n",
    "# while True:\n",
    "#     try:\n",
    "#         print(input())\n",
    "#     except EOFError:\n",
    "#         break"
   ]
  }
 ],
 "metadata": {
  "kernelspec": {
   "display_name": "Python 3 (ipykernel)",
   "language": "python",
   "name": "python3"
  },
  "language_info": {
   "codemirror_mode": {
    "name": "ipython",
    "version": 3
   },
   "file_extension": ".py",
   "mimetype": "text/x-python",
   "name": "python",
   "nbconvert_exporter": "python",
   "pygments_lexer": "ipython3",
   "version": "3.11.5"
  }
 },
 "nbformat": 4,
 "nbformat_minor": 4
}
