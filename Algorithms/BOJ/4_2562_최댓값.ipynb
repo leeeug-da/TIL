{
 "cells": [
  {
   "cell_type": "markdown",
   "metadata": {},
   "source": [
    "# **BOJ 단계별로 풀어보기** \n",
    "## **📌 4단계 | 2562번 | 최댓값**\n",
    "#### **✔️ 문제**\n",
    "9개의 서로 다른 자연수가 주어질 때, 이들 중 최댓값을 찾고 그 최댓값이 몇 번째 수인지를 구하는 프로그램을 작성하시오. <br/>\n",
    "\n",
    "예를 들어, 서로 다른 9개의 자연수 <br/>\n",
    "\n",
    "3, 29, 38, 12, 57, 74, 40, 85, 61 <br/>\n",
    "\n",
    "이 주어지면, 이들 중 최댓값은 85이고, 이 값은 8번째 수이다. <br/>\n",
    "#### **✔️ 입력**\n",
    "첫째 줄부터 아홉 번째 줄까지 한 줄에 하나의 자연수가 주어진다. 주어지는 자연수는 100 보다 작다.\n",
    "#### **✔️ 출력**\n",
    "첫째 줄에 최댓값을 출력하고, 둘째 줄에 최댓값이 몇 번째 수인지를 출력한다.\n",
    "#### **✔️ 예제 입력 1**\n",
    "3 <br/>\n",
    "29 <br/>\n",
    "38 <br/>\n",
    "12 <br/>\n",
    "57 <br/>\n",
    "74 <br/>\n",
    "40 <br/>\n",
    "85 <br/>\n",
    "61 <br/>\n",
    "#### **✔️ 예제 출력 1**\n",
    "85 <br/>\n",
    "8"
   ]
  },
  {
   "cell_type": "code",
   "execution_count": 10,
   "metadata": {},
   "outputs": [
    {
     "name": "stdout",
     "output_type": "stream",
     "text": [
      "3\n",
      "29\n",
      "38\n",
      "12\n",
      "57\n",
      "74\n",
      "40\n",
      "85\n",
      "61\n",
      "85\n",
      "8\n"
     ]
    }
   ],
   "source": [
    "num_list = []\n",
    "for i in range(9):\n",
    "    num = int(input())\n",
    "    num_list.append(num)\n",
    "print(max(num_list))\n",
    "print(num_list.index(max(num_list))+1)"
   ]
  }
 ],
 "metadata": {
  "kernelspec": {
   "display_name": "Python 3 (ipykernel)",
   "language": "python",
   "name": "python3"
  },
  "language_info": {
   "codemirror_mode": {
    "name": "ipython",
    "version": 3
   },
   "file_extension": ".py",
   "mimetype": "text/x-python",
   "name": "python",
   "nbconvert_exporter": "python",
   "pygments_lexer": "ipython3",
   "version": "3.11.5"
  }
 },
 "nbformat": 4,
 "nbformat_minor": 4
}
