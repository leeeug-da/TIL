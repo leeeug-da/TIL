{
 "cells": [
  {
   "cell_type": "markdown",
   "metadata": {},
   "source": [
    "# **BOJ 단계별로 풀어보기** \n",
    "## **📌 5단계 | 2743번 | 단어 길이 재기**\n",
    "#### **✔️ 문제**\n",
    "알파벳으로만 이루어진 단어를 입력받아, 그 길이를 출력하는 프로그램을 작성하시오.\n",
    "#### **✔️ 입력**\n",
    "첫째 줄에 영어 소문자와 대문자로만 이루어진 단어가 주어진다. 단어의 길이는 최대 100이다.\n",
    "#### **✔️ 출력**\n",
    "첫째 줄에 입력으로 주어진 단어의 길이를 출력한다.\n",
    "#### **✔️ 예제 입력 1**\n",
    "pulljima\n",
    "#### **✔️ 예제 출력 1**\n",
    "8"
   ]
  },
  {
   "cell_type": "code",
   "execution_count": 1,
   "metadata": {},
   "outputs": [
    {
     "name": "stdout",
     "output_type": "stream",
     "text": [
      "pulljima\n",
      "8\n"
     ]
    }
   ],
   "source": [
    "word = input()\n",
    "print(len(word))"
   ]
  }
 ],
 "metadata": {
  "kernelspec": {
   "display_name": "Python 3 (ipykernel)",
   "language": "python",
   "name": "python3"
  },
  "language_info": {
   "codemirror_mode": {
    "name": "ipython",
    "version": 3
   },
   "file_extension": ".py",
   "mimetype": "text/x-python",
   "name": "python",
   "nbconvert_exporter": "python",
   "pygments_lexer": "ipython3",
   "version": "3.11.5"
  }
 },
 "nbformat": 4,
 "nbformat_minor": 4
}
