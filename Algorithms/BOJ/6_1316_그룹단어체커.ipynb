{
 "cells": [
  {
   "cell_type": "markdown",
   "metadata": {},
   "source": [
    "# **BOJ 단계별로 풀어보기** \n",
    "## **📌 6단계 | 1316번 | 그룹 단어 체커**\n",
    "#### **✔️ 문제**\n",
    "그룹 단어란 단어에 존재하는 모든 문자에 대해서, 각 문자가 연속해서 나타나는 경우만을 말한다. 예를 들면, ccazzzzbb는 c, a, z, b가 모두 연속해서 나타나고, kin도 k, i, n이 연속해서 나타나기 때문에 그룹 단어이지만, aabbbccb는 b가 떨어져서 나타나기 때문에 그룹 단어가 아니다.\n",
    "\n",
    "단어 N개를 입력으로 받아 그룹 단어의 개수를 출력하는 프로그램을 작성하시오.\n",
    "#### **✔️ 입력**\n",
    "첫째 줄에 단어의 개수 N이 들어온다. N은 100보다 작거나 같은 자연수이다. 둘째 줄부터 N개의 줄에 단어가 들어온다. 단어는 알파벳 소문자로만 되어있고 중복되지 않으며, 길이는 최대 100이다.\n",
    "#### **✔️ 출력**\n",
    "첫째 줄에 그룹 단어의 개수를 출력한다.\n",
    "#### **✔️ 예제 입력 1**\n",
    "3 <br/>\n",
    "happy <br/>\n",
    "new <br/>\n",
    "year <br/>\n",
    "#### **✔️ 예제 출력 1**\n",
    "3"
   ]
  },
  {
   "cell_type": "code",
   "execution_count": 53,
   "metadata": {},
   "outputs": [
    {
     "name": "stdout",
     "output_type": "stream",
     "text": [
      "3\n",
      "happy\n",
      "new\n",
      "year\n",
      "3\n"
     ]
    }
   ],
   "source": [
    "N = int(input())\n",
    "count = N\n",
    "\n",
    "for _ in range(N):\n",
    "    words = input()\n",
    "    for i in range(len(words)-1): \n",
    "        # 바로 다음에 들어오는 문자와 같은지 판별 -> pass\n",
    "        if words[i] == words[i+1]:\n",
    "            pass\n",
    "        # 바로 다음 문자와 같지 않은데, 이미 있는 문자일 경우 \n",
    "        # 단어의 개수 N에서 제외시키기 \n",
    "        elif words[i] in words[i+1:]:\n",
    "            count -= 1\n",
    "            break\n",
    "            \n",
    "print(count)"
   ]
  }
 ],
 "metadata": {
  "kernelspec": {
   "display_name": "Python 3 (ipykernel)",
   "language": "python",
   "name": "python3"
  },
  "language_info": {
   "codemirror_mode": {
    "name": "ipython",
    "version": 3
   },
   "file_extension": ".py",
   "mimetype": "text/x-python",
   "name": "python",
   "nbconvert_exporter": "python",
   "pygments_lexer": "ipython3",
   "version": "3.11.5"
  }
 },
 "nbformat": 4,
 "nbformat_minor": 4
}
