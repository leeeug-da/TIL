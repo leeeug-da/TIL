{
 "cells": [
  {
   "cell_type": "markdown",
   "metadata": {},
   "source": [
    "# **BOJ 단계별로 풀어보기** \n",
    "## **📌 3단계 | 10952번 | A+B-5**\n",
    "#### **✔️ 문제**\n",
    "두 정수 A와 B를 입력받은 다음, A+B를 출력하는 프로그램을 작성하시오.\n",
    "#### **✔️ 입력**\n",
    "입력은 여러 개의 테스트 케이스로 이루어져 있다.\n",
    "\n",
    "각 테스트 케이스는 한 줄로 이루어져 있으며, 각 줄에 A와 B가 주어진다. (0 < A, B < 10)\n",
    "\n",
    "입력의 마지막에는 0 두 개가 들어온다.\n",
    "#### **✔️ 출력**\n",
    "각 테스트 케이스마다 A+B를 출력한다.\n",
    "#### **✔️ 예제 입력 1**\n",
    "1 1 <br/>\n",
    "2 3 <br/>\n",
    "3 4 <br/>\n",
    "9 8 <br/>\n",
    "5 2 <br/>\n",
    "0 0 <br/>\n",
    "#### **✔️ 예제 출력 1**\n",
    "2 <br/>\n",
    "5 <br/>\n",
    "7 <br/>\n",
    "17 <br/>\n",
    "7 <br/>"
   ]
  },
  {
   "cell_type": "code",
   "execution_count": 6,
   "metadata": {},
   "outputs": [
    {
     "name": "stdout",
     "output_type": "stream",
     "text": [
      "1 1\n",
      "2\n",
      "2 3\n",
      "5\n",
      "3 4\n",
      "7\n",
      "9 8\n",
      "17\n",
      "5 2\n",
      "7\n",
      "0 0\n"
     ]
    }
   ],
   "source": [
    "# 테스트 갯수가 정해져 있지 않으니, while 문으로 무한루프를 만들고, 0 0이 들어올 때 break 를 걸어준다. \n",
    "\n",
    "while True:\n",
    "    A, B = map(int, input().split())\n",
    "    if (A==0 and B==0):\n",
    "        break\n",
    "    else:\n",
    "        print(A+B)"
   ]
  }
 ],
 "metadata": {
  "kernelspec": {
   "display_name": "Python 3 (ipykernel)",
   "language": "python",
   "name": "python3"
  },
  "language_info": {
   "codemirror_mode": {
    "name": "ipython",
    "version": 3
   },
   "file_extension": ".py",
   "mimetype": "text/x-python",
   "name": "python",
   "nbconvert_exporter": "python",
   "pygments_lexer": "ipython3",
   "version": "3.11.5"
  }
 },
 "nbformat": 4,
 "nbformat_minor": 4
}
