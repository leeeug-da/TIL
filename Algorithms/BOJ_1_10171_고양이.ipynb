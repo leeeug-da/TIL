{
 "cells": [
  {
   "cell_type": "markdown",
   "metadata": {},
   "source": [
    "# **BOJ 단계별로 풀어보기** \n",
    "## **📌 1단계 | 10171번 | 고양이**\n",
    "#### **✔️ 문제**\n",
    "아래 예제와 같이 고양이를 출력하시오.\n",
    "#### **✔️ 입력**\n",
    "없음.\n",
    "#### **✔️ 출력**\n",
    "고양이를 출력한다.\n",
    "#### **✔️ 예제 입력 1**\n",
    "<br/>\n",
    "\n",
    "#### **✔️ 예제 출력 1**\n",
    "\\    /\\ <br/>\n",
    " )  ( ') <br/>\n",
    "(  /  ) <br/>\n",
    " \\(__)|"
   ]
  },
  {
   "cell_type": "markdown",
   "metadata": {},
   "source": [
    "## **✍️ Study Note**"
   ]
  },
  {
   "cell_type": "markdown",
   "metadata": {},
   "source": [
    "#### **✔️ `\\` 역슬래시**\n",
    "- 역슬래시 `\\` 를 쓸 때는 `\\\\` 이렇게 두 개를 연속으로 적어야 인식이 된다."
   ]
  },
  {
   "cell_type": "code",
   "execution_count": 9,
   "metadata": {},
   "outputs": [
    {
     "name": "stdout",
     "output_type": "stream",
     "text": [
      "\\    /\\\n",
      " )  ( ')\n",
      "(  /  )\n",
      " \\(__)|\n"
     ]
    }
   ],
   "source": [
    "print('\\\\    /\\\\')\n",
    "print(\" )  ( ')\")\n",
    "print('(  /  )')\n",
    "print(' \\\\(__)|')"
   ]
  }
 ],
 "metadata": {
  "kernelspec": {
   "display_name": "Python 3 (ipykernel)",
   "language": "python",
   "name": "python3"
  },
  "language_info": {
   "codemirror_mode": {
    "name": "ipython",
    "version": 3
   },
   "file_extension": ".py",
   "mimetype": "text/x-python",
   "name": "python",
   "nbconvert_exporter": "python",
   "pygments_lexer": "ipython3",
   "version": "3.10.10"
  }
 },
 "nbformat": 4,
 "nbformat_minor": 4
}
