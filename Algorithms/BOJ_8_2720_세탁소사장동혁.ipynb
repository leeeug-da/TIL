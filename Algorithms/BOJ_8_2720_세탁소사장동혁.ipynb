{
 "cells": [
  {
   "cell_type": "markdown",
   "metadata": {},
   "source": [
    "# **BOJ 단계별로 풀어보기** \n",
    "## **📌 8단계 | 2720번 | 세탁소 사장 동혁**\n",
    "#### **✔️ 문제**\n",
    "미국으로 유학간 동혁이는 세탁소를 운영하고 있다. 동혁이는 최근에 아르바이트로 고등학생 리암을 채용했다.\n",
    "\n",
    "동혁이는 리암에게 실망했다.\n",
    "\n",
    "리암은 거스름돈을 주는 것을 자꾸 실수한다.\n",
    "\n",
    "심지어 $0.5달러를 줘야하는 경우에 거스름돈으로 $5달러를 주는것이다!\n",
    "\n",
    "어쩔수 없이 뛰어난 코딩 실력을 발휘해 리암을 도와주는 프로그램을 작성하려고 하지만, 디아블로를 하느라 코딩할 시간이 없어서 이 문제를 읽고 있는 여러분이 대신 해주어야 한다.\n",
    "\n",
    "거스름돈의 액수가 주어지면 리암이 줘야할 쿼터(Quarter, $0.25)의 개수, 다임(Dime, $0.10)의 개수, 니켈(Nickel, $0.05)의 개수, 페니(Penny, $0.01)의 개수를 구하는 프로그램을 작성하시오. 거스름돈은 항상 $5.00 이하이고, 손님이 받는 동전의 개수를 최소로 하려고 한다. 예를 들어, $1.24를 거슬러 주어야 한다면, 손님은 4쿼터, 2다임, 0니켈, 4페니를 받게 된다.\n",
    "#### **✔️ 입력**\n",
    "첫째 줄에 테스트 케이스의 개수 T가 주어진다. 각 테스트 케이스는 거스름돈 C를 나타내는 정수 하나로 이루어져 있다. C의 단위는 센트이다. (1달러 = 100센트) (1<=C<=500)\n",
    "#### **✔️ 출력**\n",
    "각 테스트케이스에 대해 필요한 쿼터의 개수, 다임의 개수, 니켈의 개수, 페니의 개수를 공백으로 구분하여 출력한다.\n",
    "#### **✔️ 예제 입력 1**\n",
    "3 <br/>\n",
    "124 <br/>\n",
    "25 <br/>\n",
    "194 <br/>\n",
    "#### **✔️ 예제 출력 1**\n",
    "4 2 0 4 <br/>\n",
    "1 0 0 0 <br/>\n",
    "7 1 1 4 <br/>"
   ]
  },
  {
   "cell_type": "code",
   "execution_count": 14,
   "metadata": {},
   "outputs": [
    {
     "name": "stdout",
     "output_type": "stream",
     "text": [
      "3\n",
      "124\n",
      "4 2 0 4\n",
      "25\n",
      "1 0 0 0\n",
      "194\n",
      "7 1 1 4\n"
     ]
    }
   ],
   "source": [
    "changes = [25, 10, 5, 1]\n",
    "\n",
    "for _ in range(int(input())):\n",
    "    money = int(input())\n",
    "    answer_list = []\n",
    "    \n",
    "    while money:\n",
    "        for c in changes:\n",
    "            answer = money//c\n",
    "            answer_list.append(answer)\n",
    "            money = money-(c*answer)\n",
    "\n",
    "    print(*answer_list)"
   ]
  },
  {
   "cell_type": "code",
   "execution_count": 16,
   "metadata": {},
   "outputs": [
    {
     "name": "stdout",
     "output_type": "stream",
     "text": [
      "3\n",
      "124\n",
      "4 2 0 4\n",
      "25\n",
      "1 0 0 0\n",
      "194\n",
      "7 1 1 4\n"
     ]
    }
   ],
   "source": [
    "# 조금 더 간단히\n",
    "\n",
    "changes = [25, 10, 5, 1]\n",
    "\n",
    "for _ in range(int(input())):\n",
    "    money = int(input())\n",
    "    answer_list = []\n",
    "    \n",
    "    for c in changes:\n",
    "        answer_list.append(money//c)\n",
    "        money = money % c \n",
    "    \n",
    "    print(*answer_list)"
   ]
  }
 ],
 "metadata": {
  "kernelspec": {
   "display_name": "Python 3 (ipykernel)",
   "language": "python",
   "name": "python3"
  },
  "language_info": {
   "codemirror_mode": {
    "name": "ipython",
    "version": 3
   },
   "file_extension": ".py",
   "mimetype": "text/x-python",
   "name": "python",
   "nbconvert_exporter": "python",
   "pygments_lexer": "ipython3",
   "version": "3.11.5"
  }
 },
 "nbformat": 4,
 "nbformat_minor": 4
}
