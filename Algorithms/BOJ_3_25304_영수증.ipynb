{
 "cells": [
  {
   "cell_type": "markdown",
   "metadata": {},
   "source": [
    "# **BOJ 단계별로 풀어보기** \n",
    "## **📌 3단계 | 25304번 | 영수증**\n",
    "#### **✔️ 문제**\n",
    "준원이는 저번 주에 살면서 처음으로 코스트코를 가 봤다. 정말 멋졌다. 그런데, 몇 개 담지도 않았는데 수상하게 높은 금액이 나오는 것이다! 준원이는 영수증을 보면서 정확하게 계산된 것이 맞는지 확인해보려 한다.\n",
    "\n",
    "영수증에 적힌,\n",
    "\n",
    "- 구매한 각 물건의 가격과 개수\n",
    "- 구매한 물건들의 총 금액\n",
    "\n",
    "을 보고, 구매한 물건의 가격과 개수로 계산한 총 금액이 영수증에 적힌 총 금액과 일치하는지 검사해보자.\n",
    "#### **✔️ 입력**\n",
    "첫째 줄에는 영수증에 적힌 총 금액 \n",
    "$X$가 주어진다.\n",
    "\n",
    "둘째 줄에는 영수증에 적힌 구매한 물건의 종류의 수 \n",
    "$N$이 주어진다.\n",
    "\n",
    "이후 \n",
    "$N$개의 줄에는 각 물건의 가격 \n",
    "$a$와 개수 \n",
    "$b$가 공백을 사이에 두고 주어진다.\n",
    "#### **✔️ 출력**\n",
    "구매한 물건의 가격과 개수로 계산한 총 금액이 영수증에 적힌 총 금액과 일치하면 Yes를 출력한다. 일치하지 않는다면 No를 출력한다.\n",
    "#### **✔️ 예제 입력 1**\n",
    "260000 <br/>\n",
    "4 <br/>\n",
    "20000 5 <br/>\n",
    "30000 2 <br/>\n",
    "10000 6 <br/>\n",
    "5000 8 <br/>\n",
    "#### **✔️ 예제 출력 1**\n",
    "Yes"
   ]
  },
  {
   "cell_type": "code",
   "execution_count": 6,
   "metadata": {},
   "outputs": [
    {
     "name": "stdout",
     "output_type": "stream",
     "text": [
      "260000\n",
      "4\n",
      "20000 5\n",
      "30000 2\n",
      "10000 6\n",
      "5000 8\n",
      "Yes\n"
     ]
    }
   ],
   "source": [
    "total_price = int(input())\n",
    "items_count = int(input())\n",
    "\n",
    "base = 0\n",
    "for i in range(items_count):\n",
    "    price, item = map(int, input().split())\n",
    "    total_item_price = price*item\n",
    "    base += total_item_price\n",
    "\n",
    "if base == total_price:\n",
    "    print('Yes')\n",
    "else:\n",
    "    print('No')"
   ]
  },
  {
   "cell_type": "code",
   "execution_count": 7,
   "metadata": {},
   "outputs": [
    {
     "name": "stdout",
     "output_type": "stream",
     "text": [
      "250000\n",
      "4\n",
      "20000 5\n",
      "30000 2\n",
      "10000 6\n",
      "5000 8\n",
      "No\n"
     ]
    }
   ],
   "source": [
    "total_price = int(input())\n",
    "items_count = int(input())\n",
    "\n",
    "base = 0\n",
    "for i in range(items_count):\n",
    "    price, item = map(int, input().split())\n",
    "    total_item_price = price*item\n",
    "    base += total_item_price\n",
    "\n",
    "if base == total_price:\n",
    "    print('Yes')\n",
    "else:\n",
    "    print('No')"
   ]
  }
 ],
 "metadata": {
  "kernelspec": {
   "display_name": "Python 3 (ipykernel)",
   "language": "python",
   "name": "python3"
  },
  "language_info": {
   "codemirror_mode": {
    "name": "ipython",
    "version": 3
   },
   "file_extension": ".py",
   "mimetype": "text/x-python",
   "name": "python",
   "nbconvert_exporter": "python",
   "pygments_lexer": "ipython3",
   "version": "3.11.5"
  }
 },
 "nbformat": 4,
 "nbformat_minor": 4
}
