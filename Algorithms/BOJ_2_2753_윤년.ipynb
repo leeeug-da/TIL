{
 "cells": [
  {
   "cell_type": "markdown",
   "metadata": {},
   "source": [
    "# **BOJ 단계별로 풀어보기** \n",
    "## **📌 2단계 | 2753번 | 윤년**\n",
    "#### **✔️ 문제**\n",
    "연도가 주어졌을 때, 윤년이면 1, 아니면 0을 출력하는 프로그램을 작성하시오. <br/>\n",
    "윤년은 연도가 4의 배수이면서, 100의 배수가 아닐 때 또는 400의 배수일 때이다. <br/>\n",
    "예를 들어, 2012년은 4의 배수이면서 100의 배수가 아니라서 윤년이다. 1900년은 100의 배수이고 400의 배수는 아니기 때문에 윤년이 아니다. <br/>\n",
    "하지만, 2000년은 400의 배수이기 때문에 윤년이다.\n",
    "#### **✔️ 입력**\n",
    "첫째 줄에 연도가 주어진다. 연도는 1보다 크거나 같고, 4000보다 작거나 같은 자연수이다.\n",
    "#### **✔️ 출력**\n",
    "첫째 줄에 윤년이면 1, 아니면 0을 출력한다.\n",
    "#### **✔️ 예제 입력 1**\n",
    "2000\n",
    "#### **✔️ 예제 출력 1**\n",
    "1"
   ]
  },
  {
   "cell_type": "code",
   "execution_count": 3,
   "metadata": {},
   "outputs": [
    {
     "name": "stdin",
     "output_type": "stream",
     "text": [
      " 1999\n"
     ]
    },
    {
     "name": "stdout",
     "output_type": "stream",
     "text": [
      "0\n"
     ]
    }
   ],
   "source": [
    "year = int(input())\n",
    "\n",
    "if (year % 4 == 0) and (year % 100 != 0) or (year % 400 == 0):\n",
    "    print(1)\n",
    "else:\n",
    "    print(0)"
   ]
  }
 ],
 "metadata": {
  "kernelspec": {
   "display_name": "Python 3 (ipykernel)",
   "language": "python",
   "name": "python3"
  },
  "language_info": {
   "codemirror_mode": {
    "name": "ipython",
    "version": 3
   },
   "file_extension": ".py",
   "mimetype": "text/x-python",
   "name": "python",
   "nbconvert_exporter": "python",
   "pygments_lexer": "ipython3",
   "version": "3.10.10"
  }
 },
 "nbformat": 4,
 "nbformat_minor": 4
}
