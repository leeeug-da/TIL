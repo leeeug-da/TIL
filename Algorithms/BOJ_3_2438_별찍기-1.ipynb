{
 "cells": [
  {
   "cell_type": "markdown",
   "metadata": {},
   "source": [
    "# **BOJ 단계별로 풀어보기** \n",
    "## **📌 3단계 | 2438번 | 별 찍기 - 1**\n",
    "#### **✔️ 문제**\n",
    "첫째 줄에는 별 1개, 둘째 줄에는 별 2개, N번째 줄에는 별 N개를 찍는 문제\n",
    "#### **✔️ 입력**\n",
    "첫째 줄에 N(1 ≤ N ≤ 100)이 주어진다.\n",
    "#### **✔️ 출력**\n",
    "첫째 줄부터 N번째 줄까지 차례대로 별을 출력한다.\n",
    "#### **✔️ 예제 입력 1**\n",
    "5\n",
    "#### **✔️ 예제 출력 1**\n",
    "'*' <br/>\n",
    "** <br/>\n",
    "*** <br/>\n",
    "**** <br/>\n",
    "***** <br/>"
   ]
  },
  {
   "cell_type": "code",
   "execution_count": 3,
   "metadata": {},
   "outputs": [
    {
     "name": "stdout",
     "output_type": "stream",
     "text": [
      "5\n",
      "*\n",
      "**\n",
      "***\n",
      "****\n",
      "*****\n"
     ]
    }
   ],
   "source": [
    "N = int(input())\n",
    "\n",
    "base = ''\n",
    "for i in range(N):\n",
    "    base = base + '*'\n",
    "    print(base)"
   ]
  },
  {
   "cell_type": "code",
   "execution_count": 6,
   "metadata": {},
   "outputs": [
    {
     "name": "stdout",
     "output_type": "stream",
     "text": [
      "5\n",
      "*\n",
      "**\n",
      "***\n",
      "****\n",
      "*****\n"
     ]
    }
   ],
   "source": [
    "# simplified version\n",
    "\n",
    "N = int(input())\n",
    "\n",
    "for i in range(1, N+1):\n",
    "    print('*'*i)"
   ]
  }
 ],
 "metadata": {
  "kernelspec": {
   "display_name": "Python 3 (ipykernel)",
   "language": "python",
   "name": "python3"
  },
  "language_info": {
   "codemirror_mode": {
    "name": "ipython",
    "version": 3
   },
   "file_extension": ".py",
   "mimetype": "text/x-python",
   "name": "python",
   "nbconvert_exporter": "python",
   "pygments_lexer": "ipython3",
   "version": "3.11.5"
  }
 },
 "nbformat": 4,
 "nbformat_minor": 4
}
