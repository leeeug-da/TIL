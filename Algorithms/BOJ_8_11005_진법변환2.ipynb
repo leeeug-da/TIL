{
 "cells": [
  {
   "cell_type": "markdown",
   "metadata": {},
   "source": [
    "# **BOJ 단계별로 풀어보기** \n",
    "## **📌 8단계 | 11005번 | 진법 변환 2**\n",
    "#### **✔️ 문제**\n",
    "10진법 수 N이 주어진다. 이 수를 B진법으로 바꿔 출력하는 프로그램을 작성하시오.\n",
    "\n",
    "10진법을 넘어가는 진법은 숫자로 표시할 수 없는 자리가 있다. 이런 경우에는 다음과 같이 알파벳 대문자를 사용한다.\n",
    "\n",
    "A: 10, B: 11, ..., F: 15, ..., Y: 34, Z: 35\n",
    "#### **✔️ 입력**\n",
    "첫째 줄에 N과 B가 주어진다. (2 ≤ B ≤ 36) N은 10억보다 작거나 같은 자연수이다.\n",
    "#### **✔️ 출력**\n",
    "첫째 줄에 10진법 수 N을 B진법으로 출력한다.\n",
    "#### **✔️ 예제 입력 1**\n",
    "60466175 36\n",
    "#### **✔️ 예제 출력 1**\n",
    "ZZZZZ"
   ]
  },
  {
   "cell_type": "code",
   "execution_count": 8,
   "metadata": {},
   "outputs": [
    {
     "name": "stdout",
     "output_type": "stream",
     "text": [
      "60466175 36\n",
      "ZZZZZ\n"
     ]
    }
   ],
   "source": [
    "# N%B 의 나머지를 더 안나눠질 때 까지 'X'에 저장\n",
    "# 'X'는 numbers에서 인덱스로 찾기  \n",
    "\n",
    "numbers = '0123456789ABCDEFGHIJKLMNOPQRSTUVWXYZ'\n",
    "\n",
    "N, B = map(int, input().split())\n",
    "x = ''\n",
    "\n",
    "while N: # N만큼\n",
    "    x += numbers[N%B]\n",
    "    N = N//B # N을 N%B 의 나머지로 갱신 \n",
    "\n",
    "print(x[::-1])"
   ]
  }
 ],
 "metadata": {
  "kernelspec": {
   "display_name": "Python 3 (ipykernel)",
   "language": "python",
   "name": "python3"
  },
  "language_info": {
   "codemirror_mode": {
    "name": "ipython",
    "version": 3
   },
   "file_extension": ".py",
   "mimetype": "text/x-python",
   "name": "python",
   "nbconvert_exporter": "python",
   "pygments_lexer": "ipython3",
   "version": "3.11.5"
  }
 },
 "nbformat": 4,
 "nbformat_minor": 4
}
