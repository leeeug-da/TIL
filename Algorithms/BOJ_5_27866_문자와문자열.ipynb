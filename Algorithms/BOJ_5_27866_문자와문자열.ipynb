{
 "cells": [
  {
   "attachments": {},
   "cell_type": "markdown",
   "metadata": {},
   "source": [
    "# **BOJ 단계별로 풀어보기** \n",
    "## **📌 5단계 | 27866번 | 문자와 문자열**\n",
    "#### **✔️ 문제**\n",
    "단어 \n",
    "$S$와 정수 \n",
    "$i$가 주어졌을 때, \n",
    "$S$의 \n",
    "$i$번째 글자를 출력하는 프로그램을 작성하시오.\n",
    "#### **✔️ 입력**\n",
    "첫째 줄에 영어 소문자와 대문자로만 이루어진 단어 \n",
    "$S$가 주어진다. 단어의 길이는 최대 \n",
    "$1\\,000$이다.\n",
    "\n",
    "둘째 줄에 정수 \n",
    "$i$가 주어진다. (\n",
    "$1 \\le i \\le \\left|S\\right|$)\n",
    "#### **✔️ 출력**\n",
    "$S$의 \n",
    "$i$번째 글자를 출력한다.\n",
    "#### **✔️ 예제 입력 1**\n",
    "Sprout <br/>\n",
    "3\n",
    "#### **✔️ 예제 출력 1**\n",
    "r"
   ]
  },
  {
   "cell_type": "code",
   "execution_count": 5,
   "metadata": {},
   "outputs": [
    {
     "name": "stdout",
     "output_type": "stream",
     "text": [
      "Sprout\n",
      "3\n",
      "r\n"
     ]
    }
   ],
   "source": [
    "S = input()\n",
    "i = int(input())\n",
    "\n",
    "print(S[i-1])"
   ]
  }
 ],
 "metadata": {
  "kernelspec": {
   "display_name": "Python 3 (ipykernel)",
   "language": "python",
   "name": "python3"
  },
  "language_info": {
   "codemirror_mode": {
    "name": "ipython",
    "version": 3
   },
   "file_extension": ".py",
   "mimetype": "text/x-python",
   "name": "python",
   "nbconvert_exporter": "python",
   "pygments_lexer": "ipython3",
   "version": "3.11.5"
  }
 },
 "nbformat": 4,
 "nbformat_minor": 4
}
