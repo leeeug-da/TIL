{
 "cells": [
  {
   "cell_type": "markdown",
   "metadata": {},
   "source": [
    "# **BOJ 단계별로 풀어보기** \n",
    "## **📌 7단계 | 10798번 | 세로 읽기**\n",
    "#### **✔️ 문제**\n",
    "아직 글을 모르는 영석이가 벽에 걸린 칠판에 자석이 붙어있는 글자들을 붙이는 장난감을 가지고 놀고 있다. \n",
    "\n",
    "이 장난감에 있는 글자들은 영어 대문자 ‘A’부터 ‘Z’, 영어 소문자 ‘a’부터 ‘z’, 숫자 ‘0’부터 ‘9’이다. 영석이는 칠판에 글자들을 수평으로 일렬로 붙여서 단어를 만든다. 다시 그 아래쪽에 글자들을 붙여서 또 다른 단어를 만든다. 이런 식으로 다섯 개의 단어를 만든다. 아래 그림 1은 영석이가 칠판에 붙여 만든 단어들의 예이다. \n",
    "\n",
    "A A B C D D <br/>\n",
    "a f z z <br/>\n",
    "0 9 1 2 1 <br/>\n",
    "a 8 E W g 6 <br/>\n",
    "P 5 h 3 k x <br/>\n",
    "\n",
    "한 줄의 단어는 글자들을 빈칸 없이 연속으로 나열해서 최대 15개의 글자들로 이루어진다. 또한 만들어진 다섯 개의 단어들의 글자 개수는 서로 다를 수 있다. \n",
    "\n",
    "심심해진 영석이는 칠판에 만들어진 다섯 개의 단어를 세로로 읽으려 한다. 세로로 읽을 때, 각 단어의 첫 번째 글자들을 위에서 아래로 세로로 읽는다. 다음에 두 번째 글자들을 세로로 읽는다. 이런 식으로 왼쪽에서 오른쪽으로 한 자리씩 이동 하면서 동일한 자리의 글자들을 세로로 읽어 나간다. 위의 그림 1의 다섯 번째 자리를 보면 두 번째 줄의 다섯 번째 자리의 글자는 없다. 이런 경우처럼 세로로 읽을 때 해당 자리의 글자가 없으면, 읽지 않고 그 다음 글자를 계속 읽는다. 그림 1의 다섯 번째 자리를 세로로 읽으면 D1gk로 읽는다. \n",
    "\n",
    "그림 1에서 영석이가 세로로 읽은 순서대로 글자들을 공백 없이 출력하면 다음과 같다:\n",
    "\n",
    "Aa0aPAf985Bz1EhCz2W3D1gkD6x\n",
    "\n",
    "칠판에 붙여진 단어들이 주어질 때, 영석이가 세로로 읽은 순서대로 글자들을 출력하는 프로그램을 작성하시오.\n",
    "\n",
    "#### **✔️ 입력**\n",
    "총 다섯줄의 입력이 주어진다. 각 줄에는 최소 1개, 최대 15개의 글자들이 빈칸 없이 연속으로 주어진다. 주어지는 글자는 영어 대문자 ‘A’부터 ‘Z’, 영어 소문자 ‘a’부터 ‘z’, 숫자 ‘0’부터 ‘9’ 중 하나이다. 각 줄의 시작과 마지막에 빈칸은 없다.\n",
    "#### **✔️ 출력**\n",
    "영석이가 세로로 읽은 순서대로 글자들을 출력한다. 이때, 글자들을 공백 없이 연속해서 출력한다. \n",
    "#### **✔️ 예제 입력 1**\n",
    "AABCDD <br/>\n",
    "afzz <br/>\n",
    "09121 <br/>\n",
    "a8EWg6 <br/>\n",
    "P5h3kx <br/>\n",
    "#### **✔️ 예제 출력 1**\n",
    "Aa0aPAf985Bz1EhCz2W3D1gkD6x"
   ]
  },
  {
   "cell_type": "code",
   "execution_count": 22,
   "metadata": {},
   "outputs": [
    {
     "name": "stdout",
     "output_type": "stream",
     "text": [
      "AABCDD\n",
      "afzz\n",
      "09121\n",
      "a8EWg6\n",
      "P5h3kx\n",
      "Aa0aPAf985Bz1EhCz2W3D1gkD6x"
     ]
    }
   ],
   "source": [
    "board = []\n",
    "length = []\n",
    "\n",
    "for row in range(5):\n",
    "    words = input()\n",
    "    board.append(words)\n",
    "    length.append(len(words))\n",
    "\n",
    "for i in range(max(length)):  \n",
    "    for j in range(5):\n",
    "        # out of range 방지 - 문자열의 길이보다 col 인덱스가 작을때만 출력\n",
    "        if i < length[j]:\n",
    "            print(board[j][i], end='')"
   ]
  }
 ],
 "metadata": {
  "kernelspec": {
   "display_name": "Python 3 (ipykernel)",
   "language": "python",
   "name": "python3"
  },
  "language_info": {
   "codemirror_mode": {
    "name": "ipython",
    "version": 3
   },
   "file_extension": ".py",
   "mimetype": "text/x-python",
   "name": "python",
   "nbconvert_exporter": "python",
   "pygments_lexer": "ipython3",
   "version": "3.11.5"
  }
 },
 "nbformat": 4,
 "nbformat_minor": 4
}
