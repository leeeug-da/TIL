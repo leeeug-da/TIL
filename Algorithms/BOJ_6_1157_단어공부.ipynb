{
 "cells": [
  {
   "cell_type": "markdown",
   "metadata": {},
   "source": [
    "# **BOJ 단계별로 풀어보기** \n",
    "## **📌 6단계 | 1157번 | 단어 공부**\n",
    "#### **✔️ 문제**\n",
    "알파벳 대소문자로 된 단어가 주어지면, 이 단어에서 가장 많이 사용된 알파벳이 무엇인지 알아내는 프로그램을 작성하시오. 단, 대문자와 소문자를 구분하지 않는다.\n",
    "#### **✔️ 입력**\n",
    "첫째 줄에 알파벳 대소문자로 이루어진 단어가 주어진다. 주어지는 단어의 길이는 1,000,000을 넘지 않는다.\n",
    "#### **✔️ 출력**\n",
    "첫째 줄에 이 단어에서 가장 많이 사용된 알파벳을 대문자로 출력한다. 단, 가장 많이 사용된 알파벳이 여러 개 존재하는 경우에는 ?를 출력한다.\n",
    "#### **✔️ 예제 입력 1**\n",
    "Mississipi\n",
    "#### **✔️ 예제 출력 1**\n",
    "?"
   ]
  },
  {
   "cell_type": "code",
   "execution_count": 45,
   "metadata": {},
   "outputs": [
    {
     "name": "stdout",
     "output_type": "stream",
     "text": [
      "Mississipi\n",
      "?\n"
     ]
    }
   ],
   "source": [
    "word = list(input().upper())\n",
    "counter = []\n",
    "\n",
    "for w in word:\n",
    "    counter.append(word.count(w))\n",
    "\n",
    "if counter.count(max(counter)) > 1:\n",
    "    print('?')\n",
    "else:\n",
    "    print(word[counter.index(max(counter))])"
   ]
  },
  {
   "cell_type": "markdown",
   "metadata": {},
   "source": [
    "위 코드는 아래 코드보다 길이는 더 짧은데, 시간 초과가 나온다 ㅠㅠ <br/>\n",
    "차이점은 받은 input을 따로 set로 만들어 변수에 저장해놓고, 활용하는 것"
   ]
  },
  {
   "cell_type": "code",
   "execution_count": 47,
   "metadata": {},
   "outputs": [
    {
     "name": "stdout",
     "output_type": "stream",
     "text": [
      "Mississipi\n",
      "?\n"
     ]
    }
   ],
   "source": [
    "word = input().upper()\n",
    "word_set = list(set(word))\n",
    "counter = []\n",
    "\n",
    "for w in word_set:\n",
    "    counter.append(word.count(w))\n",
    "\n",
    "if counter.count(max(counter)) > 1:\n",
    "    print('?')\n",
    "else: \n",
    "    print(word_set[counter.index(max(counter))])"
   ]
  }
 ],
 "metadata": {
  "kernelspec": {
   "display_name": "Python 3 (ipykernel)",
   "language": "python",
   "name": "python3"
  },
  "language_info": {
   "codemirror_mode": {
    "name": "ipython",
    "version": 3
   },
   "file_extension": ".py",
   "mimetype": "text/x-python",
   "name": "python",
   "nbconvert_exporter": "python",
   "pygments_lexer": "ipython3",
   "version": "3.11.5"
  }
 },
 "nbformat": 4,
 "nbformat_minor": 4
}
